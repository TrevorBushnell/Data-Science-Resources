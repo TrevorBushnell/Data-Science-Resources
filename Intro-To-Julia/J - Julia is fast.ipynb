{
 "cells": [
  {
   "cell_type": "markdown",
   "metadata": {},
   "source": [
    "# Julia is fast\n",
    "\n",
    "Very often, benchmarks are used to compare languages.  These benchmarks can lead to long discussions, first as to exactly what is being benchmarked and secondly what explains the differences.  These simple questions can sometimes get more complicated than you at first might imagine.\n",
    "\n",
    "The purpose of this notebook is for you to see a simple benchmark for yourself.  One can read the notebook and see what happened on the author's Macbook Pro with a 4-core Intel Core I7, or run the notebook yourself.\n",
    "\n",
    "(This material began life as a wonderful lecture by Steven Johnson at MIT: https://github.com/stevengj/18S096/blob/master/lectures/lecture1/Boxes-and-registers.ipynb.)"
   ]
  },
  {
   "cell_type": "code",
   "execution_count": 1,
   "metadata": {},
   "outputs": [
    {
     "name": "stderr",
     "output_type": "stream",
     "text": [
      "\u001b[32m\u001b[1m    Updating\u001b[22m\u001b[39m registry at `~/.julia/registries/General.toml`\n"
     ]
    },
    {
     "name": "stderr",
     "output_type": "stream",
     "text": [
      "\u001b[32m\u001b[1m   Resolving\u001b[22m\u001b[39m package versions...\n"
     ]
    },
    {
     "name": "stderr",
     "output_type": "stream",
     "text": [
      "\u001b[32m\u001b[1m  No Changes\u001b[22m\u001b[39m to `~/julia-1.7.3/bin/Project.toml`\n",
      "\u001b[32m\u001b[1m  No Changes\u001b[22m\u001b[39m to `~/julia-1.7.3/bin/Manifest.toml`\n"
     ]
    }
   ],
   "source": [
    "using Pkg\n",
    "Pkg.add(\"BenchmarkTools\")\n",
    "using BenchmarkTools"
   ]
  },
  {
   "cell_type": "markdown",
   "metadata": {},
   "source": [
    "# Outline of this notebook\n",
    "\n",
    "- Define the sum function\n",
    "- Implementations & benchmarking of sum in...\n",
    "    - C (hand-written)\n",
    "    - C (hand-written with -ffast-math)\n",
    "    - python (built-in)\n",
    "    - python (numpy)\n",
    "    - python (hand-written)\n",
    "    - Julia (built-in)\n",
    "    - Julia (hand-written)\n",
    "    - Julia (hand-written with SIMD)\n",
    "- Summary of benchmarks"
   ]
  },
  {
   "cell_type": "markdown",
   "metadata": {},
   "source": [
    "# `sum`: An easy enough function to understand"
   ]
  },
  {
   "cell_type": "markdown",
   "metadata": {},
   "source": [
    "Consider the  **sum** function `sum(a)`, which computes\n",
    "$$\n",
    "\\mathrm{sum}(a) = \\sum_{i=1}^n a_i,\n",
    "$$\n",
    "where $n$ is the length of `a`."
   ]
  },
  {
   "cell_type": "code",
   "execution_count": 2,
   "metadata": {},
   "outputs": [
    {
     "data": {
      "text/plain": [
       "10000000-element Vector{Float64}:\n",
       " 0.17131188845808898\n",
       " 0.5763113387433777\n",
       " 0.8653764021594664\n",
       " 0.08877155417095872\n",
       " 0.7611463574346446\n",
       " 0.622168468697174\n",
       " 0.8460312397088229\n",
       " 0.02613244057772801\n",
       " 0.5426364924172316\n",
       " 0.5104427351810089\n",
       " ⋮\n",
       " 0.5844960048993394\n",
       " 0.38096210761593396\n",
       " 0.2029564183978515\n",
       " 0.5967249098590003\n",
       " 0.4484137875129529\n",
       " 0.8896322049370534\n",
       " 0.5595681237738765\n",
       " 0.2906799076796044\n",
       " 0.6721713135476459"
      ]
     },
     "metadata": {},
     "output_type": "display_data"
    }
   ],
   "source": [
    "a = rand(10^7) # 1D vector of random numbers, uniform on [0,1)"
   ]
  },
  {
   "cell_type": "code",
   "execution_count": 3,
   "metadata": {},
   "outputs": [
    {
     "data": {
      "text/plain": [
       "4.999089291305436e6"
      ]
     },
     "metadata": {},
     "output_type": "display_data"
    }
   ],
   "source": [
    "sum(a)"
   ]
  },
  {
   "cell_type": "markdown",
   "metadata": {},
   "source": [
    "The expected result is 0.5 * 10^7, since the mean of each entry is 0.5"
   ]
  },
  {
   "cell_type": "markdown",
   "metadata": {},
   "source": [
    "# Benchmarking a few ways in a few languages"
   ]
  },
  {
   "cell_type": "code",
   "execution_count": 4,
   "metadata": {},
   "outputs": [
    {
     "name": "stdout",
     "output_type": "stream",
     "text": [
      "  0.005177 seconds (1 allocation: 16 bytes)\n"
     ]
    },
    {
     "data": {
      "text/plain": [
       "4.999089291305436e6"
      ]
     },
     "metadata": {},
     "output_type": "display_data"
    }
   ],
   "source": [
    "@time sum(a)"
   ]
  },
  {
   "cell_type": "code",
   "execution_count": 5,
   "metadata": {},
   "outputs": [
    {
     "name": "stdout",
     "output_type": "stream",
     "text": [
      "  0.006842 seconds (1 allocation: 16 bytes)\n"
     ]
    },
    {
     "data": {
      "text/plain": [
       "4.999089291305436e6"
      ]
     },
     "metadata": {},
     "output_type": "display_data"
    }
   ],
   "source": [
    "@time sum(a)"
   ]
  },
  {
   "cell_type": "code",
   "execution_count": 6,
   "metadata": {},
   "outputs": [
    {
     "name": "stdout",
     "output_type": "stream",
     "text": [
      "  0.007389 seconds (1 allocation: 16 bytes)\n"
     ]
    },
    {
     "data": {
      "text/plain": [
       "4.999089291305436e6"
      ]
     },
     "metadata": {},
     "output_type": "display_data"
    }
   ],
   "source": [
    "@time sum(a)"
   ]
  },
  {
   "cell_type": "markdown",
   "metadata": {},
   "source": [
    "The `@time` macro can yield noisy results, so it's not our best choice for benchmarking!\n",
    "\n",
    "Luckily, Julia has a `BenchmarkTools.jl` package to make benchmarking easy and accurate:"
   ]
  },
  {
   "cell_type": "code",
   "execution_count": 7,
   "metadata": {},
   "outputs": [
    {
     "name": "stderr",
     "output_type": "stream",
     "text": [
      "\u001b[32m\u001b[1m   Resolving\u001b[22m\u001b[39m package versions...\n"
     ]
    },
    {
     "name": "stderr",
     "output_type": "stream",
     "text": [
      "\u001b[32m\u001b[1m  No Changes\u001b[22m\u001b[39m to `~/julia-1.7.3/bin/Project.toml`\n",
      "\u001b[32m\u001b[1m  No Changes\u001b[22m\u001b[39m to `~/julia-1.7.3/bin/Manifest.toml`\n"
     ]
    }
   ],
   "source": [
    "using Pkg\n",
    "Pkg.add(\"BenchmarkTools\")"
   ]
  },
  {
   "cell_type": "code",
   "execution_count": 8,
   "metadata": {},
   "outputs": [],
   "source": [
    "using BenchmarkTools  "
   ]
  },
  {
   "cell_type": "markdown",
   "metadata": {},
   "source": [
    "#  1. The C language\n",
    "\n",
    "C is often considered the gold standard: difficult on the human, nice for the machine. Getting within a factor of 2 of C is often satisfying. Nonetheless, even within C, there are many kinds of optimizations possible that a naive C writer may or may not get the advantage of.\n",
    "\n",
    "The current author does not speak C, so he does not read the cell below, but is happy to know that you can put C code in a Julia session, compile it, and run it. Note that the `\"\"\"` wrap a multi-line string."
   ]
  },
  {
   "cell_type": "code",
   "execution_count": 9,
   "metadata": {},
   "outputs": [
    {
     "data": {
      "text/plain": [
       "c_sum (generic function with 1 method)"
      ]
     },
     "metadata": {},
     "output_type": "display_data"
    }
   ],
   "source": [
    "using Libdl\n",
    "C_code = \"\"\"\n",
    "#include <stddef.h>\n",
    "double c_sum(size_t n, double *X) {\n",
    "    double s = 0.0;\n",
    "    for (size_t i = 0; i < n; ++i) {\n",
    "        s += X[i];\n",
    "    }\n",
    "    return s;\n",
    "}\n",
    "\"\"\"\n",
    "\n",
    "const Clib = tempname()   # make a temporary file\n",
    "\n",
    "\n",
    "# compile to a shared library by piping C_code to gcc\n",
    "# (works only if you have gcc installed):\n",
    "\n",
    "open(`gcc -fPIC -O3 -msse3 -xc -shared -o $(Clib * \".\" * Libdl.dlext) -`, \"w\") do f\n",
    "    print(f, C_code) \n",
    "end\n",
    "\n",
    "# define a Julia function that calls the C function:\n",
    "c_sum(X::Array{Float64}) = ccall((\"c_sum\", Clib), Float64, (Csize_t, Ptr{Float64}), length(X), X)"
   ]
  },
  {
   "cell_type": "code",
   "execution_count": 10,
   "metadata": {},
   "outputs": [
    {
     "data": {
      "text/plain": [
       "4.999089291304973e6"
      ]
     },
     "metadata": {},
     "output_type": "display_data"
    }
   ],
   "source": [
    "c_sum(a)"
   ]
  },
  {
   "cell_type": "code",
   "execution_count": 11,
   "metadata": {},
   "outputs": [
    {
     "data": {
      "text/plain": [
       "true"
      ]
     },
     "metadata": {},
     "output_type": "display_data"
    }
   ],
   "source": [
    "c_sum(a) ≈ sum(a) # type \\approx and then <TAB> to get the ≈ symbolb"
   ]
  },
  {
   "cell_type": "code",
   "execution_count": 12,
   "metadata": {},
   "outputs": [
    {
     "data": {
      "text/plain": [
       "-4.628673195838928e-7"
      ]
     },
     "metadata": {},
     "output_type": "display_data"
    }
   ],
   "source": [
    "c_sum(a) - sum(a)"
   ]
  },
  {
   "cell_type": "code",
   "execution_count": 13,
   "metadata": {
    "scrolled": true
   },
   "outputs": [
    {
     "data": {
      "text/plain": [
       "isapprox (generic function with 9 methods)"
      ]
     },
     "metadata": {},
     "output_type": "display_data"
    }
   ],
   "source": [
    "≈  # alias for the `isapprox` function"
   ]
  },
  {
   "cell_type": "markdown",
   "metadata": {},
   "source": [
    "We can now benchmark the C code directly from Julia:"
   ]
  },
  {
   "cell_type": "code",
   "execution_count": 14,
   "metadata": {},
   "outputs": [
    {
     "data": {
      "text/plain": [
       "BenchmarkTools.Trial: 282 samples with 1 evaluation.\n",
       " Range \u001b[90m(\u001b[39m\u001b[36m\u001b[1mmin\u001b[22m\u001b[39m … \u001b[35mmax\u001b[39m\u001b[90m):  \u001b[39m\u001b[36m\u001b[1m12.687 ms\u001b[22m\u001b[39m … \u001b[35m40.505 ms\u001b[39m  \u001b[90m┊\u001b[39m GC \u001b[90m(\u001b[39mmin … max\u001b[90m): \u001b[39m0.00% … 0.00%\n",
       " Time  \u001b[90m(\u001b[39m\u001b[34m\u001b[1mmedian\u001b[22m\u001b[39m\u001b[90m):     \u001b[39m\u001b[34m\u001b[1m17.372 ms              \u001b[22m\u001b[39m\u001b[90m┊\u001b[39m GC \u001b[90m(\u001b[39mmedian\u001b[90m):    \u001b[39m0.00%\n",
       " Time  \u001b[90m(\u001b[39m\u001b[32m\u001b[1mmean\u001b[22m\u001b[39m ± \u001b[32mσ\u001b[39m\u001b[90m):   \u001b[39m\u001b[32m\u001b[1m17.757 ms\u001b[22m\u001b[39m ± \u001b[32m 2.963 ms\u001b[39m  \u001b[90m┊\u001b[39m GC \u001b[90m(\u001b[39mmean ± σ\u001b[90m):  \u001b[39m0.00% ± 0.00%\n",
       "\n",
       "  \u001b[39m \u001b[39m \u001b[39m \u001b[39m \u001b[39m \u001b[39m \u001b[39m \u001b[39m▂\u001b[39m \u001b[39m \u001b[39m▄\u001b[39m \u001b[39m▂\u001b[39m \u001b[39m▄\u001b[39m█\u001b[39m▂\u001b[39m \u001b[39m▃\u001b[39m \u001b[39m▅\u001b[39m▃\u001b[34m \u001b[39m\u001b[39m▄\u001b[32m▁\u001b[39m\u001b[39m \u001b[39m \u001b[39m▄\u001b[39m▁\u001b[39m \u001b[39m \u001b[39m \u001b[39m \u001b[39m \u001b[39m \u001b[39m \u001b[39m▃\u001b[39m \u001b[39m \u001b[39m \u001b[39m \u001b[39m \u001b[39m \u001b[39m \u001b[39m \u001b[39m \u001b[39m \u001b[39m \u001b[39m \u001b[39m \u001b[39m \u001b[39m \u001b[39m \u001b[39m \u001b[39m \u001b[39m \u001b[39m \u001b[39m \u001b[39m \u001b[39m \u001b[39m \n",
       "  \u001b[39m▃\u001b[39m▆\u001b[39m▁\u001b[39m▆\u001b[39m▄\u001b[39m▅\u001b[39m▆\u001b[39m█\u001b[39m▆\u001b[39m▃\u001b[39m█\u001b[39m▇\u001b[39m█\u001b[39m▆\u001b[39m█\u001b[39m█\u001b[39m█\u001b[39m▆\u001b[39m█\u001b[39m▅\u001b[39m█\u001b[39m█\u001b[34m█\u001b[39m\u001b[39m█\u001b[32m█\u001b[39m\u001b[39m▆\u001b[39m▇\u001b[39m█\u001b[39m█\u001b[39m▆\u001b[39m▅\u001b[39m█\u001b[39m▇\u001b[39m▆\u001b[39m▅\u001b[39m▇\u001b[39m█\u001b[39m▆\u001b[39m▆\u001b[39m▆\u001b[39m▇\u001b[39m▄\u001b[39m▅\u001b[39m▁\u001b[39m▄\u001b[39m▄\u001b[39m▄\u001b[39m▁\u001b[39m▃\u001b[39m▁\u001b[39m▃\u001b[39m▁\u001b[39m▃\u001b[39m▁\u001b[39m▁\u001b[39m▁\u001b[39m▃\u001b[39m▃\u001b[39m▃\u001b[39m \u001b[39m▄\n",
       "  12.7 ms\u001b[90m         Histogram: frequency by time\u001b[39m        25.3 ms \u001b[0m\u001b[1m<\u001b[22m\n",
       "\n",
       " Memory estimate\u001b[90m: \u001b[39m\u001b[33m0 bytes\u001b[39m, allocs estimate\u001b[90m: \u001b[39m\u001b[33m0\u001b[39m."
      ]
     },
     "metadata": {},
     "output_type": "display_data"
    }
   ],
   "source": [
    "c_bench = @benchmark c_sum($a)"
   ]
  },
  {
   "cell_type": "code",
   "execution_count": 15,
   "metadata": {},
   "outputs": [
    {
     "name": "stdout",
     "output_type": "stream",
     "text": [
      "C: Fastest time was 12.68685 msec\n"
     ]
    }
   ],
   "source": [
    "println(\"C: Fastest time was $(minimum(c_bench.times) / 1e6) msec\")"
   ]
  },
  {
   "cell_type": "code",
   "execution_count": 16,
   "metadata": {
    "scrolled": true
   },
   "outputs": [
    {
     "data": {
      "text/plain": [
       "Dict{Any, Any} with 1 entry:\n",
       "  \"C\" => 12.6868"
      ]
     },
     "metadata": {},
     "output_type": "display_data"
    }
   ],
   "source": [
    "d = Dict()  # a \"dictionary\", i.e. an associative array\n",
    "d[\"C\"] = minimum(c_bench.times) / 1e6  # in milliseconds\n",
    "d"
   ]
  },
  {
   "cell_type": "code",
   "execution_count": 17,
   "metadata": {
    "scrolled": true
   },
   "outputs": [
    {
     "data": {
      "text/plain": [
       "Plots.GRBackend()"
      ]
     },
     "metadata": {},
     "output_type": "display_data"
    }
   ],
   "source": [
    "using Plots\n",
    "gr()"
   ]
  },
  {
   "cell_type": "code",
   "execution_count": 18,
   "metadata": {},
   "outputs": [
    {
     "data": {
      "image/png": "[encoded data removed]",
      "image/svg+xml": [
       "<?xml version=\"1.0\" encoding=\"utf-8\"?>\n",
       "<svg xmlns=\"http://www.w3.org/2000/svg\" xmlns:xlink=\"http://www.w3.org/1999/xlink\" width=\"600\" height=\"400\" viewBox=\"0 0 2400 1600\">\n",
       "<defs>\n",
       "  <clipPath id=\"clip130\">\n",
       "    <rect x=\"0\" y=\"0\" width=\"2400\" height=\"1600\"/>\n",
       "  </clipPath>\n",
       "</defs>\n",
       "<path clip-path=\"url(#clip130)\" d=\"M0 1600 L2400 1600 L2400 0 L0 0  Z\" fill=\"#ffffff\" fill-rule=\"evenodd\" fill-opacity=\"1\"/>\n",
       "<defs>\n",
       "  <clipPath id=\"clip131\">\n",
       "    <rect x=\"480\" y=\"0\" width=\"1681\" height=\"1600\"/>\n",
       "  </clipPath>\n",
       "</defs>\n",
       "<path clip-path=\"url(#clip130)\" d=\"M174.149 1423.18 L2352.76 1423.18 L2352.76 47.2441 L174.149 47.2441  Z\" fill=\"#ffffff\" fill-rule=\"evenodd\" fill-opacity=\"1\"/>\n",
       "<defs>\n",
       "  <clipPath id=\"clip132\">\n",
       "    <rect x=\"174\" y=\"47\" width=\"2180\" height=\"1377\"/>\n",
       "  </clipPath>\n",
       "</defs>\n",
       "<polyline clip-path=\"url(#clip132)\" style=\"stroke:#000000; stroke-linecap:round; stroke-linejoin:round; stroke-width:2; stroke-opacity:0.1; fill:none\" points=\"410.929,1423.18 410.929,47.2441 \"/>\n",
       "<polyline clip-path=\"url(#clip132)\" style=\"stroke:#000000; stroke-linecap:round; stroke-linejoin:round; stroke-width:2; stroke-opacity:0.1; fill:none\" points=\"777.292,1423.18 777.292,47.2441 \"/>\n",
       "<polyline clip-path=\"url(#clip132)\" style=\"stroke:#000000; stroke-linecap:round; stroke-linejoin:round; stroke-width:2; stroke-opacity:0.1; fill:none\" points=\"1143.65,1423.18 1143.65,47.2441 \"/>\n",
       "<polyline clip-path=\"url(#clip132)\" style=\"stroke:#000000; stroke-linecap:round; stroke-linejoin:round; stroke-width:2; stroke-opacity:0.1; fill:none\" points=\"1510.02,1423.18 1510.02,47.2441 \"/>\n",
       "<polyline clip-path=\"url(#clip132)\" style=\"stroke:#000000; stroke-linecap:round; stroke-linejoin:round; stroke-width:2; stroke-opacity:0.1; fill:none\" points=\"1876.38,1423.18 1876.38,47.2441 \"/>\n",
       "<polyline clip-path=\"url(#clip132)\" style=\"stroke:#000000; stroke-linecap:round; stroke-linejoin:round; stroke-width:2; stroke-opacity:0.1; fill:none\" points=\"2242.74,1423.18 2242.74,47.2441 \"/>\n",
       "<polyline clip-path=\"url(#clip130)\" style=\"stroke:#000000; stroke-linecap:round; stroke-linejoin:round; stroke-width:4; stroke-opacity:1; fill:none\" points=\"174.149,1423.18 2352.76,1423.18 \"/>\n",
       "<polyline clip-path=\"url(#clip130)\" style=\"stroke:#000000; stroke-linecap:round; stroke-linejoin:round; stroke-width:4; stroke-opacity:1; fill:none\" points=\"410.929,1423.18 410.929,1404.28 \"/>\n",
       "<polyline clip-path=\"url(#clip130)\" style=\"stroke:#000000; stroke-linecap:round; stroke-linejoin:round; stroke-width:4; stroke-opacity:1; fill:none\" points=\"777.292,1423.18 777.292,1404.28 \"/>\n",
       "<polyline clip-path=\"url(#clip130)\" style=\"stroke:#000000; stroke-linecap:round; stroke-linejoin:round; stroke-width:4; stroke-opacity:1; fill:none\" points=\"1143.65,1423.18 1143.65,1404.28 \"/>\n",
       "<polyline clip-path=\"url(#clip130)\" style=\"stroke:#000000; stroke-linecap:round; stroke-linejoin:round; stroke-width:4; stroke-opacity:1; fill:none\" points=\"1510.02,1423.18 1510.02,1404.28 \"/>\n",
       "<polyline clip-path=\"url(#clip130)\" style=\"stroke:#000000; stroke-linecap:round; stroke-linejoin:round; stroke-width:4; stroke-opacity:1; fill:none\" points=\"1876.38,1423.18 1876.38,1404.28 \"/>\n",
       "<polyline clip-path=\"url(#clip130)\" style=\"stroke:#000000; stroke-linecap:round; stroke-linejoin:round; stroke-width:4; stroke-opacity:1; fill:none\" points=\"2242.74,1423.18 2242.74,1404.28 \"/>\n",
       "<path clip-path=\"url(#clip130)\" d=\"M363.001 1481.64 L370.64 1481.64 L370.64 1455.28 L362.33 1456.95 L362.33 1452.69 L370.594 1451.02 L375.27 1451.02 L375.27 1481.64 L382.908 1481.64 L382.908 1485.58 L363.001 1485.58 L363.001 1481.64 Z\" fill=\"#000000\" fill-rule=\"nonzero\" fill-opacity=\"1\" /><path clip-path=\"url(#clip130)\" d=\"M406.519 1466.95 Q409.876 1467.66 411.751 1469.93 Q413.649 1472.2 413.649 1475.53 Q413.649 1480.65 410.13 1483.45 Q406.612 1486.25 400.131 1486.25 Q397.955 1486.25 395.64 1485.81 Q393.348 1485.39 390.894 1484.54 L390.894 1480.02 Q392.839 1481.16 395.154 1481.74 Q397.468 1482.32 399.992 1482.32 Q404.39 1482.32 406.681 1480.58 Q408.996 1478.84 408.996 1475.53 Q408.996 1472.48 406.843 1470.77 Q404.714 1469.03 400.894 1469.03 L396.867 1469.03 L396.867 1465.19 L401.08 1465.19 Q404.529 1465.19 406.357 1463.82 Q408.186 1462.43 408.186 1459.84 Q408.186 1457.18 406.288 1455.77 Q404.413 1454.33 400.894 1454.33 Q398.973 1454.33 396.774 1454.75 Q394.575 1455.16 391.936 1456.04 L391.936 1451.88 Q394.598 1451.14 396.913 1450.77 Q399.251 1450.39 401.311 1450.39 Q406.635 1450.39 409.737 1452.83 Q412.839 1455.23 412.839 1459.35 Q412.839 1462.22 411.195 1464.21 Q409.552 1466.18 406.519 1466.95 Z\" fill=\"#000000\" fill-rule=\"nonzero\" fill-opacity=\"1\" /><path clip-path=\"url(#clip130)\" d=\"M422.515 1479.7 L427.399 1479.7 L427.399 1485.58 L422.515 1485.58 L422.515 1479.7 Z\" fill=\"#000000\" fill-rule=\"nonzero\" fill-opacity=\"1\" /><path clip-path=\"url(#clip130)\" d=\"M447.584 1454.1 Q443.973 1454.1 442.144 1457.66 Q440.339 1461.2 440.339 1468.33 Q440.339 1475.44 442.144 1479.01 Q443.973 1482.55 447.584 1482.55 Q451.218 1482.55 453.024 1479.01 Q454.852 1475.44 454.852 1468.33 Q454.852 1461.2 453.024 1457.66 Q451.218 1454.1 447.584 1454.1 M447.584 1450.39 Q453.394 1450.39 456.45 1455 Q459.528 1459.58 459.528 1468.33 Q459.528 1477.06 456.45 1481.67 Q453.394 1486.25 447.584 1486.25 Q441.774 1486.25 438.695 1481.67 Q435.64 1477.06 435.64 1468.33 Q435.64 1459.58 438.695 1455 Q441.774 1450.39 447.584 1450.39 Z\" fill=\"#000000\" fill-rule=\"nonzero\" fill-opacity=\"1\" /><path clip-path=\"url(#clip130)\" d=\"M729.861 1481.64 L737.5 1481.64 L737.5 1455.28 L729.19 1456.95 L729.19 1452.69 L737.454 1451.02 L742.13 1451.02 L742.13 1481.64 L749.769 1481.64 L749.769 1485.58 L729.861 1485.58 L729.861 1481.64 Z\" fill=\"#000000\" fill-rule=\"nonzero\" fill-opacity=\"1\" /><path clip-path=\"url(#clip130)\" d=\"M773.38 1466.95 Q776.736 1467.66 778.611 1469.93 Q780.509 1472.2 780.509 1475.53 Q780.509 1480.65 776.991 1483.45 Q773.472 1486.25 766.991 1486.25 Q764.815 1486.25 762.5 1485.81 Q760.208 1485.39 757.755 1484.54 L757.755 1480.02 Q759.699 1481.16 762.014 1481.74 Q764.329 1482.32 766.852 1482.32 Q771.25 1482.32 773.542 1480.58 Q775.857 1478.84 775.857 1475.53 Q775.857 1472.48 773.704 1470.77 Q771.574 1469.03 767.755 1469.03 L763.727 1469.03 L763.727 1465.19 L767.94 1465.19 Q771.389 1465.19 773.218 1463.82 Q775.046 1462.43 775.046 1459.84 Q775.046 1457.18 773.148 1455.77 Q771.273 1454.33 767.755 1454.33 Q765.833 1454.33 763.634 1454.75 Q761.435 1455.16 758.796 1456.04 L758.796 1451.88 Q761.458 1451.14 763.773 1450.77 Q766.111 1450.39 768.171 1450.39 Q773.495 1450.39 776.597 1452.83 Q779.699 1455.23 779.699 1459.35 Q779.699 1462.22 778.056 1464.21 Q776.412 1466.18 773.38 1466.95 Z\" fill=\"#000000\" fill-rule=\"nonzero\" fill-opacity=\"1\" /><path clip-path=\"url(#clip130)\" d=\"M789.375 1479.7 L794.259 1479.7 L794.259 1485.58 L789.375 1485.58 L789.375 1479.7 Z\" fill=\"#000000\" fill-rule=\"nonzero\" fill-opacity=\"1\" /><path clip-path=\"url(#clip130)\" d=\"M804.491 1451.02 L822.847 1451.02 L822.847 1454.96 L808.773 1454.96 L808.773 1463.43 Q809.792 1463.08 810.81 1462.92 Q811.829 1462.73 812.847 1462.73 Q818.634 1462.73 822.014 1465.9 Q825.393 1469.08 825.393 1474.49 Q825.393 1480.07 821.921 1483.17 Q818.449 1486.25 812.129 1486.25 Q809.954 1486.25 807.685 1485.88 Q805.44 1485.51 803.032 1484.77 L803.032 1480.07 Q805.116 1481.2 807.338 1481.76 Q809.56 1482.32 812.037 1482.32 Q816.041 1482.32 818.379 1480.21 Q820.717 1478.1 820.717 1474.49 Q820.717 1470.88 818.379 1468.77 Q816.041 1466.67 812.037 1466.67 Q810.162 1466.67 808.287 1467.08 Q806.435 1467.5 804.491 1468.38 L804.491 1451.02 Z\" fill=\"#000000\" fill-rule=\"nonzero\" fill-opacity=\"1\" /><path clip-path=\"url(#clip130)\" d=\"M1095.73 1481.64 L1103.37 1481.64 L1103.37 1455.28 L1095.06 1456.95 L1095.06 1452.69 L1103.32 1451.02 L1107.99 1451.02 L1107.99 1481.64 L1115.63 1481.64 L1115.63 1485.58 L1095.73 1485.58 L1095.73 1481.64 Z\" fill=\"#000000\" fill-rule=\"nonzero\" fill-opacity=\"1\" /><path clip-path=\"url(#clip130)\" d=\"M1137.93 1455.09 L1126.12 1473.54 L1137.93 1473.54 L1137.93 1455.09 M1136.7 1451.02 L1142.58 1451.02 L1142.58 1473.54 L1147.51 1473.54 L1147.51 1477.43 L1142.58 1477.43 L1142.58 1485.58 L1137.93 1485.58 L1137.93 1477.43 L1122.32 1477.43 L1122.32 1472.92 L1136.7 1451.02 Z\" fill=\"#000000\" fill-rule=\"nonzero\" fill-opacity=\"1\" /><path clip-path=\"url(#clip130)\" d=\"M1155.24 1479.7 L1160.12 1479.7 L1160.12 1485.58 L1155.24 1485.58 L1155.24 1479.7 Z\" fill=\"#000000\" fill-rule=\"nonzero\" fill-opacity=\"1\" /><path clip-path=\"url(#clip130)\" d=\"M1180.31 1454.1 Q1176.7 1454.1 1174.87 1457.66 Q1173.06 1461.2 1173.06 1468.33 Q1173.06 1475.44 1174.87 1479.01 Q1176.7 1482.55 1180.31 1482.55 Q1183.94 1482.55 1185.75 1479.01 Q1187.58 1475.44 1187.58 1468.33 Q1187.58 1461.2 1185.75 1457.66 Q1183.94 1454.1 1180.31 1454.1 M1180.31 1450.39 Q1186.12 1450.39 1189.17 1455 Q1192.25 1459.58 1192.25 1468.33 Q1192.25 1477.06 1189.17 1481.67 Q1186.12 1486.25 1180.31 1486.25 Q1174.5 1486.25 1171.42 1481.67 Q1168.36 1477.06 1168.36 1468.33 Q1168.36 1459.58 1171.42 1455 Q1174.5 1450.39 1180.31 1450.39 Z\" fill=\"#000000\" fill-rule=\"nonzero\" fill-opacity=\"1\" /><path clip-path=\"url(#clip130)\" d=\"M1462.59 1481.64 L1470.23 1481.64 L1470.23 1455.28 L1461.92 1456.95 L1461.92 1452.69 L1470.18 1451.02 L1474.86 1451.02 L1474.86 1481.64 L1482.49 1481.64 L1482.49 1485.58 L1462.59 1485.58 L1462.59 1481.64 Z\" fill=\"#000000\" fill-rule=\"nonzero\" fill-opacity=\"1\" /><path clip-path=\"url(#clip130)\" d=\"M1504.79 1455.09 L1492.98 1473.54 L1504.79 1473.54 L1504.79 1455.09 M1503.56 1451.02 L1509.44 1451.02 L1509.44 1473.54 L1514.37 1473.54 L1514.37 1477.43 L1509.44 1477.43 L1509.44 1485.58 L1504.79 1485.58 L1504.79 1477.43 L1489.18 1477.43 L1489.18 1472.92 L1503.56 1451.02 Z\" fill=\"#000000\" fill-rule=\"nonzero\" fill-opacity=\"1\" /><path clip-path=\"url(#clip130)\" d=\"M1522.1 1479.7 L1526.98 1479.7 L1526.98 1485.58 L1522.1 1485.58 L1522.1 1479.7 Z\" fill=\"#000000\" fill-rule=\"nonzero\" fill-opacity=\"1\" /><path clip-path=\"url(#clip130)\" d=\"M1537.22 1451.02 L1555.57 1451.02 L1555.57 1454.96 L1541.5 1454.96 L1541.5 1463.43 Q1542.52 1463.08 1543.54 1462.92 Q1544.55 1462.73 1545.57 1462.73 Q1551.36 1462.73 1554.74 1465.9 Q1558.12 1469.08 1558.12 1474.49 Q1558.12 1480.07 1554.65 1483.17 Q1551.17 1486.25 1544.85 1486.25 Q1542.68 1486.25 1540.41 1485.88 Q1538.16 1485.51 1535.76 1484.77 L1535.76 1480.07 Q1537.84 1481.2 1540.06 1481.76 Q1542.29 1482.32 1544.76 1482.32 Q1548.77 1482.32 1551.1 1480.21 Q1553.44 1478.1 1553.44 1474.49 Q1553.44 1470.88 1551.1 1468.77 Q1548.77 1466.67 1544.76 1466.67 Q1542.89 1466.67 1541.01 1467.08 Q1539.16 1467.5 1537.22 1468.38 L1537.22 1451.02 Z\" fill=\"#000000\" fill-rule=\"nonzero\" fill-opacity=\"1\" /><path clip-path=\"url(#clip130)\" d=\"M1828.45 1481.64 L1836.09 1481.64 L1836.09 1455.28 L1827.78 1456.95 L1827.78 1452.69 L1836.04 1451.02 L1840.72 1451.02 L1840.72 1481.64 L1848.36 1481.64 L1848.36 1485.58 L1828.45 1485.58 L1828.45 1481.64 Z\" fill=\"#000000\" fill-rule=\"nonzero\" fill-opacity=\"1\" /><path clip-path=\"url(#clip130)\" d=\"M1857.85 1451.02 L1876.21 1451.02 L1876.21 1454.96 L1862.13 1454.96 L1862.13 1463.43 Q1863.15 1463.08 1864.17 1462.92 Q1865.19 1462.73 1866.21 1462.73 Q1871.99 1462.73 1875.37 1465.9 Q1878.75 1469.08 1878.75 1474.49 Q1878.75 1480.07 1875.28 1483.17 Q1871.81 1486.25 1865.49 1486.25 Q1863.31 1486.25 1861.04 1485.88 Q1858.8 1485.51 1856.39 1484.77 L1856.39 1480.07 Q1858.47 1481.2 1860.7 1481.76 Q1862.92 1482.32 1865.4 1482.32 Q1869.4 1482.32 1871.74 1480.21 Q1874.08 1478.1 1874.08 1474.49 Q1874.08 1470.88 1871.74 1468.77 Q1869.4 1466.67 1865.4 1466.67 Q1863.52 1466.67 1861.65 1467.08 Q1859.79 1467.5 1857.85 1468.38 L1857.85 1451.02 Z\" fill=\"#000000\" fill-rule=\"nonzero\" fill-opacity=\"1\" /><path clip-path=\"url(#clip130)\" d=\"M1887.97 1479.7 L1892.85 1479.7 L1892.85 1485.58 L1887.97 1485.58 L1887.97 1479.7 Z\" fill=\"#000000\" fill-rule=\"nonzero\" fill-opacity=\"1\" /><path clip-path=\"url(#clip130)\" d=\"M1913.03 1454.1 Q1909.42 1454.1 1907.59 1457.66 Q1905.79 1461.2 1905.79 1468.33 Q1905.79 1475.44 1907.59 1479.01 Q1909.42 1482.55 1913.03 1482.55 Q1916.67 1482.55 1918.47 1479.01 Q1920.3 1475.44 1920.3 1468.33 Q1920.3 1461.2 1918.47 1457.66 Q1916.67 1454.1 1913.03 1454.1 M1913.03 1450.39 Q1918.84 1450.39 1921.9 1455 Q1924.98 1459.58 1924.98 1468.33 Q1924.98 1477.06 1921.9 1481.67 Q1918.84 1486.25 1913.03 1486.25 Q1907.22 1486.25 1904.15 1481.67 Q1901.09 1477.06 1901.09 1468.33 Q1901.09 1459.58 1904.15 1455 Q1907.22 1450.39 1913.03 1450.39 Z\" fill=\"#000000\" fill-rule=\"nonzero\" fill-opacity=\"1\" /><path clip-path=\"url(#clip130)\" d=\"M2195.31 1481.64 L2202.95 1481.64 L2202.95 1455.28 L2194.64 1456.95 L2194.64 1452.69 L2202.9 1451.02 L2207.58 1451.02 L2207.58 1481.64 L2215.22 1481.64 L2215.22 1485.58 L2195.31 1485.58 L2195.31 1481.64 Z\" fill=\"#000000\" fill-rule=\"nonzero\" fill-opacity=\"1\" /><path clip-path=\"url(#clip130)\" d=\"M2224.71 1451.02 L2243.07 1451.02 L2243.07 1454.96 L2228.99 1454.96 L2228.99 1463.43 Q2230.01 1463.08 2231.03 1462.92 Q2232.05 1462.73 2233.07 1462.73 Q2238.85 1462.73 2242.23 1465.9 Q2245.61 1469.08 2245.61 1474.49 Q2245.61 1480.07 2242.14 1483.17 Q2238.67 1486.25 2232.35 1486.25 Q2230.17 1486.25 2227.9 1485.88 Q2225.66 1485.51 2223.25 1484.77 L2223.25 1480.07 Q2225.33 1481.2 2227.56 1481.76 Q2229.78 1482.32 2232.26 1482.32 Q2236.26 1482.32 2238.6 1480.21 Q2240.94 1478.1 2240.94 1474.49 Q2240.94 1470.88 2238.6 1468.77 Q2236.26 1466.67 2232.26 1466.67 Q2230.38 1466.67 2228.51 1467.08 Q2226.65 1467.5 2224.71 1468.38 L2224.71 1451.02 Z\" fill=\"#000000\" fill-rule=\"nonzero\" fill-opacity=\"1\" /><path clip-path=\"url(#clip130)\" d=\"M2254.83 1479.7 L2259.71 1479.7 L2259.71 1485.58 L2254.83 1485.58 L2254.83 1479.7 Z\" fill=\"#000000\" fill-rule=\"nonzero\" fill-opacity=\"1\" /><path clip-path=\"url(#clip130)\" d=\"M2269.94 1451.02 L2288.3 1451.02 L2288.3 1454.96 L2274.22 1454.96 L2274.22 1463.43 Q2275.24 1463.08 2276.26 1462.92 Q2277.28 1462.73 2278.3 1462.73 Q2284.08 1462.73 2287.46 1465.9 Q2290.84 1469.08 2290.84 1474.49 Q2290.84 1480.07 2287.37 1483.17 Q2283.9 1486.25 2277.58 1486.25 Q2275.4 1486.25 2273.14 1485.88 Q2270.89 1485.51 2268.48 1484.77 L2268.48 1480.07 Q2270.57 1481.2 2272.79 1481.76 Q2275.01 1482.32 2277.49 1482.32 Q2281.49 1482.32 2283.83 1480.21 Q2286.17 1478.1 2286.17 1474.49 Q2286.17 1470.88 2283.83 1468.77 Q2281.49 1466.67 2277.49 1466.67 Q2275.61 1466.67 2273.74 1467.08 Q2271.89 1467.5 2269.94 1468.38 L2269.94 1451.02 Z\" fill=\"#000000\" fill-rule=\"nonzero\" fill-opacity=\"1\" /><path clip-path=\"url(#clip130)\" d=\"M1094.79 1539.24 Q1096.99 1535.29 1100.04 1533.41 Q1103.1 1531.54 1107.24 1531.54 Q1112.81 1531.54 1115.83 1535.45 Q1118.86 1539.33 1118.86 1546.53 L1118.86 1568.04 L1112.97 1568.04 L1112.97 1546.72 Q1112.97 1541.59 1111.15 1539.11 Q1109.34 1536.63 1105.61 1536.63 Q1101.06 1536.63 1098.42 1539.65 Q1095.78 1542.68 1095.78 1547.9 L1095.78 1568.04 L1089.89 1568.04 L1089.89 1546.72 Q1089.89 1541.56 1088.08 1539.11 Q1086.26 1536.63 1082.48 1536.63 Q1077.99 1536.63 1075.35 1539.68 Q1072.7 1542.71 1072.7 1547.9 L1072.7 1568.04 L1066.82 1568.04 L1066.82 1532.4 L1072.7 1532.4 L1072.7 1537.93 Q1074.71 1534.66 1077.51 1533.1 Q1080.31 1531.54 1084.16 1531.54 Q1088.05 1531.54 1090.75 1533.51 Q1093.49 1535.48 1094.79 1539.24 Z\" fill=\"#000000\" fill-rule=\"nonzero\" fill-opacity=\"1\" /><path clip-path=\"url(#clip130)\" d=\"M1130.54 1532.4 L1136.39 1532.4 L1136.39 1568.04 L1130.54 1568.04 L1130.54 1532.4 M1130.54 1518.52 L1136.39 1518.52 L1136.39 1525.93 L1130.54 1525.93 L1130.54 1518.52 Z\" fill=\"#000000\" fill-rule=\"nonzero\" fill-opacity=\"1\" /><path clip-path=\"url(#clip130)\" d=\"M1148.65 1518.52 L1154.5 1518.52 L1154.5 1568.04 L1148.65 1568.04 L1148.65 1518.52 Z\" fill=\"#000000\" fill-rule=\"nonzero\" fill-opacity=\"1\" /><path clip-path=\"url(#clip130)\" d=\"M1166.76 1518.52 L1172.61 1518.52 L1172.61 1568.04 L1166.76 1568.04 L1166.76 1518.52 Z\" fill=\"#000000\" fill-rule=\"nonzero\" fill-opacity=\"1\" /><path clip-path=\"url(#clip130)\" d=\"M1184.87 1532.4 L1190.72 1532.4 L1190.72 1568.04 L1184.87 1568.04 L1184.87 1532.4 M1184.87 1518.52 L1190.72 1518.52 L1190.72 1525.93 L1184.87 1525.93 L1184.87 1518.52 Z\" fill=\"#000000\" fill-rule=\"nonzero\" fill-opacity=\"1\" /><path clip-path=\"url(#clip130)\" d=\"M1225.7 1533.45 L1225.7 1538.98 Q1223.22 1537.71 1220.55 1537.07 Q1217.87 1536.44 1215.01 1536.44 Q1210.65 1536.44 1208.45 1537.77 Q1206.29 1539.11 1206.29 1541.79 Q1206.29 1543.82 1207.85 1545 Q1209.41 1546.15 1214.12 1547.2 L1216.12 1547.64 Q1222.36 1548.98 1224.97 1551.43 Q1227.61 1553.85 1227.61 1558.21 Q1227.61 1563.17 1223.67 1566.07 Q1219.75 1568.97 1212.88 1568.97 Q1210.01 1568.97 1206.89 1568.39 Q1203.81 1567.85 1200.37 1566.74 L1200.37 1560.69 Q1203.61 1562.38 1206.77 1563.24 Q1209.92 1564.07 1213 1564.07 Q1217.14 1564.07 1219.37 1562.66 Q1221.6 1561.23 1221.6 1558.65 Q1221.6 1556.27 1219.97 1554.99 Q1218.38 1553.72 1212.94 1552.54 L1210.9 1552.07 Q1205.46 1550.92 1203.04 1548.56 Q1200.62 1546.18 1200.62 1542.04 Q1200.62 1537.01 1204.19 1534.27 Q1207.75 1531.54 1214.31 1531.54 Q1217.56 1531.54 1220.42 1532.01 Q1223.28 1532.49 1225.7 1533.45 Z\" fill=\"#000000\" fill-rule=\"nonzero\" fill-opacity=\"1\" /><path clip-path=\"url(#clip130)\" d=\"M1267.43 1548.76 L1267.43 1551.62 L1240.5 1551.62 Q1240.89 1557.67 1244.13 1560.85 Q1247.41 1564 1253.24 1564 Q1256.61 1564 1259.76 1563.17 Q1262.94 1562.35 1266.06 1560.69 L1266.06 1566.23 Q1262.91 1567.57 1259.6 1568.27 Q1256.29 1568.97 1252.89 1568.97 Q1244.36 1568.97 1239.36 1564 Q1234.39 1559.04 1234.39 1550.57 Q1234.39 1541.82 1239.1 1536.69 Q1243.85 1531.54 1251.87 1531.54 Q1259.06 1531.54 1263.23 1536.18 Q1267.43 1540.8 1267.43 1548.76 M1261.57 1547.04 Q1261.51 1542.23 1258.87 1539.37 Q1256.26 1536.5 1251.93 1536.5 Q1247.03 1536.5 1244.07 1539.27 Q1241.14 1542.04 1240.7 1547.07 L1261.57 1547.04 Z\" fill=\"#000000\" fill-rule=\"nonzero\" fill-opacity=\"1\" /><path clip-path=\"url(#clip130)\" d=\"M1302.7 1533.76 L1302.7 1539.24 Q1300.21 1537.87 1297.7 1537.2 Q1295.22 1536.5 1292.67 1536.5 Q1286.97 1536.5 1283.82 1540.13 Q1280.67 1543.73 1280.67 1550.25 Q1280.67 1556.78 1283.82 1560.4 Q1286.97 1564 1292.67 1564 Q1295.22 1564 1297.7 1563.33 Q1300.21 1562.63 1302.7 1561.26 L1302.7 1566.68 Q1300.25 1567.82 1297.6 1568.39 Q1294.99 1568.97 1292.03 1568.97 Q1283.98 1568.97 1279.24 1563.91 Q1274.5 1558.85 1274.5 1550.25 Q1274.5 1541.53 1279.27 1536.53 Q1284.08 1531.54 1292.42 1531.54 Q1295.12 1531.54 1297.7 1532.11 Q1300.28 1532.65 1302.7 1533.76 Z\" fill=\"#000000\" fill-rule=\"nonzero\" fill-opacity=\"1\" /><path clip-path=\"url(#clip130)\" d=\"M1326.7 1536.5 Q1321.99 1536.5 1319.25 1540.19 Q1316.51 1543.85 1316.51 1550.25 Q1316.51 1556.65 1319.22 1560.34 Q1321.95 1564 1326.7 1564 Q1331.37 1564 1334.11 1560.31 Q1336.85 1556.62 1336.85 1550.25 Q1336.85 1543.92 1334.11 1540.23 Q1331.37 1536.5 1326.7 1536.5 M1326.7 1531.54 Q1334.33 1531.54 1338.7 1536.5 Q1343.06 1541.47 1343.06 1550.25 Q1343.06 1559 1338.7 1564 Q1334.33 1568.97 1326.7 1568.97 Q1319.03 1568.97 1314.66 1564 Q1310.34 1559 1310.34 1550.25 Q1310.34 1541.47 1314.66 1536.5 Q1319.03 1531.54 1326.7 1531.54 Z\" fill=\"#000000\" fill-rule=\"nonzero\" fill-opacity=\"1\" /><path clip-path=\"url(#clip130)\" d=\"M1382.4 1546.53 L1382.4 1568.04 L1376.54 1568.04 L1376.54 1546.72 Q1376.54 1541.66 1374.57 1539.14 Q1372.59 1536.63 1368.65 1536.63 Q1363.9 1536.63 1361.17 1539.65 Q1358.43 1542.68 1358.43 1547.9 L1358.43 1568.04 L1352.54 1568.04 L1352.54 1532.4 L1358.43 1532.4 L1358.43 1537.93 Q1360.53 1534.72 1363.36 1533.13 Q1366.23 1531.54 1369.95 1531.54 Q1376.09 1531.54 1379.24 1535.36 Q1382.4 1539.14 1382.4 1546.53 Z\" fill=\"#000000\" fill-rule=\"nonzero\" fill-opacity=\"1\" /><path clip-path=\"url(#clip130)\" d=\"M1417.53 1537.81 L1417.53 1518.52 L1423.39 1518.52 L1423.39 1568.04 L1417.53 1568.04 L1417.53 1562.7 Q1415.69 1565.88 1412.86 1567.44 Q1410.05 1568.97 1406.11 1568.97 Q1399.65 1568.97 1395.57 1563.81 Q1391.53 1558.65 1391.53 1550.25 Q1391.53 1541.85 1395.57 1536.69 Q1399.65 1531.54 1406.11 1531.54 Q1410.05 1531.54 1412.86 1533.1 Q1415.69 1534.62 1417.53 1537.81 M1397.58 1550.25 Q1397.58 1556.71 1400.22 1560.4 Q1402.89 1564.07 1407.54 1564.07 Q1412.19 1564.07 1414.86 1560.4 Q1417.53 1556.71 1417.53 1550.25 Q1417.53 1543.79 1414.86 1540.13 Q1412.19 1536.44 1407.54 1536.44 Q1402.89 1536.44 1400.22 1540.13 Q1397.58 1543.79 1397.58 1550.25 Z\" fill=\"#000000\" fill-rule=\"nonzero\" fill-opacity=\"1\" /><path clip-path=\"url(#clip130)\" d=\"M1458.18 1533.45 L1458.18 1538.98 Q1455.7 1537.71 1453.02 1537.07 Q1450.35 1536.44 1447.48 1536.44 Q1443.12 1536.44 1440.93 1537.77 Q1438.76 1539.11 1438.76 1541.79 Q1438.76 1543.82 1440.32 1545 Q1441.88 1546.15 1446.59 1547.2 L1448.6 1547.64 Q1454.84 1548.98 1457.45 1551.43 Q1460.09 1553.85 1460.09 1558.21 Q1460.09 1563.17 1456.14 1566.07 Q1452.23 1568.97 1445.35 1568.97 Q1442.49 1568.97 1439.37 1568.39 Q1436.28 1567.85 1432.84 1566.74 L1432.84 1560.69 Q1436.09 1562.38 1439.24 1563.24 Q1442.39 1564.07 1445.48 1564.07 Q1449.62 1564.07 1451.85 1562.66 Q1454.07 1561.23 1454.07 1558.65 Q1454.07 1556.27 1452.45 1554.99 Q1450.86 1553.72 1445.42 1552.54 L1443.38 1552.07 Q1437.94 1550.92 1435.52 1548.56 Q1433.1 1546.18 1433.1 1542.04 Q1433.1 1537.01 1436.66 1534.27 Q1440.23 1531.54 1446.78 1531.54 Q1450.03 1531.54 1452.9 1532.01 Q1455.76 1532.49 1458.18 1533.45 Z\" fill=\"#000000\" fill-rule=\"nonzero\" fill-opacity=\"1\" /><polyline clip-path=\"url(#clip132)\" style=\"stroke:#000000; stroke-linecap:round; stroke-linejoin:round; stroke-width:2; stroke-opacity:0.1; fill:none\" points=\"174.149,1423.18 2352.76,1423.18 \"/>\n",
       "<polyline clip-path=\"url(#clip132)\" style=\"stroke:#000000; stroke-linecap:round; stroke-linejoin:round; stroke-width:2; stroke-opacity:0.1; fill:none\" points=\"174.149,964.535 2352.76,964.535 \"/>\n",
       "<polyline clip-path=\"url(#clip132)\" style=\"stroke:#000000; stroke-linecap:round; stroke-linejoin:round; stroke-width:2; stroke-opacity:0.1; fill:none\" points=\"174.149,505.889 2352.76,505.889 \"/>\n",
       "<polyline clip-path=\"url(#clip132)\" style=\"stroke:#000000; stroke-linecap:round; stroke-linejoin:round; stroke-width:2; stroke-opacity:0.1; fill:none\" points=\"174.149,47.2441 2352.76,47.2441 \"/>\n",
       "<polyline clip-path=\"url(#clip130)\" style=\"stroke:#000000; stroke-linecap:round; stroke-linejoin:round; stroke-width:4; stroke-opacity:1; fill:none\" points=\"174.149,1423.18 174.149,47.2441 \"/>\n",
       "<polyline clip-path=\"url(#clip130)\" style=\"stroke:#000000; stroke-linecap:round; stroke-linejoin:round; stroke-width:4; stroke-opacity:1; fill:none\" points=\"174.149,1423.18 193.047,1423.18 \"/>\n",
       "<polyline clip-path=\"url(#clip130)\" style=\"stroke:#000000; stroke-linecap:round; stroke-linejoin:round; stroke-width:4; stroke-opacity:1; fill:none\" points=\"174.149,964.535 193.047,964.535 \"/>\n",
       "<polyline clip-path=\"url(#clip130)\" style=\"stroke:#000000; stroke-linecap:round; stroke-linejoin:round; stroke-width:4; stroke-opacity:1; fill:none\" points=\"174.149,505.889 193.047,505.889 \"/>\n",
       "<polyline clip-path=\"url(#clip130)\" style=\"stroke:#000000; stroke-linecap:round; stroke-linejoin:round; stroke-width:4; stroke-opacity:1; fill:none\" points=\"174.149,47.2441 193.047,47.2441 \"/>\n",
       "<path clip-path=\"url(#clip130)\" d=\"M126.205 1408.98 Q122.593 1408.98 120.765 1412.54 Q118.959 1416.08 118.959 1423.21 Q118.959 1430.32 120.765 1433.89 Q122.593 1437.43 126.205 1437.43 Q129.839 1437.43 131.644 1433.89 Q133.473 1430.32 133.473 1423.21 Q133.473 1416.08 131.644 1412.54 Q129.839 1408.98 126.205 1408.98 M126.205 1405.27 Q132.015 1405.27 135.07 1409.88 Q138.149 1414.46 138.149 1423.21 Q138.149 1431.94 135.07 1436.55 Q132.015 1441.13 126.205 1441.13 Q120.394 1441.13 117.316 1436.55 Q114.26 1431.94 114.26 1423.21 Q114.26 1414.46 117.316 1409.88 Q120.394 1405.27 126.205 1405.27 Z\" fill=\"#000000\" fill-rule=\"nonzero\" fill-opacity=\"1\" /><path clip-path=\"url(#clip130)\" d=\"M131.019 963.18 Q134.376 963.898 136.251 966.167 Q138.149 968.435 138.149 971.768 Q138.149 976.884 134.63 979.685 Q131.112 982.486 124.63 982.486 Q122.455 982.486 120.14 982.046 Q117.848 981.629 115.394 980.773 L115.394 976.259 Q117.339 977.393 119.654 977.972 Q121.968 978.551 124.492 978.551 Q128.89 978.551 131.181 976.815 Q133.496 975.079 133.496 971.768 Q133.496 968.713 131.343 967 Q129.214 965.264 125.394 965.264 L121.367 965.264 L121.367 961.421 L125.58 961.421 Q129.029 961.421 130.857 960.055 Q132.686 958.667 132.686 956.074 Q132.686 953.412 130.788 952 Q128.913 950.565 125.394 950.565 Q123.473 950.565 121.274 950.981 Q119.075 951.398 116.436 952.278 L116.436 948.111 Q119.098 947.37 121.413 947 Q123.751 946.63 125.811 946.63 Q131.135 946.63 134.237 949.06 Q137.339 951.468 137.339 955.588 Q137.339 958.458 135.695 960.449 Q134.052 962.417 131.019 963.18 Z\" fill=\"#000000\" fill-rule=\"nonzero\" fill-opacity=\"1\" /><path clip-path=\"url(#clip130)\" d=\"M126.621 504.026 Q123.473 504.026 121.621 506.179 Q119.793 508.331 119.793 512.081 Q119.793 515.808 121.621 517.984 Q123.473 520.137 126.621 520.137 Q129.769 520.137 131.598 517.984 Q133.45 515.808 133.45 512.081 Q133.45 508.331 131.598 506.179 Q129.769 504.026 126.621 504.026 M135.904 489.373 L135.904 493.632 Q134.144 492.799 132.339 492.359 Q130.556 491.92 128.797 491.92 Q124.168 491.92 121.714 495.044 Q119.283 498.169 118.936 504.489 Q120.302 502.475 122.362 501.41 Q124.422 500.322 126.899 500.322 Q132.107 500.322 135.117 503.494 Q138.149 506.642 138.149 512.081 Q138.149 517.405 135.001 520.623 Q131.853 523.841 126.621 523.841 Q120.626 523.841 117.455 519.257 Q114.283 514.651 114.283 505.924 Q114.283 497.73 118.172 492.869 Q122.061 487.984 128.612 487.984 Q130.371 487.984 132.154 488.332 Q133.959 488.679 135.904 489.373 Z\" fill=\"#000000\" fill-rule=\"nonzero\" fill-opacity=\"1\" /><path clip-path=\"url(#clip130)\" d=\"M116.529 63.8065 L116.529 59.5473 Q118.288 60.3806 120.093 60.8204 Q121.899 61.2602 123.635 61.2602 Q128.265 61.2602 130.695 58.1584 Q133.149 55.0334 133.496 48.6908 Q132.154 50.6816 130.093 51.7464 Q128.033 52.8112 125.533 52.8112 Q120.348 52.8112 117.316 49.6862 Q114.306 46.5381 114.306 41.0983 Q114.306 35.7742 117.455 32.5567 Q120.603 29.3391 125.834 29.3391 Q131.83 29.3391 134.978 33.9456 Q138.149 38.5289 138.149 47.2788 Q138.149 55.4501 134.26 60.3343 Q130.394 65.1954 123.843 65.1954 Q122.084 65.1954 120.279 64.8482 Q118.473 64.5009 116.529 63.8065 M125.834 49.1538 Q128.982 49.1538 130.811 47.001 Q132.663 44.8483 132.663 41.0983 Q132.663 37.3715 130.811 35.2187 Q128.982 33.0428 125.834 33.0428 Q122.686 33.0428 120.834 35.2187 Q119.006 37.3715 119.006 41.0983 Q119.006 44.8483 120.834 47.001 Q122.686 49.1538 125.834 49.1538 Z\" fill=\"#000000\" fill-rule=\"nonzero\" fill-opacity=\"1\" /><path clip-path=\"url(#clip130)\" d=\"M29.7248 796.386 L35.1993 796.386 Q33.8307 798.869 33.1623 801.383 Q32.4621 803.866 32.4621 806.412 Q32.4621 812.11 36.0905 815.261 Q39.6872 818.412 46.212 818.412 Q52.7369 818.412 56.3653 815.261 Q59.9619 812.11 59.9619 806.412 Q59.9619 803.866 59.2935 801.383 Q58.5933 798.869 57.2247 796.386 L62.6355 796.386 Q63.7814 798.837 64.3543 801.479 Q64.9272 804.089 64.9272 807.049 Q64.9272 815.102 59.8664 819.844 Q54.8057 824.586 46.212 824.586 Q37.491 824.586 32.4939 819.812 Q27.4968 815.006 27.4968 806.667 Q27.4968 803.962 28.0697 801.383 Q28.6108 798.805 29.7248 796.386 Z\" fill=\"#000000\" fill-rule=\"nonzero\" fill-opacity=\"1\" /><path clip-path=\"url(#clip130)\" d=\"M32.4621 772.388 Q32.4621 777.098 36.1542 779.836 Q39.8145 782.573 46.212 782.573 Q52.6095 782.573 56.3017 779.867 Q59.9619 777.13 59.9619 772.388 Q59.9619 767.709 56.2698 764.972 Q52.5777 762.234 46.212 762.234 Q39.8781 762.234 36.186 764.972 Q32.4621 767.709 32.4621 772.388 M27.4968 772.388 Q27.4968 764.749 32.4621 760.388 Q37.4273 756.028 46.212 756.028 Q54.9649 756.028 59.9619 760.388 Q64.9272 764.749 64.9272 772.388 Q64.9272 780.058 59.9619 784.419 Q54.9649 788.748 46.212 788.748 Q37.4273 788.748 32.4621 784.419 Q27.4968 780.058 27.4968 772.388 Z\" fill=\"#000000\" fill-rule=\"nonzero\" fill-opacity=\"1\" /><path clip-path=\"url(#clip130)\" d=\"M49.9359 746.925 L28.3562 746.925 L28.3562 741.068 L49.7131 741.068 Q54.7739 741.068 57.3202 739.095 Q59.8346 737.122 59.8346 733.175 Q59.8346 728.432 56.8109 725.695 Q53.7872 722.926 48.5673 722.926 L28.3562 722.926 L28.3562 717.07 L64.0042 717.07 L64.0042 722.926 L58.5296 722.926 Q61.7762 725.059 63.3676 727.891 Q64.9272 730.692 64.9272 734.416 Q64.9272 740.559 61.1078 743.742 Q57.2883 746.925 49.9359 746.925 M27.4968 732.188 L27.4968 732.188 Z\" fill=\"#000000\" fill-rule=\"nonzero\" fill-opacity=\"1\" /><path clip-path=\"url(#clip130)\" d=\"M42.4881 675.374 L64.0042 675.374 L64.0042 681.231 L42.679 681.231 Q37.6183 681.231 35.1038 683.204 Q32.5894 685.178 32.5894 689.124 Q32.5894 693.867 35.6131 696.604 Q38.6368 699.341 43.8567 699.341 L64.0042 699.341 L64.0042 705.229 L28.3562 705.229 L28.3562 699.341 L33.8944 699.341 Q30.6797 697.241 29.0883 694.408 Q27.4968 691.543 27.4968 687.819 Q27.4968 681.676 31.3163 678.525 Q35.1038 675.374 42.4881 675.374 Z\" fill=\"#000000\" fill-rule=\"nonzero\" fill-opacity=\"1\" /><path clip-path=\"url(#clip130)\" d=\"M18.2347 657.9 L28.3562 657.9 L28.3562 645.837 L32.9077 645.837 L32.9077 657.9 L52.2594 657.9 Q56.6199 657.9 57.8613 656.723 Q59.1026 655.513 59.1026 651.853 L59.1026 645.837 L64.0042 645.837 L64.0042 651.853 Q64.0042 658.633 61.4897 661.211 Q58.9434 663.789 52.2594 663.789 L32.9077 663.789 L32.9077 668.086 L28.3562 668.086 L28.3562 663.789 L18.2347 663.789 L18.2347 657.9 Z\" fill=\"#000000\" fill-rule=\"nonzero\" fill-opacity=\"1\" /><path clip-path=\"url(#clip132)\" d=\"M117.839 1270.3 L117.839 1423.18 L191.112 1423.18 L191.112 1270.3 L117.839 1270.3 L117.839 1270.3  Z\" fill=\"#009af9\" fill-rule=\"evenodd\" fill-opacity=\"1\"/>\n",
       "<polyline clip-path=\"url(#clip132)\" style=\"stroke:#000000; stroke-linecap:round; stroke-linejoin:round; stroke-width:4; stroke-opacity:1; fill:none\" points=\"117.839,1270.3 117.839,1423.18 191.112,1423.18 191.112,1270.3 117.839,1270.3 \"/>\n",
       "<path clip-path=\"url(#clip132)\" d=\"M191.112 1423.18 L191.112 1423.18 L264.384 1423.18 L264.384 1423.18 L191.112 1423.18 L191.112 1423.18  Z\" fill=\"#009af9\" fill-rule=\"evenodd\" fill-opacity=\"1\"/>\n",
       "<polyline clip-path=\"url(#clip132)\" style=\"stroke:#000000; stroke-linecap:round; stroke-linejoin:round; stroke-width:4; stroke-opacity:1; fill:none\" points=\"191.112,1423.18 191.112,1423.18 264.384,1423.18 191.112,1423.18 \"/>\n",
       "<path clip-path=\"url(#clip132)\" d=\"M264.384 1423.18 L264.384 1423.18 L337.657 1423.18 L337.657 1423.18 L264.384 1423.18 L264.384 1423.18  Z\" fill=\"#009af9\" fill-rule=\"evenodd\" fill-opacity=\"1\"/>\n",
       "<polyline clip-path=\"url(#clip132)\" style=\"stroke:#000000; stroke-linecap:round; stroke-linejoin:round; stroke-width:4; stroke-opacity:1; fill:none\" points=\"264.384,1423.18 264.384,1423.18 337.657,1423.18 264.384,1423.18 \"/>\n",
       "<path clip-path=\"url(#clip132)\" d=\"M337.657 1423.18 L337.657 1423.18 L410.929 1423.18 L410.929 1423.18 L337.657 1423.18 L337.657 1423.18  Z\" fill=\"#009af9\" fill-rule=\"evenodd\" fill-opacity=\"1\"/>\n",
       "<polyline clip-path=\"url(#clip132)\" style=\"stroke:#000000; stroke-linecap:round; stroke-linejoin:round; stroke-width:4; stroke-opacity:1; fill:none\" points=\"337.657,1423.18 337.657,1423.18 410.929,1423.18 337.657,1423.18 \"/>\n",
       "<path clip-path=\"url(#clip132)\" d=\"M410.929 811.653 L410.929 1423.18 L484.202 1423.18 L484.202 811.653 L410.929 811.653 L410.929 811.653  Z\" fill=\"#009af9\" fill-rule=\"evenodd\" fill-opacity=\"1\"/>\n",
       "<polyline clip-path=\"url(#clip132)\" style=\"stroke:#000000; stroke-linecap:round; stroke-linejoin:round; stroke-width:4; stroke-opacity:1; fill:none\" points=\"410.929,811.653 410.929,1423.18 484.202,1423.18 484.202,811.653 410.929,811.653 \"/>\n",
       "<path clip-path=\"url(#clip132)\" d=\"M484.202 1423.18 L484.202 1423.18 L557.474 1423.18 L557.474 1423.18 L484.202 1423.18 L484.202 1423.18  Z\" fill=\"#009af9\" fill-rule=\"evenodd\" fill-opacity=\"1\"/>\n",
       "<polyline clip-path=\"url(#clip132)\" style=\"stroke:#000000; stroke-linecap:round; stroke-linejoin:round; stroke-width:4; stroke-opacity:1; fill:none\" points=\"484.202,1423.18 484.202,1423.18 557.474,1423.18 484.202,1423.18 \"/>\n",
       "<path clip-path=\"url(#clip132)\" d=\"M557.474 1423.18 L557.474 1423.18 L630.747 1423.18 L630.747 1423.18 L557.474 1423.18 L557.474 1423.18  Z\" fill=\"#009af9\" fill-rule=\"evenodd\" fill-opacity=\"1\"/>\n",
       "<polyline clip-path=\"url(#clip132)\" style=\"stroke:#000000; stroke-linecap:round; stroke-linejoin:round; stroke-width:4; stroke-opacity:1; fill:none\" points=\"557.474,1423.18 557.474,1423.18 630.747,1423.18 557.474,1423.18 \"/>\n",
       "<path clip-path=\"url(#clip132)\" d=\"M630.747 1270.3 L630.747 1423.18 L704.019 1423.18 L704.019 1270.3 L630.747 1270.3 L630.747 1270.3  Z\" fill=\"#009af9\" fill-rule=\"evenodd\" fill-opacity=\"1\"/>\n",
       "<polyline clip-path=\"url(#clip132)\" style=\"stroke:#000000; stroke-linecap:round; stroke-linejoin:round; stroke-width:4; stroke-opacity:1; fill:none\" points=\"630.747,1270.3 630.747,1423.18 704.019,1423.18 704.019,1270.3 630.747,1270.3 \"/>\n",
       "<path clip-path=\"url(#clip132)\" d=\"M704.019 964.535 L704.019 1423.18 L777.292 1423.18 L777.292 964.535 L704.019 964.535 L704.019 964.535  Z\" fill=\"#009af9\" fill-rule=\"evenodd\" fill-opacity=\"1\"/>\n",
       "<polyline clip-path=\"url(#clip132)\" style=\"stroke:#000000; stroke-linecap:round; stroke-linejoin:round; stroke-width:4; stroke-opacity:1; fill:none\" points=\"704.019,964.535 704.019,1423.18 777.292,1423.18 777.292,964.535 704.019,964.535 \"/>\n",
       "<path clip-path=\"url(#clip132)\" d=\"M777.292 1270.3 L777.292 1423.18 L850.564 1423.18 L850.564 1270.3 L777.292 1270.3 L777.292 1270.3  Z\" fill=\"#009af9\" fill-rule=\"evenodd\" fill-opacity=\"1\"/>\n",
       "<polyline clip-path=\"url(#clip132)\" style=\"stroke:#000000; stroke-linecap:round; stroke-linejoin:round; stroke-width:4; stroke-opacity:1; fill:none\" points=\"777.292,1270.3 777.292,1423.18 850.564,1423.18 850.564,1270.3 777.292,1270.3 \"/>\n",
       "<path clip-path=\"url(#clip132)\" d=\"M850.564 1270.3 L850.564 1423.18 L923.837 1423.18 L923.837 1270.3 L850.564 1270.3 L850.564 1270.3  Z\" fill=\"#009af9\" fill-rule=\"evenodd\" fill-opacity=\"1\"/>\n",
       "<polyline clip-path=\"url(#clip132)\" style=\"stroke:#000000; stroke-linecap:round; stroke-linejoin:round; stroke-width:4; stroke-opacity:1; fill:none\" points=\"850.564,1270.3 850.564,1423.18 923.837,1423.18 923.837,1270.3 850.564,1270.3 \"/>\n",
       "<path clip-path=\"url(#clip132)\" d=\"M923.837 1270.3 L923.837 1423.18 L997.109 1423.18 L997.109 1270.3 L923.837 1270.3 L923.837 1270.3  Z\" fill=\"#009af9\" fill-rule=\"evenodd\" fill-opacity=\"1\"/>\n",
       "<polyline clip-path=\"url(#clip132)\" style=\"stroke:#000000; stroke-linecap:round; stroke-linejoin:round; stroke-width:4; stroke-opacity:1; fill:none\" points=\"923.837,1270.3 923.837,1423.18 997.109,1423.18 997.109,1270.3 923.837,1270.3 \"/>\n",
       "<path clip-path=\"url(#clip132)\" d=\"M997.109 1117.42 L997.109 1423.18 L1070.38 1423.18 L1070.38 1117.42 L997.109 1117.42 L997.109 1117.42  Z\" fill=\"#009af9\" fill-rule=\"evenodd\" fill-opacity=\"1\"/>\n",
       "<polyline clip-path=\"url(#clip132)\" style=\"stroke:#000000; stroke-linecap:round; stroke-linejoin:round; stroke-width:4; stroke-opacity:1; fill:none\" points=\"997.109,1117.42 997.109,1423.18 1070.38,1423.18 1070.38,1117.42 997.109,1117.42 \"/>\n",
       "<path clip-path=\"url(#clip132)\" d=\"M1070.38 1270.3 L1070.38 1423.18 L1143.65 1423.18 L1143.65 1270.3 L1070.38 1270.3 L1070.38 1270.3  Z\" fill=\"#009af9\" fill-rule=\"evenodd\" fill-opacity=\"1\"/>\n",
       "<polyline clip-path=\"url(#clip132)\" style=\"stroke:#000000; stroke-linecap:round; stroke-linejoin:round; stroke-width:4; stroke-opacity:1; fill:none\" points=\"1070.38,1270.3 1070.38,1423.18 1143.65,1423.18 1143.65,1270.3 1070.38,1270.3 \"/>\n",
       "<path clip-path=\"url(#clip132)\" d=\"M1143.65 1117.42 L1143.65 1423.18 L1216.93 1423.18 L1216.93 1117.42 L1143.65 1117.42 L1143.65 1117.42  Z\" fill=\"#009af9\" fill-rule=\"evenodd\" fill-opacity=\"1\"/>\n",
       "<polyline clip-path=\"url(#clip132)\" style=\"stroke:#000000; stroke-linecap:round; stroke-linejoin:round; stroke-width:4; stroke-opacity:1; fill:none\" points=\"1143.65,1117.42 1143.65,1423.18 1216.93,1423.18 1216.93,1117.42 1143.65,1117.42 \"/>\n",
       "<path clip-path=\"url(#clip132)\" d=\"M1216.93 964.535 L1216.93 1423.18 L1290.2 1423.18 L1290.2 964.535 L1216.93 964.535 L1216.93 964.535  Z\" fill=\"#009af9\" fill-rule=\"evenodd\" fill-opacity=\"1\"/>\n",
       "<polyline clip-path=\"url(#clip132)\" style=\"stroke:#000000; stroke-linecap:round; stroke-linejoin:round; stroke-width:4; stroke-opacity:1; fill:none\" points=\"1216.93,964.535 1216.93,1423.18 1290.2,1423.18 1290.2,964.535 1216.93,964.535 \"/>\n",
       "<path clip-path=\"url(#clip132)\" d=\"M1290.2 1117.42 L1290.2 1423.18 L1363.47 1423.18 L1363.47 1117.42 L1290.2 1117.42 L1290.2 1117.42  Z\" fill=\"#009af9\" fill-rule=\"evenodd\" fill-opacity=\"1\"/>\n",
       "<polyline clip-path=\"url(#clip132)\" style=\"stroke:#000000; stroke-linecap:round; stroke-linejoin:round; stroke-width:4; stroke-opacity:1; fill:none\" points=\"1290.2,1117.42 1290.2,1423.18 1363.47,1423.18 1363.47,1117.42 1290.2,1117.42 \"/>\n",
       "<path clip-path=\"url(#clip132)\" d=\"M1363.47 353.008 L1363.47 1423.18 L1436.74 1423.18 L1436.74 353.008 L1363.47 353.008 L1363.47 353.008  Z\" fill=\"#009af9\" fill-rule=\"evenodd\" fill-opacity=\"1\"/>\n",
       "<polyline clip-path=\"url(#clip132)\" style=\"stroke:#000000; stroke-linecap:round; stroke-linejoin:round; stroke-width:4; stroke-opacity:1; fill:none\" points=\"1363.47,353.008 1363.47,1423.18 1436.74,1423.18 1436.74,353.008 1363.47,353.008 \"/>\n",
       "<path clip-path=\"url(#clip132)\" d=\"M1436.74 1270.3 L1436.74 1423.18 L1510.02 1423.18 L1510.02 1270.3 L1436.74 1270.3 L1436.74 1270.3  Z\" fill=\"#009af9\" fill-rule=\"evenodd\" fill-opacity=\"1\"/>\n",
       "<polyline clip-path=\"url(#clip132)\" style=\"stroke:#000000; stroke-linecap:round; stroke-linejoin:round; stroke-width:4; stroke-opacity:1; fill:none\" points=\"1436.74,1270.3 1436.74,1423.18 1510.02,1423.18 1510.02,1270.3 1436.74,1270.3 \"/>\n",
       "<path clip-path=\"url(#clip132)\" d=\"M1510.02 1117.42 L1510.02 1423.18 L1583.29 1423.18 L1583.29 1117.42 L1510.02 1117.42 L1510.02 1117.42  Z\" fill=\"#009af9\" fill-rule=\"evenodd\" fill-opacity=\"1\"/>\n",
       "<polyline clip-path=\"url(#clip132)\" style=\"stroke:#000000; stroke-linecap:round; stroke-linejoin:round; stroke-width:4; stroke-opacity:1; fill:none\" points=\"1510.02,1117.42 1510.02,1423.18 1583.29,1423.18 1583.29,1117.42 1510.02,1117.42 \"/>\n",
       "<path clip-path=\"url(#clip132)\" d=\"M1583.29 1117.42 L1583.29 1423.18 L1656.56 1423.18 L1656.56 1117.42 L1583.29 1117.42 L1583.29 1117.42  Z\" fill=\"#009af9\" fill-rule=\"evenodd\" fill-opacity=\"1\"/>\n",
       "<polyline clip-path=\"url(#clip132)\" style=\"stroke:#000000; stroke-linecap:round; stroke-linejoin:round; stroke-width:4; stroke-opacity:1; fill:none\" points=\"1583.29,1117.42 1583.29,1423.18 1656.56,1423.18 1656.56,1117.42 1583.29,1117.42 \"/>\n",
       "<path clip-path=\"url(#clip132)\" d=\"M1656.56 1423.18 L1656.56 1423.18 L1729.83 1423.18 L1729.83 1423.18 L1656.56 1423.18 L1656.56 1423.18  Z\" fill=\"#009af9\" fill-rule=\"evenodd\" fill-opacity=\"1\"/>\n",
       "<polyline clip-path=\"url(#clip132)\" style=\"stroke:#000000; stroke-linecap:round; stroke-linejoin:round; stroke-width:4; stroke-opacity:1; fill:none\" points=\"1656.56,1423.18 1656.56,1423.18 1729.83,1423.18 1656.56,1423.18 \"/>\n",
       "<path clip-path=\"url(#clip132)\" d=\"M1729.83 964.535 L1729.83 1423.18 L1803.11 1423.18 L1803.11 964.535 L1729.83 964.535 L1729.83 964.535  Z\" fill=\"#009af9\" fill-rule=\"evenodd\" fill-opacity=\"1\"/>\n",
       "<polyline clip-path=\"url(#clip132)\" style=\"stroke:#000000; stroke-linecap:round; stroke-linejoin:round; stroke-width:4; stroke-opacity:1; fill:none\" points=\"1729.83,964.535 1729.83,1423.18 1803.11,1423.18 1803.11,964.535 1729.83,964.535 \"/>\n",
       "<path clip-path=\"url(#clip132)\" d=\"M1803.11 505.889 L1803.11 1423.18 L1876.38 1423.18 L1876.38 505.889 L1803.11 505.889 L1803.11 505.889  Z\" fill=\"#009af9\" fill-rule=\"evenodd\" fill-opacity=\"1\"/>\n",
       "<polyline clip-path=\"url(#clip132)\" style=\"stroke:#000000; stroke-linecap:round; stroke-linejoin:round; stroke-width:4; stroke-opacity:1; fill:none\" points=\"1803.11,505.889 1803.11,1423.18 1876.38,1423.18 1876.38,505.889 1803.11,505.889 \"/>\n",
       "<path clip-path=\"url(#clip132)\" d=\"M1876.38 964.535 L1876.38 1423.18 L1949.65 1423.18 L1949.65 964.535 L1876.38 964.535 L1876.38 964.535  Z\" fill=\"#009af9\" fill-rule=\"evenodd\" fill-opacity=\"1\"/>\n",
       "<polyline clip-path=\"url(#clip132)\" style=\"stroke:#000000; stroke-linecap:round; stroke-linejoin:round; stroke-width:4; stroke-opacity:1; fill:none\" points=\"1876.38,964.535 1876.38,1423.18 1949.65,1423.18 1949.65,964.535 1876.38,964.535 \"/>\n",
       "<path clip-path=\"url(#clip132)\" d=\"M1949.65 964.535 L1949.65 1423.18 L2022.92 1423.18 L2022.92 964.535 L1949.65 964.535 L1949.65 964.535  Z\" fill=\"#009af9\" fill-rule=\"evenodd\" fill-opacity=\"1\"/>\n",
       "<polyline clip-path=\"url(#clip132)\" style=\"stroke:#000000; stroke-linecap:round; stroke-linejoin:round; stroke-width:4; stroke-opacity:1; fill:none\" points=\"1949.65,964.535 1949.65,1423.18 2022.92,1423.18 2022.92,964.535 1949.65,964.535 \"/>\n",
       "<path clip-path=\"url(#clip132)\" d=\"M2022.92 505.889 L2022.92 1423.18 L2096.2 1423.18 L2096.2 505.889 L2022.92 505.889 L2022.92 505.889  Z\" fill=\"#009af9\" fill-rule=\"evenodd\" fill-opacity=\"1\"/>\n",
       "<polyline clip-path=\"url(#clip132)\" style=\"stroke:#000000; stroke-linecap:round; stroke-linejoin:round; stroke-width:4; stroke-opacity:1; fill:none\" points=\"2022.92,505.889 2022.92,1423.18 2096.2,1423.18 2096.2,505.889 2022.92,505.889 \"/>\n",
       "<path clip-path=\"url(#clip132)\" d=\"M2096.2 811.653 L2096.2 1423.18 L2169.47 1423.18 L2169.47 811.653 L2096.2 811.653 L2096.2 811.653  Z\" fill=\"#009af9\" fill-rule=\"evenodd\" fill-opacity=\"1\"/>\n",
       "<polyline clip-path=\"url(#clip132)\" style=\"stroke:#000000; stroke-linecap:round; stroke-linejoin:round; stroke-width:4; stroke-opacity:1; fill:none\" points=\"2096.2,811.653 2096.2,1423.18 2169.47,1423.18 2169.47,811.653 2096.2,811.653 \"/>\n",
       "<path clip-path=\"url(#clip132)\" d=\"M2169.47 1117.42 L2169.47 1423.18 L2242.74 1423.18 L2242.74 1117.42 L2169.47 1117.42 L2169.47 1117.42  Z\" fill=\"#009af9\" fill-rule=\"evenodd\" fill-opacity=\"1\"/>\n",
       "<polyline clip-path=\"url(#clip132)\" style=\"stroke:#000000; stroke-linecap:round; stroke-linejoin:round; stroke-width:4; stroke-opacity:1; fill:none\" points=\"2169.47,1117.42 2169.47,1423.18 2242.74,1423.18 2242.74,1117.42 2169.47,1117.42 \"/>\n",
       "<path clip-path=\"url(#clip132)\" d=\"M2242.74 1117.42 L2242.74 1423.18 L2316.01 1423.18 L2316.01 1117.42 L2242.74 1117.42 L2242.74 1117.42  Z\" fill=\"#009af9\" fill-rule=\"evenodd\" fill-opacity=\"1\"/>\n",
       "<polyline clip-path=\"url(#clip132)\" style=\"stroke:#000000; stroke-linecap:round; stroke-linejoin:round; stroke-width:4; stroke-opacity:1; fill:none\" points=\"2242.74,1117.42 2242.74,1423.18 2316.01,1423.18 2316.01,1117.42 2242.74,1117.42 \"/>\n",
       "<path clip-path=\"url(#clip132)\" d=\"M2316.01 1117.42 L2316.01 1423.18 L2389.29 1423.18 L2389.29 1117.42 L2316.01 1117.42 L2316.01 1117.42  Z\" fill=\"#009af9\" fill-rule=\"evenodd\" fill-opacity=\"1\"/>\n",
       "<polyline clip-path=\"url(#clip132)\" style=\"stroke:#000000; stroke-linecap:round; stroke-linejoin:round; stroke-width:4; stroke-opacity:1; fill:none\" points=\"2316.01,1117.42 2316.01,1423.18 2389.29,1423.18 2389.29,1117.42 2316.01,1117.42 \"/>\n",
       "<path clip-path=\"url(#clip132)\" d=\"M2389.29 353.008 L2389.29 1423.18 L2462.56 1423.18 L2462.56 353.008 L2389.29 353.008 L2389.29 353.008  Z\" fill=\"#009af9\" fill-rule=\"evenodd\" fill-opacity=\"1\"/>\n",
       "<polyline clip-path=\"url(#clip132)\" style=\"stroke:#000000; stroke-linecap:round; stroke-linejoin:round; stroke-width:4; stroke-opacity:1; fill:none\" points=\"2389.29,353.008 2389.29,1423.18 2462.56,1423.18 2462.56,353.008 2389.29,353.008 \"/>\n",
       "<path clip-path=\"url(#clip132)\" d=\"M2462.56 811.653 L2462.56 1423.18 L2535.83 1423.18 L2535.83 811.653 L2462.56 811.653 L2462.56 811.653  Z\" fill=\"#009af9\" fill-rule=\"evenodd\" fill-opacity=\"1\"/>\n",
       "<polyline clip-path=\"url(#clip132)\" style=\"stroke:#000000; stroke-linecap:round; stroke-linejoin:round; stroke-width:4; stroke-opacity:1; fill:none\" points=\"2462.56,811.653 2462.56,1423.18 2535.83,1423.18 2535.83,811.653 2462.56,811.653 \"/>\n",
       "<path clip-path=\"url(#clip132)\" d=\"M2535.83 47.2441 L2535.83 1423.18 L2609.1 1423.18 L2609.1 47.2441 L2535.83 47.2441 L2535.83 47.2441  Z\" fill=\"#009af9\" fill-rule=\"evenodd\" fill-opacity=\"1\"/>\n",
       "<polyline clip-path=\"url(#clip132)\" style=\"stroke:#000000; stroke-linecap:round; stroke-linejoin:round; stroke-width:4; stroke-opacity:1; fill:none\" points=\"2535.83,47.2441 2535.83,1423.18 2609.1,1423.18 2609.1,47.2441 2535.83,47.2441 \"/>\n",
       "<path clip-path=\"url(#clip132)\" d=\"M2609.1 353.008 L2609.1 1423.18 L2682.38 1423.18 L2682.38 353.008 L2609.1 353.008 L2609.1 353.008  Z\" fill=\"#009af9\" fill-rule=\"evenodd\" fill-opacity=\"1\"/>\n",
       "<polyline clip-path=\"url(#clip132)\" style=\"stroke:#000000; stroke-linecap:round; stroke-linejoin:round; stroke-width:4; stroke-opacity:1; fill:none\" points=\"2609.1,353.008 2609.1,1423.18 2682.38,1423.18 2682.38,353.008 2609.1,353.008 \"/>\n",
       "<path clip-path=\"url(#clip132)\" d=\"M2682.38 658.771 L2682.38 1423.18 L2755.65 1423.18 L2755.65 658.771 L2682.38 658.771 L2682.38 658.771  Z\" fill=\"#009af9\" fill-rule=\"evenodd\" fill-opacity=\"1\"/>\n",
       "<polyline clip-path=\"url(#clip132)\" style=\"stroke:#000000; stroke-linecap:round; stroke-linejoin:round; stroke-width:4; stroke-opacity:1; fill:none\" points=\"2682.38,658.771 2682.38,1423.18 2755.65,1423.18 2755.65,658.771 2682.38,658.771 \"/>\n",
       "<path clip-path=\"url(#clip132)\" d=\"M2755.65 964.535 L2755.65 1423.18 L2828.92 1423.18 L2828.92 964.535 L2755.65 964.535 L2755.65 964.535  Z\" fill=\"#009af9\" fill-rule=\"evenodd\" fill-opacity=\"1\"/>\n",
       "<polyline clip-path=\"url(#clip132)\" style=\"stroke:#000000; stroke-linecap:round; stroke-linejoin:round; stroke-width:4; stroke-opacity:1; fill:none\" points=\"2755.65,964.535 2755.65,1423.18 2828.92,1423.18 2828.92,964.535 2755.65,964.535 \"/>\n",
       "<path clip-path=\"url(#clip132)\" d=\"M2828.92 964.535 L2828.92 1423.18 L2902.19 1423.18 L2902.19 964.535 L2828.92 964.535 L2828.92 964.535  Z\" fill=\"#009af9\" fill-rule=\"evenodd\" fill-opacity=\"1\"/>\n",
       "<polyline clip-path=\"url(#clip132)\" style=\"stroke:#000000; stroke-linecap:round; stroke-linejoin:round; stroke-width:4; stroke-opacity:1; fill:none\" points=\"2828.92,964.535 2828.92,1423.18 2902.19,1423.18 2902.19,964.535 2828.92,964.535 \"/>\n",
       "<path clip-path=\"url(#clip132)\" d=\"M2902.19 1270.3 L2902.19 1423.18 L2975.47 1423.18 L2975.47 1270.3 L2902.19 1270.3 L2902.19 1270.3  Z\" fill=\"#009af9\" fill-rule=\"evenodd\" fill-opacity=\"1\"/>\n",
       "<polyline clip-path=\"url(#clip132)\" style=\"stroke:#000000; stroke-linecap:round; stroke-linejoin:round; stroke-width:4; stroke-opacity:1; fill:none\" points=\"2902.19,1270.3 2902.19,1423.18 2975.47,1423.18 2975.47,1270.3 2902.19,1270.3 \"/>\n",
       "<path clip-path=\"url(#clip132)\" d=\"M2975.47 658.771 L2975.47 1423.18 L3048.74 1423.18 L3048.74 658.771 L2975.47 658.771 L2975.47 658.771  Z\" fill=\"#009af9\" fill-rule=\"evenodd\" fill-opacity=\"1\"/>\n",
       "<polyline clip-path=\"url(#clip132)\" style=\"stroke:#000000; stroke-linecap:round; stroke-linejoin:round; stroke-width:4; stroke-opacity:1; fill:none\" points=\"2975.47,658.771 2975.47,1423.18 3048.74,1423.18 3048.74,658.771 2975.47,658.771 \"/>\n",
       "<path clip-path=\"url(#clip132)\" d=\"M3048.74 811.653 L3048.74 1423.18 L3122.01 1423.18 L3122.01 811.653 L3048.74 811.653 L3048.74 811.653  Z\" fill=\"#009af9\" fill-rule=\"evenodd\" fill-opacity=\"1\"/>\n",
       "<polyline clip-path=\"url(#clip132)\" style=\"stroke:#000000; stroke-linecap:round; stroke-linejoin:round; stroke-width:4; stroke-opacity:1; fill:none\" points=\"3048.74,811.653 3048.74,1423.18 3122.01,1423.18 3122.01,811.653 3048.74,811.653 \"/>\n",
       "<path clip-path=\"url(#clip132)\" d=\"M3122.01 811.653 L3122.01 1423.18 L3195.28 1423.18 L3195.28 811.653 L3122.01 811.653 L3122.01 811.653  Z\" fill=\"#009af9\" fill-rule=\"evenodd\" fill-opacity=\"1\"/>\n",
       "<polyline clip-path=\"url(#clip132)\" style=\"stroke:#000000; stroke-linecap:round; stroke-linejoin:round; stroke-width:4; stroke-opacity:1; fill:none\" points=\"3122.01,811.653 3122.01,1423.18 3195.28,1423.18 3195.28,811.653 3122.01,811.653 \"/>\n",
       "<path clip-path=\"url(#clip132)\" d=\"M3195.28 1270.3 L3195.28 1423.18 L3268.56 1423.18 L3268.56 1270.3 L3195.28 1270.3 L3195.28 1270.3  Z\" fill=\"#009af9\" fill-rule=\"evenodd\" fill-opacity=\"1\"/>\n",
       "<polyline clip-path=\"url(#clip132)\" style=\"stroke:#000000; stroke-linecap:round; stroke-linejoin:round; stroke-width:4; stroke-opacity:1; fill:none\" points=\"3195.28,1270.3 3195.28,1423.18 3268.56,1423.18 3268.56,1270.3 3195.28,1270.3 \"/>\n",
       "<path clip-path=\"url(#clip132)\" d=\"M3268.56 811.653 L3268.56 1423.18 L3341.83 1423.18 L3341.83 811.653 L3268.56 811.653 L3268.56 811.653  Z\" fill=\"#009af9\" fill-rule=\"evenodd\" fill-opacity=\"1\"/>\n",
       "<polyline clip-path=\"url(#clip132)\" style=\"stroke:#000000; stroke-linecap:round; stroke-linejoin:round; stroke-width:4; stroke-opacity:1; fill:none\" points=\"3268.56,811.653 3268.56,1423.18 3341.83,1423.18 3341.83,811.653 3268.56,811.653 \"/>\n",
       "<path clip-path=\"url(#clip132)\" d=\"M3341.83 964.535 L3341.83 1423.18 L3415.1 1423.18 L3415.1 964.535 L3341.83 964.535 L3341.83 964.535  Z\" fill=\"#009af9\" fill-rule=\"evenodd\" fill-opacity=\"1\"/>\n",
       "<polyline clip-path=\"url(#clip132)\" style=\"stroke:#000000; stroke-linecap:round; stroke-linejoin:round; stroke-width:4; stroke-opacity:1; fill:none\" points=\"3341.83,964.535 3341.83,1423.18 3415.1,1423.18 3415.1,964.535 3341.83,964.535 \"/>\n",
       "<path clip-path=\"url(#clip132)\" d=\"M3415.1 200.126 L3415.1 1423.18 L3488.37 1423.18 L3488.37 200.126 L3415.1 200.126 L3415.1 200.126  Z\" fill=\"#009af9\" fill-rule=\"evenodd\" fill-opacity=\"1\"/>\n",
       "<polyline clip-path=\"url(#clip132)\" style=\"stroke:#000000; stroke-linecap:round; stroke-linejoin:round; stroke-width:4; stroke-opacity:1; fill:none\" points=\"3415.1,200.126 3415.1,1423.18 3488.37,1423.18 3488.37,200.126 3415.1,200.126 \"/>\n",
       "<path clip-path=\"url(#clip132)\" d=\"M3488.37 811.653 L3488.37 1423.18 L3561.65 1423.18 L3561.65 811.653 L3488.37 811.653 L3488.37 811.653  Z\" fill=\"#009af9\" fill-rule=\"evenodd\" fill-opacity=\"1\"/>\n",
       "<polyline clip-path=\"url(#clip132)\" style=\"stroke:#000000; stroke-linecap:round; stroke-linejoin:round; stroke-width:4; stroke-opacity:1; fill:none\" points=\"3488.37,811.653 3488.37,1423.18 3561.65,1423.18 3561.65,811.653 3488.37,811.653 \"/>\n",
       "<path clip-path=\"url(#clip132)\" d=\"M3561.65 658.771 L3561.65 1423.18 L3634.92 1423.18 L3634.92 658.771 L3561.65 658.771 L3561.65 658.771  Z\" fill=\"#009af9\" fill-rule=\"evenodd\" fill-opacity=\"1\"/>\n",
       "<polyline clip-path=\"url(#clip132)\" style=\"stroke:#000000; stroke-linecap:round; stroke-linejoin:round; stroke-width:4; stroke-opacity:1; fill:none\" points=\"3561.65,658.771 3561.65,1423.18 3634.92,1423.18 3634.92,658.771 3561.65,658.771 \"/>\n",
       "<path clip-path=\"url(#clip132)\" d=\"M3634.92 505.889 L3634.92 1423.18 L3708.19 1423.18 L3708.19 505.889 L3634.92 505.889 L3634.92 505.889  Z\" fill=\"#009af9\" fill-rule=\"evenodd\" fill-opacity=\"1\"/>\n",
       "<polyline clip-path=\"url(#clip132)\" style=\"stroke:#000000; stroke-linecap:round; stroke-linejoin:round; stroke-width:4; stroke-opacity:1; fill:none\" points=\"3634.92,505.889 3634.92,1423.18 3708.19,1423.18 3708.19,505.889 3634.92,505.889 \"/>\n",
       "<path clip-path=\"url(#clip132)\" d=\"M3708.19 1270.3 L3708.19 1423.18 L3781.47 1423.18 L3781.47 1270.3 L3708.19 1270.3 L3708.19 1270.3  Z\" fill=\"#009af9\" fill-rule=\"evenodd\" fill-opacity=\"1\"/>\n",
       "<polyline clip-path=\"url(#clip132)\" style=\"stroke:#000000; stroke-linecap:round; stroke-linejoin:round; stroke-width:4; stroke-opacity:1; fill:none\" points=\"3708.19,1270.3 3708.19,1423.18 3781.47,1423.18 3781.47,1270.3 3708.19,1270.3 \"/>\n",
       "<path clip-path=\"url(#clip132)\" d=\"M3781.47 658.771 L3781.47 1423.18 L3854.74 1423.18 L3854.74 658.771 L3781.47 658.771 L3781.47 658.771  Z\" fill=\"#009af9\" fill-rule=\"evenodd\" fill-opacity=\"1\"/>\n",
       "<polyline clip-path=\"url(#clip132)\" style=\"stroke:#000000; stroke-linecap:round; stroke-linejoin:round; stroke-width:4; stroke-opacity:1; fill:none\" points=\"3781.47,658.771 3781.47,1423.18 3854.74,1423.18 3854.74,658.771 3781.47,658.771 \"/>\n",
       "<path clip-path=\"url(#clip132)\" d=\"M3854.74 505.889 L3854.74 1423.18 L3928.01 1423.18 L3928.01 505.889 L3854.74 505.889 L3854.74 505.889  Z\" fill=\"#009af9\" fill-rule=\"evenodd\" fill-opacity=\"1\"/>\n",
       "<polyline clip-path=\"url(#clip132)\" style=\"stroke:#000000; stroke-linecap:round; stroke-linejoin:round; stroke-width:4; stroke-opacity:1; fill:none\" points=\"3854.74,505.889 3854.74,1423.18 3928.01,1423.18 3928.01,505.889 3854.74,505.889 \"/>\n",
       "<path clip-path=\"url(#clip132)\" d=\"M3928.01 964.535 L3928.01 1423.18 L4001.28 1423.18 L4001.28 964.535 L3928.01 964.535 L3928.01 964.535  Z\" fill=\"#009af9\" fill-rule=\"evenodd\" fill-opacity=\"1\"/>\n",
       "<polyline clip-path=\"url(#clip132)\" style=\"stroke:#000000; stroke-linecap:round; stroke-linejoin:round; stroke-width:4; stroke-opacity:1; fill:none\" points=\"3928.01,964.535 3928.01,1423.18 4001.28,1423.18 4001.28,964.535 3928.01,964.535 \"/>\n",
       "<path clip-path=\"url(#clip132)\" d=\"M4001.28 811.653 L4001.28 1423.18 L4074.56 1423.18 L4074.56 811.653 L4001.28 811.653 L4001.28 811.653  Z\" fill=\"#009af9\" fill-rule=\"evenodd\" fill-opacity=\"1\"/>\n",
       "<polyline clip-path=\"url(#clip132)\" style=\"stroke:#000000; stroke-linecap:round; stroke-linejoin:round; stroke-width:4; stroke-opacity:1; fill:none\" points=\"4001.28,811.653 4001.28,1423.18 4074.56,1423.18 4074.56,811.653 4001.28,811.653 \"/>\n",
       "<path clip-path=\"url(#clip132)\" d=\"M4074.56 1117.42 L4074.56 1423.18 L4147.83 1423.18 L4147.83 1117.42 L4074.56 1117.42 L4074.56 1117.42  Z\" fill=\"#009af9\" fill-rule=\"evenodd\" fill-opacity=\"1\"/>\n",
       "<polyline clip-path=\"url(#clip132)\" style=\"stroke:#000000; stroke-linecap:round; stroke-linejoin:round; stroke-width:4; stroke-opacity:1; fill:none\" points=\"4074.56,1117.42 4074.56,1423.18 4147.83,1423.18 4147.83,1117.42 4074.56,1117.42 \"/>\n",
       "<path clip-path=\"url(#clip132)\" d=\"M4147.83 811.653 L4147.83 1423.18 L4221.1 1423.18 L4221.1 811.653 L4147.83 811.653 L4147.83 811.653  Z\" fill=\"#009af9\" fill-rule=\"evenodd\" fill-opacity=\"1\"/>\n",
       "<polyline clip-path=\"url(#clip132)\" style=\"stroke:#000000; stroke-linecap:round; stroke-linejoin:round; stroke-width:4; stroke-opacity:1; fill:none\" points=\"4147.83,811.653 4147.83,1423.18 4221.1,1423.18 4221.1,811.653 4147.83,811.653 \"/>\n",
       "<path clip-path=\"url(#clip132)\" d=\"M4221.1 1423.18 L4221.1 1423.18 L4294.37 1423.18 L4294.37 1423.18 L4221.1 1423.18 L4221.1 1423.18  Z\" fill=\"#009af9\" fill-rule=\"evenodd\" fill-opacity=\"1\"/>\n",
       "<polyline clip-path=\"url(#clip132)\" style=\"stroke:#000000; stroke-linecap:round; stroke-linejoin:round; stroke-width:4; stroke-opacity:1; fill:none\" points=\"4221.1,1423.18 4221.1,1423.18 4294.37,1423.18 4221.1,1423.18 \"/>\n",
       "<path clip-path=\"url(#clip132)\" d=\"M4294.37 964.535 L4294.37 1423.18 L4367.65 1423.18 L4367.65 964.535 L4294.37 964.535 L4294.37 964.535  Z\" fill=\"#009af9\" fill-rule=\"evenodd\" fill-opacity=\"1\"/>\n",
       "<polyline clip-path=\"url(#clip132)\" style=\"stroke:#000000; stroke-linecap:round; stroke-linejoin:round; stroke-width:4; stroke-opacity:1; fill:none\" points=\"4294.37,964.535 4294.37,1423.18 4367.65,1423.18 4367.65,964.535 4294.37,964.535 \"/>\n",
       "<path clip-path=\"url(#clip132)\" d=\"M4367.65 964.535 L4367.65 1423.18 L4440.92 1423.18 L4440.92 964.535 L4367.65 964.535 L4367.65 964.535  Z\" fill=\"#009af9\" fill-rule=\"evenodd\" fill-opacity=\"1\"/>\n",
       "<polyline clip-path=\"url(#clip132)\" style=\"stroke:#000000; stroke-linecap:round; stroke-linejoin:round; stroke-width:4; stroke-opacity:1; fill:none\" points=\"4367.65,964.535 4367.65,1423.18 4440.92,1423.18 4440.92,964.535 4367.65,964.535 \"/>\n",
       "<path clip-path=\"url(#clip132)\" d=\"M4440.92 811.653 L4440.92 1423.18 L4514.19 1423.18 L4514.19 811.653 L4440.92 811.653 L4440.92 811.653  Z\" fill=\"#009af9\" fill-rule=\"evenodd\" fill-opacity=\"1\"/>\n",
       "<polyline clip-path=\"url(#clip132)\" style=\"stroke:#000000; stroke-linecap:round; stroke-linejoin:round; stroke-width:4; stroke-opacity:1; fill:none\" points=\"4440.92,811.653 4440.92,1423.18 4514.19,1423.18 4514.19,811.653 4440.92,811.653 \"/>\n",
       "<path clip-path=\"url(#clip132)\" d=\"M4514.19 200.126 L4514.19 1423.18 L4587.46 1423.18 L4587.46 200.126 L4514.19 200.126 L4514.19 200.126  Z\" fill=\"#009af9\" fill-rule=\"evenodd\" fill-opacity=\"1\"/>\n",
       "<polyline clip-path=\"url(#clip132)\" style=\"stroke:#000000; stroke-linecap:round; stroke-linejoin:round; stroke-width:4; stroke-opacity:1; fill:none\" points=\"4514.19,200.126 4514.19,1423.18 4587.46,1423.18 4587.46,200.126 4514.19,200.126 \"/>\n",
       "<path clip-path=\"url(#clip132)\" d=\"M4587.46 964.535 L4587.46 1423.18 L4660.74 1423.18 L4660.74 964.535 L4587.46 964.535 L4587.46 964.535  Z\" fill=\"#009af9\" fill-rule=\"evenodd\" fill-opacity=\"1\"/>\n",
       "<polyline clip-path=\"url(#clip132)\" style=\"stroke:#000000; stroke-linecap:round; stroke-linejoin:round; stroke-width:4; stroke-opacity:1; fill:none\" points=\"4587.46,964.535 4587.46,1423.18 4660.74,1423.18 4660.74,964.535 4587.46,964.535 \"/>\n",
       "<path clip-path=\"url(#clip132)\" d=\"M4660.74 658.771 L4660.74 1423.18 L4734.01 1423.18 L4734.01 658.771 L4660.74 658.771 L4660.74 658.771  Z\" fill=\"#009af9\" fill-rule=\"evenodd\" fill-opacity=\"1\"/>\n",
       "<polyline clip-path=\"url(#clip132)\" style=\"stroke:#000000; stroke-linecap:round; stroke-linejoin:round; stroke-width:4; stroke-opacity:1; fill:none\" points=\"4660.74,658.771 4660.74,1423.18 4734.01,1423.18 4734.01,658.771 4660.74,658.771 \"/>\n",
       "<path clip-path=\"url(#clip132)\" d=\"M4734.01 1117.42 L4734.01 1423.18 L4807.28 1423.18 L4807.28 1117.42 L4734.01 1117.42 L4734.01 1117.42  Z\" fill=\"#009af9\" fill-rule=\"evenodd\" fill-opacity=\"1\"/>\n",
       "<polyline clip-path=\"url(#clip132)\" style=\"stroke:#000000; stroke-linecap:round; stroke-linejoin:round; stroke-width:4; stroke-opacity:1; fill:none\" points=\"4734.01,1117.42 4734.01,1423.18 4807.28,1423.18 4807.28,1117.42 4734.01,1117.42 \"/>\n",
       "<path clip-path=\"url(#clip132)\" d=\"M4807.28 964.535 L4807.28 1423.18 L4880.55 1423.18 L4880.55 964.535 L4807.28 964.535 L4807.28 964.535  Z\" fill=\"#009af9\" fill-rule=\"evenodd\" fill-opacity=\"1\"/>\n",
       "<polyline clip-path=\"url(#clip132)\" style=\"stroke:#000000; stroke-linecap:round; stroke-linejoin:round; stroke-width:4; stroke-opacity:1; fill:none\" points=\"4807.28,964.535 4807.28,1423.18 4880.55,1423.18 4880.55,964.535 4807.28,964.535 \"/>\n",
       "<path clip-path=\"url(#clip132)\" d=\"M4880.55 1117.42 L4880.55 1423.18 L4953.83 1423.18 L4953.83 1117.42 L4880.55 1117.42 L4880.55 1117.42  Z\" fill=\"#009af9\" fill-rule=\"evenodd\" fill-opacity=\"1\"/>\n",
       "<polyline clip-path=\"url(#clip132)\" style=\"stroke:#000000; stroke-linecap:round; stroke-linejoin:round; stroke-width:4; stroke-opacity:1; fill:none\" points=\"4880.55,1117.42 4880.55,1423.18 4953.83,1423.18 4953.83,1117.42 4880.55,1117.42 \"/>\n",
       "<path clip-path=\"url(#clip132)\" d=\"M4953.83 1423.18 L4953.83 1423.18 L5027.1 1423.18 L5027.1 1423.18 L4953.83 1423.18 L4953.83 1423.18  Z\" fill=\"#009af9\" fill-rule=\"evenodd\" fill-opacity=\"1\"/>\n",
       "<polyline clip-path=\"url(#clip132)\" style=\"stroke:#000000; stroke-linecap:round; stroke-linejoin:round; stroke-width:4; stroke-opacity:1; fill:none\" points=\"4953.83,1423.18 4953.83,1423.18 5027.1,1423.18 4953.83,1423.18 \"/>\n",
       "<path clip-path=\"url(#clip132)\" d=\"M5027.1 964.535 L5027.1 1423.18 L5100.37 1423.18 L5100.37 964.535 L5027.1 964.535 L5027.1 964.535  Z\" fill=\"#009af9\" fill-rule=\"evenodd\" fill-opacity=\"1\"/>\n",
       "<polyline clip-path=\"url(#clip132)\" style=\"stroke:#000000; stroke-linecap:round; stroke-linejoin:round; stroke-width:4; stroke-opacity:1; fill:none\" points=\"5027.1,964.535 5027.1,1423.18 5100.37,1423.18 5100.37,964.535 5027.1,964.535 \"/>\n",
       "<path clip-path=\"url(#clip132)\" d=\"M5100.37 811.653 L5100.37 1423.18 L5173.64 1423.18 L5173.64 811.653 L5100.37 811.653 L5100.37 811.653  Z\" fill=\"#009af9\" fill-rule=\"evenodd\" fill-opacity=\"1\"/>\n",
       "<polyline clip-path=\"url(#clip132)\" style=\"stroke:#000000; stroke-linecap:round; stroke-linejoin:round; stroke-width:4; stroke-opacity:1; fill:none\" points=\"5100.37,811.653 5100.37,1423.18 5173.64,1423.18 5173.64,811.653 5100.37,811.653 \"/>\n",
       "<path clip-path=\"url(#clip132)\" d=\"M5173.64 1117.42 L5173.64 1423.18 L5246.92 1423.18 L5246.92 1117.42 L5173.64 1117.42 L5173.64 1117.42  Z\" fill=\"#009af9\" fill-rule=\"evenodd\" fill-opacity=\"1\"/>\n",
       "<polyline clip-path=\"url(#clip132)\" style=\"stroke:#000000; stroke-linecap:round; stroke-linejoin:round; stroke-width:4; stroke-opacity:1; fill:none\" points=\"5173.64,1117.42 5173.64,1423.18 5246.92,1423.18 5246.92,1117.42 5173.64,1117.42 \"/>\n",
       "<path clip-path=\"url(#clip132)\" d=\"M5246.92 811.653 L5246.92 1423.18 L5320.19 1423.18 L5320.19 811.653 L5246.92 811.653 L5246.92 811.653  Z\" fill=\"#009af9\" fill-rule=\"evenodd\" fill-opacity=\"1\"/>\n",
       "<polyline clip-path=\"url(#clip132)\" style=\"stroke:#000000; stroke-linecap:round; stroke-linejoin:round; stroke-width:4; stroke-opacity:1; fill:none\" points=\"5246.92,811.653 5246.92,1423.18 5320.19,1423.18 5320.19,811.653 5246.92,811.653 \"/>\n",
       "<path clip-path=\"url(#clip132)\" d=\"M5320.19 1117.42 L5320.19 1423.18 L5393.46 1423.18 L5393.46 1117.42 L5320.19 1117.42 L5320.19 1117.42  Z\" fill=\"#009af9\" fill-rule=\"evenodd\" fill-opacity=\"1\"/>\n",
       "<polyline clip-path=\"url(#clip132)\" style=\"stroke:#000000; stroke-linecap:round; stroke-linejoin:round; stroke-width:4; stroke-opacity:1; fill:none\" points=\"5320.19,1117.42 5320.19,1423.18 5393.46,1423.18 5393.46,1117.42 5320.19,1117.42 \"/>\n",
       "<path clip-path=\"url(#clip132)\" d=\"M5393.46 1117.42 L5393.46 1423.18 L5466.73 1423.18 L5466.73 1117.42 L5393.46 1117.42 L5393.46 1117.42  Z\" fill=\"#009af9\" fill-rule=\"evenodd\" fill-opacity=\"1\"/>\n",
       "<polyline clip-path=\"url(#clip132)\" style=\"stroke:#000000; stroke-linecap:round; stroke-linejoin:round; stroke-width:4; stroke-opacity:1; fill:none\" points=\"5393.46,1117.42 5393.46,1423.18 5466.73,1423.18 5466.73,1117.42 5393.46,1117.42 \"/>\n",
       "<path clip-path=\"url(#clip132)\" d=\"M5466.73 1270.3 L5466.73 1423.18 L5540.01 1423.18 L5540.01 1270.3 L5466.73 1270.3 L5466.73 1270.3  Z\" fill=\"#009af9\" fill-rule=\"evenodd\" fill-opacity=\"1\"/>\n",
       "<polyline clip-path=\"url(#clip132)\" style=\"stroke:#000000; stroke-linecap:round; stroke-linejoin:round; stroke-width:4; stroke-opacity:1; fill:none\" points=\"5466.73,1270.3 5466.73,1423.18 5540.01,1423.18 5540.01,1270.3 5466.73,1270.3 \"/>\n",
       "<path clip-path=\"url(#clip132)\" d=\"M5540.01 1270.3 L5540.01 1423.18 L5613.28 1423.18 L5613.28 1270.3 L5540.01 1270.3 L5540.01 1270.3  Z\" fill=\"#009af9\" fill-rule=\"evenodd\" fill-opacity=\"1\"/>\n",
       "<polyline clip-path=\"url(#clip132)\" style=\"stroke:#000000; stroke-linecap:round; stroke-linejoin:round; stroke-width:4; stroke-opacity:1; fill:none\" points=\"5540.01,1270.3 5540.01,1423.18 5613.28,1423.18 5613.28,1270.3 5540.01,1270.3 \"/>\n",
       "<path clip-path=\"url(#clip132)\" d=\"M5613.28 964.535 L5613.28 1423.18 L5686.55 1423.18 L5686.55 964.535 L5613.28 964.535 L5613.28 964.535  Z\" fill=\"#009af9\" fill-rule=\"evenodd\" fill-opacity=\"1\"/>\n",
       "<polyline clip-path=\"url(#clip132)\" style=\"stroke:#000000; stroke-linecap:round; stroke-linejoin:round; stroke-width:4; stroke-opacity:1; fill:none\" points=\"5613.28,964.535 5613.28,1423.18 5686.55,1423.18 5686.55,964.535 5613.28,964.535 \"/>\n",
       "<path clip-path=\"url(#clip132)\" d=\"M5686.55 1117.42 L5686.55 1423.18 L5759.82 1423.18 L5759.82 1117.42 L5686.55 1117.42 L5686.55 1117.42  Z\" fill=\"#009af9\" fill-rule=\"evenodd\" fill-opacity=\"1\"/>\n",
       "<polyline clip-path=\"url(#clip132)\" style=\"stroke:#000000; stroke-linecap:round; stroke-linejoin:round; stroke-width:4; stroke-opacity:1; fill:none\" points=\"5686.55,1117.42 5686.55,1423.18 5759.82,1423.18 5759.82,1117.42 5686.55,1117.42 \"/>\n",
       "<path clip-path=\"url(#clip132)\" d=\"M5759.82 964.535 L5759.82 1423.18 L5833.1 1423.18 L5833.1 964.535 L5759.82 964.535 L5759.82 964.535  Z\" fill=\"#009af9\" fill-rule=\"evenodd\" fill-opacity=\"1\"/>\n",
       "<polyline clip-path=\"url(#clip132)\" style=\"stroke:#000000; stroke-linecap:round; stroke-linejoin:round; stroke-width:4; stroke-opacity:1; fill:none\" points=\"5759.82,964.535 5759.82,1423.18 5833.1,1423.18 5833.1,964.535 5759.82,964.535 \"/>\n",
       "<path clip-path=\"url(#clip132)\" d=\"M5833.1 811.653 L5833.1 1423.18 L5906.37 1423.18 L5906.37 811.653 L5833.1 811.653 L5833.1 811.653  Z\" fill=\"#009af9\" fill-rule=\"evenodd\" fill-opacity=\"1\"/>\n",
       "<polyline clip-path=\"url(#clip132)\" style=\"stroke:#000000; stroke-linecap:round; stroke-linejoin:round; stroke-width:4; stroke-opacity:1; fill:none\" points=\"5833.1,811.653 5833.1,1423.18 5906.37,1423.18 5906.37,811.653 5833.1,811.653 \"/>\n",
       "<path clip-path=\"url(#clip132)\" d=\"M5906.37 658.771 L5906.37 1423.18 L5979.64 1423.18 L5979.64 658.771 L5906.37 658.771 L5906.37 658.771  Z\" fill=\"#009af9\" fill-rule=\"evenodd\" fill-opacity=\"1\"/>\n",
       "<polyline clip-path=\"url(#clip132)\" style=\"stroke:#000000; stroke-linecap:round; stroke-linejoin:round; stroke-width:4; stroke-opacity:1; fill:none\" points=\"5906.37,658.771 5906.37,1423.18 5979.64,1423.18 5979.64,658.771 5906.37,658.771 \"/>\n",
       "<path clip-path=\"url(#clip132)\" d=\"M5979.64 1117.42 L5979.64 1423.18 L6052.91 1423.18 L6052.91 1117.42 L5979.64 1117.42 L5979.64 1117.42  Z\" fill=\"#009af9\" fill-rule=\"evenodd\" fill-opacity=\"1\"/>\n",
       "<polyline clip-path=\"url(#clip132)\" style=\"stroke:#000000; stroke-linecap:round; stroke-linejoin:round; stroke-width:4; stroke-opacity:1; fill:none\" points=\"5979.64,1117.42 5979.64,1423.18 6052.91,1423.18 6052.91,1117.42 5979.64,1117.42 \"/>\n",
       "<path clip-path=\"url(#clip132)\" d=\"M6052.91 964.535 L6052.91 1423.18 L6126.19 1423.18 L6126.19 964.535 L6052.91 964.535 L6052.91 964.535  Z\" fill=\"#009af9\" fill-rule=\"evenodd\" fill-opacity=\"1\"/>\n",
       "<polyline clip-path=\"url(#clip132)\" style=\"stroke:#000000; stroke-linecap:round; stroke-linejoin:round; stroke-width:4; stroke-opacity:1; fill:none\" points=\"6052.91,964.535 6052.91,1423.18 6126.19,1423.18 6126.19,964.535 6052.91,964.535 \"/>\n",
       "<path clip-path=\"url(#clip132)\" d=\"M6126.19 1117.42 L6126.19 1423.18 L6199.46 1423.18 L6199.46 1117.42 L6126.19 1117.42 L6126.19 1117.42  Z\" fill=\"#009af9\" fill-rule=\"evenodd\" fill-opacity=\"1\"/>\n",
       "<polyline clip-path=\"url(#clip132)\" style=\"stroke:#000000; stroke-linecap:round; stroke-linejoin:round; stroke-width:4; stroke-opacity:1; fill:none\" points=\"6126.19,1117.42 6126.19,1423.18 6199.46,1423.18 6199.46,1117.42 6126.19,1117.42 \"/>\n",
       "<path clip-path=\"url(#clip132)\" d=\"M6199.46 1117.42 L6199.46 1423.18 L6272.73 1423.18 L6272.73 1117.42 L6199.46 1117.42 L6199.46 1117.42  Z\" fill=\"#009af9\" fill-rule=\"evenodd\" fill-opacity=\"1\"/>\n",
       "<polyline clip-path=\"url(#clip132)\" style=\"stroke:#000000; stroke-linecap:round; stroke-linejoin:round; stroke-width:4; stroke-opacity:1; fill:none\" points=\"6199.46,1117.42 6199.46,1423.18 6272.73,1423.18 6272.73,1117.42 6199.46,1117.42 \"/>\n",
       "<path clip-path=\"url(#clip132)\" d=\"M6272.73 1117.42 L6272.73 1423.18 L6346 1423.18 L6346 1117.42 L6272.73 1117.42 L6272.73 1117.42  Z\" fill=\"#009af9\" fill-rule=\"evenodd\" fill-opacity=\"1\"/>\n",
       "<polyline clip-path=\"url(#clip132)\" style=\"stroke:#000000; stroke-linecap:round; stroke-linejoin:round; stroke-width:4; stroke-opacity:1; fill:none\" points=\"6272.73,1117.42 6272.73,1423.18 6346,1423.18 6346,1117.42 6272.73,1117.42 \"/>\n",
       "<path clip-path=\"url(#clip132)\" d=\"M6346 1117.42 L6346 1423.18 L6419.28 1423.18 L6419.28 1117.42 L6346 1117.42 L6346 1117.42  Z\" fill=\"#009af9\" fill-rule=\"evenodd\" fill-opacity=\"1\"/>\n",
       "<polyline clip-path=\"url(#clip132)\" style=\"stroke:#000000; stroke-linecap:round; stroke-linejoin:round; stroke-width:4; stroke-opacity:1; fill:none\" points=\"6346,1117.42 6346,1423.18 6419.28,1423.18 6419.28,1117.42 6346,1117.42 \"/>\n",
       "<path clip-path=\"url(#clip132)\" d=\"M6419.28 1270.3 L6419.28 1423.18 L6492.55 1423.18 L6492.55 1270.3 L6419.28 1270.3 L6419.28 1270.3  Z\" fill=\"#009af9\" fill-rule=\"evenodd\" fill-opacity=\"1\"/>\n",
       "<polyline clip-path=\"url(#clip132)\" style=\"stroke:#000000; stroke-linecap:round; stroke-linejoin:round; stroke-width:4; stroke-opacity:1; fill:none\" points=\"6419.28,1270.3 6419.28,1423.18 6492.55,1423.18 6492.55,1270.3 6419.28,1270.3 \"/>\n",
       "<path clip-path=\"url(#clip132)\" d=\"M6492.55 658.771 L6492.55 1423.18 L6565.82 1423.18 L6565.82 658.771 L6492.55 658.771 L6492.55 658.771  Z\" fill=\"#009af9\" fill-rule=\"evenodd\" fill-opacity=\"1\"/>\n",
       "<polyline clip-path=\"url(#clip132)\" style=\"stroke:#000000; stroke-linecap:round; stroke-linejoin:round; stroke-width:4; stroke-opacity:1; fill:none\" points=\"6492.55,658.771 6492.55,1423.18 6565.82,1423.18 6565.82,658.771 6492.55,658.771 \"/>\n",
       "<path clip-path=\"url(#clip132)\" d=\"M6565.82 1270.3 L6565.82 1423.18 L6639.09 1423.18 L6639.09 1270.3 L6565.82 1270.3 L6565.82 1270.3  Z\" fill=\"#009af9\" fill-rule=\"evenodd\" fill-opacity=\"1\"/>\n",
       "<polyline clip-path=\"url(#clip132)\" style=\"stroke:#000000; stroke-linecap:round; stroke-linejoin:round; stroke-width:4; stroke-opacity:1; fill:none\" points=\"6565.82,1270.3 6565.82,1423.18 6639.09,1423.18 6639.09,1270.3 6565.82,1270.3 \"/>\n",
       "<path clip-path=\"url(#clip132)\" d=\"M6639.09 1117.42 L6639.09 1423.18 L6712.37 1423.18 L6712.37 1117.42 L6639.09 1117.42 L6639.09 1117.42  Z\" fill=\"#009af9\" fill-rule=\"evenodd\" fill-opacity=\"1\"/>\n",
       "<polyline clip-path=\"url(#clip132)\" style=\"stroke:#000000; stroke-linecap:round; stroke-linejoin:round; stroke-width:4; stroke-opacity:1; fill:none\" points=\"6639.09,1117.42 6639.09,1423.18 6712.37,1423.18 6712.37,1117.42 6639.09,1117.42 \"/>\n",
       "<path clip-path=\"url(#clip132)\" d=\"M6712.37 1423.18 L6712.37 1423.18 L6785.64 1423.18 L6785.64 1423.18 L6712.37 1423.18 L6712.37 1423.18  Z\" fill=\"#009af9\" fill-rule=\"evenodd\" fill-opacity=\"1\"/>\n",
       "<polyline clip-path=\"url(#clip132)\" style=\"stroke:#000000; stroke-linecap:round; stroke-linejoin:round; stroke-width:4; stroke-opacity:1; fill:none\" points=\"6712.37,1423.18 6712.37,1423.18 6785.64,1423.18 6712.37,1423.18 \"/>\n",
       "<path clip-path=\"url(#clip132)\" d=\"M6785.64 1270.3 L6785.64 1423.18 L6858.91 1423.18 L6858.91 1270.3 L6785.64 1270.3 L6785.64 1270.3  Z\" fill=\"#009af9\" fill-rule=\"evenodd\" fill-opacity=\"1\"/>\n",
       "<polyline clip-path=\"url(#clip132)\" style=\"stroke:#000000; stroke-linecap:round; stroke-linejoin:round; stroke-width:4; stroke-opacity:1; fill:none\" points=\"6785.64,1270.3 6785.64,1423.18 6858.91,1423.18 6858.91,1270.3 6785.64,1270.3 \"/>\n",
       "<path clip-path=\"url(#clip132)\" d=\"M6858.91 1117.42 L6858.91 1423.18 L6932.18 1423.18 L6932.18 1117.42 L6858.91 1117.42 L6858.91 1117.42  Z\" fill=\"#009af9\" fill-rule=\"evenodd\" fill-opacity=\"1\"/>\n",
       "<polyline clip-path=\"url(#clip132)\" style=\"stroke:#000000; stroke-linecap:round; stroke-linejoin:round; stroke-width:4; stroke-opacity:1; fill:none\" points=\"6858.91,1117.42 6858.91,1423.18 6932.18,1423.18 6932.18,1117.42 6858.91,1117.42 \"/>\n",
       "<path clip-path=\"url(#clip132)\" d=\"M6932.18 1423.18 L6932.18 1423.18 L7005.46 1423.18 L7005.46 1423.18 L6932.18 1423.18 L6932.18 1423.18  Z\" fill=\"#009af9\" fill-rule=\"evenodd\" fill-opacity=\"1\"/>\n",
       "<polyline clip-path=\"url(#clip132)\" style=\"stroke:#000000; stroke-linecap:round; stroke-linejoin:round; stroke-width:4; stroke-opacity:1; fill:none\" points=\"6932.18,1423.18 6932.18,1423.18 7005.46,1423.18 6932.18,1423.18 \"/>\n",
       "<path clip-path=\"url(#clip132)\" d=\"M7005.46 1423.18 L7005.46 1423.18 L7078.73 1423.18 L7078.73 1423.18 L7005.46 1423.18 L7005.46 1423.18  Z\" fill=\"#009af9\" fill-rule=\"evenodd\" fill-opacity=\"1\"/>\n",
       "<polyline clip-path=\"url(#clip132)\" style=\"stroke:#000000; stroke-linecap:round; stroke-linejoin:round; stroke-width:4; stroke-opacity:1; fill:none\" points=\"7005.46,1423.18 7005.46,1423.18 7078.73,1423.18 7005.46,1423.18 \"/>\n",
       "<path clip-path=\"url(#clip132)\" d=\"M7078.73 1270.3 L7078.73 1423.18 L7152 1423.18 L7152 1270.3 L7078.73 1270.3 L7078.73 1270.3  Z\" fill=\"#009af9\" fill-rule=\"evenodd\" fill-opacity=\"1\"/>\n",
       "<polyline clip-path=\"url(#clip132)\" style=\"stroke:#000000; stroke-linecap:round; stroke-linejoin:round; stroke-width:4; stroke-opacity:1; fill:none\" points=\"7078.73,1270.3 7078.73,1423.18 7152,1423.18 7152,1270.3 7078.73,1270.3 \"/>\n",
       "<path clip-path=\"url(#clip132)\" d=\"M7152 1270.3 L7152 1423.18 L7225.27 1423.18 L7225.27 1270.3 L7152 1270.3 L7152 1270.3  Z\" fill=\"#009af9\" fill-rule=\"evenodd\" fill-opacity=\"1\"/>\n",
       "<polyline clip-path=\"url(#clip132)\" style=\"stroke:#000000; stroke-linecap:round; stroke-linejoin:round; stroke-width:4; stroke-opacity:1; fill:none\" points=\"7152,1270.3 7152,1423.18 7225.27,1423.18 7225.27,1270.3 7152,1270.3 \"/>\n",
       "<path clip-path=\"url(#clip132)\" d=\"M7225.27 1270.3 L7225.27 1423.18 L7298.55 1423.18 L7298.55 1270.3 L7225.27 1270.3 L7225.27 1270.3  Z\" fill=\"#009af9\" fill-rule=\"evenodd\" fill-opacity=\"1\"/>\n",
       "<polyline clip-path=\"url(#clip132)\" style=\"stroke:#000000; stroke-linecap:round; stroke-linejoin:round; stroke-width:4; stroke-opacity:1; fill:none\" points=\"7225.27,1270.3 7225.27,1423.18 7298.55,1423.18 7298.55,1270.3 7225.27,1270.3 \"/>\n",
       "<path clip-path=\"url(#clip132)\" d=\"M7298.55 1270.3 L7298.55 1423.18 L7371.82 1423.18 L7371.82 1270.3 L7298.55 1270.3 L7298.55 1270.3  Z\" fill=\"#009af9\" fill-rule=\"evenodd\" fill-opacity=\"1\"/>\n",
       "<polyline clip-path=\"url(#clip132)\" style=\"stroke:#000000; stroke-linecap:round; stroke-linejoin:round; stroke-width:4; stroke-opacity:1; fill:none\" points=\"7298.55,1270.3 7298.55,1423.18 7371.82,1423.18 7371.82,1270.3 7298.55,1270.3 \"/>\n",
       "<path clip-path=\"url(#clip132)\" d=\"M7371.82 1270.3 L7371.82 1423.18 L7445.09 1423.18 L7445.09 1270.3 L7371.82 1270.3 L7371.82 1270.3  Z\" fill=\"#009af9\" fill-rule=\"evenodd\" fill-opacity=\"1\"/>\n",
       "<polyline clip-path=\"url(#clip132)\" style=\"stroke:#000000; stroke-linecap:round; stroke-linejoin:round; stroke-width:4; stroke-opacity:1; fill:none\" points=\"7371.82,1270.3 7371.82,1423.18 7445.09,1423.18 7445.09,1270.3 7371.82,1270.3 \"/>\n",
       "<path clip-path=\"url(#clip132)\" d=\"M7445.09 1270.3 L7445.09 1423.18 L7518.36 1423.18 L7518.36 1270.3 L7445.09 1270.3 L7445.09 1270.3  Z\" fill=\"#009af9\" fill-rule=\"evenodd\" fill-opacity=\"1\"/>\n",
       "<polyline clip-path=\"url(#clip132)\" style=\"stroke:#000000; stroke-linecap:round; stroke-linejoin:round; stroke-width:4; stroke-opacity:1; fill:none\" points=\"7445.09,1270.3 7445.09,1423.18 7518.36,1423.18 7518.36,1270.3 7445.09,1270.3 \"/>\n",
       "<path clip-path=\"url(#clip132)\" d=\"M7518.36 1423.18 L7518.36 1423.18 L7591.64 1423.18 L7591.64 1423.18 L7518.36 1423.18 L7518.36 1423.18  Z\" fill=\"#009af9\" fill-rule=\"evenodd\" fill-opacity=\"1\"/>\n",
       "<polyline clip-path=\"url(#clip132)\" style=\"stroke:#000000; stroke-linecap:round; stroke-linejoin:round; stroke-width:4; stroke-opacity:1; fill:none\" points=\"7518.36,1423.18 7518.36,1423.18 7591.64,1423.18 7518.36,1423.18 \"/>\n",
       "<path clip-path=\"url(#clip132)\" d=\"M7591.64 1423.18 L7591.64 1423.18 L7664.91 1423.18 L7664.91 1423.18 L7591.64 1423.18 L7591.64 1423.18  Z\" fill=\"#009af9\" fill-rule=\"evenodd\" fill-opacity=\"1\"/>\n",
       "<polyline clip-path=\"url(#clip132)\" style=\"stroke:#000000; stroke-linecap:round; stroke-linejoin:round; stroke-width:4; stroke-opacity:1; fill:none\" points=\"7591.64,1423.18 7591.64,1423.18 7664.91,1423.18 7591.64,1423.18 \"/>\n",
       "<path clip-path=\"url(#clip132)\" d=\"M7664.91 1423.18 L7664.91 1423.18 L7738.18 1423.18 L7738.18 1423.18 L7664.91 1423.18 L7664.91 1423.18  Z\" fill=\"#009af9\" fill-rule=\"evenodd\" fill-opacity=\"1\"/>\n",
       "<polyline clip-path=\"url(#clip132)\" style=\"stroke:#000000; stroke-linecap:round; stroke-linejoin:round; stroke-width:4; stroke-opacity:1; fill:none\" points=\"7664.91,1423.18 7664.91,1423.18 7738.18,1423.18 7664.91,1423.18 \"/>\n",
       "<path clip-path=\"url(#clip132)\" d=\"M7738.18 1423.18 L7738.18 1423.18 L7811.45 1423.18 L7811.45 1423.18 L7738.18 1423.18 L7738.18 1423.18  Z\" fill=\"#009af9\" fill-rule=\"evenodd\" fill-opacity=\"1\"/>\n",
       "<polyline clip-path=\"url(#clip132)\" style=\"stroke:#000000; stroke-linecap:round; stroke-linejoin:round; stroke-width:4; stroke-opacity:1; fill:none\" points=\"7738.18,1423.18 7738.18,1423.18 7811.45,1423.18 7738.18,1423.18 \"/>\n",
       "<path clip-path=\"url(#clip132)\" d=\"M7811.45 1270.3 L7811.45 1423.18 L7884.73 1423.18 L7884.73 1270.3 L7811.45 1270.3 L7811.45 1270.3  Z\" fill=\"#009af9\" fill-rule=\"evenodd\" fill-opacity=\"1\"/>\n",
       "<polyline clip-path=\"url(#clip132)\" style=\"stroke:#000000; stroke-linecap:round; stroke-linejoin:round; stroke-width:4; stroke-opacity:1; fill:none\" points=\"7811.45,1270.3 7811.45,1423.18 7884.73,1423.18 7884.73,1270.3 7811.45,1270.3 \"/>\n",
       "<path clip-path=\"url(#clip132)\" d=\"M7884.73 1423.18 L7884.73 1423.18 L7958 1423.18 L7958 1423.18 L7884.73 1423.18 L7884.73 1423.18  Z\" fill=\"#009af9\" fill-rule=\"evenodd\" fill-opacity=\"1\"/>\n",
       "<polyline clip-path=\"url(#clip132)\" style=\"stroke:#000000; stroke-linecap:round; stroke-linejoin:round; stroke-width:4; stroke-opacity:1; fill:none\" points=\"7884.73,1423.18 7884.73,1423.18 7958,1423.18 7884.73,1423.18 \"/>\n",
       "<path clip-path=\"url(#clip132)\" d=\"M7958 1423.18 L7958 1423.18 L8031.27 1423.18 L8031.27 1423.18 L7958 1423.18 L7958 1423.18  Z\" fill=\"#009af9\" fill-rule=\"evenodd\" fill-opacity=\"1\"/>\n",
       "<polyline clip-path=\"url(#clip132)\" style=\"stroke:#000000; stroke-linecap:round; stroke-linejoin:round; stroke-width:4; stroke-opacity:1; fill:none\" points=\"7958,1423.18 7958,1423.18 8031.27,1423.18 7958,1423.18 \"/>\n",
       "<path clip-path=\"url(#clip132)\" d=\"M8031.27 1423.18 L8031.27 1423.18 L8104.54 1423.18 L8104.54 1423.18 L8031.27 1423.18 L8031.27 1423.18  Z\" fill=\"#009af9\" fill-rule=\"evenodd\" fill-opacity=\"1\"/>\n",
       "<polyline clip-path=\"url(#clip132)\" style=\"stroke:#000000; stroke-linecap:round; stroke-linejoin:round; stroke-width:4; stroke-opacity:1; fill:none\" points=\"8031.27,1423.18 8031.27,1423.18 8104.54,1423.18 8031.27,1423.18 \"/>\n",
       "<path clip-path=\"url(#clip132)\" d=\"M8104.54 1270.3 L8104.54 1423.18 L8177.82 1423.18 L8177.82 1270.3 L8104.54 1270.3 L8104.54 1270.3  Z\" fill=\"#009af9\" fill-rule=\"evenodd\" fill-opacity=\"1\"/>\n",
       "<polyline clip-path=\"url(#clip132)\" style=\"stroke:#000000; stroke-linecap:round; stroke-linejoin:round; stroke-width:4; stroke-opacity:1; fill:none\" points=\"8104.54,1270.3 8104.54,1423.18 8177.82,1423.18 8177.82,1270.3 8104.54,1270.3 \"/>\n",
       "<path clip-path=\"url(#clip132)\" d=\"M8177.82 1423.18 L8177.82 1423.18 L8251.09 1423.18 L8251.09 1423.18 L8177.82 1423.18 L8177.82 1423.18  Z\" fill=\"#009af9\" fill-rule=\"evenodd\" fill-opacity=\"1\"/>\n",
       "<polyline clip-path=\"url(#clip132)\" style=\"stroke:#000000; stroke-linecap:round; stroke-linejoin:round; stroke-width:4; stroke-opacity:1; fill:none\" points=\"8177.82,1423.18 8177.82,1423.18 8251.09,1423.18 8177.82,1423.18 \"/>\n",
       "<path clip-path=\"url(#clip132)\" d=\"M8251.09 1423.18 L8251.09 1423.18 L8324.36 1423.18 L8324.36 1423.18 L8251.09 1423.18 L8251.09 1423.18  Z\" fill=\"#009af9\" fill-rule=\"evenodd\" fill-opacity=\"1\"/>\n",
       "<polyline clip-path=\"url(#clip132)\" style=\"stroke:#000000; stroke-linecap:round; stroke-linejoin:round; stroke-width:4; stroke-opacity:1; fill:none\" points=\"8251.09,1423.18 8251.09,1423.18 8324.36,1423.18 8251.09,1423.18 \"/>\n",
       "<path clip-path=\"url(#clip132)\" d=\"M8324.36 1423.18 L8324.36 1423.18 L8397.63 1423.18 L8397.63 1423.18 L8324.36 1423.18 L8324.36 1423.18  Z\" fill=\"#009af9\" fill-rule=\"evenodd\" fill-opacity=\"1\"/>\n",
       "<polyline clip-path=\"url(#clip132)\" style=\"stroke:#000000; stroke-linecap:round; stroke-linejoin:round; stroke-width:4; stroke-opacity:1; fill:none\" points=\"8324.36,1423.18 8324.36,1423.18 8397.63,1423.18 8324.36,1423.18 \"/>\n",
       "<path clip-path=\"url(#clip132)\" d=\"M8397.63 1270.3 L8397.63 1423.18 L8470.91 1423.18 L8470.91 1270.3 L8397.63 1270.3 L8397.63 1270.3  Z\" fill=\"#009af9\" fill-rule=\"evenodd\" fill-opacity=\"1\"/>\n",
       "<polyline clip-path=\"url(#clip132)\" style=\"stroke:#000000; stroke-linecap:round; stroke-linejoin:round; stroke-width:4; stroke-opacity:1; fill:none\" points=\"8397.63,1270.3 8397.63,1423.18 8470.91,1423.18 8470.91,1270.3 8397.63,1270.3 \"/>\n",
       "<path clip-path=\"url(#clip132)\" d=\"M8470.91 1423.18 L8470.91 1423.18 L8544.18 1423.18 L8544.18 1423.18 L8470.91 1423.18 L8470.91 1423.18  Z\" fill=\"#009af9\" fill-rule=\"evenodd\" fill-opacity=\"1\"/>\n",
       "<polyline clip-path=\"url(#clip132)\" style=\"stroke:#000000; stroke-linecap:round; stroke-linejoin:round; stroke-width:4; stroke-opacity:1; fill:none\" points=\"8470.91,1423.18 8470.91,1423.18 8544.18,1423.18 8470.91,1423.18 \"/>\n",
       "<path clip-path=\"url(#clip132)\" d=\"M8544.18 1423.18 L8544.18 1423.18 L8617.45 1423.18 L8617.45 1423.18 L8544.18 1423.18 L8544.18 1423.18  Z\" fill=\"#009af9\" fill-rule=\"evenodd\" fill-opacity=\"1\"/>\n",
       "<polyline clip-path=\"url(#clip132)\" style=\"stroke:#000000; stroke-linecap:round; stroke-linejoin:round; stroke-width:4; stroke-opacity:1; fill:none\" points=\"8544.18,1423.18 8544.18,1423.18 8617.45,1423.18 8544.18,1423.18 \"/>\n",
       "<path clip-path=\"url(#clip132)\" d=\"M8617.45 1423.18 L8617.45 1423.18 L8690.72 1423.18 L8690.72 1423.18 L8617.45 1423.18 L8617.45 1423.18  Z\" fill=\"#009af9\" fill-rule=\"evenodd\" fill-opacity=\"1\"/>\n",
       "<polyline clip-path=\"url(#clip132)\" style=\"stroke:#000000; stroke-linecap:round; stroke-linejoin:round; stroke-width:4; stroke-opacity:1; fill:none\" points=\"8617.45,1423.18 8617.45,1423.18 8690.72,1423.18 8617.45,1423.18 \"/>\n",
       "<path clip-path=\"url(#clip132)\" d=\"M8690.72 1423.18 L8690.72 1423.18 L8764 1423.18 L8764 1423.18 L8690.72 1423.18 L8690.72 1423.18  Z\" fill=\"#009af9\" fill-rule=\"evenodd\" fill-opacity=\"1\"/>\n",
       "<polyline clip-path=\"url(#clip132)\" style=\"stroke:#000000; stroke-linecap:round; stroke-linejoin:round; stroke-width:4; stroke-opacity:1; fill:none\" points=\"8690.72,1423.18 8690.72,1423.18 8764,1423.18 8690.72,1423.18 \"/>\n",
       "<path clip-path=\"url(#clip132)\" d=\"M8764 1423.18 L8764 1423.18 L8837.27 1423.18 L8837.27 1423.18 L8764 1423.18 L8764 1423.18  Z\" fill=\"#009af9\" fill-rule=\"evenodd\" fill-opacity=\"1\"/>\n",
       "<polyline clip-path=\"url(#clip132)\" style=\"stroke:#000000; stroke-linecap:round; stroke-linejoin:round; stroke-width:4; stroke-opacity:1; fill:none\" points=\"8764,1423.18 8764,1423.18 8837.27,1423.18 8764,1423.18 \"/>\n",
       "<path clip-path=\"url(#clip132)\" d=\"M8837.27 1423.18 L8837.27 1423.18 L8910.54 1423.18 L8910.54 1423.18 L8837.27 1423.18 L8837.27 1423.18  Z\" fill=\"#009af9\" fill-rule=\"evenodd\" fill-opacity=\"1\"/>\n",
       "<polyline clip-path=\"url(#clip132)\" style=\"stroke:#000000; stroke-linecap:round; stroke-linejoin:round; stroke-width:4; stroke-opacity:1; fill:none\" points=\"8837.27,1423.18 8837.27,1423.18 8910.54,1423.18 8837.27,1423.18 \"/>\n",
       "<path clip-path=\"url(#clip132)\" d=\"M8910.54 1423.18 L8910.54 1423.18 L8983.81 1423.18 L8983.81 1423.18 L8910.54 1423.18 L8910.54 1423.18  Z\" fill=\"#009af9\" fill-rule=\"evenodd\" fill-opacity=\"1\"/>\n",
       "<polyline clip-path=\"url(#clip132)\" style=\"stroke:#000000; stroke-linecap:round; stroke-linejoin:round; stroke-width:4; stroke-opacity:1; fill:none\" points=\"8910.54,1423.18 8910.54,1423.18 8983.81,1423.18 8910.54,1423.18 \"/>\n",
       "<path clip-path=\"url(#clip132)\" d=\"M8983.81 1270.3 L8983.81 1423.18 L9057.09 1423.18 L9057.09 1270.3 L8983.81 1270.3 L8983.81 1270.3  Z\" fill=\"#009af9\" fill-rule=\"evenodd\" fill-opacity=\"1\"/>\n",
       "<polyline clip-path=\"url(#clip132)\" style=\"stroke:#000000; stroke-linecap:round; stroke-linejoin:round; stroke-width:4; stroke-opacity:1; fill:none\" points=\"8983.81,1270.3 8983.81,1423.18 9057.09,1423.18 9057.09,1270.3 8983.81,1270.3 \"/>\n",
       "<path clip-path=\"url(#clip132)\" d=\"M9057.09 1423.18 L9057.09 1423.18 L9130.36 1423.18 L9130.36 1423.18 L9057.09 1423.18 L9057.09 1423.18  Z\" fill=\"#009af9\" fill-rule=\"evenodd\" fill-opacity=\"1\"/>\n",
       "<polyline clip-path=\"url(#clip132)\" style=\"stroke:#000000; stroke-linecap:round; stroke-linejoin:round; stroke-width:4; stroke-opacity:1; fill:none\" points=\"9057.09,1423.18 9057.09,1423.18 9130.36,1423.18 9057.09,1423.18 \"/>\n",
       "<path clip-path=\"url(#clip132)\" d=\"M9130.36 1270.3 L9130.36 1423.18 L9203.63 1423.18 L9203.63 1270.3 L9130.36 1270.3 L9130.36 1270.3  Z\" fill=\"#009af9\" fill-rule=\"evenodd\" fill-opacity=\"1\"/>\n",
       "<polyline clip-path=\"url(#clip132)\" style=\"stroke:#000000; stroke-linecap:round; stroke-linejoin:round; stroke-width:4; stroke-opacity:1; fill:none\" points=\"9130.36,1270.3 9130.36,1423.18 9203.63,1423.18 9203.63,1270.3 9130.36,1270.3 \"/>\n",
       "<path clip-path=\"url(#clip132)\" d=\"M9203.63 1423.18 L9203.63 1423.18 L9276.9 1423.18 L9276.9 1423.18 L9203.63 1423.18 L9203.63 1423.18  Z\" fill=\"#009af9\" fill-rule=\"evenodd\" fill-opacity=\"1\"/>\n",
       "<polyline clip-path=\"url(#clip132)\" style=\"stroke:#000000; stroke-linecap:round; stroke-linejoin:round; stroke-width:4; stroke-opacity:1; fill:none\" points=\"9203.63,1423.18 9203.63,1423.18 9276.9,1423.18 9203.63,1423.18 \"/>\n",
       "<path clip-path=\"url(#clip132)\" d=\"M9276.9 1423.18 L9276.9 1423.18 L9350.18 1423.18 L9350.18 1423.18 L9276.9 1423.18 L9276.9 1423.18  Z\" fill=\"#009af9\" fill-rule=\"evenodd\" fill-opacity=\"1\"/>\n",
       "<polyline clip-path=\"url(#clip132)\" style=\"stroke:#000000; stroke-linecap:round; stroke-linejoin:round; stroke-width:4; stroke-opacity:1; fill:none\" points=\"9276.9,1423.18 9276.9,1423.18 9350.18,1423.18 9276.9,1423.18 \"/>\n",
       "<path clip-path=\"url(#clip132)\" d=\"M9350.18 1423.18 L9350.18 1423.18 L9423.45 1423.18 L9423.45 1423.18 L9350.18 1423.18 L9350.18 1423.18  Z\" fill=\"#009af9\" fill-rule=\"evenodd\" fill-opacity=\"1\"/>\n",
       "<polyline clip-path=\"url(#clip132)\" style=\"stroke:#000000; stroke-linecap:round; stroke-linejoin:round; stroke-width:4; stroke-opacity:1; fill:none\" points=\"9350.18,1423.18 9350.18,1423.18 9423.45,1423.18 9350.18,1423.18 \"/>\n",
       "<path clip-path=\"url(#clip132)\" d=\"M9423.45 1270.3 L9423.45 1423.18 L9496.72 1423.18 L9496.72 1270.3 L9423.45 1270.3 L9423.45 1270.3  Z\" fill=\"#009af9\" fill-rule=\"evenodd\" fill-opacity=\"1\"/>\n",
       "<polyline clip-path=\"url(#clip132)\" style=\"stroke:#000000; stroke-linecap:round; stroke-linejoin:round; stroke-width:4; stroke-opacity:1; fill:none\" points=\"9423.45,1270.3 9423.45,1423.18 9496.72,1423.18 9496.72,1270.3 9423.45,1270.3 \"/>\n",
       "<path clip-path=\"url(#clip132)\" d=\"M9496.72 1423.18 L9496.72 1423.18 L9569.99 1423.18 L9569.99 1423.18 L9496.72 1423.18 L9496.72 1423.18  Z\" fill=\"#009af9\" fill-rule=\"evenodd\" fill-opacity=\"1\"/>\n",
       "<polyline clip-path=\"url(#clip132)\" style=\"stroke:#000000; stroke-linecap:round; stroke-linejoin:round; stroke-width:4; stroke-opacity:1; fill:none\" points=\"9496.72,1423.18 9496.72,1423.18 9569.99,1423.18 9496.72,1423.18 \"/>\n",
       "<path clip-path=\"url(#clip132)\" d=\"M9569.99 1423.18 L9569.99 1423.18 L9643.27 1423.18 L9643.27 1423.18 L9569.99 1423.18 L9569.99 1423.18  Z\" fill=\"#009af9\" fill-rule=\"evenodd\" fill-opacity=\"1\"/>\n",
       "<polyline clip-path=\"url(#clip132)\" style=\"stroke:#000000; stroke-linecap:round; stroke-linejoin:round; stroke-width:4; stroke-opacity:1; fill:none\" points=\"9569.99,1423.18 9569.99,1423.18 9643.27,1423.18 9569.99,1423.18 \"/>\n",
       "<path clip-path=\"url(#clip132)\" d=\"M9643.27 1423.18 L9643.27 1423.18 L9716.54 1423.18 L9716.54 1423.18 L9643.27 1423.18 L9643.27 1423.18  Z\" fill=\"#009af9\" fill-rule=\"evenodd\" fill-opacity=\"1\"/>\n",
       "<polyline clip-path=\"url(#clip132)\" style=\"stroke:#000000; stroke-linecap:round; stroke-linejoin:round; stroke-width:4; stroke-opacity:1; fill:none\" points=\"9643.27,1423.18 9643.27,1423.18 9716.54,1423.18 9643.27,1423.18 \"/>\n",
       "<path clip-path=\"url(#clip132)\" d=\"M9716.54 1270.3 L9716.54 1423.18 L9789.81 1423.18 L9789.81 1270.3 L9716.54 1270.3 L9716.54 1270.3  Z\" fill=\"#009af9\" fill-rule=\"evenodd\" fill-opacity=\"1\"/>\n",
       "<polyline clip-path=\"url(#clip132)\" style=\"stroke:#000000; stroke-linecap:round; stroke-linejoin:round; stroke-width:4; stroke-opacity:1; fill:none\" points=\"9716.54,1270.3 9716.54,1423.18 9789.81,1423.18 9789.81,1270.3 9716.54,1270.3 \"/>\n",
       "<path clip-path=\"url(#clip132)\" d=\"M9789.81 1423.18 L9789.81 1423.18 L9863.08 1423.18 L9863.08 1423.18 L9789.81 1423.18 L9789.81 1423.18  Z\" fill=\"#009af9\" fill-rule=\"evenodd\" fill-opacity=\"1\"/>\n",
       "<polyline clip-path=\"url(#clip132)\" style=\"stroke:#000000; stroke-linecap:round; stroke-linejoin:round; stroke-width:4; stroke-opacity:1; fill:none\" points=\"9789.81,1423.18 9789.81,1423.18 9863.08,1423.18 9789.81,1423.18 \"/>\n",
       "<path clip-path=\"url(#clip132)\" d=\"M9863.08 1423.18 L9863.08 1423.18 L9936.36 1423.18 L9936.36 1423.18 L9863.08 1423.18 L9863.08 1423.18  Z\" fill=\"#009af9\" fill-rule=\"evenodd\" fill-opacity=\"1\"/>\n",
       "<polyline clip-path=\"url(#clip132)\" style=\"stroke:#000000; stroke-linecap:round; stroke-linejoin:round; stroke-width:4; stroke-opacity:1; fill:none\" points=\"9863.08,1423.18 9863.08,1423.18 9936.36,1423.18 9863.08,1423.18 \"/>\n",
       "<path clip-path=\"url(#clip132)\" d=\"M9936.36 1423.18 L9936.36 1423.18 L10009.6 1423.18 L10009.6 1423.18 L9936.36 1423.18 L9936.36 1423.18  Z\" fill=\"#009af9\" fill-rule=\"evenodd\" fill-opacity=\"1\"/>\n",
       "<polyline clip-path=\"url(#clip132)\" style=\"stroke:#000000; stroke-linecap:round; stroke-linejoin:round; stroke-width:4; stroke-opacity:1; fill:none\" points=\"9936.36,1423.18 9936.36,1423.18 10009.6,1423.18 9936.36,1423.18 \"/>\n",
       "<path clip-path=\"url(#clip132)\" d=\"M10009.6 1423.18 L10009.6 1423.18 L10082.9 1423.18 L10082.9 1423.18 L10009.6 1423.18 L10009.6 1423.18  Z\" fill=\"#009af9\" fill-rule=\"evenodd\" fill-opacity=\"1\"/>\n",
       "<polyline clip-path=\"url(#clip132)\" style=\"stroke:#000000; stroke-linecap:round; stroke-linejoin:round; stroke-width:4; stroke-opacity:1; fill:none\" points=\"10009.6,1423.18 10009.6,1423.18 10082.9,1423.18 10009.6,1423.18 \"/>\n",
       "<path clip-path=\"url(#clip132)\" d=\"M10082.9 1423.18 L10082.9 1423.18 L10156.2 1423.18 L10156.2 1423.18 L10082.9 1423.18 L10082.9 1423.18  Z\" fill=\"#009af9\" fill-rule=\"evenodd\" fill-opacity=\"1\"/>\n",
       "<polyline clip-path=\"url(#clip132)\" style=\"stroke:#000000; stroke-linecap:round; stroke-linejoin:round; stroke-width:4; stroke-opacity:1; fill:none\" points=\"10082.9,1423.18 10082.9,1423.18 10156.2,1423.18 10082.9,1423.18 \"/>\n",
       "<path clip-path=\"url(#clip132)\" d=\"M10156.2 1423.18 L10156.2 1423.18 L10229.4 1423.18 L10229.4 1423.18 L10156.2 1423.18 L10156.2 1423.18  Z\" fill=\"#009af9\" fill-rule=\"evenodd\" fill-opacity=\"1\"/>\n",
       "<polyline clip-path=\"url(#clip132)\" style=\"stroke:#000000; stroke-linecap:round; stroke-linejoin:round; stroke-width:4; stroke-opacity:1; fill:none\" points=\"10156.2,1423.18 10156.2,1423.18 10229.4,1423.18 10156.2,1423.18 \"/>\n",
       "<path clip-path=\"url(#clip132)\" d=\"M10229.4 1423.18 L10229.4 1423.18 L10302.7 1423.18 L10302.7 1423.18 L10229.4 1423.18 L10229.4 1423.18  Z\" fill=\"#009af9\" fill-rule=\"evenodd\" fill-opacity=\"1\"/>\n",
       "<polyline clip-path=\"url(#clip132)\" style=\"stroke:#000000; stroke-linecap:round; stroke-linejoin:round; stroke-width:4; stroke-opacity:1; fill:none\" points=\"10229.4,1423.18 10229.4,1423.18 10302.7,1423.18 10229.4,1423.18 \"/>\n",
       "<path clip-path=\"url(#clip132)\" d=\"M10302.7 1423.18 L10302.7 1423.18 L10376 1423.18 L10376 1423.18 L10302.7 1423.18 L10302.7 1423.18  Z\" fill=\"#009af9\" fill-rule=\"evenodd\" fill-opacity=\"1\"/>\n",
       "<polyline clip-path=\"url(#clip132)\" style=\"stroke:#000000; stroke-linecap:round; stroke-linejoin:round; stroke-width:4; stroke-opacity:1; fill:none\" points=\"10302.7,1423.18 10302.7,1423.18 10376,1423.18 10302.7,1423.18 \"/>\n",
       "<path clip-path=\"url(#clip132)\" d=\"M10376 1423.18 L10376 1423.18 L10449.3 1423.18 L10449.3 1423.18 L10376 1423.18 L10376 1423.18  Z\" fill=\"#009af9\" fill-rule=\"evenodd\" fill-opacity=\"1\"/>\n",
       "<polyline clip-path=\"url(#clip132)\" style=\"stroke:#000000; stroke-linecap:round; stroke-linejoin:round; stroke-width:4; stroke-opacity:1; fill:none\" points=\"10376,1423.18 10376,1423.18 10449.3,1423.18 10376,1423.18 \"/>\n",
       "<path clip-path=\"url(#clip132)\" d=\"M10449.3 1423.18 L10449.3 1423.18 L10522.5 1423.18 L10522.5 1423.18 L10449.3 1423.18 L10449.3 1423.18  Z\" fill=\"#009af9\" fill-rule=\"evenodd\" fill-opacity=\"1\"/>\n",
       "<polyline clip-path=\"url(#clip132)\" style=\"stroke:#000000; stroke-linecap:round; stroke-linejoin:round; stroke-width:4; stroke-opacity:1; fill:none\" points=\"10449.3,1423.18 10449.3,1423.18 10522.5,1423.18 10449.3,1423.18 \"/>\n",
       "<path clip-path=\"url(#clip132)\" d=\"M10522.5 1423.18 L10522.5 1423.18 L10595.8 1423.18 L10595.8 1423.18 L10522.5 1423.18 L10522.5 1423.18  Z\" fill=\"#009af9\" fill-rule=\"evenodd\" fill-opacity=\"1\"/>\n",
       "<polyline clip-path=\"url(#clip132)\" style=\"stroke:#000000; stroke-linecap:round; stroke-linejoin:round; stroke-width:4; stroke-opacity:1; fill:none\" points=\"10522.5,1423.18 10522.5,1423.18 10595.8,1423.18 10522.5,1423.18 \"/>\n",
       "<path clip-path=\"url(#clip132)\" d=\"M10595.8 1423.18 L10595.8 1423.18 L10669.1 1423.18 L10669.1 1423.18 L10595.8 1423.18 L10595.8 1423.18  Z\" fill=\"#009af9\" fill-rule=\"evenodd\" fill-opacity=\"1\"/>\n",
       "<polyline clip-path=\"url(#clip132)\" style=\"stroke:#000000; stroke-linecap:round; stroke-linejoin:round; stroke-width:4; stroke-opacity:1; fill:none\" points=\"10595.8,1423.18 10595.8,1423.18 10669.1,1423.18 10595.8,1423.18 \"/>\n",
       "<path clip-path=\"url(#clip132)\" d=\"M10669.1 1423.18 L10669.1 1423.18 L10742.4 1423.18 L10742.4 1423.18 L10669.1 1423.18 L10669.1 1423.18  Z\" fill=\"#009af9\" fill-rule=\"evenodd\" fill-opacity=\"1\"/>\n",
       "<polyline clip-path=\"url(#clip132)\" style=\"stroke:#000000; stroke-linecap:round; stroke-linejoin:round; stroke-width:4; stroke-opacity:1; fill:none\" points=\"10669.1,1423.18 10669.1,1423.18 10742.4,1423.18 10669.1,1423.18 \"/>\n",
       "<path clip-path=\"url(#clip132)\" d=\"M10742.4 1423.18 L10742.4 1423.18 L10815.6 1423.18 L10815.6 1423.18 L10742.4 1423.18 L10742.4 1423.18  Z\" fill=\"#009af9\" fill-rule=\"evenodd\" fill-opacity=\"1\"/>\n",
       "<polyline clip-path=\"url(#clip132)\" style=\"stroke:#000000; stroke-linecap:round; stroke-linejoin:round; stroke-width:4; stroke-opacity:1; fill:none\" points=\"10742.4,1423.18 10742.4,1423.18 10815.6,1423.18 10742.4,1423.18 \"/>\n",
       "<path clip-path=\"url(#clip132)\" d=\"M10815.6 1423.18 L10815.6 1423.18 L10888.9 1423.18 L10888.9 1423.18 L10815.6 1423.18 L10815.6 1423.18  Z\" fill=\"#009af9\" fill-rule=\"evenodd\" fill-opacity=\"1\"/>\n",
       "<polyline clip-path=\"url(#clip132)\" style=\"stroke:#000000; stroke-linecap:round; stroke-linejoin:round; stroke-width:4; stroke-opacity:1; fill:none\" points=\"10815.6,1423.18 10815.6,1423.18 10888.9,1423.18 10815.6,1423.18 \"/>\n",
       "<path clip-path=\"url(#clip132)\" d=\"M10888.9 1423.18 L10888.9 1423.18 L10962.2 1423.18 L10962.2 1423.18 L10888.9 1423.18 L10888.9 1423.18  Z\" fill=\"#009af9\" fill-rule=\"evenodd\" fill-opacity=\"1\"/>\n",
       "<polyline clip-path=\"url(#clip132)\" style=\"stroke:#000000; stroke-linecap:round; stroke-linejoin:round; stroke-width:4; stroke-opacity:1; fill:none\" points=\"10888.9,1423.18 10888.9,1423.18 10962.2,1423.18 10888.9,1423.18 \"/>\n",
       "<path clip-path=\"url(#clip132)\" d=\"M10962.2 1423.18 L10962.2 1423.18 L11035.4 1423.18 L11035.4 1423.18 L10962.2 1423.18 L10962.2 1423.18  Z\" fill=\"#009af9\" fill-rule=\"evenodd\" fill-opacity=\"1\"/>\n",
       "<polyline clip-path=\"url(#clip132)\" style=\"stroke:#000000; stroke-linecap:round; stroke-linejoin:round; stroke-width:4; stroke-opacity:1; fill:none\" points=\"10962.2,1423.18 10962.2,1423.18 11035.4,1423.18 10962.2,1423.18 \"/>\n",
       "<path clip-path=\"url(#clip132)\" d=\"M11035.4 1423.18 L11035.4 1423.18 L11108.7 1423.18 L11108.7 1423.18 L11035.4 1423.18 L11035.4 1423.18  Z\" fill=\"#009af9\" fill-rule=\"evenodd\" fill-opacity=\"1\"/>\n",
       "<polyline clip-path=\"url(#clip132)\" style=\"stroke:#000000; stroke-linecap:round; stroke-linejoin:round; stroke-width:4; stroke-opacity:1; fill:none\" points=\"11035.4,1423.18 11035.4,1423.18 11108.7,1423.18 11035.4,1423.18 \"/>\n",
       "<path clip-path=\"url(#clip132)\" d=\"M11108.7 1423.18 L11108.7 1423.18 L11182 1423.18 L11182 1423.18 L11108.7 1423.18 L11108.7 1423.18  Z\" fill=\"#009af9\" fill-rule=\"evenodd\" fill-opacity=\"1\"/>\n",
       "<polyline clip-path=\"url(#clip132)\" style=\"stroke:#000000; stroke-linecap:round; stroke-linejoin:round; stroke-width:4; stroke-opacity:1; fill:none\" points=\"11108.7,1423.18 11108.7,1423.18 11182,1423.18 11108.7,1423.18 \"/>\n",
       "<path clip-path=\"url(#clip132)\" d=\"M11182 1423.18 L11182 1423.18 L11255.3 1423.18 L11255.3 1423.18 L11182 1423.18 L11182 1423.18  Z\" fill=\"#009af9\" fill-rule=\"evenodd\" fill-opacity=\"1\"/>\n",
       "<polyline clip-path=\"url(#clip132)\" style=\"stroke:#000000; stroke-linecap:round; stroke-linejoin:round; stroke-width:4; stroke-opacity:1; fill:none\" points=\"11182,1423.18 11182,1423.18 11255.3,1423.18 11182,1423.18 \"/>\n",
       "<path clip-path=\"url(#clip132)\" d=\"M11255.3 1423.18 L11255.3 1423.18 L11328.5 1423.18 L11328.5 1423.18 L11255.3 1423.18 L11255.3 1423.18  Z\" fill=\"#009af9\" fill-rule=\"evenodd\" fill-opacity=\"1\"/>\n",
       "<polyline clip-path=\"url(#clip132)\" style=\"stroke:#000000; stroke-linecap:round; stroke-linejoin:round; stroke-width:4; stroke-opacity:1; fill:none\" points=\"11255.3,1423.18 11255.3,1423.18 11328.5,1423.18 11255.3,1423.18 \"/>\n",
       "<path clip-path=\"url(#clip132)\" d=\"M11328.5 1423.18 L11328.5 1423.18 L11401.8 1423.18 L11401.8 1423.18 L11328.5 1423.18 L11328.5 1423.18  Z\" fill=\"#009af9\" fill-rule=\"evenodd\" fill-opacity=\"1\"/>\n",
       "<polyline clip-path=\"url(#clip132)\" style=\"stroke:#000000; stroke-linecap:round; stroke-linejoin:round; stroke-width:4; stroke-opacity:1; fill:none\" points=\"11328.5,1423.18 11328.5,1423.18 11401.8,1423.18 11328.5,1423.18 \"/>\n",
       "<path clip-path=\"url(#clip132)\" d=\"M11401.8 1423.18 L11401.8 1423.18 L11475.1 1423.18 L11475.1 1423.18 L11401.8 1423.18 L11401.8 1423.18  Z\" fill=\"#009af9\" fill-rule=\"evenodd\" fill-opacity=\"1\"/>\n",
       "<polyline clip-path=\"url(#clip132)\" style=\"stroke:#000000; stroke-linecap:round; stroke-linejoin:round; stroke-width:4; stroke-opacity:1; fill:none\" points=\"11401.8,1423.18 11401.8,1423.18 11475.1,1423.18 11401.8,1423.18 \"/>\n",
       "<path clip-path=\"url(#clip132)\" d=\"M11475.1 1423.18 L11475.1 1423.18 L11548.4 1423.18 L11548.4 1423.18 L11475.1 1423.18 L11475.1 1423.18  Z\" fill=\"#009af9\" fill-rule=\"evenodd\" fill-opacity=\"1\"/>\n",
       "<polyline clip-path=\"url(#clip132)\" style=\"stroke:#000000; stroke-linecap:round; stroke-linejoin:round; stroke-width:4; stroke-opacity:1; fill:none\" points=\"11475.1,1423.18 11475.1,1423.18 11548.4,1423.18 11475.1,1423.18 \"/>\n",
       "<path clip-path=\"url(#clip132)\" d=\"M11548.4 1423.18 L11548.4 1423.18 L11621.6 1423.18 L11621.6 1423.18 L11548.4 1423.18 L11548.4 1423.18  Z\" fill=\"#009af9\" fill-rule=\"evenodd\" fill-opacity=\"1\"/>\n",
       "<polyline clip-path=\"url(#clip132)\" style=\"stroke:#000000; stroke-linecap:round; stroke-linejoin:round; stroke-width:4; stroke-opacity:1; fill:none\" points=\"11548.4,1423.18 11548.4,1423.18 11621.6,1423.18 11548.4,1423.18 \"/>\n",
       "<path clip-path=\"url(#clip132)\" d=\"M11621.6 1423.18 L11621.6 1423.18 L11694.9 1423.18 L11694.9 1423.18 L11621.6 1423.18 L11621.6 1423.18  Z\" fill=\"#009af9\" fill-rule=\"evenodd\" fill-opacity=\"1\"/>\n",
       "<polyline clip-path=\"url(#clip132)\" style=\"stroke:#000000; stroke-linecap:round; stroke-linejoin:round; stroke-width:4; stroke-opacity:1; fill:none\" points=\"11621.6,1423.18 11621.6,1423.18 11694.9,1423.18 11621.6,1423.18 \"/>\n",
       "<path clip-path=\"url(#clip132)\" d=\"M11694.9 1423.18 L11694.9 1423.18 L11768.2 1423.18 L11768.2 1423.18 L11694.9 1423.18 L11694.9 1423.18  Z\" fill=\"#009af9\" fill-rule=\"evenodd\" fill-opacity=\"1\"/>\n",
       "<polyline clip-path=\"url(#clip132)\" style=\"stroke:#000000; stroke-linecap:round; stroke-linejoin:round; stroke-width:4; stroke-opacity:1; fill:none\" points=\"11694.9,1423.18 11694.9,1423.18 11768.2,1423.18 11694.9,1423.18 \"/>\n",
       "<path clip-path=\"url(#clip132)\" d=\"M11768.2 1423.18 L11768.2 1423.18 L11841.4 1423.18 L11841.4 1423.18 L11768.2 1423.18 L11768.2 1423.18  Z\" fill=\"#009af9\" fill-rule=\"evenodd\" fill-opacity=\"1\"/>\n",
       "<polyline clip-path=\"url(#clip132)\" style=\"stroke:#000000; stroke-linecap:round; stroke-linejoin:round; stroke-width:4; stroke-opacity:1; fill:none\" points=\"11768.2,1423.18 11768.2,1423.18 11841.4,1423.18 11768.2,1423.18 \"/>\n",
       "<path clip-path=\"url(#clip132)\" d=\"M11841.4 1423.18 L11841.4 1423.18 L11914.7 1423.18 L11914.7 1423.18 L11841.4 1423.18 L11841.4 1423.18  Z\" fill=\"#009af9\" fill-rule=\"evenodd\" fill-opacity=\"1\"/>\n",
       "<polyline clip-path=\"url(#clip132)\" style=\"stroke:#000000; stroke-linecap:round; stroke-linejoin:round; stroke-width:4; stroke-opacity:1; fill:none\" points=\"11841.4,1423.18 11841.4,1423.18 11914.7,1423.18 11841.4,1423.18 \"/>\n",
       "<path clip-path=\"url(#clip132)\" d=\"M11914.7 1423.18 L11914.7 1423.18 L11988 1423.18 L11988 1423.18 L11914.7 1423.18 L11914.7 1423.18  Z\" fill=\"#009af9\" fill-rule=\"evenodd\" fill-opacity=\"1\"/>\n",
       "<polyline clip-path=\"url(#clip132)\" style=\"stroke:#000000; stroke-linecap:round; stroke-linejoin:round; stroke-width:4; stroke-opacity:1; fill:none\" points=\"11914.7,1423.18 11914.7,1423.18 11988,1423.18 11914.7,1423.18 \"/>\n",
       "<path clip-path=\"url(#clip132)\" d=\"M11988 1270.3 L11988 1423.18 L12061.3 1423.18 L12061.3 1270.3 L11988 1270.3 L11988 1270.3  Z\" fill=\"#009af9\" fill-rule=\"evenodd\" fill-opacity=\"1\"/>\n",
       "<polyline clip-path=\"url(#clip132)\" style=\"stroke:#000000; stroke-linecap:round; stroke-linejoin:round; stroke-width:4; stroke-opacity:1; fill:none\" points=\"11988,1270.3 11988,1423.18 12061.3,1423.18 12061.3,1270.3 11988,1270.3 \"/>\n",
       "<path clip-path=\"url(#clip132)\" d=\"M12061.3 1423.18 L12061.3 1423.18 L12134.5 1423.18 L12134.5 1423.18 L12061.3 1423.18 L12061.3 1423.18  Z\" fill=\"#009af9\" fill-rule=\"evenodd\" fill-opacity=\"1\"/>\n",
       "<polyline clip-path=\"url(#clip132)\" style=\"stroke:#000000; stroke-linecap:round; stroke-linejoin:round; stroke-width:4; stroke-opacity:1; fill:none\" points=\"12061.3,1423.18 12061.3,1423.18 12134.5,1423.18 12061.3,1423.18 \"/>\n",
       "<path clip-path=\"url(#clip132)\" d=\"M12134.5 1423.18 L12134.5 1423.18 L12207.8 1423.18 L12207.8 1423.18 L12134.5 1423.18 L12134.5 1423.18  Z\" fill=\"#009af9\" fill-rule=\"evenodd\" fill-opacity=\"1\"/>\n",
       "<polyline clip-path=\"url(#clip132)\" style=\"stroke:#000000; stroke-linecap:round; stroke-linejoin:round; stroke-width:4; stroke-opacity:1; fill:none\" points=\"12134.5,1423.18 12134.5,1423.18 12207.8,1423.18 12134.5,1423.18 \"/>\n",
       "<path clip-path=\"url(#clip132)\" d=\"M12207.8 1423.18 L12207.8 1423.18 L12281.1 1423.18 L12281.1 1423.18 L12207.8 1423.18 L12207.8 1423.18  Z\" fill=\"#009af9\" fill-rule=\"evenodd\" fill-opacity=\"1\"/>\n",
       "<polyline clip-path=\"url(#clip132)\" style=\"stroke:#000000; stroke-linecap:round; stroke-linejoin:round; stroke-width:4; stroke-opacity:1; fill:none\" points=\"12207.8,1423.18 12207.8,1423.18 12281.1,1423.18 12207.8,1423.18 \"/>\n",
       "<path clip-path=\"url(#clip132)\" d=\"M12281.1 1423.18 L12281.1 1423.18 L12354.4 1423.18 L12354.4 1423.18 L12281.1 1423.18 L12281.1 1423.18  Z\" fill=\"#009af9\" fill-rule=\"evenodd\" fill-opacity=\"1\"/>\n",
       "<polyline clip-path=\"url(#clip132)\" style=\"stroke:#000000; stroke-linecap:round; stroke-linejoin:round; stroke-width:4; stroke-opacity:1; fill:none\" points=\"12281.1,1423.18 12281.1,1423.18 12354.4,1423.18 12281.1,1423.18 \"/>\n",
       "<path clip-path=\"url(#clip132)\" d=\"M12354.4 1423.18 L12354.4 1423.18 L12427.6 1423.18 L12427.6 1423.18 L12354.4 1423.18 L12354.4 1423.18  Z\" fill=\"#009af9\" fill-rule=\"evenodd\" fill-opacity=\"1\"/>\n",
       "<polyline clip-path=\"url(#clip132)\" style=\"stroke:#000000; stroke-linecap:round; stroke-linejoin:round; stroke-width:4; stroke-opacity:1; fill:none\" points=\"12354.4,1423.18 12354.4,1423.18 12427.6,1423.18 12354.4,1423.18 \"/>\n",
       "<path clip-path=\"url(#clip132)\" d=\"M12427.6 1423.18 L12427.6 1423.18 L12500.9 1423.18 L12500.9 1423.18 L12427.6 1423.18 L12427.6 1423.18  Z\" fill=\"#009af9\" fill-rule=\"evenodd\" fill-opacity=\"1\"/>\n",
       "<polyline clip-path=\"url(#clip132)\" style=\"stroke:#000000; stroke-linecap:round; stroke-linejoin:round; stroke-width:4; stroke-opacity:1; fill:none\" points=\"12427.6,1423.18 12427.6,1423.18 12500.9,1423.18 12427.6,1423.18 \"/>\n",
       "<path clip-path=\"url(#clip132)\" d=\"M12500.9 1423.18 L12500.9 1423.18 L12574.2 1423.18 L12574.2 1423.18 L12500.9 1423.18 L12500.9 1423.18  Z\" fill=\"#009af9\" fill-rule=\"evenodd\" fill-opacity=\"1\"/>\n",
       "<polyline clip-path=\"url(#clip132)\" style=\"stroke:#000000; stroke-linecap:round; stroke-linejoin:round; stroke-width:4; stroke-opacity:1; fill:none\" points=\"12500.9,1423.18 12500.9,1423.18 12574.2,1423.18 12500.9,1423.18 \"/>\n",
       "<path clip-path=\"url(#clip132)\" d=\"M12574.2 1423.18 L12574.2 1423.18 L12647.4 1423.18 L12647.4 1423.18 L12574.2 1423.18 L12574.2 1423.18  Z\" fill=\"#009af9\" fill-rule=\"evenodd\" fill-opacity=\"1\"/>\n",
       "<polyline clip-path=\"url(#clip132)\" style=\"stroke:#000000; stroke-linecap:round; stroke-linejoin:round; stroke-width:4; stroke-opacity:1; fill:none\" points=\"12574.2,1423.18 12574.2,1423.18 12647.4,1423.18 12574.2,1423.18 \"/>\n",
       "<path clip-path=\"url(#clip132)\" d=\"M12647.4 1423.18 L12647.4 1423.18 L12720.7 1423.18 L12720.7 1423.18 L12647.4 1423.18 L12647.4 1423.18  Z\" fill=\"#009af9\" fill-rule=\"evenodd\" fill-opacity=\"1\"/>\n",
       "<polyline clip-path=\"url(#clip132)\" style=\"stroke:#000000; stroke-linecap:round; stroke-linejoin:round; stroke-width:4; stroke-opacity:1; fill:none\" points=\"12647.4,1423.18 12647.4,1423.18 12720.7,1423.18 12647.4,1423.18 \"/>\n",
       "<path clip-path=\"url(#clip132)\" d=\"M12720.7 1423.18 L12720.7 1423.18 L12794 1423.18 L12794 1423.18 L12720.7 1423.18 L12720.7 1423.18  Z\" fill=\"#009af9\" fill-rule=\"evenodd\" fill-opacity=\"1\"/>\n",
       "<polyline clip-path=\"url(#clip132)\" style=\"stroke:#000000; stroke-linecap:round; stroke-linejoin:round; stroke-width:4; stroke-opacity:1; fill:none\" points=\"12720.7,1423.18 12720.7,1423.18 12794,1423.18 12720.7,1423.18 \"/>\n",
       "<path clip-path=\"url(#clip132)\" d=\"M12794 1423.18 L12794 1423.18 L12867.3 1423.18 L12867.3 1423.18 L12794 1423.18 L12794 1423.18  Z\" fill=\"#009af9\" fill-rule=\"evenodd\" fill-opacity=\"1\"/>\n",
       "<polyline clip-path=\"url(#clip132)\" style=\"stroke:#000000; stroke-linecap:round; stroke-linejoin:round; stroke-width:4; stroke-opacity:1; fill:none\" points=\"12794,1423.18 12794,1423.18 12867.3,1423.18 12794,1423.18 \"/>\n",
       "<path clip-path=\"url(#clip132)\" d=\"M12867.3 1423.18 L12867.3 1423.18 L12940.5 1423.18 L12940.5 1423.18 L12867.3 1423.18 L12867.3 1423.18  Z\" fill=\"#009af9\" fill-rule=\"evenodd\" fill-opacity=\"1\"/>\n",
       "<polyline clip-path=\"url(#clip132)\" style=\"stroke:#000000; stroke-linecap:round; stroke-linejoin:round; stroke-width:4; stroke-opacity:1; fill:none\" points=\"12867.3,1423.18 12867.3,1423.18 12940.5,1423.18 12867.3,1423.18 \"/>\n",
       "<path clip-path=\"url(#clip132)\" d=\"M12940.5 1423.18 L12940.5 1423.18 L13013.8 1423.18 L13013.8 1423.18 L12940.5 1423.18 L12940.5 1423.18  Z\" fill=\"#009af9\" fill-rule=\"evenodd\" fill-opacity=\"1\"/>\n",
       "<polyline clip-path=\"url(#clip132)\" style=\"stroke:#000000; stroke-linecap:round; stroke-linejoin:round; stroke-width:4; stroke-opacity:1; fill:none\" points=\"12940.5,1423.18 12940.5,1423.18 13013.8,1423.18 12940.5,1423.18 \"/>\n",
       "<path clip-path=\"url(#clip132)\" d=\"M13013.8 1423.18 L13013.8 1423.18 L13087.1 1423.18 L13087.1 1423.18 L13013.8 1423.18 L13013.8 1423.18  Z\" fill=\"#009af9\" fill-rule=\"evenodd\" fill-opacity=\"1\"/>\n",
       "<polyline clip-path=\"url(#clip132)\" style=\"stroke:#000000; stroke-linecap:round; stroke-linejoin:round; stroke-width:4; stroke-opacity:1; fill:none\" points=\"13013.8,1423.18 13013.8,1423.18 13087.1,1423.18 13013.8,1423.18 \"/>\n",
       "<path clip-path=\"url(#clip132)\" d=\"M13087.1 1423.18 L13087.1 1423.18 L13160.3 1423.18 L13160.3 1423.18 L13087.1 1423.18 L13087.1 1423.18  Z\" fill=\"#009af9\" fill-rule=\"evenodd\" fill-opacity=\"1\"/>\n",
       "<polyline clip-path=\"url(#clip132)\" style=\"stroke:#000000; stroke-linecap:round; stroke-linejoin:round; stroke-width:4; stroke-opacity:1; fill:none\" points=\"13087.1,1423.18 13087.1,1423.18 13160.3,1423.18 13087.1,1423.18 \"/>\n",
       "<path clip-path=\"url(#clip132)\" d=\"M13160.3 1423.18 L13160.3 1423.18 L13233.6 1423.18 L13233.6 1423.18 L13160.3 1423.18 L13160.3 1423.18  Z\" fill=\"#009af9\" fill-rule=\"evenodd\" fill-opacity=\"1\"/>\n",
       "<polyline clip-path=\"url(#clip132)\" style=\"stroke:#000000; stroke-linecap:round; stroke-linejoin:round; stroke-width:4; stroke-opacity:1; fill:none\" points=\"13160.3,1423.18 13160.3,1423.18 13233.6,1423.18 13160.3,1423.18 \"/>\n",
       "<path clip-path=\"url(#clip132)\" d=\"M13233.6 1423.18 L13233.6 1423.18 L13306.9 1423.18 L13306.9 1423.18 L13233.6 1423.18 L13233.6 1423.18  Z\" fill=\"#009af9\" fill-rule=\"evenodd\" fill-opacity=\"1\"/>\n",
       "<polyline clip-path=\"url(#clip132)\" style=\"stroke:#000000; stroke-linecap:round; stroke-linejoin:round; stroke-width:4; stroke-opacity:1; fill:none\" points=\"13233.6,1423.18 13233.6,1423.18 13306.9,1423.18 13233.6,1423.18 \"/>\n",
       "<path clip-path=\"url(#clip132)\" d=\"M13306.9 1423.18 L13306.9 1423.18 L13380.2 1423.18 L13380.2 1423.18 L13306.9 1423.18 L13306.9 1423.18  Z\" fill=\"#009af9\" fill-rule=\"evenodd\" fill-opacity=\"1\"/>\n",
       "<polyline clip-path=\"url(#clip132)\" style=\"stroke:#000000; stroke-linecap:round; stroke-linejoin:round; stroke-width:4; stroke-opacity:1; fill:none\" points=\"13306.9,1423.18 13306.9,1423.18 13380.2,1423.18 13306.9,1423.18 \"/>\n",
       "<path clip-path=\"url(#clip132)\" d=\"M13380.2 1423.18 L13380.2 1423.18 L13453.4 1423.18 L13453.4 1423.18 L13380.2 1423.18 L13380.2 1423.18  Z\" fill=\"#009af9\" fill-rule=\"evenodd\" fill-opacity=\"1\"/>\n",
       "<polyline clip-path=\"url(#clip132)\" style=\"stroke:#000000; stroke-linecap:round; stroke-linejoin:round; stroke-width:4; stroke-opacity:1; fill:none\" points=\"13380.2,1423.18 13380.2,1423.18 13453.4,1423.18 13380.2,1423.18 \"/>\n",
       "<path clip-path=\"url(#clip132)\" d=\"M13453.4 1423.18 L13453.4 1423.18 L13526.7 1423.18 L13526.7 1423.18 L13453.4 1423.18 L13453.4 1423.18  Z\" fill=\"#009af9\" fill-rule=\"evenodd\" fill-opacity=\"1\"/>\n",
       "<polyline clip-path=\"url(#clip132)\" style=\"stroke:#000000; stroke-linecap:round; stroke-linejoin:round; stroke-width:4; stroke-opacity:1; fill:none\" points=\"13453.4,1423.18 13453.4,1423.18 13526.7,1423.18 13453.4,1423.18 \"/>\n",
       "<path clip-path=\"url(#clip132)\" d=\"M13526.7 1423.18 L13526.7 1423.18 L13600 1423.18 L13600 1423.18 L13526.7 1423.18 L13526.7 1423.18  Z\" fill=\"#009af9\" fill-rule=\"evenodd\" fill-opacity=\"1\"/>\n",
       "<polyline clip-path=\"url(#clip132)\" style=\"stroke:#000000; stroke-linecap:round; stroke-linejoin:round; stroke-width:4; stroke-opacity:1; fill:none\" points=\"13526.7,1423.18 13526.7,1423.18 13600,1423.18 13526.7,1423.18 \"/>\n",
       "<path clip-path=\"url(#clip132)\" d=\"M13600 1423.18 L13600 1423.18 L13673.3 1423.18 L13673.3 1423.18 L13600 1423.18 L13600 1423.18  Z\" fill=\"#009af9\" fill-rule=\"evenodd\" fill-opacity=\"1\"/>\n",
       "<polyline clip-path=\"url(#clip132)\" style=\"stroke:#000000; stroke-linecap:round; stroke-linejoin:round; stroke-width:4; stroke-opacity:1; fill:none\" points=\"13600,1423.18 13600,1423.18 13673.3,1423.18 13600,1423.18 \"/>\n",
       "<path clip-path=\"url(#clip132)\" d=\"M13673.3 1423.18 L13673.3 1423.18 L13746.5 1423.18 L13746.5 1423.18 L13673.3 1423.18 L13673.3 1423.18  Z\" fill=\"#009af9\" fill-rule=\"evenodd\" fill-opacity=\"1\"/>\n",
       "<polyline clip-path=\"url(#clip132)\" style=\"stroke:#000000; stroke-linecap:round; stroke-linejoin:round; stroke-width:4; stroke-opacity:1; fill:none\" points=\"13673.3,1423.18 13673.3,1423.18 13746.5,1423.18 13673.3,1423.18 \"/>\n",
       "<path clip-path=\"url(#clip132)\" d=\"M13746.5 1423.18 L13746.5 1423.18 L13819.8 1423.18 L13819.8 1423.18 L13746.5 1423.18 L13746.5 1423.18  Z\" fill=\"#009af9\" fill-rule=\"evenodd\" fill-opacity=\"1\"/>\n",
       "<polyline clip-path=\"url(#clip132)\" style=\"stroke:#000000; stroke-linecap:round; stroke-linejoin:round; stroke-width:4; stroke-opacity:1; fill:none\" points=\"13746.5,1423.18 13746.5,1423.18 13819.8,1423.18 13746.5,1423.18 \"/>\n",
       "<path clip-path=\"url(#clip132)\" d=\"M13819.8 1423.18 L13819.8 1423.18 L13893.1 1423.18 L13893.1 1423.18 L13819.8 1423.18 L13819.8 1423.18  Z\" fill=\"#009af9\" fill-rule=\"evenodd\" fill-opacity=\"1\"/>\n",
       "<polyline clip-path=\"url(#clip132)\" style=\"stroke:#000000; stroke-linecap:round; stroke-linejoin:round; stroke-width:4; stroke-opacity:1; fill:none\" points=\"13819.8,1423.18 13819.8,1423.18 13893.1,1423.18 13819.8,1423.18 \"/>\n",
       "<path clip-path=\"url(#clip132)\" d=\"M13893.1 1423.18 L13893.1 1423.18 L13966.3 1423.18 L13966.3 1423.18 L13893.1 1423.18 L13893.1 1423.18  Z\" fill=\"#009af9\" fill-rule=\"evenodd\" fill-opacity=\"1\"/>\n",
       "<polyline clip-path=\"url(#clip132)\" style=\"stroke:#000000; stroke-linecap:round; stroke-linejoin:round; stroke-width:4; stroke-opacity:1; fill:none\" points=\"13893.1,1423.18 13893.1,1423.18 13966.3,1423.18 13893.1,1423.18 \"/>\n",
       "<path clip-path=\"url(#clip132)\" d=\"M13966.3 1423.18 L13966.3 1423.18 L14039.6 1423.18 L14039.6 1423.18 L13966.3 1423.18 L13966.3 1423.18  Z\" fill=\"#009af9\" fill-rule=\"evenodd\" fill-opacity=\"1\"/>\n",
       "<polyline clip-path=\"url(#clip132)\" style=\"stroke:#000000; stroke-linecap:round; stroke-linejoin:round; stroke-width:4; stroke-opacity:1; fill:none\" points=\"13966.3,1423.18 13966.3,1423.18 14039.6,1423.18 13966.3,1423.18 \"/>\n",
       "<path clip-path=\"url(#clip132)\" d=\"M14039.6 1423.18 L14039.6 1423.18 L14112.9 1423.18 L14112.9 1423.18 L14039.6 1423.18 L14039.6 1423.18  Z\" fill=\"#009af9\" fill-rule=\"evenodd\" fill-opacity=\"1\"/>\n",
       "<polyline clip-path=\"url(#clip132)\" style=\"stroke:#000000; stroke-linecap:round; stroke-linejoin:round; stroke-width:4; stroke-opacity:1; fill:none\" points=\"14039.6,1423.18 14039.6,1423.18 14112.9,1423.18 14039.6,1423.18 \"/>\n",
       "<path clip-path=\"url(#clip132)\" d=\"M14112.9 1423.18 L14112.9 1423.18 L14186.2 1423.18 L14186.2 1423.18 L14112.9 1423.18 L14112.9 1423.18  Z\" fill=\"#009af9\" fill-rule=\"evenodd\" fill-opacity=\"1\"/>\n",
       "<polyline clip-path=\"url(#clip132)\" style=\"stroke:#000000; stroke-linecap:round; stroke-linejoin:round; stroke-width:4; stroke-opacity:1; fill:none\" points=\"14112.9,1423.18 14112.9,1423.18 14186.2,1423.18 14112.9,1423.18 \"/>\n",
       "<path clip-path=\"url(#clip132)\" d=\"M14186.2 1423.18 L14186.2 1423.18 L14259.4 1423.18 L14259.4 1423.18 L14186.2 1423.18 L14186.2 1423.18  Z\" fill=\"#009af9\" fill-rule=\"evenodd\" fill-opacity=\"1\"/>\n",
       "<polyline clip-path=\"url(#clip132)\" style=\"stroke:#000000; stroke-linecap:round; stroke-linejoin:round; stroke-width:4; stroke-opacity:1; fill:none\" points=\"14186.2,1423.18 14186.2,1423.18 14259.4,1423.18 14186.2,1423.18 \"/>\n",
       "<path clip-path=\"url(#clip132)\" d=\"M14259.4 1423.18 L14259.4 1423.18 L14332.7 1423.18 L14332.7 1423.18 L14259.4 1423.18 L14259.4 1423.18  Z\" fill=\"#009af9\" fill-rule=\"evenodd\" fill-opacity=\"1\"/>\n",
       "<polyline clip-path=\"url(#clip132)\" style=\"stroke:#000000; stroke-linecap:round; stroke-linejoin:round; stroke-width:4; stroke-opacity:1; fill:none\" points=\"14259.4,1423.18 14259.4,1423.18 14332.7,1423.18 14259.4,1423.18 \"/>\n",
       "<path clip-path=\"url(#clip132)\" d=\"M14332.7 1423.18 L14332.7 1423.18 L14406 1423.18 L14406 1423.18 L14332.7 1423.18 L14332.7 1423.18  Z\" fill=\"#009af9\" fill-rule=\"evenodd\" fill-opacity=\"1\"/>\n",
       "<polyline clip-path=\"url(#clip132)\" style=\"stroke:#000000; stroke-linecap:round; stroke-linejoin:round; stroke-width:4; stroke-opacity:1; fill:none\" points=\"14332.7,1423.18 14332.7,1423.18 14406,1423.18 14332.7,1423.18 \"/>\n",
       "<path clip-path=\"url(#clip132)\" d=\"M14406 1423.18 L14406 1423.18 L14479.3 1423.18 L14479.3 1423.18 L14406 1423.18 L14406 1423.18  Z\" fill=\"#009af9\" fill-rule=\"evenodd\" fill-opacity=\"1\"/>\n",
       "<polyline clip-path=\"url(#clip132)\" style=\"stroke:#000000; stroke-linecap:round; stroke-linejoin:round; stroke-width:4; stroke-opacity:1; fill:none\" points=\"14406,1423.18 14406,1423.18 14479.3,1423.18 14406,1423.18 \"/>\n",
       "<path clip-path=\"url(#clip132)\" d=\"M14479.3 1423.18 L14479.3 1423.18 L14552.5 1423.18 L14552.5 1423.18 L14479.3 1423.18 L14479.3 1423.18  Z\" fill=\"#009af9\" fill-rule=\"evenodd\" fill-opacity=\"1\"/>\n",
       "<polyline clip-path=\"url(#clip132)\" style=\"stroke:#000000; stroke-linecap:round; stroke-linejoin:round; stroke-width:4; stroke-opacity:1; fill:none\" points=\"14479.3,1423.18 14479.3,1423.18 14552.5,1423.18 14479.3,1423.18 \"/>\n",
       "<path clip-path=\"url(#clip132)\" d=\"M14552.5 1423.18 L14552.5 1423.18 L14625.8 1423.18 L14625.8 1423.18 L14552.5 1423.18 L14552.5 1423.18  Z\" fill=\"#009af9\" fill-rule=\"evenodd\" fill-opacity=\"1\"/>\n",
       "<polyline clip-path=\"url(#clip132)\" style=\"stroke:#000000; stroke-linecap:round; stroke-linejoin:round; stroke-width:4; stroke-opacity:1; fill:none\" points=\"14552.5,1423.18 14552.5,1423.18 14625.8,1423.18 14552.5,1423.18 \"/>\n",
       "<path clip-path=\"url(#clip132)\" d=\"M14625.8 1423.18 L14625.8 1423.18 L14699.1 1423.18 L14699.1 1423.18 L14625.8 1423.18 L14625.8 1423.18  Z\" fill=\"#009af9\" fill-rule=\"evenodd\" fill-opacity=\"1\"/>\n",
       "<polyline clip-path=\"url(#clip132)\" style=\"stroke:#000000; stroke-linecap:round; stroke-linejoin:round; stroke-width:4; stroke-opacity:1; fill:none\" points=\"14625.8,1423.18 14625.8,1423.18 14699.1,1423.18 14625.8,1423.18 \"/>\n",
       "<path clip-path=\"url(#clip132)\" d=\"M14699.1 1423.18 L14699.1 1423.18 L14772.3 1423.18 L14772.3 1423.18 L14699.1 1423.18 L14699.1 1423.18  Z\" fill=\"#009af9\" fill-rule=\"evenodd\" fill-opacity=\"1\"/>\n",
       "<polyline clip-path=\"url(#clip132)\" style=\"stroke:#000000; stroke-linecap:round; stroke-linejoin:round; stroke-width:4; stroke-opacity:1; fill:none\" points=\"14699.1,1423.18 14699.1,1423.18 14772.3,1423.18 14699.1,1423.18 \"/>\n",
       "<path clip-path=\"url(#clip132)\" d=\"M14772.3 1423.18 L14772.3 1423.18 L14845.6 1423.18 L14845.6 1423.18 L14772.3 1423.18 L14772.3 1423.18  Z\" fill=\"#009af9\" fill-rule=\"evenodd\" fill-opacity=\"1\"/>\n",
       "<polyline clip-path=\"url(#clip132)\" style=\"stroke:#000000; stroke-linecap:round; stroke-linejoin:round; stroke-width:4; stroke-opacity:1; fill:none\" points=\"14772.3,1423.18 14772.3,1423.18 14845.6,1423.18 14772.3,1423.18 \"/>\n",
       "<path clip-path=\"url(#clip132)\" d=\"M14845.6 1423.18 L14845.6 1423.18 L14918.9 1423.18 L14918.9 1423.18 L14845.6 1423.18 L14845.6 1423.18  Z\" fill=\"#009af9\" fill-rule=\"evenodd\" fill-opacity=\"1\"/>\n",
       "<polyline clip-path=\"url(#clip132)\" style=\"stroke:#000000; stroke-linecap:round; stroke-linejoin:round; stroke-width:4; stroke-opacity:1; fill:none\" points=\"14845.6,1423.18 14845.6,1423.18 14918.9,1423.18 14845.6,1423.18 \"/>\n",
       "<path clip-path=\"url(#clip132)\" d=\"M14918.9 1423.18 L14918.9 1423.18 L14992.2 1423.18 L14992.2 1423.18 L14918.9 1423.18 L14918.9 1423.18  Z\" fill=\"#009af9\" fill-rule=\"evenodd\" fill-opacity=\"1\"/>\n",
       "<polyline clip-path=\"url(#clip132)\" style=\"stroke:#000000; stroke-linecap:round; stroke-linejoin:round; stroke-width:4; stroke-opacity:1; fill:none\" points=\"14918.9,1423.18 14918.9,1423.18 14992.2,1423.18 14918.9,1423.18 \"/>\n",
       "<path clip-path=\"url(#clip132)\" d=\"M14992.2 1423.18 L14992.2 1423.18 L15065.4 1423.18 L15065.4 1423.18 L14992.2 1423.18 L14992.2 1423.18  Z\" fill=\"#009af9\" fill-rule=\"evenodd\" fill-opacity=\"1\"/>\n",
       "<polyline clip-path=\"url(#clip132)\" style=\"stroke:#000000; stroke-linecap:round; stroke-linejoin:round; stroke-width:4; stroke-opacity:1; fill:none\" points=\"14992.2,1423.18 14992.2,1423.18 15065.4,1423.18 14992.2,1423.18 \"/>\n",
       "<path clip-path=\"url(#clip132)\" d=\"M15065.4 1423.18 L15065.4 1423.18 L15138.7 1423.18 L15138.7 1423.18 L15065.4 1423.18 L15065.4 1423.18  Z\" fill=\"#009af9\" fill-rule=\"evenodd\" fill-opacity=\"1\"/>\n",
       "<polyline clip-path=\"url(#clip132)\" style=\"stroke:#000000; stroke-linecap:round; stroke-linejoin:round; stroke-width:4; stroke-opacity:1; fill:none\" points=\"15065.4,1423.18 15065.4,1423.18 15138.7,1423.18 15065.4,1423.18 \"/>\n",
       "<path clip-path=\"url(#clip132)\" d=\"M15138.7 1423.18 L15138.7 1423.18 L15212 1423.18 L15212 1423.18 L15138.7 1423.18 L15138.7 1423.18  Z\" fill=\"#009af9\" fill-rule=\"evenodd\" fill-opacity=\"1\"/>\n",
       "<polyline clip-path=\"url(#clip132)\" style=\"stroke:#000000; stroke-linecap:round; stroke-linejoin:round; stroke-width:4; stroke-opacity:1; fill:none\" points=\"15138.7,1423.18 15138.7,1423.18 15212,1423.18 15138.7,1423.18 \"/>\n",
       "<path clip-path=\"url(#clip132)\" d=\"M15212 1423.18 L15212 1423.18 L15285.3 1423.18 L15285.3 1423.18 L15212 1423.18 L15212 1423.18  Z\" fill=\"#009af9\" fill-rule=\"evenodd\" fill-opacity=\"1\"/>\n",
       "<polyline clip-path=\"url(#clip132)\" style=\"stroke:#000000; stroke-linecap:round; stroke-linejoin:round; stroke-width:4; stroke-opacity:1; fill:none\" points=\"15212,1423.18 15212,1423.18 15285.3,1423.18 15212,1423.18 \"/>\n",
       "<path clip-path=\"url(#clip132)\" d=\"M15285.3 1423.18 L15285.3 1423.18 L15358.5 1423.18 L15358.5 1423.18 L15285.3 1423.18 L15285.3 1423.18  Z\" fill=\"#009af9\" fill-rule=\"evenodd\" fill-opacity=\"1\"/>\n",
       "<polyline clip-path=\"url(#clip132)\" style=\"stroke:#000000; stroke-linecap:round; stroke-linejoin:round; stroke-width:4; stroke-opacity:1; fill:none\" points=\"15285.3,1423.18 15285.3,1423.18 15358.5,1423.18 15285.3,1423.18 \"/>\n",
       "<path clip-path=\"url(#clip132)\" d=\"M15358.5 1423.18 L15358.5 1423.18 L15431.8 1423.18 L15431.8 1423.18 L15358.5 1423.18 L15358.5 1423.18  Z\" fill=\"#009af9\" fill-rule=\"evenodd\" fill-opacity=\"1\"/>\n",
       "<polyline clip-path=\"url(#clip132)\" style=\"stroke:#000000; stroke-linecap:round; stroke-linejoin:round; stroke-width:4; stroke-opacity:1; fill:none\" points=\"15358.5,1423.18 15358.5,1423.18 15431.8,1423.18 15358.5,1423.18 \"/>\n",
       "<path clip-path=\"url(#clip132)\" d=\"M15431.8 1423.18 L15431.8 1423.18 L15505.1 1423.18 L15505.1 1423.18 L15431.8 1423.18 L15431.8 1423.18  Z\" fill=\"#009af9\" fill-rule=\"evenodd\" fill-opacity=\"1\"/>\n",
       "<polyline clip-path=\"url(#clip132)\" style=\"stroke:#000000; stroke-linecap:round; stroke-linejoin:round; stroke-width:4; stroke-opacity:1; fill:none\" points=\"15431.8,1423.18 15431.8,1423.18 15505.1,1423.18 15431.8,1423.18 \"/>\n",
       "<path clip-path=\"url(#clip132)\" d=\"M15505.1 1423.18 L15505.1 1423.18 L15578.3 1423.18 L15578.3 1423.18 L15505.1 1423.18 L15505.1 1423.18  Z\" fill=\"#009af9\" fill-rule=\"evenodd\" fill-opacity=\"1\"/>\n",
       "<polyline clip-path=\"url(#clip132)\" style=\"stroke:#000000; stroke-linecap:round; stroke-linejoin:round; stroke-width:4; stroke-opacity:1; fill:none\" points=\"15505.1,1423.18 15505.1,1423.18 15578.3,1423.18 15505.1,1423.18 \"/>\n",
       "<path clip-path=\"url(#clip132)\" d=\"M15578.3 1423.18 L15578.3 1423.18 L15651.6 1423.18 L15651.6 1423.18 L15578.3 1423.18 L15578.3 1423.18  Z\" fill=\"#009af9\" fill-rule=\"evenodd\" fill-opacity=\"1\"/>\n",
       "<polyline clip-path=\"url(#clip132)\" style=\"stroke:#000000; stroke-linecap:round; stroke-linejoin:round; stroke-width:4; stroke-opacity:1; fill:none\" points=\"15578.3,1423.18 15578.3,1423.18 15651.6,1423.18 15578.3,1423.18 \"/>\n",
       "<path clip-path=\"url(#clip132)\" d=\"M15651.6 1423.18 L15651.6 1423.18 L15724.9 1423.18 L15724.9 1423.18 L15651.6 1423.18 L15651.6 1423.18  Z\" fill=\"#009af9\" fill-rule=\"evenodd\" fill-opacity=\"1\"/>\n",
       "<polyline clip-path=\"url(#clip132)\" style=\"stroke:#000000; stroke-linecap:round; stroke-linejoin:round; stroke-width:4; stroke-opacity:1; fill:none\" points=\"15651.6,1423.18 15651.6,1423.18 15724.9,1423.18 15651.6,1423.18 \"/>\n",
       "<path clip-path=\"url(#clip132)\" d=\"M15724.9 1423.18 L15724.9 1423.18 L15798.2 1423.18 L15798.2 1423.18 L15724.9 1423.18 L15724.9 1423.18  Z\" fill=\"#009af9\" fill-rule=\"evenodd\" fill-opacity=\"1\"/>\n",
       "<polyline clip-path=\"url(#clip132)\" style=\"stroke:#000000; stroke-linecap:round; stroke-linejoin:round; stroke-width:4; stroke-opacity:1; fill:none\" points=\"15724.9,1423.18 15724.9,1423.18 15798.2,1423.18 15724.9,1423.18 \"/>\n",
       "<path clip-path=\"url(#clip132)\" d=\"M15798.2 1423.18 L15798.2 1423.18 L15871.4 1423.18 L15871.4 1423.18 L15798.2 1423.18 L15798.2 1423.18  Z\" fill=\"#009af9\" fill-rule=\"evenodd\" fill-opacity=\"1\"/>\n",
       "<polyline clip-path=\"url(#clip132)\" style=\"stroke:#000000; stroke-linecap:round; stroke-linejoin:round; stroke-width:4; stroke-opacity:1; fill:none\" points=\"15798.2,1423.18 15798.2,1423.18 15871.4,1423.18 15798.2,1423.18 \"/>\n",
       "<path clip-path=\"url(#clip132)\" d=\"M15871.4 1423.18 L15871.4 1423.18 L15944.7 1423.18 L15944.7 1423.18 L15871.4 1423.18 L15871.4 1423.18  Z\" fill=\"#009af9\" fill-rule=\"evenodd\" fill-opacity=\"1\"/>\n",
       "<polyline clip-path=\"url(#clip132)\" style=\"stroke:#000000; stroke-linecap:round; stroke-linejoin:round; stroke-width:4; stroke-opacity:1; fill:none\" points=\"15871.4,1423.18 15871.4,1423.18 15944.7,1423.18 15871.4,1423.18 \"/>\n",
       "<path clip-path=\"url(#clip132)\" d=\"M15944.7 1423.18 L15944.7 1423.18 L16018 1423.18 L16018 1423.18 L15944.7 1423.18 L15944.7 1423.18  Z\" fill=\"#009af9\" fill-rule=\"evenodd\" fill-opacity=\"1\"/>\n",
       "<polyline clip-path=\"url(#clip132)\" style=\"stroke:#000000; stroke-linecap:round; stroke-linejoin:round; stroke-width:4; stroke-opacity:1; fill:none\" points=\"15944.7,1423.18 15944.7,1423.18 16018,1423.18 15944.7,1423.18 \"/>\n",
       "<path clip-path=\"url(#clip132)\" d=\"M16018 1423.18 L16018 1423.18 L16091.2 1423.18 L16091.2 1423.18 L16018 1423.18 L16018 1423.18  Z\" fill=\"#009af9\" fill-rule=\"evenodd\" fill-opacity=\"1\"/>\n",
       "<polyline clip-path=\"url(#clip132)\" style=\"stroke:#000000; stroke-linecap:round; stroke-linejoin:round; stroke-width:4; stroke-opacity:1; fill:none\" points=\"16018,1423.18 16018,1423.18 16091.2,1423.18 16018,1423.18 \"/>\n",
       "<path clip-path=\"url(#clip132)\" d=\"M16091.2 1423.18 L16091.2 1423.18 L16164.5 1423.18 L16164.5 1423.18 L16091.2 1423.18 L16091.2 1423.18  Z\" fill=\"#009af9\" fill-rule=\"evenodd\" fill-opacity=\"1\"/>\n",
       "<polyline clip-path=\"url(#clip132)\" style=\"stroke:#000000; stroke-linecap:round; stroke-linejoin:round; stroke-width:4; stroke-opacity:1; fill:none\" points=\"16091.2,1423.18 16091.2,1423.18 16164.5,1423.18 16091.2,1423.18 \"/>\n",
       "<path clip-path=\"url(#clip132)\" d=\"M16164.5 1423.18 L16164.5 1423.18 L16237.8 1423.18 L16237.8 1423.18 L16164.5 1423.18 L16164.5 1423.18  Z\" fill=\"#009af9\" fill-rule=\"evenodd\" fill-opacity=\"1\"/>\n",
       "<polyline clip-path=\"url(#clip132)\" style=\"stroke:#000000; stroke-linecap:round; stroke-linejoin:round; stroke-width:4; stroke-opacity:1; fill:none\" points=\"16164.5,1423.18 16164.5,1423.18 16237.8,1423.18 16164.5,1423.18 \"/>\n",
       "<path clip-path=\"url(#clip132)\" d=\"M16237.8 1423.18 L16237.8 1423.18 L16311.1 1423.18 L16311.1 1423.18 L16237.8 1423.18 L16237.8 1423.18  Z\" fill=\"#009af9\" fill-rule=\"evenodd\" fill-opacity=\"1\"/>\n",
       "<polyline clip-path=\"url(#clip132)\" style=\"stroke:#000000; stroke-linecap:round; stroke-linejoin:round; stroke-width:4; stroke-opacity:1; fill:none\" points=\"16237.8,1423.18 16237.8,1423.18 16311.1,1423.18 16237.8,1423.18 \"/>\n",
       "<path clip-path=\"url(#clip132)\" d=\"M16311.1 1423.18 L16311.1 1423.18 L16384.3 1423.18 L16384.3 1423.18 L16311.1 1423.18 L16311.1 1423.18  Z\" fill=\"#009af9\" fill-rule=\"evenodd\" fill-opacity=\"1\"/>\n",
       "<polyline clip-path=\"url(#clip132)\" style=\"stroke:#000000; stroke-linecap:round; stroke-linejoin:round; stroke-width:4; stroke-opacity:1; fill:none\" points=\"16311.1,1423.18 16311.1,1423.18 16384.3,1423.18 16311.1,1423.18 \"/>\n",
       "<path clip-path=\"url(#clip132)\" d=\"M16384.3 1423.18 L16384.3 1423.18 L16457.6 1423.18 L16457.6 1423.18 L16384.3 1423.18 L16384.3 1423.18  Z\" fill=\"#009af9\" fill-rule=\"evenodd\" fill-opacity=\"1\"/>\n",
       "<polyline clip-path=\"url(#clip132)\" style=\"stroke:#000000; stroke-linecap:round; stroke-linejoin:round; stroke-width:4; stroke-opacity:1; fill:none\" points=\"16384.3,1423.18 16384.3,1423.18 16457.6,1423.18 16384.3,1423.18 \"/>\n",
       "<path clip-path=\"url(#clip132)\" d=\"M16457.6 1423.18 L16457.6 1423.18 L16530.9 1423.18 L16530.9 1423.18 L16457.6 1423.18 L16457.6 1423.18  Z\" fill=\"#009af9\" fill-rule=\"evenodd\" fill-opacity=\"1\"/>\n",
       "<polyline clip-path=\"url(#clip132)\" style=\"stroke:#000000; stroke-linecap:round; stroke-linejoin:round; stroke-width:4; stroke-opacity:1; fill:none\" points=\"16457.6,1423.18 16457.6,1423.18 16530.9,1423.18 16457.6,1423.18 \"/>\n",
       "<path clip-path=\"url(#clip132)\" d=\"M16530.9 1423.18 L16530.9 1423.18 L16604.2 1423.18 L16604.2 1423.18 L16530.9 1423.18 L16530.9 1423.18  Z\" fill=\"#009af9\" fill-rule=\"evenodd\" fill-opacity=\"1\"/>\n",
       "<polyline clip-path=\"url(#clip132)\" style=\"stroke:#000000; stroke-linecap:round; stroke-linejoin:round; stroke-width:4; stroke-opacity:1; fill:none\" points=\"16530.9,1423.18 16530.9,1423.18 16604.2,1423.18 16530.9,1423.18 \"/>\n",
       "<path clip-path=\"url(#clip132)\" d=\"M16604.2 1423.18 L16604.2 1423.18 L16677.4 1423.18 L16677.4 1423.18 L16604.2 1423.18 L16604.2 1423.18  Z\" fill=\"#009af9\" fill-rule=\"evenodd\" fill-opacity=\"1\"/>\n",
       "<polyline clip-path=\"url(#clip132)\" style=\"stroke:#000000; stroke-linecap:round; stroke-linejoin:round; stroke-width:4; stroke-opacity:1; fill:none\" points=\"16604.2,1423.18 16604.2,1423.18 16677.4,1423.18 16604.2,1423.18 \"/>\n",
       "<path clip-path=\"url(#clip132)\" d=\"M16677.4 1423.18 L16677.4 1423.18 L16750.7 1423.18 L16750.7 1423.18 L16677.4 1423.18 L16677.4 1423.18  Z\" fill=\"#009af9\" fill-rule=\"evenodd\" fill-opacity=\"1\"/>\n",
       "<polyline clip-path=\"url(#clip132)\" style=\"stroke:#000000; stroke-linecap:round; stroke-linejoin:round; stroke-width:4; stroke-opacity:1; fill:none\" points=\"16677.4,1423.18 16677.4,1423.18 16750.7,1423.18 16677.4,1423.18 \"/>\n",
       "<path clip-path=\"url(#clip132)\" d=\"M16750.7 1423.18 L16750.7 1423.18 L16824 1423.18 L16824 1423.18 L16750.7 1423.18 L16750.7 1423.18  Z\" fill=\"#009af9\" fill-rule=\"evenodd\" fill-opacity=\"1\"/>\n",
       "<polyline clip-path=\"url(#clip132)\" style=\"stroke:#000000; stroke-linecap:round; stroke-linejoin:round; stroke-width:4; stroke-opacity:1; fill:none\" points=\"16750.7,1423.18 16750.7,1423.18 16824,1423.18 16750.7,1423.18 \"/>\n",
       "<path clip-path=\"url(#clip132)\" d=\"M16824 1423.18 L16824 1423.18 L16897.2 1423.18 L16897.2 1423.18 L16824 1423.18 L16824 1423.18  Z\" fill=\"#009af9\" fill-rule=\"evenodd\" fill-opacity=\"1\"/>\n",
       "<polyline clip-path=\"url(#clip132)\" style=\"stroke:#000000; stroke-linecap:round; stroke-linejoin:round; stroke-width:4; stroke-opacity:1; fill:none\" points=\"16824,1423.18 16824,1423.18 16897.2,1423.18 16824,1423.18 \"/>\n",
       "<path clip-path=\"url(#clip132)\" d=\"M16897.2 1423.18 L16897.2 1423.18 L16970.5 1423.18 L16970.5 1423.18 L16897.2 1423.18 L16897.2 1423.18  Z\" fill=\"#009af9\" fill-rule=\"evenodd\" fill-opacity=\"1\"/>\n",
       "<polyline clip-path=\"url(#clip132)\" style=\"stroke:#000000; stroke-linecap:round; stroke-linejoin:round; stroke-width:4; stroke-opacity:1; fill:none\" points=\"16897.2,1423.18 16897.2,1423.18 16970.5,1423.18 16897.2,1423.18 \"/>\n",
       "<path clip-path=\"url(#clip132)\" d=\"M16970.5 1423.18 L16970.5 1423.18 L17043.8 1423.18 L17043.8 1423.18 L16970.5 1423.18 L16970.5 1423.18  Z\" fill=\"#009af9\" fill-rule=\"evenodd\" fill-opacity=\"1\"/>\n",
       "<polyline clip-path=\"url(#clip132)\" style=\"stroke:#000000; stroke-linecap:round; stroke-linejoin:round; stroke-width:4; stroke-opacity:1; fill:none\" points=\"16970.5,1423.18 16970.5,1423.18 17043.8,1423.18 16970.5,1423.18 \"/>\n",
       "<path clip-path=\"url(#clip132)\" d=\"M17043.8 1423.18 L17043.8 1423.18 L17117.1 1423.18 L17117.1 1423.18 L17043.8 1423.18 L17043.8 1423.18  Z\" fill=\"#009af9\" fill-rule=\"evenodd\" fill-opacity=\"1\"/>\n",
       "<polyline clip-path=\"url(#clip132)\" style=\"stroke:#000000; stroke-linecap:round; stroke-linejoin:round; stroke-width:4; stroke-opacity:1; fill:none\" points=\"17043.8,1423.18 17043.8,1423.18 17117.1,1423.18 17043.8,1423.18 \"/>\n",
       "<path clip-path=\"url(#clip132)\" d=\"M17117.1 1423.18 L17117.1 1423.18 L17190.3 1423.18 L17190.3 1423.18 L17117.1 1423.18 L17117.1 1423.18  Z\" fill=\"#009af9\" fill-rule=\"evenodd\" fill-opacity=\"1\"/>\n",
       "<polyline clip-path=\"url(#clip132)\" style=\"stroke:#000000; stroke-linecap:round; stroke-linejoin:round; stroke-width:4; stroke-opacity:1; fill:none\" points=\"17117.1,1423.18 17117.1,1423.18 17190.3,1423.18 17117.1,1423.18 \"/>\n",
       "<path clip-path=\"url(#clip132)\" d=\"M17190.3 1423.18 L17190.3 1423.18 L17263.6 1423.18 L17263.6 1423.18 L17190.3 1423.18 L17190.3 1423.18  Z\" fill=\"#009af9\" fill-rule=\"evenodd\" fill-opacity=\"1\"/>\n",
       "<polyline clip-path=\"url(#clip132)\" style=\"stroke:#000000; stroke-linecap:round; stroke-linejoin:round; stroke-width:4; stroke-opacity:1; fill:none\" points=\"17190.3,1423.18 17190.3,1423.18 17263.6,1423.18 17190.3,1423.18 \"/>\n",
       "<path clip-path=\"url(#clip132)\" d=\"M17263.6 1423.18 L17263.6 1423.18 L17336.9 1423.18 L17336.9 1423.18 L17263.6 1423.18 L17263.6 1423.18  Z\" fill=\"#009af9\" fill-rule=\"evenodd\" fill-opacity=\"1\"/>\n",
       "<polyline clip-path=\"url(#clip132)\" style=\"stroke:#000000; stroke-linecap:round; stroke-linejoin:round; stroke-width:4; stroke-opacity:1; fill:none\" points=\"17263.6,1423.18 17263.6,1423.18 17336.9,1423.18 17263.6,1423.18 \"/>\n",
       "<path clip-path=\"url(#clip132)\" d=\"M17336.9 1423.18 L17336.9 1423.18 L17410.2 1423.18 L17410.2 1423.18 L17336.9 1423.18 L17336.9 1423.18  Z\" fill=\"#009af9\" fill-rule=\"evenodd\" fill-opacity=\"1\"/>\n",
       "<polyline clip-path=\"url(#clip132)\" style=\"stroke:#000000; stroke-linecap:round; stroke-linejoin:round; stroke-width:4; stroke-opacity:1; fill:none\" points=\"17336.9,1423.18 17336.9,1423.18 17410.2,1423.18 17336.9,1423.18 \"/>\n",
       "<path clip-path=\"url(#clip132)\" d=\"M17410.2 1423.18 L17410.2 1423.18 L17483.4 1423.18 L17483.4 1423.18 L17410.2 1423.18 L17410.2 1423.18  Z\" fill=\"#009af9\" fill-rule=\"evenodd\" fill-opacity=\"1\"/>\n",
       "<polyline clip-path=\"url(#clip132)\" style=\"stroke:#000000; stroke-linecap:round; stroke-linejoin:round; stroke-width:4; stroke-opacity:1; fill:none\" points=\"17410.2,1423.18 17410.2,1423.18 17483.4,1423.18 17410.2,1423.18 \"/>\n",
       "<path clip-path=\"url(#clip132)\" d=\"M17483.4 1423.18 L17483.4 1423.18 L17556.7 1423.18 L17556.7 1423.18 L17483.4 1423.18 L17483.4 1423.18  Z\" fill=\"#009af9\" fill-rule=\"evenodd\" fill-opacity=\"1\"/>\n",
       "<polyline clip-path=\"url(#clip132)\" style=\"stroke:#000000; stroke-linecap:round; stroke-linejoin:round; stroke-width:4; stroke-opacity:1; fill:none\" points=\"17483.4,1423.18 17483.4,1423.18 17556.7,1423.18 17483.4,1423.18 \"/>\n",
       "<path clip-path=\"url(#clip132)\" d=\"M17556.7 1423.18 L17556.7 1423.18 L17630 1423.18 L17630 1423.18 L17556.7 1423.18 L17556.7 1423.18  Z\" fill=\"#009af9\" fill-rule=\"evenodd\" fill-opacity=\"1\"/>\n",
       "<polyline clip-path=\"url(#clip132)\" style=\"stroke:#000000; stroke-linecap:round; stroke-linejoin:round; stroke-width:4; stroke-opacity:1; fill:none\" points=\"17556.7,1423.18 17556.7,1423.18 17630,1423.18 17556.7,1423.18 \"/>\n",
       "<path clip-path=\"url(#clip132)\" d=\"M17630 1423.18 L17630 1423.18 L17703.2 1423.18 L17703.2 1423.18 L17630 1423.18 L17630 1423.18  Z\" fill=\"#009af9\" fill-rule=\"evenodd\" fill-opacity=\"1\"/>\n",
       "<polyline clip-path=\"url(#clip132)\" style=\"stroke:#000000; stroke-linecap:round; stroke-linejoin:round; stroke-width:4; stroke-opacity:1; fill:none\" points=\"17630,1423.18 17630,1423.18 17703.2,1423.18 17630,1423.18 \"/>\n",
       "<path clip-path=\"url(#clip132)\" d=\"M17703.2 1423.18 L17703.2 1423.18 L17776.5 1423.18 L17776.5 1423.18 L17703.2 1423.18 L17703.2 1423.18  Z\" fill=\"#009af9\" fill-rule=\"evenodd\" fill-opacity=\"1\"/>\n",
       "<polyline clip-path=\"url(#clip132)\" style=\"stroke:#000000; stroke-linecap:round; stroke-linejoin:round; stroke-width:4; stroke-opacity:1; fill:none\" points=\"17703.2,1423.18 17703.2,1423.18 17776.5,1423.18 17703.2,1423.18 \"/>\n",
       "<path clip-path=\"url(#clip132)\" d=\"M17776.5 1423.18 L17776.5 1423.18 L17849.8 1423.18 L17849.8 1423.18 L17776.5 1423.18 L17776.5 1423.18  Z\" fill=\"#009af9\" fill-rule=\"evenodd\" fill-opacity=\"1\"/>\n",
       "<polyline clip-path=\"url(#clip132)\" style=\"stroke:#000000; stroke-linecap:round; stroke-linejoin:round; stroke-width:4; stroke-opacity:1; fill:none\" points=\"17776.5,1423.18 17776.5,1423.18 17849.8,1423.18 17776.5,1423.18 \"/>\n",
       "<path clip-path=\"url(#clip132)\" d=\"M17849.8 1423.18 L17849.8 1423.18 L17923.1 1423.18 L17923.1 1423.18 L17849.8 1423.18 L17849.8 1423.18  Z\" fill=\"#009af9\" fill-rule=\"evenodd\" fill-opacity=\"1\"/>\n",
       "<polyline clip-path=\"url(#clip132)\" style=\"stroke:#000000; stroke-linecap:round; stroke-linejoin:round; stroke-width:4; stroke-opacity:1; fill:none\" points=\"17849.8,1423.18 17849.8,1423.18 17923.1,1423.18 17849.8,1423.18 \"/>\n",
       "<path clip-path=\"url(#clip132)\" d=\"M17923.1 1423.18 L17923.1 1423.18 L17996.3 1423.18 L17996.3 1423.18 L17923.1 1423.18 L17923.1 1423.18  Z\" fill=\"#009af9\" fill-rule=\"evenodd\" fill-opacity=\"1\"/>\n",
       "<polyline clip-path=\"url(#clip132)\" style=\"stroke:#000000; stroke-linecap:round; stroke-linejoin:round; stroke-width:4; stroke-opacity:1; fill:none\" points=\"17923.1,1423.18 17923.1,1423.18 17996.3,1423.18 17923.1,1423.18 \"/>\n",
       "<path clip-path=\"url(#clip132)\" d=\"M17996.3 1423.18 L17996.3 1423.18 L18069.6 1423.18 L18069.6 1423.18 L17996.3 1423.18 L17996.3 1423.18  Z\" fill=\"#009af9\" fill-rule=\"evenodd\" fill-opacity=\"1\"/>\n",
       "<polyline clip-path=\"url(#clip132)\" style=\"stroke:#000000; stroke-linecap:round; stroke-linejoin:round; stroke-width:4; stroke-opacity:1; fill:none\" points=\"17996.3,1423.18 17996.3,1423.18 18069.6,1423.18 17996.3,1423.18 \"/>\n",
       "<path clip-path=\"url(#clip132)\" d=\"M18069.6 1423.18 L18069.6 1423.18 L18142.9 1423.18 L18142.9 1423.18 L18069.6 1423.18 L18069.6 1423.18  Z\" fill=\"#009af9\" fill-rule=\"evenodd\" fill-opacity=\"1\"/>\n",
       "<polyline clip-path=\"url(#clip132)\" style=\"stroke:#000000; stroke-linecap:round; stroke-linejoin:round; stroke-width:4; stroke-opacity:1; fill:none\" points=\"18069.6,1423.18 18069.6,1423.18 18142.9,1423.18 18069.6,1423.18 \"/>\n",
       "<path clip-path=\"url(#clip132)\" d=\"M18142.9 1423.18 L18142.9 1423.18 L18216.2 1423.18 L18216.2 1423.18 L18142.9 1423.18 L18142.9 1423.18  Z\" fill=\"#009af9\" fill-rule=\"evenodd\" fill-opacity=\"1\"/>\n",
       "<polyline clip-path=\"url(#clip132)\" style=\"stroke:#000000; stroke-linecap:round; stroke-linejoin:round; stroke-width:4; stroke-opacity:1; fill:none\" points=\"18142.9,1423.18 18142.9,1423.18 18216.2,1423.18 18142.9,1423.18 \"/>\n",
       "<path clip-path=\"url(#clip132)\" d=\"M18216.2 1423.18 L18216.2 1423.18 L18289.4 1423.18 L18289.4 1423.18 L18216.2 1423.18 L18216.2 1423.18  Z\" fill=\"#009af9\" fill-rule=\"evenodd\" fill-opacity=\"1\"/>\n",
       "<polyline clip-path=\"url(#clip132)\" style=\"stroke:#000000; stroke-linecap:round; stroke-linejoin:round; stroke-width:4; stroke-opacity:1; fill:none\" points=\"18216.2,1423.18 18216.2,1423.18 18289.4,1423.18 18216.2,1423.18 \"/>\n",
       "<path clip-path=\"url(#clip132)\" d=\"M18289.4 1423.18 L18289.4 1423.18 L18362.7 1423.18 L18362.7 1423.18 L18289.4 1423.18 L18289.4 1423.18  Z\" fill=\"#009af9\" fill-rule=\"evenodd\" fill-opacity=\"1\"/>\n",
       "<polyline clip-path=\"url(#clip132)\" style=\"stroke:#000000; stroke-linecap:round; stroke-linejoin:round; stroke-width:4; stroke-opacity:1; fill:none\" points=\"18289.4,1423.18 18289.4,1423.18 18362.7,1423.18 18289.4,1423.18 \"/>\n",
       "<path clip-path=\"url(#clip132)\" d=\"M18362.7 1423.18 L18362.7 1423.18 L18436 1423.18 L18436 1423.18 L18362.7 1423.18 L18362.7 1423.18  Z\" fill=\"#009af9\" fill-rule=\"evenodd\" fill-opacity=\"1\"/>\n",
       "<polyline clip-path=\"url(#clip132)\" style=\"stroke:#000000; stroke-linecap:round; stroke-linejoin:round; stroke-width:4; stroke-opacity:1; fill:none\" points=\"18362.7,1423.18 18362.7,1423.18 18436,1423.18 18362.7,1423.18 \"/>\n",
       "<path clip-path=\"url(#clip132)\" d=\"M18436 1423.18 L18436 1423.18 L18509.2 1423.18 L18509.2 1423.18 L18436 1423.18 L18436 1423.18  Z\" fill=\"#009af9\" fill-rule=\"evenodd\" fill-opacity=\"1\"/>\n",
       "<polyline clip-path=\"url(#clip132)\" style=\"stroke:#000000; stroke-linecap:round; stroke-linejoin:round; stroke-width:4; stroke-opacity:1; fill:none\" points=\"18436,1423.18 18436,1423.18 18509.2,1423.18 18436,1423.18 \"/>\n",
       "<path clip-path=\"url(#clip132)\" d=\"M18509.2 1423.18 L18509.2 1423.18 L18582.5 1423.18 L18582.5 1423.18 L18509.2 1423.18 L18509.2 1423.18  Z\" fill=\"#009af9\" fill-rule=\"evenodd\" fill-opacity=\"1\"/>\n",
       "<polyline clip-path=\"url(#clip132)\" style=\"stroke:#000000; stroke-linecap:round; stroke-linejoin:round; stroke-width:4; stroke-opacity:1; fill:none\" points=\"18509.2,1423.18 18509.2,1423.18 18582.5,1423.18 18509.2,1423.18 \"/>\n",
       "<path clip-path=\"url(#clip132)\" d=\"M18582.5 1423.18 L18582.5 1423.18 L18655.8 1423.18 L18655.8 1423.18 L18582.5 1423.18 L18582.5 1423.18  Z\" fill=\"#009af9\" fill-rule=\"evenodd\" fill-opacity=\"1\"/>\n",
       "<polyline clip-path=\"url(#clip132)\" style=\"stroke:#000000; stroke-linecap:round; stroke-linejoin:round; stroke-width:4; stroke-opacity:1; fill:none\" points=\"18582.5,1423.18 18582.5,1423.18 18655.8,1423.18 18582.5,1423.18 \"/>\n",
       "<path clip-path=\"url(#clip132)\" d=\"M18655.8 1423.18 L18655.8 1423.18 L18729.1 1423.18 L18729.1 1423.18 L18655.8 1423.18 L18655.8 1423.18  Z\" fill=\"#009af9\" fill-rule=\"evenodd\" fill-opacity=\"1\"/>\n",
       "<polyline clip-path=\"url(#clip132)\" style=\"stroke:#000000; stroke-linecap:round; stroke-linejoin:round; stroke-width:4; stroke-opacity:1; fill:none\" points=\"18655.8,1423.18 18655.8,1423.18 18729.1,1423.18 18655.8,1423.18 \"/>\n",
       "<path clip-path=\"url(#clip132)\" d=\"M18729.1 1423.18 L18729.1 1423.18 L18802.3 1423.18 L18802.3 1423.18 L18729.1 1423.18 L18729.1 1423.18  Z\" fill=\"#009af9\" fill-rule=\"evenodd\" fill-opacity=\"1\"/>\n",
       "<polyline clip-path=\"url(#clip132)\" style=\"stroke:#000000; stroke-linecap:round; stroke-linejoin:round; stroke-width:4; stroke-opacity:1; fill:none\" points=\"18729.1,1423.18 18729.1,1423.18 18802.3,1423.18 18729.1,1423.18 \"/>\n",
       "<path clip-path=\"url(#clip132)\" d=\"M18802.3 1423.18 L18802.3 1423.18 L18875.6 1423.18 L18875.6 1423.18 L18802.3 1423.18 L18802.3 1423.18  Z\" fill=\"#009af9\" fill-rule=\"evenodd\" fill-opacity=\"1\"/>\n",
       "<polyline clip-path=\"url(#clip132)\" style=\"stroke:#000000; stroke-linecap:round; stroke-linejoin:round; stroke-width:4; stroke-opacity:1; fill:none\" points=\"18802.3,1423.18 18802.3,1423.18 18875.6,1423.18 18802.3,1423.18 \"/>\n",
       "<path clip-path=\"url(#clip132)\" d=\"M18875.6 1423.18 L18875.6 1423.18 L18948.9 1423.18 L18948.9 1423.18 L18875.6 1423.18 L18875.6 1423.18  Z\" fill=\"#009af9\" fill-rule=\"evenodd\" fill-opacity=\"1\"/>\n",
       "<polyline clip-path=\"url(#clip132)\" style=\"stroke:#000000; stroke-linecap:round; stroke-linejoin:round; stroke-width:4; stroke-opacity:1; fill:none\" points=\"18875.6,1423.18 18875.6,1423.18 18948.9,1423.18 18875.6,1423.18 \"/>\n",
       "<path clip-path=\"url(#clip132)\" d=\"M18948.9 1423.18 L18948.9 1423.18 L19022.1 1423.18 L19022.1 1423.18 L18948.9 1423.18 L18948.9 1423.18  Z\" fill=\"#009af9\" fill-rule=\"evenodd\" fill-opacity=\"1\"/>\n",
       "<polyline clip-path=\"url(#clip132)\" style=\"stroke:#000000; stroke-linecap:round; stroke-linejoin:round; stroke-width:4; stroke-opacity:1; fill:none\" points=\"18948.9,1423.18 18948.9,1423.18 19022.1,1423.18 18948.9,1423.18 \"/>\n",
       "<path clip-path=\"url(#clip132)\" d=\"M19022.1 1423.18 L19022.1 1423.18 L19095.4 1423.18 L19095.4 1423.18 L19022.1 1423.18 L19022.1 1423.18  Z\" fill=\"#009af9\" fill-rule=\"evenodd\" fill-opacity=\"1\"/>\n",
       "<polyline clip-path=\"url(#clip132)\" style=\"stroke:#000000; stroke-linecap:round; stroke-linejoin:round; stroke-width:4; stroke-opacity:1; fill:none\" points=\"19022.1,1423.18 19022.1,1423.18 19095.4,1423.18 19022.1,1423.18 \"/>\n",
       "<path clip-path=\"url(#clip132)\" d=\"M19095.4 1423.18 L19095.4 1423.18 L19168.7 1423.18 L19168.7 1423.18 L19095.4 1423.18 L19095.4 1423.18  Z\" fill=\"#009af9\" fill-rule=\"evenodd\" fill-opacity=\"1\"/>\n",
       "<polyline clip-path=\"url(#clip132)\" style=\"stroke:#000000; stroke-linecap:round; stroke-linejoin:round; stroke-width:4; stroke-opacity:1; fill:none\" points=\"19095.4,1423.18 19095.4,1423.18 19168.7,1423.18 19095.4,1423.18 \"/>\n",
       "<path clip-path=\"url(#clip132)\" d=\"M19168.7 1423.18 L19168.7 1423.18 L19242 1423.18 L19242 1423.18 L19168.7 1423.18 L19168.7 1423.18  Z\" fill=\"#009af9\" fill-rule=\"evenodd\" fill-opacity=\"1\"/>\n",
       "<polyline clip-path=\"url(#clip132)\" style=\"stroke:#000000; stroke-linecap:round; stroke-linejoin:round; stroke-width:4; stroke-opacity:1; fill:none\" points=\"19168.7,1423.18 19168.7,1423.18 19242,1423.18 19168.7,1423.18 \"/>\n",
       "<path clip-path=\"url(#clip132)\" d=\"M19242 1423.18 L19242 1423.18 L19315.2 1423.18 L19315.2 1423.18 L19242 1423.18 L19242 1423.18  Z\" fill=\"#009af9\" fill-rule=\"evenodd\" fill-opacity=\"1\"/>\n",
       "<polyline clip-path=\"url(#clip132)\" style=\"stroke:#000000; stroke-linecap:round; stroke-linejoin:round; stroke-width:4; stroke-opacity:1; fill:none\" points=\"19242,1423.18 19242,1423.18 19315.2,1423.18 19242,1423.18 \"/>\n",
       "<path clip-path=\"url(#clip132)\" d=\"M19315.2 1423.18 L19315.2 1423.18 L19388.5 1423.18 L19388.5 1423.18 L19315.2 1423.18 L19315.2 1423.18  Z\" fill=\"#009af9\" fill-rule=\"evenodd\" fill-opacity=\"1\"/>\n",
       "<polyline clip-path=\"url(#clip132)\" style=\"stroke:#000000; stroke-linecap:round; stroke-linejoin:round; stroke-width:4; stroke-opacity:1; fill:none\" points=\"19315.2,1423.18 19315.2,1423.18 19388.5,1423.18 19315.2,1423.18 \"/>\n",
       "<path clip-path=\"url(#clip132)\" d=\"M19388.5 1423.18 L19388.5 1423.18 L19461.8 1423.18 L19461.8 1423.18 L19388.5 1423.18 L19388.5 1423.18  Z\" fill=\"#009af9\" fill-rule=\"evenodd\" fill-opacity=\"1\"/>\n",
       "<polyline clip-path=\"url(#clip132)\" style=\"stroke:#000000; stroke-linecap:round; stroke-linejoin:round; stroke-width:4; stroke-opacity:1; fill:none\" points=\"19388.5,1423.18 19388.5,1423.18 19461.8,1423.18 19388.5,1423.18 \"/>\n",
       "<path clip-path=\"url(#clip132)\" d=\"M19461.8 1423.18 L19461.8 1423.18 L19535.1 1423.18 L19535.1 1423.18 L19461.8 1423.18 L19461.8 1423.18  Z\" fill=\"#009af9\" fill-rule=\"evenodd\" fill-opacity=\"1\"/>\n",
       "<polyline clip-path=\"url(#clip132)\" style=\"stroke:#000000; stroke-linecap:round; stroke-linejoin:round; stroke-width:4; stroke-opacity:1; fill:none\" points=\"19461.8,1423.18 19461.8,1423.18 19535.1,1423.18 19461.8,1423.18 \"/>\n",
       "<path clip-path=\"url(#clip132)\" d=\"M19535.1 1423.18 L19535.1 1423.18 L19608.3 1423.18 L19608.3 1423.18 L19535.1 1423.18 L19535.1 1423.18  Z\" fill=\"#009af9\" fill-rule=\"evenodd\" fill-opacity=\"1\"/>\n",
       "<polyline clip-path=\"url(#clip132)\" style=\"stroke:#000000; stroke-linecap:round; stroke-linejoin:round; stroke-width:4; stroke-opacity:1; fill:none\" points=\"19535.1,1423.18 19535.1,1423.18 19608.3,1423.18 19535.1,1423.18 \"/>\n",
       "<path clip-path=\"url(#clip132)\" d=\"M19608.3 1423.18 L19608.3 1423.18 L19681.6 1423.18 L19681.6 1423.18 L19608.3 1423.18 L19608.3 1423.18  Z\" fill=\"#009af9\" fill-rule=\"evenodd\" fill-opacity=\"1\"/>\n",
       "<polyline clip-path=\"url(#clip132)\" style=\"stroke:#000000; stroke-linecap:round; stroke-linejoin:round; stroke-width:4; stroke-opacity:1; fill:none\" points=\"19608.3,1423.18 19608.3,1423.18 19681.6,1423.18 19608.3,1423.18 \"/>\n",
       "<path clip-path=\"url(#clip132)\" d=\"M19681.6 1423.18 L19681.6 1423.18 L19754.9 1423.18 L19754.9 1423.18 L19681.6 1423.18 L19681.6 1423.18  Z\" fill=\"#009af9\" fill-rule=\"evenodd\" fill-opacity=\"1\"/>\n",
       "<polyline clip-path=\"url(#clip132)\" style=\"stroke:#000000; stroke-linecap:round; stroke-linejoin:round; stroke-width:4; stroke-opacity:1; fill:none\" points=\"19681.6,1423.18 19681.6,1423.18 19754.9,1423.18 19681.6,1423.18 \"/>\n",
       "<path clip-path=\"url(#clip132)\" d=\"M19754.9 1423.18 L19754.9 1423.18 L19828.1 1423.18 L19828.1 1423.18 L19754.9 1423.18 L19754.9 1423.18  Z\" fill=\"#009af9\" fill-rule=\"evenodd\" fill-opacity=\"1\"/>\n",
       "<polyline clip-path=\"url(#clip132)\" style=\"stroke:#000000; stroke-linecap:round; stroke-linejoin:round; stroke-width:4; stroke-opacity:1; fill:none\" points=\"19754.9,1423.18 19754.9,1423.18 19828.1,1423.18 19754.9,1423.18 \"/>\n",
       "<path clip-path=\"url(#clip132)\" d=\"M19828.1 1423.18 L19828.1 1423.18 L19901.4 1423.18 L19901.4 1423.18 L19828.1 1423.18 L19828.1 1423.18  Z\" fill=\"#009af9\" fill-rule=\"evenodd\" fill-opacity=\"1\"/>\n",
       "<polyline clip-path=\"url(#clip132)\" style=\"stroke:#000000; stroke-linecap:round; stroke-linejoin:round; stroke-width:4; stroke-opacity:1; fill:none\" points=\"19828.1,1423.18 19828.1,1423.18 19901.4,1423.18 19828.1,1423.18 \"/>\n",
       "<path clip-path=\"url(#clip132)\" d=\"M19901.4 1423.18 L19901.4 1423.18 L19974.7 1423.18 L19974.7 1423.18 L19901.4 1423.18 L19901.4 1423.18  Z\" fill=\"#009af9\" fill-rule=\"evenodd\" fill-opacity=\"1\"/>\n",
       "<polyline clip-path=\"url(#clip132)\" style=\"stroke:#000000; stroke-linecap:round; stroke-linejoin:round; stroke-width:4; stroke-opacity:1; fill:none\" points=\"19901.4,1423.18 19901.4,1423.18 19974.7,1423.18 19901.4,1423.18 \"/>\n",
       "<path clip-path=\"url(#clip132)\" d=\"M19974.7 1423.18 L19974.7 1423.18 L20048 1423.18 L20048 1423.18 L19974.7 1423.18 L19974.7 1423.18  Z\" fill=\"#009af9\" fill-rule=\"evenodd\" fill-opacity=\"1\"/>\n",
       "<polyline clip-path=\"url(#clip132)\" style=\"stroke:#000000; stroke-linecap:round; stroke-linejoin:round; stroke-width:4; stroke-opacity:1; fill:none\" points=\"19974.7,1423.18 19974.7,1423.18 20048,1423.18 19974.7,1423.18 \"/>\n",
       "<path clip-path=\"url(#clip132)\" d=\"M20048 1423.18 L20048 1423.18 L20121.2 1423.18 L20121.2 1423.18 L20048 1423.18 L20048 1423.18  Z\" fill=\"#009af9\" fill-rule=\"evenodd\" fill-opacity=\"1\"/>\n",
       "<polyline clip-path=\"url(#clip132)\" style=\"stroke:#000000; stroke-linecap:round; stroke-linejoin:round; stroke-width:4; stroke-opacity:1; fill:none\" points=\"20048,1423.18 20048,1423.18 20121.2,1423.18 20048,1423.18 \"/>\n",
       "<path clip-path=\"url(#clip132)\" d=\"M20121.2 1423.18 L20121.2 1423.18 L20194.5 1423.18 L20194.5 1423.18 L20121.2 1423.18 L20121.2 1423.18  Z\" fill=\"#009af9\" fill-rule=\"evenodd\" fill-opacity=\"1\"/>\n",
       "<polyline clip-path=\"url(#clip132)\" style=\"stroke:#000000; stroke-linecap:round; stroke-linejoin:round; stroke-width:4; stroke-opacity:1; fill:none\" points=\"20121.2,1423.18 20121.2,1423.18 20194.5,1423.18 20121.2,1423.18 \"/>\n",
       "<path clip-path=\"url(#clip132)\" d=\"M20194.5 1423.18 L20194.5 1423.18 L20267.8 1423.18 L20267.8 1423.18 L20194.5 1423.18 L20194.5 1423.18  Z\" fill=\"#009af9\" fill-rule=\"evenodd\" fill-opacity=\"1\"/>\n",
       "<polyline clip-path=\"url(#clip132)\" style=\"stroke:#000000; stroke-linecap:round; stroke-linejoin:round; stroke-width:4; stroke-opacity:1; fill:none\" points=\"20194.5,1423.18 20194.5,1423.18 20267.8,1423.18 20194.5,1423.18 \"/>\n",
       "<path clip-path=\"url(#clip132)\" d=\"M20267.8 1423.18 L20267.8 1423.18 L20341.1 1423.18 L20341.1 1423.18 L20267.8 1423.18 L20267.8 1423.18  Z\" fill=\"#009af9\" fill-rule=\"evenodd\" fill-opacity=\"1\"/>\n",
       "<polyline clip-path=\"url(#clip132)\" style=\"stroke:#000000; stroke-linecap:round; stroke-linejoin:round; stroke-width:4; stroke-opacity:1; fill:none\" points=\"20267.8,1423.18 20267.8,1423.18 20341.1,1423.18 20267.8,1423.18 \"/>\n",
       "<path clip-path=\"url(#clip132)\" d=\"M20341.1 1423.18 L20341.1 1423.18 L20414.3 1423.18 L20414.3 1423.18 L20341.1 1423.18 L20341.1 1423.18  Z\" fill=\"#009af9\" fill-rule=\"evenodd\" fill-opacity=\"1\"/>\n",
       "<polyline clip-path=\"url(#clip132)\" style=\"stroke:#000000; stroke-linecap:round; stroke-linejoin:round; stroke-width:4; stroke-opacity:1; fill:none\" points=\"20341.1,1423.18 20341.1,1423.18 20414.3,1423.18 20341.1,1423.18 \"/>\n",
       "<path clip-path=\"url(#clip132)\" d=\"M20414.3 1423.18 L20414.3 1423.18 L20487.6 1423.18 L20487.6 1423.18 L20414.3 1423.18 L20414.3 1423.18  Z\" fill=\"#009af9\" fill-rule=\"evenodd\" fill-opacity=\"1\"/>\n",
       "<polyline clip-path=\"url(#clip132)\" style=\"stroke:#000000; stroke-linecap:round; stroke-linejoin:round; stroke-width:4; stroke-opacity:1; fill:none\" points=\"20414.3,1423.18 20414.3,1423.18 20487.6,1423.18 20414.3,1423.18 \"/>\n",
       "<path clip-path=\"url(#clip132)\" d=\"M20487.6 1423.18 L20487.6 1423.18 L20560.9 1423.18 L20560.9 1423.18 L20487.6 1423.18 L20487.6 1423.18  Z\" fill=\"#009af9\" fill-rule=\"evenodd\" fill-opacity=\"1\"/>\n",
       "<polyline clip-path=\"url(#clip132)\" style=\"stroke:#000000; stroke-linecap:round; stroke-linejoin:round; stroke-width:4; stroke-opacity:1; fill:none\" points=\"20487.6,1423.18 20487.6,1423.18 20560.9,1423.18 20487.6,1423.18 \"/>\n",
       "<path clip-path=\"url(#clip132)\" d=\"M20560.9 1270.3 L20560.9 1423.18 L20634.1 1423.18 L20634.1 1270.3 L20560.9 1270.3 L20560.9 1270.3  Z\" fill=\"#009af9\" fill-rule=\"evenodd\" fill-opacity=\"1\"/>\n",
       "<polyline clip-path=\"url(#clip132)\" style=\"stroke:#000000; stroke-linecap:round; stroke-linejoin:round; stroke-width:4; stroke-opacity:1; fill:none\" points=\"20560.9,1270.3 20560.9,1423.18 20634.1,1423.18 20634.1,1270.3 20560.9,1270.3 \"/>\n",
       "<circle clip-path=\"url(#clip132)\" style=\"fill:#009af9; stroke:none; fill-opacity:0\" cx=\"227.748\" cy=\"1423.18\" r=\"2\"/>\n",
       "<circle clip-path=\"url(#clip132)\" style=\"fill:#009af9; stroke:none; fill-opacity:0\" cx=\"301.02\" cy=\"1423.18\" r=\"2\"/>\n",
       "<circle clip-path=\"url(#clip132)\" style=\"fill:#009af9; stroke:none; fill-opacity:0\" cx=\"374.293\" cy=\"1423.18\" r=\"2\"/>\n",
       "<circle clip-path=\"url(#clip132)\" style=\"fill:#009af9; stroke:none; fill-opacity:0\" cx=\"447.565\" cy=\"811.653\" r=\"2\"/>\n",
       "<circle clip-path=\"url(#clip132)\" style=\"fill:#009af9; stroke:none; fill-opacity:0\" cx=\"520.838\" cy=\"1423.18\" r=\"2\"/>\n",
       "<circle clip-path=\"url(#clip132)\" style=\"fill:#009af9; stroke:none; fill-opacity:0\" cx=\"594.11\" cy=\"1423.18\" r=\"2\"/>\n",
       "<circle clip-path=\"url(#clip132)\" style=\"fill:#009af9; stroke:none; fill-opacity:0\" cx=\"667.383\" cy=\"1270.3\" r=\"2\"/>\n",
       "<circle clip-path=\"url(#clip132)\" style=\"fill:#009af9; stroke:none; fill-opacity:0\" cx=\"740.655\" cy=\"964.535\" r=\"2\"/>\n",
       "<circle clip-path=\"url(#clip132)\" style=\"fill:#009af9; stroke:none; fill-opacity:0\" cx=\"813.928\" cy=\"1270.3\" r=\"2\"/>\n",
       "<circle clip-path=\"url(#clip132)\" style=\"fill:#009af9; stroke:none; fill-opacity:0\" cx=\"887.2\" cy=\"1270.3\" r=\"2\"/>\n",
       "<circle clip-path=\"url(#clip132)\" style=\"fill:#009af9; stroke:none; fill-opacity:0\" cx=\"960.473\" cy=\"1270.3\" r=\"2\"/>\n",
       "<circle clip-path=\"url(#clip132)\" style=\"fill:#009af9; stroke:none; fill-opacity:0\" cx=\"1033.75\" cy=\"1117.42\" r=\"2\"/>\n",
       "<circle clip-path=\"url(#clip132)\" style=\"fill:#009af9; stroke:none; fill-opacity:0\" cx=\"1107.02\" cy=\"1270.3\" r=\"2\"/>\n",
       "<circle clip-path=\"url(#clip132)\" style=\"fill:#009af9; stroke:none; fill-opacity:0\" cx=\"1180.29\" cy=\"1117.42\" r=\"2\"/>\n",
       "<circle clip-path=\"url(#clip132)\" style=\"fill:#009af9; stroke:none; fill-opacity:0\" cx=\"1253.56\" cy=\"964.535\" r=\"2\"/>\n",
       "<circle clip-path=\"url(#clip132)\" style=\"fill:#009af9; stroke:none; fill-opacity:0\" cx=\"1326.84\" cy=\"1117.42\" r=\"2\"/>\n",
       "<circle clip-path=\"url(#clip132)\" style=\"fill:#009af9; stroke:none; fill-opacity:0\" cx=\"1400.11\" cy=\"353.008\" r=\"2\"/>\n",
       "<circle clip-path=\"url(#clip132)\" style=\"fill:#009af9; stroke:none; fill-opacity:0\" cx=\"1473.38\" cy=\"1270.3\" r=\"2\"/>\n",
       "<circle clip-path=\"url(#clip132)\" style=\"fill:#009af9; stroke:none; fill-opacity:0\" cx=\"1546.65\" cy=\"1117.42\" r=\"2\"/>\n",
       "<circle clip-path=\"url(#clip132)\" style=\"fill:#009af9; stroke:none; fill-opacity:0\" cx=\"1619.93\" cy=\"1117.42\" r=\"2\"/>\n",
       "<circle clip-path=\"url(#clip132)\" style=\"fill:#009af9; stroke:none; fill-opacity:0\" cx=\"1693.2\" cy=\"1423.18\" r=\"2\"/>\n",
       "<circle clip-path=\"url(#clip132)\" style=\"fill:#009af9; stroke:none; fill-opacity:0\" cx=\"1766.47\" cy=\"964.535\" r=\"2\"/>\n",
       "<circle clip-path=\"url(#clip132)\" style=\"fill:#009af9; stroke:none; fill-opacity:0\" cx=\"1839.74\" cy=\"505.889\" r=\"2\"/>\n",
       "<circle clip-path=\"url(#clip132)\" style=\"fill:#009af9; stroke:none; fill-opacity:0\" cx=\"1913.02\" cy=\"964.535\" r=\"2\"/>\n",
       "<circle clip-path=\"url(#clip132)\" style=\"fill:#009af9; stroke:none; fill-opacity:0\" cx=\"1986.29\" cy=\"964.535\" r=\"2\"/>\n",
       "<circle clip-path=\"url(#clip132)\" style=\"fill:#009af9; stroke:none; fill-opacity:0\" cx=\"2059.56\" cy=\"505.889\" r=\"2\"/>\n",
       "<circle clip-path=\"url(#clip132)\" style=\"fill:#009af9; stroke:none; fill-opacity:0\" cx=\"2132.83\" cy=\"811.653\" r=\"2\"/>\n",
       "<circle clip-path=\"url(#clip132)\" style=\"fill:#009af9; stroke:none; fill-opacity:0\" cx=\"2206.11\" cy=\"1117.42\" r=\"2\"/>\n",
       "<circle clip-path=\"url(#clip132)\" style=\"fill:#009af9; stroke:none; fill-opacity:0\" cx=\"2279.38\" cy=\"1117.42\" r=\"2\"/>\n",
       "<circle clip-path=\"url(#clip132)\" style=\"fill:#009af9; stroke:none; fill-opacity:0\" cx=\"2352.65\" cy=\"1117.42\" r=\"2\"/>\n",
       "</svg>\n"
      ],
      "text/html": [
       "<?xml version=\"1.0\" encoding=\"utf-8\"?>\n",
       "<svg xmlns=\"http://www.w3.org/2000/svg\" xmlns:xlink=\"http://www.w3.org/1999/xlink\" width=\"600\" height=\"400\" viewBox=\"0 0 2400 1600\">\n",
       "<defs>\n",
       "  <clipPath id=\"clip180\">\n",
       "    <rect x=\"0\" y=\"0\" width=\"2400\" height=\"1600\"/>\n",
       "  </clipPath>\n",
       "</defs>\n",
       "<path clip-path=\"url(#clip180)\" d=\"M0 1600 L2400 1600 L2400 0 L0 0  Z\" fill=\"#ffffff\" fill-rule=\"evenodd\" fill-opacity=\"1\"/>\n",
       "<defs>\n",
       "  <clipPath id=\"clip181\">\n",
       "    <rect x=\"480\" y=\"0\" width=\"1681\" height=\"1600\"/>\n",
       "  </clipPath>\n",
       "</defs>\n",
       "<path clip-path=\"url(#clip180)\" d=\"M174.149 1423.18 L2352.76 1423.18 L2352.76 47.2441 L174.149 47.2441  Z\" fill=\"#ffffff\" fill-rule=\"evenodd\" fill-opacity=\"1\"/>\n",
       "<defs>\n",
       "  <clipPath id=\"clip182\">\n",
       "    <rect x=\"174\" y=\"47\" width=\"2180\" height=\"1377\"/>\n",
       "  </clipPath>\n",
       "</defs>\n",
       "<polyline clip-path=\"url(#clip182)\" style=\"stroke:#000000; stroke-linecap:round; stroke-linejoin:round; stroke-width:2; stroke-opacity:0.1; fill:none\" points=\"410.929,1423.18 410.929,47.2441 \"/>\n",
       "<polyline clip-path=\"url(#clip182)\" style=\"stroke:#000000; stroke-linecap:round; stroke-linejoin:round; stroke-width:2; stroke-opacity:0.1; fill:none\" points=\"777.292,1423.18 777.292,47.2441 \"/>\n",
       "<polyline clip-path=\"url(#clip182)\" style=\"stroke:#000000; stroke-linecap:round; stroke-linejoin:round; stroke-width:2; stroke-opacity:0.1; fill:none\" points=\"1143.65,1423.18 1143.65,47.2441 \"/>\n",
       "<polyline clip-path=\"url(#clip182)\" style=\"stroke:#000000; stroke-linecap:round; stroke-linejoin:round; stroke-width:2; stroke-opacity:0.1; fill:none\" points=\"1510.02,1423.18 1510.02,47.2441 \"/>\n",
       "<polyline clip-path=\"url(#clip182)\" style=\"stroke:#000000; stroke-linecap:round; stroke-linejoin:round; stroke-width:2; stroke-opacity:0.1; fill:none\" points=\"1876.38,1423.18 1876.38,47.2441 \"/>\n",
       "<polyline clip-path=\"url(#clip182)\" style=\"stroke:#000000; stroke-linecap:round; stroke-linejoin:round; stroke-width:2; stroke-opacity:0.1; fill:none\" points=\"2242.74,1423.18 2242.74,47.2441 \"/>\n",
       "<polyline clip-path=\"url(#clip180)\" style=\"stroke:#000000; stroke-linecap:round; stroke-linejoin:round; stroke-width:4; stroke-opacity:1; fill:none\" points=\"174.149,1423.18 2352.76,1423.18 \"/>\n",
       "<polyline clip-path=\"url(#clip180)\" style=\"stroke:#000000; stroke-linecap:round; stroke-linejoin:round; stroke-width:4; stroke-opacity:1; fill:none\" points=\"410.929,1423.18 410.929,1404.28 \"/>\n",
       "<polyline clip-path=\"url(#clip180)\" style=\"stroke:#000000; stroke-linecap:round; stroke-linejoin:round; stroke-width:4; stroke-opacity:1; fill:none\" points=\"777.292,1423.18 777.292,1404.28 \"/>\n",
       "<polyline clip-path=\"url(#clip180)\" style=\"stroke:#000000; stroke-linecap:round; stroke-linejoin:round; stroke-width:4; stroke-opacity:1; fill:none\" points=\"1143.65,1423.18 1143.65,1404.28 \"/>\n",
       "<polyline clip-path=\"url(#clip180)\" style=\"stroke:#000000; stroke-linecap:round; stroke-linejoin:round; stroke-width:4; stroke-opacity:1; fill:none\" points=\"1510.02,1423.18 1510.02,1404.28 \"/>\n",
       "<polyline clip-path=\"url(#clip180)\" style=\"stroke:#000000; stroke-linecap:round; stroke-linejoin:round; stroke-width:4; stroke-opacity:1; fill:none\" points=\"1876.38,1423.18 1876.38,1404.28 \"/>\n",
       "<polyline clip-path=\"url(#clip180)\" style=\"stroke:#000000; stroke-linecap:round; stroke-linejoin:round; stroke-width:4; stroke-opacity:1; fill:none\" points=\"2242.74,1423.18 2242.74,1404.28 \"/>\n",
       "<path clip-path=\"url(#clip180)\" d=\"M363.001 1481.64 L370.64 1481.64 L370.64 1455.28 L362.33 1456.95 L362.33 1452.69 L370.594 1451.02 L375.27 1451.02 L375.27 1481.64 L382.908 1481.64 L382.908 1485.58 L363.001 1485.58 L363.001 1481.64 Z\" fill=\"#000000\" fill-rule=\"nonzero\" fill-opacity=\"1\" /><path clip-path=\"url(#clip180)\" d=\"M406.519 1466.95 Q409.876 1467.66 411.751 1469.93 Q413.649 1472.2 413.649 1475.53 Q413.649 1480.65 410.13 1483.45 Q406.612 1486.25 400.131 1486.25 Q397.955 1486.25 395.64 1485.81 Q393.348 1485.39 390.894 1484.54 L390.894 1480.02 Q392.839 1481.16 395.154 1481.74 Q397.468 1482.32 399.992 1482.32 Q404.39 1482.32 406.681 1480.58 Q408.996 1478.84 408.996 1475.53 Q408.996 1472.48 406.843 1470.77 Q404.714 1469.03 400.894 1469.03 L396.867 1469.03 L396.867 1465.19 L401.08 1465.19 Q404.529 1465.19 406.357 1463.82 Q408.186 1462.43 408.186 1459.84 Q408.186 1457.18 406.288 1455.77 Q404.413 1454.33 400.894 1454.33 Q398.973 1454.33 396.774 1454.75 Q394.575 1455.16 391.936 1456.04 L391.936 1451.88 Q394.598 1451.14 396.913 1450.77 Q399.251 1450.39 401.311 1450.39 Q406.635 1450.39 409.737 1452.83 Q412.839 1455.23 412.839 1459.35 Q412.839 1462.22 411.195 1464.21 Q409.552 1466.18 406.519 1466.95 Z\" fill=\"#000000\" fill-rule=\"nonzero\" fill-opacity=\"1\" /><path clip-path=\"url(#clip180)\" d=\"M422.515 1479.7 L427.399 1479.7 L427.399 1485.58 L422.515 1485.58 L422.515 1479.7 Z\" fill=\"#000000\" fill-rule=\"nonzero\" fill-opacity=\"1\" /><path clip-path=\"url(#clip180)\" d=\"M447.584 1454.1 Q443.973 1454.1 442.144 1457.66 Q440.339 1461.2 440.339 1468.33 Q440.339 1475.44 442.144 1479.01 Q443.973 1482.55 447.584 1482.55 Q451.218 1482.55 453.024 1479.01 Q454.852 1475.44 454.852 1468.33 Q454.852 1461.2 453.024 1457.66 Q451.218 1454.1 447.584 1454.1 M447.584 1450.39 Q453.394 1450.39 456.45 1455 Q459.528 1459.58 459.528 1468.33 Q459.528 1477.06 456.45 1481.67 Q453.394 1486.25 447.584 1486.25 Q441.774 1486.25 438.695 1481.67 Q435.64 1477.06 435.64 1468.33 Q435.64 1459.58 438.695 1455 Q441.774 1450.39 447.584 1450.39 Z\" fill=\"#000000\" fill-rule=\"nonzero\" fill-opacity=\"1\" /><path clip-path=\"url(#clip180)\" d=\"M729.861 1481.64 L737.5 1481.64 L737.5 1455.28 L729.19 1456.95 L729.19 1452.69 L737.454 1451.02 L742.13 1451.02 L742.13 1481.64 L749.769 1481.64 L749.769 1485.58 L729.861 1485.58 L729.861 1481.64 Z\" fill=\"#000000\" fill-rule=\"nonzero\" fill-opacity=\"1\" /><path clip-path=\"url(#clip180)\" d=\"M773.38 1466.95 Q776.736 1467.66 778.611 1469.93 Q780.509 1472.2 780.509 1475.53 Q780.509 1480.65 776.991 1483.45 Q773.472 1486.25 766.991 1486.25 Q764.815 1486.25 762.5 1485.81 Q760.208 1485.39 757.755 1484.54 L757.755 1480.02 Q759.699 1481.16 762.014 1481.74 Q764.329 1482.32 766.852 1482.32 Q771.25 1482.32 773.542 1480.58 Q775.857 1478.84 775.857 1475.53 Q775.857 1472.48 773.704 1470.77 Q771.574 1469.03 767.755 1469.03 L763.727 1469.03 L763.727 1465.19 L767.94 1465.19 Q771.389 1465.19 773.218 1463.82 Q775.046 1462.43 775.046 1459.84 Q775.046 1457.18 773.148 1455.77 Q771.273 1454.33 767.755 1454.33 Q765.833 1454.33 763.634 1454.75 Q761.435 1455.16 758.796 1456.04 L758.796 1451.88 Q761.458 1451.14 763.773 1450.77 Q766.111 1450.39 768.171 1450.39 Q773.495 1450.39 776.597 1452.83 Q779.699 1455.23 779.699 1459.35 Q779.699 1462.22 778.056 1464.21 Q776.412 1466.18 773.38 1466.95 Z\" fill=\"#000000\" fill-rule=\"nonzero\" fill-opacity=\"1\" /><path clip-path=\"url(#clip180)\" d=\"M789.375 1479.7 L794.259 1479.7 L794.259 1485.58 L789.375 1485.58 L789.375 1479.7 Z\" fill=\"#000000\" fill-rule=\"nonzero\" fill-opacity=\"1\" /><path clip-path=\"url(#clip180)\" d=\"M804.491 1451.02 L822.847 1451.02 L822.847 1454.96 L808.773 1454.96 L808.773 1463.43 Q809.792 1463.08 810.81 1462.92 Q811.829 1462.73 812.847 1462.73 Q818.634 1462.73 822.014 1465.9 Q825.393 1469.08 825.393 1474.49 Q825.393 1480.07 821.921 1483.17 Q818.449 1486.25 812.129 1486.25 Q809.954 1486.25 807.685 1485.88 Q805.44 1485.51 803.032 1484.77 L803.032 1480.07 Q805.116 1481.2 807.338 1481.76 Q809.56 1482.32 812.037 1482.32 Q816.041 1482.32 818.379 1480.21 Q820.717 1478.1 820.717 1474.49 Q820.717 1470.88 818.379 1468.77 Q816.041 1466.67 812.037 1466.67 Q810.162 1466.67 808.287 1467.08 Q806.435 1467.5 804.491 1468.38 L804.491 1451.02 Z\" fill=\"#000000\" fill-rule=\"nonzero\" fill-opacity=\"1\" /><path clip-path=\"url(#clip180)\" d=\"M1095.73 1481.64 L1103.37 1481.64 L1103.37 1455.28 L1095.06 1456.95 L1095.06 1452.69 L1103.32 1451.02 L1107.99 1451.02 L1107.99 1481.64 L1115.63 1481.64 L1115.63 1485.58 L1095.73 1485.58 L1095.73 1481.64 Z\" fill=\"#000000\" fill-rule=\"nonzero\" fill-opacity=\"1\" /><path clip-path=\"url(#clip180)\" d=\"M1137.93 1455.09 L1126.12 1473.54 L1137.93 1473.54 L1137.93 1455.09 M1136.7 1451.02 L1142.58 1451.02 L1142.58 1473.54 L1147.51 1473.54 L1147.51 1477.43 L1142.58 1477.43 L1142.58 1485.58 L1137.93 1485.58 L1137.93 1477.43 L1122.32 1477.43 L1122.32 1472.92 L1136.7 1451.02 Z\" fill=\"#000000\" fill-rule=\"nonzero\" fill-opacity=\"1\" /><path clip-path=\"url(#clip180)\" d=\"M1155.24 1479.7 L1160.12 1479.7 L1160.12 1485.58 L1155.24 1485.58 L1155.24 1479.7 Z\" fill=\"#000000\" fill-rule=\"nonzero\" fill-opacity=\"1\" /><path clip-path=\"url(#clip180)\" d=\"M1180.31 1454.1 Q1176.7 1454.1 1174.87 1457.66 Q1173.06 1461.2 1173.06 1468.33 Q1173.06 1475.44 1174.87 1479.01 Q1176.7 1482.55 1180.31 1482.55 Q1183.94 1482.55 1185.75 1479.01 Q1187.58 1475.44 1187.58 1468.33 Q1187.58 1461.2 1185.75 1457.66 Q1183.94 1454.1 1180.31 1454.1 M1180.31 1450.39 Q1186.12 1450.39 1189.17 1455 Q1192.25 1459.58 1192.25 1468.33 Q1192.25 1477.06 1189.17 1481.67 Q1186.12 1486.25 1180.31 1486.25 Q1174.5 1486.25 1171.42 1481.67 Q1168.36 1477.06 1168.36 1468.33 Q1168.36 1459.58 1171.42 1455 Q1174.5 1450.39 1180.31 1450.39 Z\" fill=\"#000000\" fill-rule=\"nonzero\" fill-opacity=\"1\" /><path clip-path=\"url(#clip180)\" d=\"M1462.59 1481.64 L1470.23 1481.64 L1470.23 1455.28 L1461.92 1456.95 L1461.92 1452.69 L1470.18 1451.02 L1474.86 1451.02 L1474.86 1481.64 L1482.49 1481.64 L1482.49 1485.58 L1462.59 1485.58 L1462.59 1481.64 Z\" fill=\"#000000\" fill-rule=\"nonzero\" fill-opacity=\"1\" /><path clip-path=\"url(#clip180)\" d=\"M1504.79 1455.09 L1492.98 1473.54 L1504.79 1473.54 L1504.79 1455.09 M1503.56 1451.02 L1509.44 1451.02 L1509.44 1473.54 L1514.37 1473.54 L1514.37 1477.43 L1509.44 1477.43 L1509.44 1485.58 L1504.79 1485.58 L1504.79 1477.43 L1489.18 1477.43 L1489.18 1472.92 L1503.56 1451.02 Z\" fill=\"#000000\" fill-rule=\"nonzero\" fill-opacity=\"1\" /><path clip-path=\"url(#clip180)\" d=\"M1522.1 1479.7 L1526.98 1479.7 L1526.98 1485.58 L1522.1 1485.58 L1522.1 1479.7 Z\" fill=\"#000000\" fill-rule=\"nonzero\" fill-opacity=\"1\" /><path clip-path=\"url(#clip180)\" d=\"M1537.22 1451.02 L1555.57 1451.02 L1555.57 1454.96 L1541.5 1454.96 L1541.5 1463.43 Q1542.52 1463.08 1543.54 1462.92 Q1544.55 1462.73 1545.57 1462.73 Q1551.36 1462.73 1554.74 1465.9 Q1558.12 1469.08 1558.12 1474.49 Q1558.12 1480.07 1554.65 1483.17 Q1551.17 1486.25 1544.85 1486.25 Q1542.68 1486.25 1540.41 1485.88 Q1538.16 1485.51 1535.76 1484.77 L1535.76 1480.07 Q1537.84 1481.2 1540.06 1481.76 Q1542.29 1482.32 1544.76 1482.32 Q1548.77 1482.32 1551.1 1480.21 Q1553.44 1478.1 1553.44 1474.49 Q1553.44 1470.88 1551.1 1468.77 Q1548.77 1466.67 1544.76 1466.67 Q1542.89 1466.67 1541.01 1467.08 Q1539.16 1467.5 1537.22 1468.38 L1537.22 1451.02 Z\" fill=\"#000000\" fill-rule=\"nonzero\" fill-opacity=\"1\" /><path clip-path=\"url(#clip180)\" d=\"M1828.45 1481.64 L1836.09 1481.64 L1836.09 1455.28 L1827.78 1456.95 L1827.78 1452.69 L1836.04 1451.02 L1840.72 1451.02 L1840.72 1481.64 L1848.36 1481.64 L1848.36 1485.58 L1828.45 1485.58 L1828.45 1481.64 Z\" fill=\"#000000\" fill-rule=\"nonzero\" fill-opacity=\"1\" /><path clip-path=\"url(#clip180)\" d=\"M1857.85 1451.02 L1876.21 1451.02 L1876.21 1454.96 L1862.13 1454.96 L1862.13 1463.43 Q1863.15 1463.08 1864.17 1462.92 Q1865.19 1462.73 1866.21 1462.73 Q1871.99 1462.73 1875.37 1465.9 Q1878.75 1469.08 1878.75 1474.49 Q1878.75 1480.07 1875.28 1483.17 Q1871.81 1486.25 1865.49 1486.25 Q1863.31 1486.25 1861.04 1485.88 Q1858.8 1485.51 1856.39 1484.77 L1856.39 1480.07 Q1858.47 1481.2 1860.7 1481.76 Q1862.92 1482.32 1865.4 1482.32 Q1869.4 1482.32 1871.74 1480.21 Q1874.08 1478.1 1874.08 1474.49 Q1874.08 1470.88 1871.74 1468.77 Q1869.4 1466.67 1865.4 1466.67 Q1863.52 1466.67 1861.65 1467.08 Q1859.79 1467.5 1857.85 1468.38 L1857.85 1451.02 Z\" fill=\"#000000\" fill-rule=\"nonzero\" fill-opacity=\"1\" /><path clip-path=\"url(#clip180)\" d=\"M1887.97 1479.7 L1892.85 1479.7 L1892.85 1485.58 L1887.97 1485.58 L1887.97 1479.7 Z\" fill=\"#000000\" fill-rule=\"nonzero\" fill-opacity=\"1\" /><path clip-path=\"url(#clip180)\" d=\"M1913.03 1454.1 Q1909.42 1454.1 1907.59 1457.66 Q1905.79 1461.2 1905.79 1468.33 Q1905.79 1475.44 1907.59 1479.01 Q1909.42 1482.55 1913.03 1482.55 Q1916.67 1482.55 1918.47 1479.01 Q1920.3 1475.44 1920.3 1468.33 Q1920.3 1461.2 1918.47 1457.66 Q1916.67 1454.1 1913.03 1454.1 M1913.03 1450.39 Q1918.84 1450.39 1921.9 1455 Q1924.98 1459.58 1924.98 1468.33 Q1924.98 1477.06 1921.9 1481.67 Q1918.84 1486.25 1913.03 1486.25 Q1907.22 1486.25 1904.15 1481.67 Q1901.09 1477.06 1901.09 1468.33 Q1901.09 1459.58 1904.15 1455 Q1907.22 1450.39 1913.03 1450.39 Z\" fill=\"#000000\" fill-rule=\"nonzero\" fill-opacity=\"1\" /><path clip-path=\"url(#clip180)\" d=\"M2195.31 1481.64 L2202.95 1481.64 L2202.95 1455.28 L2194.64 1456.95 L2194.64 1452.69 L2202.9 1451.02 L2207.58 1451.02 L2207.58 1481.64 L2215.22 1481.64 L2215.22 1485.58 L2195.31 1485.58 L2195.31 1481.64 Z\" fill=\"#000000\" fill-rule=\"nonzero\" fill-opacity=\"1\" /><path clip-path=\"url(#clip180)\" d=\"M2224.71 1451.02 L2243.07 1451.02 L2243.07 1454.96 L2228.99 1454.96 L2228.99 1463.43 Q2230.01 1463.08 2231.03 1462.92 Q2232.05 1462.73 2233.07 1462.73 Q2238.85 1462.73 2242.23 1465.9 Q2245.61 1469.08 2245.61 1474.49 Q2245.61 1480.07 2242.14 1483.17 Q2238.67 1486.25 2232.35 1486.25 Q2230.17 1486.25 2227.9 1485.88 Q2225.66 1485.51 2223.25 1484.77 L2223.25 1480.07 Q2225.33 1481.2 2227.56 1481.76 Q2229.78 1482.32 2232.26 1482.32 Q2236.26 1482.32 2238.6 1480.21 Q2240.94 1478.1 2240.94 1474.49 Q2240.94 1470.88 2238.6 1468.77 Q2236.26 1466.67 2232.26 1466.67 Q2230.38 1466.67 2228.51 1467.08 Q2226.65 1467.5 2224.71 1468.38 L2224.71 1451.02 Z\" fill=\"#000000\" fill-rule=\"nonzero\" fill-opacity=\"1\" /><path clip-path=\"url(#clip180)\" d=\"M2254.83 1479.7 L2259.71 1479.7 L2259.71 1485.58 L2254.83 1485.58 L2254.83 1479.7 Z\" fill=\"#000000\" fill-rule=\"nonzero\" fill-opacity=\"1\" /><path clip-path=\"url(#clip180)\" d=\"M2269.94 1451.02 L2288.3 1451.02 L2288.3 1454.96 L2274.22 1454.96 L2274.22 1463.43 Q2275.24 1463.08 2276.26 1462.92 Q2277.28 1462.73 2278.3 1462.73 Q2284.08 1462.73 2287.46 1465.9 Q2290.84 1469.08 2290.84 1474.49 Q2290.84 1480.07 2287.37 1483.17 Q2283.9 1486.25 2277.58 1486.25 Q2275.4 1486.25 2273.14 1485.88 Q2270.89 1485.51 2268.48 1484.77 L2268.48 1480.07 Q2270.57 1481.2 2272.79 1481.76 Q2275.01 1482.32 2277.49 1482.32 Q2281.49 1482.32 2283.83 1480.21 Q2286.17 1478.1 2286.17 1474.49 Q2286.17 1470.88 2283.83 1468.77 Q2281.49 1466.67 2277.49 1466.67 Q2275.61 1466.67 2273.74 1467.08 Q2271.89 1467.5 2269.94 1468.38 L2269.94 1451.02 Z\" fill=\"#000000\" fill-rule=\"nonzero\" fill-opacity=\"1\" /><path clip-path=\"url(#clip180)\" d=\"M1094.79 1539.24 Q1096.99 1535.29 1100.04 1533.41 Q1103.1 1531.54 1107.24 1531.54 Q1112.81 1531.54 1115.83 1535.45 Q1118.86 1539.33 1118.86 1546.53 L1118.86 1568.04 L1112.97 1568.04 L1112.97 1546.72 Q1112.97 1541.59 1111.15 1539.11 Q1109.34 1536.63 1105.61 1536.63 Q1101.06 1536.63 1098.42 1539.65 Q1095.78 1542.68 1095.78 1547.9 L1095.78 1568.04 L1089.89 1568.04 L1089.89 1546.72 Q1089.89 1541.56 1088.08 1539.11 Q1086.26 1536.63 1082.48 1536.63 Q1077.99 1536.63 1075.35 1539.68 Q1072.7 1542.71 1072.7 1547.9 L1072.7 1568.04 L1066.82 1568.04 L1066.82 1532.4 L1072.7 1532.4 L1072.7 1537.93 Q1074.71 1534.66 1077.51 1533.1 Q1080.31 1531.54 1084.16 1531.54 Q1088.05 1531.54 1090.75 1533.51 Q1093.49 1535.48 1094.79 1539.24 Z\" fill=\"#000000\" fill-rule=\"nonzero\" fill-opacity=\"1\" /><path clip-path=\"url(#clip180)\" d=\"M1130.54 1532.4 L1136.39 1532.4 L1136.39 1568.04 L1130.54 1568.04 L1130.54 1532.4 M1130.54 1518.52 L1136.39 1518.52 L1136.39 1525.93 L1130.54 1525.93 L1130.54 1518.52 Z\" fill=\"#000000\" fill-rule=\"nonzero\" fill-opacity=\"1\" /><path clip-path=\"url(#clip180)\" d=\"M1148.65 1518.52 L1154.5 1518.52 L1154.5 1568.04 L1148.65 1568.04 L1148.65 1518.52 Z\" fill=\"#000000\" fill-rule=\"nonzero\" fill-opacity=\"1\" /><path clip-path=\"url(#clip180)\" d=\"M1166.76 1518.52 L1172.61 1518.52 L1172.61 1568.04 L1166.76 1568.04 L1166.76 1518.52 Z\" fill=\"#000000\" fill-rule=\"nonzero\" fill-opacity=\"1\" /><path clip-path=\"url(#clip180)\" d=\"M1184.87 1532.4 L1190.72 1532.4 L1190.72 1568.04 L1184.87 1568.04 L1184.87 1532.4 M1184.87 1518.52 L1190.72 1518.52 L1190.72 1525.93 L1184.87 1525.93 L1184.87 1518.52 Z\" fill=\"#000000\" fill-rule=\"nonzero\" fill-opacity=\"1\" /><path clip-path=\"url(#clip180)\" d=\"M1225.7 1533.45 L1225.7 1538.98 Q1223.22 1537.71 1220.55 1537.07 Q1217.87 1536.44 1215.01 1536.44 Q1210.65 1536.44 1208.45 1537.77 Q1206.29 1539.11 1206.29 1541.79 Q1206.29 1543.82 1207.85 1545 Q1209.41 1546.15 1214.12 1547.2 L1216.12 1547.64 Q1222.36 1548.98 1224.97 1551.43 Q1227.61 1553.85 1227.61 1558.21 Q1227.61 1563.17 1223.67 1566.07 Q1219.75 1568.97 1212.88 1568.97 Q1210.01 1568.97 1206.89 1568.39 Q1203.81 1567.85 1200.37 1566.74 L1200.37 1560.69 Q1203.61 1562.38 1206.77 1563.24 Q1209.92 1564.07 1213 1564.07 Q1217.14 1564.07 1219.37 1562.66 Q1221.6 1561.23 1221.6 1558.65 Q1221.6 1556.27 1219.97 1554.99 Q1218.38 1553.72 1212.94 1552.54 L1210.9 1552.07 Q1205.46 1550.92 1203.04 1548.56 Q1200.62 1546.18 1200.62 1542.04 Q1200.62 1537.01 1204.19 1534.27 Q1207.75 1531.54 1214.31 1531.54 Q1217.56 1531.54 1220.42 1532.01 Q1223.28 1532.49 1225.7 1533.45 Z\" fill=\"#000000\" fill-rule=\"nonzero\" fill-opacity=\"1\" /><path clip-path=\"url(#clip180)\" d=\"M1267.43 1548.76 L1267.43 1551.62 L1240.5 1551.62 Q1240.89 1557.67 1244.13 1560.85 Q1247.41 1564 1253.24 1564 Q1256.61 1564 1259.76 1563.17 Q1262.94 1562.35 1266.06 1560.69 L1266.06 1566.23 Q1262.91 1567.57 1259.6 1568.27 Q1256.29 1568.97 1252.89 1568.97 Q1244.36 1568.97 1239.36 1564 Q1234.39 1559.04 1234.39 1550.57 Q1234.39 1541.82 1239.1 1536.69 Q1243.85 1531.54 1251.87 1531.54 Q1259.06 1531.54 1263.23 1536.18 Q1267.43 1540.8 1267.43 1548.76 M1261.57 1547.04 Q1261.51 1542.23 1258.87 1539.37 Q1256.26 1536.5 1251.93 1536.5 Q1247.03 1536.5 1244.07 1539.27 Q1241.14 1542.04 1240.7 1547.07 L1261.57 1547.04 Z\" fill=\"#000000\" fill-rule=\"nonzero\" fill-opacity=\"1\" /><path clip-path=\"url(#clip180)\" d=\"M1302.7 1533.76 L1302.7 1539.24 Q1300.21 1537.87 1297.7 1537.2 Q1295.22 1536.5 1292.67 1536.5 Q1286.97 1536.5 1283.82 1540.13 Q1280.67 1543.73 1280.67 1550.25 Q1280.67 1556.78 1283.82 1560.4 Q1286.97 1564 1292.67 1564 Q1295.22 1564 1297.7 1563.33 Q1300.21 1562.63 1302.7 1561.26 L1302.7 1566.68 Q1300.25 1567.82 1297.6 1568.39 Q1294.99 1568.97 1292.03 1568.97 Q1283.98 1568.97 1279.24 1563.91 Q1274.5 1558.85 1274.5 1550.25 Q1274.5 1541.53 1279.27 1536.53 Q1284.08 1531.54 1292.42 1531.54 Q1295.12 1531.54 1297.7 1532.11 Q1300.28 1532.65 1302.7 1533.76 Z\" fill=\"#000000\" fill-rule=\"nonzero\" fill-opacity=\"1\" /><path clip-path=\"url(#clip180)\" d=\"M1326.7 1536.5 Q1321.99 1536.5 1319.25 1540.19 Q1316.51 1543.85 1316.51 1550.25 Q1316.51 1556.65 1319.22 1560.34 Q1321.95 1564 1326.7 1564 Q1331.37 1564 1334.11 1560.31 Q1336.85 1556.62 1336.85 1550.25 Q1336.85 1543.92 1334.11 1540.23 Q1331.37 1536.5 1326.7 1536.5 M1326.7 1531.54 Q1334.33 1531.54 1338.7 1536.5 Q1343.06 1541.47 1343.06 1550.25 Q1343.06 1559 1338.7 1564 Q1334.33 1568.97 1326.7 1568.97 Q1319.03 1568.97 1314.66 1564 Q1310.34 1559 1310.34 1550.25 Q1310.34 1541.47 1314.66 1536.5 Q1319.03 1531.54 1326.7 1531.54 Z\" fill=\"#000000\" fill-rule=\"nonzero\" fill-opacity=\"1\" /><path clip-path=\"url(#clip180)\" d=\"M1382.4 1546.53 L1382.4 1568.04 L1376.54 1568.04 L1376.54 1546.72 Q1376.54 1541.66 1374.57 1539.14 Q1372.59 1536.63 1368.65 1536.63 Q1363.9 1536.63 1361.17 1539.65 Q1358.43 1542.68 1358.43 1547.9 L1358.43 1568.04 L1352.54 1568.04 L1352.54 1532.4 L1358.43 1532.4 L1358.43 1537.93 Q1360.53 1534.72 1363.36 1533.13 Q1366.23 1531.54 1369.95 1531.54 Q1376.09 1531.54 1379.24 1535.36 Q1382.4 1539.14 1382.4 1546.53 Z\" fill=\"#000000\" fill-rule=\"nonzero\" fill-opacity=\"1\" /><path clip-path=\"url(#clip180)\" d=\"M1417.53 1537.81 L1417.53 1518.52 L1423.39 1518.52 L1423.39 1568.04 L1417.53 1568.04 L1417.53 1562.7 Q1415.69 1565.88 1412.86 1567.44 Q1410.05 1568.97 1406.11 1568.97 Q1399.65 1568.97 1395.57 1563.81 Q1391.53 1558.65 1391.53 1550.25 Q1391.53 1541.85 1395.57 1536.69 Q1399.65 1531.54 1406.11 1531.54 Q1410.05 1531.54 1412.86 1533.1 Q1415.69 1534.62 1417.53 1537.81 M1397.58 1550.25 Q1397.58 1556.71 1400.22 1560.4 Q1402.89 1564.07 1407.54 1564.07 Q1412.19 1564.07 1414.86 1560.4 Q1417.53 1556.71 1417.53 1550.25 Q1417.53 1543.79 1414.86 1540.13 Q1412.19 1536.44 1407.54 1536.44 Q1402.89 1536.44 1400.22 1540.13 Q1397.58 1543.79 1397.58 1550.25 Z\" fill=\"#000000\" fill-rule=\"nonzero\" fill-opacity=\"1\" /><path clip-path=\"url(#clip180)\" d=\"M1458.18 1533.45 L1458.18 1538.98 Q1455.7 1537.71 1453.02 1537.07 Q1450.35 1536.44 1447.48 1536.44 Q1443.12 1536.44 1440.93 1537.77 Q1438.76 1539.11 1438.76 1541.79 Q1438.76 1543.82 1440.32 1545 Q1441.88 1546.15 1446.59 1547.2 L1448.6 1547.64 Q1454.84 1548.98 1457.45 1551.43 Q1460.09 1553.85 1460.09 1558.21 Q1460.09 1563.17 1456.14 1566.07 Q1452.23 1568.97 1445.35 1568.97 Q1442.49 1568.97 1439.37 1568.39 Q1436.28 1567.85 1432.84 1566.74 L1432.84 1560.69 Q1436.09 1562.38 1439.24 1563.24 Q1442.39 1564.07 1445.48 1564.07 Q1449.62 1564.07 1451.85 1562.66 Q1454.07 1561.23 1454.07 1558.65 Q1454.07 1556.27 1452.45 1554.99 Q1450.86 1553.72 1445.42 1552.54 L1443.38 1552.07 Q1437.94 1550.92 1435.52 1548.56 Q1433.1 1546.18 1433.1 1542.04 Q1433.1 1537.01 1436.66 1534.27 Q1440.23 1531.54 1446.78 1531.54 Q1450.03 1531.54 1452.9 1532.01 Q1455.76 1532.49 1458.18 1533.45 Z\" fill=\"#000000\" fill-rule=\"nonzero\" fill-opacity=\"1\" /><polyline clip-path=\"url(#clip182)\" style=\"stroke:#000000; stroke-linecap:round; stroke-linejoin:round; stroke-width:2; stroke-opacity:0.1; fill:none\" points=\"174.149,1423.18 2352.76,1423.18 \"/>\n",
       "<polyline clip-path=\"url(#clip182)\" style=\"stroke:#000000; stroke-linecap:round; stroke-linejoin:round; stroke-width:2; stroke-opacity:0.1; fill:none\" points=\"174.149,964.535 2352.76,964.535 \"/>\n",
       "<polyline clip-path=\"url(#clip182)\" style=\"stroke:#000000; stroke-linecap:round; stroke-linejoin:round; stroke-width:2; stroke-opacity:0.1; fill:none\" points=\"174.149,505.889 2352.76,505.889 \"/>\n",
       "<polyline clip-path=\"url(#clip182)\" style=\"stroke:#000000; stroke-linecap:round; stroke-linejoin:round; stroke-width:2; stroke-opacity:0.1; fill:none\" points=\"174.149,47.2441 2352.76,47.2441 \"/>\n",
       "<polyline clip-path=\"url(#clip180)\" style=\"stroke:#000000; stroke-linecap:round; stroke-linejoin:round; stroke-width:4; stroke-opacity:1; fill:none\" points=\"174.149,1423.18 174.149,47.2441 \"/>\n",
       "<polyline clip-path=\"url(#clip180)\" style=\"stroke:#000000; stroke-linecap:round; stroke-linejoin:round; stroke-width:4; stroke-opacity:1; fill:none\" points=\"174.149,1423.18 193.047,1423.18 \"/>\n",
       "<polyline clip-path=\"url(#clip180)\" style=\"stroke:#000000; stroke-linecap:round; stroke-linejoin:round; stroke-width:4; stroke-opacity:1; fill:none\" points=\"174.149,964.535 193.047,964.535 \"/>\n",
       "<polyline clip-path=\"url(#clip180)\" style=\"stroke:#000000; stroke-linecap:round; stroke-linejoin:round; stroke-width:4; stroke-opacity:1; fill:none\" points=\"174.149,505.889 193.047,505.889 \"/>\n",
       "<polyline clip-path=\"url(#clip180)\" style=\"stroke:#000000; stroke-linecap:round; stroke-linejoin:round; stroke-width:4; stroke-opacity:1; fill:none\" points=\"174.149,47.2441 193.047,47.2441 \"/>\n",
       "<path clip-path=\"url(#clip180)\" d=\"M126.205 1408.98 Q122.593 1408.98 120.765 1412.54 Q118.959 1416.08 118.959 1423.21 Q118.959 1430.32 120.765 1433.89 Q122.593 1437.43 126.205 1437.43 Q129.839 1437.43 131.644 1433.89 Q133.473 1430.32 133.473 1423.21 Q133.473 1416.08 131.644 1412.54 Q129.839 1408.98 126.205 1408.98 M126.205 1405.27 Q132.015 1405.27 135.07 1409.88 Q138.149 1414.46 138.149 1423.21 Q138.149 1431.94 135.07 1436.55 Q132.015 1441.13 126.205 1441.13 Q120.394 1441.13 117.316 1436.55 Q114.26 1431.94 114.26 1423.21 Q114.26 1414.46 117.316 1409.88 Q120.394 1405.27 126.205 1405.27 Z\" fill=\"#000000\" fill-rule=\"nonzero\" fill-opacity=\"1\" /><path clip-path=\"url(#clip180)\" d=\"M131.019 963.18 Q134.376 963.898 136.251 966.167 Q138.149 968.435 138.149 971.768 Q138.149 976.884 134.63 979.685 Q131.112 982.486 124.63 982.486 Q122.455 982.486 120.14 982.046 Q117.848 981.629 115.394 980.773 L115.394 976.259 Q117.339 977.393 119.654 977.972 Q121.968 978.551 124.492 978.551 Q128.89 978.551 131.181 976.815 Q133.496 975.079 133.496 971.768 Q133.496 968.713 131.343 967 Q129.214 965.264 125.394 965.264 L121.367 965.264 L121.367 961.421 L125.58 961.421 Q129.029 961.421 130.857 960.055 Q132.686 958.667 132.686 956.074 Q132.686 953.412 130.788 952 Q128.913 950.565 125.394 950.565 Q123.473 950.565 121.274 950.981 Q119.075 951.398 116.436 952.278 L116.436 948.111 Q119.098 947.37 121.413 947 Q123.751 946.63 125.811 946.63 Q131.135 946.63 134.237 949.06 Q137.339 951.468 137.339 955.588 Q137.339 958.458 135.695 960.449 Q134.052 962.417 131.019 963.18 Z\" fill=\"#000000\" fill-rule=\"nonzero\" fill-opacity=\"1\" /><path clip-path=\"url(#clip180)\" d=\"M126.621 504.026 Q123.473 504.026 121.621 506.179 Q119.793 508.331 119.793 512.081 Q119.793 515.808 121.621 517.984 Q123.473 520.137 126.621 520.137 Q129.769 520.137 131.598 517.984 Q133.45 515.808 133.45 512.081 Q133.45 508.331 131.598 506.179 Q129.769 504.026 126.621 504.026 M135.904 489.373 L135.904 493.632 Q134.144 492.799 132.339 492.359 Q130.556 491.92 128.797 491.92 Q124.168 491.92 121.714 495.044 Q119.283 498.169 118.936 504.489 Q120.302 502.475 122.362 501.41 Q124.422 500.322 126.899 500.322 Q132.107 500.322 135.117 503.494 Q138.149 506.642 138.149 512.081 Q138.149 517.405 135.001 520.623 Q131.853 523.841 126.621 523.841 Q120.626 523.841 117.455 519.257 Q114.283 514.651 114.283 505.924 Q114.283 497.73 118.172 492.869 Q122.061 487.984 128.612 487.984 Q130.371 487.984 132.154 488.332 Q133.959 488.679 135.904 489.373 Z\" fill=\"#000000\" fill-rule=\"nonzero\" fill-opacity=\"1\" /><path clip-path=\"url(#clip180)\" d=\"M116.529 63.8065 L116.529 59.5473 Q118.288 60.3806 120.093 60.8204 Q121.899 61.2602 123.635 61.2602 Q128.265 61.2602 130.695 58.1584 Q133.149 55.0334 133.496 48.6908 Q132.154 50.6816 130.093 51.7464 Q128.033 52.8112 125.533 52.8112 Q120.348 52.8112 117.316 49.6862 Q114.306 46.5381 114.306 41.0983 Q114.306 35.7742 117.455 32.5567 Q120.603 29.3391 125.834 29.3391 Q131.83 29.3391 134.978 33.9456 Q138.149 38.5289 138.149 47.2788 Q138.149 55.4501 134.26 60.3343 Q130.394 65.1954 123.843 65.1954 Q122.084 65.1954 120.279 64.8482 Q118.473 64.5009 116.529 63.8065 M125.834 49.1538 Q128.982 49.1538 130.811 47.001 Q132.663 44.8483 132.663 41.0983 Q132.663 37.3715 130.811 35.2187 Q128.982 33.0428 125.834 33.0428 Q122.686 33.0428 120.834 35.2187 Q119.006 37.3715 119.006 41.0983 Q119.006 44.8483 120.834 47.001 Q122.686 49.1538 125.834 49.1538 Z\" fill=\"#000000\" fill-rule=\"nonzero\" fill-opacity=\"1\" /><path clip-path=\"url(#clip180)\" d=\"M29.7248 796.386 L35.1993 796.386 Q33.8307 798.869 33.1623 801.383 Q32.4621 803.866 32.4621 806.412 Q32.4621 812.11 36.0905 815.261 Q39.6872 818.412 46.212 818.412 Q52.7369 818.412 56.3653 815.261 Q59.9619 812.11 59.9619 806.412 Q59.9619 803.866 59.2935 801.383 Q58.5933 798.869 57.2247 796.386 L62.6355 796.386 Q63.7814 798.837 64.3543 801.479 Q64.9272 804.089 64.9272 807.049 Q64.9272 815.102 59.8664 819.844 Q54.8057 824.586 46.212 824.586 Q37.491 824.586 32.4939 819.812 Q27.4968 815.006 27.4968 806.667 Q27.4968 803.962 28.0697 801.383 Q28.6108 798.805 29.7248 796.386 Z\" fill=\"#000000\" fill-rule=\"nonzero\" fill-opacity=\"1\" /><path clip-path=\"url(#clip180)\" d=\"M32.4621 772.388 Q32.4621 777.098 36.1542 779.836 Q39.8145 782.573 46.212 782.573 Q52.6095 782.573 56.3017 779.867 Q59.9619 777.13 59.9619 772.388 Q59.9619 767.709 56.2698 764.972 Q52.5777 762.234 46.212 762.234 Q39.8781 762.234 36.186 764.972 Q32.4621 767.709 32.4621 772.388 M27.4968 772.388 Q27.4968 764.749 32.4621 760.388 Q37.4273 756.028 46.212 756.028 Q54.9649 756.028 59.9619 760.388 Q64.9272 764.749 64.9272 772.388 Q64.9272 780.058 59.9619 784.419 Q54.9649 788.748 46.212 788.748 Q37.4273 788.748 32.4621 784.419 Q27.4968 780.058 27.4968 772.388 Z\" fill=\"#000000\" fill-rule=\"nonzero\" fill-opacity=\"1\" /><path clip-path=\"url(#clip180)\" d=\"M49.9359 746.925 L28.3562 746.925 L28.3562 741.068 L49.7131 741.068 Q54.7739 741.068 57.3202 739.095 Q59.8346 737.122 59.8346 733.175 Q59.8346 728.432 56.8109 725.695 Q53.7872 722.926 48.5673 722.926 L28.3562 722.926 L28.3562 717.07 L64.0042 717.07 L64.0042 722.926 L58.5296 722.926 Q61.7762 725.059 63.3676 727.891 Q64.9272 730.692 64.9272 734.416 Q64.9272 740.559 61.1078 743.742 Q57.2883 746.925 49.9359 746.925 M27.4968 732.188 L27.4968 732.188 Z\" fill=\"#000000\" fill-rule=\"nonzero\" fill-opacity=\"1\" /><path clip-path=\"url(#clip180)\" d=\"M42.4881 675.374 L64.0042 675.374 L64.0042 681.231 L42.679 681.231 Q37.6183 681.231 35.1038 683.204 Q32.5894 685.178 32.5894 689.124 Q32.5894 693.867 35.6131 696.604 Q38.6368 699.341 43.8567 699.341 L64.0042 699.341 L64.0042 705.229 L28.3562 705.229 L28.3562 699.341 L33.8944 699.341 Q30.6797 697.241 29.0883 694.408 Q27.4968 691.543 27.4968 687.819 Q27.4968 681.676 31.3163 678.525 Q35.1038 675.374 42.4881 675.374 Z\" fill=\"#000000\" fill-rule=\"nonzero\" fill-opacity=\"1\" /><path clip-path=\"url(#clip180)\" d=\"M18.2347 657.9 L28.3562 657.9 L28.3562 645.837 L32.9077 645.837 L32.9077 657.9 L52.2594 657.9 Q56.6199 657.9 57.8613 656.723 Q59.1026 655.513 59.1026 651.853 L59.1026 645.837 L64.0042 645.837 L64.0042 651.853 Q64.0042 658.633 61.4897 661.211 Q58.9434 663.789 52.2594 663.789 L32.9077 663.789 L32.9077 668.086 L28.3562 668.086 L28.3562 663.789 L18.2347 663.789 L18.2347 657.9 Z\" fill=\"#000000\" fill-rule=\"nonzero\" fill-opacity=\"1\" /><path clip-path=\"url(#clip182)\" d=\"M117.839 1270.3 L117.839 1423.18 L191.112 1423.18 L191.112 1270.3 L117.839 1270.3 L117.839 1270.3  Z\" fill=\"#009af9\" fill-rule=\"evenodd\" fill-opacity=\"1\"/>\n",
       "<polyline clip-path=\"url(#clip182)\" style=\"stroke:#000000; stroke-linecap:round; stroke-linejoin:round; stroke-width:4; stroke-opacity:1; fill:none\" points=\"117.839,1270.3 117.839,1423.18 191.112,1423.18 191.112,1270.3 117.839,1270.3 \"/>\n",
       "<path clip-path=\"url(#clip182)\" d=\"M191.112 1423.18 L191.112 1423.18 L264.384 1423.18 L264.384 1423.18 L191.112 1423.18 L191.112 1423.18  Z\" fill=\"#009af9\" fill-rule=\"evenodd\" fill-opacity=\"1\"/>\n",
       "<polyline clip-path=\"url(#clip182)\" style=\"stroke:#000000; stroke-linecap:round; stroke-linejoin:round; stroke-width:4; stroke-opacity:1; fill:none\" points=\"191.112,1423.18 191.112,1423.18 264.384,1423.18 191.112,1423.18 \"/>\n",
       "<path clip-path=\"url(#clip182)\" d=\"M264.384 1423.18 L264.384 1423.18 L337.657 1423.18 L337.657 1423.18 L264.384 1423.18 L264.384 1423.18  Z\" fill=\"#009af9\" fill-rule=\"evenodd\" fill-opacity=\"1\"/>\n",
       "<polyline clip-path=\"url(#clip182)\" style=\"stroke:#000000; stroke-linecap:round; stroke-linejoin:round; stroke-width:4; stroke-opacity:1; fill:none\" points=\"264.384,1423.18 264.384,1423.18 337.657,1423.18 264.384,1423.18 \"/>\n",
       "<path clip-path=\"url(#clip182)\" d=\"M337.657 1423.18 L337.657 1423.18 L410.929 1423.18 L410.929 1423.18 L337.657 1423.18 L337.657 1423.18  Z\" fill=\"#009af9\" fill-rule=\"evenodd\" fill-opacity=\"1\"/>\n",
       "<polyline clip-path=\"url(#clip182)\" style=\"stroke:#000000; stroke-linecap:round; stroke-linejoin:round; stroke-width:4; stroke-opacity:1; fill:none\" points=\"337.657,1423.18 337.657,1423.18 410.929,1423.18 337.657,1423.18 \"/>\n",
       "<path clip-path=\"url(#clip182)\" d=\"M410.929 811.653 L410.929 1423.18 L484.202 1423.18 L484.202 811.653 L410.929 811.653 L410.929 811.653  Z\" fill=\"#009af9\" fill-rule=\"evenodd\" fill-opacity=\"1\"/>\n",
       "<polyline clip-path=\"url(#clip182)\" style=\"stroke:#000000; stroke-linecap:round; stroke-linejoin:round; stroke-width:4; stroke-opacity:1; fill:none\" points=\"410.929,811.653 410.929,1423.18 484.202,1423.18 484.202,811.653 410.929,811.653 \"/>\n",
       "<path clip-path=\"url(#clip182)\" d=\"M484.202 1423.18 L484.202 1423.18 L557.474 1423.18 L557.474 1423.18 L484.202 1423.18 L484.202 1423.18  Z\" fill=\"#009af9\" fill-rule=\"evenodd\" fill-opacity=\"1\"/>\n",
       "<polyline clip-path=\"url(#clip182)\" style=\"stroke:#000000; stroke-linecap:round; stroke-linejoin:round; stroke-width:4; stroke-opacity:1; fill:none\" points=\"484.202,1423.18 484.202,1423.18 557.474,1423.18 484.202,1423.18 \"/>\n",
       "<path clip-path=\"url(#clip182)\" d=\"M557.474 1423.18 L557.474 1423.18 L630.747 1423.18 L630.747 1423.18 L557.474 1423.18 L557.474 1423.18  Z\" fill=\"#009af9\" fill-rule=\"evenodd\" fill-opacity=\"1\"/>\n",
       "<polyline clip-path=\"url(#clip182)\" style=\"stroke:#000000; stroke-linecap:round; stroke-linejoin:round; stroke-width:4; stroke-opacity:1; fill:none\" points=\"557.474,1423.18 557.474,1423.18 630.747,1423.18 557.474,1423.18 \"/>\n",
       "<path clip-path=\"url(#clip182)\" d=\"M630.747 1270.3 L630.747 1423.18 L704.019 1423.18 L704.019 1270.3 L630.747 1270.3 L630.747 1270.3  Z\" fill=\"#009af9\" fill-rule=\"evenodd\" fill-opacity=\"1\"/>\n",
       "<polyline clip-path=\"url(#clip182)\" style=\"stroke:#000000; stroke-linecap:round; stroke-linejoin:round; stroke-width:4; stroke-opacity:1; fill:none\" points=\"630.747,1270.3 630.747,1423.18 704.019,1423.18 704.019,1270.3 630.747,1270.3 \"/>\n",
       "<path clip-path=\"url(#clip182)\" d=\"M704.019 964.535 L704.019 1423.18 L777.292 1423.18 L777.292 964.535 L704.019 964.535 L704.019 964.535  Z\" fill=\"#009af9\" fill-rule=\"evenodd\" fill-opacity=\"1\"/>\n",
       "<polyline clip-path=\"url(#clip182)\" style=\"stroke:#000000; stroke-linecap:round; stroke-linejoin:round; stroke-width:4; stroke-opacity:1; fill:none\" points=\"704.019,964.535 704.019,1423.18 777.292,1423.18 777.292,964.535 704.019,964.535 \"/>\n",
       "<path clip-path=\"url(#clip182)\" d=\"M777.292 1270.3 L777.292 1423.18 L850.564 1423.18 L850.564 1270.3 L777.292 1270.3 L777.292 1270.3  Z\" fill=\"#009af9\" fill-rule=\"evenodd\" fill-opacity=\"1\"/>\n",
       "<polyline clip-path=\"url(#clip182)\" style=\"stroke:#000000; stroke-linecap:round; stroke-linejoin:round; stroke-width:4; stroke-opacity:1; fill:none\" points=\"777.292,1270.3 777.292,1423.18 850.564,1423.18 850.564,1270.3 777.292,1270.3 \"/>\n",
       "<path clip-path=\"url(#clip182)\" d=\"M850.564 1270.3 L850.564 1423.18 L923.837 1423.18 L923.837 1270.3 L850.564 1270.3 L850.564 1270.3  Z\" fill=\"#009af9\" fill-rule=\"evenodd\" fill-opacity=\"1\"/>\n",
       "<polyline clip-path=\"url(#clip182)\" style=\"stroke:#000000; stroke-linecap:round; stroke-linejoin:round; stroke-width:4; stroke-opacity:1; fill:none\" points=\"850.564,1270.3 850.564,1423.18 923.837,1423.18 923.837,1270.3 850.564,1270.3 \"/>\n",
       "<path clip-path=\"url(#clip182)\" d=\"M923.837 1270.3 L923.837 1423.18 L997.109 1423.18 L997.109 1270.3 L923.837 1270.3 L923.837 1270.3  Z\" fill=\"#009af9\" fill-rule=\"evenodd\" fill-opacity=\"1\"/>\n",
       "<polyline clip-path=\"url(#clip182)\" style=\"stroke:#000000; stroke-linecap:round; stroke-linejoin:round; stroke-width:4; stroke-opacity:1; fill:none\" points=\"923.837,1270.3 923.837,1423.18 997.109,1423.18 997.109,1270.3 923.837,1270.3 \"/>\n",
       "<path clip-path=\"url(#clip182)\" d=\"M997.109 1117.42 L997.109 1423.18 L1070.38 1423.18 L1070.38 1117.42 L997.109 1117.42 L997.109 1117.42  Z\" fill=\"#009af9\" fill-rule=\"evenodd\" fill-opacity=\"1\"/>\n",
       "<polyline clip-path=\"url(#clip182)\" style=\"stroke:#000000; stroke-linecap:round; stroke-linejoin:round; stroke-width:4; stroke-opacity:1; fill:none\" points=\"997.109,1117.42 997.109,1423.18 1070.38,1423.18 1070.38,1117.42 997.109,1117.42 \"/>\n",
       "<path clip-path=\"url(#clip182)\" d=\"M1070.38 1270.3 L1070.38 1423.18 L1143.65 1423.18 L1143.65 1270.3 L1070.38 1270.3 L1070.38 1270.3  Z\" fill=\"#009af9\" fill-rule=\"evenodd\" fill-opacity=\"1\"/>\n",
       "<polyline clip-path=\"url(#clip182)\" style=\"stroke:#000000; stroke-linecap:round; stroke-linejoin:round; stroke-width:4; stroke-opacity:1; fill:none\" points=\"1070.38,1270.3 1070.38,1423.18 1143.65,1423.18 1143.65,1270.3 1070.38,1270.3 \"/>\n",
       "<path clip-path=\"url(#clip182)\" d=\"M1143.65 1117.42 L1143.65 1423.18 L1216.93 1423.18 L1216.93 1117.42 L1143.65 1117.42 L1143.65 1117.42  Z\" fill=\"#009af9\" fill-rule=\"evenodd\" fill-opacity=\"1\"/>\n",
       "<polyline clip-path=\"url(#clip182)\" style=\"stroke:#000000; stroke-linecap:round; stroke-linejoin:round; stroke-width:4; stroke-opacity:1; fill:none\" points=\"1143.65,1117.42 1143.65,1423.18 1216.93,1423.18 1216.93,1117.42 1143.65,1117.42 \"/>\n",
       "<path clip-path=\"url(#clip182)\" d=\"M1216.93 964.535 L1216.93 1423.18 L1290.2 1423.18 L1290.2 964.535 L1216.93 964.535 L1216.93 964.535  Z\" fill=\"#009af9\" fill-rule=\"evenodd\" fill-opacity=\"1\"/>\n",
       "<polyline clip-path=\"url(#clip182)\" style=\"stroke:#000000; stroke-linecap:round; stroke-linejoin:round; stroke-width:4; stroke-opacity:1; fill:none\" points=\"1216.93,964.535 1216.93,1423.18 1290.2,1423.18 1290.2,964.535 1216.93,964.535 \"/>\n",
       "<path clip-path=\"url(#clip182)\" d=\"M1290.2 1117.42 L1290.2 1423.18 L1363.47 1423.18 L1363.47 1117.42 L1290.2 1117.42 L1290.2 1117.42  Z\" fill=\"#009af9\" fill-rule=\"evenodd\" fill-opacity=\"1\"/>\n",
       "<polyline clip-path=\"url(#clip182)\" style=\"stroke:#000000; stroke-linecap:round; stroke-linejoin:round; stroke-width:4; stroke-opacity:1; fill:none\" points=\"1290.2,1117.42 1290.2,1423.18 1363.47,1423.18 1363.47,1117.42 1290.2,1117.42 \"/>\n",
       "<path clip-path=\"url(#clip182)\" d=\"M1363.47 353.008 L1363.47 1423.18 L1436.74 1423.18 L1436.74 353.008 L1363.47 353.008 L1363.47 353.008  Z\" fill=\"#009af9\" fill-rule=\"evenodd\" fill-opacity=\"1\"/>\n",
       "<polyline clip-path=\"url(#clip182)\" style=\"stroke:#000000; stroke-linecap:round; stroke-linejoin:round; stroke-width:4; stroke-opacity:1; fill:none\" points=\"1363.47,353.008 1363.47,1423.18 1436.74,1423.18 1436.74,353.008 1363.47,353.008 \"/>\n",
       "<path clip-path=\"url(#clip182)\" d=\"M1436.74 1270.3 L1436.74 1423.18 L1510.02 1423.18 L1510.02 1270.3 L1436.74 1270.3 L1436.74 1270.3  Z\" fill=\"#009af9\" fill-rule=\"evenodd\" fill-opacity=\"1\"/>\n",
       "<polyline clip-path=\"url(#clip182)\" style=\"stroke:#000000; stroke-linecap:round; stroke-linejoin:round; stroke-width:4; stroke-opacity:1; fill:none\" points=\"1436.74,1270.3 1436.74,1423.18 1510.02,1423.18 1510.02,1270.3 1436.74,1270.3 \"/>\n",
       "<path clip-path=\"url(#clip182)\" d=\"M1510.02 1117.42 L1510.02 1423.18 L1583.29 1423.18 L1583.29 1117.42 L1510.02 1117.42 L1510.02 1117.42  Z\" fill=\"#009af9\" fill-rule=\"evenodd\" fill-opacity=\"1\"/>\n",
       "<polyline clip-path=\"url(#clip182)\" style=\"stroke:#000000; stroke-linecap:round; stroke-linejoin:round; stroke-width:4; stroke-opacity:1; fill:none\" points=\"1510.02,1117.42 1510.02,1423.18 1583.29,1423.18 1583.29,1117.42 1510.02,1117.42 \"/>\n",
       "<path clip-path=\"url(#clip182)\" d=\"M1583.29 1117.42 L1583.29 1423.18 L1656.56 1423.18 L1656.56 1117.42 L1583.29 1117.42 L1583.29 1117.42  Z\" fill=\"#009af9\" fill-rule=\"evenodd\" fill-opacity=\"1\"/>\n",
       "<polyline clip-path=\"url(#clip182)\" style=\"stroke:#000000; stroke-linecap:round; stroke-linejoin:round; stroke-width:4; stroke-opacity:1; fill:none\" points=\"1583.29,1117.42 1583.29,1423.18 1656.56,1423.18 1656.56,1117.42 1583.29,1117.42 \"/>\n",
       "<path clip-path=\"url(#clip182)\" d=\"M1656.56 1423.18 L1656.56 1423.18 L1729.83 1423.18 L1729.83 1423.18 L1656.56 1423.18 L1656.56 1423.18  Z\" fill=\"#009af9\" fill-rule=\"evenodd\" fill-opacity=\"1\"/>\n",
       "<polyline clip-path=\"url(#clip182)\" style=\"stroke:#000000; stroke-linecap:round; stroke-linejoin:round; stroke-width:4; stroke-opacity:1; fill:none\" points=\"1656.56,1423.18 1656.56,1423.18 1729.83,1423.18 1656.56,1423.18 \"/>\n",
       "<path clip-path=\"url(#clip182)\" d=\"M1729.83 964.535 L1729.83 1423.18 L1803.11 1423.18 L1803.11 964.535 L1729.83 964.535 L1729.83 964.535  Z\" fill=\"#009af9\" fill-rule=\"evenodd\" fill-opacity=\"1\"/>\n",
       "<polyline clip-path=\"url(#clip182)\" style=\"stroke:#000000; stroke-linecap:round; stroke-linejoin:round; stroke-width:4; stroke-opacity:1; fill:none\" points=\"1729.83,964.535 1729.83,1423.18 1803.11,1423.18 1803.11,964.535 1729.83,964.535 \"/>\n",
       "<path clip-path=\"url(#clip182)\" d=\"M1803.11 505.889 L1803.11 1423.18 L1876.38 1423.18 L1876.38 505.889 L1803.11 505.889 L1803.11 505.889  Z\" fill=\"#009af9\" fill-rule=\"evenodd\" fill-opacity=\"1\"/>\n",
       "<polyline clip-path=\"url(#clip182)\" style=\"stroke:#000000; stroke-linecap:round; stroke-linejoin:round; stroke-width:4; stroke-opacity:1; fill:none\" points=\"1803.11,505.889 1803.11,1423.18 1876.38,1423.18 1876.38,505.889 1803.11,505.889 \"/>\n",
       "<path clip-path=\"url(#clip182)\" d=\"M1876.38 964.535 L1876.38 1423.18 L1949.65 1423.18 L1949.65 964.535 L1876.38 964.535 L1876.38 964.535  Z\" fill=\"#009af9\" fill-rule=\"evenodd\" fill-opacity=\"1\"/>\n",
       "<polyline clip-path=\"url(#clip182)\" style=\"stroke:#000000; stroke-linecap:round; stroke-linejoin:round; stroke-width:4; stroke-opacity:1; fill:none\" points=\"1876.38,964.535 1876.38,1423.18 1949.65,1423.18 1949.65,964.535 1876.38,964.535 \"/>\n",
       "<path clip-path=\"url(#clip182)\" d=\"M1949.65 964.535 L1949.65 1423.18 L2022.92 1423.18 L2022.92 964.535 L1949.65 964.535 L1949.65 964.535  Z\" fill=\"#009af9\" fill-rule=\"evenodd\" fill-opacity=\"1\"/>\n",
       "<polyline clip-path=\"url(#clip182)\" style=\"stroke:#000000; stroke-linecap:round; stroke-linejoin:round; stroke-width:4; stroke-opacity:1; fill:none\" points=\"1949.65,964.535 1949.65,1423.18 2022.92,1423.18 2022.92,964.535 1949.65,964.535 \"/>\n",
       "<path clip-path=\"url(#clip182)\" d=\"M2022.92 505.889 L2022.92 1423.18 L2096.2 1423.18 L2096.2 505.889 L2022.92 505.889 L2022.92 505.889  Z\" fill=\"#009af9\" fill-rule=\"evenodd\" fill-opacity=\"1\"/>\n",
       "<polyline clip-path=\"url(#clip182)\" style=\"stroke:#000000; stroke-linecap:round; stroke-linejoin:round; stroke-width:4; stroke-opacity:1; fill:none\" points=\"2022.92,505.889 2022.92,1423.18 2096.2,1423.18 2096.2,505.889 2022.92,505.889 \"/>\n",
       "<path clip-path=\"url(#clip182)\" d=\"M2096.2 811.653 L2096.2 1423.18 L2169.47 1423.18 L2169.47 811.653 L2096.2 811.653 L2096.2 811.653  Z\" fill=\"#009af9\" fill-rule=\"evenodd\" fill-opacity=\"1\"/>\n",
       "<polyline clip-path=\"url(#clip182)\" style=\"stroke:#000000; stroke-linecap:round; stroke-linejoin:round; stroke-width:4; stroke-opacity:1; fill:none\" points=\"2096.2,811.653 2096.2,1423.18 2169.47,1423.18 2169.47,811.653 2096.2,811.653 \"/>\n",
       "<path clip-path=\"url(#clip182)\" d=\"M2169.47 1117.42 L2169.47 1423.18 L2242.74 1423.18 L2242.74 1117.42 L2169.47 1117.42 L2169.47 1117.42  Z\" fill=\"#009af9\" fill-rule=\"evenodd\" fill-opacity=\"1\"/>\n",
       "<polyline clip-path=\"url(#clip182)\" style=\"stroke:#000000; stroke-linecap:round; stroke-linejoin:round; stroke-width:4; stroke-opacity:1; fill:none\" points=\"2169.47,1117.42 2169.47,1423.18 2242.74,1423.18 2242.74,1117.42 2169.47,1117.42 \"/>\n",
       "<path clip-path=\"url(#clip182)\" d=\"M2242.74 1117.42 L2242.74 1423.18 L2316.01 1423.18 L2316.01 1117.42 L2242.74 1117.42 L2242.74 1117.42  Z\" fill=\"#009af9\" fill-rule=\"evenodd\" fill-opacity=\"1\"/>\n",
       "<polyline clip-path=\"url(#clip182)\" style=\"stroke:#000000; stroke-linecap:round; stroke-linejoin:round; stroke-width:4; stroke-opacity:1; fill:none\" points=\"2242.74,1117.42 2242.74,1423.18 2316.01,1423.18 2316.01,1117.42 2242.74,1117.42 \"/>\n",
       "<path clip-path=\"url(#clip182)\" d=\"M2316.01 1117.42 L2316.01 1423.18 L2389.29 1423.18 L2389.29 1117.42 L2316.01 1117.42 L2316.01 1117.42  Z\" fill=\"#009af9\" fill-rule=\"evenodd\" fill-opacity=\"1\"/>\n",
       "<polyline clip-path=\"url(#clip182)\" style=\"stroke:#000000; stroke-linecap:round; stroke-linejoin:round; stroke-width:4; stroke-opacity:1; fill:none\" points=\"2316.01,1117.42 2316.01,1423.18 2389.29,1423.18 2389.29,1117.42 2316.01,1117.42 \"/>\n",
       "<path clip-path=\"url(#clip182)\" d=\"M2389.29 353.008 L2389.29 1423.18 L2462.56 1423.18 L2462.56 353.008 L2389.29 353.008 L2389.29 353.008  Z\" fill=\"#009af9\" fill-rule=\"evenodd\" fill-opacity=\"1\"/>\n",
       "<polyline clip-path=\"url(#clip182)\" style=\"stroke:#000000; stroke-linecap:round; stroke-linejoin:round; stroke-width:4; stroke-opacity:1; fill:none\" points=\"2389.29,353.008 2389.29,1423.18 2462.56,1423.18 2462.56,353.008 2389.29,353.008 \"/>\n",
       "<path clip-path=\"url(#clip182)\" d=\"M2462.56 811.653 L2462.56 1423.18 L2535.83 1423.18 L2535.83 811.653 L2462.56 811.653 L2462.56 811.653  Z\" fill=\"#009af9\" fill-rule=\"evenodd\" fill-opacity=\"1\"/>\n",
       "<polyline clip-path=\"url(#clip182)\" style=\"stroke:#000000; stroke-linecap:round; stroke-linejoin:round; stroke-width:4; stroke-opacity:1; fill:none\" points=\"2462.56,811.653 2462.56,1423.18 2535.83,1423.18 2535.83,811.653 2462.56,811.653 \"/>\n",
       "<path clip-path=\"url(#clip182)\" d=\"M2535.83 47.2441 L2535.83 1423.18 L2609.1 1423.18 L2609.1 47.2441 L2535.83 47.2441 L2535.83 47.2441  Z\" fill=\"#009af9\" fill-rule=\"evenodd\" fill-opacity=\"1\"/>\n",
       "<polyline clip-path=\"url(#clip182)\" style=\"stroke:#000000; stroke-linecap:round; stroke-linejoin:round; stroke-width:4; stroke-opacity:1; fill:none\" points=\"2535.83,47.2441 2535.83,1423.18 2609.1,1423.18 2609.1,47.2441 2535.83,47.2441 \"/>\n",
       "<path clip-path=\"url(#clip182)\" d=\"M2609.1 353.008 L2609.1 1423.18 L2682.38 1423.18 L2682.38 353.008 L2609.1 353.008 L2609.1 353.008  Z\" fill=\"#009af9\" fill-rule=\"evenodd\" fill-opacity=\"1\"/>\n",
       "<polyline clip-path=\"url(#clip182)\" style=\"stroke:#000000; stroke-linecap:round; stroke-linejoin:round; stroke-width:4; stroke-opacity:1; fill:none\" points=\"2609.1,353.008 2609.1,1423.18 2682.38,1423.18 2682.38,353.008 2609.1,353.008 \"/>\n",
       "<path clip-path=\"url(#clip182)\" d=\"M2682.38 658.771 L2682.38 1423.18 L2755.65 1423.18 L2755.65 658.771 L2682.38 658.771 L2682.38 658.771  Z\" fill=\"#009af9\" fill-rule=\"evenodd\" fill-opacity=\"1\"/>\n",
       "<polyline clip-path=\"url(#clip182)\" style=\"stroke:#000000; stroke-linecap:round; stroke-linejoin:round; stroke-width:4; stroke-opacity:1; fill:none\" points=\"2682.38,658.771 2682.38,1423.18 2755.65,1423.18 2755.65,658.771 2682.38,658.771 \"/>\n",
       "<path clip-path=\"url(#clip182)\" d=\"M2755.65 964.535 L2755.65 1423.18 L2828.92 1423.18 L2828.92 964.535 L2755.65 964.535 L2755.65 964.535  Z\" fill=\"#009af9\" fill-rule=\"evenodd\" fill-opacity=\"1\"/>\n",
       "<polyline clip-path=\"url(#clip182)\" style=\"stroke:#000000; stroke-linecap:round; stroke-linejoin:round; stroke-width:4; stroke-opacity:1; fill:none\" points=\"2755.65,964.535 2755.65,1423.18 2828.92,1423.18 2828.92,964.535 2755.65,964.535 \"/>\n",
       "<path clip-path=\"url(#clip182)\" d=\"M2828.92 964.535 L2828.92 1423.18 L2902.19 1423.18 L2902.19 964.535 L2828.92 964.535 L2828.92 964.535  Z\" fill=\"#009af9\" fill-rule=\"evenodd\" fill-opacity=\"1\"/>\n",
       "<polyline clip-path=\"url(#clip182)\" style=\"stroke:#000000; stroke-linecap:round; stroke-linejoin:round; stroke-width:4; stroke-opacity:1; fill:none\" points=\"2828.92,964.535 2828.92,1423.18 2902.19,1423.18 2902.19,964.535 2828.92,964.535 \"/>\n",
       "<path clip-path=\"url(#clip182)\" d=\"M2902.19 1270.3 L2902.19 1423.18 L2975.47 1423.18 L2975.47 1270.3 L2902.19 1270.3 L2902.19 1270.3  Z\" fill=\"#009af9\" fill-rule=\"evenodd\" fill-opacity=\"1\"/>\n",
       "<polyline clip-path=\"url(#clip182)\" style=\"stroke:#000000; stroke-linecap:round; stroke-linejoin:round; stroke-width:4; stroke-opacity:1; fill:none\" points=\"2902.19,1270.3 2902.19,1423.18 2975.47,1423.18 2975.47,1270.3 2902.19,1270.3 \"/>\n",
       "<path clip-path=\"url(#clip182)\" d=\"M2975.47 658.771 L2975.47 1423.18 L3048.74 1423.18 L3048.74 658.771 L2975.47 658.771 L2975.47 658.771  Z\" fill=\"#009af9\" fill-rule=\"evenodd\" fill-opacity=\"1\"/>\n",
       "<polyline clip-path=\"url(#clip182)\" style=\"stroke:#000000; stroke-linecap:round; stroke-linejoin:round; stroke-width:4; stroke-opacity:1; fill:none\" points=\"2975.47,658.771 2975.47,1423.18 3048.74,1423.18 3048.74,658.771 2975.47,658.771 \"/>\n",
       "<path clip-path=\"url(#clip182)\" d=\"M3048.74 811.653 L3048.74 1423.18 L3122.01 1423.18 L3122.01 811.653 L3048.74 811.653 L3048.74 811.653  Z\" fill=\"#009af9\" fill-rule=\"evenodd\" fill-opacity=\"1\"/>\n",
       "<polyline clip-path=\"url(#clip182)\" style=\"stroke:#000000; stroke-linecap:round; stroke-linejoin:round; stroke-width:4; stroke-opacity:1; fill:none\" points=\"3048.74,811.653 3048.74,1423.18 3122.01,1423.18 3122.01,811.653 3048.74,811.653 \"/>\n",
       "<path clip-path=\"url(#clip182)\" d=\"M3122.01 811.653 L3122.01 1423.18 L3195.28 1423.18 L3195.28 811.653 L3122.01 811.653 L3122.01 811.653  Z\" fill=\"#009af9\" fill-rule=\"evenodd\" fill-opacity=\"1\"/>\n",
       "<polyline clip-path=\"url(#clip182)\" style=\"stroke:#000000; stroke-linecap:round; stroke-linejoin:round; stroke-width:4; stroke-opacity:1; fill:none\" points=\"3122.01,811.653 3122.01,1423.18 3195.28,1423.18 3195.28,811.653 3122.01,811.653 \"/>\n",
       "<path clip-path=\"url(#clip182)\" d=\"M3195.28 1270.3 L3195.28 1423.18 L3268.56 1423.18 L3268.56 1270.3 L3195.28 1270.3 L3195.28 1270.3  Z\" fill=\"#009af9\" fill-rule=\"evenodd\" fill-opacity=\"1\"/>\n",
       "<polyline clip-path=\"url(#clip182)\" style=\"stroke:#000000; stroke-linecap:round; stroke-linejoin:round; stroke-width:4; stroke-opacity:1; fill:none\" points=\"3195.28,1270.3 3195.28,1423.18 3268.56,1423.18 3268.56,1270.3 3195.28,1270.3 \"/>\n",
       "<path clip-path=\"url(#clip182)\" d=\"M3268.56 811.653 L3268.56 1423.18 L3341.83 1423.18 L3341.83 811.653 L3268.56 811.653 L3268.56 811.653  Z\" fill=\"#009af9\" fill-rule=\"evenodd\" fill-opacity=\"1\"/>\n",
       "<polyline clip-path=\"url(#clip182)\" style=\"stroke:#000000; stroke-linecap:round; stroke-linejoin:round; stroke-width:4; stroke-opacity:1; fill:none\" points=\"3268.56,811.653 3268.56,1423.18 3341.83,1423.18 3341.83,811.653 3268.56,811.653 \"/>\n",
       "<path clip-path=\"url(#clip182)\" d=\"M3341.83 964.535 L3341.83 1423.18 L3415.1 1423.18 L3415.1 964.535 L3341.83 964.535 L3341.83 964.535  Z\" fill=\"#009af9\" fill-rule=\"evenodd\" fill-opacity=\"1\"/>\n",
       "<polyline clip-path=\"url(#clip182)\" style=\"stroke:#000000; stroke-linecap:round; stroke-linejoin:round; stroke-width:4; stroke-opacity:1; fill:none\" points=\"3341.83,964.535 3341.83,1423.18 3415.1,1423.18 3415.1,964.535 3341.83,964.535 \"/>\n",
       "<path clip-path=\"url(#clip182)\" d=\"M3415.1 200.126 L3415.1 1423.18 L3488.37 1423.18 L3488.37 200.126 L3415.1 200.126 L3415.1 200.126  Z\" fill=\"#009af9\" fill-rule=\"evenodd\" fill-opacity=\"1\"/>\n",
       "<polyline clip-path=\"url(#clip182)\" style=\"stroke:#000000; stroke-linecap:round; stroke-linejoin:round; stroke-width:4; stroke-opacity:1; fill:none\" points=\"3415.1,200.126 3415.1,1423.18 3488.37,1423.18 3488.37,200.126 3415.1,200.126 \"/>\n",
       "<path clip-path=\"url(#clip182)\" d=\"M3488.37 811.653 L3488.37 1423.18 L3561.65 1423.18 L3561.65 811.653 L3488.37 811.653 L3488.37 811.653  Z\" fill=\"#009af9\" fill-rule=\"evenodd\" fill-opacity=\"1\"/>\n",
       "<polyline clip-path=\"url(#clip182)\" style=\"stroke:#000000; stroke-linecap:round; stroke-linejoin:round; stroke-width:4; stroke-opacity:1; fill:none\" points=\"3488.37,811.653 3488.37,1423.18 3561.65,1423.18 3561.65,811.653 3488.37,811.653 \"/>\n",
       "<path clip-path=\"url(#clip182)\" d=\"M3561.65 658.771 L3561.65 1423.18 L3634.92 1423.18 L3634.92 658.771 L3561.65 658.771 L3561.65 658.771  Z\" fill=\"#009af9\" fill-rule=\"evenodd\" fill-opacity=\"1\"/>\n",
       "<polyline clip-path=\"url(#clip182)\" style=\"stroke:#000000; stroke-linecap:round; stroke-linejoin:round; stroke-width:4; stroke-opacity:1; fill:none\" points=\"3561.65,658.771 3561.65,1423.18 3634.92,1423.18 3634.92,658.771 3561.65,658.771 \"/>\n",
       "<path clip-path=\"url(#clip182)\" d=\"M3634.92 505.889 L3634.92 1423.18 L3708.19 1423.18 L3708.19 505.889 L3634.92 505.889 L3634.92 505.889  Z\" fill=\"#009af9\" fill-rule=\"evenodd\" fill-opacity=\"1\"/>\n",
       "<polyline clip-path=\"url(#clip182)\" style=\"stroke:#000000; stroke-linecap:round; stroke-linejoin:round; stroke-width:4; stroke-opacity:1; fill:none\" points=\"3634.92,505.889 3634.92,1423.18 3708.19,1423.18 3708.19,505.889 3634.92,505.889 \"/>\n",
       "<path clip-path=\"url(#clip182)\" d=\"M3708.19 1270.3 L3708.19 1423.18 L3781.47 1423.18 L3781.47 1270.3 L3708.19 1270.3 L3708.19 1270.3  Z\" fill=\"#009af9\" fill-rule=\"evenodd\" fill-opacity=\"1\"/>\n",
       "<polyline clip-path=\"url(#clip182)\" style=\"stroke:#000000; stroke-linecap:round; stroke-linejoin:round; stroke-width:4; stroke-opacity:1; fill:none\" points=\"3708.19,1270.3 3708.19,1423.18 3781.47,1423.18 3781.47,1270.3 3708.19,1270.3 \"/>\n",
       "<path clip-path=\"url(#clip182)\" d=\"M3781.47 658.771 L3781.47 1423.18 L3854.74 1423.18 L3854.74 658.771 L3781.47 658.771 L3781.47 658.771  Z\" fill=\"#009af9\" fill-rule=\"evenodd\" fill-opacity=\"1\"/>\n",
       "<polyline clip-path=\"url(#clip182)\" style=\"stroke:#000000; stroke-linecap:round; stroke-linejoin:round; stroke-width:4; stroke-opacity:1; fill:none\" points=\"3781.47,658.771 3781.47,1423.18 3854.74,1423.18 3854.74,658.771 3781.47,658.771 \"/>\n",
       "<path clip-path=\"url(#clip182)\" d=\"M3854.74 505.889 L3854.74 1423.18 L3928.01 1423.18 L3928.01 505.889 L3854.74 505.889 L3854.74 505.889  Z\" fill=\"#009af9\" fill-rule=\"evenodd\" fill-opacity=\"1\"/>\n",
       "<polyline clip-path=\"url(#clip182)\" style=\"stroke:#000000; stroke-linecap:round; stroke-linejoin:round; stroke-width:4; stroke-opacity:1; fill:none\" points=\"3854.74,505.889 3854.74,1423.18 3928.01,1423.18 3928.01,505.889 3854.74,505.889 \"/>\n",
       "<path clip-path=\"url(#clip182)\" d=\"M3928.01 964.535 L3928.01 1423.18 L4001.28 1423.18 L4001.28 964.535 L3928.01 964.535 L3928.01 964.535  Z\" fill=\"#009af9\" fill-rule=\"evenodd\" fill-opacity=\"1\"/>\n",
       "<polyline clip-path=\"url(#clip182)\" style=\"stroke:#000000; stroke-linecap:round; stroke-linejoin:round; stroke-width:4; stroke-opacity:1; fill:none\" points=\"3928.01,964.535 3928.01,1423.18 4001.28,1423.18 4001.28,964.535 3928.01,964.535 \"/>\n",
       "<path clip-path=\"url(#clip182)\" d=\"M4001.28 811.653 L4001.28 1423.18 L4074.56 1423.18 L4074.56 811.653 L4001.28 811.653 L4001.28 811.653  Z\" fill=\"#009af9\" fill-rule=\"evenodd\" fill-opacity=\"1\"/>\n",
       "<polyline clip-path=\"url(#clip182)\" style=\"stroke:#000000; stroke-linecap:round; stroke-linejoin:round; stroke-width:4; stroke-opacity:1; fill:none\" points=\"4001.28,811.653 4001.28,1423.18 4074.56,1423.18 4074.56,811.653 4001.28,811.653 \"/>\n",
       "<path clip-path=\"url(#clip182)\" d=\"M4074.56 1117.42 L4074.56 1423.18 L4147.83 1423.18 L4147.83 1117.42 L4074.56 1117.42 L4074.56 1117.42  Z\" fill=\"#009af9\" fill-rule=\"evenodd\" fill-opacity=\"1\"/>\n",
       "<polyline clip-path=\"url(#clip182)\" style=\"stroke:#000000; stroke-linecap:round; stroke-linejoin:round; stroke-width:4; stroke-opacity:1; fill:none\" points=\"4074.56,1117.42 4074.56,1423.18 4147.83,1423.18 4147.83,1117.42 4074.56,1117.42 \"/>\n",
       "<path clip-path=\"url(#clip182)\" d=\"M4147.83 811.653 L4147.83 1423.18 L4221.1 1423.18 L4221.1 811.653 L4147.83 811.653 L4147.83 811.653  Z\" fill=\"#009af9\" fill-rule=\"evenodd\" fill-opacity=\"1\"/>\n",
       "<polyline clip-path=\"url(#clip182)\" style=\"stroke:#000000; stroke-linecap:round; stroke-linejoin:round; stroke-width:4; stroke-opacity:1; fill:none\" points=\"4147.83,811.653 4147.83,1423.18 4221.1,1423.18 4221.1,811.653 4147.83,811.653 \"/>\n",
       "<path clip-path=\"url(#clip182)\" d=\"M4221.1 1423.18 L4221.1 1423.18 L4294.37 1423.18 L4294.37 1423.18 L4221.1 1423.18 L4221.1 1423.18  Z\" fill=\"#009af9\" fill-rule=\"evenodd\" fill-opacity=\"1\"/>\n",
       "<polyline clip-path=\"url(#clip182)\" style=\"stroke:#000000; stroke-linecap:round; stroke-linejoin:round; stroke-width:4; stroke-opacity:1; fill:none\" points=\"4221.1,1423.18 4221.1,1423.18 4294.37,1423.18 4221.1,1423.18 \"/>\n",
       "<path clip-path=\"url(#clip182)\" d=\"M4294.37 964.535 L4294.37 1423.18 L4367.65 1423.18 L4367.65 964.535 L4294.37 964.535 L4294.37 964.535  Z\" fill=\"#009af9\" fill-rule=\"evenodd\" fill-opacity=\"1\"/>\n",
       "<polyline clip-path=\"url(#clip182)\" style=\"stroke:#000000; stroke-linecap:round; stroke-linejoin:round; stroke-width:4; stroke-opacity:1; fill:none\" points=\"4294.37,964.535 4294.37,1423.18 4367.65,1423.18 4367.65,964.535 4294.37,964.535 \"/>\n",
       "<path clip-path=\"url(#clip182)\" d=\"M4367.65 964.535 L4367.65 1423.18 L4440.92 1423.18 L4440.92 964.535 L4367.65 964.535 L4367.65 964.535  Z\" fill=\"#009af9\" fill-rule=\"evenodd\" fill-opacity=\"1\"/>\n",
       "<polyline clip-path=\"url(#clip182)\" style=\"stroke:#000000; stroke-linecap:round; stroke-linejoin:round; stroke-width:4; stroke-opacity:1; fill:none\" points=\"4367.65,964.535 4367.65,1423.18 4440.92,1423.18 4440.92,964.535 4367.65,964.535 \"/>\n",
       "<path clip-path=\"url(#clip182)\" d=\"M4440.92 811.653 L4440.92 1423.18 L4514.19 1423.18 L4514.19 811.653 L4440.92 811.653 L4440.92 811.653  Z\" fill=\"#009af9\" fill-rule=\"evenodd\" fill-opacity=\"1\"/>\n",
       "<polyline clip-path=\"url(#clip182)\" style=\"stroke:#000000; stroke-linecap:round; stroke-linejoin:round; stroke-width:4; stroke-opacity:1; fill:none\" points=\"4440.92,811.653 4440.92,1423.18 4514.19,1423.18 4514.19,811.653 4440.92,811.653 \"/>\n",
       "<path clip-path=\"url(#clip182)\" d=\"M4514.19 200.126 L4514.19 1423.18 L4587.46 1423.18 L4587.46 200.126 L4514.19 200.126 L4514.19 200.126  Z\" fill=\"#009af9\" fill-rule=\"evenodd\" fill-opacity=\"1\"/>\n",
       "<polyline clip-path=\"url(#clip182)\" style=\"stroke:#000000; stroke-linecap:round; stroke-linejoin:round; stroke-width:4; stroke-opacity:1; fill:none\" points=\"4514.19,200.126 4514.19,1423.18 4587.46,1423.18 4587.46,200.126 4514.19,200.126 \"/>\n",
       "<path clip-path=\"url(#clip182)\" d=\"M4587.46 964.535 L4587.46 1423.18 L4660.74 1423.18 L4660.74 964.535 L4587.46 964.535 L4587.46 964.535  Z\" fill=\"#009af9\" fill-rule=\"evenodd\" fill-opacity=\"1\"/>\n",
       "<polyline clip-path=\"url(#clip182)\" style=\"stroke:#000000; stroke-linecap:round; stroke-linejoin:round; stroke-width:4; stroke-opacity:1; fill:none\" points=\"4587.46,964.535 4587.46,1423.18 4660.74,1423.18 4660.74,964.535 4587.46,964.535 \"/>\n",
       "<path clip-path=\"url(#clip182)\" d=\"M4660.74 658.771 L4660.74 1423.18 L4734.01 1423.18 L4734.01 658.771 L4660.74 658.771 L4660.74 658.771  Z\" fill=\"#009af9\" fill-rule=\"evenodd\" fill-opacity=\"1\"/>\n",
       "<polyline clip-path=\"url(#clip182)\" style=\"stroke:#000000; stroke-linecap:round; stroke-linejoin:round; stroke-width:4; stroke-opacity:1; fill:none\" points=\"4660.74,658.771 4660.74,1423.18 4734.01,1423.18 4734.01,658.771 4660.74,658.771 \"/>\n",
       "<path clip-path=\"url(#clip182)\" d=\"M4734.01 1117.42 L4734.01 1423.18 L4807.28 1423.18 L4807.28 1117.42 L4734.01 1117.42 L4734.01 1117.42  Z\" fill=\"#009af9\" fill-rule=\"evenodd\" fill-opacity=\"1\"/>\n",
       "<polyline clip-path=\"url(#clip182)\" style=\"stroke:#000000; stroke-linecap:round; stroke-linejoin:round; stroke-width:4; stroke-opacity:1; fill:none\" points=\"4734.01,1117.42 4734.01,1423.18 4807.28,1423.18 4807.28,1117.42 4734.01,1117.42 \"/>\n",
       "<path clip-path=\"url(#clip182)\" d=\"M4807.28 964.535 L4807.28 1423.18 L4880.55 1423.18 L4880.55 964.535 L4807.28 964.535 L4807.28 964.535  Z\" fill=\"#009af9\" fill-rule=\"evenodd\" fill-opacity=\"1\"/>\n",
       "<polyline clip-path=\"url(#clip182)\" style=\"stroke:#000000; stroke-linecap:round; stroke-linejoin:round; stroke-width:4; stroke-opacity:1; fill:none\" points=\"4807.28,964.535 4807.28,1423.18 4880.55,1423.18 4880.55,964.535 4807.28,964.535 \"/>\n",
       "<path clip-path=\"url(#clip182)\" d=\"M4880.55 1117.42 L4880.55 1423.18 L4953.83 1423.18 L4953.83 1117.42 L4880.55 1117.42 L4880.55 1117.42  Z\" fill=\"#009af9\" fill-rule=\"evenodd\" fill-opacity=\"1\"/>\n",
       "<polyline clip-path=\"url(#clip182)\" style=\"stroke:#000000; stroke-linecap:round; stroke-linejoin:round; stroke-width:4; stroke-opacity:1; fill:none\" points=\"4880.55,1117.42 4880.55,1423.18 4953.83,1423.18 4953.83,1117.42 4880.55,1117.42 \"/>\n",
       "<path clip-path=\"url(#clip182)\" d=\"M4953.83 1423.18 L4953.83 1423.18 L5027.1 1423.18 L5027.1 1423.18 L4953.83 1423.18 L4953.83 1423.18  Z\" fill=\"#009af9\" fill-rule=\"evenodd\" fill-opacity=\"1\"/>\n",
       "<polyline clip-path=\"url(#clip182)\" style=\"stroke:#000000; stroke-linecap:round; stroke-linejoin:round; stroke-width:4; stroke-opacity:1; fill:none\" points=\"4953.83,1423.18 4953.83,1423.18 5027.1,1423.18 4953.83,1423.18 \"/>\n",
       "<path clip-path=\"url(#clip182)\" d=\"M5027.1 964.535 L5027.1 1423.18 L5100.37 1423.18 L5100.37 964.535 L5027.1 964.535 L5027.1 964.535  Z\" fill=\"#009af9\" fill-rule=\"evenodd\" fill-opacity=\"1\"/>\n",
       "<polyline clip-path=\"url(#clip182)\" style=\"stroke:#000000; stroke-linecap:round; stroke-linejoin:round; stroke-width:4; stroke-opacity:1; fill:none\" points=\"5027.1,964.535 5027.1,1423.18 5100.37,1423.18 5100.37,964.535 5027.1,964.535 \"/>\n",
       "<path clip-path=\"url(#clip182)\" d=\"M5100.37 811.653 L5100.37 1423.18 L5173.64 1423.18 L5173.64 811.653 L5100.37 811.653 L5100.37 811.653  Z\" fill=\"#009af9\" fill-rule=\"evenodd\" fill-opacity=\"1\"/>\n",
       "<polyline clip-path=\"url(#clip182)\" style=\"stroke:#000000; stroke-linecap:round; stroke-linejoin:round; stroke-width:4; stroke-opacity:1; fill:none\" points=\"5100.37,811.653 5100.37,1423.18 5173.64,1423.18 5173.64,811.653 5100.37,811.653 \"/>\n",
       "<path clip-path=\"url(#clip182)\" d=\"M5173.64 1117.42 L5173.64 1423.18 L5246.92 1423.18 L5246.92 1117.42 L5173.64 1117.42 L5173.64 1117.42  Z\" fill=\"#009af9\" fill-rule=\"evenodd\" fill-opacity=\"1\"/>\n",
       "<polyline clip-path=\"url(#clip182)\" style=\"stroke:#000000; stroke-linecap:round; stroke-linejoin:round; stroke-width:4; stroke-opacity:1; fill:none\" points=\"5173.64,1117.42 5173.64,1423.18 5246.92,1423.18 5246.92,1117.42 5173.64,1117.42 \"/>\n",
       "<path clip-path=\"url(#clip182)\" d=\"M5246.92 811.653 L5246.92 1423.18 L5320.19 1423.18 L5320.19 811.653 L5246.92 811.653 L5246.92 811.653  Z\" fill=\"#009af9\" fill-rule=\"evenodd\" fill-opacity=\"1\"/>\n",
       "<polyline clip-path=\"url(#clip182)\" style=\"stroke:#000000; stroke-linecap:round; stroke-linejoin:round; stroke-width:4; stroke-opacity:1; fill:none\" points=\"5246.92,811.653 5246.92,1423.18 5320.19,1423.18 5320.19,811.653 5246.92,811.653 \"/>\n",
       "<path clip-path=\"url(#clip182)\" d=\"M5320.19 1117.42 L5320.19 1423.18 L5393.46 1423.18 L5393.46 1117.42 L5320.19 1117.42 L5320.19 1117.42  Z\" fill=\"#009af9\" fill-rule=\"evenodd\" fill-opacity=\"1\"/>\n",
       "<polyline clip-path=\"url(#clip182)\" style=\"stroke:#000000; stroke-linecap:round; stroke-linejoin:round; stroke-width:4; stroke-opacity:1; fill:none\" points=\"5320.19,1117.42 5320.19,1423.18 5393.46,1423.18 5393.46,1117.42 5320.19,1117.42 \"/>\n",
       "<path clip-path=\"url(#clip182)\" d=\"M5393.46 1117.42 L5393.46 1423.18 L5466.73 1423.18 L5466.73 1117.42 L5393.46 1117.42 L5393.46 1117.42  Z\" fill=\"#009af9\" fill-rule=\"evenodd\" fill-opacity=\"1\"/>\n",
       "<polyline clip-path=\"url(#clip182)\" style=\"stroke:#000000; stroke-linecap:round; stroke-linejoin:round; stroke-width:4; stroke-opacity:1; fill:none\" points=\"5393.46,1117.42 5393.46,1423.18 5466.73,1423.18 5466.73,1117.42 5393.46,1117.42 \"/>\n",
       "<path clip-path=\"url(#clip182)\" d=\"M5466.73 1270.3 L5466.73 1423.18 L5540.01 1423.18 L5540.01 1270.3 L5466.73 1270.3 L5466.73 1270.3  Z\" fill=\"#009af9\" fill-rule=\"evenodd\" fill-opacity=\"1\"/>\n",
       "<polyline clip-path=\"url(#clip182)\" style=\"stroke:#000000; stroke-linecap:round; stroke-linejoin:round; stroke-width:4; stroke-opacity:1; fill:none\" points=\"5466.73,1270.3 5466.73,1423.18 5540.01,1423.18 5540.01,1270.3 5466.73,1270.3 \"/>\n",
       "<path clip-path=\"url(#clip182)\" d=\"M5540.01 1270.3 L5540.01 1423.18 L5613.28 1423.18 L5613.28 1270.3 L5540.01 1270.3 L5540.01 1270.3  Z\" fill=\"#009af9\" fill-rule=\"evenodd\" fill-opacity=\"1\"/>\n",
       "<polyline clip-path=\"url(#clip182)\" style=\"stroke:#000000; stroke-linecap:round; stroke-linejoin:round; stroke-width:4; stroke-opacity:1; fill:none\" points=\"5540.01,1270.3 5540.01,1423.18 5613.28,1423.18 5613.28,1270.3 5540.01,1270.3 \"/>\n",
       "<path clip-path=\"url(#clip182)\" d=\"M5613.28 964.535 L5613.28 1423.18 L5686.55 1423.18 L5686.55 964.535 L5613.28 964.535 L5613.28 964.535  Z\" fill=\"#009af9\" fill-rule=\"evenodd\" fill-opacity=\"1\"/>\n",
       "<polyline clip-path=\"url(#clip182)\" style=\"stroke:#000000; stroke-linecap:round; stroke-linejoin:round; stroke-width:4; stroke-opacity:1; fill:none\" points=\"5613.28,964.535 5613.28,1423.18 5686.55,1423.18 5686.55,964.535 5613.28,964.535 \"/>\n",
       "<path clip-path=\"url(#clip182)\" d=\"M5686.55 1117.42 L5686.55 1423.18 L5759.82 1423.18 L5759.82 1117.42 L5686.55 1117.42 L5686.55 1117.42  Z\" fill=\"#009af9\" fill-rule=\"evenodd\" fill-opacity=\"1\"/>\n",
       "<polyline clip-path=\"url(#clip182)\" style=\"stroke:#000000; stroke-linecap:round; stroke-linejoin:round; stroke-width:4; stroke-opacity:1; fill:none\" points=\"5686.55,1117.42 5686.55,1423.18 5759.82,1423.18 5759.82,1117.42 5686.55,1117.42 \"/>\n",
       "<path clip-path=\"url(#clip182)\" d=\"M5759.82 964.535 L5759.82 1423.18 L5833.1 1423.18 L5833.1 964.535 L5759.82 964.535 L5759.82 964.535  Z\" fill=\"#009af9\" fill-rule=\"evenodd\" fill-opacity=\"1\"/>\n",
       "<polyline clip-path=\"url(#clip182)\" style=\"stroke:#000000; stroke-linecap:round; stroke-linejoin:round; stroke-width:4; stroke-opacity:1; fill:none\" points=\"5759.82,964.535 5759.82,1423.18 5833.1,1423.18 5833.1,964.535 5759.82,964.535 \"/>\n",
       "<path clip-path=\"url(#clip182)\" d=\"M5833.1 811.653 L5833.1 1423.18 L5906.37 1423.18 L5906.37 811.653 L5833.1 811.653 L5833.1 811.653  Z\" fill=\"#009af9\" fill-rule=\"evenodd\" fill-opacity=\"1\"/>\n",
       "<polyline clip-path=\"url(#clip182)\" style=\"stroke:#000000; stroke-linecap:round; stroke-linejoin:round; stroke-width:4; stroke-opacity:1; fill:none\" points=\"5833.1,811.653 5833.1,1423.18 5906.37,1423.18 5906.37,811.653 5833.1,811.653 \"/>\n",
       "<path clip-path=\"url(#clip182)\" d=\"M5906.37 658.771 L5906.37 1423.18 L5979.64 1423.18 L5979.64 658.771 L5906.37 658.771 L5906.37 658.771  Z\" fill=\"#009af9\" fill-rule=\"evenodd\" fill-opacity=\"1\"/>\n",
       "<polyline clip-path=\"url(#clip182)\" style=\"stroke:#000000; stroke-linecap:round; stroke-linejoin:round; stroke-width:4; stroke-opacity:1; fill:none\" points=\"5906.37,658.771 5906.37,1423.18 5979.64,1423.18 5979.64,658.771 5906.37,658.771 \"/>\n",
       "<path clip-path=\"url(#clip182)\" d=\"M5979.64 1117.42 L5979.64 1423.18 L6052.91 1423.18 L6052.91 1117.42 L5979.64 1117.42 L5979.64 1117.42  Z\" fill=\"#009af9\" fill-rule=\"evenodd\" fill-opacity=\"1\"/>\n",
       "<polyline clip-path=\"url(#clip182)\" style=\"stroke:#000000; stroke-linecap:round; stroke-linejoin:round; stroke-width:4; stroke-opacity:1; fill:none\" points=\"5979.64,1117.42 5979.64,1423.18 6052.91,1423.18 6052.91,1117.42 5979.64,1117.42 \"/>\n",
       "<path clip-path=\"url(#clip182)\" d=\"M6052.91 964.535 L6052.91 1423.18 L6126.19 1423.18 L6126.19 964.535 L6052.91 964.535 L6052.91 964.535  Z\" fill=\"#009af9\" fill-rule=\"evenodd\" fill-opacity=\"1\"/>\n",
       "<polyline clip-path=\"url(#clip182)\" style=\"stroke:#000000; stroke-linecap:round; stroke-linejoin:round; stroke-width:4; stroke-opacity:1; fill:none\" points=\"6052.91,964.535 6052.91,1423.18 6126.19,1423.18 6126.19,964.535 6052.91,964.535 \"/>\n",
       "<path clip-path=\"url(#clip182)\" d=\"M6126.19 1117.42 L6126.19 1423.18 L6199.46 1423.18 L6199.46 1117.42 L6126.19 1117.42 L6126.19 1117.42  Z\" fill=\"#009af9\" fill-rule=\"evenodd\" fill-opacity=\"1\"/>\n",
       "<polyline clip-path=\"url(#clip182)\" style=\"stroke:#000000; stroke-linecap:round; stroke-linejoin:round; stroke-width:4; stroke-opacity:1; fill:none\" points=\"6126.19,1117.42 6126.19,1423.18 6199.46,1423.18 6199.46,1117.42 6126.19,1117.42 \"/>\n",
       "<path clip-path=\"url(#clip182)\" d=\"M6199.46 1117.42 L6199.46 1423.18 L6272.73 1423.18 L6272.73 1117.42 L6199.46 1117.42 L6199.46 1117.42  Z\" fill=\"#009af9\" fill-rule=\"evenodd\" fill-opacity=\"1\"/>\n",
       "<polyline clip-path=\"url(#clip182)\" style=\"stroke:#000000; stroke-linecap:round; stroke-linejoin:round; stroke-width:4; stroke-opacity:1; fill:none\" points=\"6199.46,1117.42 6199.46,1423.18 6272.73,1423.18 6272.73,1117.42 6199.46,1117.42 \"/>\n",
       "<path clip-path=\"url(#clip182)\" d=\"M6272.73 1117.42 L6272.73 1423.18 L6346 1423.18 L6346 1117.42 L6272.73 1117.42 L6272.73 1117.42  Z\" fill=\"#009af9\" fill-rule=\"evenodd\" fill-opacity=\"1\"/>\n",
       "<polyline clip-path=\"url(#clip182)\" style=\"stroke:#000000; stroke-linecap:round; stroke-linejoin:round; stroke-width:4; stroke-opacity:1; fill:none\" points=\"6272.73,1117.42 6272.73,1423.18 6346,1423.18 6346,1117.42 6272.73,1117.42 \"/>\n",
       "<path clip-path=\"url(#clip182)\" d=\"M6346 1117.42 L6346 1423.18 L6419.28 1423.18 L6419.28 1117.42 L6346 1117.42 L6346 1117.42  Z\" fill=\"#009af9\" fill-rule=\"evenodd\" fill-opacity=\"1\"/>\n",
       "<polyline clip-path=\"url(#clip182)\" style=\"stroke:#000000; stroke-linecap:round; stroke-linejoin:round; stroke-width:4; stroke-opacity:1; fill:none\" points=\"6346,1117.42 6346,1423.18 6419.28,1423.18 6419.28,1117.42 6346,1117.42 \"/>\n",
       "<path clip-path=\"url(#clip182)\" d=\"M6419.28 1270.3 L6419.28 1423.18 L6492.55 1423.18 L6492.55 1270.3 L6419.28 1270.3 L6419.28 1270.3  Z\" fill=\"#009af9\" fill-rule=\"evenodd\" fill-opacity=\"1\"/>\n",
       "<polyline clip-path=\"url(#clip182)\" style=\"stroke:#000000; stroke-linecap:round; stroke-linejoin:round; stroke-width:4; stroke-opacity:1; fill:none\" points=\"6419.28,1270.3 6419.28,1423.18 6492.55,1423.18 6492.55,1270.3 6419.28,1270.3 \"/>\n",
       "<path clip-path=\"url(#clip182)\" d=\"M6492.55 658.771 L6492.55 1423.18 L6565.82 1423.18 L6565.82 658.771 L6492.55 658.771 L6492.55 658.771  Z\" fill=\"#009af9\" fill-rule=\"evenodd\" fill-opacity=\"1\"/>\n",
       "<polyline clip-path=\"url(#clip182)\" style=\"stroke:#000000; stroke-linecap:round; stroke-linejoin:round; stroke-width:4; stroke-opacity:1; fill:none\" points=\"6492.55,658.771 6492.55,1423.18 6565.82,1423.18 6565.82,658.771 6492.55,658.771 \"/>\n",
       "<path clip-path=\"url(#clip182)\" d=\"M6565.82 1270.3 L6565.82 1423.18 L6639.09 1423.18 L6639.09 1270.3 L6565.82 1270.3 L6565.82 1270.3  Z\" fill=\"#009af9\" fill-rule=\"evenodd\" fill-opacity=\"1\"/>\n",
       "<polyline clip-path=\"url(#clip182)\" style=\"stroke:#000000; stroke-linecap:round; stroke-linejoin:round; stroke-width:4; stroke-opacity:1; fill:none\" points=\"6565.82,1270.3 6565.82,1423.18 6639.09,1423.18 6639.09,1270.3 6565.82,1270.3 \"/>\n",
       "<path clip-path=\"url(#clip182)\" d=\"M6639.09 1117.42 L6639.09 1423.18 L6712.37 1423.18 L6712.37 1117.42 L6639.09 1117.42 L6639.09 1117.42  Z\" fill=\"#009af9\" fill-rule=\"evenodd\" fill-opacity=\"1\"/>\n",
       "<polyline clip-path=\"url(#clip182)\" style=\"stroke:#000000; stroke-linecap:round; stroke-linejoin:round; stroke-width:4; stroke-opacity:1; fill:none\" points=\"6639.09,1117.42 6639.09,1423.18 6712.37,1423.18 6712.37,1117.42 6639.09,1117.42 \"/>\n",
       "<path clip-path=\"url(#clip182)\" d=\"M6712.37 1423.18 L6712.37 1423.18 L6785.64 1423.18 L6785.64 1423.18 L6712.37 1423.18 L6712.37 1423.18  Z\" fill=\"#009af9\" fill-rule=\"evenodd\" fill-opacity=\"1\"/>\n",
       "<polyline clip-path=\"url(#clip182)\" style=\"stroke:#000000; stroke-linecap:round; stroke-linejoin:round; stroke-width:4; stroke-opacity:1; fill:none\" points=\"6712.37,1423.18 6712.37,1423.18 6785.64,1423.18 6712.37,1423.18 \"/>\n",
       "<path clip-path=\"url(#clip182)\" d=\"M6785.64 1270.3 L6785.64 1423.18 L6858.91 1423.18 L6858.91 1270.3 L6785.64 1270.3 L6785.64 1270.3  Z\" fill=\"#009af9\" fill-rule=\"evenodd\" fill-opacity=\"1\"/>\n",
       "<polyline clip-path=\"url(#clip182)\" style=\"stroke:#000000; stroke-linecap:round; stroke-linejoin:round; stroke-width:4; stroke-opacity:1; fill:none\" points=\"6785.64,1270.3 6785.64,1423.18 6858.91,1423.18 6858.91,1270.3 6785.64,1270.3 \"/>\n",
       "<path clip-path=\"url(#clip182)\" d=\"M6858.91 1117.42 L6858.91 1423.18 L6932.18 1423.18 L6932.18 1117.42 L6858.91 1117.42 L6858.91 1117.42  Z\" fill=\"#009af9\" fill-rule=\"evenodd\" fill-opacity=\"1\"/>\n",
       "<polyline clip-path=\"url(#clip182)\" style=\"stroke:#000000; stroke-linecap:round; stroke-linejoin:round; stroke-width:4; stroke-opacity:1; fill:none\" points=\"6858.91,1117.42 6858.91,1423.18 6932.18,1423.18 6932.18,1117.42 6858.91,1117.42 \"/>\n",
       "<path clip-path=\"url(#clip182)\" d=\"M6932.18 1423.18 L6932.18 1423.18 L7005.46 1423.18 L7005.46 1423.18 L6932.18 1423.18 L6932.18 1423.18  Z\" fill=\"#009af9\" fill-rule=\"evenodd\" fill-opacity=\"1\"/>\n",
       "<polyline clip-path=\"url(#clip182)\" style=\"stroke:#000000; stroke-linecap:round; stroke-linejoin:round; stroke-width:4; stroke-opacity:1; fill:none\" points=\"6932.18,1423.18 6932.18,1423.18 7005.46,1423.18 6932.18,1423.18 \"/>\n",
       "<path clip-path=\"url(#clip182)\" d=\"M7005.46 1423.18 L7005.46 1423.18 L7078.73 1423.18 L7078.73 1423.18 L7005.46 1423.18 L7005.46 1423.18  Z\" fill=\"#009af9\" fill-rule=\"evenodd\" fill-opacity=\"1\"/>\n",
       "<polyline clip-path=\"url(#clip182)\" style=\"stroke:#000000; stroke-linecap:round; stroke-linejoin:round; stroke-width:4; stroke-opacity:1; fill:none\" points=\"7005.46,1423.18 7005.46,1423.18 7078.73,1423.18 7005.46,1423.18 \"/>\n",
       "<path clip-path=\"url(#clip182)\" d=\"M7078.73 1270.3 L7078.73 1423.18 L7152 1423.18 L7152 1270.3 L7078.73 1270.3 L7078.73 1270.3  Z\" fill=\"#009af9\" fill-rule=\"evenodd\" fill-opacity=\"1\"/>\n",
       "<polyline clip-path=\"url(#clip182)\" style=\"stroke:#000000; stroke-linecap:round; stroke-linejoin:round; stroke-width:4; stroke-opacity:1; fill:none\" points=\"7078.73,1270.3 7078.73,1423.18 7152,1423.18 7152,1270.3 7078.73,1270.3 \"/>\n",
       "<path clip-path=\"url(#clip182)\" d=\"M7152 1270.3 L7152 1423.18 L7225.27 1423.18 L7225.27 1270.3 L7152 1270.3 L7152 1270.3  Z\" fill=\"#009af9\" fill-rule=\"evenodd\" fill-opacity=\"1\"/>\n",
       "<polyline clip-path=\"url(#clip182)\" style=\"stroke:#000000; stroke-linecap:round; stroke-linejoin:round; stroke-width:4; stroke-opacity:1; fill:none\" points=\"7152,1270.3 7152,1423.18 7225.27,1423.18 7225.27,1270.3 7152,1270.3 \"/>\n",
       "<path clip-path=\"url(#clip182)\" d=\"M7225.27 1270.3 L7225.27 1423.18 L7298.55 1423.18 L7298.55 1270.3 L7225.27 1270.3 L7225.27 1270.3  Z\" fill=\"#009af9\" fill-rule=\"evenodd\" fill-opacity=\"1\"/>\n",
       "<polyline clip-path=\"url(#clip182)\" style=\"stroke:#000000; stroke-linecap:round; stroke-linejoin:round; stroke-width:4; stroke-opacity:1; fill:none\" points=\"7225.27,1270.3 7225.27,1423.18 7298.55,1423.18 7298.55,1270.3 7225.27,1270.3 \"/>\n",
       "<path clip-path=\"url(#clip182)\" d=\"M7298.55 1270.3 L7298.55 1423.18 L7371.82 1423.18 L7371.82 1270.3 L7298.55 1270.3 L7298.55 1270.3  Z\" fill=\"#009af9\" fill-rule=\"evenodd\" fill-opacity=\"1\"/>\n",
       "<polyline clip-path=\"url(#clip182)\" style=\"stroke:#000000; stroke-linecap:round; stroke-linejoin:round; stroke-width:4; stroke-opacity:1; fill:none\" points=\"7298.55,1270.3 7298.55,1423.18 7371.82,1423.18 7371.82,1270.3 7298.55,1270.3 \"/>\n",
       "<path clip-path=\"url(#clip182)\" d=\"M7371.82 1270.3 L7371.82 1423.18 L7445.09 1423.18 L7445.09 1270.3 L7371.82 1270.3 L7371.82 1270.3  Z\" fill=\"#009af9\" fill-rule=\"evenodd\" fill-opacity=\"1\"/>\n",
       "<polyline clip-path=\"url(#clip182)\" style=\"stroke:#000000; stroke-linecap:round; stroke-linejoin:round; stroke-width:4; stroke-opacity:1; fill:none\" points=\"7371.82,1270.3 7371.82,1423.18 7445.09,1423.18 7445.09,1270.3 7371.82,1270.3 \"/>\n",
       "<path clip-path=\"url(#clip182)\" d=\"M7445.09 1270.3 L7445.09 1423.18 L7518.36 1423.18 L7518.36 1270.3 L7445.09 1270.3 L7445.09 1270.3  Z\" fill=\"#009af9\" fill-rule=\"evenodd\" fill-opacity=\"1\"/>\n",
       "<polyline clip-path=\"url(#clip182)\" style=\"stroke:#000000; stroke-linecap:round; stroke-linejoin:round; stroke-width:4; stroke-opacity:1; fill:none\" points=\"7445.09,1270.3 7445.09,1423.18 7518.36,1423.18 7518.36,1270.3 7445.09,1270.3 \"/>\n",
       "<path clip-path=\"url(#clip182)\" d=\"M7518.36 1423.18 L7518.36 1423.18 L7591.64 1423.18 L7591.64 1423.18 L7518.36 1423.18 L7518.36 1423.18  Z\" fill=\"#009af9\" fill-rule=\"evenodd\" fill-opacity=\"1\"/>\n",
       "<polyline clip-path=\"url(#clip182)\" style=\"stroke:#000000; stroke-linecap:round; stroke-linejoin:round; stroke-width:4; stroke-opacity:1; fill:none\" points=\"7518.36,1423.18 7518.36,1423.18 7591.64,1423.18 7518.36,1423.18 \"/>\n",
       "<path clip-path=\"url(#clip182)\" d=\"M7591.64 1423.18 L7591.64 1423.18 L7664.91 1423.18 L7664.91 1423.18 L7591.64 1423.18 L7591.64 1423.18  Z\" fill=\"#009af9\" fill-rule=\"evenodd\" fill-opacity=\"1\"/>\n",
       "<polyline clip-path=\"url(#clip182)\" style=\"stroke:#000000; stroke-linecap:round; stroke-linejoin:round; stroke-width:4; stroke-opacity:1; fill:none\" points=\"7591.64,1423.18 7591.64,1423.18 7664.91,1423.18 7591.64,1423.18 \"/>\n",
       "<path clip-path=\"url(#clip182)\" d=\"M7664.91 1423.18 L7664.91 1423.18 L7738.18 1423.18 L7738.18 1423.18 L7664.91 1423.18 L7664.91 1423.18  Z\" fill=\"#009af9\" fill-rule=\"evenodd\" fill-opacity=\"1\"/>\n",
       "<polyline clip-path=\"url(#clip182)\" style=\"stroke:#000000; stroke-linecap:round; stroke-linejoin:round; stroke-width:4; stroke-opacity:1; fill:none\" points=\"7664.91,1423.18 7664.91,1423.18 7738.18,1423.18 7664.91,1423.18 \"/>\n",
       "<path clip-path=\"url(#clip182)\" d=\"M7738.18 1423.18 L7738.18 1423.18 L7811.45 1423.18 L7811.45 1423.18 L7738.18 1423.18 L7738.18 1423.18  Z\" fill=\"#009af9\" fill-rule=\"evenodd\" fill-opacity=\"1\"/>\n",
       "<polyline clip-path=\"url(#clip182)\" style=\"stroke:#000000; stroke-linecap:round; stroke-linejoin:round; stroke-width:4; stroke-opacity:1; fill:none\" points=\"7738.18,1423.18 7738.18,1423.18 7811.45,1423.18 7738.18,1423.18 \"/>\n",
       "<path clip-path=\"url(#clip182)\" d=\"M7811.45 1270.3 L7811.45 1423.18 L7884.73 1423.18 L7884.73 1270.3 L7811.45 1270.3 L7811.45 1270.3  Z\" fill=\"#009af9\" fill-rule=\"evenodd\" fill-opacity=\"1\"/>\n",
       "<polyline clip-path=\"url(#clip182)\" style=\"stroke:#000000; stroke-linecap:round; stroke-linejoin:round; stroke-width:4; stroke-opacity:1; fill:none\" points=\"7811.45,1270.3 7811.45,1423.18 7884.73,1423.18 7884.73,1270.3 7811.45,1270.3 \"/>\n",
       "<path clip-path=\"url(#clip182)\" d=\"M7884.73 1423.18 L7884.73 1423.18 L7958 1423.18 L7958 1423.18 L7884.73 1423.18 L7884.73 1423.18  Z\" fill=\"#009af9\" fill-rule=\"evenodd\" fill-opacity=\"1\"/>\n",
       "<polyline clip-path=\"url(#clip182)\" style=\"stroke:#000000; stroke-linecap:round; stroke-linejoin:round; stroke-width:4; stroke-opacity:1; fill:none\" points=\"7884.73,1423.18 7884.73,1423.18 7958,1423.18 7884.73,1423.18 \"/>\n",
       "<path clip-path=\"url(#clip182)\" d=\"M7958 1423.18 L7958 1423.18 L8031.27 1423.18 L8031.27 1423.18 L7958 1423.18 L7958 1423.18  Z\" fill=\"#009af9\" fill-rule=\"evenodd\" fill-opacity=\"1\"/>\n",
       "<polyline clip-path=\"url(#clip182)\" style=\"stroke:#000000; stroke-linecap:round; stroke-linejoin:round; stroke-width:4; stroke-opacity:1; fill:none\" points=\"7958,1423.18 7958,1423.18 8031.27,1423.18 7958,1423.18 \"/>\n",
       "<path clip-path=\"url(#clip182)\" d=\"M8031.27 1423.18 L8031.27 1423.18 L8104.54 1423.18 L8104.54 1423.18 L8031.27 1423.18 L8031.27 1423.18  Z\" fill=\"#009af9\" fill-rule=\"evenodd\" fill-opacity=\"1\"/>\n",
       "<polyline clip-path=\"url(#clip182)\" style=\"stroke:#000000; stroke-linecap:round; stroke-linejoin:round; stroke-width:4; stroke-opacity:1; fill:none\" points=\"8031.27,1423.18 8031.27,1423.18 8104.54,1423.18 8031.27,1423.18 \"/>\n",
       "<path clip-path=\"url(#clip182)\" d=\"M8104.54 1270.3 L8104.54 1423.18 L8177.82 1423.18 L8177.82 1270.3 L8104.54 1270.3 L8104.54 1270.3  Z\" fill=\"#009af9\" fill-rule=\"evenodd\" fill-opacity=\"1\"/>\n",
       "<polyline clip-path=\"url(#clip182)\" style=\"stroke:#000000; stroke-linecap:round; stroke-linejoin:round; stroke-width:4; stroke-opacity:1; fill:none\" points=\"8104.54,1270.3 8104.54,1423.18 8177.82,1423.18 8177.82,1270.3 8104.54,1270.3 \"/>\n",
       "<path clip-path=\"url(#clip182)\" d=\"M8177.82 1423.18 L8177.82 1423.18 L8251.09 1423.18 L8251.09 1423.18 L8177.82 1423.18 L8177.82 1423.18  Z\" fill=\"#009af9\" fill-rule=\"evenodd\" fill-opacity=\"1\"/>\n",
       "<polyline clip-path=\"url(#clip182)\" style=\"stroke:#000000; stroke-linecap:round; stroke-linejoin:round; stroke-width:4; stroke-opacity:1; fill:none\" points=\"8177.82,1423.18 8177.82,1423.18 8251.09,1423.18 8177.82,1423.18 \"/>\n",
       "<path clip-path=\"url(#clip182)\" d=\"M8251.09 1423.18 L8251.09 1423.18 L8324.36 1423.18 L8324.36 1423.18 L8251.09 1423.18 L8251.09 1423.18  Z\" fill=\"#009af9\" fill-rule=\"evenodd\" fill-opacity=\"1\"/>\n",
       "<polyline clip-path=\"url(#clip182)\" style=\"stroke:#000000; stroke-linecap:round; stroke-linejoin:round; stroke-width:4; stroke-opacity:1; fill:none\" points=\"8251.09,1423.18 8251.09,1423.18 8324.36,1423.18 8251.09,1423.18 \"/>\n",
       "<path clip-path=\"url(#clip182)\" d=\"M8324.36 1423.18 L8324.36 1423.18 L8397.63 1423.18 L8397.63 1423.18 L8324.36 1423.18 L8324.36 1423.18  Z\" fill=\"#009af9\" fill-rule=\"evenodd\" fill-opacity=\"1\"/>\n",
       "<polyline clip-path=\"url(#clip182)\" style=\"stroke:#000000; stroke-linecap:round; stroke-linejoin:round; stroke-width:4; stroke-opacity:1; fill:none\" points=\"8324.36,1423.18 8324.36,1423.18 8397.63,1423.18 8324.36,1423.18 \"/>\n",
       "<path clip-path=\"url(#clip182)\" d=\"M8397.63 1270.3 L8397.63 1423.18 L8470.91 1423.18 L8470.91 1270.3 L8397.63 1270.3 L8397.63 1270.3  Z\" fill=\"#009af9\" fill-rule=\"evenodd\" fill-opacity=\"1\"/>\n",
       "<polyline clip-path=\"url(#clip182)\" style=\"stroke:#000000; stroke-linecap:round; stroke-linejoin:round; stroke-width:4; stroke-opacity:1; fill:none\" points=\"8397.63,1270.3 8397.63,1423.18 8470.91,1423.18 8470.91,1270.3 8397.63,1270.3 \"/>\n",
       "<path clip-path=\"url(#clip182)\" d=\"M8470.91 1423.18 L8470.91 1423.18 L8544.18 1423.18 L8544.18 1423.18 L8470.91 1423.18 L8470.91 1423.18  Z\" fill=\"#009af9\" fill-rule=\"evenodd\" fill-opacity=\"1\"/>\n",
       "<polyline clip-path=\"url(#clip182)\" style=\"stroke:#000000; stroke-linecap:round; stroke-linejoin:round; stroke-width:4; stroke-opacity:1; fill:none\" points=\"8470.91,1423.18 8470.91,1423.18 8544.18,1423.18 8470.91,1423.18 \"/>\n",
       "<path clip-path=\"url(#clip182)\" d=\"M8544.18 1423.18 L8544.18 1423.18 L8617.45 1423.18 L8617.45 1423.18 L8544.18 1423.18 L8544.18 1423.18  Z\" fill=\"#009af9\" fill-rule=\"evenodd\" fill-opacity=\"1\"/>\n",
       "<polyline clip-path=\"url(#clip182)\" style=\"stroke:#000000; stroke-linecap:round; stroke-linejoin:round; stroke-width:4; stroke-opacity:1; fill:none\" points=\"8544.18,1423.18 8544.18,1423.18 8617.45,1423.18 8544.18,1423.18 \"/>\n",
       "<path clip-path=\"url(#clip182)\" d=\"M8617.45 1423.18 L8617.45 1423.18 L8690.72 1423.18 L8690.72 1423.18 L8617.45 1423.18 L8617.45 1423.18  Z\" fill=\"#009af9\" fill-rule=\"evenodd\" fill-opacity=\"1\"/>\n",
       "<polyline clip-path=\"url(#clip182)\" style=\"stroke:#000000; stroke-linecap:round; stroke-linejoin:round; stroke-width:4; stroke-opacity:1; fill:none\" points=\"8617.45,1423.18 8617.45,1423.18 8690.72,1423.18 8617.45,1423.18 \"/>\n",
       "<path clip-path=\"url(#clip182)\" d=\"M8690.72 1423.18 L8690.72 1423.18 L8764 1423.18 L8764 1423.18 L8690.72 1423.18 L8690.72 1423.18  Z\" fill=\"#009af9\" fill-rule=\"evenodd\" fill-opacity=\"1\"/>\n",
       "<polyline clip-path=\"url(#clip182)\" style=\"stroke:#000000; stroke-linecap:round; stroke-linejoin:round; stroke-width:4; stroke-opacity:1; fill:none\" points=\"8690.72,1423.18 8690.72,1423.18 8764,1423.18 8690.72,1423.18 \"/>\n",
       "<path clip-path=\"url(#clip182)\" d=\"M8764 1423.18 L8764 1423.18 L8837.27 1423.18 L8837.27 1423.18 L8764 1423.18 L8764 1423.18  Z\" fill=\"#009af9\" fill-rule=\"evenodd\" fill-opacity=\"1\"/>\n",
       "<polyline clip-path=\"url(#clip182)\" style=\"stroke:#000000; stroke-linecap:round; stroke-linejoin:round; stroke-width:4; stroke-opacity:1; fill:none\" points=\"8764,1423.18 8764,1423.18 8837.27,1423.18 8764,1423.18 \"/>\n",
       "<path clip-path=\"url(#clip182)\" d=\"M8837.27 1423.18 L8837.27 1423.18 L8910.54 1423.18 L8910.54 1423.18 L8837.27 1423.18 L8837.27 1423.18  Z\" fill=\"#009af9\" fill-rule=\"evenodd\" fill-opacity=\"1\"/>\n",
       "<polyline clip-path=\"url(#clip182)\" style=\"stroke:#000000; stroke-linecap:round; stroke-linejoin:round; stroke-width:4; stroke-opacity:1; fill:none\" points=\"8837.27,1423.18 8837.27,1423.18 8910.54,1423.18 8837.27,1423.18 \"/>\n",
       "<path clip-path=\"url(#clip182)\" d=\"M8910.54 1423.18 L8910.54 1423.18 L8983.81 1423.18 L8983.81 1423.18 L8910.54 1423.18 L8910.54 1423.18  Z\" fill=\"#009af9\" fill-rule=\"evenodd\" fill-opacity=\"1\"/>\n",
       "<polyline clip-path=\"url(#clip182)\" style=\"stroke:#000000; stroke-linecap:round; stroke-linejoin:round; stroke-width:4; stroke-opacity:1; fill:none\" points=\"8910.54,1423.18 8910.54,1423.18 8983.81,1423.18 8910.54,1423.18 \"/>\n",
       "<path clip-path=\"url(#clip182)\" d=\"M8983.81 1270.3 L8983.81 1423.18 L9057.09 1423.18 L9057.09 1270.3 L8983.81 1270.3 L8983.81 1270.3  Z\" fill=\"#009af9\" fill-rule=\"evenodd\" fill-opacity=\"1\"/>\n",
       "<polyline clip-path=\"url(#clip182)\" style=\"stroke:#000000; stroke-linecap:round; stroke-linejoin:round; stroke-width:4; stroke-opacity:1; fill:none\" points=\"8983.81,1270.3 8983.81,1423.18 9057.09,1423.18 9057.09,1270.3 8983.81,1270.3 \"/>\n",
       "<path clip-path=\"url(#clip182)\" d=\"M9057.09 1423.18 L9057.09 1423.18 L9130.36 1423.18 L9130.36 1423.18 L9057.09 1423.18 L9057.09 1423.18  Z\" fill=\"#009af9\" fill-rule=\"evenodd\" fill-opacity=\"1\"/>\n",
       "<polyline clip-path=\"url(#clip182)\" style=\"stroke:#000000; stroke-linecap:round; stroke-linejoin:round; stroke-width:4; stroke-opacity:1; fill:none\" points=\"9057.09,1423.18 9057.09,1423.18 9130.36,1423.18 9057.09,1423.18 \"/>\n",
       "<path clip-path=\"url(#clip182)\" d=\"M9130.36 1270.3 L9130.36 1423.18 L9203.63 1423.18 L9203.63 1270.3 L9130.36 1270.3 L9130.36 1270.3  Z\" fill=\"#009af9\" fill-rule=\"evenodd\" fill-opacity=\"1\"/>\n",
       "<polyline clip-path=\"url(#clip182)\" style=\"stroke:#000000; stroke-linecap:round; stroke-linejoin:round; stroke-width:4; stroke-opacity:1; fill:none\" points=\"9130.36,1270.3 9130.36,1423.18 9203.63,1423.18 9203.63,1270.3 9130.36,1270.3 \"/>\n",
       "<path clip-path=\"url(#clip182)\" d=\"M9203.63 1423.18 L9203.63 1423.18 L9276.9 1423.18 L9276.9 1423.18 L9203.63 1423.18 L9203.63 1423.18  Z\" fill=\"#009af9\" fill-rule=\"evenodd\" fill-opacity=\"1\"/>\n",
       "<polyline clip-path=\"url(#clip182)\" style=\"stroke:#000000; stroke-linecap:round; stroke-linejoin:round; stroke-width:4; stroke-opacity:1; fill:none\" points=\"9203.63,1423.18 9203.63,1423.18 9276.9,1423.18 9203.63,1423.18 \"/>\n",
       "<path clip-path=\"url(#clip182)\" d=\"M9276.9 1423.18 L9276.9 1423.18 L9350.18 1423.18 L9350.18 1423.18 L9276.9 1423.18 L9276.9 1423.18  Z\" fill=\"#009af9\" fill-rule=\"evenodd\" fill-opacity=\"1\"/>\n",
       "<polyline clip-path=\"url(#clip182)\" style=\"stroke:#000000; stroke-linecap:round; stroke-linejoin:round; stroke-width:4; stroke-opacity:1; fill:none\" points=\"9276.9,1423.18 9276.9,1423.18 9350.18,1423.18 9276.9,1423.18 \"/>\n",
       "<path clip-path=\"url(#clip182)\" d=\"M9350.18 1423.18 L9350.18 1423.18 L9423.45 1423.18 L9423.45 1423.18 L9350.18 1423.18 L9350.18 1423.18  Z\" fill=\"#009af9\" fill-rule=\"evenodd\" fill-opacity=\"1\"/>\n",
       "<polyline clip-path=\"url(#clip182)\" style=\"stroke:#000000; stroke-linecap:round; stroke-linejoin:round; stroke-width:4; stroke-opacity:1; fill:none\" points=\"9350.18,1423.18 9350.18,1423.18 9423.45,1423.18 9350.18,1423.18 \"/>\n",
       "<path clip-path=\"url(#clip182)\" d=\"M9423.45 1270.3 L9423.45 1423.18 L9496.72 1423.18 L9496.72 1270.3 L9423.45 1270.3 L9423.45 1270.3  Z\" fill=\"#009af9\" fill-rule=\"evenodd\" fill-opacity=\"1\"/>\n",
       "<polyline clip-path=\"url(#clip182)\" style=\"stroke:#000000; stroke-linecap:round; stroke-linejoin:round; stroke-width:4; stroke-opacity:1; fill:none\" points=\"9423.45,1270.3 9423.45,1423.18 9496.72,1423.18 9496.72,1270.3 9423.45,1270.3 \"/>\n",
       "<path clip-path=\"url(#clip182)\" d=\"M9496.72 1423.18 L9496.72 1423.18 L9569.99 1423.18 L9569.99 1423.18 L9496.72 1423.18 L9496.72 1423.18  Z\" fill=\"#009af9\" fill-rule=\"evenodd\" fill-opacity=\"1\"/>\n",
       "<polyline clip-path=\"url(#clip182)\" style=\"stroke:#000000; stroke-linecap:round; stroke-linejoin:round; stroke-width:4; stroke-opacity:1; fill:none\" points=\"9496.72,1423.18 9496.72,1423.18 9569.99,1423.18 9496.72,1423.18 \"/>\n",
       "<path clip-path=\"url(#clip182)\" d=\"M9569.99 1423.18 L9569.99 1423.18 L9643.27 1423.18 L9643.27 1423.18 L9569.99 1423.18 L9569.99 1423.18  Z\" fill=\"#009af9\" fill-rule=\"evenodd\" fill-opacity=\"1\"/>\n",
       "<polyline clip-path=\"url(#clip182)\" style=\"stroke:#000000; stroke-linecap:round; stroke-linejoin:round; stroke-width:4; stroke-opacity:1; fill:none\" points=\"9569.99,1423.18 9569.99,1423.18 9643.27,1423.18 9569.99,1423.18 \"/>\n",
       "<path clip-path=\"url(#clip182)\" d=\"M9643.27 1423.18 L9643.27 1423.18 L9716.54 1423.18 L9716.54 1423.18 L9643.27 1423.18 L9643.27 1423.18  Z\" fill=\"#009af9\" fill-rule=\"evenodd\" fill-opacity=\"1\"/>\n",
       "<polyline clip-path=\"url(#clip182)\" style=\"stroke:#000000; stroke-linecap:round; stroke-linejoin:round; stroke-width:4; stroke-opacity:1; fill:none\" points=\"9643.27,1423.18 9643.27,1423.18 9716.54,1423.18 9643.27,1423.18 \"/>\n",
       "<path clip-path=\"url(#clip182)\" d=\"M9716.54 1270.3 L9716.54 1423.18 L9789.81 1423.18 L9789.81 1270.3 L9716.54 1270.3 L9716.54 1270.3  Z\" fill=\"#009af9\" fill-rule=\"evenodd\" fill-opacity=\"1\"/>\n",
       "<polyline clip-path=\"url(#clip182)\" style=\"stroke:#000000; stroke-linecap:round; stroke-linejoin:round; stroke-width:4; stroke-opacity:1; fill:none\" points=\"9716.54,1270.3 9716.54,1423.18 9789.81,1423.18 9789.81,1270.3 9716.54,1270.3 \"/>\n",
       "<path clip-path=\"url(#clip182)\" d=\"M9789.81 1423.18 L9789.81 1423.18 L9863.08 1423.18 L9863.08 1423.18 L9789.81 1423.18 L9789.81 1423.18  Z\" fill=\"#009af9\" fill-rule=\"evenodd\" fill-opacity=\"1\"/>\n",
       "<polyline clip-path=\"url(#clip182)\" style=\"stroke:#000000; stroke-linecap:round; stroke-linejoin:round; stroke-width:4; stroke-opacity:1; fill:none\" points=\"9789.81,1423.18 9789.81,1423.18 9863.08,1423.18 9789.81,1423.18 \"/>\n",
       "<path clip-path=\"url(#clip182)\" d=\"M9863.08 1423.18 L9863.08 1423.18 L9936.36 1423.18 L9936.36 1423.18 L9863.08 1423.18 L9863.08 1423.18  Z\" fill=\"#009af9\" fill-rule=\"evenodd\" fill-opacity=\"1\"/>\n",
       "<polyline clip-path=\"url(#clip182)\" style=\"stroke:#000000; stroke-linecap:round; stroke-linejoin:round; stroke-width:4; stroke-opacity:1; fill:none\" points=\"9863.08,1423.18 9863.08,1423.18 9936.36,1423.18 9863.08,1423.18 \"/>\n",
       "<path clip-path=\"url(#clip182)\" d=\"M9936.36 1423.18 L9936.36 1423.18 L10009.6 1423.18 L10009.6 1423.18 L9936.36 1423.18 L9936.36 1423.18  Z\" fill=\"#009af9\" fill-rule=\"evenodd\" fill-opacity=\"1\"/>\n",
       "<polyline clip-path=\"url(#clip182)\" style=\"stroke:#000000; stroke-linecap:round; stroke-linejoin:round; stroke-width:4; stroke-opacity:1; fill:none\" points=\"9936.36,1423.18 9936.36,1423.18 10009.6,1423.18 9936.36,1423.18 \"/>\n",
       "<path clip-path=\"url(#clip182)\" d=\"M10009.6 1423.18 L10009.6 1423.18 L10082.9 1423.18 L10082.9 1423.18 L10009.6 1423.18 L10009.6 1423.18  Z\" fill=\"#009af9\" fill-rule=\"evenodd\" fill-opacity=\"1\"/>\n",
       "<polyline clip-path=\"url(#clip182)\" style=\"stroke:#000000; stroke-linecap:round; stroke-linejoin:round; stroke-width:4; stroke-opacity:1; fill:none\" points=\"10009.6,1423.18 10009.6,1423.18 10082.9,1423.18 10009.6,1423.18 \"/>\n",
       "<path clip-path=\"url(#clip182)\" d=\"M10082.9 1423.18 L10082.9 1423.18 L10156.2 1423.18 L10156.2 1423.18 L10082.9 1423.18 L10082.9 1423.18  Z\" fill=\"#009af9\" fill-rule=\"evenodd\" fill-opacity=\"1\"/>\n",
       "<polyline clip-path=\"url(#clip182)\" style=\"stroke:#000000; stroke-linecap:round; stroke-linejoin:round; stroke-width:4; stroke-opacity:1; fill:none\" points=\"10082.9,1423.18 10082.9,1423.18 10156.2,1423.18 10082.9,1423.18 \"/>\n",
       "<path clip-path=\"url(#clip182)\" d=\"M10156.2 1423.18 L10156.2 1423.18 L10229.4 1423.18 L10229.4 1423.18 L10156.2 1423.18 L10156.2 1423.18  Z\" fill=\"#009af9\" fill-rule=\"evenodd\" fill-opacity=\"1\"/>\n",
       "<polyline clip-path=\"url(#clip182)\" style=\"stroke:#000000; stroke-linecap:round; stroke-linejoin:round; stroke-width:4; stroke-opacity:1; fill:none\" points=\"10156.2,1423.18 10156.2,1423.18 10229.4,1423.18 10156.2,1423.18 \"/>\n",
       "<path clip-path=\"url(#clip182)\" d=\"M10229.4 1423.18 L10229.4 1423.18 L10302.7 1423.18 L10302.7 1423.18 L10229.4 1423.18 L10229.4 1423.18  Z\" fill=\"#009af9\" fill-rule=\"evenodd\" fill-opacity=\"1\"/>\n",
       "<polyline clip-path=\"url(#clip182)\" style=\"stroke:#000000; stroke-linecap:round; stroke-linejoin:round; stroke-width:4; stroke-opacity:1; fill:none\" points=\"10229.4,1423.18 10229.4,1423.18 10302.7,1423.18 10229.4,1423.18 \"/>\n",
       "<path clip-path=\"url(#clip182)\" d=\"M10302.7 1423.18 L10302.7 1423.18 L10376 1423.18 L10376 1423.18 L10302.7 1423.18 L10302.7 1423.18  Z\" fill=\"#009af9\" fill-rule=\"evenodd\" fill-opacity=\"1\"/>\n",
       "<polyline clip-path=\"url(#clip182)\" style=\"stroke:#000000; stroke-linecap:round; stroke-linejoin:round; stroke-width:4; stroke-opacity:1; fill:none\" points=\"10302.7,1423.18 10302.7,1423.18 10376,1423.18 10302.7,1423.18 \"/>\n",
       "<path clip-path=\"url(#clip182)\" d=\"M10376 1423.18 L10376 1423.18 L10449.3 1423.18 L10449.3 1423.18 L10376 1423.18 L10376 1423.18  Z\" fill=\"#009af9\" fill-rule=\"evenodd\" fill-opacity=\"1\"/>\n",
       "<polyline clip-path=\"url(#clip182)\" style=\"stroke:#000000; stroke-linecap:round; stroke-linejoin:round; stroke-width:4; stroke-opacity:1; fill:none\" points=\"10376,1423.18 10376,1423.18 10449.3,1423.18 10376,1423.18 \"/>\n",
       "<path clip-path=\"url(#clip182)\" d=\"M10449.3 1423.18 L10449.3 1423.18 L10522.5 1423.18 L10522.5 1423.18 L10449.3 1423.18 L10449.3 1423.18  Z\" fill=\"#009af9\" fill-rule=\"evenodd\" fill-opacity=\"1\"/>\n",
       "<polyline clip-path=\"url(#clip182)\" style=\"stroke:#000000; stroke-linecap:round; stroke-linejoin:round; stroke-width:4; stroke-opacity:1; fill:none\" points=\"10449.3,1423.18 10449.3,1423.18 10522.5,1423.18 10449.3,1423.18 \"/>\n",
       "<path clip-path=\"url(#clip182)\" d=\"M10522.5 1423.18 L10522.5 1423.18 L10595.8 1423.18 L10595.8 1423.18 L10522.5 1423.18 L10522.5 1423.18  Z\" fill=\"#009af9\" fill-rule=\"evenodd\" fill-opacity=\"1\"/>\n",
       "<polyline clip-path=\"url(#clip182)\" style=\"stroke:#000000; stroke-linecap:round; stroke-linejoin:round; stroke-width:4; stroke-opacity:1; fill:none\" points=\"10522.5,1423.18 10522.5,1423.18 10595.8,1423.18 10522.5,1423.18 \"/>\n",
       "<path clip-path=\"url(#clip182)\" d=\"M10595.8 1423.18 L10595.8 1423.18 L10669.1 1423.18 L10669.1 1423.18 L10595.8 1423.18 L10595.8 1423.18  Z\" fill=\"#009af9\" fill-rule=\"evenodd\" fill-opacity=\"1\"/>\n",
       "<polyline clip-path=\"url(#clip182)\" style=\"stroke:#000000; stroke-linecap:round; stroke-linejoin:round; stroke-width:4; stroke-opacity:1; fill:none\" points=\"10595.8,1423.18 10595.8,1423.18 10669.1,1423.18 10595.8,1423.18 \"/>\n",
       "<path clip-path=\"url(#clip182)\" d=\"M10669.1 1423.18 L10669.1 1423.18 L10742.4 1423.18 L10742.4 1423.18 L10669.1 1423.18 L10669.1 1423.18  Z\" fill=\"#009af9\" fill-rule=\"evenodd\" fill-opacity=\"1\"/>\n",
       "<polyline clip-path=\"url(#clip182)\" style=\"stroke:#000000; stroke-linecap:round; stroke-linejoin:round; stroke-width:4; stroke-opacity:1; fill:none\" points=\"10669.1,1423.18 10669.1,1423.18 10742.4,1423.18 10669.1,1423.18 \"/>\n",
       "<path clip-path=\"url(#clip182)\" d=\"M10742.4 1423.18 L10742.4 1423.18 L10815.6 1423.18 L10815.6 1423.18 L10742.4 1423.18 L10742.4 1423.18  Z\" fill=\"#009af9\" fill-rule=\"evenodd\" fill-opacity=\"1\"/>\n",
       "<polyline clip-path=\"url(#clip182)\" style=\"stroke:#000000; stroke-linecap:round; stroke-linejoin:round; stroke-width:4; stroke-opacity:1; fill:none\" points=\"10742.4,1423.18 10742.4,1423.18 10815.6,1423.18 10742.4,1423.18 \"/>\n",
       "<path clip-path=\"url(#clip182)\" d=\"M10815.6 1423.18 L10815.6 1423.18 L10888.9 1423.18 L10888.9 1423.18 L10815.6 1423.18 L10815.6 1423.18  Z\" fill=\"#009af9\" fill-rule=\"evenodd\" fill-opacity=\"1\"/>\n",
       "<polyline clip-path=\"url(#clip182)\" style=\"stroke:#000000; stroke-linecap:round; stroke-linejoin:round; stroke-width:4; stroke-opacity:1; fill:none\" points=\"10815.6,1423.18 10815.6,1423.18 10888.9,1423.18 10815.6,1423.18 \"/>\n",
       "<path clip-path=\"url(#clip182)\" d=\"M10888.9 1423.18 L10888.9 1423.18 L10962.2 1423.18 L10962.2 1423.18 L10888.9 1423.18 L10888.9 1423.18  Z\" fill=\"#009af9\" fill-rule=\"evenodd\" fill-opacity=\"1\"/>\n",
       "<polyline clip-path=\"url(#clip182)\" style=\"stroke:#000000; stroke-linecap:round; stroke-linejoin:round; stroke-width:4; stroke-opacity:1; fill:none\" points=\"10888.9,1423.18 10888.9,1423.18 10962.2,1423.18 10888.9,1423.18 \"/>\n",
       "<path clip-path=\"url(#clip182)\" d=\"M10962.2 1423.18 L10962.2 1423.18 L11035.4 1423.18 L11035.4 1423.18 L10962.2 1423.18 L10962.2 1423.18  Z\" fill=\"#009af9\" fill-rule=\"evenodd\" fill-opacity=\"1\"/>\n",
       "<polyline clip-path=\"url(#clip182)\" style=\"stroke:#000000; stroke-linecap:round; stroke-linejoin:round; stroke-width:4; stroke-opacity:1; fill:none\" points=\"10962.2,1423.18 10962.2,1423.18 11035.4,1423.18 10962.2,1423.18 \"/>\n",
       "<path clip-path=\"url(#clip182)\" d=\"M11035.4 1423.18 L11035.4 1423.18 L11108.7 1423.18 L11108.7 1423.18 L11035.4 1423.18 L11035.4 1423.18  Z\" fill=\"#009af9\" fill-rule=\"evenodd\" fill-opacity=\"1\"/>\n",
       "<polyline clip-path=\"url(#clip182)\" style=\"stroke:#000000; stroke-linecap:round; stroke-linejoin:round; stroke-width:4; stroke-opacity:1; fill:none\" points=\"11035.4,1423.18 11035.4,1423.18 11108.7,1423.18 11035.4,1423.18 \"/>\n",
       "<path clip-path=\"url(#clip182)\" d=\"M11108.7 1423.18 L11108.7 1423.18 L11182 1423.18 L11182 1423.18 L11108.7 1423.18 L11108.7 1423.18  Z\" fill=\"#009af9\" fill-rule=\"evenodd\" fill-opacity=\"1\"/>\n",
       "<polyline clip-path=\"url(#clip182)\" style=\"stroke:#000000; stroke-linecap:round; stroke-linejoin:round; stroke-width:4; stroke-opacity:1; fill:none\" points=\"11108.7,1423.18 11108.7,1423.18 11182,1423.18 11108.7,1423.18 \"/>\n",
       "<path clip-path=\"url(#clip182)\" d=\"M11182 1423.18 L11182 1423.18 L11255.3 1423.18 L11255.3 1423.18 L11182 1423.18 L11182 1423.18  Z\" fill=\"#009af9\" fill-rule=\"evenodd\" fill-opacity=\"1\"/>\n",
       "<polyline clip-path=\"url(#clip182)\" style=\"stroke:#000000; stroke-linecap:round; stroke-linejoin:round; stroke-width:4; stroke-opacity:1; fill:none\" points=\"11182,1423.18 11182,1423.18 11255.3,1423.18 11182,1423.18 \"/>\n",
       "<path clip-path=\"url(#clip182)\" d=\"M11255.3 1423.18 L11255.3 1423.18 L11328.5 1423.18 L11328.5 1423.18 L11255.3 1423.18 L11255.3 1423.18  Z\" fill=\"#009af9\" fill-rule=\"evenodd\" fill-opacity=\"1\"/>\n",
       "<polyline clip-path=\"url(#clip182)\" style=\"stroke:#000000; stroke-linecap:round; stroke-linejoin:round; stroke-width:4; stroke-opacity:1; fill:none\" points=\"11255.3,1423.18 11255.3,1423.18 11328.5,1423.18 11255.3,1423.18 \"/>\n",
       "<path clip-path=\"url(#clip182)\" d=\"M11328.5 1423.18 L11328.5 1423.18 L11401.8 1423.18 L11401.8 1423.18 L11328.5 1423.18 L11328.5 1423.18  Z\" fill=\"#009af9\" fill-rule=\"evenodd\" fill-opacity=\"1\"/>\n",
       "<polyline clip-path=\"url(#clip182)\" style=\"stroke:#000000; stroke-linecap:round; stroke-linejoin:round; stroke-width:4; stroke-opacity:1; fill:none\" points=\"11328.5,1423.18 11328.5,1423.18 11401.8,1423.18 11328.5,1423.18 \"/>\n",
       "<path clip-path=\"url(#clip182)\" d=\"M11401.8 1423.18 L11401.8 1423.18 L11475.1 1423.18 L11475.1 1423.18 L11401.8 1423.18 L11401.8 1423.18  Z\" fill=\"#009af9\" fill-rule=\"evenodd\" fill-opacity=\"1\"/>\n",
       "<polyline clip-path=\"url(#clip182)\" style=\"stroke:#000000; stroke-linecap:round; stroke-linejoin:round; stroke-width:4; stroke-opacity:1; fill:none\" points=\"11401.8,1423.18 11401.8,1423.18 11475.1,1423.18 11401.8,1423.18 \"/>\n",
       "<path clip-path=\"url(#clip182)\" d=\"M11475.1 1423.18 L11475.1 1423.18 L11548.4 1423.18 L11548.4 1423.18 L11475.1 1423.18 L11475.1 1423.18  Z\" fill=\"#009af9\" fill-rule=\"evenodd\" fill-opacity=\"1\"/>\n",
       "<polyline clip-path=\"url(#clip182)\" style=\"stroke:#000000; stroke-linecap:round; stroke-linejoin:round; stroke-width:4; stroke-opacity:1; fill:none\" points=\"11475.1,1423.18 11475.1,1423.18 11548.4,1423.18 11475.1,1423.18 \"/>\n",
       "<path clip-path=\"url(#clip182)\" d=\"M11548.4 1423.18 L11548.4 1423.18 L11621.6 1423.18 L11621.6 1423.18 L11548.4 1423.18 L11548.4 1423.18  Z\" fill=\"#009af9\" fill-rule=\"evenodd\" fill-opacity=\"1\"/>\n",
       "<polyline clip-path=\"url(#clip182)\" style=\"stroke:#000000; stroke-linecap:round; stroke-linejoin:round; stroke-width:4; stroke-opacity:1; fill:none\" points=\"11548.4,1423.18 11548.4,1423.18 11621.6,1423.18 11548.4,1423.18 \"/>\n",
       "<path clip-path=\"url(#clip182)\" d=\"M11621.6 1423.18 L11621.6 1423.18 L11694.9 1423.18 L11694.9 1423.18 L11621.6 1423.18 L11621.6 1423.18  Z\" fill=\"#009af9\" fill-rule=\"evenodd\" fill-opacity=\"1\"/>\n",
       "<polyline clip-path=\"url(#clip182)\" style=\"stroke:#000000; stroke-linecap:round; stroke-linejoin:round; stroke-width:4; stroke-opacity:1; fill:none\" points=\"11621.6,1423.18 11621.6,1423.18 11694.9,1423.18 11621.6,1423.18 \"/>\n",
       "<path clip-path=\"url(#clip182)\" d=\"M11694.9 1423.18 L11694.9 1423.18 L11768.2 1423.18 L11768.2 1423.18 L11694.9 1423.18 L11694.9 1423.18  Z\" fill=\"#009af9\" fill-rule=\"evenodd\" fill-opacity=\"1\"/>\n",
       "<polyline clip-path=\"url(#clip182)\" style=\"stroke:#000000; stroke-linecap:round; stroke-linejoin:round; stroke-width:4; stroke-opacity:1; fill:none\" points=\"11694.9,1423.18 11694.9,1423.18 11768.2,1423.18 11694.9,1423.18 \"/>\n",
       "<path clip-path=\"url(#clip182)\" d=\"M11768.2 1423.18 L11768.2 1423.18 L11841.4 1423.18 L11841.4 1423.18 L11768.2 1423.18 L11768.2 1423.18  Z\" fill=\"#009af9\" fill-rule=\"evenodd\" fill-opacity=\"1\"/>\n",
       "<polyline clip-path=\"url(#clip182)\" style=\"stroke:#000000; stroke-linecap:round; stroke-linejoin:round; stroke-width:4; stroke-opacity:1; fill:none\" points=\"11768.2,1423.18 11768.2,1423.18 11841.4,1423.18 11768.2,1423.18 \"/>\n",
       "<path clip-path=\"url(#clip182)\" d=\"M11841.4 1423.18 L11841.4 1423.18 L11914.7 1423.18 L11914.7 1423.18 L11841.4 1423.18 L11841.4 1423.18  Z\" fill=\"#009af9\" fill-rule=\"evenodd\" fill-opacity=\"1\"/>\n",
       "<polyline clip-path=\"url(#clip182)\" style=\"stroke:#000000; stroke-linecap:round; stroke-linejoin:round; stroke-width:4; stroke-opacity:1; fill:none\" points=\"11841.4,1423.18 11841.4,1423.18 11914.7,1423.18 11841.4,1423.18 \"/>\n",
       "<path clip-path=\"url(#clip182)\" d=\"M11914.7 1423.18 L11914.7 1423.18 L11988 1423.18 L11988 1423.18 L11914.7 1423.18 L11914.7 1423.18  Z\" fill=\"#009af9\" fill-rule=\"evenodd\" fill-opacity=\"1\"/>\n",
       "<polyline clip-path=\"url(#clip182)\" style=\"stroke:#000000; stroke-linecap:round; stroke-linejoin:round; stroke-width:4; stroke-opacity:1; fill:none\" points=\"11914.7,1423.18 11914.7,1423.18 11988,1423.18 11914.7,1423.18 \"/>\n",
       "<path clip-path=\"url(#clip182)\" d=\"M11988 1270.3 L11988 1423.18 L12061.3 1423.18 L12061.3 1270.3 L11988 1270.3 L11988 1270.3  Z\" fill=\"#009af9\" fill-rule=\"evenodd\" fill-opacity=\"1\"/>\n",
       "<polyline clip-path=\"url(#clip182)\" style=\"stroke:#000000; stroke-linecap:round; stroke-linejoin:round; stroke-width:4; stroke-opacity:1; fill:none\" points=\"11988,1270.3 11988,1423.18 12061.3,1423.18 12061.3,1270.3 11988,1270.3 \"/>\n",
       "<path clip-path=\"url(#clip182)\" d=\"M12061.3 1423.18 L12061.3 1423.18 L12134.5 1423.18 L12134.5 1423.18 L12061.3 1423.18 L12061.3 1423.18  Z\" fill=\"#009af9\" fill-rule=\"evenodd\" fill-opacity=\"1\"/>\n",
       "<polyline clip-path=\"url(#clip182)\" style=\"stroke:#000000; stroke-linecap:round; stroke-linejoin:round; stroke-width:4; stroke-opacity:1; fill:none\" points=\"12061.3,1423.18 12061.3,1423.18 12134.5,1423.18 12061.3,1423.18 \"/>\n",
       "<path clip-path=\"url(#clip182)\" d=\"M12134.5 1423.18 L12134.5 1423.18 L12207.8 1423.18 L12207.8 1423.18 L12134.5 1423.18 L12134.5 1423.18  Z\" fill=\"#009af9\" fill-rule=\"evenodd\" fill-opacity=\"1\"/>\n",
       "<polyline clip-path=\"url(#clip182)\" style=\"stroke:#000000; stroke-linecap:round; stroke-linejoin:round; stroke-width:4; stroke-opacity:1; fill:none\" points=\"12134.5,1423.18 12134.5,1423.18 12207.8,1423.18 12134.5,1423.18 \"/>\n",
       "<path clip-path=\"url(#clip182)\" d=\"M12207.8 1423.18 L12207.8 1423.18 L12281.1 1423.18 L12281.1 1423.18 L12207.8 1423.18 L12207.8 1423.18  Z\" fill=\"#009af9\" fill-rule=\"evenodd\" fill-opacity=\"1\"/>\n",
       "<polyline clip-path=\"url(#clip182)\" style=\"stroke:#000000; stroke-linecap:round; stroke-linejoin:round; stroke-width:4; stroke-opacity:1; fill:none\" points=\"12207.8,1423.18 12207.8,1423.18 12281.1,1423.18 12207.8,1423.18 \"/>\n",
       "<path clip-path=\"url(#clip182)\" d=\"M12281.1 1423.18 L12281.1 1423.18 L12354.4 1423.18 L12354.4 1423.18 L12281.1 1423.18 L12281.1 1423.18  Z\" fill=\"#009af9\" fill-rule=\"evenodd\" fill-opacity=\"1\"/>\n",
       "<polyline clip-path=\"url(#clip182)\" style=\"stroke:#000000; stroke-linecap:round; stroke-linejoin:round; stroke-width:4; stroke-opacity:1; fill:none\" points=\"12281.1,1423.18 12281.1,1423.18 12354.4,1423.18 12281.1,1423.18 \"/>\n",
       "<path clip-path=\"url(#clip182)\" d=\"M12354.4 1423.18 L12354.4 1423.18 L12427.6 1423.18 L12427.6 1423.18 L12354.4 1423.18 L12354.4 1423.18  Z\" fill=\"#009af9\" fill-rule=\"evenodd\" fill-opacity=\"1\"/>\n",
       "<polyline clip-path=\"url(#clip182)\" style=\"stroke:#000000; stroke-linecap:round; stroke-linejoin:round; stroke-width:4; stroke-opacity:1; fill:none\" points=\"12354.4,1423.18 12354.4,1423.18 12427.6,1423.18 12354.4,1423.18 \"/>\n",
       "<path clip-path=\"url(#clip182)\" d=\"M12427.6 1423.18 L12427.6 1423.18 L12500.9 1423.18 L12500.9 1423.18 L12427.6 1423.18 L12427.6 1423.18  Z\" fill=\"#009af9\" fill-rule=\"evenodd\" fill-opacity=\"1\"/>\n",
       "<polyline clip-path=\"url(#clip182)\" style=\"stroke:#000000; stroke-linecap:round; stroke-linejoin:round; stroke-width:4; stroke-opacity:1; fill:none\" points=\"12427.6,1423.18 12427.6,1423.18 12500.9,1423.18 12427.6,1423.18 \"/>\n",
       "<path clip-path=\"url(#clip182)\" d=\"M12500.9 1423.18 L12500.9 1423.18 L12574.2 1423.18 L12574.2 1423.18 L12500.9 1423.18 L12500.9 1423.18  Z\" fill=\"#009af9\" fill-rule=\"evenodd\" fill-opacity=\"1\"/>\n",
       "<polyline clip-path=\"url(#clip182)\" style=\"stroke:#000000; stroke-linecap:round; stroke-linejoin:round; stroke-width:4; stroke-opacity:1; fill:none\" points=\"12500.9,1423.18 12500.9,1423.18 12574.2,1423.18 12500.9,1423.18 \"/>\n",
       "<path clip-path=\"url(#clip182)\" d=\"M12574.2 1423.18 L12574.2 1423.18 L12647.4 1423.18 L12647.4 1423.18 L12574.2 1423.18 L12574.2 1423.18  Z\" fill=\"#009af9\" fill-rule=\"evenodd\" fill-opacity=\"1\"/>\n",
       "<polyline clip-path=\"url(#clip182)\" style=\"stroke:#000000; stroke-linecap:round; stroke-linejoin:round; stroke-width:4; stroke-opacity:1; fill:none\" points=\"12574.2,1423.18 12574.2,1423.18 12647.4,1423.18 12574.2,1423.18 \"/>\n",
       "<path clip-path=\"url(#clip182)\" d=\"M12647.4 1423.18 L12647.4 1423.18 L12720.7 1423.18 L12720.7 1423.18 L12647.4 1423.18 L12647.4 1423.18  Z\" fill=\"#009af9\" fill-rule=\"evenodd\" fill-opacity=\"1\"/>\n",
       "<polyline clip-path=\"url(#clip182)\" style=\"stroke:#000000; stroke-linecap:round; stroke-linejoin:round; stroke-width:4; stroke-opacity:1; fill:none\" points=\"12647.4,1423.18 12647.4,1423.18 12720.7,1423.18 12647.4,1423.18 \"/>\n",
       "<path clip-path=\"url(#clip182)\" d=\"M12720.7 1423.18 L12720.7 1423.18 L12794 1423.18 L12794 1423.18 L12720.7 1423.18 L12720.7 1423.18  Z\" fill=\"#009af9\" fill-rule=\"evenodd\" fill-opacity=\"1\"/>\n",
       "<polyline clip-path=\"url(#clip182)\" style=\"stroke:#000000; stroke-linecap:round; stroke-linejoin:round; stroke-width:4; stroke-opacity:1; fill:none\" points=\"12720.7,1423.18 12720.7,1423.18 12794,1423.18 12720.7,1423.18 \"/>\n",
       "<path clip-path=\"url(#clip182)\" d=\"M12794 1423.18 L12794 1423.18 L12867.3 1423.18 L12867.3 1423.18 L12794 1423.18 L12794 1423.18  Z\" fill=\"#009af9\" fill-rule=\"evenodd\" fill-opacity=\"1\"/>\n",
       "<polyline clip-path=\"url(#clip182)\" style=\"stroke:#000000; stroke-linecap:round; stroke-linejoin:round; stroke-width:4; stroke-opacity:1; fill:none\" points=\"12794,1423.18 12794,1423.18 12867.3,1423.18 12794,1423.18 \"/>\n",
       "<path clip-path=\"url(#clip182)\" d=\"M12867.3 1423.18 L12867.3 1423.18 L12940.5 1423.18 L12940.5 1423.18 L12867.3 1423.18 L12867.3 1423.18  Z\" fill=\"#009af9\" fill-rule=\"evenodd\" fill-opacity=\"1\"/>\n",
       "<polyline clip-path=\"url(#clip182)\" style=\"stroke:#000000; stroke-linecap:round; stroke-linejoin:round; stroke-width:4; stroke-opacity:1; fill:none\" points=\"12867.3,1423.18 12867.3,1423.18 12940.5,1423.18 12867.3,1423.18 \"/>\n",
       "<path clip-path=\"url(#clip182)\" d=\"M12940.5 1423.18 L12940.5 1423.18 L13013.8 1423.18 L13013.8 1423.18 L12940.5 1423.18 L12940.5 1423.18  Z\" fill=\"#009af9\" fill-rule=\"evenodd\" fill-opacity=\"1\"/>\n",
       "<polyline clip-path=\"url(#clip182)\" style=\"stroke:#000000; stroke-linecap:round; stroke-linejoin:round; stroke-width:4; stroke-opacity:1; fill:none\" points=\"12940.5,1423.18 12940.5,1423.18 13013.8,1423.18 12940.5,1423.18 \"/>\n",
       "<path clip-path=\"url(#clip182)\" d=\"M13013.8 1423.18 L13013.8 1423.18 L13087.1 1423.18 L13087.1 1423.18 L13013.8 1423.18 L13013.8 1423.18  Z\" fill=\"#009af9\" fill-rule=\"evenodd\" fill-opacity=\"1\"/>\n",
       "<polyline clip-path=\"url(#clip182)\" style=\"stroke:#000000; stroke-linecap:round; stroke-linejoin:round; stroke-width:4; stroke-opacity:1; fill:none\" points=\"13013.8,1423.18 13013.8,1423.18 13087.1,1423.18 13013.8,1423.18 \"/>\n",
       "<path clip-path=\"url(#clip182)\" d=\"M13087.1 1423.18 L13087.1 1423.18 L13160.3 1423.18 L13160.3 1423.18 L13087.1 1423.18 L13087.1 1423.18  Z\" fill=\"#009af9\" fill-rule=\"evenodd\" fill-opacity=\"1\"/>\n",
       "<polyline clip-path=\"url(#clip182)\" style=\"stroke:#000000; stroke-linecap:round; stroke-linejoin:round; stroke-width:4; stroke-opacity:1; fill:none\" points=\"13087.1,1423.18 13087.1,1423.18 13160.3,1423.18 13087.1,1423.18 \"/>\n",
       "<path clip-path=\"url(#clip182)\" d=\"M13160.3 1423.18 L13160.3 1423.18 L13233.6 1423.18 L13233.6 1423.18 L13160.3 1423.18 L13160.3 1423.18  Z\" fill=\"#009af9\" fill-rule=\"evenodd\" fill-opacity=\"1\"/>\n",
       "<polyline clip-path=\"url(#clip182)\" style=\"stroke:#000000; stroke-linecap:round; stroke-linejoin:round; stroke-width:4; stroke-opacity:1; fill:none\" points=\"13160.3,1423.18 13160.3,1423.18 13233.6,1423.18 13160.3,1423.18 \"/>\n",
       "<path clip-path=\"url(#clip182)\" d=\"M13233.6 1423.18 L13233.6 1423.18 L13306.9 1423.18 L13306.9 1423.18 L13233.6 1423.18 L13233.6 1423.18  Z\" fill=\"#009af9\" fill-rule=\"evenodd\" fill-opacity=\"1\"/>\n",
       "<polyline clip-path=\"url(#clip182)\" style=\"stroke:#000000; stroke-linecap:round; stroke-linejoin:round; stroke-width:4; stroke-opacity:1; fill:none\" points=\"13233.6,1423.18 13233.6,1423.18 13306.9,1423.18 13233.6,1423.18 \"/>\n",
       "<path clip-path=\"url(#clip182)\" d=\"M13306.9 1423.18 L13306.9 1423.18 L13380.2 1423.18 L13380.2 1423.18 L13306.9 1423.18 L13306.9 1423.18  Z\" fill=\"#009af9\" fill-rule=\"evenodd\" fill-opacity=\"1\"/>\n",
       "<polyline clip-path=\"url(#clip182)\" style=\"stroke:#000000; stroke-linecap:round; stroke-linejoin:round; stroke-width:4; stroke-opacity:1; fill:none\" points=\"13306.9,1423.18 13306.9,1423.18 13380.2,1423.18 13306.9,1423.18 \"/>\n",
       "<path clip-path=\"url(#clip182)\" d=\"M13380.2 1423.18 L13380.2 1423.18 L13453.4 1423.18 L13453.4 1423.18 L13380.2 1423.18 L13380.2 1423.18  Z\" fill=\"#009af9\" fill-rule=\"evenodd\" fill-opacity=\"1\"/>\n",
       "<polyline clip-path=\"url(#clip182)\" style=\"stroke:#000000; stroke-linecap:round; stroke-linejoin:round; stroke-width:4; stroke-opacity:1; fill:none\" points=\"13380.2,1423.18 13380.2,1423.18 13453.4,1423.18 13380.2,1423.18 \"/>\n",
       "<path clip-path=\"url(#clip182)\" d=\"M13453.4 1423.18 L13453.4 1423.18 L13526.7 1423.18 L13526.7 1423.18 L13453.4 1423.18 L13453.4 1423.18  Z\" fill=\"#009af9\" fill-rule=\"evenodd\" fill-opacity=\"1\"/>\n",
       "<polyline clip-path=\"url(#clip182)\" style=\"stroke:#000000; stroke-linecap:round; stroke-linejoin:round; stroke-width:4; stroke-opacity:1; fill:none\" points=\"13453.4,1423.18 13453.4,1423.18 13526.7,1423.18 13453.4,1423.18 \"/>\n",
       "<path clip-path=\"url(#clip182)\" d=\"M13526.7 1423.18 L13526.7 1423.18 L13600 1423.18 L13600 1423.18 L13526.7 1423.18 L13526.7 1423.18  Z\" fill=\"#009af9\" fill-rule=\"evenodd\" fill-opacity=\"1\"/>\n",
       "<polyline clip-path=\"url(#clip182)\" style=\"stroke:#000000; stroke-linecap:round; stroke-linejoin:round; stroke-width:4; stroke-opacity:1; fill:none\" points=\"13526.7,1423.18 13526.7,1423.18 13600,1423.18 13526.7,1423.18 \"/>\n",
       "<path clip-path=\"url(#clip182)\" d=\"M13600 1423.18 L13600 1423.18 L13673.3 1423.18 L13673.3 1423.18 L13600 1423.18 L13600 1423.18  Z\" fill=\"#009af9\" fill-rule=\"evenodd\" fill-opacity=\"1\"/>\n",
       "<polyline clip-path=\"url(#clip182)\" style=\"stroke:#000000; stroke-linecap:round; stroke-linejoin:round; stroke-width:4; stroke-opacity:1; fill:none\" points=\"13600,1423.18 13600,1423.18 13673.3,1423.18 13600,1423.18 \"/>\n",
       "<path clip-path=\"url(#clip182)\" d=\"M13673.3 1423.18 L13673.3 1423.18 L13746.5 1423.18 L13746.5 1423.18 L13673.3 1423.18 L13673.3 1423.18  Z\" fill=\"#009af9\" fill-rule=\"evenodd\" fill-opacity=\"1\"/>\n",
       "<polyline clip-path=\"url(#clip182)\" style=\"stroke:#000000; stroke-linecap:round; stroke-linejoin:round; stroke-width:4; stroke-opacity:1; fill:none\" points=\"13673.3,1423.18 13673.3,1423.18 13746.5,1423.18 13673.3,1423.18 \"/>\n",
       "<path clip-path=\"url(#clip182)\" d=\"M13746.5 1423.18 L13746.5 1423.18 L13819.8 1423.18 L13819.8 1423.18 L13746.5 1423.18 L13746.5 1423.18  Z\" fill=\"#009af9\" fill-rule=\"evenodd\" fill-opacity=\"1\"/>\n",
       "<polyline clip-path=\"url(#clip182)\" style=\"stroke:#000000; stroke-linecap:round; stroke-linejoin:round; stroke-width:4; stroke-opacity:1; fill:none\" points=\"13746.5,1423.18 13746.5,1423.18 13819.8,1423.18 13746.5,1423.18 \"/>\n",
       "<path clip-path=\"url(#clip182)\" d=\"M13819.8 1423.18 L13819.8 1423.18 L13893.1 1423.18 L13893.1 1423.18 L13819.8 1423.18 L13819.8 1423.18  Z\" fill=\"#009af9\" fill-rule=\"evenodd\" fill-opacity=\"1\"/>\n",
       "<polyline clip-path=\"url(#clip182)\" style=\"stroke:#000000; stroke-linecap:round; stroke-linejoin:round; stroke-width:4; stroke-opacity:1; fill:none\" points=\"13819.8,1423.18 13819.8,1423.18 13893.1,1423.18 13819.8,1423.18 \"/>\n",
       "<path clip-path=\"url(#clip182)\" d=\"M13893.1 1423.18 L13893.1 1423.18 L13966.3 1423.18 L13966.3 1423.18 L13893.1 1423.18 L13893.1 1423.18  Z\" fill=\"#009af9\" fill-rule=\"evenodd\" fill-opacity=\"1\"/>\n",
       "<polyline clip-path=\"url(#clip182)\" style=\"stroke:#000000; stroke-linecap:round; stroke-linejoin:round; stroke-width:4; stroke-opacity:1; fill:none\" points=\"13893.1,1423.18 13893.1,1423.18 13966.3,1423.18 13893.1,1423.18 \"/>\n",
       "<path clip-path=\"url(#clip182)\" d=\"M13966.3 1423.18 L13966.3 1423.18 L14039.6 1423.18 L14039.6 1423.18 L13966.3 1423.18 L13966.3 1423.18  Z\" fill=\"#009af9\" fill-rule=\"evenodd\" fill-opacity=\"1\"/>\n",
       "<polyline clip-path=\"url(#clip182)\" style=\"stroke:#000000; stroke-linecap:round; stroke-linejoin:round; stroke-width:4; stroke-opacity:1; fill:none\" points=\"13966.3,1423.18 13966.3,1423.18 14039.6,1423.18 13966.3,1423.18 \"/>\n",
       "<path clip-path=\"url(#clip182)\" d=\"M14039.6 1423.18 L14039.6 1423.18 L14112.9 1423.18 L14112.9 1423.18 L14039.6 1423.18 L14039.6 1423.18  Z\" fill=\"#009af9\" fill-rule=\"evenodd\" fill-opacity=\"1\"/>\n",
       "<polyline clip-path=\"url(#clip182)\" style=\"stroke:#000000; stroke-linecap:round; stroke-linejoin:round; stroke-width:4; stroke-opacity:1; fill:none\" points=\"14039.6,1423.18 14039.6,1423.18 14112.9,1423.18 14039.6,1423.18 \"/>\n",
       "<path clip-path=\"url(#clip182)\" d=\"M14112.9 1423.18 L14112.9 1423.18 L14186.2 1423.18 L14186.2 1423.18 L14112.9 1423.18 L14112.9 1423.18  Z\" fill=\"#009af9\" fill-rule=\"evenodd\" fill-opacity=\"1\"/>\n",
       "<polyline clip-path=\"url(#clip182)\" style=\"stroke:#000000; stroke-linecap:round; stroke-linejoin:round; stroke-width:4; stroke-opacity:1; fill:none\" points=\"14112.9,1423.18 14112.9,1423.18 14186.2,1423.18 14112.9,1423.18 \"/>\n",
       "<path clip-path=\"url(#clip182)\" d=\"M14186.2 1423.18 L14186.2 1423.18 L14259.4 1423.18 L14259.4 1423.18 L14186.2 1423.18 L14186.2 1423.18  Z\" fill=\"#009af9\" fill-rule=\"evenodd\" fill-opacity=\"1\"/>\n",
       "<polyline clip-path=\"url(#clip182)\" style=\"stroke:#000000; stroke-linecap:round; stroke-linejoin:round; stroke-width:4; stroke-opacity:1; fill:none\" points=\"14186.2,1423.18 14186.2,1423.18 14259.4,1423.18 14186.2,1423.18 \"/>\n",
       "<path clip-path=\"url(#clip182)\" d=\"M14259.4 1423.18 L14259.4 1423.18 L14332.7 1423.18 L14332.7 1423.18 L14259.4 1423.18 L14259.4 1423.18  Z\" fill=\"#009af9\" fill-rule=\"evenodd\" fill-opacity=\"1\"/>\n",
       "<polyline clip-path=\"url(#clip182)\" style=\"stroke:#000000; stroke-linecap:round; stroke-linejoin:round; stroke-width:4; stroke-opacity:1; fill:none\" points=\"14259.4,1423.18 14259.4,1423.18 14332.7,1423.18 14259.4,1423.18 \"/>\n",
       "<path clip-path=\"url(#clip182)\" d=\"M14332.7 1423.18 L14332.7 1423.18 L14406 1423.18 L14406 1423.18 L14332.7 1423.18 L14332.7 1423.18  Z\" fill=\"#009af9\" fill-rule=\"evenodd\" fill-opacity=\"1\"/>\n",
       "<polyline clip-path=\"url(#clip182)\" style=\"stroke:#000000; stroke-linecap:round; stroke-linejoin:round; stroke-width:4; stroke-opacity:1; fill:none\" points=\"14332.7,1423.18 14332.7,1423.18 14406,1423.18 14332.7,1423.18 \"/>\n",
       "<path clip-path=\"url(#clip182)\" d=\"M14406 1423.18 L14406 1423.18 L14479.3 1423.18 L14479.3 1423.18 L14406 1423.18 L14406 1423.18  Z\" fill=\"#009af9\" fill-rule=\"evenodd\" fill-opacity=\"1\"/>\n",
       "<polyline clip-path=\"url(#clip182)\" style=\"stroke:#000000; stroke-linecap:round; stroke-linejoin:round; stroke-width:4; stroke-opacity:1; fill:none\" points=\"14406,1423.18 14406,1423.18 14479.3,1423.18 14406,1423.18 \"/>\n",
       "<path clip-path=\"url(#clip182)\" d=\"M14479.3 1423.18 L14479.3 1423.18 L14552.5 1423.18 L14552.5 1423.18 L14479.3 1423.18 L14479.3 1423.18  Z\" fill=\"#009af9\" fill-rule=\"evenodd\" fill-opacity=\"1\"/>\n",
       "<polyline clip-path=\"url(#clip182)\" style=\"stroke:#000000; stroke-linecap:round; stroke-linejoin:round; stroke-width:4; stroke-opacity:1; fill:none\" points=\"14479.3,1423.18 14479.3,1423.18 14552.5,1423.18 14479.3,1423.18 \"/>\n",
       "<path clip-path=\"url(#clip182)\" d=\"M14552.5 1423.18 L14552.5 1423.18 L14625.8 1423.18 L14625.8 1423.18 L14552.5 1423.18 L14552.5 1423.18  Z\" fill=\"#009af9\" fill-rule=\"evenodd\" fill-opacity=\"1\"/>\n",
       "<polyline clip-path=\"url(#clip182)\" style=\"stroke:#000000; stroke-linecap:round; stroke-linejoin:round; stroke-width:4; stroke-opacity:1; fill:none\" points=\"14552.5,1423.18 14552.5,1423.18 14625.8,1423.18 14552.5,1423.18 \"/>\n",
       "<path clip-path=\"url(#clip182)\" d=\"M14625.8 1423.18 L14625.8 1423.18 L14699.1 1423.18 L14699.1 1423.18 L14625.8 1423.18 L14625.8 1423.18  Z\" fill=\"#009af9\" fill-rule=\"evenodd\" fill-opacity=\"1\"/>\n",
       "<polyline clip-path=\"url(#clip182)\" style=\"stroke:#000000; stroke-linecap:round; stroke-linejoin:round; stroke-width:4; stroke-opacity:1; fill:none\" points=\"14625.8,1423.18 14625.8,1423.18 14699.1,1423.18 14625.8,1423.18 \"/>\n",
       "<path clip-path=\"url(#clip182)\" d=\"M14699.1 1423.18 L14699.1 1423.18 L14772.3 1423.18 L14772.3 1423.18 L14699.1 1423.18 L14699.1 1423.18  Z\" fill=\"#009af9\" fill-rule=\"evenodd\" fill-opacity=\"1\"/>\n",
       "<polyline clip-path=\"url(#clip182)\" style=\"stroke:#000000; stroke-linecap:round; stroke-linejoin:round; stroke-width:4; stroke-opacity:1; fill:none\" points=\"14699.1,1423.18 14699.1,1423.18 14772.3,1423.18 14699.1,1423.18 \"/>\n",
       "<path clip-path=\"url(#clip182)\" d=\"M14772.3 1423.18 L14772.3 1423.18 L14845.6 1423.18 L14845.6 1423.18 L14772.3 1423.18 L14772.3 1423.18  Z\" fill=\"#009af9\" fill-rule=\"evenodd\" fill-opacity=\"1\"/>\n",
       "<polyline clip-path=\"url(#clip182)\" style=\"stroke:#000000; stroke-linecap:round; stroke-linejoin:round; stroke-width:4; stroke-opacity:1; fill:none\" points=\"14772.3,1423.18 14772.3,1423.18 14845.6,1423.18 14772.3,1423.18 \"/>\n",
       "<path clip-path=\"url(#clip182)\" d=\"M14845.6 1423.18 L14845.6 1423.18 L14918.9 1423.18 L14918.9 1423.18 L14845.6 1423.18 L14845.6 1423.18  Z\" fill=\"#009af9\" fill-rule=\"evenodd\" fill-opacity=\"1\"/>\n",
       "<polyline clip-path=\"url(#clip182)\" style=\"stroke:#000000; stroke-linecap:round; stroke-linejoin:round; stroke-width:4; stroke-opacity:1; fill:none\" points=\"14845.6,1423.18 14845.6,1423.18 14918.9,1423.18 14845.6,1423.18 \"/>\n",
       "<path clip-path=\"url(#clip182)\" d=\"M14918.9 1423.18 L14918.9 1423.18 L14992.2 1423.18 L14992.2 1423.18 L14918.9 1423.18 L14918.9 1423.18  Z\" fill=\"#009af9\" fill-rule=\"evenodd\" fill-opacity=\"1\"/>\n",
       "<polyline clip-path=\"url(#clip182)\" style=\"stroke:#000000; stroke-linecap:round; stroke-linejoin:round; stroke-width:4; stroke-opacity:1; fill:none\" points=\"14918.9,1423.18 14918.9,1423.18 14992.2,1423.18 14918.9,1423.18 \"/>\n",
       "<path clip-path=\"url(#clip182)\" d=\"M14992.2 1423.18 L14992.2 1423.18 L15065.4 1423.18 L15065.4 1423.18 L14992.2 1423.18 L14992.2 1423.18  Z\" fill=\"#009af9\" fill-rule=\"evenodd\" fill-opacity=\"1\"/>\n",
       "<polyline clip-path=\"url(#clip182)\" style=\"stroke:#000000; stroke-linecap:round; stroke-linejoin:round; stroke-width:4; stroke-opacity:1; fill:none\" points=\"14992.2,1423.18 14992.2,1423.18 15065.4,1423.18 14992.2,1423.18 \"/>\n",
       "<path clip-path=\"url(#clip182)\" d=\"M15065.4 1423.18 L15065.4 1423.18 L15138.7 1423.18 L15138.7 1423.18 L15065.4 1423.18 L15065.4 1423.18  Z\" fill=\"#009af9\" fill-rule=\"evenodd\" fill-opacity=\"1\"/>\n",
       "<polyline clip-path=\"url(#clip182)\" style=\"stroke:#000000; stroke-linecap:round; stroke-linejoin:round; stroke-width:4; stroke-opacity:1; fill:none\" points=\"15065.4,1423.18 15065.4,1423.18 15138.7,1423.18 15065.4,1423.18 \"/>\n",
       "<path clip-path=\"url(#clip182)\" d=\"M15138.7 1423.18 L15138.7 1423.18 L15212 1423.18 L15212 1423.18 L15138.7 1423.18 L15138.7 1423.18  Z\" fill=\"#009af9\" fill-rule=\"evenodd\" fill-opacity=\"1\"/>\n",
       "<polyline clip-path=\"url(#clip182)\" style=\"stroke:#000000; stroke-linecap:round; stroke-linejoin:round; stroke-width:4; stroke-opacity:1; fill:none\" points=\"15138.7,1423.18 15138.7,1423.18 15212,1423.18 15138.7,1423.18 \"/>\n",
       "<path clip-path=\"url(#clip182)\" d=\"M15212 1423.18 L15212 1423.18 L15285.3 1423.18 L15285.3 1423.18 L15212 1423.18 L15212 1423.18  Z\" fill=\"#009af9\" fill-rule=\"evenodd\" fill-opacity=\"1\"/>\n",
       "<polyline clip-path=\"url(#clip182)\" style=\"stroke:#000000; stroke-linecap:round; stroke-linejoin:round; stroke-width:4; stroke-opacity:1; fill:none\" points=\"15212,1423.18 15212,1423.18 15285.3,1423.18 15212,1423.18 \"/>\n",
       "<path clip-path=\"url(#clip182)\" d=\"M15285.3 1423.18 L15285.3 1423.18 L15358.5 1423.18 L15358.5 1423.18 L15285.3 1423.18 L15285.3 1423.18  Z\" fill=\"#009af9\" fill-rule=\"evenodd\" fill-opacity=\"1\"/>\n",
       "<polyline clip-path=\"url(#clip182)\" style=\"stroke:#000000; stroke-linecap:round; stroke-linejoin:round; stroke-width:4; stroke-opacity:1; fill:none\" points=\"15285.3,1423.18 15285.3,1423.18 15358.5,1423.18 15285.3,1423.18 \"/>\n",
       "<path clip-path=\"url(#clip182)\" d=\"M15358.5 1423.18 L15358.5 1423.18 L15431.8 1423.18 L15431.8 1423.18 L15358.5 1423.18 L15358.5 1423.18  Z\" fill=\"#009af9\" fill-rule=\"evenodd\" fill-opacity=\"1\"/>\n",
       "<polyline clip-path=\"url(#clip182)\" style=\"stroke:#000000; stroke-linecap:round; stroke-linejoin:round; stroke-width:4; stroke-opacity:1; fill:none\" points=\"15358.5,1423.18 15358.5,1423.18 15431.8,1423.18 15358.5,1423.18 \"/>\n",
       "<path clip-path=\"url(#clip182)\" d=\"M15431.8 1423.18 L15431.8 1423.18 L15505.1 1423.18 L15505.1 1423.18 L15431.8 1423.18 L15431.8 1423.18  Z\" fill=\"#009af9\" fill-rule=\"evenodd\" fill-opacity=\"1\"/>\n",
       "<polyline clip-path=\"url(#clip182)\" style=\"stroke:#000000; stroke-linecap:round; stroke-linejoin:round; stroke-width:4; stroke-opacity:1; fill:none\" points=\"15431.8,1423.18 15431.8,1423.18 15505.1,1423.18 15431.8,1423.18 \"/>\n",
       "<path clip-path=\"url(#clip182)\" d=\"M15505.1 1423.18 L15505.1 1423.18 L15578.3 1423.18 L15578.3 1423.18 L15505.1 1423.18 L15505.1 1423.18  Z\" fill=\"#009af9\" fill-rule=\"evenodd\" fill-opacity=\"1\"/>\n",
       "<polyline clip-path=\"url(#clip182)\" style=\"stroke:#000000; stroke-linecap:round; stroke-linejoin:round; stroke-width:4; stroke-opacity:1; fill:none\" points=\"15505.1,1423.18 15505.1,1423.18 15578.3,1423.18 15505.1,1423.18 \"/>\n",
       "<path clip-path=\"url(#clip182)\" d=\"M15578.3 1423.18 L15578.3 1423.18 L15651.6 1423.18 L15651.6 1423.18 L15578.3 1423.18 L15578.3 1423.18  Z\" fill=\"#009af9\" fill-rule=\"evenodd\" fill-opacity=\"1\"/>\n",
       "<polyline clip-path=\"url(#clip182)\" style=\"stroke:#000000; stroke-linecap:round; stroke-linejoin:round; stroke-width:4; stroke-opacity:1; fill:none\" points=\"15578.3,1423.18 15578.3,1423.18 15651.6,1423.18 15578.3,1423.18 \"/>\n",
       "<path clip-path=\"url(#clip182)\" d=\"M15651.6 1423.18 L15651.6 1423.18 L15724.9 1423.18 L15724.9 1423.18 L15651.6 1423.18 L15651.6 1423.18  Z\" fill=\"#009af9\" fill-rule=\"evenodd\" fill-opacity=\"1\"/>\n",
       "<polyline clip-path=\"url(#clip182)\" style=\"stroke:#000000; stroke-linecap:round; stroke-linejoin:round; stroke-width:4; stroke-opacity:1; fill:none\" points=\"15651.6,1423.18 15651.6,1423.18 15724.9,1423.18 15651.6,1423.18 \"/>\n",
       "<path clip-path=\"url(#clip182)\" d=\"M15724.9 1423.18 L15724.9 1423.18 L15798.2 1423.18 L15798.2 1423.18 L15724.9 1423.18 L15724.9 1423.18  Z\" fill=\"#009af9\" fill-rule=\"evenodd\" fill-opacity=\"1\"/>\n",
       "<polyline clip-path=\"url(#clip182)\" style=\"stroke:#000000; stroke-linecap:round; stroke-linejoin:round; stroke-width:4; stroke-opacity:1; fill:none\" points=\"15724.9,1423.18 15724.9,1423.18 15798.2,1423.18 15724.9,1423.18 \"/>\n",
       "<path clip-path=\"url(#clip182)\" d=\"M15798.2 1423.18 L15798.2 1423.18 L15871.4 1423.18 L15871.4 1423.18 L15798.2 1423.18 L15798.2 1423.18  Z\" fill=\"#009af9\" fill-rule=\"evenodd\" fill-opacity=\"1\"/>\n",
       "<polyline clip-path=\"url(#clip182)\" style=\"stroke:#000000; stroke-linecap:round; stroke-linejoin:round; stroke-width:4; stroke-opacity:1; fill:none\" points=\"15798.2,1423.18 15798.2,1423.18 15871.4,1423.18 15798.2,1423.18 \"/>\n",
       "<path clip-path=\"url(#clip182)\" d=\"M15871.4 1423.18 L15871.4 1423.18 L15944.7 1423.18 L15944.7 1423.18 L15871.4 1423.18 L15871.4 1423.18  Z\" fill=\"#009af9\" fill-rule=\"evenodd\" fill-opacity=\"1\"/>\n",
       "<polyline clip-path=\"url(#clip182)\" style=\"stroke:#000000; stroke-linecap:round; stroke-linejoin:round; stroke-width:4; stroke-opacity:1; fill:none\" points=\"15871.4,1423.18 15871.4,1423.18 15944.7,1423.18 15871.4,1423.18 \"/>\n",
       "<path clip-path=\"url(#clip182)\" d=\"M15944.7 1423.18 L15944.7 1423.18 L16018 1423.18 L16018 1423.18 L15944.7 1423.18 L15944.7 1423.18  Z\" fill=\"#009af9\" fill-rule=\"evenodd\" fill-opacity=\"1\"/>\n",
       "<polyline clip-path=\"url(#clip182)\" style=\"stroke:#000000; stroke-linecap:round; stroke-linejoin:round; stroke-width:4; stroke-opacity:1; fill:none\" points=\"15944.7,1423.18 15944.7,1423.18 16018,1423.18 15944.7,1423.18 \"/>\n",
       "<path clip-path=\"url(#clip182)\" d=\"M16018 1423.18 L16018 1423.18 L16091.2 1423.18 L16091.2 1423.18 L16018 1423.18 L16018 1423.18  Z\" fill=\"#009af9\" fill-rule=\"evenodd\" fill-opacity=\"1\"/>\n",
       "<polyline clip-path=\"url(#clip182)\" style=\"stroke:#000000; stroke-linecap:round; stroke-linejoin:round; stroke-width:4; stroke-opacity:1; fill:none\" points=\"16018,1423.18 16018,1423.18 16091.2,1423.18 16018,1423.18 \"/>\n",
       "<path clip-path=\"url(#clip182)\" d=\"M16091.2 1423.18 L16091.2 1423.18 L16164.5 1423.18 L16164.5 1423.18 L16091.2 1423.18 L16091.2 1423.18  Z\" fill=\"#009af9\" fill-rule=\"evenodd\" fill-opacity=\"1\"/>\n",
       "<polyline clip-path=\"url(#clip182)\" style=\"stroke:#000000; stroke-linecap:round; stroke-linejoin:round; stroke-width:4; stroke-opacity:1; fill:none\" points=\"16091.2,1423.18 16091.2,1423.18 16164.5,1423.18 16091.2,1423.18 \"/>\n",
       "<path clip-path=\"url(#clip182)\" d=\"M16164.5 1423.18 L16164.5 1423.18 L16237.8 1423.18 L16237.8 1423.18 L16164.5 1423.18 L16164.5 1423.18  Z\" fill=\"#009af9\" fill-rule=\"evenodd\" fill-opacity=\"1\"/>\n",
       "<polyline clip-path=\"url(#clip182)\" style=\"stroke:#000000; stroke-linecap:round; stroke-linejoin:round; stroke-width:4; stroke-opacity:1; fill:none\" points=\"16164.5,1423.18 16164.5,1423.18 16237.8,1423.18 16164.5,1423.18 \"/>\n",
       "<path clip-path=\"url(#clip182)\" d=\"M16237.8 1423.18 L16237.8 1423.18 L16311.1 1423.18 L16311.1 1423.18 L16237.8 1423.18 L16237.8 1423.18  Z\" fill=\"#009af9\" fill-rule=\"evenodd\" fill-opacity=\"1\"/>\n",
       "<polyline clip-path=\"url(#clip182)\" style=\"stroke:#000000; stroke-linecap:round; stroke-linejoin:round; stroke-width:4; stroke-opacity:1; fill:none\" points=\"16237.8,1423.18 16237.8,1423.18 16311.1,1423.18 16237.8,1423.18 \"/>\n",
       "<path clip-path=\"url(#clip182)\" d=\"M16311.1 1423.18 L16311.1 1423.18 L16384.3 1423.18 L16384.3 1423.18 L16311.1 1423.18 L16311.1 1423.18  Z\" fill=\"#009af9\" fill-rule=\"evenodd\" fill-opacity=\"1\"/>\n",
       "<polyline clip-path=\"url(#clip182)\" style=\"stroke:#000000; stroke-linecap:round; stroke-linejoin:round; stroke-width:4; stroke-opacity:1; fill:none\" points=\"16311.1,1423.18 16311.1,1423.18 16384.3,1423.18 16311.1,1423.18 \"/>\n",
       "<path clip-path=\"url(#clip182)\" d=\"M16384.3 1423.18 L16384.3 1423.18 L16457.6 1423.18 L16457.6 1423.18 L16384.3 1423.18 L16384.3 1423.18  Z\" fill=\"#009af9\" fill-rule=\"evenodd\" fill-opacity=\"1\"/>\n",
       "<polyline clip-path=\"url(#clip182)\" style=\"stroke:#000000; stroke-linecap:round; stroke-linejoin:round; stroke-width:4; stroke-opacity:1; fill:none\" points=\"16384.3,1423.18 16384.3,1423.18 16457.6,1423.18 16384.3,1423.18 \"/>\n",
       "<path clip-path=\"url(#clip182)\" d=\"M16457.6 1423.18 L16457.6 1423.18 L16530.9 1423.18 L16530.9 1423.18 L16457.6 1423.18 L16457.6 1423.18  Z\" fill=\"#009af9\" fill-rule=\"evenodd\" fill-opacity=\"1\"/>\n",
       "<polyline clip-path=\"url(#clip182)\" style=\"stroke:#000000; stroke-linecap:round; stroke-linejoin:round; stroke-width:4; stroke-opacity:1; fill:none\" points=\"16457.6,1423.18 16457.6,1423.18 16530.9,1423.18 16457.6,1423.18 \"/>\n",
       "<path clip-path=\"url(#clip182)\" d=\"M16530.9 1423.18 L16530.9 1423.18 L16604.2 1423.18 L16604.2 1423.18 L16530.9 1423.18 L16530.9 1423.18  Z\" fill=\"#009af9\" fill-rule=\"evenodd\" fill-opacity=\"1\"/>\n",
       "<polyline clip-path=\"url(#clip182)\" style=\"stroke:#000000; stroke-linecap:round; stroke-linejoin:round; stroke-width:4; stroke-opacity:1; fill:none\" points=\"16530.9,1423.18 16530.9,1423.18 16604.2,1423.18 16530.9,1423.18 \"/>\n",
       "<path clip-path=\"url(#clip182)\" d=\"M16604.2 1423.18 L16604.2 1423.18 L16677.4 1423.18 L16677.4 1423.18 L16604.2 1423.18 L16604.2 1423.18  Z\" fill=\"#009af9\" fill-rule=\"evenodd\" fill-opacity=\"1\"/>\n",
       "<polyline clip-path=\"url(#clip182)\" style=\"stroke:#000000; stroke-linecap:round; stroke-linejoin:round; stroke-width:4; stroke-opacity:1; fill:none\" points=\"16604.2,1423.18 16604.2,1423.18 16677.4,1423.18 16604.2,1423.18 \"/>\n",
       "<path clip-path=\"url(#clip182)\" d=\"M16677.4 1423.18 L16677.4 1423.18 L16750.7 1423.18 L16750.7 1423.18 L16677.4 1423.18 L16677.4 1423.18  Z\" fill=\"#009af9\" fill-rule=\"evenodd\" fill-opacity=\"1\"/>\n",
       "<polyline clip-path=\"url(#clip182)\" style=\"stroke:#000000; stroke-linecap:round; stroke-linejoin:round; stroke-width:4; stroke-opacity:1; fill:none\" points=\"16677.4,1423.18 16677.4,1423.18 16750.7,1423.18 16677.4,1423.18 \"/>\n",
       "<path clip-path=\"url(#clip182)\" d=\"M16750.7 1423.18 L16750.7 1423.18 L16824 1423.18 L16824 1423.18 L16750.7 1423.18 L16750.7 1423.18  Z\" fill=\"#009af9\" fill-rule=\"evenodd\" fill-opacity=\"1\"/>\n",
       "<polyline clip-path=\"url(#clip182)\" style=\"stroke:#000000; stroke-linecap:round; stroke-linejoin:round; stroke-width:4; stroke-opacity:1; fill:none\" points=\"16750.7,1423.18 16750.7,1423.18 16824,1423.18 16750.7,1423.18 \"/>\n",
       "<path clip-path=\"url(#clip182)\" d=\"M16824 1423.18 L16824 1423.18 L16897.2 1423.18 L16897.2 1423.18 L16824 1423.18 L16824 1423.18  Z\" fill=\"#009af9\" fill-rule=\"evenodd\" fill-opacity=\"1\"/>\n",
       "<polyline clip-path=\"url(#clip182)\" style=\"stroke:#000000; stroke-linecap:round; stroke-linejoin:round; stroke-width:4; stroke-opacity:1; fill:none\" points=\"16824,1423.18 16824,1423.18 16897.2,1423.18 16824,1423.18 \"/>\n",
       "<path clip-path=\"url(#clip182)\" d=\"M16897.2 1423.18 L16897.2 1423.18 L16970.5 1423.18 L16970.5 1423.18 L16897.2 1423.18 L16897.2 1423.18  Z\" fill=\"#009af9\" fill-rule=\"evenodd\" fill-opacity=\"1\"/>\n",
       "<polyline clip-path=\"url(#clip182)\" style=\"stroke:#000000; stroke-linecap:round; stroke-linejoin:round; stroke-width:4; stroke-opacity:1; fill:none\" points=\"16897.2,1423.18 16897.2,1423.18 16970.5,1423.18 16897.2,1423.18 \"/>\n",
       "<path clip-path=\"url(#clip182)\" d=\"M16970.5 1423.18 L16970.5 1423.18 L17043.8 1423.18 L17043.8 1423.18 L16970.5 1423.18 L16970.5 1423.18  Z\" fill=\"#009af9\" fill-rule=\"evenodd\" fill-opacity=\"1\"/>\n",
       "<polyline clip-path=\"url(#clip182)\" style=\"stroke:#000000; stroke-linecap:round; stroke-linejoin:round; stroke-width:4; stroke-opacity:1; fill:none\" points=\"16970.5,1423.18 16970.5,1423.18 17043.8,1423.18 16970.5,1423.18 \"/>\n",
       "<path clip-path=\"url(#clip182)\" d=\"M17043.8 1423.18 L17043.8 1423.18 L17117.1 1423.18 L17117.1 1423.18 L17043.8 1423.18 L17043.8 1423.18  Z\" fill=\"#009af9\" fill-rule=\"evenodd\" fill-opacity=\"1\"/>\n",
       "<polyline clip-path=\"url(#clip182)\" style=\"stroke:#000000; stroke-linecap:round; stroke-linejoin:round; stroke-width:4; stroke-opacity:1; fill:none\" points=\"17043.8,1423.18 17043.8,1423.18 17117.1,1423.18 17043.8,1423.18 \"/>\n",
       "<path clip-path=\"url(#clip182)\" d=\"M17117.1 1423.18 L17117.1 1423.18 L17190.3 1423.18 L17190.3 1423.18 L17117.1 1423.18 L17117.1 1423.18  Z\" fill=\"#009af9\" fill-rule=\"evenodd\" fill-opacity=\"1\"/>\n",
       "<polyline clip-path=\"url(#clip182)\" style=\"stroke:#000000; stroke-linecap:round; stroke-linejoin:round; stroke-width:4; stroke-opacity:1; fill:none\" points=\"17117.1,1423.18 17117.1,1423.18 17190.3,1423.18 17117.1,1423.18 \"/>\n",
       "<path clip-path=\"url(#clip182)\" d=\"M17190.3 1423.18 L17190.3 1423.18 L17263.6 1423.18 L17263.6 1423.18 L17190.3 1423.18 L17190.3 1423.18  Z\" fill=\"#009af9\" fill-rule=\"evenodd\" fill-opacity=\"1\"/>\n",
       "<polyline clip-path=\"url(#clip182)\" style=\"stroke:#000000; stroke-linecap:round; stroke-linejoin:round; stroke-width:4; stroke-opacity:1; fill:none\" points=\"17190.3,1423.18 17190.3,1423.18 17263.6,1423.18 17190.3,1423.18 \"/>\n",
       "<path clip-path=\"url(#clip182)\" d=\"M17263.6 1423.18 L17263.6 1423.18 L17336.9 1423.18 L17336.9 1423.18 L17263.6 1423.18 L17263.6 1423.18  Z\" fill=\"#009af9\" fill-rule=\"evenodd\" fill-opacity=\"1\"/>\n",
       "<polyline clip-path=\"url(#clip182)\" style=\"stroke:#000000; stroke-linecap:round; stroke-linejoin:round; stroke-width:4; stroke-opacity:1; fill:none\" points=\"17263.6,1423.18 17263.6,1423.18 17336.9,1423.18 17263.6,1423.18 \"/>\n",
       "<path clip-path=\"url(#clip182)\" d=\"M17336.9 1423.18 L17336.9 1423.18 L17410.2 1423.18 L17410.2 1423.18 L17336.9 1423.18 L17336.9 1423.18  Z\" fill=\"#009af9\" fill-rule=\"evenodd\" fill-opacity=\"1\"/>\n",
       "<polyline clip-path=\"url(#clip182)\" style=\"stroke:#000000; stroke-linecap:round; stroke-linejoin:round; stroke-width:4; stroke-opacity:1; fill:none\" points=\"17336.9,1423.18 17336.9,1423.18 17410.2,1423.18 17336.9,1423.18 \"/>\n",
       "<path clip-path=\"url(#clip182)\" d=\"M17410.2 1423.18 L17410.2 1423.18 L17483.4 1423.18 L17483.4 1423.18 L17410.2 1423.18 L17410.2 1423.18  Z\" fill=\"#009af9\" fill-rule=\"evenodd\" fill-opacity=\"1\"/>\n",
       "<polyline clip-path=\"url(#clip182)\" style=\"stroke:#000000; stroke-linecap:round; stroke-linejoin:round; stroke-width:4; stroke-opacity:1; fill:none\" points=\"17410.2,1423.18 17410.2,1423.18 17483.4,1423.18 17410.2,1423.18 \"/>\n",
       "<path clip-path=\"url(#clip182)\" d=\"M17483.4 1423.18 L17483.4 1423.18 L17556.7 1423.18 L17556.7 1423.18 L17483.4 1423.18 L17483.4 1423.18  Z\" fill=\"#009af9\" fill-rule=\"evenodd\" fill-opacity=\"1\"/>\n",
       "<polyline clip-path=\"url(#clip182)\" style=\"stroke:#000000; stroke-linecap:round; stroke-linejoin:round; stroke-width:4; stroke-opacity:1; fill:none\" points=\"17483.4,1423.18 17483.4,1423.18 17556.7,1423.18 17483.4,1423.18 \"/>\n",
       "<path clip-path=\"url(#clip182)\" d=\"M17556.7 1423.18 L17556.7 1423.18 L17630 1423.18 L17630 1423.18 L17556.7 1423.18 L17556.7 1423.18  Z\" fill=\"#009af9\" fill-rule=\"evenodd\" fill-opacity=\"1\"/>\n",
       "<polyline clip-path=\"url(#clip182)\" style=\"stroke:#000000; stroke-linecap:round; stroke-linejoin:round; stroke-width:4; stroke-opacity:1; fill:none\" points=\"17556.7,1423.18 17556.7,1423.18 17630,1423.18 17556.7,1423.18 \"/>\n",
       "<path clip-path=\"url(#clip182)\" d=\"M17630 1423.18 L17630 1423.18 L17703.2 1423.18 L17703.2 1423.18 L17630 1423.18 L17630 1423.18  Z\" fill=\"#009af9\" fill-rule=\"evenodd\" fill-opacity=\"1\"/>\n",
       "<polyline clip-path=\"url(#clip182)\" style=\"stroke:#000000; stroke-linecap:round; stroke-linejoin:round; stroke-width:4; stroke-opacity:1; fill:none\" points=\"17630,1423.18 17630,1423.18 17703.2,1423.18 17630,1423.18 \"/>\n",
       "<path clip-path=\"url(#clip182)\" d=\"M17703.2 1423.18 L17703.2 1423.18 L17776.5 1423.18 L17776.5 1423.18 L17703.2 1423.18 L17703.2 1423.18  Z\" fill=\"#009af9\" fill-rule=\"evenodd\" fill-opacity=\"1\"/>\n",
       "<polyline clip-path=\"url(#clip182)\" style=\"stroke:#000000; stroke-linecap:round; stroke-linejoin:round; stroke-width:4; stroke-opacity:1; fill:none\" points=\"17703.2,1423.18 17703.2,1423.18 17776.5,1423.18 17703.2,1423.18 \"/>\n",
       "<path clip-path=\"url(#clip182)\" d=\"M17776.5 1423.18 L17776.5 1423.18 L17849.8 1423.18 L17849.8 1423.18 L17776.5 1423.18 L17776.5 1423.18  Z\" fill=\"#009af9\" fill-rule=\"evenodd\" fill-opacity=\"1\"/>\n",
       "<polyline clip-path=\"url(#clip182)\" style=\"stroke:#000000; stroke-linecap:round; stroke-linejoin:round; stroke-width:4; stroke-opacity:1; fill:none\" points=\"17776.5,1423.18 17776.5,1423.18 17849.8,1423.18 17776.5,1423.18 \"/>\n",
       "<path clip-path=\"url(#clip182)\" d=\"M17849.8 1423.18 L17849.8 1423.18 L17923.1 1423.18 L17923.1 1423.18 L17849.8 1423.18 L17849.8 1423.18  Z\" fill=\"#009af9\" fill-rule=\"evenodd\" fill-opacity=\"1\"/>\n",
       "<polyline clip-path=\"url(#clip182)\" style=\"stroke:#000000; stroke-linecap:round; stroke-linejoin:round; stroke-width:4; stroke-opacity:1; fill:none\" points=\"17849.8,1423.18 17849.8,1423.18 17923.1,1423.18 17849.8,1423.18 \"/>\n",
       "<path clip-path=\"url(#clip182)\" d=\"M17923.1 1423.18 L17923.1 1423.18 L17996.3 1423.18 L17996.3 1423.18 L17923.1 1423.18 L17923.1 1423.18  Z\" fill=\"#009af9\" fill-rule=\"evenodd\" fill-opacity=\"1\"/>\n",
       "<polyline clip-path=\"url(#clip182)\" style=\"stroke:#000000; stroke-linecap:round; stroke-linejoin:round; stroke-width:4; stroke-opacity:1; fill:none\" points=\"17923.1,1423.18 17923.1,1423.18 17996.3,1423.18 17923.1,1423.18 \"/>\n",
       "<path clip-path=\"url(#clip182)\" d=\"M17996.3 1423.18 L17996.3 1423.18 L18069.6 1423.18 L18069.6 1423.18 L17996.3 1423.18 L17996.3 1423.18  Z\" fill=\"#009af9\" fill-rule=\"evenodd\" fill-opacity=\"1\"/>\n",
       "<polyline clip-path=\"url(#clip182)\" style=\"stroke:#000000; stroke-linecap:round; stroke-linejoin:round; stroke-width:4; stroke-opacity:1; fill:none\" points=\"17996.3,1423.18 17996.3,1423.18 18069.6,1423.18 17996.3,1423.18 \"/>\n",
       "<path clip-path=\"url(#clip182)\" d=\"M18069.6 1423.18 L18069.6 1423.18 L18142.9 1423.18 L18142.9 1423.18 L18069.6 1423.18 L18069.6 1423.18  Z\" fill=\"#009af9\" fill-rule=\"evenodd\" fill-opacity=\"1\"/>\n",
       "<polyline clip-path=\"url(#clip182)\" style=\"stroke:#000000; stroke-linecap:round; stroke-linejoin:round; stroke-width:4; stroke-opacity:1; fill:none\" points=\"18069.6,1423.18 18069.6,1423.18 18142.9,1423.18 18069.6,1423.18 \"/>\n",
       "<path clip-path=\"url(#clip182)\" d=\"M18142.9 1423.18 L18142.9 1423.18 L18216.2 1423.18 L18216.2 1423.18 L18142.9 1423.18 L18142.9 1423.18  Z\" fill=\"#009af9\" fill-rule=\"evenodd\" fill-opacity=\"1\"/>\n",
       "<polyline clip-path=\"url(#clip182)\" style=\"stroke:#000000; stroke-linecap:round; stroke-linejoin:round; stroke-width:4; stroke-opacity:1; fill:none\" points=\"18142.9,1423.18 18142.9,1423.18 18216.2,1423.18 18142.9,1423.18 \"/>\n",
       "<path clip-path=\"url(#clip182)\" d=\"M18216.2 1423.18 L18216.2 1423.18 L18289.4 1423.18 L18289.4 1423.18 L18216.2 1423.18 L18216.2 1423.18  Z\" fill=\"#009af9\" fill-rule=\"evenodd\" fill-opacity=\"1\"/>\n",
       "<polyline clip-path=\"url(#clip182)\" style=\"stroke:#000000; stroke-linecap:round; stroke-linejoin:round; stroke-width:4; stroke-opacity:1; fill:none\" points=\"18216.2,1423.18 18216.2,1423.18 18289.4,1423.18 18216.2,1423.18 \"/>\n",
       "<path clip-path=\"url(#clip182)\" d=\"M18289.4 1423.18 L18289.4 1423.18 L18362.7 1423.18 L18362.7 1423.18 L18289.4 1423.18 L18289.4 1423.18  Z\" fill=\"#009af9\" fill-rule=\"evenodd\" fill-opacity=\"1\"/>\n",
       "<polyline clip-path=\"url(#clip182)\" style=\"stroke:#000000; stroke-linecap:round; stroke-linejoin:round; stroke-width:4; stroke-opacity:1; fill:none\" points=\"18289.4,1423.18 18289.4,1423.18 18362.7,1423.18 18289.4,1423.18 \"/>\n",
       "<path clip-path=\"url(#clip182)\" d=\"M18362.7 1423.18 L18362.7 1423.18 L18436 1423.18 L18436 1423.18 L18362.7 1423.18 L18362.7 1423.18  Z\" fill=\"#009af9\" fill-rule=\"evenodd\" fill-opacity=\"1\"/>\n",
       "<polyline clip-path=\"url(#clip182)\" style=\"stroke:#000000; stroke-linecap:round; stroke-linejoin:round; stroke-width:4; stroke-opacity:1; fill:none\" points=\"18362.7,1423.18 18362.7,1423.18 18436,1423.18 18362.7,1423.18 \"/>\n",
       "<path clip-path=\"url(#clip182)\" d=\"M18436 1423.18 L18436 1423.18 L18509.2 1423.18 L18509.2 1423.18 L18436 1423.18 L18436 1423.18  Z\" fill=\"#009af9\" fill-rule=\"evenodd\" fill-opacity=\"1\"/>\n",
       "<polyline clip-path=\"url(#clip182)\" style=\"stroke:#000000; stroke-linecap:round; stroke-linejoin:round; stroke-width:4; stroke-opacity:1; fill:none\" points=\"18436,1423.18 18436,1423.18 18509.2,1423.18 18436,1423.18 \"/>\n",
       "<path clip-path=\"url(#clip182)\" d=\"M18509.2 1423.18 L18509.2 1423.18 L18582.5 1423.18 L18582.5 1423.18 L18509.2 1423.18 L18509.2 1423.18  Z\" fill=\"#009af9\" fill-rule=\"evenodd\" fill-opacity=\"1\"/>\n",
       "<polyline clip-path=\"url(#clip182)\" style=\"stroke:#000000; stroke-linecap:round; stroke-linejoin:round; stroke-width:4; stroke-opacity:1; fill:none\" points=\"18509.2,1423.18 18509.2,1423.18 18582.5,1423.18 18509.2,1423.18 \"/>\n",
       "<path clip-path=\"url(#clip182)\" d=\"M18582.5 1423.18 L18582.5 1423.18 L18655.8 1423.18 L18655.8 1423.18 L18582.5 1423.18 L18582.5 1423.18  Z\" fill=\"#009af9\" fill-rule=\"evenodd\" fill-opacity=\"1\"/>\n",
       "<polyline clip-path=\"url(#clip182)\" style=\"stroke:#000000; stroke-linecap:round; stroke-linejoin:round; stroke-width:4; stroke-opacity:1; fill:none\" points=\"18582.5,1423.18 18582.5,1423.18 18655.8,1423.18 18582.5,1423.18 \"/>\n",
       "<path clip-path=\"url(#clip182)\" d=\"M18655.8 1423.18 L18655.8 1423.18 L18729.1 1423.18 L18729.1 1423.18 L18655.8 1423.18 L18655.8 1423.18  Z\" fill=\"#009af9\" fill-rule=\"evenodd\" fill-opacity=\"1\"/>\n",
       "<polyline clip-path=\"url(#clip182)\" style=\"stroke:#000000; stroke-linecap:round; stroke-linejoin:round; stroke-width:4; stroke-opacity:1; fill:none\" points=\"18655.8,1423.18 18655.8,1423.18 18729.1,1423.18 18655.8,1423.18 \"/>\n",
       "<path clip-path=\"url(#clip182)\" d=\"M18729.1 1423.18 L18729.1 1423.18 L18802.3 1423.18 L18802.3 1423.18 L18729.1 1423.18 L18729.1 1423.18  Z\" fill=\"#009af9\" fill-rule=\"evenodd\" fill-opacity=\"1\"/>\n",
       "<polyline clip-path=\"url(#clip182)\" style=\"stroke:#000000; stroke-linecap:round; stroke-linejoin:round; stroke-width:4; stroke-opacity:1; fill:none\" points=\"18729.1,1423.18 18729.1,1423.18 18802.3,1423.18 18729.1,1423.18 \"/>\n",
       "<path clip-path=\"url(#clip182)\" d=\"M18802.3 1423.18 L18802.3 1423.18 L18875.6 1423.18 L18875.6 1423.18 L18802.3 1423.18 L18802.3 1423.18  Z\" fill=\"#009af9\" fill-rule=\"evenodd\" fill-opacity=\"1\"/>\n",
       "<polyline clip-path=\"url(#clip182)\" style=\"stroke:#000000; stroke-linecap:round; stroke-linejoin:round; stroke-width:4; stroke-opacity:1; fill:none\" points=\"18802.3,1423.18 18802.3,1423.18 18875.6,1423.18 18802.3,1423.18 \"/>\n",
       "<path clip-path=\"url(#clip182)\" d=\"M18875.6 1423.18 L18875.6 1423.18 L18948.9 1423.18 L18948.9 1423.18 L18875.6 1423.18 L18875.6 1423.18  Z\" fill=\"#009af9\" fill-rule=\"evenodd\" fill-opacity=\"1\"/>\n",
       "<polyline clip-path=\"url(#clip182)\" style=\"stroke:#000000; stroke-linecap:round; stroke-linejoin:round; stroke-width:4; stroke-opacity:1; fill:none\" points=\"18875.6,1423.18 18875.6,1423.18 18948.9,1423.18 18875.6,1423.18 \"/>\n",
       "<path clip-path=\"url(#clip182)\" d=\"M18948.9 1423.18 L18948.9 1423.18 L19022.1 1423.18 L19022.1 1423.18 L18948.9 1423.18 L18948.9 1423.18  Z\" fill=\"#009af9\" fill-rule=\"evenodd\" fill-opacity=\"1\"/>\n",
       "<polyline clip-path=\"url(#clip182)\" style=\"stroke:#000000; stroke-linecap:round; stroke-linejoin:round; stroke-width:4; stroke-opacity:1; fill:none\" points=\"18948.9,1423.18 18948.9,1423.18 19022.1,1423.18 18948.9,1423.18 \"/>\n",
       "<path clip-path=\"url(#clip182)\" d=\"M19022.1 1423.18 L19022.1 1423.18 L19095.4 1423.18 L19095.4 1423.18 L19022.1 1423.18 L19022.1 1423.18  Z\" fill=\"#009af9\" fill-rule=\"evenodd\" fill-opacity=\"1\"/>\n",
       "<polyline clip-path=\"url(#clip182)\" style=\"stroke:#000000; stroke-linecap:round; stroke-linejoin:round; stroke-width:4; stroke-opacity:1; fill:none\" points=\"19022.1,1423.18 19022.1,1423.18 19095.4,1423.18 19022.1,1423.18 \"/>\n",
       "<path clip-path=\"url(#clip182)\" d=\"M19095.4 1423.18 L19095.4 1423.18 L19168.7 1423.18 L19168.7 1423.18 L19095.4 1423.18 L19095.4 1423.18  Z\" fill=\"#009af9\" fill-rule=\"evenodd\" fill-opacity=\"1\"/>\n",
       "<polyline clip-path=\"url(#clip182)\" style=\"stroke:#000000; stroke-linecap:round; stroke-linejoin:round; stroke-width:4; stroke-opacity:1; fill:none\" points=\"19095.4,1423.18 19095.4,1423.18 19168.7,1423.18 19095.4,1423.18 \"/>\n",
       "<path clip-path=\"url(#clip182)\" d=\"M19168.7 1423.18 L19168.7 1423.18 L19242 1423.18 L19242 1423.18 L19168.7 1423.18 L19168.7 1423.18  Z\" fill=\"#009af9\" fill-rule=\"evenodd\" fill-opacity=\"1\"/>\n",
       "<polyline clip-path=\"url(#clip182)\" style=\"stroke:#000000; stroke-linecap:round; stroke-linejoin:round; stroke-width:4; stroke-opacity:1; fill:none\" points=\"19168.7,1423.18 19168.7,1423.18 19242,1423.18 19168.7,1423.18 \"/>\n",
       "<path clip-path=\"url(#clip182)\" d=\"M19242 1423.18 L19242 1423.18 L19315.2 1423.18 L19315.2 1423.18 L19242 1423.18 L19242 1423.18  Z\" fill=\"#009af9\" fill-rule=\"evenodd\" fill-opacity=\"1\"/>\n",
       "<polyline clip-path=\"url(#clip182)\" style=\"stroke:#000000; stroke-linecap:round; stroke-linejoin:round; stroke-width:4; stroke-opacity:1; fill:none\" points=\"19242,1423.18 19242,1423.18 19315.2,1423.18 19242,1423.18 \"/>\n",
       "<path clip-path=\"url(#clip182)\" d=\"M19315.2 1423.18 L19315.2 1423.18 L19388.5 1423.18 L19388.5 1423.18 L19315.2 1423.18 L19315.2 1423.18  Z\" fill=\"#009af9\" fill-rule=\"evenodd\" fill-opacity=\"1\"/>\n",
       "<polyline clip-path=\"url(#clip182)\" style=\"stroke:#000000; stroke-linecap:round; stroke-linejoin:round; stroke-width:4; stroke-opacity:1; fill:none\" points=\"19315.2,1423.18 19315.2,1423.18 19388.5,1423.18 19315.2,1423.18 \"/>\n",
       "<path clip-path=\"url(#clip182)\" d=\"M19388.5 1423.18 L19388.5 1423.18 L19461.8 1423.18 L19461.8 1423.18 L19388.5 1423.18 L19388.5 1423.18  Z\" fill=\"#009af9\" fill-rule=\"evenodd\" fill-opacity=\"1\"/>\n",
       "<polyline clip-path=\"url(#clip182)\" style=\"stroke:#000000; stroke-linecap:round; stroke-linejoin:round; stroke-width:4; stroke-opacity:1; fill:none\" points=\"19388.5,1423.18 19388.5,1423.18 19461.8,1423.18 19388.5,1423.18 \"/>\n",
       "<path clip-path=\"url(#clip182)\" d=\"M19461.8 1423.18 L19461.8 1423.18 L19535.1 1423.18 L19535.1 1423.18 L19461.8 1423.18 L19461.8 1423.18  Z\" fill=\"#009af9\" fill-rule=\"evenodd\" fill-opacity=\"1\"/>\n",
       "<polyline clip-path=\"url(#clip182)\" style=\"stroke:#000000; stroke-linecap:round; stroke-linejoin:round; stroke-width:4; stroke-opacity:1; fill:none\" points=\"19461.8,1423.18 19461.8,1423.18 19535.1,1423.18 19461.8,1423.18 \"/>\n",
       "<path clip-path=\"url(#clip182)\" d=\"M19535.1 1423.18 L19535.1 1423.18 L19608.3 1423.18 L19608.3 1423.18 L19535.1 1423.18 L19535.1 1423.18  Z\" fill=\"#009af9\" fill-rule=\"evenodd\" fill-opacity=\"1\"/>\n",
       "<polyline clip-path=\"url(#clip182)\" style=\"stroke:#000000; stroke-linecap:round; stroke-linejoin:round; stroke-width:4; stroke-opacity:1; fill:none\" points=\"19535.1,1423.18 19535.1,1423.18 19608.3,1423.18 19535.1,1423.18 \"/>\n",
       "<path clip-path=\"url(#clip182)\" d=\"M19608.3 1423.18 L19608.3 1423.18 L19681.6 1423.18 L19681.6 1423.18 L19608.3 1423.18 L19608.3 1423.18  Z\" fill=\"#009af9\" fill-rule=\"evenodd\" fill-opacity=\"1\"/>\n",
       "<polyline clip-path=\"url(#clip182)\" style=\"stroke:#000000; stroke-linecap:round; stroke-linejoin:round; stroke-width:4; stroke-opacity:1; fill:none\" points=\"19608.3,1423.18 19608.3,1423.18 19681.6,1423.18 19608.3,1423.18 \"/>\n",
       "<path clip-path=\"url(#clip182)\" d=\"M19681.6 1423.18 L19681.6 1423.18 L19754.9 1423.18 L19754.9 1423.18 L19681.6 1423.18 L19681.6 1423.18  Z\" fill=\"#009af9\" fill-rule=\"evenodd\" fill-opacity=\"1\"/>\n",
       "<polyline clip-path=\"url(#clip182)\" style=\"stroke:#000000; stroke-linecap:round; stroke-linejoin:round; stroke-width:4; stroke-opacity:1; fill:none\" points=\"19681.6,1423.18 19681.6,1423.18 19754.9,1423.18 19681.6,1423.18 \"/>\n",
       "<path clip-path=\"url(#clip182)\" d=\"M19754.9 1423.18 L19754.9 1423.18 L19828.1 1423.18 L19828.1 1423.18 L19754.9 1423.18 L19754.9 1423.18  Z\" fill=\"#009af9\" fill-rule=\"evenodd\" fill-opacity=\"1\"/>\n",
       "<polyline clip-path=\"url(#clip182)\" style=\"stroke:#000000; stroke-linecap:round; stroke-linejoin:round; stroke-width:4; stroke-opacity:1; fill:none\" points=\"19754.9,1423.18 19754.9,1423.18 19828.1,1423.18 19754.9,1423.18 \"/>\n",
       "<path clip-path=\"url(#clip182)\" d=\"M19828.1 1423.18 L19828.1 1423.18 L19901.4 1423.18 L19901.4 1423.18 L19828.1 1423.18 L19828.1 1423.18  Z\" fill=\"#009af9\" fill-rule=\"evenodd\" fill-opacity=\"1\"/>\n",
       "<polyline clip-path=\"url(#clip182)\" style=\"stroke:#000000; stroke-linecap:round; stroke-linejoin:round; stroke-width:4; stroke-opacity:1; fill:none\" points=\"19828.1,1423.18 19828.1,1423.18 19901.4,1423.18 19828.1,1423.18 \"/>\n",
       "<path clip-path=\"url(#clip182)\" d=\"M19901.4 1423.18 L19901.4 1423.18 L19974.7 1423.18 L19974.7 1423.18 L19901.4 1423.18 L19901.4 1423.18  Z\" fill=\"#009af9\" fill-rule=\"evenodd\" fill-opacity=\"1\"/>\n",
       "<polyline clip-path=\"url(#clip182)\" style=\"stroke:#000000; stroke-linecap:round; stroke-linejoin:round; stroke-width:4; stroke-opacity:1; fill:none\" points=\"19901.4,1423.18 19901.4,1423.18 19974.7,1423.18 19901.4,1423.18 \"/>\n",
       "<path clip-path=\"url(#clip182)\" d=\"M19974.7 1423.18 L19974.7 1423.18 L20048 1423.18 L20048 1423.18 L19974.7 1423.18 L19974.7 1423.18  Z\" fill=\"#009af9\" fill-rule=\"evenodd\" fill-opacity=\"1\"/>\n",
       "<polyline clip-path=\"url(#clip182)\" style=\"stroke:#000000; stroke-linecap:round; stroke-linejoin:round; stroke-width:4; stroke-opacity:1; fill:none\" points=\"19974.7,1423.18 19974.7,1423.18 20048,1423.18 19974.7,1423.18 \"/>\n",
       "<path clip-path=\"url(#clip182)\" d=\"M20048 1423.18 L20048 1423.18 L20121.2 1423.18 L20121.2 1423.18 L20048 1423.18 L20048 1423.18  Z\" fill=\"#009af9\" fill-rule=\"evenodd\" fill-opacity=\"1\"/>\n",
       "<polyline clip-path=\"url(#clip182)\" style=\"stroke:#000000; stroke-linecap:round; stroke-linejoin:round; stroke-width:4; stroke-opacity:1; fill:none\" points=\"20048,1423.18 20048,1423.18 20121.2,1423.18 20048,1423.18 \"/>\n",
       "<path clip-path=\"url(#clip182)\" d=\"M20121.2 1423.18 L20121.2 1423.18 L20194.5 1423.18 L20194.5 1423.18 L20121.2 1423.18 L20121.2 1423.18  Z\" fill=\"#009af9\" fill-rule=\"evenodd\" fill-opacity=\"1\"/>\n",
       "<polyline clip-path=\"url(#clip182)\" style=\"stroke:#000000; stroke-linecap:round; stroke-linejoin:round; stroke-width:4; stroke-opacity:1; fill:none\" points=\"20121.2,1423.18 20121.2,1423.18 20194.5,1423.18 20121.2,1423.18 \"/>\n",
       "<path clip-path=\"url(#clip182)\" d=\"M20194.5 1423.18 L20194.5 1423.18 L20267.8 1423.18 L20267.8 1423.18 L20194.5 1423.18 L20194.5 1423.18  Z\" fill=\"#009af9\" fill-rule=\"evenodd\" fill-opacity=\"1\"/>\n",
       "<polyline clip-path=\"url(#clip182)\" style=\"stroke:#000000; stroke-linecap:round; stroke-linejoin:round; stroke-width:4; stroke-opacity:1; fill:none\" points=\"20194.5,1423.18 20194.5,1423.18 20267.8,1423.18 20194.5,1423.18 \"/>\n",
       "<path clip-path=\"url(#clip182)\" d=\"M20267.8 1423.18 L20267.8 1423.18 L20341.1 1423.18 L20341.1 1423.18 L20267.8 1423.18 L20267.8 1423.18  Z\" fill=\"#009af9\" fill-rule=\"evenodd\" fill-opacity=\"1\"/>\n",
       "<polyline clip-path=\"url(#clip182)\" style=\"stroke:#000000; stroke-linecap:round; stroke-linejoin:round; stroke-width:4; stroke-opacity:1; fill:none\" points=\"20267.8,1423.18 20267.8,1423.18 20341.1,1423.18 20267.8,1423.18 \"/>\n",
       "<path clip-path=\"url(#clip182)\" d=\"M20341.1 1423.18 L20341.1 1423.18 L20414.3 1423.18 L20414.3 1423.18 L20341.1 1423.18 L20341.1 1423.18  Z\" fill=\"#009af9\" fill-rule=\"evenodd\" fill-opacity=\"1\"/>\n",
       "<polyline clip-path=\"url(#clip182)\" style=\"stroke:#000000; stroke-linecap:round; stroke-linejoin:round; stroke-width:4; stroke-opacity:1; fill:none\" points=\"20341.1,1423.18 20341.1,1423.18 20414.3,1423.18 20341.1,1423.18 \"/>\n",
       "<path clip-path=\"url(#clip182)\" d=\"M20414.3 1423.18 L20414.3 1423.18 L20487.6 1423.18 L20487.6 1423.18 L20414.3 1423.18 L20414.3 1423.18  Z\" fill=\"#009af9\" fill-rule=\"evenodd\" fill-opacity=\"1\"/>\n",
       "<polyline clip-path=\"url(#clip182)\" style=\"stroke:#000000; stroke-linecap:round; stroke-linejoin:round; stroke-width:4; stroke-opacity:1; fill:none\" points=\"20414.3,1423.18 20414.3,1423.18 20487.6,1423.18 20414.3,1423.18 \"/>\n",
       "<path clip-path=\"url(#clip182)\" d=\"M20487.6 1423.18 L20487.6 1423.18 L20560.9 1423.18 L20560.9 1423.18 L20487.6 1423.18 L20487.6 1423.18  Z\" fill=\"#009af9\" fill-rule=\"evenodd\" fill-opacity=\"1\"/>\n",
       "<polyline clip-path=\"url(#clip182)\" style=\"stroke:#000000; stroke-linecap:round; stroke-linejoin:round; stroke-width:4; stroke-opacity:1; fill:none\" points=\"20487.6,1423.18 20487.6,1423.18 20560.9,1423.18 20487.6,1423.18 \"/>\n",
       "<path clip-path=\"url(#clip182)\" d=\"M20560.9 1270.3 L20560.9 1423.18 L20634.1 1423.18 L20634.1 1270.3 L20560.9 1270.3 L20560.9 1270.3  Z\" fill=\"#009af9\" fill-rule=\"evenodd\" fill-opacity=\"1\"/>\n",
       "<polyline clip-path=\"url(#clip182)\" style=\"stroke:#000000; stroke-linecap:round; stroke-linejoin:round; stroke-width:4; stroke-opacity:1; fill:none\" points=\"20560.9,1270.3 20560.9,1423.18 20634.1,1423.18 20634.1,1270.3 20560.9,1270.3 \"/>\n",
       "<circle clip-path=\"url(#clip182)\" style=\"fill:#009af9; stroke:none; fill-opacity:0\" cx=\"227.748\" cy=\"1423.18\" r=\"2\"/>\n",
       "<circle clip-path=\"url(#clip182)\" style=\"fill:#009af9; stroke:none; fill-opacity:0\" cx=\"301.02\" cy=\"1423.18\" r=\"2\"/>\n",
       "<circle clip-path=\"url(#clip182)\" style=\"fill:#009af9; stroke:none; fill-opacity:0\" cx=\"374.293\" cy=\"1423.18\" r=\"2\"/>\n",
       "<circle clip-path=\"url(#clip182)\" style=\"fill:#009af9; stroke:none; fill-opacity:0\" cx=\"447.565\" cy=\"811.653\" r=\"2\"/>\n",
       "<circle clip-path=\"url(#clip182)\" style=\"fill:#009af9; stroke:none; fill-opacity:0\" cx=\"520.838\" cy=\"1423.18\" r=\"2\"/>\n",
       "<circle clip-path=\"url(#clip182)\" style=\"fill:#009af9; stroke:none; fill-opacity:0\" cx=\"594.11\" cy=\"1423.18\" r=\"2\"/>\n",
       "<circle clip-path=\"url(#clip182)\" style=\"fill:#009af9; stroke:none; fill-opacity:0\" cx=\"667.383\" cy=\"1270.3\" r=\"2\"/>\n",
       "<circle clip-path=\"url(#clip182)\" style=\"fill:#009af9; stroke:none; fill-opacity:0\" cx=\"740.655\" cy=\"964.535\" r=\"2\"/>\n",
       "<circle clip-path=\"url(#clip182)\" style=\"fill:#009af9; stroke:none; fill-opacity:0\" cx=\"813.928\" cy=\"1270.3\" r=\"2\"/>\n",
       "<circle clip-path=\"url(#clip182)\" style=\"fill:#009af9; stroke:none; fill-opacity:0\" cx=\"887.2\" cy=\"1270.3\" r=\"2\"/>\n",
       "<circle clip-path=\"url(#clip182)\" style=\"fill:#009af9; stroke:none; fill-opacity:0\" cx=\"960.473\" cy=\"1270.3\" r=\"2\"/>\n",
       "<circle clip-path=\"url(#clip182)\" style=\"fill:#009af9; stroke:none; fill-opacity:0\" cx=\"1033.75\" cy=\"1117.42\" r=\"2\"/>\n",
       "<circle clip-path=\"url(#clip182)\" style=\"fill:#009af9; stroke:none; fill-opacity:0\" cx=\"1107.02\" cy=\"1270.3\" r=\"2\"/>\n",
       "<circle clip-path=\"url(#clip182)\" style=\"fill:#009af9; stroke:none; fill-opacity:0\" cx=\"1180.29\" cy=\"1117.42\" r=\"2\"/>\n",
       "<circle clip-path=\"url(#clip182)\" style=\"fill:#009af9; stroke:none; fill-opacity:0\" cx=\"1253.56\" cy=\"964.535\" r=\"2\"/>\n",
       "<circle clip-path=\"url(#clip182)\" style=\"fill:#009af9; stroke:none; fill-opacity:0\" cx=\"1326.84\" cy=\"1117.42\" r=\"2\"/>\n",
       "<circle clip-path=\"url(#clip182)\" style=\"fill:#009af9; stroke:none; fill-opacity:0\" cx=\"1400.11\" cy=\"353.008\" r=\"2\"/>\n",
       "<circle clip-path=\"url(#clip182)\" style=\"fill:#009af9; stroke:none; fill-opacity:0\" cx=\"1473.38\" cy=\"1270.3\" r=\"2\"/>\n",
       "<circle clip-path=\"url(#clip182)\" style=\"fill:#009af9; stroke:none; fill-opacity:0\" cx=\"1546.65\" cy=\"1117.42\" r=\"2\"/>\n",
       "<circle clip-path=\"url(#clip182)\" style=\"fill:#009af9; stroke:none; fill-opacity:0\" cx=\"1619.93\" cy=\"1117.42\" r=\"2\"/>\n",
       "<circle clip-path=\"url(#clip182)\" style=\"fill:#009af9; stroke:none; fill-opacity:0\" cx=\"1693.2\" cy=\"1423.18\" r=\"2\"/>\n",
       "<circle clip-path=\"url(#clip182)\" style=\"fill:#009af9; stroke:none; fill-opacity:0\" cx=\"1766.47\" cy=\"964.535\" r=\"2\"/>\n",
       "<circle clip-path=\"url(#clip182)\" style=\"fill:#009af9; stroke:none; fill-opacity:0\" cx=\"1839.74\" cy=\"505.889\" r=\"2\"/>\n",
       "<circle clip-path=\"url(#clip182)\" style=\"fill:#009af9; stroke:none; fill-opacity:0\" cx=\"1913.02\" cy=\"964.535\" r=\"2\"/>\n",
       "<circle clip-path=\"url(#clip182)\" style=\"fill:#009af9; stroke:none; fill-opacity:0\" cx=\"1986.29\" cy=\"964.535\" r=\"2\"/>\n",
       "<circle clip-path=\"url(#clip182)\" style=\"fill:#009af9; stroke:none; fill-opacity:0\" cx=\"2059.56\" cy=\"505.889\" r=\"2\"/>\n",
       "<circle clip-path=\"url(#clip182)\" style=\"fill:#009af9; stroke:none; fill-opacity:0\" cx=\"2132.83\" cy=\"811.653\" r=\"2\"/>\n",
       "<circle clip-path=\"url(#clip182)\" style=\"fill:#009af9; stroke:none; fill-opacity:0\" cx=\"2206.11\" cy=\"1117.42\" r=\"2\"/>\n",
       "<circle clip-path=\"url(#clip182)\" style=\"fill:#009af9; stroke:none; fill-opacity:0\" cx=\"2279.38\" cy=\"1117.42\" r=\"2\"/>\n",
       "<circle clip-path=\"url(#clip182)\" style=\"fill:#009af9; stroke:none; fill-opacity:0\" cx=\"2352.65\" cy=\"1117.42\" r=\"2\"/>\n",
       "</svg>\n"
      ]
     },
     "metadata": {},
     "output_type": "display_data"
    }
   ],
   "source": [
    "using Statistics # bring in statistical support for standard deviations\n",
    "t = c_bench.times / 1e6 # times in milliseconds\n",
    "m, σ = minimum(t), std(t)\n",
    "\n",
    "histogram(t, bins=500,\n",
    "    xlim=(m - 0.01, m + σ),\n",
    "    xlabel=\"milliseconds\", ylabel=\"count\", label=\"\")"
   ]
  },
  {
   "cell_type": "markdown",
   "metadata": {},
   "source": [
    "# 2. C with -ffast-math\n",
    "\n",
    "If we allow C to re-arrange the floating point operations, then it'll vectorize with SIMD (single instruction, multiple data) instructions."
   ]
  },
  {
   "cell_type": "code",
   "execution_count": 19,
   "metadata": {},
   "outputs": [
    {
     "data": {
      "text/plain": [
       "c_sum_fastmath (generic function with 1 method)"
      ]
     },
     "metadata": {},
     "output_type": "display_data"
    }
   ],
   "source": [
    "const Clib_fastmath = tempname()   # make a temporary file\n",
    "\n",
    "# The same as above but with a -ffast-math flag added\n",
    "open(`gcc -fPIC -O3 -msse3 -xc -shared -ffast-math -o $(Clib_fastmath * \".\" * Libdl.dlext) -`, \"w\") do f\n",
    "    print(f, C_code) \n",
    "end\n",
    "\n",
    "# define a Julia function that calls the C function:\n",
    "c_sum_fastmath(X::Array{Float64}) = ccall((\"c_sum\", Clib_fastmath), Float64, (Csize_t, Ptr{Float64}), length(X), X)"
   ]
  },
  {
   "cell_type": "code",
   "execution_count": 20,
   "metadata": {},
   "outputs": [
    {
     "data": {
      "text/plain": [
       "BenchmarkTools.Trial: 406 samples with 1 evaluation.\n",
       " Range \u001b[90m(\u001b[39m\u001b[36m\u001b[1mmin\u001b[22m\u001b[39m … \u001b[35mmax\u001b[39m\u001b[90m):  \u001b[39m\u001b[36m\u001b[1m 6.491 ms\u001b[22m\u001b[39m … \u001b[35m21.713 ms\u001b[39m  \u001b[90m┊\u001b[39m GC \u001b[90m(\u001b[39mmin … max\u001b[90m): \u001b[39m0.00% … 0.00%\n",
       " Time  \u001b[90m(\u001b[39m\u001b[34m\u001b[1mmedian\u001b[22m\u001b[39m\u001b[90m):     \u001b[39m\u001b[34m\u001b[1m12.263 ms              \u001b[22m\u001b[39m\u001b[90m┊\u001b[39m GC \u001b[90m(\u001b[39mmedian\u001b[90m):    \u001b[39m0.00%\n",
       " Time  \u001b[90m(\u001b[39m\u001b[32m\u001b[1mmean\u001b[22m\u001b[39m ± \u001b[32mσ\u001b[39m\u001b[90m):   \u001b[39m\u001b[32m\u001b[1m12.298 ms\u001b[22m\u001b[39m ± \u001b[32m 2.582 ms\u001b[39m  \u001b[90m┊\u001b[39m GC \u001b[90m(\u001b[39mmean ± σ\u001b[90m):  \u001b[39m0.00% ± 0.00%\n",
       "\n",
       "  \u001b[39m \u001b[39m \u001b[39m \u001b[39m \u001b[39m \u001b[39m \u001b[39m \u001b[39m \u001b[39m \u001b[39m▂\u001b[39m \u001b[39m▁\u001b[39m \u001b[39m▄\u001b[39m \u001b[39m▄\u001b[39m▁\u001b[39m▁\u001b[39m \u001b[39m▁\u001b[39m▁\u001b[39m▃\u001b[39m▁\u001b[39m▅\u001b[39m▅\u001b[39m▂\u001b[39m▁\u001b[39m▁\u001b[34m▄\u001b[39m\u001b[39m \u001b[39m▃\u001b[39m▁\u001b[39m▆\u001b[39m▁\u001b[39m▁\u001b[39m▃\u001b[39m█\u001b[39m▁\u001b[39m \u001b[39m \u001b[39m▁\u001b[39m \u001b[39m \u001b[39m \u001b[39m \u001b[39m \u001b[39m \u001b[39m \u001b[39m \u001b[39m \u001b[39m \u001b[39m \u001b[39m \u001b[39m \u001b[39m \u001b[39m \u001b[39m \u001b[39m \u001b[39m \u001b[39m \u001b[39m \n",
       "  \u001b[39m▃\u001b[39m▃\u001b[39m▁\u001b[39m▁\u001b[39m▃\u001b[39m▄\u001b[39m▃\u001b[39m▆\u001b[39m▅\u001b[39m█\u001b[39m█\u001b[39m█\u001b[39m▅\u001b[39m█\u001b[39m▇\u001b[39m█\u001b[39m█\u001b[39m█\u001b[39m▆\u001b[39m█\u001b[39m█\u001b[39m█\u001b[39m█\u001b[39m█\u001b[39m█\u001b[39m█\u001b[39m█\u001b[39m█\u001b[34m█\u001b[39m\u001b[39m▇\u001b[39m█\u001b[39m█\u001b[39m█\u001b[39m█\u001b[39m█\u001b[39m█\u001b[39m█\u001b[39m█\u001b[39m▆\u001b[39m▇\u001b[39m█\u001b[39m▅\u001b[39m▆\u001b[39m▆\u001b[39m▆\u001b[39m▅\u001b[39m▅\u001b[39m▆\u001b[39m▅\u001b[39m▃\u001b[39m▃\u001b[39m▅\u001b[39m▃\u001b[39m▁\u001b[39m▃\u001b[39m▁\u001b[39m▁\u001b[39m▃\u001b[39m▃\u001b[39m \u001b[39m▅\n",
       "  6.49 ms\u001b[90m         Histogram: frequency by time\u001b[39m        18.8 ms \u001b[0m\u001b[1m<\u001b[22m\n",
       "\n",
       " Memory estimate\u001b[90m: \u001b[39m\u001b[33m0 bytes\u001b[39m, allocs estimate\u001b[90m: \u001b[39m\u001b[33m0\u001b[39m."
      ]
     },
     "metadata": {},
     "output_type": "display_data"
    }
   ],
   "source": [
    "c_fastmath_bench = @benchmark $c_sum_fastmath($a)"
   ]
  },
  {
   "cell_type": "code",
   "execution_count": 21,
   "metadata": {},
   "outputs": [
    {
     "data": {
      "text/plain": [
       "6.490781"
      ]
     },
     "metadata": {},
     "output_type": "display_data"
    }
   ],
   "source": [
    "d[\"C -ffast-math\"] = minimum(c_fastmath_bench.times) / 1e6  # in milliseconds"
   ]
  },
  {
   "cell_type": "markdown",
   "metadata": {},
   "source": [
    "# 3. Python's built in `sum` "
   ]
  },
  {
   "cell_type": "markdown",
   "metadata": {},
   "source": [
    "The `PyCall` package provides a Julia interface to Python:"
   ]
  },
  {
   "cell_type": "code",
   "execution_count": 22,
   "metadata": {
    "scrolled": true
   },
   "outputs": [
    {
     "name": "stderr",
     "output_type": "stream",
     "text": [
      "\u001b[32m\u001b[1m   Resolving\u001b[22m\u001b[39m package versions...\n"
     ]
    },
    {
     "name": "stderr",
     "output_type": "stream",
     "text": [
      "\u001b[32m\u001b[1m  No Changes\u001b[22m\u001b[39m to `~/julia-1.7.3/bin/Project.toml`\n",
      "\u001b[32m\u001b[1m  No Changes\u001b[22m\u001b[39m to `~/julia-1.7.3/bin/Manifest.toml`\n"
     ]
    }
   ],
   "source": [
    "using Pkg; Pkg.add(\"PyCall\")\n",
    "using PyCall"
   ]
  },
  {
   "cell_type": "code",
   "execution_count": 23,
   "metadata": {},
   "outputs": [
    {
     "data": {
      "text/plain": [
       "PyObject <built-in function sum>"
      ]
     },
     "metadata": {},
     "output_type": "display_data"
    }
   ],
   "source": [
    "# get the Python built-in \"sum\" function:\n",
    "pysum = pybuiltin(\"sum\")"
   ]
  },
  {
   "cell_type": "code",
   "execution_count": 24,
   "metadata": {},
   "outputs": [
    {
     "data": {
      "text/plain": [
       "4.999089291304973e6"
      ]
     },
     "metadata": {},
     "output_type": "display_data"
    }
   ],
   "source": [
    "pysum(a)"
   ]
  },
  {
   "cell_type": "code",
   "execution_count": 25,
   "metadata": {},
   "outputs": [
    {
     "data": {
      "text/plain": [
       "true"
      ]
     },
     "metadata": {},
     "output_type": "display_data"
    }
   ],
   "source": [
    "pysum(a) ≈ sum(a)"
   ]
  },
  {
   "cell_type": "code",
   "execution_count": 26,
   "metadata": {},
   "outputs": [
    {
     "data": {
      "text/plain": [
       "BenchmarkTools.Trial: 5 samples with 1 evaluation.\n",
       " Range \u001b[90m(\u001b[39m\u001b[36m\u001b[1mmin\u001b[22m\u001b[39m … \u001b[35mmax\u001b[39m\u001b[90m):  \u001b[39m\u001b[36m\u001b[1m1.037 s\u001b[22m\u001b[39m … \u001b[35m  1.270 s\u001b[39m  \u001b[90m┊\u001b[39m GC \u001b[90m(\u001b[39mmin … max\u001b[90m): \u001b[39m0.00% … 0.00%\n",
       " Time  \u001b[90m(\u001b[39m\u001b[34m\u001b[1mmedian\u001b[22m\u001b[39m\u001b[90m):     \u001b[39m\u001b[34m\u001b[1m1.194 s              \u001b[22m\u001b[39m\u001b[90m┊\u001b[39m GC \u001b[90m(\u001b[39mmedian\u001b[90m):    \u001b[39m0.00%\n",
       " Time  \u001b[90m(\u001b[39m\u001b[32m\u001b[1mmean\u001b[22m\u001b[39m ± \u001b[32mσ\u001b[39m\u001b[90m):   \u001b[39m\u001b[32m\u001b[1m1.174 s\u001b[22m\u001b[39m ± \u001b[32m96.000 ms\u001b[39m  \u001b[90m┊\u001b[39m GC \u001b[90m(\u001b[39mmean ± σ\u001b[90m):  \u001b[39m0.00% ± 0.00%\n",
       "\n",
       "  \u001b[39m█\u001b[39m \u001b[39m \u001b[39m \u001b[39m \u001b[39m \u001b[39m \u001b[39m \u001b[39m \u001b[39m \u001b[39m \u001b[39m \u001b[39m \u001b[39m \u001b[39m \u001b[39m \u001b[39m \u001b[39m \u001b[39m \u001b[39m \u001b[34m█\u001b[39m\u001b[39m \u001b[39m \u001b[39m \u001b[39m \u001b[39m \u001b[39m \u001b[39m \u001b[39m \u001b[39m \u001b[39m \u001b[39m \u001b[39m \u001b[32m \u001b[39m\u001b[39m \u001b[39m \u001b[39m \u001b[39m \u001b[39m█\u001b[39m \u001b[39m \u001b[39m \u001b[39m \u001b[39m \u001b[39m \u001b[39m \u001b[39m \u001b[39m \u001b[39m \u001b[39m \u001b[39m \u001b[39m█\u001b[39m \u001b[39m \u001b[39m \u001b[39m \u001b[39m█\u001b[39m \u001b[39m \n",
       "  \u001b[39m█\u001b[39m▁\u001b[39m▁\u001b[39m▁\u001b[39m▁\u001b[39m▁\u001b[39m▁\u001b[39m▁\u001b[39m▁\u001b[39m▁\u001b[39m▁\u001b[39m▁\u001b[39m▁\u001b[39m▁\u001b[39m▁\u001b[39m▁\u001b[39m▁\u001b[39m▁\u001b[39m▁\u001b[39m▁\u001b[34m█\u001b[39m\u001b[39m▁\u001b[39m▁\u001b[39m▁\u001b[39m▁\u001b[39m▁\u001b[39m▁\u001b[39m▁\u001b[39m▁\u001b[39m▁\u001b[39m▁\u001b[39m▁\u001b[39m▁\u001b[32m▁\u001b[39m\u001b[39m▁\u001b[39m▁\u001b[39m▁\u001b[39m▁\u001b[39m█\u001b[39m▁\u001b[39m▁\u001b[39m▁\u001b[39m▁\u001b[39m▁\u001b[39m▁\u001b[39m▁\u001b[39m▁\u001b[39m▁\u001b[39m▁\u001b[39m▁\u001b[39m▁\u001b[39m█\u001b[39m▁\u001b[39m▁\u001b[39m▁\u001b[39m▁\u001b[39m█\u001b[39m \u001b[39m▁\n",
       "  1.04 s\u001b[90m         Histogram: frequency by time\u001b[39m        1.27 s \u001b[0m\u001b[1m<\u001b[22m\n",
       "\n",
       " Memory estimate\u001b[90m: \u001b[39m\u001b[33m288 bytes\u001b[39m, allocs estimate\u001b[90m: \u001b[39m\u001b[33m9\u001b[39m."
      ]
     },
     "metadata": {},
     "output_type": "display_data"
    }
   ],
   "source": [
    "py_list_bench = @benchmark $pysum($a)"
   ]
  },
  {
   "cell_type": "code",
   "execution_count": 27,
   "metadata": {},
   "outputs": [
    {
     "data": {
      "text/plain": [
       "Dict{Any, Any} with 3 entries:\n",
       "  \"C\"               => 12.6868\n",
       "  \"Python built-in\" => 1037.42\n",
       "  \"C -ffast-math\"   => 6.49078"
      ]
     },
     "metadata": {},
     "output_type": "display_data"
    }
   ],
   "source": [
    "d[\"Python built-in\"] = minimum(py_list_bench.times) / 1e6\n",
    "d"
   ]
  },
  {
   "cell_type": "markdown",
   "metadata": {},
   "source": [
    "# 4. Python: `numpy` \n",
    "\n",
    "## Takes advantage of hardware \"SIMD\", but only works when it works.\n",
    "\n",
    "`numpy` is an optimized C library, callable from Python.\n",
    "It may be installed within Julia as follows:"
   ]
  },
  {
   "cell_type": "code",
   "execution_count": 28,
   "metadata": {},
   "outputs": [
    {
     "name": "stderr",
     "output_type": "stream",
     "text": [
      "\u001b[32m\u001b[1m   Resolving\u001b[22m\u001b[39m package versions...\n"
     ]
    },
    {
     "name": "stderr",
     "output_type": "stream",
     "text": [
      "\u001b[32m\u001b[1m  No Changes\u001b[22m\u001b[39m to `~/julia-1.7.3/bin/Project.toml`\n",
      "\u001b[32m\u001b[1m  No Changes\u001b[22m\u001b[39m to `~/julia-1.7.3/bin/Manifest.toml`\n"
     ]
    }
   ],
   "source": [
    "using Pkg; Pkg.add(\"Conda\")\n",
    "using Conda"
   ]
  },
  {
   "cell_type": "code",
   "execution_count": 29,
   "metadata": {},
   "outputs": [
    {
     "name": "stderr",
     "output_type": "stream",
     "text": [
      "┌ Info: Running `conda install -y numpy` in root environment\n",
      "└ @ Conda /home/tbushnell/.julia/packages/Conda/2lg2O/src/Conda.jl:127\n"
     ]
    },
    {
     "name": "stdout",
     "output_type": "stream",
     "text": [
      "Collecting package metadata (current_repodata.json): ...working... "
     ]
    },
    {
     "name": "stdout",
     "output_type": "stream",
     "text": [
      "done\n",
      "Solving environment: ...working... "
     ]
    },
    {
     "name": "stdout",
     "output_type": "stream",
     "text": [
      "done\n",
      "\n",
      "# All requested packages already installed.\n",
      "\n"
     ]
    }
   ],
   "source": [
    "Conda.add(\"numpy\")"
   ]
  },
  {
   "cell_type": "code",
   "execution_count": 30,
   "metadata": {},
   "outputs": [
    {
     "data": {
      "text/plain": [
       "BenchmarkTools.Trial: 807 samples with 1 evaluation.\n",
       " Range \u001b[90m(\u001b[39m\u001b[36m\u001b[1mmin\u001b[22m\u001b[39m … \u001b[35mmax\u001b[39m\u001b[90m):  \u001b[39m\u001b[36m\u001b[1m4.117 ms\u001b[22m\u001b[39m … \u001b[35m12.259 ms\u001b[39m  \u001b[90m┊\u001b[39m GC \u001b[90m(\u001b[39mmin … max\u001b[90m): \u001b[39m0.00% … 0.00%\n",
       " Time  \u001b[90m(\u001b[39m\u001b[34m\u001b[1mmedian\u001b[22m\u001b[39m\u001b[90m):     \u001b[39m\u001b[34m\u001b[1m5.642 ms              \u001b[22m\u001b[39m\u001b[90m┊\u001b[39m GC \u001b[90m(\u001b[39mmedian\u001b[90m):    \u001b[39m0.00%\n",
       " Time  \u001b[90m(\u001b[39m\u001b[32m\u001b[1mmean\u001b[22m\u001b[39m ± \u001b[32mσ\u001b[39m\u001b[90m):   \u001b[39m\u001b[32m\u001b[1m6.179 ms\u001b[22m\u001b[39m ± \u001b[32m 1.718 ms\u001b[39m  \u001b[90m┊\u001b[39m GC \u001b[90m(\u001b[39mmean ± σ\u001b[90m):  \u001b[39m0.00% ± 0.00%\n",
       "\n",
       "  \u001b[39m \u001b[39m▁\u001b[39m▄\u001b[39m█\u001b[39m▆\u001b[39m▁\u001b[39m▁\u001b[39m▁\u001b[39m \u001b[39m▁\u001b[39m \u001b[39m \u001b[34m▁\u001b[39m\u001b[39m \u001b[39m \u001b[39m \u001b[39m \u001b[32m \u001b[39m\u001b[39m \u001b[39m \u001b[39m \u001b[39m \u001b[39m \u001b[39m \u001b[39m \u001b[39m \u001b[39m \u001b[39m \u001b[39m \u001b[39m \u001b[39m \u001b[39m \u001b[39m \u001b[39m \u001b[39m \u001b[39m \u001b[39m \u001b[39m \u001b[39m \u001b[39m \u001b[39m \u001b[39m \u001b[39m \u001b[39m \u001b[39m \u001b[39m \u001b[39m \u001b[39m \u001b[39m \u001b[39m \u001b[39m \u001b[39m \u001b[39m \u001b[39m \u001b[39m \u001b[39m \u001b[39m \u001b[39m \u001b[39m \u001b[39m \n",
       "  \u001b[39m▃\u001b[39m█\u001b[39m█\u001b[39m█\u001b[39m█\u001b[39m█\u001b[39m█\u001b[39m█\u001b[39m█\u001b[39m█\u001b[39m█\u001b[39m▆\u001b[34m█\u001b[39m\u001b[39m▄\u001b[39m▇\u001b[39m▇\u001b[39m▆\u001b[32m█\u001b[39m\u001b[39m▅\u001b[39m▅\u001b[39m▆\u001b[39m▅\u001b[39m▇\u001b[39m▄\u001b[39m▅\u001b[39m▅\u001b[39m▅\u001b[39m▄\u001b[39m▄\u001b[39m▄\u001b[39m▄\u001b[39m▃\u001b[39m▃\u001b[39m▃\u001b[39m▄\u001b[39m▃\u001b[39m▄\u001b[39m▃\u001b[39m▄\u001b[39m▄\u001b[39m▄\u001b[39m▄\u001b[39m▄\u001b[39m▃\u001b[39m▃\u001b[39m▃\u001b[39m▄\u001b[39m▂\u001b[39m▃\u001b[39m▃\u001b[39m▂\u001b[39m▂\u001b[39m▃\u001b[39m▂\u001b[39m▂\u001b[39m▁\u001b[39m▂\u001b[39m▂\u001b[39m \u001b[39m▄\n",
       "  4.12 ms\u001b[90m        Histogram: frequency by time\u001b[39m        11.2 ms \u001b[0m\u001b[1m<\u001b[22m\n",
       "\n",
       " Memory estimate\u001b[90m: \u001b[39m\u001b[33m288 bytes\u001b[39m, allocs estimate\u001b[90m: \u001b[39m\u001b[33m9\u001b[39m."
      ]
     },
     "metadata": {},
     "output_type": "display_data"
    }
   ],
   "source": [
    "numpy_sum = pyimport(\"numpy\")[\"sum\"]\n",
    "\n",
    "py_numpy_bench = @benchmark $numpy_sum($a)"
   ]
  },
  {
   "cell_type": "code",
   "execution_count": 31,
   "metadata": {},
   "outputs": [
    {
     "data": {
      "text/plain": [
       "4.9990892913054405e6"
      ]
     },
     "metadata": {},
     "output_type": "display_data"
    }
   ],
   "source": [
    "numpy_sum(a)"
   ]
  },
  {
   "cell_type": "code",
   "execution_count": 32,
   "metadata": {},
   "outputs": [
    {
     "data": {
      "text/plain": [
       "true"
      ]
     },
     "metadata": {},
     "output_type": "display_data"
    }
   ],
   "source": [
    "numpy_sum(a) ≈ sum(a)"
   ]
  },
  {
   "cell_type": "code",
   "execution_count": 33,
   "metadata": {
    "scrolled": true
   },
   "outputs": [
    {
     "data": {
      "text/plain": [
       "Dict{Any, Any} with 4 entries:\n",
       "  \"C\"               => 12.6868\n",
       "  \"Python numpy\"    => 4.11665\n",
       "  \"Python built-in\" => 1037.42\n",
       "  \"C -ffast-math\"   => 6.49078"
      ]
     },
     "metadata": {},
     "output_type": "display_data"
    }
   ],
   "source": [
    "d[\"Python numpy\"] = minimum(py_numpy_bench.times) / 1e6\n",
    "d"
   ]
  },
  {
   "cell_type": "markdown",
   "metadata": {},
   "source": [
    "# 5. Python, hand-written "
   ]
  },
  {
   "cell_type": "code",
   "execution_count": 34,
   "metadata": {},
   "outputs": [
    {
     "data": {
      "text/plain": [
       "PyObject <function py_sum at 0x7f3c3a4d3430>"
      ]
     },
     "metadata": {},
     "output_type": "display_data"
    }
   ],
   "source": [
    "py\"\"\"\n",
    "def py_sum(A):\n",
    "    s = 0.0\n",
    "    for a in A:\n",
    "        s += a\n",
    "    return s\n",
    "\"\"\"\n",
    "\n",
    "sum_py = py\"py_sum\""
   ]
  },
  {
   "cell_type": "code",
   "execution_count": 35,
   "metadata": {},
   "outputs": [
    {
     "data": {
      "text/plain": [
       "BenchmarkTools.Trial: 7 samples with 1 evaluation.\n",
       " Range \u001b[90m(\u001b[39m\u001b[36m\u001b[1mmin\u001b[22m\u001b[39m … \u001b[35mmax\u001b[39m\u001b[90m):  \u001b[39m\u001b[36m\u001b[1m772.096 ms\u001b[22m\u001b[39m … \u001b[35m849.037 ms\u001b[39m  \u001b[90m┊\u001b[39m GC \u001b[90m(\u001b[39mmin … max\u001b[90m): \u001b[39m0.00% … 0.00%\n",
       " Time  \u001b[90m(\u001b[39m\u001b[34m\u001b[1mmedian\u001b[22m\u001b[39m\u001b[90m):     \u001b[39m\u001b[34m\u001b[1m817.612 ms               \u001b[22m\u001b[39m\u001b[90m┊\u001b[39m GC \u001b[90m(\u001b[39mmedian\u001b[90m):    \u001b[39m0.00%\n",
       " Time  \u001b[90m(\u001b[39m\u001b[32m\u001b[1mmean\u001b[22m\u001b[39m ± \u001b[32mσ\u001b[39m\u001b[90m):   \u001b[39m\u001b[32m\u001b[1m808.131 ms\u001b[22m\u001b[39m ± \u001b[32m 31.175 ms\u001b[39m  \u001b[90m┊\u001b[39m GC \u001b[90m(\u001b[39mmean ± σ\u001b[90m):  \u001b[39m0.00% ± 0.00%\n",
       "\n",
       "  \u001b[39m█\u001b[39m \u001b[39m \u001b[39m \u001b[39m█\u001b[34m█\u001b[39m\u001b[39m \u001b[39m \u001b[39m \u001b[39m \u001b[39m \u001b[39m \u001b[39m \u001b[39m \u001b[39m \u001b[39m \u001b[39m \u001b[39m \u001b[39m \u001b[39m \u001b[39m \u001b[39m \u001b[39m \u001b[39m \u001b[39m \u001b[39m \u001b[39m \u001b[39m \u001b[39m \u001b[32m \u001b[39m\u001b[39m \u001b[39m \u001b[39m \u001b[39m \u001b[39m \u001b[39m \u001b[39m█\u001b[39m \u001b[39m \u001b[39m \u001b[39m \u001b[39m \u001b[39m \u001b[39m \u001b[39m \u001b[39m█\u001b[39m█\u001b[39m \u001b[39m \u001b[39m \u001b[39m \u001b[39m \u001b[39m \u001b[39m \u001b[39m \u001b[39m \u001b[39m \u001b[39m \u001b[39m \u001b[39m \u001b[39m█\u001b[39m \u001b[39m \n",
       "  \u001b[39m█\u001b[39m▁\u001b[39m▁\u001b[39m▁\u001b[39m█\u001b[34m█\u001b[39m\u001b[39m▁\u001b[39m▁\u001b[39m▁\u001b[39m▁\u001b[39m▁\u001b[39m▁\u001b[39m▁\u001b[39m▁\u001b[39m▁\u001b[39m▁\u001b[39m▁\u001b[39m▁\u001b[39m▁\u001b[39m▁\u001b[39m▁\u001b[39m▁\u001b[39m▁\u001b[39m▁\u001b[39m▁\u001b[39m▁\u001b[39m▁\u001b[39m▁\u001b[39m▁\u001b[32m▁\u001b[39m\u001b[39m▁\u001b[39m▁\u001b[39m▁\u001b[39m▁\u001b[39m▁\u001b[39m▁\u001b[39m█\u001b[39m▁\u001b[39m▁\u001b[39m▁\u001b[39m▁\u001b[39m▁\u001b[39m▁\u001b[39m▁\u001b[39m▁\u001b[39m█\u001b[39m█\u001b[39m▁\u001b[39m▁\u001b[39m▁\u001b[39m▁\u001b[39m▁\u001b[39m▁\u001b[39m▁\u001b[39m▁\u001b[39m▁\u001b[39m▁\u001b[39m▁\u001b[39m▁\u001b[39m▁\u001b[39m█\u001b[39m \u001b[39m▁\n",
       "  772 ms\u001b[90m           Histogram: frequency by time\u001b[39m          849 ms \u001b[0m\u001b[1m<\u001b[22m\n",
       "\n",
       " Memory estimate\u001b[90m: \u001b[39m\u001b[33m288 bytes\u001b[39m, allocs estimate\u001b[90m: \u001b[39m\u001b[33m9\u001b[39m."
      ]
     },
     "metadata": {},
     "output_type": "display_data"
    }
   ],
   "source": [
    "py_hand = @benchmark $sum_py($a)"
   ]
  },
  {
   "cell_type": "code",
   "execution_count": 36,
   "metadata": {},
   "outputs": [
    {
     "data": {
      "text/plain": [
       "4.999089291304973e6"
      ]
     },
     "metadata": {},
     "output_type": "display_data"
    }
   ],
   "source": [
    "sum_py(a)"
   ]
  },
  {
   "cell_type": "code",
   "execution_count": 37,
   "metadata": {},
   "outputs": [
    {
     "data": {
      "text/plain": [
       "true"
      ]
     },
     "metadata": {},
     "output_type": "display_data"
    }
   ],
   "source": [
    "sum_py(a) ≈ sum(a)"
   ]
  },
  {
   "cell_type": "code",
   "execution_count": 38,
   "metadata": {
    "scrolled": true
   },
   "outputs": [
    {
     "data": {
      "text/plain": [
       "Dict{Any, Any} with 5 entries:\n",
       "  \"C\"                   => 12.6868\n",
       "  \"Python numpy\"        => 4.11665\n",
       "  \"Python hand-written\" => 772.096\n",
       "  \"Python built-in\"     => 1037.42\n",
       "  \"C -ffast-math\"       => 6.49078"
      ]
     },
     "metadata": {},
     "output_type": "display_data"
    }
   ],
   "source": [
    "d[\"Python hand-written\"] = minimum(py_hand.times) / 1e6\n",
    "d"
   ]
  },
  {
   "cell_type": "markdown",
   "metadata": {},
   "source": [
    "# 6. Julia (built-in) \n",
    "\n",
    "## Written directly in Julia, not in C!"
   ]
  },
  {
   "cell_type": "code",
   "execution_count": 39,
   "metadata": {},
   "outputs": [
    {
     "data": {
      "text/html": [
       "sum(a::<b>AbstractArray</b>; <i>dims, kw...</i>) in Base at <a href=\"https://github.com/JuliaLang/julia/tree/742b9abb4dd4621b667ec5bb3434b8b3602f96fd/base/reducedim.jl#L889\" target=\"_blank\">reducedim.jl:889</a>"
      ],
      "text/plain": [
       "sum(a::AbstractArray; dims, kw...) in Base at reducedim.jl:889"
      ]
     },
     "metadata": {},
     "output_type": "display_data"
    }
   ],
   "source": [
    "@which sum(a)"
   ]
  },
  {
   "cell_type": "code",
   "execution_count": 40,
   "metadata": {},
   "outputs": [
    {
     "data": {
      "text/plain": [
       "BenchmarkTools.Trial: 600 samples with 1 evaluation.\n",
       " Range \u001b[90m(\u001b[39m\u001b[36m\u001b[1mmin\u001b[22m\u001b[39m … \u001b[35mmax\u001b[39m\u001b[90m):  \u001b[39m\u001b[36m\u001b[1m5.934 ms\u001b[22m\u001b[39m … \u001b[35m11.748 ms\u001b[39m  \u001b[90m┊\u001b[39m GC \u001b[90m(\u001b[39mmin … max\u001b[90m): \u001b[39m0.00% … 0.00%\n",
       " Time  \u001b[90m(\u001b[39m\u001b[34m\u001b[1mmedian\u001b[22m\u001b[39m\u001b[90m):     \u001b[39m\u001b[34m\u001b[1m8.098 ms              \u001b[22m\u001b[39m\u001b[90m┊\u001b[39m GC \u001b[90m(\u001b[39mmedian\u001b[90m):    \u001b[39m0.00%\n",
       " Time  \u001b[90m(\u001b[39m\u001b[32m\u001b[1mmean\u001b[22m\u001b[39m ± \u001b[32mσ\u001b[39m\u001b[90m):   \u001b[39m\u001b[32m\u001b[1m8.313 ms\u001b[22m\u001b[39m ± \u001b[32m 1.301 ms\u001b[39m  \u001b[90m┊\u001b[39m GC \u001b[90m(\u001b[39mmean ± σ\u001b[90m):  \u001b[39m0.00% ± 0.00%\n",
       "\n",
       "  \u001b[39m \u001b[39m \u001b[39m \u001b[39m \u001b[39m \u001b[39m \u001b[39m \u001b[39m█\u001b[39m▄\u001b[39m▅\u001b[39m \u001b[39m \u001b[39m \u001b[39m▂\u001b[39m▂\u001b[39m \u001b[39m▁\u001b[39m \u001b[39m \u001b[39m \u001b[39m▂\u001b[39m \u001b[39m \u001b[34m \u001b[39m\u001b[39m \u001b[32m▂\u001b[39m\u001b[39m \u001b[39m \u001b[39m \u001b[39m \u001b[39m \u001b[39m \u001b[39m \u001b[39m \u001b[39m \u001b[39m \u001b[39m \u001b[39m \u001b[39m \u001b[39m \u001b[39m \u001b[39m \u001b[39m \u001b[39m \u001b[39m \u001b[39m \u001b[39m \u001b[39m \u001b[39m \u001b[39m \u001b[39m \u001b[39m \u001b[39m \u001b[39m \u001b[39m \u001b[39m \u001b[39m \u001b[39m \u001b[39m \u001b[39m \n",
       "  \u001b[39m▂\u001b[39m▂\u001b[39m▁\u001b[39m▁\u001b[39m▂\u001b[39m▃\u001b[39m▅\u001b[39m█\u001b[39m█\u001b[39m█\u001b[39m▆\u001b[39m▆\u001b[39m█\u001b[39m█\u001b[39m█\u001b[39m█\u001b[39m█\u001b[39m█\u001b[39m▆\u001b[39m█\u001b[39m█\u001b[39m█\u001b[39m█\u001b[34m█\u001b[39m\u001b[39m▅\u001b[32m█\u001b[39m\u001b[39m█\u001b[39m▆\u001b[39m▆\u001b[39m▆\u001b[39m▇\u001b[39m█\u001b[39m█\u001b[39m▆\u001b[39m▅\u001b[39m▆\u001b[39m▆\u001b[39m▆\u001b[39m▅\u001b[39m▆\u001b[39m▄\u001b[39m▅\u001b[39m▄\u001b[39m▆\u001b[39m█\u001b[39m▆\u001b[39m▄\u001b[39m▄\u001b[39m▃\u001b[39m▃\u001b[39m▄\u001b[39m▄\u001b[39m▅\u001b[39m▄\u001b[39m▃\u001b[39m▄\u001b[39m▂\u001b[39m▃\u001b[39m \u001b[39m▄\n",
       "  5.93 ms\u001b[90m        Histogram: frequency by time\u001b[39m        11.4 ms \u001b[0m\u001b[1m<\u001b[22m\n",
       "\n",
       " Memory estimate\u001b[90m: \u001b[39m\u001b[33m0 bytes\u001b[39m, allocs estimate\u001b[90m: \u001b[39m\u001b[33m0\u001b[39m."
      ]
     },
     "metadata": {},
     "output_type": "display_data"
    }
   ],
   "source": [
    "j_bench = @benchmark sum($a)"
   ]
  },
  {
   "cell_type": "code",
   "execution_count": 41,
   "metadata": {
    "scrolled": true
   },
   "outputs": [
    {
     "data": {
      "text/plain": [
       "Dict{Any, Any} with 6 entries:\n",
       "  \"C\"                   => 12.6868\n",
       "  \"Python numpy\"        => 4.11665\n",
       "  \"Python hand-written\" => 772.096\n",
       "  \"Python built-in\"     => 1037.42\n",
       "  \"Julia built-in\"      => 5.93377\n",
       "  \"C -ffast-math\"       => 6.49078"
      ]
     },
     "metadata": {},
     "output_type": "display_data"
    }
   ],
   "source": [
    "d[\"Julia built-in\"] = minimum(j_bench.times) / 1e6\n",
    "d"
   ]
  },
  {
   "cell_type": "markdown",
   "metadata": {},
   "source": [
    "# 7. Julia (hand-written) "
   ]
  },
  {
   "cell_type": "code",
   "execution_count": 42,
   "metadata": {
    "scrolled": true
   },
   "outputs": [
    {
     "data": {
      "text/plain": [
       "mysum (generic function with 1 method)"
      ]
     },
     "metadata": {},
     "output_type": "display_data"
    }
   ],
   "source": [
    "function mysum(A)   \n",
    "    s = 0.0 # s = zero(eltype(a))\n",
    "    for a in A\n",
    "        s += a\n",
    "    end\n",
    "    s\n",
    "end"
   ]
  },
  {
   "cell_type": "code",
   "execution_count": 43,
   "metadata": {},
   "outputs": [
    {
     "data": {
      "text/plain": [
       "BenchmarkTools.Trial: 355 samples with 1 evaluation.\n",
       " Range \u001b[90m(\u001b[39m\u001b[36m\u001b[1mmin\u001b[22m\u001b[39m … \u001b[35mmax\u001b[39m\u001b[90m):  \u001b[39m\u001b[36m\u001b[1m10.967 ms\u001b[22m\u001b[39m … \u001b[35m24.038 ms\u001b[39m  \u001b[90m┊\u001b[39m GC \u001b[90m(\u001b[39mmin … max\u001b[90m): \u001b[39m0.00% … 0.00%\n",
       " Time  \u001b[90m(\u001b[39m\u001b[34m\u001b[1mmedian\u001b[22m\u001b[39m\u001b[90m):     \u001b[39m\u001b[34m\u001b[1m13.792 ms              \u001b[22m\u001b[39m\u001b[90m┊\u001b[39m GC \u001b[90m(\u001b[39mmedian\u001b[90m):    \u001b[39m0.00%\n",
       " Time  \u001b[90m(\u001b[39m\u001b[32m\u001b[1mmean\u001b[22m\u001b[39m ± \u001b[32mσ\u001b[39m\u001b[90m):   \u001b[39m\u001b[32m\u001b[1m14.077 ms\u001b[22m\u001b[39m ± \u001b[32m 1.916 ms\u001b[39m  \u001b[90m┊\u001b[39m GC \u001b[90m(\u001b[39mmean ± σ\u001b[90m):  \u001b[39m0.00% ± 0.00%\n",
       "\n",
       "  \u001b[39m \u001b[39m \u001b[39m \u001b[39m \u001b[39m \u001b[39m \u001b[39m▂\u001b[39m▁\u001b[39m \u001b[39m▂\u001b[39m█\u001b[39m▁\u001b[39m▂\u001b[39m \u001b[39m▁\u001b[39m \u001b[39m▂\u001b[39m▄\u001b[39m \u001b[34m▁\u001b[39m\u001b[39m▃\u001b[32m▂\u001b[39m\u001b[39m \u001b[39m▂\u001b[39m▂\u001b[39m \u001b[39m \u001b[39m▂\u001b[39m \u001b[39m \u001b[39m \u001b[39m▂\u001b[39m \u001b[39m \u001b[39m \u001b[39m \u001b[39m \u001b[39m \u001b[39m \u001b[39m \u001b[39m \u001b[39m \u001b[39m \u001b[39m \u001b[39m \u001b[39m \u001b[39m \u001b[39m \u001b[39m \u001b[39m \u001b[39m \u001b[39m \u001b[39m \u001b[39m \u001b[39m \u001b[39m \u001b[39m \u001b[39m \u001b[39m \u001b[39m \u001b[39m \n",
       "  \u001b[39m▃\u001b[39m▄\u001b[39m▅\u001b[39m▆\u001b[39m▆\u001b[39m█\u001b[39m█\u001b[39m█\u001b[39m█\u001b[39m█\u001b[39m█\u001b[39m█\u001b[39m█\u001b[39m█\u001b[39m█\u001b[39m█\u001b[39m█\u001b[39m█\u001b[39m█\u001b[34m█\u001b[39m\u001b[39m█\u001b[32m█\u001b[39m\u001b[39m▇\u001b[39m█\u001b[39m█\u001b[39m▇\u001b[39m█\u001b[39m█\u001b[39m█\u001b[39m▅\u001b[39m▆\u001b[39m█\u001b[39m█\u001b[39m▆\u001b[39m▄\u001b[39m▆\u001b[39m▃\u001b[39m▅\u001b[39m▃\u001b[39m▁\u001b[39m▅\u001b[39m▄\u001b[39m▃\u001b[39m▄\u001b[39m▃\u001b[39m▁\u001b[39m▁\u001b[39m▃\u001b[39m▁\u001b[39m▁\u001b[39m▃\u001b[39m▃\u001b[39m▃\u001b[39m▁\u001b[39m▃\u001b[39m▃\u001b[39m▃\u001b[39m▃\u001b[39m▃\u001b[39m \u001b[39m▄\n",
       "  11 ms\u001b[90m           Histogram: frequency by time\u001b[39m        19.6 ms \u001b[0m\u001b[1m<\u001b[22m\n",
       "\n",
       " Memory estimate\u001b[90m: \u001b[39m\u001b[33m0 bytes\u001b[39m, allocs estimate\u001b[90m: \u001b[39m\u001b[33m0\u001b[39m."
      ]
     },
     "metadata": {},
     "output_type": "display_data"
    }
   ],
   "source": [
    "j_bench_hand = @benchmark mysum($a)"
   ]
  },
  {
   "cell_type": "code",
   "execution_count": 44,
   "metadata": {
    "scrolled": true
   },
   "outputs": [
    {
     "data": {
      "text/plain": [
       "Dict{Any, Any} with 7 entries:\n",
       "  \"C\"                   => 12.6868\n",
       "  \"Python numpy\"        => 4.11665\n",
       "  \"Julia hand-written\"  => 10.9671\n",
       "  \"Python hand-written\" => 772.096\n",
       "  \"Python built-in\"     => 1037.42\n",
       "  \"Julia built-in\"      => 5.93377\n",
       "  \"C -ffast-math\"       => 6.49078"
      ]
     },
     "metadata": {},
     "output_type": "display_data"
    }
   ],
   "source": [
    "d[\"Julia hand-written\"] = minimum(j_bench_hand.times) / 1e6\n",
    "d"
   ]
  },
  {
   "cell_type": "markdown",
   "metadata": {},
   "source": [
    "# 8. Julia (hand-written w. simd) "
   ]
  },
  {
   "cell_type": "code",
   "execution_count": 45,
   "metadata": {},
   "outputs": [
    {
     "data": {
      "text/plain": [
       "mysum_simd (generic function with 1 method)"
      ]
     },
     "metadata": {},
     "output_type": "display_data"
    }
   ],
   "source": [
    "function mysum_simd(A)   \n",
    "    s = 0.0 # s = zero(eltype(A))\n",
    "    @simd for a in A\n",
    "        s += a\n",
    "    end\n",
    "    s\n",
    "end"
   ]
  },
  {
   "cell_type": "code",
   "execution_count": 46,
   "metadata": {},
   "outputs": [
    {
     "data": {
      "text/plain": [
       "BenchmarkTools.Trial: 630 samples with 1 evaluation.\n",
       " Range \u001b[90m(\u001b[39m\u001b[36m\u001b[1mmin\u001b[22m\u001b[39m … \u001b[35mmax\u001b[39m\u001b[90m):  \u001b[39m\u001b[36m\u001b[1m6.253 ms\u001b[22m\u001b[39m … \u001b[35m11.864 ms\u001b[39m  \u001b[90m┊\u001b[39m GC \u001b[90m(\u001b[39mmin … max\u001b[90m): \u001b[39m0.00% … 0.00%\n",
       " Time  \u001b[90m(\u001b[39m\u001b[34m\u001b[1mmedian\u001b[22m\u001b[39m\u001b[90m):     \u001b[39m\u001b[34m\u001b[1m7.644 ms              \u001b[22m\u001b[39m\u001b[90m┊\u001b[39m GC \u001b[90m(\u001b[39mmedian\u001b[90m):    \u001b[39m0.00%\n",
       " Time  \u001b[90m(\u001b[39m\u001b[32m\u001b[1mmean\u001b[22m\u001b[39m ± \u001b[32mσ\u001b[39m\u001b[90m):   \u001b[39m\u001b[32m\u001b[1m7.909 ms\u001b[22m\u001b[39m ± \u001b[32m 1.218 ms\u001b[39m  \u001b[90m┊\u001b[39m GC \u001b[90m(\u001b[39mmean ± σ\u001b[90m):  \u001b[39m0.00% ± 0.00%\n",
       "\n",
       "  \u001b[39m \u001b[39m \u001b[39m \u001b[39m█\u001b[39m▆\u001b[39m▂\u001b[39m▂\u001b[39m▄\u001b[39m \u001b[39m▂\u001b[39m▁\u001b[39m \u001b[39m \u001b[39m \u001b[39m \u001b[39m \u001b[39m \u001b[39m▁\u001b[34m \u001b[39m\u001b[39m \u001b[39m \u001b[32m \u001b[39m\u001b[39m \u001b[39m \u001b[39m \u001b[39m \u001b[39m \u001b[39m \u001b[39m \u001b[39m \u001b[39m \u001b[39m \u001b[39m \u001b[39m \u001b[39m \u001b[39m \u001b[39m \u001b[39m \u001b[39m \u001b[39m \u001b[39m \u001b[39m \u001b[39m \u001b[39m \u001b[39m \u001b[39m \u001b[39m \u001b[39m \u001b[39m \u001b[39m \u001b[39m \u001b[39m \u001b[39m \u001b[39m \u001b[39m \u001b[39m \u001b[39m \u001b[39m \u001b[39m \u001b[39m \n",
       "  \u001b[39m▂\u001b[39m▃\u001b[39m▅\u001b[39m█\u001b[39m█\u001b[39m█\u001b[39m█\u001b[39m█\u001b[39m█\u001b[39m█\u001b[39m█\u001b[39m▇\u001b[39m▇\u001b[39m▆\u001b[39m█\u001b[39m▆\u001b[39m▅\u001b[39m█\u001b[34m█\u001b[39m\u001b[39m█\u001b[39m▇\u001b[32m▇\u001b[39m\u001b[39m▇\u001b[39m▇\u001b[39m▇\u001b[39m▃\u001b[39m▅\u001b[39m▅\u001b[39m▂\u001b[39m▄\u001b[39m▃\u001b[39m▃\u001b[39m▅\u001b[39m▅\u001b[39m▃\u001b[39m▄\u001b[39m▄\u001b[39m▂\u001b[39m▃\u001b[39m▅\u001b[39m▄\u001b[39m▃\u001b[39m▃\u001b[39m▃\u001b[39m▂\u001b[39m▃\u001b[39m▅\u001b[39m▃\u001b[39m▄\u001b[39m▃\u001b[39m▄\u001b[39m▃\u001b[39m▂\u001b[39m▃\u001b[39m▅\u001b[39m▁\u001b[39m▂\u001b[39m▃\u001b[39m \u001b[39m▃\n",
       "  6.25 ms\u001b[90m        Histogram: frequency by time\u001b[39m        10.8 ms \u001b[0m\u001b[1m<\u001b[22m\n",
       "\n",
       " Memory estimate\u001b[90m: \u001b[39m\u001b[33m0 bytes\u001b[39m, allocs estimate\u001b[90m: \u001b[39m\u001b[33m0\u001b[39m."
      ]
     },
     "metadata": {},
     "output_type": "display_data"
    }
   ],
   "source": [
    "j_bench_hand_simd = @benchmark mysum_simd($a)"
   ]
  },
  {
   "cell_type": "code",
   "execution_count": 47,
   "metadata": {},
   "outputs": [
    {
     "data": {
      "text/plain": [
       "4.999089291305397e6"
      ]
     },
     "metadata": {},
     "output_type": "display_data"
    }
   ],
   "source": [
    "mysum_simd(a)"
   ]
  },
  {
   "cell_type": "code",
   "execution_count": 48,
   "metadata": {
    "scrolled": true
   },
   "outputs": [
    {
     "data": {
      "text/plain": [
       "Dict{Any, Any} with 8 entries:\n",
       "  \"Julia hand-written simd\" => 6.25278\n",
       "  \"C\"                       => 12.6868\n",
       "  \"Python numpy\"            => 4.11665\n",
       "  \"Julia hand-written\"      => 10.9671\n",
       "  \"Python hand-written\"     => 772.096\n",
       "  \"Python built-in\"         => 1037.42\n",
       "  \"Julia built-in\"          => 5.93377\n",
       "  \"C -ffast-math\"           => 6.49078"
      ]
     },
     "metadata": {},
     "output_type": "display_data"
    }
   ],
   "source": [
    "d[\"Julia hand-written simd\"] = minimum(j_bench_hand_simd.times) / 1e6\n",
    "d"
   ]
  },
  {
   "cell_type": "markdown",
   "metadata": {},
   "source": [
    "# Summary"
   ]
  },
  {
   "cell_type": "code",
   "execution_count": 49,
   "metadata": {
    "scrolled": true
   },
   "outputs": [
    {
     "name": "stdout",
     "output_type": "stream",
     "text": [
      "Python numpy................4.1\n",
      "Julia built-in..............5.9\n",
      "Julia hand-written simd.....6.3\n",
      "C -ffast-math...............6.5\n",
      "Julia hand-written.........11.0\n",
      "C..........................12.7\n",
      "Python hand-written.......772.1\n",
      "Python built-in..........1037.4\n"
     ]
    }
   ],
   "source": [
    "for (key, value) in sort(collect(d), by=last)\n",
    "    println(rpad(key, 25, \".\"), lpad(round(value; digits=1), 6, \".\"))\n",
    "end"
   ]
  }
 ],
 "metadata": {
  "anaconda-cloud": {},
  "kernelspec": {
   "display_name": "Julia 1.7.3",
   "language": "julia",
   "name": "julia-1.7"
  },
  "language_info": {
   "file_extension": ".jl",
   "mimetype": "application/julia",
   "name": "julia",
   "version": "1.7.3"
  },
  "toc": {
   "colors": {
    "hover_highlight": "#DAA520",
    "running_highlight": "#FF0000",
    "selected_highlight": "#FFD700"
   },
   "moveMenuLeft": true,
   "nav_menu": {
    "height": "212px",
    "width": "252px"
   },
   "navigate_menu": true,
   "number_sections": true,
   "sideBar": true,
   "threshold": "2",
   "toc_cell": false,
   "toc_section_display": "block",
   "toc_window_display": false
  }
 },
 "nbformat": 4,
 "nbformat_minor": 4
}
