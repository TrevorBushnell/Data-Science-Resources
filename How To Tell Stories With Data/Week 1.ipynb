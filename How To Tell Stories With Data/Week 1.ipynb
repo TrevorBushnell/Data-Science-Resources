{
 "cells": [
  {
   "cell_type": "markdown",
   "metadata": {},
   "source": [
    "# How to Tell Stories With Data - **WEEK #1**"
   ]
  },
  {
   "cell_type": "markdown",
   "metadata": {},
   "source": [
    "> **CLASS OBJECTIVE:**\n",
    ">\n",
    "> * Make you better at presenting data\n",
    "> * In a world of unlimited data, those who can explain have the power\n",
    "> * Technical learning can take over, but learning proficiency skills is just as important"
   ]
  },
  {
   "cell_type": "markdown",
   "metadata": {},
   "source": [
    "## Chapter 1: The Importance of Context\n",
    "\n",
    "### Explanatory VS Exploratory Analysis\n",
    "\n",
    "* *Exploratory: searching a wide array of factors looking for an insight*\n",
    "* **Explanatory: Analyzing and explaining a very specific thing, usually 1-3 insights**\n",
    "\n",
    "### Who, What, How\n",
    "\n",
    "* **WHAT**\n",
    "    * What action/insight do you want your audience to take away?\n",
    "    * *3-Minute Story:* setting the scene (green), hypothesis (pink), experiment/analysis (dark yellow), results (light yellow)\n",
    "    * *The Big Idea:* taking your 3-minute story and compress it down to one sentence\n",
    "        * must articulate UNIQUE point of view\n",
    "        * convey what is as stake\n",
    "        * must be a complete sentence\n",
    "\n",
    "![An example 3 minute story](images/1.1.png)"
   ]
  },
  {
   "cell_type": "markdown",
   "metadata": {},
   "source": [
    "> **My Example 3-Minute Story:** Here on the analytics team, we have seen that reducing the cut that Schmoogle takes for developers putting their app on the app store in exchange for letting developers use their own payment system will actually drive more revenue for Schmoogle. This seems counter-intuitive because we are taking less of a cut which we would think would cause us to take less revenue overall. As such, we decided to investigate what would happen if we took a 15% cut of revenue from developer apps instead of 30%. We launched a beta app store that would allow developers to use their own payment methods in exchange for a smaller cut. When we launched this option in beta, we noticed that the number of apps that were introduced to the Mandroid platform increased by 150%. In return, the more apps that we have on our platform, the more revenue in turn that we will end up generating for our company. We feel this demonstrates the success of this shifted business model and that we should adjust the Mandroid app store to adapt this model for Schmoogle.\n",
    "\n",
    "* **WHO**\n",
    "    * "
   ]
  }
 ],
 "metadata": {
  "interpreter": {
   "hash": "5c14fff63c0a8ed330ed9126d5cfaff8036e976a2ac919caecec95f614622928"
  },
  "kernelspec": {
   "display_name": "Python 3.9.7",
   "language": "python",
   "name": "python3"
  },
  "language_info": {
   "name": "python",
   "version": "3.9.7"
  },
  "orig_nbformat": 4
 },
 "nbformat": 4,
 "nbformat_minor": 2
}
