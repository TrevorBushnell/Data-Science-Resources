{
 "cells": [
  {
   "cell_type": "markdown",
   "metadata": {},
   "source": [
    "# Julia Basics\n",
    "\n",
    "This notebook contains the basic coding syntax for the basic coding tools in Julia."
   ]
  },
  {
   "cell_type": "markdown",
   "metadata": {},
   "source": [
    "## 1. Variables and Printing"
   ]
  },
  {
   "cell_type": "markdown",
   "metadata": {},
   "source": [
    "### How to Print\n",
    "\n",
    "We can print out statements in Julia by using the `println()` function:"
   ]
  },
  {
   "cell_type": "code",
   "execution_count": 1,
   "metadata": {},
   "outputs": [
    {
     "name": "stdout",
     "output_type": "stream",
     "text": [
      "I'm excited to learn about Julia!\n"
     ]
    }
   ],
   "source": [
    "println(\"I'm excited to learn about Julia!\")"
   ]
  },
  {
   "cell_type": "markdown",
   "metadata": {},
   "source": [
    "### Variables\n",
    "\n",
    "Same as any other programming languages - need a name, value, and slap an equal sign in the middle. Note that Julia will figure out types for us (like Python).\n",
    "\n",
    "You can check the type of variables using the `typeof()` function."
   ]
  },
  {
   "cell_type": "code",
   "execution_count": 2,
   "metadata": {},
   "outputs": [
    {
     "data": {
      "text/plain": [
       "Int64"
      ]
     },
     "execution_count": 2,
     "metadata": {},
     "output_type": "execute_result"
    }
   ],
   "source": [
    "my_answer = 42\n",
    "typeof(my_answer)"
   ]
  },
  {
   "cell_type": "code",
   "execution_count": 3,
   "metadata": {},
   "outputs": [
    {
     "data": {
      "text/plain": [
       "Float64"
      ]
     },
     "execution_count": 3,
     "metadata": {},
     "output_type": "execute_result"
    }
   ],
   "source": [
    "my_pi = 3.14159\n",
    "typeof(my_pi)"
   ]
  },
  {
   "cell_type": "code",
   "execution_count": 4,
   "metadata": {},
   "outputs": [
    {
     "name": "stdout",
     "output_type": "stream",
     "text": [
      "smile"
     ]
    },
    {
     "data": {
      "text/plain": [
       "String"
      ]
     },
     "execution_count": 4,
     "metadata": {},
     "output_type": "execute_result"
    }
   ],
   "source": [
    "😄 = \"smile\"\n",
    "print(😄)\n",
    "typeof(😄)"
   ]
  },
  {
   "cell_type": "markdown",
   "metadata": {},
   "source": [
    "You can reassign values to variables likeso:"
   ]
  },
  {
   "cell_type": "code",
   "execution_count": 5,
   "metadata": {},
   "outputs": [
    {
     "data": {
      "text/plain": [
       "Int64"
      ]
     },
     "execution_count": 5,
     "metadata": {},
     "output_type": "execute_result"
    }
   ],
   "source": [
    "😄 = 1\n",
    "typeof(😄)"
   ]
  },
  {
   "cell_type": "markdown",
   "metadata": {},
   "source": [
    "### Comments\n",
    "\n",
    "You can have a single line comment using `#`\n",
    "\n",
    "You can have multi-line comments using `#=` to start the comment and `=#` to end the comment."
   ]
  },
  {
   "cell_type": "code",
   "execution_count": 6,
   "metadata": {},
   "outputs": [],
   "source": [
    "# Single line comment"
   ]
  },
  {
   "cell_type": "code",
   "execution_count": 7,
   "metadata": {},
   "outputs": [],
   "source": [
    "#=\n",
    "Multi-line comment!\n",
    "WOWOWOWOWOWOWOWOWOWOWOW\n",
    "=#"
   ]
  },
  {
   "cell_type": "markdown",
   "metadata": {},
   "source": [
    "### Syntax for Basic Math"
   ]
  },
  {
   "cell_type": "code",
   "execution_count": 8,
   "metadata": {},
   "outputs": [
    {
     "data": {
      "text/plain": [
       "1"
      ]
     },
     "execution_count": 8,
     "metadata": {},
     "output_type": "execute_result"
    }
   ],
   "source": [
    "sum = 3 + 7\n",
    "difference = 10 - 3\n",
    "product = 20 * 5\n",
    "quotient = 100 / 10\n",
    "power = 10 ^ 2\n",
    "modulus = 101 % 2"
   ]
  },
  {
   "cell_type": "markdown",
   "metadata": {},
   "source": [
    "### Casting\n",
    "\n",
    "You can cast variables to different types using the `convert()` function, where the first parameter is the type and the second parameter is the variable that you wish to convert."
   ]
  },
  {
   "cell_type": "markdown",
   "metadata": {},
   "source": [
    "## Strings\n",
    "\n",
    "You can create strings by putting them inside a set of double quotes or a set of three double quotes.\n",
    "If you wish to use double quotes within your string, you should use the three double quotes option."
   ]
  },
  {
   "cell_type": "code",
   "execution_count": 9,
   "metadata": {},
   "outputs": [
    {
     "name": "stdout",
     "output_type": "stream",
     "text": [
      "This is a test string\n"
     ]
    },
    {
     "data": {
      "text/plain": [
       "String"
      ]
     },
     "execution_count": 9,
     "metadata": {},
     "output_type": "execute_result"
    }
   ],
   "source": [
    "test_string = \"This is a test string\"\n",
    "println(test_string)\n",
    "typeof(test_string)"
   ]
  },
  {
   "cell_type": "markdown",
   "metadata": {},
   "source": [
    "### String Interpolation\n",
    "\n",
    "We can use `$` to insert existing variables into strings as well as evaluate expressions inside strings."
   ]
  },
  {
   "cell_type": "code",
   "execution_count": 10,
   "metadata": {},
   "outputs": [
    {
     "name": "stdout",
     "output_type": "stream",
     "text": [
      "I have 10 fingers and 10 toes which means I have 20 total limbs"
     ]
    }
   ],
   "source": [
    "num_fingers = 10\n",
    "num_toes = 10\n",
    "printing_string = \"I have $num_fingers fingers and $num_toes toes which means I have $(num_fingers + num_toes) total limbs\"\n",
    "print(printing_string)"
   ]
  },
  {
   "cell_type": "markdown",
   "metadata": {},
   "source": [
    "### String Concatenation\n",
    "\n",
    "There are three ways to concatenate strings. \n",
    "\n",
    "**Way #1:** Use the `string()` function and pass in as many strings as you want!"
   ]
  },
  {
   "cell_type": "code",
   "execution_count": 11,
   "metadata": {},
   "outputs": [
    {
     "data": {
      "text/plain": [
       "\"abcdefghi\""
      ]
     },
     "execution_count": 11,
     "metadata": {},
     "output_type": "execute_result"
    }
   ],
   "source": [
    "str1 = \"abc\"\n",
    "str2 = \"def\"\n",
    "str3 = \"ghi\"\n",
    "string(str1, str2, str3)"
   ]
  },
  {
   "cell_type": "markdown",
   "metadata": {},
   "source": [
    "**Way #2:** Use the `*` command."
   ]
  },
  {
   "cell_type": "code",
   "execution_count": 12,
   "metadata": {},
   "outputs": [
    {
     "data": {
      "text/plain": [
       "\"jklmno\""
      ]
     },
     "execution_count": 12,
     "metadata": {},
     "output_type": "execute_result"
    }
   ],
   "source": [
    "str3 = \"jkl\"\n",
    "str4 = \"mno\"\n",
    "str3 * str4"
   ]
  },
  {
   "cell_type": "markdown",
   "metadata": {},
   "source": [
    "**Way #3:** Use `$` inside another string variable"
   ]
  },
  {
   "cell_type": "code",
   "execution_count": 13,
   "metadata": {},
   "outputs": [
    {
     "data": {
      "text/plain": [
       "\"abcdefjklmno\""
      ]
     },
     "execution_count": 13,
     "metadata": {},
     "output_type": "execute_result"
    }
   ],
   "source": [
    "\"$str1$str2$str3$str4\""
   ]
  },
  {
   "cell_type": "markdown",
   "metadata": {},
   "source": [
    "## Data Structures\n",
    "\n",
    "### Dictionaries\n",
    "\n",
    "If we have sets of data related to one another, we can store them inside a dictionary like this:"
   ]
  },
  {
   "cell_type": "code",
   "execution_count": 14,
   "metadata": {},
   "outputs": [
    {
     "data": {
      "text/plain": [
       "Dict{String, String} with 2 entries:\n",
       "  \"Jenny\"        => \"867-5309\"\n",
       "  \"Ghostbusters\" => \"555-2368\""
      ]
     },
     "execution_count": 14,
     "metadata": {},
     "output_type": "execute_result"
    }
   ],
   "source": [
    "phonebook = Dict(\"Jenny\" => \"867-5309\", \"Ghostbusters\" => \"555-2368\")"
   ]
  },
  {
   "cell_type": "markdown",
   "metadata": {},
   "source": [
    "We can add values to the dictionary in the same way as Python:"
   ]
  },
  {
   "cell_type": "code",
   "execution_count": 15,
   "metadata": {},
   "outputs": [
    {
     "data": {
      "text/plain": [
       "\"555-FILK\""
      ]
     },
     "execution_count": 15,
     "metadata": {},
     "output_type": "execute_result"
    }
   ],
   "source": [
    "phonebook[\"Kramer\"] = \"555-FILK\""
   ]
  },
  {
   "cell_type": "markdown",
   "metadata": {},
   "source": [
    "Let's now check our updated dictionary..."
   ]
  },
  {
   "cell_type": "code",
   "execution_count": 16,
   "metadata": {},
   "outputs": [
    {
     "data": {
      "text/plain": [
       "Dict{String, String} with 3 entries:\n",
       "  \"Jenny\"        => \"867-5309\"\n",
       "  \"Kramer\"       => \"555-FILK\"\n",
       "  \"Ghostbusters\" => \"555-2368\""
      ]
     },
     "execution_count": 16,
     "metadata": {},
     "output_type": "execute_result"
    }
   ],
   "source": [
    "phonebook"
   ]
  },
  {
   "cell_type": "markdown",
   "metadata": {},
   "source": [
    "If we want to get the value associated with a key, then we can call the name of the dicionary and put the key inside square brackets:"
   ]
  },
  {
   "cell_type": "code",
   "execution_count": 17,
   "metadata": {},
   "outputs": [
    {
     "data": {
      "text/plain": [
       "\"555-FILK\""
      ]
     },
     "execution_count": 17,
     "metadata": {},
     "output_type": "execute_result"
    }
   ],
   "source": [
    "phonebook[\"Kramer\"]"
   ]
  },
  {
   "cell_type": "markdown",
   "metadata": {},
   "source": [
    "Additionally, we can get Kramer's number with the `pop!` function likeso:"
   ]
  },
  {
   "cell_type": "code",
   "execution_count": 18,
   "metadata": {},
   "outputs": [
    {
     "data": {
      "text/plain": [
       "\"555-FILK\""
      ]
     },
     "execution_count": 18,
     "metadata": {},
     "output_type": "execute_result"
    }
   ],
   "source": [
    "pop!(phonebook, \"Kramer\")"
   ]
  },
  {
   "cell_type": "markdown",
   "metadata": {},
   "source": [
    "Note that by doing this, you are also deleting that key-value pair from the dictionary..."
   ]
  },
  {
   "cell_type": "code",
   "execution_count": 19,
   "metadata": {},
   "outputs": [
    {
     "data": {
      "text/plain": [
       "Dict{String, String} with 2 entries:\n",
       "  \"Jenny\"        => \"867-5309\"\n",
       "  \"Ghostbusters\" => \"555-2368\""
      ]
     },
     "execution_count": 19,
     "metadata": {},
     "output_type": "execute_result"
    }
   ],
   "source": [
    "phonebook"
   ]
  },
  {
   "cell_type": "markdown",
   "metadata": {},
   "source": [
    "Recall that dicionaries are UNORDERED, so we cannot index into them numerically."
   ]
  },
  {
   "cell_type": "markdown",
   "metadata": {},
   "source": [
    "### Tuples\n",
    "\n",
    "Create tuples by enclosing elements in `()`:"
   ]
  },
  {
   "cell_type": "code",
   "execution_count": 20,
   "metadata": {},
   "outputs": [
    {
     "data": {
      "text/plain": [
       "(\"penguins\", \"cats\", \"dogs\")"
      ]
     },
     "execution_count": 20,
     "metadata": {},
     "output_type": "execute_result"
    }
   ],
   "source": [
    "animals = (\"penguins\", \"cats\", \"dogs\")"
   ]
  },
  {
   "cell_type": "code",
   "execution_count": 21,
   "metadata": {},
   "outputs": [
    {
     "data": {
      "text/plain": [
       "\"penguins\""
      ]
     },
     "execution_count": 21,
     "metadata": {},
     "output_type": "execute_result"
    }
   ],
   "source": [
    "animals[1]"
   ]
  },
  {
   "cell_type": "markdown",
   "metadata": {},
   "source": [
    "Two things to note here:\n",
    "\n",
    "1. JULIA IS A 1-BASED INDEXING LANGUAGE!!!!\n",
    "1. Tuples are immutable so I cannot update any of the values in a tuple"
   ]
  },
  {
   "cell_type": "code",
   "execution_count": 22,
   "metadata": {},
   "outputs": [
    {
     "ename": "LoadError",
     "evalue": "MethodError: no method matching setindex!(::Tuple{String, String, String}, ::String, ::Int64)",
     "output_type": "error",
     "traceback": [
      "MethodError: no method matching setindex!(::Tuple{String, String, String}, ::String, ::Int64)",
      "",
      "Stacktrace:",
      " [1] top-level scope",
      "   @ In[22]:1",
      " [2] eval",
      "   @ .\\boot.jl:373 [inlined]",
      " [3] include_string(mapexpr::typeof(REPL.softscope), mod::Module, code::String, filename::String)",
      "   @ Base .\\loading.jl:1196"
     ]
    }
   ],
   "source": [
    "animals[1] = \"otters\""
   ]
  },
  {
   "cell_type": "markdown",
   "metadata": {},
   "source": [
    "### Arrays\n",
    "\n",
    "Arrays are an ordered, mutable sequence of elements. We create arrays by enclosing elements with `[]`"
   ]
  },
  {
   "cell_type": "code",
   "execution_count": 23,
   "metadata": {},
   "outputs": [
    {
     "data": {
      "text/plain": [
       "3-element Vector{String}:\n",
       " \"Ted\"\n",
       " \"Robin\"\n",
       " \"Barney\""
      ]
     },
     "execution_count": 23,
     "metadata": {},
     "output_type": "execute_result"
    }
   ],
   "source": [
    "people = [\"Ted\", \"Robin\", \"Barney\"]"
   ]
  },
  {
   "cell_type": "code",
   "execution_count": 24,
   "metadata": {},
   "outputs": [
    {
     "data": {
      "text/plain": [
       "\"Robin\""
      ]
     },
     "execution_count": 24,
     "metadata": {},
     "output_type": "execute_result"
    }
   ],
   "source": [
    "people[2]"
   ]
  },
  {
   "cell_type": "code",
   "execution_count": 25,
   "metadata": {},
   "outputs": [
    {
     "data": {
      "text/plain": [
       "3-element Vector{String}:\n",
       " \"Ted\"\n",
       " \"Teodoro\"\n",
       " \"Barney\""
      ]
     },
     "execution_count": 25,
     "metadata": {},
     "output_type": "execute_result"
    }
   ],
   "source": [
    "people[2] = \"Teodoro\"\n",
    "people"
   ]
  },
  {
   "cell_type": "markdown",
   "metadata": {},
   "source": [
    "We can add elements to the end of the array using teh `!push!` method and remove elements from the array using the `pop` method. Additionally, we can have arrays of arrays, which is really just a way to create tables!!!\n",
    "\n",
    "Using the `rand` function, we can create arrays of random numbers, similar to MATLAB:"
   ]
  },
  {
   "cell_type": "code",
   "execution_count": 26,
   "metadata": {},
   "outputs": [
    {
     "data": {
      "text/plain": [
       "4×3 Matrix{Float64}:\n",
       " 0.510493  0.774187  0.253526\n",
       " 0.298214  0.440541  0.838847\n",
       " 0.492633  0.963025  0.361353\n",
       " 0.785213  0.67458   0.984695"
      ]
     },
     "execution_count": 26,
     "metadata": {},
     "output_type": "execute_result"
    }
   ],
   "source": [
    "rand(4,3)"
   ]
  },
  {
   "cell_type": "markdown",
   "metadata": {},
   "source": [
    "## Control Flow\n",
    "\n",
    "### `while` Loops\n",
    "\n",
    "While loop syntax is very similar to MATLAB:\n",
    "\n",
    "```\n",
    "while *condition*\n",
    "    *loop body*\n",
    "end```"
   ]
  },
  {
   "cell_type": "code",
   "execution_count": 28,
   "metadata": {},
   "outputs": [
    {
     "name": "stdout",
     "output_type": "stream",
     "text": [
      "1\n",
      "2\n",
      "3\n",
      "4\n",
      "5\n",
      "6\n",
      "7\n",
      "8\n",
      "9\n",
      "10\n"
     ]
    }
   ],
   "source": [
    "i = 1\n",
    "while i <= 10\n",
    "    println(i)\n",
    "    i += 1\n",
    "end"
   ]
  },
  {
   "cell_type": "markdown",
   "metadata": {},
   "source": [
    "### `for` Loops\n",
    "\n",
    "For loops also have very similar syntax to MATLAB:\n",
    "\n",
    "```\n",
    "for *var* in *loop iterable*\n",
    "    *loop body*\n",
    "end```"
   ]
  },
  {
   "cell_type": "code",
   "execution_count": 29,
   "metadata": {},
   "outputs": [
    {
     "name": "stdout",
     "output_type": "stream",
     "text": [
      "1\n",
      "2\n",
      "3\n",
      "4\n",
      "5\n",
      "6\n",
      "7\n",
      "8\n",
      "9\n",
      "10\n"
     ]
    }
   ],
   "source": [
    "for n in 1:10\n",
    "    println(n)\n",
    "end"
   ]
  },
  {
   "cell_type": "markdown",
   "metadata": {},
   "source": [
    "Note that we can replace the `in` keyword with either $=$ or $\\in$."
   ]
  },
  {
   "cell_type": "code",
   "execution_count": 30,
   "metadata": {},
   "outputs": [
    {
     "name": "stdout",
     "output_type": "stream",
     "text": [
      "1\n",
      "2\n",
      "3\n",
      "4\n",
      "5\n",
      "6\n",
      "7\n",
      "8\n",
      "9\n",
      "10\n"
     ]
    }
   ],
   "source": [
    "for n ∈ 1:10\n",
    "    println(n)\n",
    "end"
   ]
  },
  {
   "cell_type": "markdown",
   "metadata": {},
   "source": [
    "Here is an example of using for loops to initialize elements inside a matrix:"
   ]
  },
  {
   "cell_type": "code",
   "execution_count": 32,
   "metadata": {},
   "outputs": [
    {
     "data": {
      "text/plain": [
       "5×5 Matrix{Float64}:\n",
       " 2.0  3.0  4.0  5.0   6.0\n",
       " 3.0  4.0  5.0  6.0   7.0\n",
       " 4.0  5.0  6.0  7.0   8.0\n",
       " 5.0  6.0  7.0  8.0   9.0\n",
       " 6.0  7.0  8.0  9.0  10.0"
      ]
     },
     "execution_count": 32,
     "metadata": {},
     "output_type": "execute_result"
    }
   ],
   "source": [
    "m, n = 5, 5\n",
    "A = zeros(m, n)\n",
    "\n",
    "for i in 1:m\n",
    "    for j in 1:n\n",
    "        A[i, j] = i + j\n",
    "    end\n",
    "end\n",
    "A"
   ]
  },
  {
   "cell_type": "markdown",
   "metadata": {},
   "source": [
    "We can also condense the double for loop into one line, as we can see in the next code cell:"
   ]
  },
  {
   "cell_type": "code",
   "execution_count": 33,
   "metadata": {},
   "outputs": [
    {
     "data": {
      "text/plain": [
       "5×5 Matrix{Float64}:\n",
       " 0.0  0.0  0.0  0.0  0.0\n",
       " 0.0  0.0  0.0  0.0  0.0\n",
       " 0.0  0.0  0.0  0.0  0.0\n",
       " 0.0  0.0  0.0  0.0  0.0\n",
       " 0.0  0.0  0.0  0.0  0.0"
      ]
     },
     "metadata": {},
     "output_type": "display_data"
    }
   ],
   "source": [
    "B = zeros(m, n)\n",
    "for i in 1:m, j in 1:n\n",
    "    A[i, j] = i + j\n",
    "end\n",
    "display(B)"
   ]
  },
  {
   "cell_type": "markdown",
   "metadata": {},
   "source": [
    "### If/Else Statements\n",
    "\n",
    "If/else statements in Julia use the following syntax:\n",
    "\n",
    "```\n",
    "if *condition 1*\n",
    "    *option 1*\n",
    "elseif *condition 2*\n",
    "    *option 2*\n",
    "else\n",
    "    *option 3*\n",
    "end```"
   ]
  },
  {
   "cell_type": "code",
   "execution_count": 34,
   "metadata": {},
   "outputs": [
    {
     "data": {
      "text/plain": [
       "4"
      ]
     },
     "execution_count": 34,
     "metadata": {},
     "output_type": "execute_result"
    }
   ],
   "source": [
    "x = 6\n",
    "y = 4"
   ]
  },
  {
   "cell_type": "code",
   "execution_count": 36,
   "metadata": {},
   "outputs": [
    {
     "name": "stdout",
     "output_type": "stream",
     "text": [
      "6 is larger than 4\n"
     ]
    }
   ],
   "source": [
    "if x > y\n",
    "    println(\"$x is larger than $y\")\n",
    "elseif x < y\n",
    "    println(\"$x is smaller than $y\")\n",
    "else\n",
    "    println(\"$x and $y are equal\")\n",
    "end"
   ]
  },
  {
   "cell_type": "markdown",
   "metadata": {},
   "source": [
    "We can also reduce the code in our if statement using a ternary operator by doing the following adjustment:\n",
    "\n",
    "`a ? b : c`\n",
    "\n",
    "Equates to:\n",
    "\n",
    "```\n",
    "if a\n",
    "    b\n",
    "else\n",
    "    c\n",
    "end\n",
    "```"
   ]
  },
  {
   "cell_type": "code",
   "execution_count": 37,
   "metadata": {},
   "outputs": [
    {
     "data": {
      "text/plain": [
       "6"
      ]
     },
     "execution_count": 37,
     "metadata": {},
     "output_type": "execute_result"
    }
   ],
   "source": [
    "(x > y) ? x : y"
   ]
  },
  {
   "cell_type": "markdown",
   "metadata": {},
   "source": [
    "## Functions\n",
    "\n",
    "### Declaring Functions\n",
    "\n",
    "We declare a function by using `function` and `end` keywords:"
   ]
  },
  {
   "cell_type": "code",
   "execution_count": 38,
   "metadata": {},
   "outputs": [
    {
     "data": {
      "text/plain": [
       "hello (generic function with 1 method)"
      ]
     },
     "execution_count": 38,
     "metadata": {},
     "output_type": "execute_result"
    }
   ],
   "source": [
    "function hello(name)\n",
    "    println(\"Hi $name, it's great to see you!\")\n",
    "end"
   ]
  },
  {
   "cell_type": "markdown",
   "metadata": {},
   "source": [
    "You can then call these functions whenever you want!"
   ]
  },
  {
   "cell_type": "code",
   "execution_count": 39,
   "metadata": {},
   "outputs": [
    {
     "name": "stdout",
     "output_type": "stream",
     "text": [
      "Hi Trevor, it's great to see you!\n"
     ]
    }
   ],
   "source": [
    "hello(\"Trevor\")"
   ]
  },
  {
   "cell_type": "markdown",
   "metadata": {},
   "source": [
    "We can also declare these functions in a single line:"
   ]
  },
  {
   "cell_type": "code",
   "execution_count": 41,
   "metadata": {},
   "outputs": [
    {
     "name": "stdout",
     "output_type": "stream",
     "text": [
      "Hi again Trevor !\n"
     ]
    }
   ],
   "source": [
    "hello2(name) = println(\"Hi again $name !\")\n",
    "hello2(\"Trevor\")"
   ]
  },
  {
   "cell_type": "markdown",
   "metadata": {},
   "source": [
    "Finally, we can write what are called *anonymous functions*, also known as a lambda function."
   ]
  },
  {
   "cell_type": "code",
   "execution_count": 42,
   "metadata": {},
   "outputs": [
    {
     "name": "stdout",
     "output_type": "stream",
     "text": [
      "Hi Trevor, this is a lambda function!\n"
     ]
    }
   ],
   "source": [
    "hello3 = name -> println(\"Hi $name, this is a lambda function!\")\n",
    "hello3(\"Trevor\")"
   ]
  },
  {
   "cell_type": "markdown",
   "metadata": {},
   "source": [
    "### Duck-Typing in Julia\n",
    "\n",
    "Julia functions will work on whatever inputs make \"sense\"... but we can just as easily pass in any type that we want, just sometimes certain input types may not work with your function!\n",
    "\n",
    "\n",
    "### Mutating VS Non-mutating Functions\n",
    "\n",
    "If a function has a `!` afterwards, then that function will modify the input. Otherwise, the function returns a copy of the input. For example, `sort()` will sort an array and return a newly sorted array. However, `sort!()` will simply take the array that is passed in and sort it in place.\n",
    "\n",
    "\n",
    "### Broadcasting\n",
    "\n",
    "You can broadcast functions with the `.` broadcasting operator. A broadcasted function will apply the function on every element inside the input that was passed in. This is better understood with an example. Suppose we have a function `f`, which simple squares the input:"
   ]
  },
  {
   "cell_type": "code",
   "execution_count": 43,
   "metadata": {},
   "outputs": [
    {
     "data": {
      "text/plain": [
       "f (generic function with 1 method)"
      ]
     },
     "execution_count": 43,
     "metadata": {},
     "output_type": "execute_result"
    }
   ],
   "source": [
    "function f(x)\n",
    "    return x^2\n",
    "end"
   ]
  },
  {
   "cell_type": "markdown",
   "metadata": {},
   "source": [
    "Let's also define a random matrix:"
   ]
  },
  {
   "cell_type": "code",
   "execution_count": 44,
   "metadata": {},
   "outputs": [
    {
     "data": {
      "text/plain": [
       "3×3 Matrix{Float64}:\n",
       " 0.559082  0.328993  0.567062\n",
       " 0.688423  0.731075  0.488746\n",
       " 0.296792  0.86442   0.475334"
      ]
     },
     "execution_count": 44,
     "metadata": {},
     "output_type": "execute_result"
    }
   ],
   "source": [
    "C = rand(3,3)"
   ]
  },
  {
   "cell_type": "markdown",
   "metadata": {},
   "source": [
    "If we call `f` on the matrix `C`, we will just simply be squaring the matrix. "
   ]
  },
  {
   "cell_type": "code",
   "execution_count": 45,
   "metadata": {},
   "outputs": [
    {
     "data": {
      "text/plain": [
       "3×3 Matrix{Float64}:\n",
       " 0.707358  0.914632  0.747371\n",
       " 1.03323   1.18344   0.980006\n",
       " 0.902093  1.14049   0.816723"
      ]
     },
     "execution_count": 45,
     "metadata": {},
     "output_type": "execute_result"
    }
   ],
   "source": [
    "f(C)"
   ]
  },
  {
   "cell_type": "markdown",
   "metadata": {},
   "source": [
    "However, if we broadcast `f` across the matrix `C`, then every element in `C` will be squared:"
   ]
  },
  {
   "cell_type": "code",
   "execution_count": 46,
   "metadata": {},
   "outputs": [
    {
     "data": {
      "text/plain": [
       "3×3 Matrix{Float64}:\n",
       " 0.312572   0.108237  0.321559\n",
       " 0.473927   0.534471  0.238873\n",
       " 0.0880857  0.747221  0.225942"
      ]
     },
     "execution_count": 46,
     "metadata": {},
     "output_type": "execute_result"
    }
   ],
   "source": [
    "f.(C)"
   ]
  },
  {
   "cell_type": "markdown",
   "metadata": {},
   "source": [
    "This yields a different result than before."
   ]
  },
  {
   "cell_type": "markdown",
   "metadata": {},
   "source": [
    "## Packages\n",
    "\n",
    "Julia has lots of packages that are supported. If you want to download packages, you will need to import that `Pkg` module using `using Pkg`. Then, you can install packages using the `add` function."
   ]
  },
  {
   "cell_type": "code",
   "execution_count": 47,
   "metadata": {},
   "outputs": [
    {
     "name": "stderr",
     "output_type": "stream",
     "text": [
      "\u001b[32m\u001b[1m    Updating\u001b[22m\u001b[39m registry at `C:\\Users\\bushn\\.julia\\registries\\General.toml`\n",
      "\u001b[32m\u001b[1m   Resolving\u001b[22m\u001b[39m package versions...\n",
      "\u001b[32m\u001b[1m   Installed\u001b[22m\u001b[39m Ogg_jll ─────── v1.3.5+1\n",
      "\u001b[32m\u001b[1m   Installed\u001b[22m\u001b[39m libvorbis_jll ─ v1.3.7+1\n",
      "\u001b[32m\u001b[1m   Installed\u001b[22m\u001b[39m Qt5Base_jll ─── v5.15.3+1\n",
      "\u001b[32m\u001b[1m   Installed\u001b[22m\u001b[39m LERC_jll ────── v3.0.0+1\n",
      "\u001b[32m\u001b[1m   Installed\u001b[22m\u001b[39m Example ─────── v0.5.3\n",
      "\u001b[32m\u001b[1m   Installed\u001b[22m\u001b[39m Libtiff_jll ─── v4.3.0+1\n",
      "\u001b[32m\u001b[1m    Updating\u001b[22m\u001b[39m `C:\\Users\\bushn\\.julia\\environments\\v1.7\\Project.toml`\n",
      " \u001b[90m [7876af07] \u001b[39m\u001b[92m+ Example v0.5.3\u001b[39m\n",
      "\u001b[32m\u001b[1m    Updating\u001b[22m\u001b[39m `C:\\Users\\bushn\\.julia\\environments\\v1.7\\Manifest.toml`\n",
      " \u001b[90m [7876af07] \u001b[39m\u001b[92m+ Example v0.5.3\u001b[39m\n",
      " \u001b[90m [88015f11] \u001b[39m\u001b[92m+ LERC_jll v3.0.0+1\u001b[39m\n",
      " \u001b[90m [89763e89] \u001b[39m\u001b[93m↑ Libtiff_jll v4.3.0+0 ⇒ v4.3.0+1\u001b[39m\n",
      " \u001b[90m [e7412a2a] \u001b[39m\u001b[93m↑ Ogg_jll v1.3.5+0 ⇒ v1.3.5+1\u001b[39m\n",
      " \u001b[90m [ea2cea3b] \u001b[39m\u001b[93m↑ Qt5Base_jll v5.15.3+0 ⇒ v5.15.3+1\u001b[39m\n",
      " \u001b[90m [f27f6e37] \u001b[39m\u001b[93m↑ libvorbis_jll v1.3.7+0 ⇒ v1.3.7+1\u001b[39m\n",
      "\u001b[32m\u001b[1mPrecompiling\u001b[22m\u001b[39m project...\n",
      "\u001b[32m  ✓ \u001b[39mExample\n",
      "\u001b[32m  ✓ \u001b[39m\u001b[90mOgg_jll\u001b[39m\n",
      "\u001b[32m  ✓ \u001b[39m\u001b[90mLERC_jll\u001b[39m\n",
      "\u001b[32m  ✓ \u001b[39m\u001b[90mlibvorbis_jll\u001b[39m\n",
      "\u001b[32m  ✓ \u001b[39m\u001b[90mLibtiff_jll\u001b[39m\n",
      "\u001b[32m  ✓ \u001b[39m\u001b[90mQt5Base_jll\u001b[39m\n",
      "\u001b[32m  ✓ \u001b[39m\u001b[90mImageMagick_jll\u001b[39m\n",
      "\u001b[32m  ✓ \u001b[39m\u001b[90mFFMPEG_jll\u001b[39m\n",
      "\u001b[32m  ✓ \u001b[39m\u001b[90mFFMPEG\u001b[39m\n",
      "\u001b[32m  ✓ \u001b[39m\u001b[90mGR_jll\u001b[39m\n",
      "\u001b[32m  ✓ \u001b[39m\u001b[90mImageMagick\u001b[39m\n",
      "\u001b[32m  ✓ \u001b[39m\u001b[90mGR\u001b[39m\n",
      "\u001b[32m  ✓ \u001b[39mImages\n",
      "\u001b[32m  ✓ \u001b[39mPlots\n",
      "  14 dependencies successfully precompiled in 55 seconds (233 already precompiled)\n"
     ]
    }
   ],
   "source": [
    "using Pkg\n",
    "Pkg.add(\"Example\")"
   ]
  },
  {
   "cell_type": "markdown",
   "metadata": {},
   "source": [
    "We can import the package we downloaded using the `using` keyword:"
   ]
  },
  {
   "cell_type": "code",
   "execution_count": 48,
   "metadata": {},
   "outputs": [
    {
     "name": "stderr",
     "output_type": "stream",
     "text": [
      "WARNING: using Example.hello in module Main conflicts with an existing identifier.\n"
     ]
    }
   ],
   "source": [
    "using Example"
   ]
  },
  {
   "cell_type": "code",
   "execution_count": 49,
   "metadata": {},
   "outputs": [
    {
     "name": "stdout",
     "output_type": "stream",
     "text": [
      "Hi test, it's great to see you!\n"
     ]
    }
   ],
   "source": [
    "hello(\"test\")"
   ]
  },
  {
   "cell_type": "markdown",
   "metadata": {},
   "source": [
    "## Plotting\n",
    "\n",
    "Julia has a package called `Plots.jl` that lets you create plots from within Julia. First, we need to import this package:"
   ]
  },
  {
   "cell_type": "code",
   "execution_count": 53,
   "metadata": {},
   "outputs": [
    {
     "name": "stderr",
     "output_type": "stream",
     "text": [
      "\n",
      "(process:20320): GLib-GIO-WARNING **: 15:20:51.753: Unexpectedly, UWP app `draw.io.draw.ioDiagrams_18.0.1.0_x64__1zh33159kp73c' (AUMId `draw.io.draw.ioDiagrams_1zh33159kp73c!draw.io.draw.ioDiagrams') supports 2 extensions but has no verbs\n"
     ]
    }
   ],
   "source": [
    "using Plots"
   ]
  },
  {
   "cell_type": "markdown",
   "metadata": {},
   "source": [
    "First, let's create some data that we can then plot:"
   ]
  },
  {
   "cell_type": "code",
   "execution_count": 55,
   "metadata": {},
   "outputs": [],
   "source": [
    "x = -3:0.1:3;\n",
    "f(x) = x^2;\n",
    "y = f.(x);"
   ]
  },
  {
   "cell_type": "markdown",
   "metadata": {},
   "source": [
    "Now, we can load the backend that we are going to use for plotting:"
   ]
  },
  {
   "cell_type": "code",
   "execution_count": 56,
   "metadata": {},
   "outputs": [
    {
     "data": {
      "text/plain": [
       "Plots.GRBackend()"
      ]
     },
     "execution_count": 56,
     "metadata": {},
     "output_type": "execute_result"
    }
   ],
   "source": [
    "gr()"
   ]
  },
  {
   "cell_type": "code",
   "execution_count": 58,
   "metadata": {},
   "outputs": [
    {
     "data": {
      "image/svg+xml": "<?xml version=\"1.0\" encoding=\"utf-8\"?>\n<svg xmlns=\"http://www.w3.org/2000/svg\" xmlns:xlink=\"http://www.w3.org/1999/xlink\" width=\"600\" height=\"400\" viewBox=\"0 0 2400 1600\">\n<defs>\n  <clipPath id=\"clip830\">\n    <rect x=\"0\" y=\"0\" width=\"2400\" height=\"1600\"/>\n  </clipPath>\n</defs>\n<path clip-path=\"url(#clip830)\" d=\"\nM0 1600 L2400 1600 L2400 0 L0 0  Z\n  \" fill=\"#ffffff\" fill-rule=\"evenodd\" fill-opacity=\"1\"/>\n<defs>\n  <clipPath id=\"clip831\">\n    <rect x=\"480\" y=\"0\" width=\"1681\" height=\"1600\"/>\n  </clipPath>\n</defs>\n<path clip-path=\"url(#clip830)\" d=\"\nM112.177 1486.45 L2352.76 1486.45 L2352.76 47.2441 L112.177 47.2441  Z\n  \" fill=\"#ffffff\" fill-rule=\"evenodd\" fill-opacity=\"1\"/>\n<defs>\n  <clipPath id=\"clip832\">\n    <rect x=\"112\" y=\"47\" width=\"2242\" height=\"1440\"/>\n  </clipPath>\n</defs>\n<polyline clip-path=\"url(#clip832)\" style=\"stroke:#000000; stroke-linecap:butt; stroke-linejoin:round; stroke-width:2; stroke-opacity:0.1; fill:none\" points=\"\n  175.59,1486.45 175.59,47.2441 \n  \"/>\n<polyline clip-path=\"url(#clip832)\" style=\"stroke:#000000; stroke-linecap:butt; stroke-linejoin:round; stroke-width:2; stroke-opacity:0.1; fill:none\" points=\"\n  527.882,1486.45 527.882,47.2441 \n  \"/>\n<polyline clip-path=\"url(#clip832)\" style=\"stroke:#000000; stroke-linecap:butt; stroke-linejoin:round; stroke-width:2; stroke-opacity:0.1; fill:none\" points=\"\n  880.174,1486.45 880.174,47.2441 \n  \"/>\n<polyline clip-path=\"url(#clip832)\" style=\"stroke:#000000; stroke-linecap:butt; stroke-linejoin:round; stroke-width:2; stroke-opacity:0.1; fill:none\" points=\"\n  1232.47,1486.45 1232.47,47.2441 \n  \"/>\n<polyline clip-path=\"url(#clip832)\" style=\"stroke:#000000; stroke-linecap:butt; stroke-linejoin:round; stroke-width:2; stroke-opacity:0.1; fill:none\" points=\"\n  1584.76,1486.45 1584.76,47.2441 \n  \"/>\n<polyline clip-path=\"url(#clip832)\" style=\"stroke:#000000; stroke-linecap:butt; stroke-linejoin:round; stroke-width:2; stroke-opacity:0.1; fill:none\" points=\"\n  1937.05,1486.45 1937.05,47.2441 \n  \"/>\n<polyline clip-path=\"url(#clip832)\" style=\"stroke:#000000; stroke-linecap:butt; stroke-linejoin:round; stroke-width:2; stroke-opacity:0.1; fill:none\" points=\"\n  2289.34,1486.45 2289.34,47.2441 \n  \"/>\n<polyline clip-path=\"url(#clip830)\" style=\"stroke:#000000; stroke-linecap:butt; stroke-linejoin:round; stroke-width:4; stroke-opacity:1; fill:none\" points=\"\n  112.177,1486.45 2352.76,1486.45 \n  \"/>\n<polyline clip-path=\"url(#clip830)\" style=\"stroke:#000000; stroke-linecap:butt; stroke-linejoin:round; stroke-width:4; stroke-opacity:1; fill:none\" points=\"\n  175.59,1486.45 175.59,1467.55 \n  \"/>\n<polyline clip-path=\"url(#clip830)\" style=\"stroke:#000000; stroke-linecap:butt; stroke-linejoin:round; stroke-width:4; stroke-opacity:1; fill:none\" points=\"\n  527.882,1486.45 527.882,1467.55 \n  \"/>\n<polyline clip-path=\"url(#clip830)\" style=\"stroke:#000000; stroke-linecap:butt; stroke-linejoin:round; stroke-width:4; stroke-opacity:1; fill:none\" points=\"\n  880.174,1486.45 880.174,1467.55 \n  \"/>\n<polyline clip-path=\"url(#clip830)\" style=\"stroke:#000000; stroke-linecap:butt; stroke-linejoin:round; stroke-width:4; stroke-opacity:1; fill:none\" points=\"\n  1232.47,1486.45 1232.47,1467.55 \n  \"/>\n<polyline clip-path=\"url(#clip830)\" style=\"stroke:#000000; stroke-linecap:butt; stroke-linejoin:round; stroke-width:4; stroke-opacity:1; fill:none\" points=\"\n  1584.76,1486.45 1584.76,1467.55 \n  \"/>\n<polyline clip-path=\"url(#clip830)\" style=\"stroke:#000000; stroke-linecap:butt; stroke-linejoin:round; stroke-width:4; stroke-opacity:1; fill:none\" points=\"\n  1937.05,1486.45 1937.05,1467.55 \n  \"/>\n<polyline clip-path=\"url(#clip830)\" style=\"stroke:#000000; stroke-linecap:butt; stroke-linejoin:round; stroke-width:4; stroke-opacity:1; fill:none\" points=\"\n  2289.34,1486.45 2289.34,1467.55 \n  \"/>\n<path clip-path=\"url(#clip830)\" d=\"M145.058 1532.02 L174.733 1532.02 L174.733 1535.95 L145.058 1535.95 L145.058 1532.02 Z\" fill=\"#000000\" fill-rule=\"evenodd\" fill-opacity=\"1\" /><path clip-path=\"url(#clip830)\" d=\"M198.992 1530.21 Q202.349 1530.93 204.224 1533.2 Q206.122 1535.47 206.122 1538.8 Q206.122 1543.92 202.604 1546.72 Q199.085 1549.52 192.604 1549.52 Q190.428 1549.52 188.113 1549.08 Q185.821 1548.66 183.368 1547.81 L183.368 1543.29 Q185.312 1544.43 187.627 1545.01 Q189.942 1545.58 192.465 1545.58 Q196.863 1545.58 199.154 1543.85 Q201.469 1542.11 201.469 1538.8 Q201.469 1535.75 199.317 1534.03 Q197.187 1532.3 193.367 1532.3 L189.34 1532.3 L189.34 1528.45 L193.553 1528.45 Q197.002 1528.45 198.83 1527.09 Q200.659 1525.7 200.659 1523.11 Q200.659 1520.45 198.761 1519.03 Q196.886 1517.6 193.367 1517.6 Q191.446 1517.6 189.247 1518.01 Q187.048 1518.43 184.409 1519.31 L184.409 1515.14 Q187.071 1514.4 189.386 1514.03 Q191.724 1513.66 193.784 1513.66 Q199.108 1513.66 202.21 1516.09 Q205.312 1518.5 205.312 1522.62 Q205.312 1525.49 203.668 1527.48 Q202.025 1529.45 198.992 1530.21 Z\" fill=\"#000000\" fill-rule=\"evenodd\" fill-opacity=\"1\" /><path clip-path=\"url(#clip830)\" d=\"M497.824 1532.02 L527.5 1532.02 L527.5 1535.95 L497.824 1535.95 L497.824 1532.02 Z\" fill=\"#000000\" fill-rule=\"evenodd\" fill-opacity=\"1\" /><path clip-path=\"url(#clip830)\" d=\"M541.62 1544.91 L557.94 1544.91 L557.94 1548.85 L535.995 1548.85 L535.995 1544.91 Q538.657 1542.16 543.241 1537.53 Q547.847 1532.88 549.028 1531.53 Q551.273 1529.01 552.153 1527.27 Q553.056 1525.51 553.056 1523.82 Q553.056 1521.07 551.111 1519.33 Q549.19 1517.6 546.088 1517.6 Q543.889 1517.6 541.435 1518.36 Q539.005 1519.13 536.227 1520.68 L536.227 1515.95 Q539.051 1514.82 541.505 1514.24 Q543.958 1513.66 545.995 1513.66 Q551.366 1513.66 554.56 1516.35 Q557.755 1519.03 557.755 1523.52 Q557.755 1525.65 556.944 1527.57 Q556.157 1529.47 554.051 1532.07 Q553.472 1532.74 550.37 1535.95 Q547.269 1539.15 541.62 1544.91 Z\" fill=\"#000000\" fill-rule=\"evenodd\" fill-opacity=\"1\" /><path clip-path=\"url(#clip830)\" d=\"M849.931 1532.02 L879.607 1532.02 L879.607 1535.95 L849.931 1535.95 L849.931 1532.02 Z\" fill=\"#000000\" fill-rule=\"evenodd\" fill-opacity=\"1\" /><path clip-path=\"url(#clip830)\" d=\"M890.51 1544.91 L898.149 1544.91 L898.149 1518.55 L889.839 1520.21 L889.839 1515.95 L898.102 1514.29 L902.778 1514.29 L902.778 1544.91 L910.417 1544.91 L910.417 1548.85 L890.51 1548.85 L890.51 1544.91 Z\" fill=\"#000000\" fill-rule=\"evenodd\" fill-opacity=\"1\" /><path clip-path=\"url(#clip830)\" d=\"M1232.47 1517.37 Q1228.86 1517.37 1227.03 1520.93 Q1225.22 1524.47 1225.22 1531.6 Q1225.22 1538.71 1227.03 1542.27 Q1228.86 1545.82 1232.47 1545.82 Q1236.1 1545.82 1237.91 1542.27 Q1239.74 1538.71 1239.74 1531.6 Q1239.74 1524.47 1237.91 1520.93 Q1236.1 1517.37 1232.47 1517.37 M1232.47 1513.66 Q1238.28 1513.66 1241.33 1518.27 Q1244.41 1522.85 1244.41 1531.6 Q1244.41 1540.33 1241.33 1544.94 Q1238.28 1549.52 1232.47 1549.52 Q1226.66 1549.52 1223.58 1544.94 Q1220.52 1540.33 1220.52 1531.6 Q1220.52 1522.85 1223.58 1518.27 Q1226.66 1513.66 1232.47 1513.66 Z\" fill=\"#000000\" fill-rule=\"evenodd\" fill-opacity=\"1\" /><path clip-path=\"url(#clip830)\" d=\"M1575.14 1544.91 L1582.78 1544.91 L1582.78 1518.55 L1574.47 1520.21 L1574.47 1515.95 L1582.73 1514.29 L1587.41 1514.29 L1587.41 1544.91 L1595.05 1544.91 L1595.05 1548.85 L1575.14 1548.85 L1575.14 1544.91 Z\" fill=\"#000000\" fill-rule=\"evenodd\" fill-opacity=\"1\" /><path clip-path=\"url(#clip830)\" d=\"M1931.7 1544.91 L1948.02 1544.91 L1948.02 1548.85 L1926.08 1548.85 L1926.08 1544.91 Q1928.74 1542.16 1933.32 1537.53 Q1937.93 1532.88 1939.11 1531.53 Q1941.36 1529.01 1942.24 1527.27 Q1943.14 1525.51 1943.14 1523.82 Q1943.14 1521.07 1941.19 1519.33 Q1939.27 1517.6 1936.17 1517.6 Q1933.97 1517.6 1931.52 1518.36 Q1929.09 1519.13 1926.31 1520.68 L1926.31 1515.95 Q1929.13 1514.82 1931.59 1514.24 Q1934.04 1513.66 1936.08 1513.66 Q1941.45 1513.66 1944.64 1516.35 Q1947.84 1519.03 1947.84 1523.52 Q1947.84 1525.65 1947.03 1527.57 Q1946.24 1529.47 1944.13 1532.07 Q1943.56 1532.74 1940.45 1535.95 Q1937.35 1539.15 1931.7 1544.91 Z\" fill=\"#000000\" fill-rule=\"evenodd\" fill-opacity=\"1\" /><path clip-path=\"url(#clip830)\" d=\"M2293.59 1530.21 Q2296.95 1530.93 2298.82 1533.2 Q2300.72 1535.47 2300.72 1538.8 Q2300.72 1543.92 2297.2 1546.72 Q2293.68 1549.52 2287.2 1549.52 Q2285.03 1549.52 2282.71 1549.08 Q2280.42 1548.66 2277.97 1547.81 L2277.97 1543.29 Q2279.91 1544.43 2282.23 1545.01 Q2284.54 1545.58 2287.06 1545.58 Q2291.46 1545.58 2293.75 1543.85 Q2296.07 1542.11 2296.07 1538.8 Q2296.07 1535.75 2293.92 1534.03 Q2291.79 1532.3 2287.97 1532.3 L2283.94 1532.3 L2283.94 1528.45 L2288.15 1528.45 Q2291.6 1528.45 2293.43 1527.09 Q2295.26 1525.7 2295.26 1523.11 Q2295.26 1520.45 2293.36 1519.03 Q2291.48 1517.6 2287.97 1517.6 Q2286.04 1517.6 2283.85 1518.01 Q2281.65 1518.43 2279.01 1519.31 L2279.01 1515.14 Q2281.67 1514.4 2283.98 1514.03 Q2286.32 1513.66 2288.38 1513.66 Q2293.71 1513.66 2296.81 1516.09 Q2299.91 1518.5 2299.91 1522.62 Q2299.91 1525.49 2298.27 1527.48 Q2296.62 1529.45 2293.59 1530.21 Z\" fill=\"#000000\" fill-rule=\"evenodd\" fill-opacity=\"1\" /><polyline clip-path=\"url(#clip832)\" style=\"stroke:#000000; stroke-linecap:butt; stroke-linejoin:round; stroke-width:2; stroke-opacity:0.1; fill:none\" points=\"\n  112.177,1445.72 2352.76,1445.72 \n  \"/>\n<polyline clip-path=\"url(#clip832)\" style=\"stroke:#000000; stroke-linecap:butt; stroke-linejoin:round; stroke-width:2; stroke-opacity:0.1; fill:none\" points=\"\n  112.177,1144 2352.76,1144 \n  \"/>\n<polyline clip-path=\"url(#clip832)\" style=\"stroke:#000000; stroke-linecap:butt; stroke-linejoin:round; stroke-width:2; stroke-opacity:0.1; fill:none\" points=\"\n  112.177,842.276 2352.76,842.276 \n  \"/>\n<polyline clip-path=\"url(#clip832)\" style=\"stroke:#000000; stroke-linecap:butt; stroke-linejoin:round; stroke-width:2; stroke-opacity:0.1; fill:none\" points=\"\n  112.177,540.556 2352.76,540.556 \n  \"/>\n<polyline clip-path=\"url(#clip832)\" style=\"stroke:#000000; stroke-linecap:butt; stroke-linejoin:round; stroke-width:2; stroke-opacity:0.1; fill:none\" points=\"\n  112.177,238.836 2352.76,238.836 \n  \"/>\n<polyline clip-path=\"url(#clip830)\" style=\"stroke:#000000; stroke-linecap:butt; stroke-linejoin:round; stroke-width:4; stroke-opacity:1; fill:none\" points=\"\n  112.177,1486.45 112.177,47.2441 \n  \"/>\n<polyline clip-path=\"url(#clip830)\" style=\"stroke:#000000; stroke-linecap:butt; stroke-linejoin:round; stroke-width:4; stroke-opacity:1; fill:none\" points=\"\n  112.177,1445.72 131.075,1445.72 \n  \"/>\n<polyline clip-path=\"url(#clip830)\" style=\"stroke:#000000; stroke-linecap:butt; stroke-linejoin:round; stroke-width:4; stroke-opacity:1; fill:none\" points=\"\n  112.177,1144 131.075,1144 \n  \"/>\n<polyline clip-path=\"url(#clip830)\" style=\"stroke:#000000; stroke-linecap:butt; stroke-linejoin:round; stroke-width:4; stroke-opacity:1; fill:none\" points=\"\n  112.177,842.276 131.075,842.276 \n  \"/>\n<polyline clip-path=\"url(#clip830)\" style=\"stroke:#000000; stroke-linecap:butt; stroke-linejoin:round; stroke-width:4; stroke-opacity:1; fill:none\" points=\"\n  112.177,540.556 131.075,540.556 \n  \"/>\n<polyline clip-path=\"url(#clip830)\" style=\"stroke:#000000; stroke-linecap:butt; stroke-linejoin:round; stroke-width:4; stroke-opacity:1; fill:none\" points=\"\n  112.177,238.836 131.075,238.836 \n  \"/>\n<path clip-path=\"url(#clip830)\" d=\"M64.2328 1431.51 Q60.6217 1431.51 58.793 1435.08 Q56.9875 1438.62 56.9875 1445.75 Q56.9875 1452.86 58.793 1456.42 Q60.6217 1459.96 64.2328 1459.96 Q67.867 1459.96 69.6726 1456.42 Q71.5013 1452.86 71.5013 1445.75 Q71.5013 1438.62 69.6726 1435.08 Q67.867 1431.51 64.2328 1431.51 M64.2328 1427.81 Q70.0429 1427.81 73.0985 1432.42 Q76.1772 1437 76.1772 1445.75 Q76.1772 1454.48 73.0985 1459.08 Q70.0429 1463.67 64.2328 1463.67 Q58.4226 1463.67 55.344 1459.08 Q52.2884 1454.48 52.2884 1445.75 Q52.2884 1437 55.344 1432.42 Q58.4226 1427.81 64.2328 1427.81 Z\" fill=\"#000000\" fill-rule=\"evenodd\" fill-opacity=\"1\" /><path clip-path=\"url(#clip830)\" d=\"M59.8578 1157.34 L76.1772 1157.34 L76.1772 1161.28 L54.2328 1161.28 L54.2328 1157.34 Q56.8949 1154.59 61.4782 1149.96 Q66.0846 1145.3 67.2652 1143.96 Q69.5105 1141.44 70.3902 1139.7 Q71.2929 1137.94 71.2929 1136.25 Q71.2929 1133.5 69.3485 1131.76 Q67.4272 1130.03 64.3254 1130.03 Q62.1263 1130.03 59.6726 1130.79 Q57.2421 1131.55 54.4643 1133.1 L54.4643 1128.38 Q57.2884 1127.25 59.7421 1126.67 Q62.1958 1126.09 64.2328 1126.09 Q69.6031 1126.09 72.7976 1128.78 Q75.992 1131.46 75.992 1135.95 Q75.992 1138.08 75.1818 1140 Q74.3948 1141.9 72.2883 1144.49 Q71.7096 1145.16 68.6078 1148.38 Q65.5059 1151.58 59.8578 1157.34 Z\" fill=\"#000000\" fill-rule=\"evenodd\" fill-opacity=\"1\" /><path clip-path=\"url(#clip830)\" d=\"M66.5939 829.07 L54.7884 847.519 L66.5939 847.519 L66.5939 829.07 M65.367 824.996 L71.2466 824.996 L71.2466 847.519 L76.1772 847.519 L76.1772 851.408 L71.2466 851.408 L71.2466 859.556 L66.5939 859.556 L66.5939 851.408 L50.9921 851.408 L50.9921 846.894 L65.367 824.996 Z\" fill=\"#000000\" fill-rule=\"evenodd\" fill-opacity=\"1\" /><path clip-path=\"url(#clip830)\" d=\"M64.6495 538.693 Q61.5013 538.693 59.6495 540.845 Q57.8208 542.998 57.8208 546.748 Q57.8208 550.475 59.6495 552.651 Q61.5013 554.804 64.6495 554.804 Q67.7976 554.804 69.6263 552.651 Q71.4781 550.475 71.4781 546.748 Q71.4781 542.998 69.6263 540.845 Q67.7976 538.693 64.6495 538.693 M73.9318 524.04 L73.9318 528.299 Q72.1726 527.466 70.367 527.026 Q68.5846 526.586 66.8254 526.586 Q62.1958 526.586 59.7421 529.711 Q57.3115 532.836 56.9643 539.156 Q58.33 537.142 60.3902 536.077 Q62.4504 534.989 64.9272 534.989 Q70.1355 534.989 73.1448 538.16 Q76.1772 541.308 76.1772 546.748 Q76.1772 552.072 73.029 555.29 Q69.8809 558.507 64.6495 558.507 Q58.6541 558.507 55.4828 553.924 Q52.3116 549.318 52.3116 540.591 Q52.3116 532.396 56.2004 527.535 Q60.0893 522.651 66.6402 522.651 Q68.3994 522.651 70.1818 522.998 Q71.9874 523.346 73.9318 524.04 Z\" fill=\"#000000\" fill-rule=\"evenodd\" fill-opacity=\"1\" /><path clip-path=\"url(#clip830)\" d=\"M64.3254 239.704 Q60.9921 239.704 59.0708 241.487 Q57.1726 243.269 57.1726 246.394 Q57.1726 249.519 59.0708 251.301 Q60.9921 253.084 64.3254 253.084 Q67.6587 253.084 69.58 251.301 Q71.5013 249.496 71.5013 246.394 Q71.5013 243.269 69.58 241.487 Q67.6819 239.704 64.3254 239.704 M59.6495 237.714 Q56.6402 236.973 54.9504 234.913 Q53.2838 232.852 53.2838 229.89 Q53.2838 225.746 56.2236 223.339 Q59.1865 220.931 64.3254 220.931 Q69.4874 220.931 72.4272 223.339 Q75.367 225.746 75.367 229.89 Q75.367 232.852 73.6772 234.913 Q72.0105 236.973 69.0244 237.714 Q72.404 238.501 74.279 240.792 Q76.1772 243.084 76.1772 246.394 Q76.1772 251.417 73.0985 254.102 Q70.0429 256.788 64.3254 256.788 Q58.6078 256.788 55.5291 254.102 Q52.4736 251.417 52.4736 246.394 Q52.4736 243.084 54.3717 240.792 Q56.2699 238.501 59.6495 237.714 M57.9365 230.329 Q57.9365 233.014 59.6032 234.519 Q61.293 236.024 64.3254 236.024 Q67.3346 236.024 69.0244 234.519 Q70.7374 233.014 70.7374 230.329 Q70.7374 227.644 69.0244 226.14 Q67.3346 224.635 64.3254 224.635 Q61.293 224.635 59.6032 226.14 Q57.9365 227.644 57.9365 230.329 Z\" fill=\"#000000\" fill-rule=\"evenodd\" fill-opacity=\"1\" /><polyline clip-path=\"url(#clip832)\" style=\"stroke:#009af9; stroke-linecap:butt; stroke-linejoin:round; stroke-width:4; stroke-opacity:1; fill:none\" points=\"\n  175.59,87.9763 210.819,176.984 246.048,262.974 281.277,345.947 316.507,425.903 351.736,502.841 386.965,576.762 422.194,647.667 457.424,715.554 492.653,780.423 \n  527.882,842.276 563.111,901.111 598.34,956.93 633.57,1009.73 668.799,1059.51 704.028,1106.28 739.257,1150.03 774.487,1190.76 809.716,1228.48 844.945,1263.18 \n  880.174,1294.86 915.404,1323.52 950.633,1349.17 985.862,1371.79 1021.09,1391.41 1056.32,1408 1091.55,1421.58 1126.78,1432.14 1162.01,1439.68 1197.24,1444.21 \n  1232.47,1445.72 1267.7,1444.21 1302.92,1439.68 1338.15,1432.14 1373.38,1421.58 1408.61,1408 1443.84,1391.41 1479.07,1371.79 1514.3,1349.17 1549.53,1323.52 \n  1584.76,1294.86 1619.99,1263.18 1655.22,1228.48 1690.45,1190.76 1725.68,1150.03 1760.9,1106.28 1796.13,1059.51 1831.36,1009.73 1866.59,956.93 1901.82,901.111 \n  1937.05,842.276 1972.28,780.423 2007.51,715.554 2042.74,647.667 2077.97,576.762 2113.2,502.841 2148.43,425.903 2183.66,345.947 2218.88,262.974 2254.11,176.984 \n  2289.34,87.9763 \n  \"/>\n<circle clip-path=\"url(#clip832)\" cx=\"175.59\" cy=\"87.9763\" r=\"14\" fill=\"#e26f46\" fill-rule=\"evenodd\" fill-opacity=\"1\" stroke=\"#000000\" stroke-opacity=\"1\" stroke-width=\"3.2\"/>\n<circle clip-path=\"url(#clip832)\" cx=\"210.819\" cy=\"176.984\" r=\"14\" fill=\"#e26f46\" fill-rule=\"evenodd\" fill-opacity=\"1\" stroke=\"#000000\" stroke-opacity=\"1\" stroke-width=\"3.2\"/>\n<circle clip-path=\"url(#clip832)\" cx=\"246.048\" cy=\"262.974\" r=\"14\" fill=\"#e26f46\" fill-rule=\"evenodd\" fill-opacity=\"1\" stroke=\"#000000\" stroke-opacity=\"1\" stroke-width=\"3.2\"/>\n<circle clip-path=\"url(#clip832)\" cx=\"281.277\" cy=\"345.947\" r=\"14\" fill=\"#e26f46\" fill-rule=\"evenodd\" fill-opacity=\"1\" stroke=\"#000000\" stroke-opacity=\"1\" stroke-width=\"3.2\"/>\n<circle clip-path=\"url(#clip832)\" cx=\"316.507\" cy=\"425.903\" r=\"14\" fill=\"#e26f46\" fill-rule=\"evenodd\" fill-opacity=\"1\" stroke=\"#000000\" stroke-opacity=\"1\" stroke-width=\"3.2\"/>\n<circle clip-path=\"url(#clip832)\" cx=\"351.736\" cy=\"502.841\" r=\"14\" fill=\"#e26f46\" fill-rule=\"evenodd\" fill-opacity=\"1\" stroke=\"#000000\" stroke-opacity=\"1\" stroke-width=\"3.2\"/>\n<circle clip-path=\"url(#clip832)\" cx=\"386.965\" cy=\"576.762\" r=\"14\" fill=\"#e26f46\" fill-rule=\"evenodd\" fill-opacity=\"1\" stroke=\"#000000\" stroke-opacity=\"1\" stroke-width=\"3.2\"/>\n<circle clip-path=\"url(#clip832)\" cx=\"422.194\" cy=\"647.667\" r=\"14\" fill=\"#e26f46\" fill-rule=\"evenodd\" fill-opacity=\"1\" stroke=\"#000000\" stroke-opacity=\"1\" stroke-width=\"3.2\"/>\n<circle clip-path=\"url(#clip832)\" cx=\"457.424\" cy=\"715.554\" r=\"14\" fill=\"#e26f46\" fill-rule=\"evenodd\" fill-opacity=\"1\" stroke=\"#000000\" stroke-opacity=\"1\" stroke-width=\"3.2\"/>\n<circle clip-path=\"url(#clip832)\" cx=\"492.653\" cy=\"780.423\" r=\"14\" fill=\"#e26f46\" fill-rule=\"evenodd\" fill-opacity=\"1\" stroke=\"#000000\" stroke-opacity=\"1\" stroke-width=\"3.2\"/>\n<circle clip-path=\"url(#clip832)\" cx=\"527.882\" cy=\"842.276\" r=\"14\" fill=\"#e26f46\" fill-rule=\"evenodd\" fill-opacity=\"1\" stroke=\"#000000\" stroke-opacity=\"1\" stroke-width=\"3.2\"/>\n<circle clip-path=\"url(#clip832)\" cx=\"563.111\" cy=\"901.111\" r=\"14\" fill=\"#e26f46\" fill-rule=\"evenodd\" fill-opacity=\"1\" stroke=\"#000000\" stroke-opacity=\"1\" stroke-width=\"3.2\"/>\n<circle clip-path=\"url(#clip832)\" cx=\"598.34\" cy=\"956.93\" r=\"14\" fill=\"#e26f46\" fill-rule=\"evenodd\" fill-opacity=\"1\" stroke=\"#000000\" stroke-opacity=\"1\" stroke-width=\"3.2\"/>\n<circle clip-path=\"url(#clip832)\" cx=\"633.57\" cy=\"1009.73\" r=\"14\" fill=\"#e26f46\" fill-rule=\"evenodd\" fill-opacity=\"1\" stroke=\"#000000\" stroke-opacity=\"1\" stroke-width=\"3.2\"/>\n<circle clip-path=\"url(#clip832)\" cx=\"668.799\" cy=\"1059.51\" r=\"14\" fill=\"#e26f46\" fill-rule=\"evenodd\" fill-opacity=\"1\" stroke=\"#000000\" stroke-opacity=\"1\" stroke-width=\"3.2\"/>\n<circle clip-path=\"url(#clip832)\" cx=\"704.028\" cy=\"1106.28\" r=\"14\" fill=\"#e26f46\" fill-rule=\"evenodd\" fill-opacity=\"1\" stroke=\"#000000\" stroke-opacity=\"1\" stroke-width=\"3.2\"/>\n<circle clip-path=\"url(#clip832)\" cx=\"739.257\" cy=\"1150.03\" r=\"14\" fill=\"#e26f46\" fill-rule=\"evenodd\" fill-opacity=\"1\" stroke=\"#000000\" stroke-opacity=\"1\" stroke-width=\"3.2\"/>\n<circle clip-path=\"url(#clip832)\" cx=\"774.487\" cy=\"1190.76\" r=\"14\" fill=\"#e26f46\" fill-rule=\"evenodd\" fill-opacity=\"1\" stroke=\"#000000\" stroke-opacity=\"1\" stroke-width=\"3.2\"/>\n<circle clip-path=\"url(#clip832)\" cx=\"809.716\" cy=\"1228.48\" r=\"14\" fill=\"#e26f46\" fill-rule=\"evenodd\" fill-opacity=\"1\" stroke=\"#000000\" stroke-opacity=\"1\" stroke-width=\"3.2\"/>\n<circle clip-path=\"url(#clip832)\" cx=\"844.945\" cy=\"1263.18\" r=\"14\" fill=\"#e26f46\" fill-rule=\"evenodd\" fill-opacity=\"1\" stroke=\"#000000\" stroke-opacity=\"1\" stroke-width=\"3.2\"/>\n<circle clip-path=\"url(#clip832)\" cx=\"880.174\" cy=\"1294.86\" r=\"14\" fill=\"#e26f46\" fill-rule=\"evenodd\" fill-opacity=\"1\" stroke=\"#000000\" stroke-opacity=\"1\" stroke-width=\"3.2\"/>\n<circle clip-path=\"url(#clip832)\" cx=\"915.404\" cy=\"1323.52\" r=\"14\" fill=\"#e26f46\" fill-rule=\"evenodd\" fill-opacity=\"1\" stroke=\"#000000\" stroke-opacity=\"1\" stroke-width=\"3.2\"/>\n<circle clip-path=\"url(#clip832)\" cx=\"950.633\" cy=\"1349.17\" r=\"14\" fill=\"#e26f46\" fill-rule=\"evenodd\" fill-opacity=\"1\" stroke=\"#000000\" stroke-opacity=\"1\" stroke-width=\"3.2\"/>\n<circle clip-path=\"url(#clip832)\" cx=\"985.862\" cy=\"1371.79\" r=\"14\" fill=\"#e26f46\" fill-rule=\"evenodd\" fill-opacity=\"1\" stroke=\"#000000\" stroke-opacity=\"1\" stroke-width=\"3.2\"/>\n<circle clip-path=\"url(#clip832)\" cx=\"1021.09\" cy=\"1391.41\" r=\"14\" fill=\"#e26f46\" fill-rule=\"evenodd\" fill-opacity=\"1\" stroke=\"#000000\" stroke-opacity=\"1\" stroke-width=\"3.2\"/>\n<circle clip-path=\"url(#clip832)\" cx=\"1056.32\" cy=\"1408\" r=\"14\" fill=\"#e26f46\" fill-rule=\"evenodd\" fill-opacity=\"1\" stroke=\"#000000\" stroke-opacity=\"1\" stroke-width=\"3.2\"/>\n<circle clip-path=\"url(#clip832)\" cx=\"1091.55\" cy=\"1421.58\" r=\"14\" fill=\"#e26f46\" fill-rule=\"evenodd\" fill-opacity=\"1\" stroke=\"#000000\" stroke-opacity=\"1\" stroke-width=\"3.2\"/>\n<circle clip-path=\"url(#clip832)\" cx=\"1126.78\" cy=\"1432.14\" r=\"14\" fill=\"#e26f46\" fill-rule=\"evenodd\" fill-opacity=\"1\" stroke=\"#000000\" stroke-opacity=\"1\" stroke-width=\"3.2\"/>\n<circle clip-path=\"url(#clip832)\" cx=\"1162.01\" cy=\"1439.68\" r=\"14\" fill=\"#e26f46\" fill-rule=\"evenodd\" fill-opacity=\"1\" stroke=\"#000000\" stroke-opacity=\"1\" stroke-width=\"3.2\"/>\n<circle clip-path=\"url(#clip832)\" cx=\"1197.24\" cy=\"1444.21\" r=\"14\" fill=\"#e26f46\" fill-rule=\"evenodd\" fill-opacity=\"1\" stroke=\"#000000\" stroke-opacity=\"1\" stroke-width=\"3.2\"/>\n<circle clip-path=\"url(#clip832)\" cx=\"1232.47\" cy=\"1445.72\" r=\"14\" fill=\"#e26f46\" fill-rule=\"evenodd\" fill-opacity=\"1\" stroke=\"#000000\" stroke-opacity=\"1\" stroke-width=\"3.2\"/>\n<circle clip-path=\"url(#clip832)\" cx=\"1267.7\" cy=\"1444.21\" r=\"14\" fill=\"#e26f46\" fill-rule=\"evenodd\" fill-opacity=\"1\" stroke=\"#000000\" stroke-opacity=\"1\" stroke-width=\"3.2\"/>\n<circle clip-path=\"url(#clip832)\" cx=\"1302.92\" cy=\"1439.68\" r=\"14\" fill=\"#e26f46\" fill-rule=\"evenodd\" fill-opacity=\"1\" stroke=\"#000000\" stroke-opacity=\"1\" stroke-width=\"3.2\"/>\n<circle clip-path=\"url(#clip832)\" cx=\"1338.15\" cy=\"1432.14\" r=\"14\" fill=\"#e26f46\" fill-rule=\"evenodd\" fill-opacity=\"1\" stroke=\"#000000\" stroke-opacity=\"1\" stroke-width=\"3.2\"/>\n<circle clip-path=\"url(#clip832)\" cx=\"1373.38\" cy=\"1421.58\" r=\"14\" fill=\"#e26f46\" fill-rule=\"evenodd\" fill-opacity=\"1\" stroke=\"#000000\" stroke-opacity=\"1\" stroke-width=\"3.2\"/>\n<circle clip-path=\"url(#clip832)\" cx=\"1408.61\" cy=\"1408\" r=\"14\" fill=\"#e26f46\" fill-rule=\"evenodd\" fill-opacity=\"1\" stroke=\"#000000\" stroke-opacity=\"1\" stroke-width=\"3.2\"/>\n<circle clip-path=\"url(#clip832)\" cx=\"1443.84\" cy=\"1391.41\" r=\"14\" fill=\"#e26f46\" fill-rule=\"evenodd\" fill-opacity=\"1\" stroke=\"#000000\" stroke-opacity=\"1\" stroke-width=\"3.2\"/>\n<circle clip-path=\"url(#clip832)\" cx=\"1479.07\" cy=\"1371.79\" r=\"14\" fill=\"#e26f46\" fill-rule=\"evenodd\" fill-opacity=\"1\" stroke=\"#000000\" stroke-opacity=\"1\" stroke-width=\"3.2\"/>\n<circle clip-path=\"url(#clip832)\" cx=\"1514.3\" cy=\"1349.17\" r=\"14\" fill=\"#e26f46\" fill-rule=\"evenodd\" fill-opacity=\"1\" stroke=\"#000000\" stroke-opacity=\"1\" stroke-width=\"3.2\"/>\n<circle clip-path=\"url(#clip832)\" cx=\"1549.53\" cy=\"1323.52\" r=\"14\" fill=\"#e26f46\" fill-rule=\"evenodd\" fill-opacity=\"1\" stroke=\"#000000\" stroke-opacity=\"1\" stroke-width=\"3.2\"/>\n<circle clip-path=\"url(#clip832)\" cx=\"1584.76\" cy=\"1294.86\" r=\"14\" fill=\"#e26f46\" fill-rule=\"evenodd\" fill-opacity=\"1\" stroke=\"#000000\" stroke-opacity=\"1\" stroke-width=\"3.2\"/>\n<circle clip-path=\"url(#clip832)\" cx=\"1619.99\" cy=\"1263.18\" r=\"14\" fill=\"#e26f46\" fill-rule=\"evenodd\" fill-opacity=\"1\" stroke=\"#000000\" stroke-opacity=\"1\" stroke-width=\"3.2\"/>\n<circle clip-path=\"url(#clip832)\" cx=\"1655.22\" cy=\"1228.48\" r=\"14\" fill=\"#e26f46\" fill-rule=\"evenodd\" fill-opacity=\"1\" stroke=\"#000000\" stroke-opacity=\"1\" stroke-width=\"3.2\"/>\n<circle clip-path=\"url(#clip832)\" cx=\"1690.45\" cy=\"1190.76\" r=\"14\" fill=\"#e26f46\" fill-rule=\"evenodd\" fill-opacity=\"1\" stroke=\"#000000\" stroke-opacity=\"1\" stroke-width=\"3.2\"/>\n<circle clip-path=\"url(#clip832)\" cx=\"1725.68\" cy=\"1150.03\" r=\"14\" fill=\"#e26f46\" fill-rule=\"evenodd\" fill-opacity=\"1\" stroke=\"#000000\" stroke-opacity=\"1\" stroke-width=\"3.2\"/>\n<circle clip-path=\"url(#clip832)\" cx=\"1760.9\" cy=\"1106.28\" r=\"14\" fill=\"#e26f46\" fill-rule=\"evenodd\" fill-opacity=\"1\" stroke=\"#000000\" stroke-opacity=\"1\" stroke-width=\"3.2\"/>\n<circle clip-path=\"url(#clip832)\" cx=\"1796.13\" cy=\"1059.51\" r=\"14\" fill=\"#e26f46\" fill-rule=\"evenodd\" fill-opacity=\"1\" stroke=\"#000000\" stroke-opacity=\"1\" stroke-width=\"3.2\"/>\n<circle clip-path=\"url(#clip832)\" cx=\"1831.36\" cy=\"1009.73\" r=\"14\" fill=\"#e26f46\" fill-rule=\"evenodd\" fill-opacity=\"1\" stroke=\"#000000\" stroke-opacity=\"1\" stroke-width=\"3.2\"/>\n<circle clip-path=\"url(#clip832)\" cx=\"1866.59\" cy=\"956.93\" r=\"14\" fill=\"#e26f46\" fill-rule=\"evenodd\" fill-opacity=\"1\" stroke=\"#000000\" stroke-opacity=\"1\" stroke-width=\"3.2\"/>\n<circle clip-path=\"url(#clip832)\" cx=\"1901.82\" cy=\"901.111\" r=\"14\" fill=\"#e26f46\" fill-rule=\"evenodd\" fill-opacity=\"1\" stroke=\"#000000\" stroke-opacity=\"1\" stroke-width=\"3.2\"/>\n<circle clip-path=\"url(#clip832)\" cx=\"1937.05\" cy=\"842.276\" r=\"14\" fill=\"#e26f46\" fill-rule=\"evenodd\" fill-opacity=\"1\" stroke=\"#000000\" stroke-opacity=\"1\" stroke-width=\"3.2\"/>\n<circle clip-path=\"url(#clip832)\" cx=\"1972.28\" cy=\"780.423\" r=\"14\" fill=\"#e26f46\" fill-rule=\"evenodd\" fill-opacity=\"1\" stroke=\"#000000\" stroke-opacity=\"1\" stroke-width=\"3.2\"/>\n<circle clip-path=\"url(#clip832)\" cx=\"2007.51\" cy=\"715.554\" r=\"14\" fill=\"#e26f46\" fill-rule=\"evenodd\" fill-opacity=\"1\" stroke=\"#000000\" stroke-opacity=\"1\" stroke-width=\"3.2\"/>\n<circle clip-path=\"url(#clip832)\" cx=\"2042.74\" cy=\"647.667\" r=\"14\" fill=\"#e26f46\" fill-rule=\"evenodd\" fill-opacity=\"1\" stroke=\"#000000\" stroke-opacity=\"1\" stroke-width=\"3.2\"/>\n<circle clip-path=\"url(#clip832)\" cx=\"2077.97\" cy=\"576.762\" r=\"14\" fill=\"#e26f46\" fill-rule=\"evenodd\" fill-opacity=\"1\" stroke=\"#000000\" stroke-opacity=\"1\" stroke-width=\"3.2\"/>\n<circle clip-path=\"url(#clip832)\" cx=\"2113.2\" cy=\"502.841\" r=\"14\" fill=\"#e26f46\" fill-rule=\"evenodd\" fill-opacity=\"1\" stroke=\"#000000\" stroke-opacity=\"1\" stroke-width=\"3.2\"/>\n<circle clip-path=\"url(#clip832)\" cx=\"2148.43\" cy=\"425.903\" r=\"14\" fill=\"#e26f46\" fill-rule=\"evenodd\" fill-opacity=\"1\" stroke=\"#000000\" stroke-opacity=\"1\" stroke-width=\"3.2\"/>\n<circle clip-path=\"url(#clip832)\" cx=\"2183.66\" cy=\"345.947\" r=\"14\" fill=\"#e26f46\" fill-rule=\"evenodd\" fill-opacity=\"1\" stroke=\"#000000\" stroke-opacity=\"1\" stroke-width=\"3.2\"/>\n<circle clip-path=\"url(#clip832)\" cx=\"2218.88\" cy=\"262.974\" r=\"14\" fill=\"#e26f46\" fill-rule=\"evenodd\" fill-opacity=\"1\" stroke=\"#000000\" stroke-opacity=\"1\" stroke-width=\"3.2\"/>\n<circle clip-path=\"url(#clip832)\" cx=\"2254.11\" cy=\"176.984\" r=\"14\" fill=\"#e26f46\" fill-rule=\"evenodd\" fill-opacity=\"1\" stroke=\"#000000\" stroke-opacity=\"1\" stroke-width=\"3.2\"/>\n<circle clip-path=\"url(#clip832)\" cx=\"2289.34\" cy=\"87.9763\" r=\"14\" fill=\"#e26f46\" fill-rule=\"evenodd\" fill-opacity=\"1\" stroke=\"#000000\" stroke-opacity=\"1\" stroke-width=\"3.2\"/>\n<path clip-path=\"url(#clip830)\" d=\"\nM1890.14 250.738 L2278.07 250.738 L2278.07 95.2176 L1890.14 95.2176  Z\n  \" fill=\"#ffffff\" fill-rule=\"evenodd\" fill-opacity=\"1\"/>\n<polyline clip-path=\"url(#clip830)\" style=\"stroke:#000000; stroke-linecap:butt; stroke-linejoin:round; stroke-width:4; stroke-opacity:1; fill:none\" points=\"\n  1890.14,250.738 2278.07,250.738 2278.07,95.2176 1890.14,95.2176 1890.14,250.738 \n  \"/>\n<polyline clip-path=\"url(#clip830)\" style=\"stroke:#009af9; stroke-linecap:butt; stroke-linejoin:round; stroke-width:4; stroke-opacity:1; fill:none\" points=\"\n  1915.03,147.058 2064.4,147.058 \n  \"/>\n<path clip-path=\"url(#clip830)\" d=\"M2089.3 128.319 L2093.56 128.319 L2093.56 164.338 L2089.3 164.338 L2089.3 128.319 Z\" fill=\"#000000\" fill-rule=\"evenodd\" fill-opacity=\"1\" /><path clip-path=\"url(#clip830)\" d=\"M2102.47 138.412 L2106.73 138.412 L2106.73 164.338 L2102.47 164.338 L2102.47 138.412 M2102.47 128.319 L2106.73 128.319 L2106.73 133.713 L2102.47 133.713 L2102.47 128.319 Z\" fill=\"#000000\" fill-rule=\"evenodd\" fill-opacity=\"1\" /><path clip-path=\"url(#clip830)\" d=\"M2137.19 148.689 L2137.19 164.338 L2132.93 164.338 L2132.93 148.828 Q2132.93 145.148 2131.5 143.319 Q2130.06 141.49 2127.19 141.49 Q2123.74 141.49 2121.75 143.69 Q2119.76 145.889 2119.76 149.685 L2119.76 164.338 L2115.48 164.338 L2115.48 138.412 L2119.76 138.412 L2119.76 142.44 Q2121.29 140.102 2123.35 138.944 Q2125.43 137.787 2128.14 137.787 Q2132.61 137.787 2134.9 140.565 Q2137.19 143.319 2137.19 148.689 Z\" fill=\"#000000\" fill-rule=\"evenodd\" fill-opacity=\"1\" /><path clip-path=\"url(#clip830)\" d=\"M2167.86 150.31 L2167.86 152.393 L2148.28 152.393 Q2148.56 156.791 2150.92 159.106 Q2153.3 161.398 2157.54 161.398 Q2159.99 161.398 2162.28 160.796 Q2164.6 160.194 2166.87 158.99 L2166.87 163.018 Q2164.58 163.99 2162.17 164.5 Q2159.76 165.009 2157.28 165.009 Q2151.08 165.009 2147.45 161.398 Q2143.84 157.787 2143.84 151.629 Q2143.84 145.264 2147.26 141.537 Q2150.71 137.787 2156.54 137.787 Q2161.78 137.787 2164.81 141.166 Q2167.86 144.523 2167.86 150.31 M2163.6 149.06 Q2163.56 145.565 2161.64 143.481 Q2159.74 141.398 2156.59 141.398 Q2153.03 141.398 2150.87 143.412 Q2148.74 145.426 2148.42 149.083 L2163.6 149.06 Z\" fill=\"#000000\" fill-rule=\"evenodd\" fill-opacity=\"1\" /><circle clip-path=\"url(#clip830)\" cx=\"1989.72\" cy=\"198.898\" r=\"23\" fill=\"#e26f46\" fill-rule=\"evenodd\" fill-opacity=\"1\" stroke=\"#000000\" stroke-opacity=\"1\" stroke-width=\"5.12\"/>\n<path clip-path=\"url(#clip830)\" d=\"M2093.58 212.289 L2093.58 226.039 L2089.3 226.039 L2089.3 190.252 L2093.58 190.252 L2093.58 194.187 Q2094.92 191.872 2096.96 190.761 Q2099.02 189.627 2101.87 189.627 Q2106.59 189.627 2109.53 193.377 Q2112.49 197.127 2112.49 203.238 Q2112.49 209.349 2109.53 213.099 Q2106.59 216.849 2101.87 216.849 Q2099.02 216.849 2096.96 215.738 Q2094.92 214.603 2093.58 212.289 M2108.07 203.238 Q2108.07 198.539 2106.13 195.877 Q2104.21 193.192 2100.83 193.192 Q2097.45 193.192 2095.5 195.877 Q2093.58 198.539 2093.58 203.238 Q2093.58 207.937 2095.5 210.622 Q2097.45 213.284 2100.83 213.284 Q2104.21 213.284 2106.13 210.622 Q2108.07 207.937 2108.07 203.238 Z\" fill=\"#000000\" fill-rule=\"evenodd\" fill-opacity=\"1\" /><path clip-path=\"url(#clip830)\" d=\"M2129.6 193.238 Q2126.17 193.238 2124.18 195.923 Q2122.19 198.585 2122.19 203.238 Q2122.19 207.891 2124.16 210.576 Q2126.15 213.238 2129.6 213.238 Q2133 213.238 2134.99 210.553 Q2136.98 207.867 2136.98 203.238 Q2136.98 198.631 2134.99 195.946 Q2133 193.238 2129.6 193.238 M2129.6 189.627 Q2135.15 189.627 2138.33 193.238 Q2141.5 196.849 2141.5 203.238 Q2141.5 209.604 2138.33 213.238 Q2135.15 216.849 2129.6 216.849 Q2124.02 216.849 2120.85 213.238 Q2117.7 209.604 2117.7 203.238 Q2117.7 196.849 2120.85 193.238 Q2124.02 189.627 2129.6 189.627 Z\" fill=\"#000000\" fill-rule=\"evenodd\" fill-opacity=\"1\" /><path clip-path=\"url(#clip830)\" d=\"M2148.56 190.252 L2152.82 190.252 L2152.82 216.178 L2148.56 216.178 L2148.56 190.252 M2148.56 180.159 L2152.82 180.159 L2152.82 185.553 L2148.56 185.553 L2148.56 180.159 Z\" fill=\"#000000\" fill-rule=\"evenodd\" fill-opacity=\"1\" /><path clip-path=\"url(#clip830)\" d=\"M2183.28 200.529 L2183.28 216.178 L2179.02 216.178 L2179.02 200.668 Q2179.02 196.988 2177.59 195.159 Q2176.15 193.33 2173.28 193.33 Q2169.83 193.33 2167.84 195.53 Q2165.85 197.729 2165.85 201.525 L2165.85 216.178 L2161.57 216.178 L2161.57 190.252 L2165.85 190.252 L2165.85 194.28 Q2167.38 191.942 2169.44 190.784 Q2171.52 189.627 2174.23 189.627 Q2178.7 189.627 2180.99 192.405 Q2183.28 195.159 2183.28 200.529 Z\" fill=\"#000000\" fill-rule=\"evenodd\" fill-opacity=\"1\" /><path clip-path=\"url(#clip830)\" d=\"M2195.99 182.891 L2195.99 190.252 L2204.76 190.252 L2204.76 193.562 L2195.99 193.562 L2195.99 207.636 Q2195.99 210.807 2196.84 211.71 Q2197.72 212.613 2200.39 212.613 L2204.76 212.613 L2204.76 216.178 L2200.39 216.178 Q2195.46 216.178 2193.58 214.349 Q2191.71 212.497 2191.71 207.636 L2191.71 193.562 L2188.58 193.562 L2188.58 190.252 L2191.71 190.252 L2191.71 182.891 L2195.99 182.891 Z\" fill=\"#000000\" fill-rule=\"evenodd\" fill-opacity=\"1\" /><path clip-path=\"url(#clip830)\" d=\"M2226.89 191.016 L2226.89 195.043 Q2225.08 194.117 2223.14 193.655 Q2221.2 193.192 2219.11 193.192 Q2215.94 193.192 2214.34 194.164 Q2212.77 195.136 2212.77 197.08 Q2212.77 198.562 2213.9 199.418 Q2215.04 200.252 2218.46 201.016 L2219.92 201.34 Q2224.46 202.312 2226.36 204.094 Q2228.28 205.854 2228.28 209.025 Q2228.28 212.636 2225.41 214.742 Q2222.56 216.849 2217.56 216.849 Q2215.48 216.849 2213.21 216.432 Q2210.96 216.039 2208.46 215.228 L2208.46 210.83 Q2210.83 212.057 2213.12 212.682 Q2215.41 213.284 2217.65 213.284 Q2220.66 213.284 2222.28 212.266 Q2223.9 211.224 2223.9 209.349 Q2223.9 207.613 2222.72 206.687 Q2221.57 205.761 2217.61 204.904 L2216.13 204.557 Q2212.17 203.724 2210.41 202.011 Q2208.65 200.275 2208.65 197.266 Q2208.65 193.608 2211.24 191.618 Q2213.83 189.627 2218.6 189.627 Q2220.96 189.627 2223.05 189.974 Q2225.13 190.321 2226.89 191.016 Z\" fill=\"#000000\" fill-rule=\"evenodd\" fill-opacity=\"1\" /></svg>\n"
     },
     "execution_count": 58,
     "metadata": {},
     "output_type": "execute_result"
    }
   ],
   "source": [
    "plot(x, y, label=\"line\")\n",
    "scatter!(x, y, label=\"points\")"
   ]
  },
  {
   "cell_type": "markdown",
   "metadata": {},
   "source": [
    "This is another backend that comes with the `Plots` library that we can use:"
   ]
  },
  {
   "cell_type": "code",
   "execution_count": 61,
   "metadata": {},
   "outputs": [],
   "source": [
    "globaltemperatures = [14.4, 14.5, 14.8, 15.2, 15.5, 15.8];\n",
    "numpirates = [45000, 20000, 15000, 5000, 400, 17];"
   ]
  },
  {
   "cell_type": "markdown",
   "metadata": {},
   "source": [
    "Let's plot this new data!"
   ]
  },
  {
   "cell_type": "code",
   "execution_count": 62,
   "metadata": {},
   "outputs": [
    {
     "data": {
      "image/svg+xml": "<?xml version=\"1.0\" encoding=\"utf-8\"?>\n<svg xmlns=\"http://www.w3.org/2000/svg\" xmlns:xlink=\"http://www.w3.org/1999/xlink\" width=\"600\" height=\"400\" viewBox=\"0 0 2400 1600\">\n<defs>\n  <clipPath id=\"clip870\">\n    <rect x=\"0\" y=\"0\" width=\"2400\" height=\"1600\"/>\n  </clipPath>\n</defs>\n<path clip-path=\"url(#clip870)\" d=\"\nM0 1600 L2400 1600 L2400 0 L0 0  Z\n  \" fill=\"#ffffff\" fill-rule=\"evenodd\" fill-opacity=\"1\"/>\n<defs>\n  <clipPath id=\"clip871\">\n    <rect x=\"480\" y=\"0\" width=\"1681\" height=\"1600\"/>\n  </clipPath>\n</defs>\n<path clip-path=\"url(#clip870)\" d=\"\nM214.353 1474.16 L2352.76 1474.16 L2352.76 47.2441 L214.353 47.2441  Z\n  \" fill=\"#ffffff\" fill-rule=\"evenodd\" fill-opacity=\"1\"/>\n<defs>\n  <clipPath id=\"clip872\">\n    <rect x=\"214\" y=\"47\" width=\"2139\" height=\"1428\"/>\n  </clipPath>\n</defs>\n<polyline clip-path=\"url(#clip872)\" style=\"stroke:#000000; stroke-linecap:butt; stroke-linejoin:round; stroke-width:2; stroke-opacity:0.1; fill:none\" points=\"\n  274.111,1474.16 274.111,47.2441 \n  \"/>\n<polyline clip-path=\"url(#clip872)\" style=\"stroke:#000000; stroke-linecap:butt; stroke-linejoin:round; stroke-width:2; stroke-opacity:0.1; fill:none\" points=\"\n  722.583,1474.16 722.583,47.2441 \n  \"/>\n<polyline clip-path=\"url(#clip872)\" style=\"stroke:#000000; stroke-linecap:butt; stroke-linejoin:round; stroke-width:2; stroke-opacity:0.1; fill:none\" points=\"\n  1171.06,1474.16 1171.06,47.2441 \n  \"/>\n<polyline clip-path=\"url(#clip872)\" style=\"stroke:#000000; stroke-linecap:butt; stroke-linejoin:round; stroke-width:2; stroke-opacity:0.1; fill:none\" points=\"\n  1619.53,1474.16 1619.53,47.2441 \n  \"/>\n<polyline clip-path=\"url(#clip872)\" style=\"stroke:#000000; stroke-linecap:butt; stroke-linejoin:round; stroke-width:2; stroke-opacity:0.1; fill:none\" points=\"\n  2068,1474.16 2068,47.2441 \n  \"/>\n<polyline clip-path=\"url(#clip870)\" style=\"stroke:#000000; stroke-linecap:butt; stroke-linejoin:round; stroke-width:4; stroke-opacity:1; fill:none\" points=\"\n  214.353,1474.16 2352.76,1474.16 \n  \"/>\n<polyline clip-path=\"url(#clip870)\" style=\"stroke:#000000; stroke-linecap:butt; stroke-linejoin:round; stroke-width:4; stroke-opacity:1; fill:none\" points=\"\n  274.111,1474.16 274.111,1455.27 \n  \"/>\n<polyline clip-path=\"url(#clip870)\" style=\"stroke:#000000; stroke-linecap:butt; stroke-linejoin:round; stroke-width:4; stroke-opacity:1; fill:none\" points=\"\n  722.583,1474.16 722.583,1455.27 \n  \"/>\n<polyline clip-path=\"url(#clip870)\" style=\"stroke:#000000; stroke-linecap:butt; stroke-linejoin:round; stroke-width:4; stroke-opacity:1; fill:none\" points=\"\n  1171.06,1474.16 1171.06,1455.27 \n  \"/>\n<polyline clip-path=\"url(#clip870)\" style=\"stroke:#000000; stroke-linecap:butt; stroke-linejoin:round; stroke-width:4; stroke-opacity:1; fill:none\" points=\"\n  1619.53,1474.16 1619.53,1455.27 \n  \"/>\n<polyline clip-path=\"url(#clip870)\" style=\"stroke:#000000; stroke-linecap:butt; stroke-linejoin:round; stroke-width:4; stroke-opacity:1; fill:none\" points=\"\n  2068,1474.16 2068,1455.27 \n  \"/>\n<path clip-path=\"url(#clip870)\" d=\"M274.111 1505.08 Q270.5 1505.08 268.671 1508.65 Q266.866 1512.19 266.866 1519.32 Q266.866 1526.43 268.671 1529.99 Q270.5 1533.53 274.111 1533.53 Q277.745 1533.53 279.551 1529.99 Q281.379 1526.43 281.379 1519.32 Q281.379 1512.19 279.551 1508.65 Q277.745 1505.08 274.111 1505.08 M274.111 1501.38 Q279.921 1501.38 282.977 1505.99 Q286.055 1510.57 286.055 1519.32 Q286.055 1528.05 282.977 1532.65 Q279.921 1537.24 274.111 1537.24 Q268.301 1537.24 265.222 1532.65 Q262.167 1528.05 262.167 1519.32 Q262.167 1510.57 265.222 1505.99 Q268.301 1501.38 274.111 1501.38 Z\" fill=\"#000000\" fill-rule=\"evenodd\" fill-opacity=\"1\" /><path clip-path=\"url(#clip870)\" d=\"M629.482 1548.29 L637.121 1548.29 L637.121 1521.92 L628.81 1523.59 L628.81 1519.33 L637.074 1517.66 L641.75 1517.66 L641.75 1548.29 L649.389 1548.29 L649.389 1552.22 L629.482 1552.22 L629.482 1548.29 Z\" fill=\"#000000\" fill-rule=\"evenodd\" fill-opacity=\"1\" /><path clip-path=\"url(#clip870)\" d=\"M658.833 1546.35 L663.718 1546.35 L663.718 1552.22 L658.833 1552.22 L658.833 1546.35 Z\" fill=\"#000000\" fill-rule=\"evenodd\" fill-opacity=\"1\" /><path clip-path=\"url(#clip870)\" d=\"M683.903 1520.74 Q680.292 1520.74 678.463 1524.31 Q676.657 1527.85 676.657 1534.98 Q676.657 1542.09 678.463 1545.65 Q680.292 1549.19 683.903 1549.19 Q687.537 1549.19 689.342 1545.65 Q691.171 1542.09 691.171 1534.98 Q691.171 1527.85 689.342 1524.31 Q687.537 1520.74 683.903 1520.74 M683.903 1517.04 Q689.713 1517.04 692.768 1521.65 Q695.847 1526.23 695.847 1534.98 Q695.847 1543.71 692.768 1548.31 Q689.713 1552.9 683.903 1552.9 Q678.093 1552.9 675.014 1548.31 Q671.958 1543.71 671.958 1534.98 Q671.958 1526.23 675.014 1521.65 Q678.093 1517.04 683.903 1517.04 Z\" fill=\"#000000\" fill-rule=\"evenodd\" fill-opacity=\"1\" /><path clip-path=\"url(#clip870)\" d=\"M732.236 1526.76 L721.657 1537.39 L732.236 1547.97 L729.481 1550.77 L718.856 1540.14 L708.231 1550.77 L705.5 1547.97 L716.055 1537.39 L705.5 1526.76 L708.231 1523.96 L718.856 1534.59 L729.481 1523.96 L732.236 1526.76 Z\" fill=\"#000000\" fill-rule=\"evenodd\" fill-opacity=\"1\" /><path clip-path=\"url(#clip870)\" d=\"M744.597 1548.29 L752.236 1548.29 L752.236 1521.92 L743.925 1523.59 L743.925 1519.33 L752.189 1517.66 L756.865 1517.66 L756.865 1548.29 L764.504 1548.29 L764.504 1552.22 L744.597 1552.22 L744.597 1548.29 Z\" fill=\"#000000\" fill-rule=\"evenodd\" fill-opacity=\"1\" /><path clip-path=\"url(#clip870)\" d=\"M783.948 1520.74 Q780.337 1520.74 778.509 1524.31 Q776.703 1527.85 776.703 1534.98 Q776.703 1542.09 778.509 1545.65 Q780.337 1549.19 783.948 1549.19 Q787.583 1549.19 789.388 1545.65 Q791.217 1542.09 791.217 1534.98 Q791.217 1527.85 789.388 1524.31 Q787.583 1520.74 783.948 1520.74 M783.948 1517.04 Q789.759 1517.04 792.814 1521.65 Q795.893 1526.23 795.893 1534.98 Q795.893 1543.71 792.814 1548.31 Q789.759 1552.9 783.948 1552.9 Q778.138 1552.9 775.06 1548.31 Q772.004 1543.71 772.004 1534.98 Q772.004 1526.23 775.06 1521.65 Q778.138 1517.04 783.948 1517.04 Z\" fill=\"#000000\" fill-rule=\"evenodd\" fill-opacity=\"1\" /><path clip-path=\"url(#clip870)\" d=\"M808.569 1500.04 L798.977 1515.03 L808.569 1515.03 L808.569 1500.04 M807.572 1496.73 L812.35 1496.73 L812.35 1515.03 L816.356 1515.03 L816.356 1518.19 L812.35 1518.19 L812.35 1524.81 L808.569 1524.81 L808.569 1518.19 L795.893 1518.19 L795.893 1514.53 L807.572 1496.73 Z\" fill=\"#000000\" fill-rule=\"evenodd\" fill-opacity=\"1\" /><path clip-path=\"url(#clip870)\" d=\"M1082.04 1548.29 L1098.36 1548.29 L1098.36 1552.22 L1076.41 1552.22 L1076.41 1548.29 Q1079.08 1545.53 1083.66 1540.91 Q1088.27 1536.25 1089.45 1534.91 Q1091.69 1532.39 1092.57 1530.65 Q1093.47 1528.89 1093.47 1527.2 Q1093.47 1524.45 1091.53 1522.71 Q1089.61 1520.97 1086.51 1520.97 Q1084.31 1520.97 1081.85 1521.74 Q1079.42 1522.5 1076.65 1524.05 L1076.65 1519.33 Q1079.47 1518.2 1081.92 1517.62 Q1084.38 1517.04 1086.41 1517.04 Q1091.78 1517.04 1094.98 1519.72 Q1098.17 1522.41 1098.17 1526.9 Q1098.17 1529.03 1097.36 1530.95 Q1096.58 1532.85 1094.47 1535.44 Q1093.89 1536.11 1090.79 1539.33 Q1087.69 1542.53 1082.04 1548.29 Z\" fill=\"#000000\" fill-rule=\"evenodd\" fill-opacity=\"1\" /><path clip-path=\"url(#clip870)\" d=\"M1108.17 1546.35 L1113.06 1546.35 L1113.06 1552.22 L1108.17 1552.22 L1108.17 1546.35 Z\" fill=\"#000000\" fill-rule=\"evenodd\" fill-opacity=\"1\" /><path clip-path=\"url(#clip870)\" d=\"M1133.24 1520.74 Q1129.63 1520.74 1127.8 1524.31 Q1126 1527.85 1126 1534.98 Q1126 1542.09 1127.8 1545.65 Q1129.63 1549.19 1133.24 1549.19 Q1136.88 1549.19 1138.68 1545.65 Q1140.51 1542.09 1140.51 1534.98 Q1140.51 1527.85 1138.68 1524.31 Q1136.88 1520.74 1133.24 1520.74 M1133.24 1517.04 Q1139.05 1517.04 1142.11 1521.65 Q1145.19 1526.23 1145.19 1534.98 Q1145.19 1543.71 1142.11 1548.31 Q1139.05 1552.9 1133.24 1552.9 Q1127.43 1552.9 1124.35 1548.31 Q1121.3 1543.71 1121.3 1534.98 Q1121.3 1526.23 1124.35 1521.65 Q1127.43 1517.04 1133.24 1517.04 Z\" fill=\"#000000\" fill-rule=\"evenodd\" fill-opacity=\"1\" /><path clip-path=\"url(#clip870)\" d=\"M1181.58 1526.76 L1171 1537.39 L1181.58 1547.97 L1178.82 1550.77 L1168.2 1540.14 L1157.57 1550.77 L1154.84 1547.97 L1165.4 1537.39 L1154.84 1526.76 L1157.57 1523.96 L1168.2 1534.59 L1178.82 1523.96 L1181.58 1526.76 Z\" fill=\"#000000\" fill-rule=\"evenodd\" fill-opacity=\"1\" /><path clip-path=\"url(#clip870)\" d=\"M1193.94 1548.29 L1201.58 1548.29 L1201.58 1521.92 L1193.27 1523.59 L1193.27 1519.33 L1201.53 1517.66 L1206.21 1517.66 L1206.21 1548.29 L1213.84 1548.29 L1213.84 1552.22 L1193.94 1552.22 L1193.94 1548.29 Z\" fill=\"#000000\" fill-rule=\"evenodd\" fill-opacity=\"1\" /><path clip-path=\"url(#clip870)\" d=\"M1233.29 1520.74 Q1229.68 1520.74 1227.85 1524.31 Q1226.04 1527.85 1226.04 1534.98 Q1226.04 1542.09 1227.85 1545.65 Q1229.68 1549.19 1233.29 1549.19 Q1236.92 1549.19 1238.73 1545.65 Q1240.56 1542.09 1240.56 1534.98 Q1240.56 1527.85 1238.73 1524.31 Q1236.92 1520.74 1233.29 1520.74 M1233.29 1517.04 Q1239.1 1517.04 1242.15 1521.65 Q1245.23 1526.23 1245.23 1534.98 Q1245.23 1543.71 1242.15 1548.31 Q1239.1 1552.9 1233.29 1552.9 Q1227.48 1552.9 1224.4 1548.31 Q1221.34 1543.71 1221.34 1534.98 Q1221.34 1526.23 1224.4 1521.65 Q1227.48 1517.04 1233.29 1517.04 Z\" fill=\"#000000\" fill-rule=\"evenodd\" fill-opacity=\"1\" /><path clip-path=\"url(#clip870)\" d=\"M1257.91 1500.04 L1248.32 1515.03 L1257.91 1515.03 L1257.91 1500.04 M1256.91 1496.73 L1261.69 1496.73 L1261.69 1515.03 L1265.7 1515.03 L1265.7 1518.19 L1261.69 1518.19 L1261.69 1524.81 L1257.91 1524.81 L1257.91 1518.19 L1245.23 1518.19 L1245.23 1514.53 L1256.91 1496.73 Z\" fill=\"#000000\" fill-rule=\"evenodd\" fill-opacity=\"1\" /><path clip-path=\"url(#clip870)\" d=\"M1540.58 1533.59 Q1543.94 1534.31 1545.81 1536.58 Q1547.71 1538.85 1547.71 1542.18 Q1547.71 1547.29 1544.19 1550.1 Q1540.67 1552.9 1534.19 1552.9 Q1532.02 1552.9 1529.7 1552.46 Q1527.41 1552.04 1524.96 1551.18 L1524.96 1546.67 Q1526.9 1547.8 1529.22 1548.38 Q1531.53 1548.96 1534.05 1548.96 Q1538.45 1548.96 1540.74 1547.22 Q1543.06 1545.49 1543.06 1542.18 Q1543.06 1539.12 1540.9 1537.41 Q1538.78 1535.67 1534.96 1535.67 L1530.93 1535.67 L1530.93 1531.83 L1535.14 1531.83 Q1538.59 1531.83 1540.42 1530.47 Q1542.25 1529.08 1542.25 1526.48 Q1542.25 1523.82 1540.35 1522.41 Q1538.47 1520.97 1534.96 1520.97 Q1533.03 1520.97 1530.84 1521.39 Q1528.64 1521.81 1526 1522.69 L1526 1518.52 Q1528.66 1517.78 1530.97 1517.41 Q1533.31 1517.04 1535.37 1517.04 Q1540.7 1517.04 1543.8 1519.47 Q1546.9 1521.88 1546.9 1526 Q1546.9 1528.87 1545.26 1530.86 Q1543.61 1532.83 1540.58 1533.59 Z\" fill=\"#000000\" fill-rule=\"evenodd\" fill-opacity=\"1\" /><path clip-path=\"url(#clip870)\" d=\"M1556.58 1546.35 L1561.46 1546.35 L1561.46 1552.22 L1556.58 1552.22 L1556.58 1546.35 Z\" fill=\"#000000\" fill-rule=\"evenodd\" fill-opacity=\"1\" /><path clip-path=\"url(#clip870)\" d=\"M1581.65 1520.74 Q1578.03 1520.74 1576.21 1524.31 Q1574.4 1527.85 1574.4 1534.98 Q1574.4 1542.09 1576.21 1545.65 Q1578.03 1549.19 1581.65 1549.19 Q1585.28 1549.19 1587.09 1545.65 Q1588.91 1542.09 1588.91 1534.98 Q1588.91 1527.85 1587.09 1524.31 Q1585.28 1520.74 1581.65 1520.74 M1581.65 1517.04 Q1587.46 1517.04 1590.51 1521.65 Q1593.59 1526.23 1593.59 1534.98 Q1593.59 1543.71 1590.51 1548.31 Q1587.46 1552.9 1581.65 1552.9 Q1575.84 1552.9 1572.76 1548.31 Q1569.7 1543.71 1569.7 1534.98 Q1569.7 1526.23 1572.76 1521.65 Q1575.84 1517.04 1581.65 1517.04 Z\" fill=\"#000000\" fill-rule=\"evenodd\" fill-opacity=\"1\" /><path clip-path=\"url(#clip870)\" d=\"M1629.98 1526.76 L1619.4 1537.39 L1629.98 1547.97 L1627.22 1550.77 L1616.6 1540.14 L1605.97 1550.77 L1603.24 1547.97 L1613.8 1537.39 L1603.24 1526.76 L1605.97 1523.96 L1616.6 1534.59 L1627.22 1523.96 L1629.98 1526.76 Z\" fill=\"#000000\" fill-rule=\"evenodd\" fill-opacity=\"1\" /><path clip-path=\"url(#clip870)\" d=\"M1642.34 1548.29 L1649.98 1548.29 L1649.98 1521.92 L1641.67 1523.59 L1641.67 1519.33 L1649.93 1517.66 L1654.61 1517.66 L1654.61 1548.29 L1662.25 1548.29 L1662.25 1552.22 L1642.34 1552.22 L1642.34 1548.29 Z\" fill=\"#000000\" fill-rule=\"evenodd\" fill-opacity=\"1\" /><path clip-path=\"url(#clip870)\" d=\"M1681.69 1520.74 Q1678.08 1520.74 1676.25 1524.31 Q1674.45 1527.85 1674.45 1534.98 Q1674.45 1542.09 1676.25 1545.65 Q1678.08 1549.19 1681.69 1549.19 Q1685.33 1549.19 1687.13 1545.65 Q1688.96 1542.09 1688.96 1534.98 Q1688.96 1527.85 1687.13 1524.31 Q1685.33 1520.74 1681.69 1520.74 M1681.69 1517.04 Q1687.5 1517.04 1690.56 1521.65 Q1693.64 1526.23 1693.64 1534.98 Q1693.64 1543.71 1690.56 1548.31 Q1687.5 1552.9 1681.69 1552.9 Q1675.88 1552.9 1672.8 1548.31 Q1669.75 1543.71 1669.75 1534.98 Q1669.75 1526.23 1672.8 1521.65 Q1675.88 1517.04 1681.69 1517.04 Z\" fill=\"#000000\" fill-rule=\"evenodd\" fill-opacity=\"1\" /><path clip-path=\"url(#clip870)\" d=\"M1706.31 1500.04 L1696.72 1515.03 L1706.31 1515.03 L1706.31 1500.04 M1705.32 1496.73 L1710.09 1496.73 L1710.09 1515.03 L1714.1 1515.03 L1714.1 1518.19 L1710.09 1518.19 L1710.09 1524.81 L1706.31 1524.81 L1706.31 1518.19 L1693.64 1518.19 L1693.64 1514.53 L1705.32 1496.73 Z\" fill=\"#000000\" fill-rule=\"evenodd\" fill-opacity=\"1\" /><path clip-path=\"url(#clip870)\" d=\"M1988.38 1521.74 L1976.58 1540.19 L1988.38 1540.19 L1988.38 1521.74 M1987.15 1517.66 L1993.03 1517.66 L1993.03 1540.19 L1997.96 1540.19 L1997.96 1544.08 L1993.03 1544.08 L1993.03 1552.22 L1988.38 1552.22 L1988.38 1544.08 L1972.78 1544.08 L1972.78 1539.56 L1987.15 1517.66 Z\" fill=\"#000000\" fill-rule=\"evenodd\" fill-opacity=\"1\" /><path clip-path=\"url(#clip870)\" d=\"M2005.7 1546.35 L2010.58 1546.35 L2010.58 1552.22 L2005.7 1552.22 L2005.7 1546.35 Z\" fill=\"#000000\" fill-rule=\"evenodd\" fill-opacity=\"1\" /><path clip-path=\"url(#clip870)\" d=\"M2030.77 1520.74 Q2027.15 1520.74 2025.33 1524.31 Q2023.52 1527.85 2023.52 1534.98 Q2023.52 1542.09 2025.33 1545.65 Q2027.15 1549.19 2030.77 1549.19 Q2034.4 1549.19 2036.21 1545.65 Q2038.03 1542.09 2038.03 1534.98 Q2038.03 1527.85 2036.21 1524.31 Q2034.4 1520.74 2030.77 1520.74 M2030.77 1517.04 Q2036.58 1517.04 2039.63 1521.65 Q2042.71 1526.23 2042.71 1534.98 Q2042.71 1543.71 2039.63 1548.31 Q2036.58 1552.9 2030.77 1552.9 Q2024.96 1552.9 2021.88 1548.31 Q2018.82 1543.71 2018.82 1534.98 Q2018.82 1526.23 2021.88 1521.65 Q2024.96 1517.04 2030.77 1517.04 Z\" fill=\"#000000\" fill-rule=\"evenodd\" fill-opacity=\"1\" /><path clip-path=\"url(#clip870)\" d=\"M2079.1 1526.76 L2068.52 1537.39 L2079.1 1547.97 L2076.34 1550.77 L2065.72 1540.14 L2055.09 1550.77 L2052.36 1547.97 L2062.92 1537.39 L2052.36 1526.76 L2055.09 1523.96 L2065.72 1534.59 L2076.34 1523.96 L2079.1 1526.76 Z\" fill=\"#000000\" fill-rule=\"evenodd\" fill-opacity=\"1\" /><path clip-path=\"url(#clip870)\" d=\"M2091.46 1548.29 L2099.1 1548.29 L2099.1 1521.92 L2090.79 1523.59 L2090.79 1519.33 L2099.05 1517.66 L2103.73 1517.66 L2103.73 1548.29 L2111.37 1548.29 L2111.37 1552.22 L2091.46 1552.22 L2091.46 1548.29 Z\" fill=\"#000000\" fill-rule=\"evenodd\" fill-opacity=\"1\" /><path clip-path=\"url(#clip870)\" d=\"M2130.81 1520.74 Q2127.2 1520.74 2125.37 1524.31 Q2123.57 1527.85 2123.57 1534.98 Q2123.57 1542.09 2125.37 1545.65 Q2127.2 1549.19 2130.81 1549.19 Q2134.45 1549.19 2136.25 1545.65 Q2138.08 1542.09 2138.08 1534.98 Q2138.08 1527.85 2136.25 1524.31 Q2134.45 1520.74 2130.81 1520.74 M2130.81 1517.04 Q2136.62 1517.04 2139.68 1521.65 Q2142.76 1526.23 2142.76 1534.98 Q2142.76 1543.71 2139.68 1548.31 Q2136.62 1552.9 2130.81 1552.9 Q2125 1552.9 2121.92 1548.31 Q2118.87 1543.71 2118.87 1534.98 Q2118.87 1526.23 2121.92 1521.65 Q2125 1517.04 2130.81 1517.04 Z\" fill=\"#000000\" fill-rule=\"evenodd\" fill-opacity=\"1\" /><path clip-path=\"url(#clip870)\" d=\"M2155.43 1500.04 L2145.84 1515.03 L2155.43 1515.03 L2155.43 1500.04 M2154.44 1496.73 L2159.21 1496.73 L2159.21 1515.03 L2163.22 1515.03 L2163.22 1518.19 L2159.21 1518.19 L2159.21 1524.81 L2155.43 1524.81 L2155.43 1518.19 L2142.76 1518.19 L2142.76 1514.53 L2154.44 1496.73 Z\" fill=\"#000000\" fill-rule=\"evenodd\" fill-opacity=\"1\" /><polyline clip-path=\"url(#clip872)\" style=\"stroke:#000000; stroke-linecap:butt; stroke-linejoin:round; stroke-width:2; stroke-opacity:0.1; fill:none\" points=\"\n  214.353,1337.63 2352.76,1337.63 \n  \"/>\n<polyline clip-path=\"url(#clip872)\" style=\"stroke:#000000; stroke-linecap:butt; stroke-linejoin:round; stroke-width:2; stroke-opacity:0.1; fill:none\" points=\"\n  214.353,1097.24 2352.76,1097.24 \n  \"/>\n<polyline clip-path=\"url(#clip872)\" style=\"stroke:#000000; stroke-linecap:butt; stroke-linejoin:round; stroke-width:2; stroke-opacity:0.1; fill:none\" points=\"\n  214.353,856.858 2352.76,856.858 \n  \"/>\n<polyline clip-path=\"url(#clip872)\" style=\"stroke:#000000; stroke-linecap:butt; stroke-linejoin:round; stroke-width:2; stroke-opacity:0.1; fill:none\" points=\"\n  214.353,616.474 2352.76,616.474 \n  \"/>\n<polyline clip-path=\"url(#clip872)\" style=\"stroke:#000000; stroke-linecap:butt; stroke-linejoin:round; stroke-width:2; stroke-opacity:0.1; fill:none\" points=\"\n  214.353,376.09 2352.76,376.09 \n  \"/>\n<polyline clip-path=\"url(#clip872)\" style=\"stroke:#000000; stroke-linecap:butt; stroke-linejoin:round; stroke-width:2; stroke-opacity:0.1; fill:none\" points=\"\n  214.353,135.705 2352.76,135.705 \n  \"/>\n<polyline clip-path=\"url(#clip870)\" style=\"stroke:#000000; stroke-linecap:butt; stroke-linejoin:round; stroke-width:4; stroke-opacity:1; fill:none\" points=\"\n  214.353,1474.16 214.353,47.2441 \n  \"/>\n<polyline clip-path=\"url(#clip870)\" style=\"stroke:#000000; stroke-linecap:butt; stroke-linejoin:round; stroke-width:4; stroke-opacity:1; fill:none\" points=\"\n  214.353,1337.63 233.25,1337.63 \n  \"/>\n<polyline clip-path=\"url(#clip870)\" style=\"stroke:#000000; stroke-linecap:butt; stroke-linejoin:round; stroke-width:4; stroke-opacity:1; fill:none\" points=\"\n  214.353,1097.24 233.25,1097.24 \n  \"/>\n<polyline clip-path=\"url(#clip870)\" style=\"stroke:#000000; stroke-linecap:butt; stroke-linejoin:round; stroke-width:4; stroke-opacity:1; fill:none\" points=\"\n  214.353,856.858 233.25,856.858 \n  \"/>\n<polyline clip-path=\"url(#clip870)\" style=\"stroke:#000000; stroke-linecap:butt; stroke-linejoin:round; stroke-width:4; stroke-opacity:1; fill:none\" points=\"\n  214.353,616.474 233.25,616.474 \n  \"/>\n<polyline clip-path=\"url(#clip870)\" style=\"stroke:#000000; stroke-linecap:butt; stroke-linejoin:round; stroke-width:4; stroke-opacity:1; fill:none\" points=\"\n  214.353,376.09 233.25,376.09 \n  \"/>\n<polyline clip-path=\"url(#clip870)\" style=\"stroke:#000000; stroke-linecap:butt; stroke-linejoin:round; stroke-width:4; stroke-opacity:1; fill:none\" points=\"\n  214.353,135.705 233.25,135.705 \n  \"/>\n<path clip-path=\"url(#clip870)\" d=\"M51.6634 1350.97 L59.3023 1350.97 L59.3023 1324.61 L50.9921 1326.27 L50.9921 1322.01 L59.256 1320.35 L63.9319 1320.35 L63.9319 1350.97 L71.5707 1350.97 L71.5707 1354.91 L51.6634 1354.91 L51.6634 1350.97 Z\" fill=\"#000000\" fill-rule=\"evenodd\" fill-opacity=\"1\" /><path clip-path=\"url(#clip870)\" d=\"M93.8623 1324.42 L82.0568 1342.87 L93.8623 1342.87 L93.8623 1324.42 M92.6354 1320.35 L98.515 1320.35 L98.515 1342.87 L103.446 1342.87 L103.446 1346.76 L98.515 1346.76 L98.515 1354.91 L93.8623 1354.91 L93.8623 1346.76 L78.2605 1346.76 L78.2605 1342.24 L92.6354 1320.35 Z\" fill=\"#000000\" fill-rule=\"evenodd\" fill-opacity=\"1\" /><path clip-path=\"url(#clip870)\" d=\"M111.177 1349.03 L116.061 1349.03 L116.061 1354.91 L111.177 1354.91 L111.177 1349.03 Z\" fill=\"#000000\" fill-rule=\"evenodd\" fill-opacity=\"1\" /><path clip-path=\"url(#clip870)\" d=\"M126.293 1320.35 L144.649 1320.35 L144.649 1324.28 L130.575 1324.28 L130.575 1332.75 Q131.594 1332.41 132.612 1332.24 Q133.631 1332.06 134.649 1332.06 Q140.436 1332.06 143.816 1335.23 Q147.195 1338.4 147.195 1343.82 Q147.195 1349.4 143.723 1352.5 Q140.251 1355.58 133.931 1355.58 Q131.756 1355.58 129.487 1355.21 Q127.242 1354.84 124.834 1354.1 L124.834 1349.4 Q126.918 1350.53 129.14 1351.09 Q131.362 1351.64 133.839 1351.64 Q137.844 1351.64 140.181 1349.54 Q142.519 1347.43 142.519 1343.82 Q142.519 1340.21 140.181 1338.1 Q137.844 1335.99 133.839 1335.99 Q131.964 1335.99 130.089 1336.41 Q128.237 1336.83 126.293 1337.71 L126.293 1320.35 Z\" fill=\"#000000\" fill-rule=\"evenodd\" fill-opacity=\"1\" /><path clip-path=\"url(#clip870)\" d=\"M166.408 1323.43 Q162.797 1323.43 160.968 1326.99 Q159.163 1330.53 159.163 1337.66 Q159.163 1344.77 160.968 1348.33 Q162.797 1351.87 166.408 1351.87 Q170.042 1351.87 171.848 1348.33 Q173.677 1344.77 173.677 1337.66 Q173.677 1330.53 171.848 1326.99 Q170.042 1323.43 166.408 1323.43 M166.408 1319.72 Q172.218 1319.72 175.274 1324.33 Q178.353 1328.91 178.353 1337.66 Q178.353 1346.39 175.274 1350.99 Q172.218 1355.58 166.408 1355.58 Q160.598 1355.58 157.519 1350.99 Q154.464 1346.39 154.464 1337.66 Q154.464 1328.91 157.519 1324.33 Q160.598 1319.72 166.408 1319.72 Z\" fill=\"#000000\" fill-rule=\"evenodd\" fill-opacity=\"1\" /><path clip-path=\"url(#clip870)\" d=\"M52.6588 1110.59 L60.2976 1110.59 L60.2976 1084.22 L51.9875 1085.89 L51.9875 1081.63 L60.2513 1079.96 L64.9272 1079.96 L64.9272 1110.59 L72.5661 1110.59 L72.5661 1114.52 L52.6588 1114.52 L52.6588 1110.59 Z\" fill=\"#000000\" fill-rule=\"evenodd\" fill-opacity=\"1\" /><path clip-path=\"url(#clip870)\" d=\"M94.8576 1084.04 L83.0521 1102.49 L94.8576 1102.49 L94.8576 1084.04 M93.6308 1079.96 L99.5104 1079.96 L99.5104 1102.49 L104.441 1102.49 L104.441 1106.37 L99.5104 1106.37 L99.5104 1114.52 L94.8576 1114.52 L94.8576 1106.37 L79.2559 1106.37 L79.2559 1101.86 L93.6308 1079.96 Z\" fill=\"#000000\" fill-rule=\"evenodd\" fill-opacity=\"1\" /><path clip-path=\"url(#clip870)\" d=\"M112.172 1108.64 L117.057 1108.64 L117.057 1114.52 L112.172 1114.52 L112.172 1108.64 Z\" fill=\"#000000\" fill-rule=\"evenodd\" fill-opacity=\"1\" /><path clip-path=\"url(#clip870)\" d=\"M126.061 1079.96 L148.283 1079.96 L148.283 1081.95 L135.737 1114.52 L130.853 1114.52 L142.658 1083.9 L126.061 1083.9 L126.061 1079.96 Z\" fill=\"#000000\" fill-rule=\"evenodd\" fill-opacity=\"1\" /><path clip-path=\"url(#clip870)\" d=\"M157.45 1079.96 L175.806 1079.96 L175.806 1083.9 L161.732 1083.9 L161.732 1092.37 Q162.751 1092.02 163.769 1091.86 Q164.788 1091.68 165.806 1091.68 Q171.593 1091.68 174.973 1094.85 Q178.353 1098.02 178.353 1103.43 Q178.353 1109.01 174.88 1112.11 Q171.408 1115.19 165.089 1115.19 Q162.913 1115.19 160.644 1114.82 Q158.399 1114.45 155.992 1113.71 L155.992 1109.01 Q158.075 1110.15 160.297 1110.7 Q162.519 1111.26 164.996 1111.26 Q169.001 1111.26 171.339 1109.15 Q173.677 1107.05 173.677 1103.43 Q173.677 1099.82 171.339 1097.72 Q169.001 1095.61 164.996 1095.61 Q163.121 1095.61 161.246 1096.03 Q159.394 1096.44 157.45 1097.32 L157.45 1079.96 Z\" fill=\"#000000\" fill-rule=\"evenodd\" fill-opacity=\"1\" /><path clip-path=\"url(#clip870)\" d=\"M51.6634 870.203 L59.3023 870.203 L59.3023 843.837 L50.9921 845.504 L50.9921 841.245 L59.256 839.578 L63.9319 839.578 L63.9319 870.203 L71.5707 870.203 L71.5707 874.138 L51.6634 874.138 L51.6634 870.203 Z\" fill=\"#000000\" fill-rule=\"evenodd\" fill-opacity=\"1\" /><path clip-path=\"url(#clip870)\" d=\"M81.0614 839.578 L99.4178 839.578 L99.4178 843.513 L85.3438 843.513 L85.3438 851.985 Q86.3623 851.638 87.3808 851.476 Q88.3993 851.291 89.4178 851.291 Q95.2049 851.291 98.5845 854.462 Q101.964 857.634 101.964 863.05 Q101.964 868.629 98.4919 871.731 Q95.0197 874.809 88.7003 874.809 Q86.5243 874.809 84.2558 874.439 Q82.0105 874.069 79.6031 873.328 L79.6031 868.629 Q81.6864 869.763 83.9086 870.319 Q86.1308 870.874 88.6077 870.874 Q92.6123 870.874 94.9502 868.768 Q97.2882 866.661 97.2882 863.05 Q97.2882 859.439 94.9502 857.333 Q92.6123 855.226 88.6077 855.226 Q86.7327 855.226 84.8577 855.643 Q83.0058 856.059 81.0614 856.939 L81.0614 839.578 Z\" fill=\"#000000\" fill-rule=\"evenodd\" fill-opacity=\"1\" /><path clip-path=\"url(#clip870)\" d=\"M111.177 868.258 L116.061 868.258 L116.061 874.138 L111.177 874.138 L111.177 868.258 Z\" fill=\"#000000\" fill-rule=\"evenodd\" fill-opacity=\"1\" /><path clip-path=\"url(#clip870)\" d=\"M136.246 842.657 Q132.635 842.657 130.807 846.222 Q129.001 849.763 129.001 856.893 Q129.001 863.999 130.807 867.564 Q132.635 871.106 136.246 871.106 Q139.881 871.106 141.686 867.564 Q143.515 863.999 143.515 856.893 Q143.515 849.763 141.686 846.222 Q139.881 842.657 136.246 842.657 M136.246 838.953 Q142.056 838.953 145.112 843.56 Q148.191 848.143 148.191 856.893 Q148.191 865.62 145.112 870.226 Q142.056 874.809 136.246 874.809 Q130.436 874.809 127.357 870.226 Q124.302 865.62 124.302 856.893 Q124.302 848.143 127.357 843.56 Q130.436 838.953 136.246 838.953 Z\" fill=\"#000000\" fill-rule=\"evenodd\" fill-opacity=\"1\" /><path clip-path=\"url(#clip870)\" d=\"M166.408 842.657 Q162.797 842.657 160.968 846.222 Q159.163 849.763 159.163 856.893 Q159.163 863.999 160.968 867.564 Q162.797 871.106 166.408 871.106 Q170.042 871.106 171.848 867.564 Q173.677 863.999 173.677 856.893 Q173.677 849.763 171.848 846.222 Q170.042 842.657 166.408 842.657 M166.408 838.953 Q172.218 838.953 175.274 843.56 Q178.353 848.143 178.353 856.893 Q178.353 865.62 175.274 870.226 Q172.218 874.809 166.408 874.809 Q160.598 874.809 157.519 870.226 Q154.464 865.62 154.464 856.893 Q154.464 848.143 157.519 843.56 Q160.598 838.953 166.408 838.953 Z\" fill=\"#000000\" fill-rule=\"evenodd\" fill-opacity=\"1\" /><path clip-path=\"url(#clip870)\" d=\"M52.6588 629.819 L60.2976 629.819 L60.2976 603.453 L51.9875 605.12 L51.9875 600.861 L60.2513 599.194 L64.9272 599.194 L64.9272 629.819 L72.5661 629.819 L72.5661 633.754 L52.6588 633.754 L52.6588 629.819 Z\" fill=\"#000000\" fill-rule=\"evenodd\" fill-opacity=\"1\" /><path clip-path=\"url(#clip870)\" d=\"M82.0568 599.194 L100.413 599.194 L100.413 603.129 L86.3392 603.129 L86.3392 611.601 Q87.3577 611.254 88.3762 611.092 Q89.3947 610.907 90.4132 610.907 Q96.2002 610.907 99.5798 614.078 Q102.959 617.249 102.959 622.666 Q102.959 628.245 99.4872 631.346 Q96.015 634.425 89.6956 634.425 Q87.5197 634.425 85.2512 634.055 Q83.0058 633.684 80.5984 632.944 L80.5984 628.245 Q82.6818 629.379 84.904 629.934 Q87.1262 630.49 89.603 630.49 Q93.6076 630.49 95.9456 628.384 Q98.2835 626.277 98.2835 622.666 Q98.2835 619.055 95.9456 616.948 Q93.6076 614.842 89.603 614.842 Q87.728 614.842 85.8531 615.259 Q84.0012 615.675 82.0568 616.555 L82.0568 599.194 Z\" fill=\"#000000\" fill-rule=\"evenodd\" fill-opacity=\"1\" /><path clip-path=\"url(#clip870)\" d=\"M112.172 627.874 L117.057 627.874 L117.057 633.754 L112.172 633.754 L112.172 627.874 Z\" fill=\"#000000\" fill-rule=\"evenodd\" fill-opacity=\"1\" /><path clip-path=\"url(#clip870)\" d=\"M131.269 629.819 L147.589 629.819 L147.589 633.754 L125.645 633.754 L125.645 629.819 Q128.307 627.064 132.89 622.434 Q137.496 617.782 138.677 616.439 Q140.922 613.916 141.802 612.18 Q142.705 610.421 142.705 608.731 Q142.705 605.976 140.76 604.24 Q138.839 602.504 135.737 602.504 Q133.538 602.504 131.084 603.268 Q128.654 604.032 125.876 605.583 L125.876 600.861 Q128.7 599.726 131.154 599.148 Q133.607 598.569 135.644 598.569 Q141.015 598.569 144.209 601.254 Q147.404 603.939 147.404 608.43 Q147.404 610.56 146.593 612.481 Q145.806 614.379 143.7 616.972 Q143.121 617.643 140.019 620.86 Q136.918 624.055 131.269 629.819 Z\" fill=\"#000000\" fill-rule=\"evenodd\" fill-opacity=\"1\" /><path clip-path=\"url(#clip870)\" d=\"M157.45 599.194 L175.806 599.194 L175.806 603.129 L161.732 603.129 L161.732 611.601 Q162.751 611.254 163.769 611.092 Q164.788 610.907 165.806 610.907 Q171.593 610.907 174.973 614.078 Q178.353 617.249 178.353 622.666 Q178.353 628.245 174.88 631.346 Q171.408 634.425 165.089 634.425 Q162.913 634.425 160.644 634.055 Q158.399 633.684 155.992 632.944 L155.992 628.245 Q158.075 629.379 160.297 629.934 Q162.519 630.49 164.996 630.49 Q169.001 630.49 171.339 628.384 Q173.677 626.277 173.677 622.666 Q173.677 619.055 171.339 616.948 Q169.001 614.842 164.996 614.842 Q163.121 614.842 161.246 615.259 Q159.394 615.675 157.45 616.555 L157.45 599.194 Z\" fill=\"#000000\" fill-rule=\"evenodd\" fill-opacity=\"1\" /><path clip-path=\"url(#clip870)\" d=\"M51.6634 389.435 L59.3023 389.435 L59.3023 363.069 L50.9921 364.736 L50.9921 360.476 L59.256 358.81 L63.9319 358.81 L63.9319 389.435 L71.5707 389.435 L71.5707 393.37 L51.6634 393.37 L51.6634 389.435 Z\" fill=\"#000000\" fill-rule=\"evenodd\" fill-opacity=\"1\" /><path clip-path=\"url(#clip870)\" d=\"M81.0614 358.81 L99.4178 358.81 L99.4178 362.745 L85.3438 362.745 L85.3438 371.217 Q86.3623 370.87 87.3808 370.708 Q88.3993 370.523 89.4178 370.523 Q95.2049 370.523 98.5845 373.694 Q101.964 376.865 101.964 382.282 Q101.964 387.86 98.4919 390.962 Q95.0197 394.041 88.7003 394.041 Q86.5243 394.041 84.2558 393.671 Q82.0105 393.3 79.6031 392.559 L79.6031 387.86 Q81.6864 388.995 83.9086 389.55 Q86.1308 390.106 88.6077 390.106 Q92.6123 390.106 94.9502 387.999 Q97.2882 385.893 97.2882 382.282 Q97.2882 378.671 94.9502 376.564 Q92.6123 374.458 88.6077 374.458 Q86.7327 374.458 84.8577 374.874 Q83.0058 375.291 81.0614 376.171 L81.0614 358.81 Z\" fill=\"#000000\" fill-rule=\"evenodd\" fill-opacity=\"1\" /><path clip-path=\"url(#clip870)\" d=\"M111.177 387.49 L116.061 387.49 L116.061 393.37 L111.177 393.37 L111.177 387.49 Z\" fill=\"#000000\" fill-rule=\"evenodd\" fill-opacity=\"1\" /><path clip-path=\"url(#clip870)\" d=\"M126.293 358.81 L144.649 358.81 L144.649 362.745 L130.575 362.745 L130.575 371.217 Q131.594 370.87 132.612 370.708 Q133.631 370.523 134.649 370.523 Q140.436 370.523 143.816 373.694 Q147.195 376.865 147.195 382.282 Q147.195 387.86 143.723 390.962 Q140.251 394.041 133.931 394.041 Q131.756 394.041 129.487 393.671 Q127.242 393.3 124.834 392.559 L124.834 387.86 Q126.918 388.995 129.14 389.55 Q131.362 390.106 133.839 390.106 Q137.844 390.106 140.181 387.999 Q142.519 385.893 142.519 382.282 Q142.519 378.671 140.181 376.564 Q137.844 374.458 133.839 374.458 Q131.964 374.458 130.089 374.874 Q128.237 375.291 126.293 376.171 L126.293 358.81 Z\" fill=\"#000000\" fill-rule=\"evenodd\" fill-opacity=\"1\" /><path clip-path=\"url(#clip870)\" d=\"M166.408 361.888 Q162.797 361.888 160.968 365.453 Q159.163 368.995 159.163 376.124 Q159.163 383.231 160.968 386.796 Q162.797 390.337 166.408 390.337 Q170.042 390.337 171.848 386.796 Q173.677 383.231 173.677 376.124 Q173.677 368.995 171.848 365.453 Q170.042 361.888 166.408 361.888 M166.408 358.185 Q172.218 358.185 175.274 362.791 Q178.353 367.374 178.353 376.124 Q178.353 384.851 175.274 389.458 Q172.218 394.041 166.408 394.041 Q160.598 394.041 157.519 389.458 Q154.464 384.851 154.464 376.124 Q154.464 367.374 157.519 362.791 Q160.598 358.185 166.408 358.185 Z\" fill=\"#000000\" fill-rule=\"evenodd\" fill-opacity=\"1\" /><path clip-path=\"url(#clip870)\" d=\"M52.6588 149.05 L60.2976 149.05 L60.2976 122.685 L51.9875 124.351 L51.9875 120.092 L60.2513 118.425 L64.9272 118.425 L64.9272 149.05 L72.5661 149.05 L72.5661 152.985 L52.6588 152.985 L52.6588 149.05 Z\" fill=\"#000000\" fill-rule=\"evenodd\" fill-opacity=\"1\" /><path clip-path=\"url(#clip870)\" d=\"M82.0568 118.425 L100.413 118.425 L100.413 122.361 L86.3392 122.361 L86.3392 130.833 Q87.3577 130.486 88.3762 130.324 Q89.3947 130.138 90.4132 130.138 Q96.2002 130.138 99.5798 133.31 Q102.959 136.481 102.959 141.898 Q102.959 147.476 99.4872 150.578 Q96.015 153.657 89.6956 153.657 Q87.5197 153.657 85.2512 153.286 Q83.0058 152.916 80.5984 152.175 L80.5984 147.476 Q82.6818 148.611 84.904 149.166 Q87.1262 149.722 89.603 149.722 Q93.6076 149.722 95.9456 147.615 Q98.2835 145.509 98.2835 141.898 Q98.2835 138.286 95.9456 136.18 Q93.6076 134.074 89.603 134.074 Q87.728 134.074 85.8531 134.49 Q84.0012 134.907 82.0568 135.786 L82.0568 118.425 Z\" fill=\"#000000\" fill-rule=\"evenodd\" fill-opacity=\"1\" /><path clip-path=\"url(#clip870)\" d=\"M112.172 147.106 L117.057 147.106 L117.057 152.985 L112.172 152.985 L112.172 147.106 Z\" fill=\"#000000\" fill-rule=\"evenodd\" fill-opacity=\"1\" /><path clip-path=\"url(#clip870)\" d=\"M126.061 118.425 L148.283 118.425 L148.283 120.416 L135.737 152.985 L130.853 152.985 L142.658 122.361 L126.061 122.361 L126.061 118.425 Z\" fill=\"#000000\" fill-rule=\"evenodd\" fill-opacity=\"1\" /><path clip-path=\"url(#clip870)\" d=\"M157.45 118.425 L175.806 118.425 L175.806 122.361 L161.732 122.361 L161.732 130.833 Q162.751 130.486 163.769 130.324 Q164.788 130.138 165.806 130.138 Q171.593 130.138 174.973 133.31 Q178.353 136.481 178.353 141.898 Q178.353 147.476 174.88 150.578 Q171.408 153.657 165.089 153.657 Q162.913 153.657 160.644 153.286 Q158.399 152.916 155.992 152.175 L155.992 147.476 Q158.075 148.611 160.297 149.166 Q162.519 149.722 164.996 149.722 Q169.001 149.722 171.339 147.615 Q173.677 145.509 173.677 141.898 Q173.677 138.286 171.339 136.18 Q169.001 134.074 164.996 134.074 Q163.121 134.074 161.246 134.49 Q159.394 134.907 157.45 135.786 L157.45 118.425 Z\" fill=\"#000000\" fill-rule=\"evenodd\" fill-opacity=\"1\" /><polyline clip-path=\"url(#clip872)\" style=\"stroke:#009af9; stroke-linecap:butt; stroke-linejoin:round; stroke-width:4; stroke-opacity:1; fill:none\" points=\"\n  2292.24,1433.78 1171.06,1337.63 946.819,1049.17 498.347,664.551 292.05,376.09 274.873,87.6286 \n  \"/>\n<circle clip-path=\"url(#clip872)\" cx=\"2292.24\" cy=\"1433.78\" r=\"14\" fill=\"#e26f46\" fill-rule=\"evenodd\" fill-opacity=\"1\" stroke=\"#000000\" stroke-opacity=\"1\" stroke-width=\"3.2\"/>\n<circle clip-path=\"url(#clip872)\" cx=\"1171.06\" cy=\"1337.63\" r=\"14\" fill=\"#e26f46\" fill-rule=\"evenodd\" fill-opacity=\"1\" stroke=\"#000000\" stroke-opacity=\"1\" stroke-width=\"3.2\"/>\n<circle clip-path=\"url(#clip872)\" cx=\"946.819\" cy=\"1049.17\" r=\"14\" fill=\"#e26f46\" fill-rule=\"evenodd\" fill-opacity=\"1\" stroke=\"#000000\" stroke-opacity=\"1\" stroke-width=\"3.2\"/>\n<circle clip-path=\"url(#clip872)\" cx=\"498.347\" cy=\"664.551\" r=\"14\" fill=\"#e26f46\" fill-rule=\"evenodd\" fill-opacity=\"1\" stroke=\"#000000\" stroke-opacity=\"1\" stroke-width=\"3.2\"/>\n<circle clip-path=\"url(#clip872)\" cx=\"292.05\" cy=\"376.09\" r=\"14\" fill=\"#e26f46\" fill-rule=\"evenodd\" fill-opacity=\"1\" stroke=\"#000000\" stroke-opacity=\"1\" stroke-width=\"3.2\"/>\n<circle clip-path=\"url(#clip872)\" cx=\"274.873\" cy=\"87.6286\" r=\"14\" fill=\"#e26f46\" fill-rule=\"evenodd\" fill-opacity=\"1\" stroke=\"#000000\" stroke-opacity=\"1\" stroke-width=\"3.2\"/>\n</svg>\n"
     },
     "execution_count": 62,
     "metadata": {},
     "output_type": "execute_result"
    }
   ],
   "source": [
    "plot(numpirates, globaltemperatures, legend=false)\n",
    "scatter!(numpirates, globaltemperatures, legend=false)"
   ]
  },
  {
   "cell_type": "markdown",
   "metadata": {},
   "source": [
    "We can reverse an axis by using the `flip` function with the corresponding axis:"
   ]
  },
  {
   "cell_type": "code",
   "execution_count": 63,
   "metadata": {},
   "outputs": [
    {
     "data": {
      "image/svg+xml": "<?xml version=\"1.0\" encoding=\"utf-8\"?>\n<svg xmlns=\"http://www.w3.org/2000/svg\" xmlns:xlink=\"http://www.w3.org/1999/xlink\" width=\"600\" height=\"400\" viewBox=\"0 0 2400 1600\">\n<defs>\n  <clipPath id=\"clip910\">\n    <rect x=\"0\" y=\"0\" width=\"2400\" height=\"1600\"/>\n  </clipPath>\n</defs>\n<path clip-path=\"url(#clip910)\" d=\"\nM0 1600 L2400 1600 L2400 0 L0 0  Z\n  \" fill=\"#ffffff\" fill-rule=\"evenodd\" fill-opacity=\"1\"/>\n<defs>\n  <clipPath id=\"clip911\">\n    <rect x=\"480\" y=\"0\" width=\"1681\" height=\"1600\"/>\n  </clipPath>\n</defs>\n<path clip-path=\"url(#clip910)\" d=\"\nM214.353 1474.16 L2352.76 1474.16 L2352.76 47.2441 L214.353 47.2441  Z\n  \" fill=\"#ffffff\" fill-rule=\"evenodd\" fill-opacity=\"1\"/>\n<defs>\n  <clipPath id=\"clip912\">\n    <rect x=\"214\" y=\"47\" width=\"2139\" height=\"1428\"/>\n  </clipPath>\n</defs>\n<polyline clip-path=\"url(#clip912)\" style=\"stroke:#000000; stroke-linecap:butt; stroke-linejoin:round; stroke-width:2; stroke-opacity:0.1; fill:none\" points=\"\n  2293,1474.16 2293,47.2441 \n  \"/>\n<polyline clip-path=\"url(#clip912)\" style=\"stroke:#000000; stroke-linecap:butt; stroke-linejoin:round; stroke-width:2; stroke-opacity:0.1; fill:none\" points=\"\n  1844.53,1474.16 1844.53,47.2441 \n  \"/>\n<polyline clip-path=\"url(#clip912)\" style=\"stroke:#000000; stroke-linecap:butt; stroke-linejoin:round; stroke-width:2; stroke-opacity:0.1; fill:none\" points=\"\n  1396.05,1474.16 1396.05,47.2441 \n  \"/>\n<polyline clip-path=\"url(#clip912)\" style=\"stroke:#000000; stroke-linecap:butt; stroke-linejoin:round; stroke-width:2; stroke-opacity:0.1; fill:none\" points=\"\n  947.581,1474.16 947.581,47.2441 \n  \"/>\n<polyline clip-path=\"url(#clip912)\" style=\"stroke:#000000; stroke-linecap:butt; stroke-linejoin:round; stroke-width:2; stroke-opacity:0.1; fill:none\" points=\"\n  499.109,1474.16 499.109,47.2441 \n  \"/>\n<polyline clip-path=\"url(#clip910)\" style=\"stroke:#000000; stroke-linecap:butt; stroke-linejoin:round; stroke-width:4; stroke-opacity:1; fill:none\" points=\"\n  2352.76,1474.16 214.353,1474.16 \n  \"/>\n<polyline clip-path=\"url(#clip910)\" style=\"stroke:#000000; stroke-linecap:butt; stroke-linejoin:round; stroke-width:4; stroke-opacity:1; fill:none\" points=\"\n  2293,1474.16 2293,1455.27 \n  \"/>\n<polyline clip-path=\"url(#clip910)\" style=\"stroke:#000000; stroke-linecap:butt; stroke-linejoin:round; stroke-width:4; stroke-opacity:1; fill:none\" points=\"\n  1844.53,1474.16 1844.53,1455.27 \n  \"/>\n<polyline clip-path=\"url(#clip910)\" style=\"stroke:#000000; stroke-linecap:butt; stroke-linejoin:round; stroke-width:4; stroke-opacity:1; fill:none\" points=\"\n  1396.05,1474.16 1396.05,1455.27 \n  \"/>\n<polyline clip-path=\"url(#clip910)\" style=\"stroke:#000000; stroke-linecap:butt; stroke-linejoin:round; stroke-width:4; stroke-opacity:1; fill:none\" points=\"\n  947.581,1474.16 947.581,1455.27 \n  \"/>\n<polyline clip-path=\"url(#clip910)\" style=\"stroke:#000000; stroke-linecap:butt; stroke-linejoin:round; stroke-width:4; stroke-opacity:1; fill:none\" points=\"\n  499.109,1474.16 499.109,1455.27 \n  \"/>\n<path clip-path=\"url(#clip910)\" d=\"M2293 1505.08 Q2289.39 1505.08 2287.56 1508.65 Q2285.75 1512.19 2285.75 1519.32 Q2285.75 1526.43 2287.56 1529.99 Q2289.39 1533.53 2293 1533.53 Q2296.63 1533.53 2298.44 1529.99 Q2300.27 1526.43 2300.27 1519.32 Q2300.27 1512.19 2298.44 1508.65 Q2296.63 1505.08 2293 1505.08 M2293 1501.38 Q2298.81 1501.38 2301.86 1505.99 Q2304.94 1510.57 2304.94 1519.32 Q2304.94 1528.05 2301.86 1532.65 Q2298.81 1537.24 2293 1537.24 Q2287.19 1537.24 2284.11 1532.65 Q2281.05 1528.05 2281.05 1519.32 Q2281.05 1510.57 2284.11 1505.99 Q2287.19 1501.38 2293 1501.38 Z\" fill=\"#000000\" fill-rule=\"evenodd\" fill-opacity=\"1\" /><path clip-path=\"url(#clip910)\" d=\"M1751.42 1548.29 L1759.06 1548.29 L1759.06 1521.92 L1750.75 1523.59 L1750.75 1519.33 L1759.02 1517.66 L1763.69 1517.66 L1763.69 1548.29 L1771.33 1548.29 L1771.33 1552.22 L1751.42 1552.22 L1751.42 1548.29 Z\" fill=\"#000000\" fill-rule=\"evenodd\" fill-opacity=\"1\" /><path clip-path=\"url(#clip910)\" d=\"M1780.78 1546.35 L1785.66 1546.35 L1785.66 1552.22 L1780.78 1552.22 L1780.78 1546.35 Z\" fill=\"#000000\" fill-rule=\"evenodd\" fill-opacity=\"1\" /><path clip-path=\"url(#clip910)\" d=\"M1805.85 1520.74 Q1802.23 1520.74 1800.41 1524.31 Q1798.6 1527.85 1798.6 1534.98 Q1798.6 1542.09 1800.41 1545.65 Q1802.23 1549.19 1805.85 1549.19 Q1809.48 1549.19 1811.28 1545.65 Q1813.11 1542.09 1813.11 1534.98 Q1813.11 1527.85 1811.28 1524.31 Q1809.48 1520.74 1805.85 1520.74 M1805.85 1517.04 Q1811.66 1517.04 1814.71 1521.65 Q1817.79 1526.23 1817.79 1534.98 Q1817.79 1543.71 1814.71 1548.31 Q1811.66 1552.9 1805.85 1552.9 Q1800.03 1552.9 1796.96 1548.31 Q1793.9 1543.71 1793.9 1534.98 Q1793.9 1526.23 1796.96 1521.65 Q1800.03 1517.04 1805.85 1517.04 Z\" fill=\"#000000\" fill-rule=\"evenodd\" fill-opacity=\"1\" /><path clip-path=\"url(#clip910)\" d=\"M1854.18 1526.76 L1843.6 1537.39 L1854.18 1547.97 L1851.42 1550.77 L1840.8 1540.14 L1830.17 1550.77 L1827.44 1547.97 L1838 1537.39 L1827.44 1526.76 L1830.17 1523.96 L1840.8 1534.59 L1851.42 1523.96 L1854.18 1526.76 Z\" fill=\"#000000\" fill-rule=\"evenodd\" fill-opacity=\"1\" /><path clip-path=\"url(#clip910)\" d=\"M1866.54 1548.29 L1874.18 1548.29 L1874.18 1521.92 L1865.87 1523.59 L1865.87 1519.33 L1874.13 1517.66 L1878.81 1517.66 L1878.81 1548.29 L1886.45 1548.29 L1886.45 1552.22 L1866.54 1552.22 L1866.54 1548.29 Z\" fill=\"#000000\" fill-rule=\"evenodd\" fill-opacity=\"1\" /><path clip-path=\"url(#clip910)\" d=\"M1905.89 1520.74 Q1902.28 1520.74 1900.45 1524.31 Q1898.65 1527.85 1898.65 1534.98 Q1898.65 1542.09 1900.45 1545.65 Q1902.28 1549.19 1905.89 1549.19 Q1909.53 1549.19 1911.33 1545.65 Q1913.16 1542.09 1913.16 1534.98 Q1913.16 1527.85 1911.33 1524.31 Q1909.53 1520.74 1905.89 1520.74 M1905.89 1517.04 Q1911.7 1517.04 1914.76 1521.65 Q1917.84 1526.23 1917.84 1534.98 Q1917.84 1543.71 1914.76 1548.31 Q1911.7 1552.9 1905.89 1552.9 Q1900.08 1552.9 1897 1548.31 Q1893.95 1543.71 1893.95 1534.98 Q1893.95 1526.23 1897 1521.65 Q1900.08 1517.04 1905.89 1517.04 Z\" fill=\"#000000\" fill-rule=\"evenodd\" fill-opacity=\"1\" /><path clip-path=\"url(#clip910)\" d=\"M1930.51 1500.04 L1920.92 1515.03 L1930.51 1515.03 L1930.51 1500.04 M1929.51 1496.73 L1934.29 1496.73 L1934.29 1515.03 L1938.3 1515.03 L1938.3 1518.19 L1934.29 1518.19 L1934.29 1524.81 L1930.51 1524.81 L1930.51 1518.19 L1917.84 1518.19 L1917.84 1514.53 L1929.51 1496.73 Z\" fill=\"#000000\" fill-rule=\"evenodd\" fill-opacity=\"1\" /><path clip-path=\"url(#clip910)\" d=\"M1307.04 1548.29 L1323.36 1548.29 L1323.36 1552.22 L1301.41 1552.22 L1301.41 1548.29 Q1304.07 1545.53 1308.66 1540.91 Q1313.26 1536.25 1314.45 1534.91 Q1316.69 1532.39 1317.57 1530.65 Q1318.47 1528.89 1318.47 1527.2 Q1318.47 1524.45 1316.53 1522.71 Q1314.61 1520.97 1311.51 1520.97 Q1309.31 1520.97 1306.85 1521.74 Q1304.42 1522.5 1301.64 1524.05 L1301.64 1519.33 Q1304.47 1518.2 1306.92 1517.62 Q1309.38 1517.04 1311.41 1517.04 Q1316.78 1517.04 1319.98 1519.72 Q1323.17 1522.41 1323.17 1526.9 Q1323.17 1529.03 1322.36 1530.95 Q1321.57 1532.85 1319.47 1535.44 Q1318.89 1536.11 1315.79 1539.33 Q1312.69 1542.53 1307.04 1548.29 Z\" fill=\"#000000\" fill-rule=\"evenodd\" fill-opacity=\"1\" /><path clip-path=\"url(#clip910)\" d=\"M1333.17 1546.35 L1338.06 1546.35 L1338.06 1552.22 L1333.17 1552.22 L1333.17 1546.35 Z\" fill=\"#000000\" fill-rule=\"evenodd\" fill-opacity=\"1\" /><path clip-path=\"url(#clip910)\" d=\"M1358.24 1520.74 Q1354.63 1520.74 1352.8 1524.31 Q1351 1527.85 1351 1534.98 Q1351 1542.09 1352.8 1545.65 Q1354.63 1549.19 1358.24 1549.19 Q1361.88 1549.19 1363.68 1545.65 Q1365.51 1542.09 1365.51 1534.98 Q1365.51 1527.85 1363.68 1524.31 Q1361.88 1520.74 1358.24 1520.74 M1358.24 1517.04 Q1364.05 1517.04 1367.11 1521.65 Q1370.19 1526.23 1370.19 1534.98 Q1370.19 1543.71 1367.11 1548.31 Q1364.05 1552.9 1358.24 1552.9 Q1352.43 1552.9 1349.35 1548.31 Q1346.3 1543.71 1346.3 1534.98 Q1346.3 1526.23 1349.35 1521.65 Q1352.43 1517.04 1358.24 1517.04 Z\" fill=\"#000000\" fill-rule=\"evenodd\" fill-opacity=\"1\" /><path clip-path=\"url(#clip910)\" d=\"M1406.57 1526.76 L1396 1537.39 L1406.57 1547.97 L1403.82 1550.77 L1393.19 1540.14 L1382.57 1550.77 L1379.84 1547.97 L1390.39 1537.39 L1379.84 1526.76 L1382.57 1523.96 L1393.19 1534.59 L1403.82 1523.96 L1406.57 1526.76 Z\" fill=\"#000000\" fill-rule=\"evenodd\" fill-opacity=\"1\" /><path clip-path=\"url(#clip910)\" d=\"M1418.94 1548.29 L1426.57 1548.29 L1426.57 1521.92 L1418.26 1523.59 L1418.26 1519.33 L1426.53 1517.66 L1431.2 1517.66 L1431.2 1548.29 L1438.84 1548.29 L1438.84 1552.22 L1418.94 1552.22 L1418.94 1548.29 Z\" fill=\"#000000\" fill-rule=\"evenodd\" fill-opacity=\"1\" /><path clip-path=\"url(#clip910)\" d=\"M1458.29 1520.74 Q1454.68 1520.74 1452.85 1524.31 Q1451.04 1527.85 1451.04 1534.98 Q1451.04 1542.09 1452.85 1545.65 Q1454.68 1549.19 1458.29 1549.19 Q1461.92 1549.19 1463.73 1545.65 Q1465.56 1542.09 1465.56 1534.98 Q1465.56 1527.85 1463.73 1524.31 Q1461.92 1520.74 1458.29 1520.74 M1458.29 1517.04 Q1464.1 1517.04 1467.15 1521.65 Q1470.23 1526.23 1470.23 1534.98 Q1470.23 1543.71 1467.15 1548.31 Q1464.1 1552.9 1458.29 1552.9 Q1452.48 1552.9 1449.4 1548.31 Q1446.34 1543.71 1446.34 1534.98 Q1446.34 1526.23 1449.4 1521.65 Q1452.48 1517.04 1458.29 1517.04 Z\" fill=\"#000000\" fill-rule=\"evenodd\" fill-opacity=\"1\" /><path clip-path=\"url(#clip910)\" d=\"M1482.91 1500.04 L1473.32 1515.03 L1482.91 1515.03 L1482.91 1500.04 M1481.91 1496.73 L1486.69 1496.73 L1486.69 1515.03 L1490.69 1515.03 L1490.69 1518.19 L1486.69 1518.19 L1486.69 1524.81 L1482.91 1524.81 L1482.91 1518.19 L1470.23 1518.19 L1470.23 1514.53 L1481.91 1496.73 Z\" fill=\"#000000\" fill-rule=\"evenodd\" fill-opacity=\"1\" /><path clip-path=\"url(#clip910)\" d=\"M868.635 1533.59 Q871.992 1534.31 873.867 1536.58 Q875.765 1538.85 875.765 1542.18 Q875.765 1547.29 872.246 1550.1 Q868.728 1552.9 862.246 1552.9 Q860.07 1552.9 857.756 1552.46 Q855.464 1552.04 853.01 1551.18 L853.01 1546.67 Q854.955 1547.8 857.269 1548.38 Q859.584 1548.96 862.107 1548.96 Q866.505 1548.96 868.797 1547.22 Q871.112 1545.49 871.112 1542.18 Q871.112 1539.12 868.959 1537.41 Q866.83 1535.67 863.01 1535.67 L858.982 1535.67 L858.982 1531.83 L863.195 1531.83 Q866.644 1531.83 868.473 1530.47 Q870.302 1529.08 870.302 1526.48 Q870.302 1523.82 868.404 1522.41 Q866.529 1520.97 863.01 1520.97 Q861.089 1520.97 858.89 1521.39 Q856.691 1521.81 854.052 1522.69 L854.052 1518.52 Q856.714 1517.78 859.029 1517.41 Q861.367 1517.04 863.427 1517.04 Q868.751 1517.04 871.853 1519.47 Q874.954 1521.88 874.954 1526 Q874.954 1528.87 873.311 1530.86 Q871.667 1532.83 868.635 1533.59 Z\" fill=\"#000000\" fill-rule=\"evenodd\" fill-opacity=\"1\" /><path clip-path=\"url(#clip910)\" d=\"M884.63 1546.35 L889.515 1546.35 L889.515 1552.22 L884.63 1552.22 L884.63 1546.35 Z\" fill=\"#000000\" fill-rule=\"evenodd\" fill-opacity=\"1\" /><path clip-path=\"url(#clip910)\" d=\"M909.7 1520.74 Q906.089 1520.74 904.26 1524.31 Q902.454 1527.85 902.454 1534.98 Q902.454 1542.09 904.26 1545.65 Q906.089 1549.19 909.7 1549.19 Q913.334 1549.19 915.139 1545.65 Q916.968 1542.09 916.968 1534.98 Q916.968 1527.85 915.139 1524.31 Q913.334 1520.74 909.7 1520.74 M909.7 1517.04 Q915.51 1517.04 918.565 1521.65 Q921.644 1526.23 921.644 1534.98 Q921.644 1543.71 918.565 1548.31 Q915.51 1552.9 909.7 1552.9 Q903.89 1552.9 900.811 1548.31 Q897.755 1543.71 897.755 1534.98 Q897.755 1526.23 900.811 1521.65 Q903.89 1517.04 909.7 1517.04 Z\" fill=\"#000000\" fill-rule=\"evenodd\" fill-opacity=\"1\" /><path clip-path=\"url(#clip910)\" d=\"M958.033 1526.76 L947.454 1537.39 L958.033 1547.97 L955.278 1550.77 L944.653 1540.14 L934.028 1550.77 L931.297 1547.97 L941.852 1537.39 L931.297 1526.76 L934.028 1523.96 L944.653 1534.59 L955.278 1523.96 L958.033 1526.76 Z\" fill=\"#000000\" fill-rule=\"evenodd\" fill-opacity=\"1\" /><path clip-path=\"url(#clip910)\" d=\"M970.394 1548.29 L978.033 1548.29 L978.033 1521.92 L969.723 1523.59 L969.723 1519.33 L977.986 1517.66 L982.662 1517.66 L982.662 1548.29 L990.301 1548.29 L990.301 1552.22 L970.394 1552.22 L970.394 1548.29 Z\" fill=\"#000000\" fill-rule=\"evenodd\" fill-opacity=\"1\" /><path clip-path=\"url(#clip910)\" d=\"M1009.75 1520.74 Q1006.13 1520.74 1004.31 1524.31 Q1002.5 1527.85 1002.5 1534.98 Q1002.5 1542.09 1004.31 1545.65 Q1006.13 1549.19 1009.75 1549.19 Q1013.38 1549.19 1015.19 1545.65 Q1017.01 1542.09 1017.01 1534.98 Q1017.01 1527.85 1015.19 1524.31 Q1013.38 1520.74 1009.75 1520.74 M1009.75 1517.04 Q1015.56 1517.04 1018.61 1521.65 Q1021.69 1526.23 1021.69 1534.98 Q1021.69 1543.71 1018.61 1548.31 Q1015.56 1552.9 1009.75 1552.9 Q1003.94 1552.9 1000.86 1548.31 Q997.801 1543.71 997.801 1534.98 Q997.801 1526.23 1000.86 1521.65 Q1003.94 1517.04 1009.75 1517.04 Z\" fill=\"#000000\" fill-rule=\"evenodd\" fill-opacity=\"1\" /><path clip-path=\"url(#clip910)\" d=\"M1034.37 1500.04 L1024.77 1515.03 L1034.37 1515.03 L1034.37 1500.04 M1033.37 1496.73 L1038.15 1496.73 L1038.15 1515.03 L1042.15 1515.03 L1042.15 1518.19 L1038.15 1518.19 L1038.15 1524.81 L1034.37 1524.81 L1034.37 1518.19 L1021.69 1518.19 L1021.69 1514.53 L1033.37 1496.73 Z\" fill=\"#000000\" fill-rule=\"evenodd\" fill-opacity=\"1\" /><path clip-path=\"url(#clip910)\" d=\"M419.492 1521.74 L407.686 1540.19 L419.492 1540.19 L419.492 1521.74 M418.265 1517.66 L424.145 1517.66 L424.145 1540.19 L429.075 1540.19 L429.075 1544.08 L424.145 1544.08 L424.145 1552.22 L419.492 1552.22 L419.492 1544.08 L403.89 1544.08 L403.89 1539.56 L418.265 1517.66 Z\" fill=\"#000000\" fill-rule=\"evenodd\" fill-opacity=\"1\" /><path clip-path=\"url(#clip910)\" d=\"M436.807 1546.35 L441.691 1546.35 L441.691 1552.22 L436.807 1552.22 L436.807 1546.35 Z\" fill=\"#000000\" fill-rule=\"evenodd\" fill-opacity=\"1\" /><path clip-path=\"url(#clip910)\" d=\"M461.876 1520.74 Q458.265 1520.74 456.436 1524.31 Q454.63 1527.85 454.63 1534.98 Q454.63 1542.09 456.436 1545.65 Q458.265 1549.19 461.876 1549.19 Q465.51 1549.19 467.316 1545.65 Q469.144 1542.09 469.144 1534.98 Q469.144 1527.85 467.316 1524.31 Q465.51 1520.74 461.876 1520.74 M461.876 1517.04 Q467.686 1517.04 470.742 1521.65 Q473.82 1526.23 473.82 1534.98 Q473.82 1543.71 470.742 1548.31 Q467.686 1552.9 461.876 1552.9 Q456.066 1552.9 452.987 1548.31 Q449.931 1543.71 449.931 1534.98 Q449.931 1526.23 452.987 1521.65 Q456.066 1517.04 461.876 1517.04 Z\" fill=\"#000000\" fill-rule=\"evenodd\" fill-opacity=\"1\" /><path clip-path=\"url(#clip910)\" d=\"M510.209 1526.76 L499.63 1537.39 L510.209 1547.97 L507.454 1550.77 L496.829 1540.14 L486.204 1550.77 L483.473 1547.97 L494.028 1537.39 L483.473 1526.76 L486.204 1523.96 L496.829 1534.59 L507.454 1523.96 L510.209 1526.76 Z\" fill=\"#000000\" fill-rule=\"evenodd\" fill-opacity=\"1\" /><path clip-path=\"url(#clip910)\" d=\"M522.57 1548.29 L530.209 1548.29 L530.209 1521.92 L521.899 1523.59 L521.899 1519.33 L530.162 1517.66 L534.838 1517.66 L534.838 1548.29 L542.477 1548.29 L542.477 1552.22 L522.57 1552.22 L522.57 1548.29 Z\" fill=\"#000000\" fill-rule=\"evenodd\" fill-opacity=\"1\" /><path clip-path=\"url(#clip910)\" d=\"M561.922 1520.74 Q558.31 1520.74 556.482 1524.31 Q554.676 1527.85 554.676 1534.98 Q554.676 1542.09 556.482 1545.65 Q558.31 1549.19 561.922 1549.19 Q565.556 1549.19 567.361 1545.65 Q569.19 1542.09 569.19 1534.98 Q569.19 1527.85 567.361 1524.31 Q565.556 1520.74 561.922 1520.74 M561.922 1517.04 Q567.732 1517.04 570.787 1521.65 Q573.866 1526.23 573.866 1534.98 Q573.866 1543.71 570.787 1548.31 Q567.732 1552.9 561.922 1552.9 Q556.111 1552.9 553.033 1548.31 Q549.977 1543.71 549.977 1534.98 Q549.977 1526.23 553.033 1521.65 Q556.111 1517.04 561.922 1517.04 Z\" fill=\"#000000\" fill-rule=\"evenodd\" fill-opacity=\"1\" /><path clip-path=\"url(#clip910)\" d=\"M586.542 1500.04 L576.95 1515.03 L586.542 1515.03 L586.542 1500.04 M585.546 1496.73 L590.323 1496.73 L590.323 1515.03 L594.329 1515.03 L594.329 1518.19 L590.323 1518.19 L590.323 1524.81 L586.542 1524.81 L586.542 1518.19 L573.866 1518.19 L573.866 1514.53 L585.546 1496.73 Z\" fill=\"#000000\" fill-rule=\"evenodd\" fill-opacity=\"1\" /><polyline clip-path=\"url(#clip912)\" style=\"stroke:#000000; stroke-linecap:butt; stroke-linejoin:round; stroke-width:2; stroke-opacity:0.1; fill:none\" points=\"\n  2352.76,1337.63 214.353,1337.63 \n  \"/>\n<polyline clip-path=\"url(#clip912)\" style=\"stroke:#000000; stroke-linecap:butt; stroke-linejoin:round; stroke-width:2; stroke-opacity:0.1; fill:none\" points=\"\n  2352.76,1097.24 214.353,1097.24 \n  \"/>\n<polyline clip-path=\"url(#clip912)\" style=\"stroke:#000000; stroke-linecap:butt; stroke-linejoin:round; stroke-width:2; stroke-opacity:0.1; fill:none\" points=\"\n  2352.76,856.858 214.353,856.858 \n  \"/>\n<polyline clip-path=\"url(#clip912)\" style=\"stroke:#000000; stroke-linecap:butt; stroke-linejoin:round; stroke-width:2; stroke-opacity:0.1; fill:none\" points=\"\n  2352.76,616.474 214.353,616.474 \n  \"/>\n<polyline clip-path=\"url(#clip912)\" style=\"stroke:#000000; stroke-linecap:butt; stroke-linejoin:round; stroke-width:2; stroke-opacity:0.1; fill:none\" points=\"\n  2352.76,376.09 214.353,376.09 \n  \"/>\n<polyline clip-path=\"url(#clip912)\" style=\"stroke:#000000; stroke-linecap:butt; stroke-linejoin:round; stroke-width:2; stroke-opacity:0.1; fill:none\" points=\"\n  2352.76,135.705 214.353,135.705 \n  \"/>\n<polyline clip-path=\"url(#clip910)\" style=\"stroke:#000000; stroke-linecap:butt; stroke-linejoin:round; stroke-width:4; stroke-opacity:1; fill:none\" points=\"\n  214.353,1474.16 214.353,47.2441 \n  \"/>\n<polyline clip-path=\"url(#clip910)\" style=\"stroke:#000000; stroke-linecap:butt; stroke-linejoin:round; stroke-width:4; stroke-opacity:1; fill:none\" points=\"\n  214.353,1337.63 233.25,1337.63 \n  \"/>\n<polyline clip-path=\"url(#clip910)\" style=\"stroke:#000000; stroke-linecap:butt; stroke-linejoin:round; stroke-width:4; stroke-opacity:1; fill:none\" points=\"\n  214.353,1097.24 233.25,1097.24 \n  \"/>\n<polyline clip-path=\"url(#clip910)\" style=\"stroke:#000000; stroke-linecap:butt; stroke-linejoin:round; stroke-width:4; stroke-opacity:1; fill:none\" points=\"\n  214.353,856.858 233.25,856.858 \n  \"/>\n<polyline clip-path=\"url(#clip910)\" style=\"stroke:#000000; stroke-linecap:butt; stroke-linejoin:round; stroke-width:4; stroke-opacity:1; fill:none\" points=\"\n  214.353,616.474 233.25,616.474 \n  \"/>\n<polyline clip-path=\"url(#clip910)\" style=\"stroke:#000000; stroke-linecap:butt; stroke-linejoin:round; stroke-width:4; stroke-opacity:1; fill:none\" points=\"\n  214.353,376.09 233.25,376.09 \n  \"/>\n<polyline clip-path=\"url(#clip910)\" style=\"stroke:#000000; stroke-linecap:butt; stroke-linejoin:round; stroke-width:4; stroke-opacity:1; fill:none\" points=\"\n  214.353,135.705 233.25,135.705 \n  \"/>\n<path clip-path=\"url(#clip910)\" d=\"M51.6634 1350.97 L59.3023 1350.97 L59.3023 1324.61 L50.9921 1326.27 L50.9921 1322.01 L59.256 1320.35 L63.9319 1320.35 L63.9319 1350.97 L71.5707 1350.97 L71.5707 1354.91 L51.6634 1354.91 L51.6634 1350.97 Z\" fill=\"#000000\" fill-rule=\"evenodd\" fill-opacity=\"1\" /><path clip-path=\"url(#clip910)\" d=\"M93.8623 1324.42 L82.0568 1342.87 L93.8623 1342.87 L93.8623 1324.42 M92.6354 1320.35 L98.515 1320.35 L98.515 1342.87 L103.446 1342.87 L103.446 1346.76 L98.515 1346.76 L98.515 1354.91 L93.8623 1354.91 L93.8623 1346.76 L78.2605 1346.76 L78.2605 1342.24 L92.6354 1320.35 Z\" fill=\"#000000\" fill-rule=\"evenodd\" fill-opacity=\"1\" /><path clip-path=\"url(#clip910)\" d=\"M111.177 1349.03 L116.061 1349.03 L116.061 1354.91 L111.177 1354.91 L111.177 1349.03 Z\" fill=\"#000000\" fill-rule=\"evenodd\" fill-opacity=\"1\" /><path clip-path=\"url(#clip910)\" d=\"M126.293 1320.35 L144.649 1320.35 L144.649 1324.28 L130.575 1324.28 L130.575 1332.75 Q131.594 1332.41 132.612 1332.24 Q133.631 1332.06 134.649 1332.06 Q140.436 1332.06 143.816 1335.23 Q147.195 1338.4 147.195 1343.82 Q147.195 1349.4 143.723 1352.5 Q140.251 1355.58 133.931 1355.58 Q131.756 1355.58 129.487 1355.21 Q127.242 1354.84 124.834 1354.1 L124.834 1349.4 Q126.918 1350.53 129.14 1351.09 Q131.362 1351.64 133.839 1351.64 Q137.844 1351.64 140.181 1349.54 Q142.519 1347.43 142.519 1343.82 Q142.519 1340.21 140.181 1338.1 Q137.844 1335.99 133.839 1335.99 Q131.964 1335.99 130.089 1336.41 Q128.237 1336.83 126.293 1337.71 L126.293 1320.35 Z\" fill=\"#000000\" fill-rule=\"evenodd\" fill-opacity=\"1\" /><path clip-path=\"url(#clip910)\" d=\"M166.408 1323.43 Q162.797 1323.43 160.968 1326.99 Q159.163 1330.53 159.163 1337.66 Q159.163 1344.77 160.968 1348.33 Q162.797 1351.87 166.408 1351.87 Q170.042 1351.87 171.848 1348.33 Q173.677 1344.77 173.677 1337.66 Q173.677 1330.53 171.848 1326.99 Q170.042 1323.43 166.408 1323.43 M166.408 1319.72 Q172.218 1319.72 175.274 1324.33 Q178.353 1328.91 178.353 1337.66 Q178.353 1346.39 175.274 1350.99 Q172.218 1355.58 166.408 1355.58 Q160.598 1355.58 157.519 1350.99 Q154.464 1346.39 154.464 1337.66 Q154.464 1328.91 157.519 1324.33 Q160.598 1319.72 166.408 1319.72 Z\" fill=\"#000000\" fill-rule=\"evenodd\" fill-opacity=\"1\" /><path clip-path=\"url(#clip910)\" d=\"M52.6588 1110.59 L60.2976 1110.59 L60.2976 1084.22 L51.9875 1085.89 L51.9875 1081.63 L60.2513 1079.96 L64.9272 1079.96 L64.9272 1110.59 L72.5661 1110.59 L72.5661 1114.52 L52.6588 1114.52 L52.6588 1110.59 Z\" fill=\"#000000\" fill-rule=\"evenodd\" fill-opacity=\"1\" /><path clip-path=\"url(#clip910)\" d=\"M94.8576 1084.04 L83.0521 1102.49 L94.8576 1102.49 L94.8576 1084.04 M93.6308 1079.96 L99.5104 1079.96 L99.5104 1102.49 L104.441 1102.49 L104.441 1106.37 L99.5104 1106.37 L99.5104 1114.52 L94.8576 1114.52 L94.8576 1106.37 L79.2559 1106.37 L79.2559 1101.86 L93.6308 1079.96 Z\" fill=\"#000000\" fill-rule=\"evenodd\" fill-opacity=\"1\" /><path clip-path=\"url(#clip910)\" d=\"M112.172 1108.64 L117.057 1108.64 L117.057 1114.52 L112.172 1114.52 L112.172 1108.64 Z\" fill=\"#000000\" fill-rule=\"evenodd\" fill-opacity=\"1\" /><path clip-path=\"url(#clip910)\" d=\"M126.061 1079.96 L148.283 1079.96 L148.283 1081.95 L135.737 1114.52 L130.853 1114.52 L142.658 1083.9 L126.061 1083.9 L126.061 1079.96 Z\" fill=\"#000000\" fill-rule=\"evenodd\" fill-opacity=\"1\" /><path clip-path=\"url(#clip910)\" d=\"M157.45 1079.96 L175.806 1079.96 L175.806 1083.9 L161.732 1083.9 L161.732 1092.37 Q162.751 1092.02 163.769 1091.86 Q164.788 1091.68 165.806 1091.68 Q171.593 1091.68 174.973 1094.85 Q178.353 1098.02 178.353 1103.43 Q178.353 1109.01 174.88 1112.11 Q171.408 1115.19 165.089 1115.19 Q162.913 1115.19 160.644 1114.82 Q158.399 1114.45 155.992 1113.71 L155.992 1109.01 Q158.075 1110.15 160.297 1110.7 Q162.519 1111.26 164.996 1111.26 Q169.001 1111.26 171.339 1109.15 Q173.677 1107.05 173.677 1103.43 Q173.677 1099.82 171.339 1097.72 Q169.001 1095.61 164.996 1095.61 Q163.121 1095.61 161.246 1096.03 Q159.394 1096.44 157.45 1097.32 L157.45 1079.96 Z\" fill=\"#000000\" fill-rule=\"evenodd\" fill-opacity=\"1\" /><path clip-path=\"url(#clip910)\" d=\"M51.6634 870.203 L59.3023 870.203 L59.3023 843.837 L50.9921 845.504 L50.9921 841.245 L59.256 839.578 L63.9319 839.578 L63.9319 870.203 L71.5707 870.203 L71.5707 874.138 L51.6634 874.138 L51.6634 870.203 Z\" fill=\"#000000\" fill-rule=\"evenodd\" fill-opacity=\"1\" /><path clip-path=\"url(#clip910)\" d=\"M81.0614 839.578 L99.4178 839.578 L99.4178 843.513 L85.3438 843.513 L85.3438 851.985 Q86.3623 851.638 87.3808 851.476 Q88.3993 851.291 89.4178 851.291 Q95.2049 851.291 98.5845 854.462 Q101.964 857.634 101.964 863.05 Q101.964 868.629 98.4919 871.731 Q95.0197 874.809 88.7003 874.809 Q86.5243 874.809 84.2558 874.439 Q82.0105 874.069 79.6031 873.328 L79.6031 868.629 Q81.6864 869.763 83.9086 870.319 Q86.1308 870.874 88.6077 870.874 Q92.6123 870.874 94.9502 868.768 Q97.2882 866.661 97.2882 863.05 Q97.2882 859.439 94.9502 857.333 Q92.6123 855.226 88.6077 855.226 Q86.7327 855.226 84.8577 855.643 Q83.0058 856.059 81.0614 856.939 L81.0614 839.578 Z\" fill=\"#000000\" fill-rule=\"evenodd\" fill-opacity=\"1\" /><path clip-path=\"url(#clip910)\" d=\"M111.177 868.258 L116.061 868.258 L116.061 874.138 L111.177 874.138 L111.177 868.258 Z\" fill=\"#000000\" fill-rule=\"evenodd\" fill-opacity=\"1\" /><path clip-path=\"url(#clip910)\" d=\"M136.246 842.657 Q132.635 842.657 130.807 846.222 Q129.001 849.763 129.001 856.893 Q129.001 863.999 130.807 867.564 Q132.635 871.106 136.246 871.106 Q139.881 871.106 141.686 867.564 Q143.515 863.999 143.515 856.893 Q143.515 849.763 141.686 846.222 Q139.881 842.657 136.246 842.657 M136.246 838.953 Q142.056 838.953 145.112 843.56 Q148.191 848.143 148.191 856.893 Q148.191 865.62 145.112 870.226 Q142.056 874.809 136.246 874.809 Q130.436 874.809 127.357 870.226 Q124.302 865.62 124.302 856.893 Q124.302 848.143 127.357 843.56 Q130.436 838.953 136.246 838.953 Z\" fill=\"#000000\" fill-rule=\"evenodd\" fill-opacity=\"1\" /><path clip-path=\"url(#clip910)\" d=\"M166.408 842.657 Q162.797 842.657 160.968 846.222 Q159.163 849.763 159.163 856.893 Q159.163 863.999 160.968 867.564 Q162.797 871.106 166.408 871.106 Q170.042 871.106 171.848 867.564 Q173.677 863.999 173.677 856.893 Q173.677 849.763 171.848 846.222 Q170.042 842.657 166.408 842.657 M166.408 838.953 Q172.218 838.953 175.274 843.56 Q178.353 848.143 178.353 856.893 Q178.353 865.62 175.274 870.226 Q172.218 874.809 166.408 874.809 Q160.598 874.809 157.519 870.226 Q154.464 865.62 154.464 856.893 Q154.464 848.143 157.519 843.56 Q160.598 838.953 166.408 838.953 Z\" fill=\"#000000\" fill-rule=\"evenodd\" fill-opacity=\"1\" /><path clip-path=\"url(#clip910)\" d=\"M52.6588 629.819 L60.2976 629.819 L60.2976 603.453 L51.9875 605.12 L51.9875 600.861 L60.2513 599.194 L64.9272 599.194 L64.9272 629.819 L72.5661 629.819 L72.5661 633.754 L52.6588 633.754 L52.6588 629.819 Z\" fill=\"#000000\" fill-rule=\"evenodd\" fill-opacity=\"1\" /><path clip-path=\"url(#clip910)\" d=\"M82.0568 599.194 L100.413 599.194 L100.413 603.129 L86.3392 603.129 L86.3392 611.601 Q87.3577 611.254 88.3762 611.092 Q89.3947 610.907 90.4132 610.907 Q96.2002 610.907 99.5798 614.078 Q102.959 617.249 102.959 622.666 Q102.959 628.245 99.4872 631.346 Q96.015 634.425 89.6956 634.425 Q87.5197 634.425 85.2512 634.055 Q83.0058 633.684 80.5984 632.944 L80.5984 628.245 Q82.6818 629.379 84.904 629.934 Q87.1262 630.49 89.603 630.49 Q93.6076 630.49 95.9456 628.384 Q98.2835 626.277 98.2835 622.666 Q98.2835 619.055 95.9456 616.948 Q93.6076 614.842 89.603 614.842 Q87.728 614.842 85.8531 615.259 Q84.0012 615.675 82.0568 616.555 L82.0568 599.194 Z\" fill=\"#000000\" fill-rule=\"evenodd\" fill-opacity=\"1\" /><path clip-path=\"url(#clip910)\" d=\"M112.172 627.874 L117.057 627.874 L117.057 633.754 L112.172 633.754 L112.172 627.874 Z\" fill=\"#000000\" fill-rule=\"evenodd\" fill-opacity=\"1\" /><path clip-path=\"url(#clip910)\" d=\"M131.269 629.819 L147.589 629.819 L147.589 633.754 L125.645 633.754 L125.645 629.819 Q128.307 627.064 132.89 622.434 Q137.496 617.782 138.677 616.439 Q140.922 613.916 141.802 612.18 Q142.705 610.421 142.705 608.731 Q142.705 605.976 140.76 604.24 Q138.839 602.504 135.737 602.504 Q133.538 602.504 131.084 603.268 Q128.654 604.032 125.876 605.583 L125.876 600.861 Q128.7 599.726 131.154 599.148 Q133.607 598.569 135.644 598.569 Q141.015 598.569 144.209 601.254 Q147.404 603.939 147.404 608.43 Q147.404 610.56 146.593 612.481 Q145.806 614.379 143.7 616.972 Q143.121 617.643 140.019 620.86 Q136.918 624.055 131.269 629.819 Z\" fill=\"#000000\" fill-rule=\"evenodd\" fill-opacity=\"1\" /><path clip-path=\"url(#clip910)\" d=\"M157.45 599.194 L175.806 599.194 L175.806 603.129 L161.732 603.129 L161.732 611.601 Q162.751 611.254 163.769 611.092 Q164.788 610.907 165.806 610.907 Q171.593 610.907 174.973 614.078 Q178.353 617.249 178.353 622.666 Q178.353 628.245 174.88 631.346 Q171.408 634.425 165.089 634.425 Q162.913 634.425 160.644 634.055 Q158.399 633.684 155.992 632.944 L155.992 628.245 Q158.075 629.379 160.297 629.934 Q162.519 630.49 164.996 630.49 Q169.001 630.49 171.339 628.384 Q173.677 626.277 173.677 622.666 Q173.677 619.055 171.339 616.948 Q169.001 614.842 164.996 614.842 Q163.121 614.842 161.246 615.259 Q159.394 615.675 157.45 616.555 L157.45 599.194 Z\" fill=\"#000000\" fill-rule=\"evenodd\" fill-opacity=\"1\" /><path clip-path=\"url(#clip910)\" d=\"M51.6634 389.435 L59.3023 389.435 L59.3023 363.069 L50.9921 364.736 L50.9921 360.476 L59.256 358.81 L63.9319 358.81 L63.9319 389.435 L71.5707 389.435 L71.5707 393.37 L51.6634 393.37 L51.6634 389.435 Z\" fill=\"#000000\" fill-rule=\"evenodd\" fill-opacity=\"1\" /><path clip-path=\"url(#clip910)\" d=\"M81.0614 358.81 L99.4178 358.81 L99.4178 362.745 L85.3438 362.745 L85.3438 371.217 Q86.3623 370.87 87.3808 370.708 Q88.3993 370.523 89.4178 370.523 Q95.2049 370.523 98.5845 373.694 Q101.964 376.865 101.964 382.282 Q101.964 387.86 98.4919 390.962 Q95.0197 394.041 88.7003 394.041 Q86.5243 394.041 84.2558 393.671 Q82.0105 393.3 79.6031 392.559 L79.6031 387.86 Q81.6864 388.995 83.9086 389.55 Q86.1308 390.106 88.6077 390.106 Q92.6123 390.106 94.9502 387.999 Q97.2882 385.893 97.2882 382.282 Q97.2882 378.671 94.9502 376.564 Q92.6123 374.458 88.6077 374.458 Q86.7327 374.458 84.8577 374.874 Q83.0058 375.291 81.0614 376.171 L81.0614 358.81 Z\" fill=\"#000000\" fill-rule=\"evenodd\" fill-opacity=\"1\" /><path clip-path=\"url(#clip910)\" d=\"M111.177 387.49 L116.061 387.49 L116.061 393.37 L111.177 393.37 L111.177 387.49 Z\" fill=\"#000000\" fill-rule=\"evenodd\" fill-opacity=\"1\" /><path clip-path=\"url(#clip910)\" d=\"M126.293 358.81 L144.649 358.81 L144.649 362.745 L130.575 362.745 L130.575 371.217 Q131.594 370.87 132.612 370.708 Q133.631 370.523 134.649 370.523 Q140.436 370.523 143.816 373.694 Q147.195 376.865 147.195 382.282 Q147.195 387.86 143.723 390.962 Q140.251 394.041 133.931 394.041 Q131.756 394.041 129.487 393.671 Q127.242 393.3 124.834 392.559 L124.834 387.86 Q126.918 388.995 129.14 389.55 Q131.362 390.106 133.839 390.106 Q137.844 390.106 140.181 387.999 Q142.519 385.893 142.519 382.282 Q142.519 378.671 140.181 376.564 Q137.844 374.458 133.839 374.458 Q131.964 374.458 130.089 374.874 Q128.237 375.291 126.293 376.171 L126.293 358.81 Z\" fill=\"#000000\" fill-rule=\"evenodd\" fill-opacity=\"1\" /><path clip-path=\"url(#clip910)\" d=\"M166.408 361.888 Q162.797 361.888 160.968 365.453 Q159.163 368.995 159.163 376.124 Q159.163 383.231 160.968 386.796 Q162.797 390.337 166.408 390.337 Q170.042 390.337 171.848 386.796 Q173.677 383.231 173.677 376.124 Q173.677 368.995 171.848 365.453 Q170.042 361.888 166.408 361.888 M166.408 358.185 Q172.218 358.185 175.274 362.791 Q178.353 367.374 178.353 376.124 Q178.353 384.851 175.274 389.458 Q172.218 394.041 166.408 394.041 Q160.598 394.041 157.519 389.458 Q154.464 384.851 154.464 376.124 Q154.464 367.374 157.519 362.791 Q160.598 358.185 166.408 358.185 Z\" fill=\"#000000\" fill-rule=\"evenodd\" fill-opacity=\"1\" /><path clip-path=\"url(#clip910)\" d=\"M52.6588 149.05 L60.2976 149.05 L60.2976 122.685 L51.9875 124.351 L51.9875 120.092 L60.2513 118.425 L64.9272 118.425 L64.9272 149.05 L72.5661 149.05 L72.5661 152.985 L52.6588 152.985 L52.6588 149.05 Z\" fill=\"#000000\" fill-rule=\"evenodd\" fill-opacity=\"1\" /><path clip-path=\"url(#clip910)\" d=\"M82.0568 118.425 L100.413 118.425 L100.413 122.361 L86.3392 122.361 L86.3392 130.833 Q87.3577 130.486 88.3762 130.324 Q89.3947 130.138 90.4132 130.138 Q96.2002 130.138 99.5798 133.31 Q102.959 136.481 102.959 141.898 Q102.959 147.476 99.4872 150.578 Q96.015 153.657 89.6956 153.657 Q87.5197 153.657 85.2512 153.286 Q83.0058 152.916 80.5984 152.175 L80.5984 147.476 Q82.6818 148.611 84.904 149.166 Q87.1262 149.722 89.603 149.722 Q93.6076 149.722 95.9456 147.615 Q98.2835 145.509 98.2835 141.898 Q98.2835 138.286 95.9456 136.18 Q93.6076 134.074 89.603 134.074 Q87.728 134.074 85.8531 134.49 Q84.0012 134.907 82.0568 135.786 L82.0568 118.425 Z\" fill=\"#000000\" fill-rule=\"evenodd\" fill-opacity=\"1\" /><path clip-path=\"url(#clip910)\" d=\"M112.172 147.106 L117.057 147.106 L117.057 152.985 L112.172 152.985 L112.172 147.106 Z\" fill=\"#000000\" fill-rule=\"evenodd\" fill-opacity=\"1\" /><path clip-path=\"url(#clip910)\" d=\"M126.061 118.425 L148.283 118.425 L148.283 120.416 L135.737 152.985 L130.853 152.985 L142.658 122.361 L126.061 122.361 L126.061 118.425 Z\" fill=\"#000000\" fill-rule=\"evenodd\" fill-opacity=\"1\" /><path clip-path=\"url(#clip910)\" d=\"M157.45 118.425 L175.806 118.425 L175.806 122.361 L161.732 122.361 L161.732 130.833 Q162.751 130.486 163.769 130.324 Q164.788 130.138 165.806 130.138 Q171.593 130.138 174.973 133.31 Q178.353 136.481 178.353 141.898 Q178.353 147.476 174.88 150.578 Q171.408 153.657 165.089 153.657 Q162.913 153.657 160.644 153.286 Q158.399 152.916 155.992 152.175 L155.992 147.476 Q158.075 148.611 160.297 149.166 Q162.519 149.722 164.996 149.722 Q169.001 149.722 171.339 147.615 Q173.677 145.509 173.677 141.898 Q173.677 138.286 171.339 136.18 Q169.001 134.074 164.996 134.074 Q163.121 134.074 161.246 134.49 Q159.394 134.907 157.45 135.786 L157.45 118.425 Z\" fill=\"#000000\" fill-rule=\"evenodd\" fill-opacity=\"1\" /><polyline clip-path=\"url(#clip912)\" style=\"stroke:#009af9; stroke-linecap:butt; stroke-linejoin:round; stroke-width:4; stroke-opacity:1; fill:none\" points=\"\n  274.873,1433.78 1396.05,1337.63 1620.29,1049.17 2068.76,664.551 2275.06,376.09 2292.24,87.6286 \n  \"/>\n<circle clip-path=\"url(#clip912)\" cx=\"274.873\" cy=\"1433.78\" r=\"14\" fill=\"#e26f46\" fill-rule=\"evenodd\" fill-opacity=\"1\" stroke=\"#000000\" stroke-opacity=\"1\" stroke-width=\"3.2\"/>\n<circle clip-path=\"url(#clip912)\" cx=\"1396.05\" cy=\"1337.63\" r=\"14\" fill=\"#e26f46\" fill-rule=\"evenodd\" fill-opacity=\"1\" stroke=\"#000000\" stroke-opacity=\"1\" stroke-width=\"3.2\"/>\n<circle clip-path=\"url(#clip912)\" cx=\"1620.29\" cy=\"1049.17\" r=\"14\" fill=\"#e26f46\" fill-rule=\"evenodd\" fill-opacity=\"1\" stroke=\"#000000\" stroke-opacity=\"1\" stroke-width=\"3.2\"/>\n<circle clip-path=\"url(#clip912)\" cx=\"2068.76\" cy=\"664.551\" r=\"14\" fill=\"#e26f46\" fill-rule=\"evenodd\" fill-opacity=\"1\" stroke=\"#000000\" stroke-opacity=\"1\" stroke-width=\"3.2\"/>\n<circle clip-path=\"url(#clip912)\" cx=\"2275.06\" cy=\"376.09\" r=\"14\" fill=\"#e26f46\" fill-rule=\"evenodd\" fill-opacity=\"1\" stroke=\"#000000\" stroke-opacity=\"1\" stroke-width=\"3.2\"/>\n<circle clip-path=\"url(#clip912)\" cx=\"2292.24\" cy=\"87.6286\" r=\"14\" fill=\"#e26f46\" fill-rule=\"evenodd\" fill-opacity=\"1\" stroke=\"#000000\" stroke-opacity=\"1\" stroke-width=\"3.2\"/>\n</svg>\n"
     },
     "execution_count": 63,
     "metadata": {},
     "output_type": "execute_result"
    }
   ],
   "source": [
    "xflip!()"
   ]
  },
  {
   "cell_type": "markdown",
   "metadata": {},
   "source": [
    "Finally, we can add titles and labels to our plots using syntax similar to MATLAB's plotting functionality:"
   ]
  },
  {
   "cell_type": "code",
   "execution_count": 65,
   "metadata": {},
   "outputs": [
    {
     "data": {
      "image/svg+xml": "<?xml version=\"1.0\" encoding=\"utf-8\"?>\n<svg xmlns=\"http://www.w3.org/2000/svg\" xmlns:xlink=\"http://www.w3.org/1999/xlink\" width=\"600\" height=\"400\" viewBox=\"0 0 2400 1600\">\n<defs>\n  <clipPath id=\"clip950\">\n    <rect x=\"0\" y=\"0\" width=\"2400\" height=\"1600\"/>\n  </clipPath>\n</defs>\n<path clip-path=\"url(#clip950)\" d=\"\nM0 1600 L2400 1600 L2400 0 L0 0  Z\n  \" fill=\"#ffffff\" fill-rule=\"evenodd\" fill-opacity=\"1\"/>\n<defs>\n  <clipPath id=\"clip951\">\n    <rect x=\"480\" y=\"0\" width=\"1681\" height=\"1600\"/>\n  </clipPath>\n</defs>\n<path clip-path=\"url(#clip950)\" d=\"\nM277.621 1410.9 L2352.76 1410.9 L2352.76 123.472 L277.621 123.472  Z\n  \" fill=\"#ffffff\" fill-rule=\"evenodd\" fill-opacity=\"1\"/>\n<defs>\n  <clipPath id=\"clip952\">\n    <rect x=\"277\" y=\"123\" width=\"2076\" height=\"1288\"/>\n  </clipPath>\n</defs>\n<polyline clip-path=\"url(#clip952)\" style=\"stroke:#000000; stroke-linecap:butt; stroke-linejoin:round; stroke-width:2; stroke-opacity:0.1; fill:none\" points=\"\n  2294.77,1410.9 2294.77,123.472 \n  \"/>\n<polyline clip-path=\"url(#clip952)\" style=\"stroke:#000000; stroke-linecap:butt; stroke-linejoin:round; stroke-width:2; stroke-opacity:0.1; fill:none\" points=\"\n  1859.56,1410.9 1859.56,123.472 \n  \"/>\n<polyline clip-path=\"url(#clip952)\" style=\"stroke:#000000; stroke-linecap:butt; stroke-linejoin:round; stroke-width:2; stroke-opacity:0.1; fill:none\" points=\"\n  1424.36,1410.9 1424.36,123.472 \n  \"/>\n<polyline clip-path=\"url(#clip952)\" style=\"stroke:#000000; stroke-linecap:butt; stroke-linejoin:round; stroke-width:2; stroke-opacity:0.1; fill:none\" points=\"\n  989.156,1410.9 989.156,123.472 \n  \"/>\n<polyline clip-path=\"url(#clip952)\" style=\"stroke:#000000; stroke-linecap:butt; stroke-linejoin:round; stroke-width:2; stroke-opacity:0.1; fill:none\" points=\"\n  553.952,1410.9 553.952,123.472 \n  \"/>\n<polyline clip-path=\"url(#clip950)\" style=\"stroke:#000000; stroke-linecap:butt; stroke-linejoin:round; stroke-width:4; stroke-opacity:1; fill:none\" points=\"\n  2352.76,1410.9 277.621,1410.9 \n  \"/>\n<polyline clip-path=\"url(#clip950)\" style=\"stroke:#000000; stroke-linecap:butt; stroke-linejoin:round; stroke-width:4; stroke-opacity:1; fill:none\" points=\"\n  2294.77,1410.9 2294.77,1392 \n  \"/>\n<polyline clip-path=\"url(#clip950)\" style=\"stroke:#000000; stroke-linecap:butt; stroke-linejoin:round; stroke-width:4; stroke-opacity:1; fill:none\" points=\"\n  1859.56,1410.9 1859.56,1392 \n  \"/>\n<polyline clip-path=\"url(#clip950)\" style=\"stroke:#000000; stroke-linecap:butt; stroke-linejoin:round; stroke-width:4; stroke-opacity:1; fill:none\" points=\"\n  1424.36,1410.9 1424.36,1392 \n  \"/>\n<polyline clip-path=\"url(#clip950)\" style=\"stroke:#000000; stroke-linecap:butt; stroke-linejoin:round; stroke-width:4; stroke-opacity:1; fill:none\" points=\"\n  989.156,1410.9 989.156,1392 \n  \"/>\n<polyline clip-path=\"url(#clip950)\" style=\"stroke:#000000; stroke-linecap:butt; stroke-linejoin:round; stroke-width:4; stroke-opacity:1; fill:none\" points=\"\n  553.952,1410.9 553.952,1392 \n  \"/>\n<path clip-path=\"url(#clip950)\" d=\"M2294.77 1441.82 Q2291.15 1441.82 2289.33 1445.38 Q2287.52 1448.92 2287.52 1456.05 Q2287.52 1463.16 2289.33 1466.72 Q2291.15 1470.26 2294.77 1470.26 Q2298.4 1470.26 2300.21 1466.72 Q2302.03 1463.16 2302.03 1456.05 Q2302.03 1448.92 2300.21 1445.38 Q2298.4 1441.82 2294.77 1441.82 M2294.77 1438.11 Q2300.58 1438.11 2303.63 1442.72 Q2306.71 1447.3 2306.71 1456.05 Q2306.71 1464.78 2303.63 1469.38 Q2300.58 1473.97 2294.77 1473.97 Q2288.96 1473.97 2285.88 1469.38 Q2282.82 1464.78 2282.82 1456.05 Q2282.82 1447.3 2285.88 1442.72 Q2288.96 1438.11 2294.77 1438.11 Z\" fill=\"#000000\" fill-rule=\"evenodd\" fill-opacity=\"1\" /><path clip-path=\"url(#clip950)\" d=\"M1766.46 1485.02 L1774.1 1485.02 L1774.1 1458.66 L1765.79 1460.32 L1765.79 1456.06 L1774.05 1454.4 L1778.73 1454.4 L1778.73 1485.02 L1786.37 1485.02 L1786.37 1488.96 L1766.46 1488.96 L1766.46 1485.02 Z\" fill=\"#000000\" fill-rule=\"evenodd\" fill-opacity=\"1\" /><path clip-path=\"url(#clip950)\" d=\"M1795.81 1483.08 L1800.7 1483.08 L1800.7 1488.96 L1795.81 1488.96 L1795.81 1483.08 Z\" fill=\"#000000\" fill-rule=\"evenodd\" fill-opacity=\"1\" /><path clip-path=\"url(#clip950)\" d=\"M1820.88 1457.48 Q1817.27 1457.48 1815.44 1461.04 Q1813.64 1464.58 1813.64 1471.71 Q1813.64 1478.82 1815.44 1482.38 Q1817.27 1485.92 1820.88 1485.92 Q1824.52 1485.92 1826.32 1482.38 Q1828.15 1478.82 1828.15 1471.71 Q1828.15 1464.58 1826.32 1461.04 Q1824.52 1457.48 1820.88 1457.48 M1820.88 1453.77 Q1826.69 1453.77 1829.75 1458.38 Q1832.83 1462.96 1832.83 1471.71 Q1832.83 1480.44 1829.75 1485.04 Q1826.69 1489.63 1820.88 1489.63 Q1815.07 1489.63 1811.99 1485.04 Q1808.94 1480.44 1808.94 1471.71 Q1808.94 1462.96 1811.99 1458.38 Q1815.07 1453.77 1820.88 1453.77 Z\" fill=\"#000000\" fill-rule=\"evenodd\" fill-opacity=\"1\" /><path clip-path=\"url(#clip950)\" d=\"M1869.21 1463.49 L1858.64 1474.12 L1869.21 1484.7 L1866.46 1487.5 L1855.84 1476.87 L1845.21 1487.5 L1842.48 1484.7 L1853.03 1474.12 L1842.48 1463.49 L1845.21 1460.69 L1855.84 1471.32 L1866.46 1460.69 L1869.21 1463.49 Z\" fill=\"#000000\" fill-rule=\"evenodd\" fill-opacity=\"1\" /><path clip-path=\"url(#clip950)\" d=\"M1881.58 1485.02 L1889.21 1485.02 L1889.21 1458.66 L1880.9 1460.32 L1880.9 1456.06 L1889.17 1454.4 L1893.84 1454.4 L1893.84 1485.02 L1901.48 1485.02 L1901.48 1488.96 L1881.58 1488.96 L1881.58 1485.02 Z\" fill=\"#000000\" fill-rule=\"evenodd\" fill-opacity=\"1\" /><path clip-path=\"url(#clip950)\" d=\"M1920.93 1457.48 Q1917.32 1457.48 1915.49 1461.04 Q1913.68 1464.58 1913.68 1471.71 Q1913.68 1478.82 1915.49 1482.38 Q1917.32 1485.92 1920.93 1485.92 Q1924.56 1485.92 1926.37 1482.38 Q1928.2 1478.82 1928.2 1471.71 Q1928.2 1464.58 1926.37 1461.04 Q1924.56 1457.48 1920.93 1457.48 M1920.93 1453.77 Q1926.74 1453.77 1929.79 1458.38 Q1932.87 1462.96 1932.87 1471.71 Q1932.87 1480.44 1929.79 1485.04 Q1926.74 1489.63 1920.93 1489.63 Q1915.12 1489.63 1912.04 1485.04 Q1908.98 1480.44 1908.98 1471.71 Q1908.98 1462.96 1912.04 1458.38 Q1915.12 1453.77 1920.93 1453.77 Z\" fill=\"#000000\" fill-rule=\"evenodd\" fill-opacity=\"1\" /><path clip-path=\"url(#clip950)\" d=\"M1945.55 1436.78 L1935.96 1451.77 L1945.55 1451.77 L1945.55 1436.78 M1944.55 1433.47 L1949.33 1433.47 L1949.33 1451.77 L1953.33 1451.77 L1953.33 1454.93 L1949.33 1454.93 L1949.33 1461.55 L1945.55 1461.55 L1945.55 1454.93 L1932.87 1454.93 L1932.87 1451.26 L1944.55 1433.47 Z\" fill=\"#000000\" fill-rule=\"evenodd\" fill-opacity=\"1\" /><path clip-path=\"url(#clip950)\" d=\"M1335.34 1485.02 L1351.66 1485.02 L1351.66 1488.96 L1329.72 1488.96 L1329.72 1485.02 Q1332.38 1482.27 1336.96 1477.64 Q1341.57 1472.98 1342.75 1471.64 Q1345 1469.12 1345.88 1467.38 Q1346.78 1465.62 1346.78 1463.93 Q1346.78 1461.18 1344.83 1459.44 Q1342.91 1457.71 1339.81 1457.71 Q1337.61 1457.71 1335.16 1458.47 Q1332.73 1459.23 1329.95 1460.79 L1329.95 1456.06 Q1332.77 1454.93 1335.23 1454.35 Q1337.68 1453.77 1339.72 1453.77 Q1345.09 1453.77 1348.28 1456.46 Q1351.48 1459.14 1351.48 1463.63 Q1351.48 1465.76 1350.67 1467.68 Q1349.88 1469.58 1347.77 1472.17 Q1347.2 1472.85 1344.09 1476.06 Q1340.99 1479.26 1335.34 1485.02 Z\" fill=\"#000000\" fill-rule=\"evenodd\" fill-opacity=\"1\" /><path clip-path=\"url(#clip950)\" d=\"M1361.48 1483.08 L1366.36 1483.08 L1366.36 1488.96 L1361.48 1488.96 L1361.48 1483.08 Z\" fill=\"#000000\" fill-rule=\"evenodd\" fill-opacity=\"1\" /><path clip-path=\"url(#clip950)\" d=\"M1386.55 1457.48 Q1382.94 1457.48 1381.11 1461.04 Q1379.3 1464.58 1379.3 1471.71 Q1379.3 1478.82 1381.11 1482.38 Q1382.94 1485.92 1386.55 1485.92 Q1390.18 1485.92 1391.99 1482.38 Q1393.82 1478.82 1393.82 1471.71 Q1393.82 1464.58 1391.99 1461.04 Q1390.18 1457.48 1386.55 1457.48 M1386.55 1453.77 Q1392.36 1453.77 1395.41 1458.38 Q1398.49 1462.96 1398.49 1471.71 Q1398.49 1480.44 1395.41 1485.04 Q1392.36 1489.63 1386.55 1489.63 Q1380.74 1489.63 1377.66 1485.04 Q1374.6 1480.44 1374.6 1471.71 Q1374.6 1462.96 1377.66 1458.38 Q1380.74 1453.77 1386.55 1453.77 Z\" fill=\"#000000\" fill-rule=\"evenodd\" fill-opacity=\"1\" /><path clip-path=\"url(#clip950)\" d=\"M1434.88 1463.49 L1424.3 1474.12 L1434.88 1484.7 L1432.13 1487.5 L1421.5 1476.87 L1410.88 1487.5 L1408.14 1484.7 L1418.7 1474.12 L1408.14 1463.49 L1410.88 1460.69 L1421.5 1471.32 L1432.13 1460.69 L1434.88 1463.49 Z\" fill=\"#000000\" fill-rule=\"evenodd\" fill-opacity=\"1\" /><path clip-path=\"url(#clip950)\" d=\"M1447.24 1485.02 L1454.88 1485.02 L1454.88 1458.66 L1446.57 1460.32 L1446.57 1456.06 L1454.83 1454.4 L1459.51 1454.4 L1459.51 1485.02 L1467.15 1485.02 L1467.15 1488.96 L1447.24 1488.96 L1447.24 1485.02 Z\" fill=\"#000000\" fill-rule=\"evenodd\" fill-opacity=\"1\" /><path clip-path=\"url(#clip950)\" d=\"M1486.59 1457.48 Q1482.98 1457.48 1481.15 1461.04 Q1479.35 1464.58 1479.35 1471.71 Q1479.35 1478.82 1481.15 1482.38 Q1482.98 1485.92 1486.59 1485.92 Q1490.23 1485.92 1492.03 1482.38 Q1493.86 1478.82 1493.86 1471.71 Q1493.86 1464.58 1492.03 1461.04 Q1490.23 1457.48 1486.59 1457.48 M1486.59 1453.77 Q1492.4 1453.77 1495.46 1458.38 Q1498.54 1462.96 1498.54 1471.71 Q1498.54 1480.44 1495.46 1485.04 Q1492.4 1489.63 1486.59 1489.63 Q1480.78 1489.63 1477.7 1485.04 Q1474.65 1480.44 1474.65 1471.71 Q1474.65 1462.96 1477.7 1458.38 Q1480.78 1453.77 1486.59 1453.77 Z\" fill=\"#000000\" fill-rule=\"evenodd\" fill-opacity=\"1\" /><path clip-path=\"url(#clip950)\" d=\"M1511.21 1436.78 L1501.62 1451.77 L1511.21 1451.77 L1511.21 1436.78 M1510.22 1433.47 L1514.99 1433.47 L1514.99 1451.77 L1519 1451.77 L1519 1454.93 L1514.99 1454.93 L1514.99 1461.55 L1511.21 1461.55 L1511.21 1454.93 L1498.54 1454.93 L1498.54 1451.26 L1510.22 1433.47 Z\" fill=\"#000000\" fill-rule=\"evenodd\" fill-opacity=\"1\" /><path clip-path=\"url(#clip950)\" d=\"M910.209 1470.32 Q913.566 1471.04 915.441 1473.31 Q917.339 1475.58 917.339 1478.91 Q917.339 1484.03 913.82 1486.83 Q910.302 1489.63 903.821 1489.63 Q901.645 1489.63 899.33 1489.19 Q897.038 1488.77 894.584 1487.91 L894.584 1483.4 Q896.529 1484.54 898.844 1485.11 Q901.159 1485.69 903.682 1485.69 Q908.08 1485.69 910.371 1483.96 Q912.686 1482.22 912.686 1478.91 Q912.686 1475.85 910.533 1474.14 Q908.404 1472.41 904.584 1472.41 L900.557 1472.41 L900.557 1468.56 L904.77 1468.56 Q908.219 1468.56 910.047 1467.2 Q911.876 1465.81 911.876 1463.22 Q911.876 1460.55 909.978 1459.14 Q908.103 1457.71 904.584 1457.71 Q902.663 1457.71 900.464 1458.12 Q898.265 1458.54 895.626 1459.42 L895.626 1455.25 Q898.288 1454.51 900.603 1454.14 Q902.941 1453.77 905.001 1453.77 Q910.325 1453.77 913.427 1456.2 Q916.529 1458.61 916.529 1462.73 Q916.529 1465.6 914.885 1467.59 Q913.242 1469.56 910.209 1470.32 Z\" fill=\"#000000\" fill-rule=\"evenodd\" fill-opacity=\"1\" /><path clip-path=\"url(#clip950)\" d=\"M926.205 1483.08 L931.089 1483.08 L931.089 1488.96 L926.205 1488.96 L926.205 1483.08 Z\" fill=\"#000000\" fill-rule=\"evenodd\" fill-opacity=\"1\" /><path clip-path=\"url(#clip950)\" d=\"M951.274 1457.48 Q947.663 1457.48 945.834 1461.04 Q944.029 1464.58 944.029 1471.71 Q944.029 1478.82 945.834 1482.38 Q947.663 1485.92 951.274 1485.92 Q954.908 1485.92 956.714 1482.38 Q958.542 1478.82 958.542 1471.71 Q958.542 1464.58 956.714 1461.04 Q954.908 1457.48 951.274 1457.48 M951.274 1453.77 Q957.084 1453.77 960.14 1458.38 Q963.218 1462.96 963.218 1471.71 Q963.218 1480.44 960.14 1485.04 Q957.084 1489.63 951.274 1489.63 Q945.464 1489.63 942.385 1485.04 Q939.33 1480.44 939.33 1471.71 Q939.33 1462.96 942.385 1458.38 Q945.464 1453.77 951.274 1453.77 Z\" fill=\"#000000\" fill-rule=\"evenodd\" fill-opacity=\"1\" /><path clip-path=\"url(#clip950)\" d=\"M999.607 1463.49 L989.028 1474.12 L999.607 1484.7 L996.852 1487.5 L986.227 1476.87 L975.603 1487.5 L972.871 1484.7 L983.427 1474.12 L972.871 1463.49 L975.603 1460.69 L986.227 1471.32 L996.852 1460.69 L999.607 1463.49 Z\" fill=\"#000000\" fill-rule=\"evenodd\" fill-opacity=\"1\" /><path clip-path=\"url(#clip950)\" d=\"M1011.97 1485.02 L1019.61 1485.02 L1019.61 1458.66 L1011.3 1460.32 L1011.3 1456.06 L1019.56 1454.4 L1024.24 1454.4 L1024.24 1485.02 L1031.88 1485.02 L1031.88 1488.96 L1011.97 1488.96 L1011.97 1485.02 Z\" fill=\"#000000\" fill-rule=\"evenodd\" fill-opacity=\"1\" /><path clip-path=\"url(#clip950)\" d=\"M1051.32 1457.48 Q1047.71 1457.48 1045.88 1461.04 Q1044.07 1464.58 1044.07 1471.71 Q1044.07 1478.82 1045.88 1482.38 Q1047.71 1485.92 1051.32 1485.92 Q1054.95 1485.92 1056.76 1482.38 Q1058.59 1478.82 1058.59 1471.71 Q1058.59 1464.58 1056.76 1461.04 Q1054.95 1457.48 1051.32 1457.48 M1051.32 1453.77 Q1057.13 1453.77 1060.19 1458.38 Q1063.26 1462.96 1063.26 1471.71 Q1063.26 1480.44 1060.19 1485.04 Q1057.13 1489.63 1051.32 1489.63 Q1045.51 1489.63 1042.43 1485.04 Q1039.38 1480.44 1039.38 1471.71 Q1039.38 1462.96 1042.43 1458.38 Q1045.51 1453.77 1051.32 1453.77 Z\" fill=\"#000000\" fill-rule=\"evenodd\" fill-opacity=\"1\" /><path clip-path=\"url(#clip950)\" d=\"M1075.94 1436.78 L1066.35 1451.77 L1075.94 1451.77 L1075.94 1436.78 M1074.94 1433.47 L1079.72 1433.47 L1079.72 1451.77 L1083.73 1451.77 L1083.73 1454.93 L1079.72 1454.93 L1079.72 1461.55 L1075.94 1461.55 L1075.94 1454.93 L1063.26 1454.93 L1063.26 1451.26 L1074.94 1433.47 Z\" fill=\"#000000\" fill-rule=\"evenodd\" fill-opacity=\"1\" /><path clip-path=\"url(#clip950)\" d=\"M474.335 1458.47 L462.529 1476.92 L474.335 1476.92 L474.335 1458.47 M473.108 1454.4 L478.988 1454.4 L478.988 1476.92 L483.918 1476.92 L483.918 1480.81 L478.988 1480.81 L478.988 1488.96 L474.335 1488.96 L474.335 1480.81 L458.733 1480.81 L458.733 1476.29 L473.108 1454.4 Z\" fill=\"#000000\" fill-rule=\"evenodd\" fill-opacity=\"1\" /><path clip-path=\"url(#clip950)\" d=\"M491.65 1483.08 L496.534 1483.08 L496.534 1488.96 L491.65 1488.96 L491.65 1483.08 Z\" fill=\"#000000\" fill-rule=\"evenodd\" fill-opacity=\"1\" /><path clip-path=\"url(#clip950)\" d=\"M516.719 1457.48 Q513.108 1457.48 511.279 1461.04 Q509.474 1464.58 509.474 1471.71 Q509.474 1478.82 511.279 1482.38 Q513.108 1485.92 516.719 1485.92 Q520.353 1485.92 522.159 1482.38 Q523.987 1478.82 523.987 1471.71 Q523.987 1464.58 522.159 1461.04 Q520.353 1457.48 516.719 1457.48 M516.719 1453.77 Q522.529 1453.77 525.585 1458.38 Q528.663 1462.96 528.663 1471.71 Q528.663 1480.44 525.585 1485.04 Q522.529 1489.63 516.719 1489.63 Q510.909 1489.63 507.83 1485.04 Q504.774 1480.44 504.774 1471.71 Q504.774 1462.96 507.83 1458.38 Q510.909 1453.77 516.719 1453.77 Z\" fill=\"#000000\" fill-rule=\"evenodd\" fill-opacity=\"1\" /><path clip-path=\"url(#clip950)\" d=\"M565.052 1463.49 L554.473 1474.12 L565.052 1484.7 L562.297 1487.5 L551.672 1476.87 L541.047 1487.5 L538.316 1484.7 L548.871 1474.12 L538.316 1463.49 L541.047 1460.69 L551.672 1471.32 L562.297 1460.69 L565.052 1463.49 Z\" fill=\"#000000\" fill-rule=\"evenodd\" fill-opacity=\"1\" /><path clip-path=\"url(#clip950)\" d=\"M577.413 1485.02 L585.052 1485.02 L585.052 1458.66 L576.742 1460.32 L576.742 1456.06 L585.006 1454.4 L589.681 1454.4 L589.681 1485.02 L597.32 1485.02 L597.32 1488.96 L577.413 1488.96 L577.413 1485.02 Z\" fill=\"#000000\" fill-rule=\"evenodd\" fill-opacity=\"1\" /><path clip-path=\"url(#clip950)\" d=\"M616.765 1457.48 Q613.154 1457.48 611.325 1461.04 Q609.519 1464.58 609.519 1471.71 Q609.519 1478.82 611.325 1482.38 Q613.154 1485.92 616.765 1485.92 Q620.399 1485.92 622.204 1482.38 Q624.033 1478.82 624.033 1471.71 Q624.033 1464.58 622.204 1461.04 Q620.399 1457.48 616.765 1457.48 M616.765 1453.77 Q622.575 1453.77 625.63 1458.38 Q628.709 1462.96 628.709 1471.71 Q628.709 1480.44 625.63 1485.04 Q622.575 1489.63 616.765 1489.63 Q610.954 1489.63 607.876 1485.04 Q604.82 1480.44 604.82 1471.71 Q604.82 1462.96 607.876 1458.38 Q610.954 1453.77 616.765 1453.77 Z\" fill=\"#000000\" fill-rule=\"evenodd\" fill-opacity=\"1\" /><path clip-path=\"url(#clip950)\" d=\"M641.385 1436.78 L631.793 1451.77 L641.385 1451.77 L641.385 1436.78 M640.389 1433.47 L645.166 1433.47 L645.166 1451.77 L649.172 1451.77 L649.172 1454.93 L645.166 1454.93 L645.166 1461.55 L641.385 1461.55 L641.385 1454.93 L628.709 1454.93 L628.709 1451.26 L640.389 1433.47 Z\" fill=\"#000000\" fill-rule=\"evenodd\" fill-opacity=\"1\" /><path clip-path=\"url(#clip950)\" d=\"M1025.74 1526.67 L1034.4 1526.67 L1055.47 1566.42 L1055.47 1526.67 L1061.71 1526.67 L1061.71 1574.19 L1053.05 1574.19 L1031.98 1534.43 L1031.98 1574.19 L1025.74 1574.19 L1025.74 1526.67 Z\" fill=\"#000000\" fill-rule=\"evenodd\" fill-opacity=\"1\" /><path clip-path=\"url(#clip950)\" d=\"M1073.64 1560.12 L1073.64 1538.54 L1079.5 1538.54 L1079.5 1559.89 Q1079.5 1564.96 1081.47 1567.5 Q1083.44 1570.02 1087.39 1570.02 Q1092.13 1570.02 1094.87 1566.99 Q1097.64 1563.97 1097.64 1558.75 L1097.64 1538.54 L1103.5 1538.54 L1103.5 1574.19 L1097.64 1574.19 L1097.64 1568.71 Q1095.51 1571.96 1092.67 1573.55 Q1089.87 1575.11 1086.15 1575.11 Q1080.01 1575.11 1076.82 1571.29 Q1073.64 1567.47 1073.64 1560.12 M1088.38 1537.68 L1088.38 1537.68 Z\" fill=\"#000000\" fill-rule=\"evenodd\" fill-opacity=\"1\" /><path clip-path=\"url(#clip950)\" d=\"M1143.31 1545.38 Q1145.51 1541.43 1148.57 1539.56 Q1151.62 1537.68 1155.76 1537.68 Q1161.33 1537.68 1164.35 1541.59 Q1167.38 1545.48 1167.38 1552.67 L1167.38 1574.19 L1161.49 1574.19 L1161.49 1552.86 Q1161.49 1547.74 1159.67 1545.25 Q1157.86 1542.77 1154.14 1542.77 Q1149.58 1542.77 1146.94 1545.79 Q1144.3 1548.82 1144.3 1554.04 L1144.3 1574.19 L1138.41 1574.19 L1138.41 1552.86 Q1138.41 1547.7 1136.6 1545.25 Q1134.78 1542.77 1131 1542.77 Q1126.51 1542.77 1123.87 1545.83 Q1121.23 1548.85 1121.23 1554.04 L1121.23 1574.19 L1115.34 1574.19 L1115.34 1538.54 L1121.23 1538.54 L1121.23 1544.08 Q1123.23 1540.8 1126.03 1539.24 Q1128.83 1537.68 1132.68 1537.68 Q1136.57 1537.68 1139.27 1539.65 Q1142.01 1541.62 1143.31 1545.38 Z\" fill=\"#000000\" fill-rule=\"evenodd\" fill-opacity=\"1\" /><path clip-path=\"url(#clip950)\" d=\"M1204.65 1556.39 Q1204.65 1549.93 1201.97 1546.27 Q1199.33 1542.58 1194.69 1542.58 Q1190.04 1542.58 1187.36 1546.27 Q1184.72 1549.93 1184.72 1556.39 Q1184.72 1562.85 1187.36 1566.55 Q1190.04 1570.21 1194.69 1570.21 Q1199.33 1570.21 1201.97 1566.55 Q1204.65 1562.85 1204.65 1556.39 M1184.72 1543.95 Q1186.57 1540.77 1189.37 1539.24 Q1192.2 1537.68 1196.12 1537.68 Q1202.61 1537.68 1206.65 1542.83 Q1210.73 1547.99 1210.73 1556.39 Q1210.73 1564.8 1206.65 1569.95 Q1202.61 1575.11 1196.12 1575.11 Q1192.2 1575.11 1189.37 1573.58 Q1186.57 1572.02 1184.72 1568.84 L1184.72 1574.19 L1178.83 1574.19 L1178.83 1524.66 L1184.72 1524.66 L1184.72 1543.95 Z\" fill=\"#000000\" fill-rule=\"evenodd\" fill-opacity=\"1\" /><path clip-path=\"url(#clip950)\" d=\"M1250.93 1554.9 L1250.93 1557.76 L1224 1557.76 Q1224.38 1563.81 1227.63 1566.99 Q1230.91 1570.14 1236.73 1570.14 Q1240.1 1570.14 1243.26 1569.32 Q1246.44 1568.49 1249.56 1566.83 L1249.56 1572.37 Q1246.41 1573.71 1243.1 1574.41 Q1239.79 1575.11 1236.38 1575.11 Q1227.85 1575.11 1222.85 1570.14 Q1217.89 1565.18 1217.89 1556.71 Q1217.89 1547.96 1222.6 1542.83 Q1227.34 1537.68 1235.36 1537.68 Q1242.56 1537.68 1246.73 1542.33 Q1250.93 1546.94 1250.93 1554.9 M1245.07 1553.18 Q1245.01 1548.37 1242.36 1545.51 Q1239.75 1542.64 1235.43 1542.64 Q1230.52 1542.64 1227.56 1545.41 Q1224.64 1548.18 1224.19 1553.21 L1245.07 1553.18 Z\" fill=\"#000000\" fill-rule=\"evenodd\" fill-opacity=\"1\" /><path clip-path=\"url(#clip950)\" d=\"M1281.2 1544.01 Q1280.21 1543.44 1279.03 1543.18 Q1277.89 1542.9 1276.48 1542.9 Q1271.52 1542.9 1268.85 1546.14 Q1266.2 1549.36 1266.2 1555.41 L1266.2 1574.19 L1260.32 1574.19 L1260.32 1538.54 L1266.2 1538.54 L1266.2 1544.08 Q1268.05 1540.83 1271.01 1539.27 Q1273.97 1537.68 1278.2 1537.68 Q1278.81 1537.68 1279.54 1537.77 Q1280.27 1537.84 1281.16 1538 L1281.2 1544.01 Z\" fill=\"#000000\" fill-rule=\"evenodd\" fill-opacity=\"1\" /><path clip-path=\"url(#clip950)\" d=\"M1321.87 1542.64 Q1317.16 1542.64 1314.42 1546.34 Q1311.69 1550 1311.69 1556.39 Q1311.69 1562.79 1314.39 1566.48 Q1317.13 1570.14 1321.87 1570.14 Q1326.55 1570.14 1329.29 1566.45 Q1332.03 1562.76 1332.03 1556.39 Q1332.03 1550.06 1329.29 1546.37 Q1326.55 1542.64 1321.87 1542.64 M1321.87 1537.68 Q1329.51 1537.68 1333.87 1542.64 Q1338.23 1547.61 1338.23 1556.39 Q1338.23 1565.15 1333.87 1570.14 Q1329.51 1575.11 1321.87 1575.11 Q1314.2 1575.11 1309.84 1570.14 Q1305.51 1565.15 1305.51 1556.39 Q1305.51 1547.61 1309.84 1542.64 Q1314.2 1537.68 1321.87 1537.68 Z\" fill=\"#000000\" fill-rule=\"evenodd\" fill-opacity=\"1\" /><path clip-path=\"url(#clip950)\" d=\"M1365.99 1524.66 L1365.99 1529.53 L1360.38 1529.53 Q1357.23 1529.53 1355.99 1530.8 Q1354.78 1532.08 1354.78 1535.39 L1354.78 1538.54 L1364.43 1538.54 L1364.43 1543.09 L1354.78 1543.09 L1354.78 1574.19 L1348.89 1574.19 L1348.89 1543.09 L1343.29 1543.09 L1343.29 1538.54 L1348.89 1538.54 L1348.89 1536.05 Q1348.89 1530.1 1351.66 1527.4 Q1354.43 1524.66 1360.45 1524.66 L1365.99 1524.66 Z\" fill=\"#000000\" fill-rule=\"evenodd\" fill-opacity=\"1\" /><path clip-path=\"url(#clip950)\" d=\"M1398.29 1531.95 L1398.29 1549.8 L1406.38 1549.8 Q1410.86 1549.8 1413.32 1547.48 Q1415.77 1545.16 1415.77 1540.86 Q1415.77 1536.6 1413.32 1534.27 Q1410.86 1531.95 1406.38 1531.95 L1398.29 1531.95 M1391.86 1526.67 L1406.38 1526.67 Q1414.37 1526.67 1418.44 1530.29 Q1422.55 1533.89 1422.55 1540.86 Q1422.55 1547.9 1418.44 1551.49 Q1414.37 1555.09 1406.38 1555.09 L1398.29 1555.09 L1398.29 1574.19 L1391.86 1574.19 L1391.86 1526.67 Z\" fill=\"#000000\" fill-rule=\"evenodd\" fill-opacity=\"1\" /><path clip-path=\"url(#clip950)\" d=\"M1429.48 1538.54 L1435.34 1538.54 L1435.34 1574.19 L1429.48 1574.19 L1429.48 1538.54 M1429.48 1524.66 L1435.34 1524.66 L1435.34 1532.08 L1429.48 1532.08 L1429.48 1524.66 Z\" fill=\"#000000\" fill-rule=\"evenodd\" fill-opacity=\"1\" /><path clip-path=\"url(#clip950)\" d=\"M1468.25 1544.01 Q1467.26 1543.44 1466.09 1543.18 Q1464.94 1542.9 1463.54 1542.9 Q1458.58 1542.9 1455.9 1546.14 Q1453.26 1549.36 1453.26 1555.41 L1453.26 1574.19 L1447.37 1574.19 L1447.37 1538.54 L1453.26 1538.54 L1453.26 1544.08 Q1455.11 1540.83 1458.07 1539.27 Q1461.03 1537.68 1465.26 1537.68 Q1465.86 1537.68 1466.6 1537.77 Q1467.33 1537.84 1468.22 1538 L1468.25 1544.01 Z\" fill=\"#000000\" fill-rule=\"evenodd\" fill-opacity=\"1\" /><path clip-path=\"url(#clip950)\" d=\"M1490.6 1556.27 Q1483.5 1556.27 1480.76 1557.89 Q1478.02 1559.51 1478.02 1563.43 Q1478.02 1566.55 1480.06 1568.39 Q1482.13 1570.21 1485.66 1570.21 Q1490.53 1570.21 1493.46 1566.77 Q1496.42 1563.3 1496.42 1557.57 L1496.42 1556.27 L1490.6 1556.27 M1502.28 1553.85 L1502.28 1574.19 L1496.42 1574.19 L1496.42 1568.77 Q1494.41 1572.02 1491.42 1573.58 Q1488.43 1575.11 1484.1 1575.11 Q1478.63 1575.11 1475.38 1572.05 Q1472.17 1568.97 1472.17 1563.81 Q1472.17 1557.79 1476.18 1554.74 Q1480.22 1551.68 1488.21 1551.68 L1496.42 1551.68 L1496.42 1551.11 Q1496.42 1547.07 1493.75 1544.87 Q1491.1 1542.64 1486.3 1542.64 Q1483.24 1542.64 1480.35 1543.38 Q1477.45 1544.11 1474.78 1545.57 L1474.78 1540.16 Q1477.99 1538.92 1481.01 1538.31 Q1484.04 1537.68 1486.9 1537.68 Q1494.64 1537.68 1498.46 1541.69 Q1502.28 1545.7 1502.28 1553.85 Z\" fill=\"#000000\" fill-rule=\"evenodd\" fill-opacity=\"1\" /><path clip-path=\"url(#clip950)\" d=\"M1520.13 1528.42 L1520.13 1538.54 L1532.2 1538.54 L1532.2 1543.09 L1520.13 1543.09 L1520.13 1562.44 Q1520.13 1566.8 1521.31 1568.04 Q1522.52 1569.28 1526.18 1569.28 L1532.2 1569.28 L1532.2 1574.19 L1526.18 1574.19 Q1519.4 1574.19 1516.82 1571.67 Q1514.24 1569.12 1514.24 1562.44 L1514.24 1543.09 L1509.95 1543.09 L1509.95 1538.54 L1514.24 1538.54 L1514.24 1528.42 L1520.13 1528.42 Z\" fill=\"#000000\" fill-rule=\"evenodd\" fill-opacity=\"1\" /><path clip-path=\"url(#clip950)\" d=\"M1570.39 1554.9 L1570.39 1557.76 L1543.46 1557.76 Q1543.84 1563.81 1547.09 1566.99 Q1550.37 1570.14 1556.19 1570.14 Q1559.57 1570.14 1562.72 1569.32 Q1565.9 1568.49 1569.02 1566.83 L1569.02 1572.37 Q1565.87 1573.71 1562.56 1574.41 Q1559.25 1575.11 1555.84 1575.11 Q1547.31 1575.11 1542.32 1570.14 Q1537.35 1565.18 1537.35 1556.71 Q1537.35 1547.96 1542.06 1542.83 Q1546.8 1537.68 1554.83 1537.68 Q1562.02 1537.68 1566.19 1542.33 Q1570.39 1546.94 1570.39 1554.9 M1564.53 1553.18 Q1564.47 1548.37 1561.83 1545.51 Q1559.22 1542.64 1554.89 1542.64 Q1549.99 1542.64 1547.03 1545.41 Q1544.1 1548.18 1543.65 1553.21 L1564.53 1553.18 Z\" fill=\"#000000\" fill-rule=\"evenodd\" fill-opacity=\"1\" /><path clip-path=\"url(#clip950)\" d=\"M1602.73 1539.59 L1602.73 1545.13 Q1600.24 1543.85 1597.57 1543.22 Q1594.9 1542.58 1592.03 1542.58 Q1587.67 1542.58 1585.48 1543.92 Q1583.31 1545.25 1583.31 1547.93 Q1583.31 1549.96 1584.87 1551.14 Q1586.43 1552.29 1591.14 1553.34 L1593.15 1553.78 Q1599.39 1555.12 1602 1557.57 Q1604.64 1559.99 1604.64 1564.35 Q1604.64 1569.32 1600.69 1572.21 Q1596.78 1575.11 1589.9 1575.11 Q1587.04 1575.11 1583.92 1574.54 Q1580.83 1573.99 1577.39 1572.88 L1577.39 1566.83 Q1580.64 1568.52 1583.79 1569.38 Q1586.94 1570.21 1590.03 1570.21 Q1594.17 1570.21 1596.39 1568.81 Q1598.62 1567.37 1598.62 1564.8 Q1598.62 1562.41 1597 1561.14 Q1595.41 1559.86 1589.96 1558.68 L1587.93 1558.21 Q1582.48 1557.06 1580.07 1554.71 Q1577.65 1552.32 1577.65 1548.18 Q1577.65 1543.15 1581.21 1540.42 Q1584.78 1537.68 1591.33 1537.68 Q1594.58 1537.68 1597.44 1538.16 Q1600.31 1538.63 1602.73 1539.59 Z\" fill=\"#000000\" fill-rule=\"evenodd\" fill-opacity=\"1\" /><polyline clip-path=\"url(#clip952)\" style=\"stroke:#000000; stroke-linecap:butt; stroke-linejoin:round; stroke-width:2; stroke-opacity:0.1; fill:none\" points=\"\n  2352.76,1287.71 277.621,1287.71 \n  \"/>\n<polyline clip-path=\"url(#clip952)\" style=\"stroke:#000000; stroke-linecap:butt; stroke-linejoin:round; stroke-width:2; stroke-opacity:0.1; fill:none\" points=\"\n  2352.76,1070.82 277.621,1070.82 \n  \"/>\n<polyline clip-path=\"url(#clip952)\" style=\"stroke:#000000; stroke-linecap:butt; stroke-linejoin:round; stroke-width:2; stroke-opacity:0.1; fill:none\" points=\"\n  2352.76,853.938 277.621,853.938 \n  \"/>\n<polyline clip-path=\"url(#clip952)\" style=\"stroke:#000000; stroke-linecap:butt; stroke-linejoin:round; stroke-width:2; stroke-opacity:0.1; fill:none\" points=\"\n  2352.76,637.054 277.621,637.054 \n  \"/>\n<polyline clip-path=\"url(#clip952)\" style=\"stroke:#000000; stroke-linecap:butt; stroke-linejoin:round; stroke-width:2; stroke-opacity:0.1; fill:none\" points=\"\n  2352.76,420.17 277.621,420.17 \n  \"/>\n<polyline clip-path=\"url(#clip952)\" style=\"stroke:#000000; stroke-linecap:butt; stroke-linejoin:round; stroke-width:2; stroke-opacity:0.1; fill:none\" points=\"\n  2352.76,203.286 277.621,203.286 \n  \"/>\n<polyline clip-path=\"url(#clip950)\" style=\"stroke:#000000; stroke-linecap:butt; stroke-linejoin:round; stroke-width:4; stroke-opacity:1; fill:none\" points=\"\n  277.621,1410.9 277.621,123.472 \n  \"/>\n<polyline clip-path=\"url(#clip950)\" style=\"stroke:#000000; stroke-linecap:butt; stroke-linejoin:round; stroke-width:4; stroke-opacity:1; fill:none\" points=\"\n  277.621,1287.71 296.518,1287.71 \n  \"/>\n<polyline clip-path=\"url(#clip950)\" style=\"stroke:#000000; stroke-linecap:butt; stroke-linejoin:round; stroke-width:4; stroke-opacity:1; fill:none\" points=\"\n  277.621,1070.82 296.518,1070.82 \n  \"/>\n<polyline clip-path=\"url(#clip950)\" style=\"stroke:#000000; stroke-linecap:butt; stroke-linejoin:round; stroke-width:4; stroke-opacity:1; fill:none\" points=\"\n  277.621,853.938 296.518,853.938 \n  \"/>\n<polyline clip-path=\"url(#clip950)\" style=\"stroke:#000000; stroke-linecap:butt; stroke-linejoin:round; stroke-width:4; stroke-opacity:1; fill:none\" points=\"\n  277.621,637.054 296.518,637.054 \n  \"/>\n<polyline clip-path=\"url(#clip950)\" style=\"stroke:#000000; stroke-linecap:butt; stroke-linejoin:round; stroke-width:4; stroke-opacity:1; fill:none\" points=\"\n  277.621,420.17 296.518,420.17 \n  \"/>\n<polyline clip-path=\"url(#clip950)\" style=\"stroke:#000000; stroke-linecap:butt; stroke-linejoin:round; stroke-width:4; stroke-opacity:1; fill:none\" points=\"\n  277.621,203.286 296.518,203.286 \n  \"/>\n<path clip-path=\"url(#clip950)\" d=\"M114.931 1301.05 L122.57 1301.05 L122.57 1274.69 L114.26 1276.35 L114.26 1272.09 L122.524 1270.43 L127.2 1270.43 L127.2 1301.05 L134.839 1301.05 L134.839 1304.99 L114.931 1304.99 L114.931 1301.05 Z\" fill=\"#000000\" fill-rule=\"evenodd\" fill-opacity=\"1\" /><path clip-path=\"url(#clip950)\" d=\"M157.13 1274.5 L145.325 1292.95 L157.13 1292.95 L157.13 1274.5 M155.903 1270.43 L161.783 1270.43 L161.783 1292.95 L166.714 1292.95 L166.714 1296.84 L161.783 1296.84 L161.783 1304.99 L157.13 1304.99 L157.13 1296.84 L141.529 1296.84 L141.529 1292.32 L155.903 1270.43 Z\" fill=\"#000000\" fill-rule=\"evenodd\" fill-opacity=\"1\" /><path clip-path=\"url(#clip950)\" d=\"M174.445 1299.11 L179.329 1299.11 L179.329 1304.99 L174.445 1304.99 L174.445 1299.11 Z\" fill=\"#000000\" fill-rule=\"evenodd\" fill-opacity=\"1\" /><path clip-path=\"url(#clip950)\" d=\"M189.561 1270.43 L207.917 1270.43 L207.917 1274.36 L193.843 1274.36 L193.843 1282.83 Q194.862 1282.49 195.88 1282.32 Q196.899 1282.14 197.917 1282.14 Q203.704 1282.14 207.084 1285.31 Q210.463 1288.48 210.463 1293.9 Q210.463 1299.48 206.991 1302.58 Q203.519 1305.66 197.2 1305.66 Q195.024 1305.66 192.755 1305.29 Q190.51 1304.92 188.102 1304.18 L188.102 1299.48 Q190.186 1300.61 192.408 1301.17 Q194.63 1301.72 197.107 1301.72 Q201.112 1301.72 203.449 1299.62 Q205.787 1297.51 205.787 1293.9 Q205.787 1290.29 203.449 1288.18 Q201.112 1286.07 197.107 1286.07 Q195.232 1286.07 193.357 1286.49 Q191.505 1286.91 189.561 1287.79 L189.561 1270.43 Z\" fill=\"#000000\" fill-rule=\"evenodd\" fill-opacity=\"1\" /><path clip-path=\"url(#clip950)\" d=\"M229.676 1273.51 Q226.065 1273.51 224.236 1277.07 Q222.431 1280.61 222.431 1287.74 Q222.431 1294.85 224.236 1298.41 Q226.065 1301.95 229.676 1301.95 Q233.31 1301.95 235.116 1298.41 Q236.945 1294.85 236.945 1287.74 Q236.945 1280.61 235.116 1277.07 Q233.31 1273.51 229.676 1273.51 M229.676 1269.8 Q235.486 1269.8 238.542 1274.41 Q241.621 1278.99 241.621 1287.74 Q241.621 1296.47 238.542 1301.07 Q235.486 1305.66 229.676 1305.66 Q223.866 1305.66 220.787 1301.07 Q217.732 1296.47 217.732 1287.74 Q217.732 1278.99 220.787 1274.41 Q223.866 1269.8 229.676 1269.8 Z\" fill=\"#000000\" fill-rule=\"evenodd\" fill-opacity=\"1\" /><path clip-path=\"url(#clip950)\" d=\"M115.927 1084.17 L123.566 1084.17 L123.566 1057.8 L115.256 1059.47 L115.256 1055.21 L123.519 1053.54 L128.195 1053.54 L128.195 1084.17 L135.834 1084.17 L135.834 1088.1 L115.927 1088.1 L115.927 1084.17 Z\" fill=\"#000000\" fill-rule=\"evenodd\" fill-opacity=\"1\" /><path clip-path=\"url(#clip950)\" d=\"M158.126 1057.62 L146.32 1076.07 L158.126 1076.07 L158.126 1057.62 M156.899 1053.54 L162.778 1053.54 L162.778 1076.07 L167.709 1076.07 L167.709 1079.95 L162.778 1079.95 L162.778 1088.1 L158.126 1088.1 L158.126 1079.95 L142.524 1079.95 L142.524 1075.44 L156.899 1053.54 Z\" fill=\"#000000\" fill-rule=\"evenodd\" fill-opacity=\"1\" /><path clip-path=\"url(#clip950)\" d=\"M175.44 1082.22 L180.325 1082.22 L180.325 1088.1 L175.44 1088.1 L175.44 1082.22 Z\" fill=\"#000000\" fill-rule=\"evenodd\" fill-opacity=\"1\" /><path clip-path=\"url(#clip950)\" d=\"M189.329 1053.54 L211.551 1053.54 L211.551 1055.53 L199.005 1088.1 L194.121 1088.1 L205.926 1057.48 L189.329 1057.48 L189.329 1053.54 Z\" fill=\"#000000\" fill-rule=\"evenodd\" fill-opacity=\"1\" /><path clip-path=\"url(#clip950)\" d=\"M220.718 1053.54 L239.074 1053.54 L239.074 1057.48 L225 1057.48 L225 1065.95 Q226.019 1065.6 227.037 1065.44 Q228.056 1065.26 229.074 1065.26 Q234.861 1065.26 238.241 1068.43 Q241.621 1071.6 241.621 1077.01 Q241.621 1082.59 238.148 1085.69 Q234.676 1088.77 228.357 1088.77 Q226.181 1088.77 223.912 1088.4 Q221.667 1088.03 219.26 1087.29 L219.26 1082.59 Q221.343 1083.73 223.565 1084.28 Q225.787 1084.84 228.264 1084.84 Q232.269 1084.84 234.607 1082.73 Q236.945 1080.63 236.945 1077.01 Q236.945 1073.4 234.607 1071.3 Q232.269 1069.19 228.264 1069.19 Q226.389 1069.19 224.514 1069.61 Q222.662 1070.02 220.718 1070.9 L220.718 1053.54 Z\" fill=\"#000000\" fill-rule=\"evenodd\" fill-opacity=\"1\" /><path clip-path=\"url(#clip950)\" d=\"M114.931 867.283 L122.57 867.283 L122.57 840.917 L114.26 842.584 L114.26 838.325 L122.524 836.658 L127.2 836.658 L127.2 867.283 L134.839 867.283 L134.839 871.218 L114.931 871.218 L114.931 867.283 Z\" fill=\"#000000\" fill-rule=\"evenodd\" fill-opacity=\"1\" /><path clip-path=\"url(#clip950)\" d=\"M144.329 836.658 L162.686 836.658 L162.686 840.593 L148.612 840.593 L148.612 849.065 Q149.63 848.718 150.649 848.556 Q151.667 848.371 152.686 848.371 Q158.473 848.371 161.852 851.542 Q165.232 854.714 165.232 860.13 Q165.232 865.709 161.76 868.811 Q158.288 871.889 151.968 871.889 Q149.792 871.889 147.524 871.519 Q145.279 871.149 142.871 870.408 L142.871 865.709 Q144.954 866.843 147.177 867.399 Q149.399 867.954 151.876 867.954 Q155.88 867.954 158.218 865.848 Q160.556 863.741 160.556 860.13 Q160.556 856.519 158.218 854.413 Q155.88 852.306 151.876 852.306 Q150.001 852.306 148.126 852.723 Q146.274 853.139 144.329 854.019 L144.329 836.658 Z\" fill=\"#000000\" fill-rule=\"evenodd\" fill-opacity=\"1\" /><path clip-path=\"url(#clip950)\" d=\"M174.445 865.338 L179.329 865.338 L179.329 871.218 L174.445 871.218 L174.445 865.338 Z\" fill=\"#000000\" fill-rule=\"evenodd\" fill-opacity=\"1\" /><path clip-path=\"url(#clip950)\" d=\"M199.514 839.737 Q195.903 839.737 194.075 843.302 Q192.269 846.843 192.269 853.973 Q192.269 861.079 194.075 864.644 Q195.903 868.186 199.514 868.186 Q203.149 868.186 204.954 864.644 Q206.783 861.079 206.783 853.973 Q206.783 846.843 204.954 843.302 Q203.149 839.737 199.514 839.737 M199.514 836.033 Q205.324 836.033 208.38 840.64 Q211.459 845.223 211.459 853.973 Q211.459 862.7 208.38 867.306 Q205.324 871.889 199.514 871.889 Q193.704 871.889 190.625 867.306 Q187.57 862.7 187.57 853.973 Q187.57 845.223 190.625 840.64 Q193.704 836.033 199.514 836.033 Z\" fill=\"#000000\" fill-rule=\"evenodd\" fill-opacity=\"1\" /><path clip-path=\"url(#clip950)\" d=\"M229.676 839.737 Q226.065 839.737 224.236 843.302 Q222.431 846.843 222.431 853.973 Q222.431 861.079 224.236 864.644 Q226.065 868.186 229.676 868.186 Q233.31 868.186 235.116 864.644 Q236.945 861.079 236.945 853.973 Q236.945 846.843 235.116 843.302 Q233.31 839.737 229.676 839.737 M229.676 836.033 Q235.486 836.033 238.542 840.64 Q241.621 845.223 241.621 853.973 Q241.621 862.7 238.542 867.306 Q235.486 871.889 229.676 871.889 Q223.866 871.889 220.787 867.306 Q217.732 862.7 217.732 853.973 Q217.732 845.223 220.787 840.64 Q223.866 836.033 229.676 836.033 Z\" fill=\"#000000\" fill-rule=\"evenodd\" fill-opacity=\"1\" /><path clip-path=\"url(#clip950)\" d=\"M115.927 650.399 L123.566 650.399 L123.566 624.033 L115.256 625.7 L115.256 621.441 L123.519 619.774 L128.195 619.774 L128.195 650.399 L135.834 650.399 L135.834 654.334 L115.927 654.334 L115.927 650.399 Z\" fill=\"#000000\" fill-rule=\"evenodd\" fill-opacity=\"1\" /><path clip-path=\"url(#clip950)\" d=\"M145.325 619.774 L163.681 619.774 L163.681 623.709 L149.607 623.709 L149.607 632.181 Q150.626 631.834 151.644 631.672 Q152.663 631.487 153.681 631.487 Q159.468 631.487 162.848 634.658 Q166.227 637.829 166.227 643.246 Q166.227 648.825 162.755 651.926 Q159.283 655.005 152.964 655.005 Q150.788 655.005 148.519 654.635 Q146.274 654.264 143.866 653.524 L143.866 648.825 Q145.95 649.959 148.172 650.514 Q150.394 651.07 152.871 651.07 Q156.876 651.07 159.214 648.964 Q161.552 646.857 161.552 643.246 Q161.552 639.635 159.214 637.528 Q156.876 635.422 152.871 635.422 Q150.996 635.422 149.121 635.839 Q147.269 636.255 145.325 637.135 L145.325 619.774 Z\" fill=\"#000000\" fill-rule=\"evenodd\" fill-opacity=\"1\" /><path clip-path=\"url(#clip950)\" d=\"M175.44 648.454 L180.325 648.454 L180.325 654.334 L175.44 654.334 L175.44 648.454 Z\" fill=\"#000000\" fill-rule=\"evenodd\" fill-opacity=\"1\" /><path clip-path=\"url(#clip950)\" d=\"M194.538 650.399 L210.857 650.399 L210.857 654.334 L188.913 654.334 L188.913 650.399 Q191.575 647.644 196.158 643.014 Q200.764 638.362 201.945 637.019 Q204.19 634.496 205.07 632.76 Q205.973 631.001 205.973 629.311 Q205.973 626.556 204.028 624.82 Q202.107 623.084 199.005 623.084 Q196.806 623.084 194.352 623.848 Q191.922 624.612 189.144 626.163 L189.144 621.441 Q191.968 620.306 194.422 619.728 Q196.875 619.149 198.912 619.149 Q204.283 619.149 207.477 621.834 Q210.672 624.519 210.672 629.01 Q210.672 631.14 209.861 633.061 Q209.074 634.959 206.968 637.552 Q206.389 638.223 203.287 641.44 Q200.186 644.635 194.538 650.399 Z\" fill=\"#000000\" fill-rule=\"evenodd\" fill-opacity=\"1\" /><path clip-path=\"url(#clip950)\" d=\"M220.718 619.774 L239.074 619.774 L239.074 623.709 L225 623.709 L225 632.181 Q226.019 631.834 227.037 631.672 Q228.056 631.487 229.074 631.487 Q234.861 631.487 238.241 634.658 Q241.621 637.829 241.621 643.246 Q241.621 648.825 238.148 651.926 Q234.676 655.005 228.357 655.005 Q226.181 655.005 223.912 654.635 Q221.667 654.264 219.26 653.524 L219.26 648.825 Q221.343 649.959 223.565 650.514 Q225.787 651.07 228.264 651.07 Q232.269 651.07 234.607 648.964 Q236.945 646.857 236.945 643.246 Q236.945 639.635 234.607 637.528 Q232.269 635.422 228.264 635.422 Q226.389 635.422 224.514 635.839 Q222.662 636.255 220.718 637.135 L220.718 619.774 Z\" fill=\"#000000\" fill-rule=\"evenodd\" fill-opacity=\"1\" /><path clip-path=\"url(#clip950)\" d=\"M114.931 433.515 L122.57 433.515 L122.57 407.149 L114.26 408.816 L114.26 404.556 L122.524 402.89 L127.2 402.89 L127.2 433.515 L134.839 433.515 L134.839 437.45 L114.931 437.45 L114.931 433.515 Z\" fill=\"#000000\" fill-rule=\"evenodd\" fill-opacity=\"1\" /><path clip-path=\"url(#clip950)\" d=\"M144.329 402.89 L162.686 402.89 L162.686 406.825 L148.612 406.825 L148.612 415.297 Q149.63 414.95 150.649 414.788 Q151.667 414.603 152.686 414.603 Q158.473 414.603 161.852 417.774 Q165.232 420.945 165.232 426.362 Q165.232 431.94 161.76 435.042 Q158.288 438.121 151.968 438.121 Q149.792 438.121 147.524 437.751 Q145.279 437.38 142.871 436.64 L142.871 431.94 Q144.954 433.075 147.177 433.63 Q149.399 434.186 151.876 434.186 Q155.88 434.186 158.218 432.079 Q160.556 429.973 160.556 426.362 Q160.556 422.751 158.218 420.644 Q155.88 418.538 151.876 418.538 Q150.001 418.538 148.126 418.954 Q146.274 419.371 144.329 420.251 L144.329 402.89 Z\" fill=\"#000000\" fill-rule=\"evenodd\" fill-opacity=\"1\" /><path clip-path=\"url(#clip950)\" d=\"M174.445 431.57 L179.329 431.57 L179.329 437.45 L174.445 437.45 L174.445 431.57 Z\" fill=\"#000000\" fill-rule=\"evenodd\" fill-opacity=\"1\" /><path clip-path=\"url(#clip950)\" d=\"M189.561 402.89 L207.917 402.89 L207.917 406.825 L193.843 406.825 L193.843 415.297 Q194.862 414.95 195.88 414.788 Q196.899 414.603 197.917 414.603 Q203.704 414.603 207.084 417.774 Q210.463 420.945 210.463 426.362 Q210.463 431.94 206.991 435.042 Q203.519 438.121 197.2 438.121 Q195.024 438.121 192.755 437.751 Q190.51 437.38 188.102 436.64 L188.102 431.94 Q190.186 433.075 192.408 433.63 Q194.63 434.186 197.107 434.186 Q201.112 434.186 203.449 432.079 Q205.787 429.973 205.787 426.362 Q205.787 422.751 203.449 420.644 Q201.112 418.538 197.107 418.538 Q195.232 418.538 193.357 418.954 Q191.505 419.371 189.561 420.251 L189.561 402.89 Z\" fill=\"#000000\" fill-rule=\"evenodd\" fill-opacity=\"1\" /><path clip-path=\"url(#clip950)\" d=\"M229.676 405.968 Q226.065 405.968 224.236 409.533 Q222.431 413.075 222.431 420.204 Q222.431 427.311 224.236 430.876 Q226.065 434.417 229.676 434.417 Q233.31 434.417 235.116 430.876 Q236.945 427.311 236.945 420.204 Q236.945 413.075 235.116 409.533 Q233.31 405.968 229.676 405.968 M229.676 402.265 Q235.486 402.265 238.542 406.871 Q241.621 411.454 241.621 420.204 Q241.621 428.931 238.542 433.538 Q235.486 438.121 229.676 438.121 Q223.866 438.121 220.787 433.538 Q217.732 428.931 217.732 420.204 Q217.732 411.454 220.787 406.871 Q223.866 402.265 229.676 402.265 Z\" fill=\"#000000\" fill-rule=\"evenodd\" fill-opacity=\"1\" /><path clip-path=\"url(#clip950)\" d=\"M115.927 216.63 L123.566 216.63 L123.566 190.265 L115.256 191.931 L115.256 187.672 L123.519 186.006 L128.195 186.006 L128.195 216.63 L135.834 216.63 L135.834 220.566 L115.927 220.566 L115.927 216.63 Z\" fill=\"#000000\" fill-rule=\"evenodd\" fill-opacity=\"1\" /><path clip-path=\"url(#clip950)\" d=\"M145.325 186.006 L163.681 186.006 L163.681 189.941 L149.607 189.941 L149.607 198.413 Q150.626 198.066 151.644 197.904 Q152.663 197.718 153.681 197.718 Q159.468 197.718 162.848 200.89 Q166.227 204.061 166.227 209.478 Q166.227 215.056 162.755 218.158 Q159.283 221.237 152.964 221.237 Q150.788 221.237 148.519 220.866 Q146.274 220.496 143.866 219.755 L143.866 215.056 Q145.95 216.191 148.172 216.746 Q150.394 217.302 152.871 217.302 Q156.876 217.302 159.214 215.195 Q161.552 213.089 161.552 209.478 Q161.552 205.867 159.214 203.76 Q156.876 201.654 152.871 201.654 Q150.996 201.654 149.121 202.07 Q147.269 202.487 145.325 203.367 L145.325 186.006 Z\" fill=\"#000000\" fill-rule=\"evenodd\" fill-opacity=\"1\" /><path clip-path=\"url(#clip950)\" d=\"M175.44 214.686 L180.325 214.686 L180.325 220.566 L175.44 220.566 L175.44 214.686 Z\" fill=\"#000000\" fill-rule=\"evenodd\" fill-opacity=\"1\" /><path clip-path=\"url(#clip950)\" d=\"M189.329 186.006 L211.551 186.006 L211.551 187.996 L199.005 220.566 L194.121 220.566 L205.926 189.941 L189.329 189.941 L189.329 186.006 Z\" fill=\"#000000\" fill-rule=\"evenodd\" fill-opacity=\"1\" /><path clip-path=\"url(#clip950)\" d=\"M220.718 186.006 L239.074 186.006 L239.074 189.941 L225 189.941 L225 198.413 Q226.019 198.066 227.037 197.904 Q228.056 197.718 229.074 197.718 Q234.861 197.718 238.241 200.89 Q241.621 204.061 241.621 209.478 Q241.621 215.056 238.148 218.158 Q234.676 221.237 228.357 221.237 Q226.181 221.237 223.912 220.866 Q221.667 220.496 219.26 219.755 L219.26 215.056 Q221.343 216.191 223.565 216.746 Q225.787 217.302 228.264 217.302 Q232.269 217.302 234.607 215.195 Q236.945 213.089 236.945 209.478 Q236.945 205.867 234.607 203.76 Q232.269 201.654 228.264 201.654 Q226.389 201.654 224.514 202.07 Q222.662 202.487 220.718 203.367 L220.718 186.006 Z\" fill=\"#000000\" fill-rule=\"evenodd\" fill-opacity=\"1\" /><path clip-path=\"url(#clip950)\" d=\"M57.2247 1086.7 L44.4614 1086.7 L44.4614 1097.2 L39.1779 1097.2 L39.1779 1080.33 L59.58 1080.33 Q62.2218 1084.05 63.5904 1088.54 Q64.9272 1093.03 64.9272 1098.12 Q64.9272 1109.26 58.4342 1115.56 Q51.9093 1121.83 40.2919 1121.83 Q28.6427 1121.83 22.1496 1115.56 Q15.6248 1109.26 15.6248 1098.12 Q15.6248 1093.47 16.7706 1089.31 Q17.9164 1085.1 20.1444 1081.57 L26.9876 1081.57 Q23.9639 1085.14 22.4361 1089.15 Q20.9083 1093.16 20.9083 1097.58 Q20.9083 1106.3 25.7781 1110.69 Q30.6479 1115.05 40.2919 1115.05 Q49.9041 1115.05 54.7739 1110.69 Q59.6436 1106.3 59.6436 1097.58 Q59.6436 1094.17 59.0707 1091.5 Q58.466 1088.83 57.2247 1086.7 Z\" fill=\"#000000\" fill-rule=\"evenodd\" fill-opacity=\"1\" /><path clip-path=\"url(#clip950)\" d=\"M14.479 1068.84 L14.479 1062.98 L64.0042 1062.98 L64.0042 1068.84 L14.479 1068.84 Z\" fill=\"#000000\" fill-rule=\"evenodd\" fill-opacity=\"1\" /><path clip-path=\"url(#clip950)\" d=\"M32.4621 1036.92 Q32.4621 1041.63 36.1542 1044.36 Q39.8145 1047.1 46.212 1047.1 Q52.6095 1047.1 56.3017 1044.39 Q59.9619 1041.66 59.9619 1036.92 Q59.9619 1032.24 56.2698 1029.5 Q52.5777 1026.76 46.212 1026.76 Q39.8781 1026.76 36.186 1029.5 Q32.4621 1032.24 32.4621 1036.92 M27.4968 1036.92 Q27.4968 1029.28 32.4621 1024.92 Q37.4273 1020.56 46.212 1020.56 Q54.9649 1020.56 59.9619 1024.92 Q64.9272 1029.28 64.9272 1036.92 Q64.9272 1044.59 59.9619 1048.95 Q54.9649 1053.28 46.212 1053.28 Q37.4273 1053.28 32.4621 1048.95 Q27.4968 1044.59 27.4968 1036.92 Z\" fill=\"#000000\" fill-rule=\"evenodd\" fill-opacity=\"1\" /><path clip-path=\"url(#clip950)\" d=\"M46.212 985.258 Q39.7508 985.258 36.0905 987.931 Q32.3984 990.573 32.3984 995.22 Q32.3984 999.867 36.0905 1002.54 Q39.7508 1005.18 46.212 1005.18 Q52.6732 1005.18 56.3653 1002.54 Q60.0256 999.867 60.0256 995.22 Q60.0256 990.573 56.3653 987.931 Q52.6732 985.258 46.212 985.258 M33.7671 1005.18 Q30.5842 1003.34 29.0564 1000.54 Q27.4968 997.703 27.4968 993.788 Q27.4968 987.295 32.6531 983.252 Q37.8093 979.178 46.212 979.178 Q54.6147 979.178 59.771 983.252 Q64.9272 987.295 64.9272 993.788 Q64.9272 997.703 63.3994 1000.54 Q61.8398 1003.34 58.657 1005.18 L64.0042 1005.18 L64.0042 1011.07 L14.479 1011.07 L14.479 1005.18 L33.7671 1005.18 Z\" fill=\"#000000\" fill-rule=\"evenodd\" fill-opacity=\"1\" /><path clip-path=\"url(#clip950)\" d=\"M46.0847 953.27 Q46.0847 960.368 47.7079 963.105 Q49.3312 965.842 53.2461 965.842 Q56.3653 965.842 58.2114 963.805 Q60.0256 961.736 60.0256 958.203 Q60.0256 953.334 56.5881 950.405 Q53.1188 947.445 47.3897 947.445 L46.0847 947.445 L46.0847 953.27 M43.6657 941.589 L64.0042 941.589 L64.0042 947.445 L58.5933 947.445 Q61.8398 949.45 63.3994 952.442 Q64.9272 955.434 64.9272 959.763 Q64.9272 965.237 61.8716 968.484 Q58.7843 971.699 53.6281 971.699 Q47.6125 971.699 44.5569 967.688 Q41.5014 963.646 41.5014 955.657 L41.5014 947.445 L40.9285 947.445 Q36.8862 947.445 34.6901 950.119 Q32.4621 952.761 32.4621 957.567 Q32.4621 960.622 33.1941 963.519 Q33.9262 966.415 35.3903 969.089 L29.9795 969.089 Q28.7381 965.874 28.1334 962.85 Q27.4968 959.827 27.4968 956.962 Q27.4968 949.228 31.5072 945.408 Q35.5176 941.589 43.6657 941.589 Z\" fill=\"#000000\" fill-rule=\"evenodd\" fill-opacity=\"1\" /><path clip-path=\"url(#clip950)\" d=\"M14.479 929.526 L14.479 923.669 L64.0042 923.669 L64.0042 929.526 L14.479 929.526 Z\" fill=\"#000000\" fill-rule=\"evenodd\" fill-opacity=\"1\" /><path clip-path=\"url(#clip950)\" d=\"M16.4842 897.029 L16.4842 856.829 L21.895 856.829 L21.895 873.699 L64.0042 873.699 L64.0042 880.16 L21.895 880.16 L21.895 897.029 L16.4842 897.029 Z\" fill=\"#000000\" fill-rule=\"evenodd\" fill-opacity=\"1\" /><path clip-path=\"url(#clip950)\" d=\"M44.7161 831.462 L47.5806 831.462 L47.5806 858.389 Q53.6281 858.007 56.8109 854.761 Q59.9619 851.482 59.9619 845.658 Q59.9619 842.284 59.1344 839.133 Q58.3069 835.95 56.6518 832.831 L62.1899 832.831 Q63.5267 835.982 64.227 839.292 Q64.9272 842.602 64.9272 846.008 Q64.9272 854.538 59.9619 859.535 Q54.9967 864.5 46.5303 864.5 Q37.7774 864.5 32.6531 859.79 Q27.4968 855.047 27.4968 847.026 Q27.4968 839.833 32.1438 835.663 Q36.7589 831.462 44.7161 831.462 M42.9973 837.319 Q38.1912 837.382 35.3266 840.024 Q32.4621 842.634 32.4621 846.963 Q32.4621 851.864 35.2312 854.824 Q38.0002 857.752 43.0292 858.198 L42.9973 837.319 Z\" fill=\"#000000\" fill-rule=\"evenodd\" fill-opacity=\"1\" /><path clip-path=\"url(#clip950)\" d=\"M35.1993 794.095 Q31.2526 791.899 29.3747 788.844 Q27.4968 785.788 27.4968 781.65 Q27.4968 776.08 31.4117 773.057 Q35.2948 770.033 42.4881 770.033 L64.0042 770.033 L64.0042 775.921 L42.679 775.921 Q37.5546 775.921 35.072 777.736 Q32.5894 779.55 32.5894 783.274 Q32.5894 787.825 35.6131 790.467 Q38.6368 793.109 43.8567 793.109 L64.0042 793.109 L64.0042 798.997 L42.679 798.997 Q37.5228 798.997 35.072 800.811 Q32.5894 802.625 32.5894 806.413 Q32.5894 810.901 35.6449 813.543 Q38.6686 816.184 43.8567 816.184 L64.0042 816.184 L64.0042 822.073 L28.3562 822.073 L28.3562 816.184 L33.8944 816.184 Q30.616 814.179 29.0564 811.378 Q27.4968 808.577 27.4968 804.726 Q27.4968 800.843 29.4702 798.138 Q31.4436 795.4 35.1993 794.095 Z\" fill=\"#000000\" fill-rule=\"evenodd\" fill-opacity=\"1\" /><path clip-path=\"url(#clip950)\" d=\"M58.657 752.686 L77.5631 752.686 L77.5631 758.575 L28.3562 758.575 L28.3562 752.686 L33.7671 752.686 Q30.5842 750.84 29.0564 748.04 Q27.4968 745.207 27.4968 741.292 Q27.4968 734.799 32.6531 730.757 Q37.8093 726.683 46.212 726.683 Q54.6147 726.683 59.771 730.757 Q64.9272 734.799 64.9272 741.292 Q64.9272 745.207 63.3994 748.04 Q61.8398 750.84 58.657 752.686 M46.212 732.762 Q39.7508 732.762 36.0905 735.435 Q32.3984 738.077 32.3984 742.724 Q32.3984 747.371 36.0905 750.045 Q39.7508 752.686 46.212 752.686 Q52.6732 752.686 56.3653 750.045 Q60.0256 747.371 60.0256 742.724 Q60.0256 738.077 56.3653 735.435 Q52.6732 732.762 46.212 732.762 Z\" fill=\"#000000\" fill-rule=\"evenodd\" fill-opacity=\"1\" /><path clip-path=\"url(#clip950)\" d=\"M33.8307 696.318 Q33.2578 697.305 33.0032 698.482 Q32.7167 699.628 32.7167 701.029 Q32.7167 705.994 35.9632 708.668 Q39.1779 711.309 45.2253 711.309 L64.0042 711.309 L64.0042 717.198 L28.3562 717.198 L28.3562 711.309 L33.8944 711.309 Q30.6479 709.463 29.0883 706.503 Q27.4968 703.543 27.4968 699.31 Q27.4968 698.705 27.5923 697.973 Q27.656 697.241 27.8151 696.35 L33.8307 696.318 Z\" fill=\"#000000\" fill-rule=\"evenodd\" fill-opacity=\"1\" /><path clip-path=\"url(#clip950)\" d=\"M46.0847 673.975 Q46.0847 681.072 47.7079 683.81 Q49.3312 686.547 53.2461 686.547 Q56.3653 686.547 58.2114 684.51 Q60.0256 682.441 60.0256 678.908 Q60.0256 674.038 56.5881 671.11 Q53.1188 668.15 47.3897 668.15 L46.0847 668.15 L46.0847 673.975 M43.6657 662.293 L64.0042 662.293 L64.0042 668.15 L58.5933 668.15 Q61.8398 670.155 63.3994 673.147 Q64.9272 676.139 64.9272 680.468 Q64.9272 685.942 61.8716 689.189 Q58.7843 692.403 53.6281 692.403 Q47.6125 692.403 44.5569 688.393 Q41.5014 684.351 41.5014 676.362 L41.5014 668.15 L40.9285 668.15 Q36.8862 668.15 34.6901 670.824 Q32.4621 673.465 32.4621 678.271 Q32.4621 681.327 33.1941 684.223 Q33.9262 687.12 35.3903 689.793 L29.9795 689.793 Q28.7381 686.579 28.1334 683.555 Q27.4968 680.531 27.4968 677.667 Q27.4968 669.932 31.5072 666.113 Q35.5176 662.293 43.6657 662.293 Z\" fill=\"#000000\" fill-rule=\"evenodd\" fill-opacity=\"1\" /><path clip-path=\"url(#clip950)\" d=\"M18.2347 644.438 L28.3562 644.438 L28.3562 632.375 L32.9077 632.375 L32.9077 644.438 L52.2594 644.438 Q56.6199 644.438 57.8613 643.26 Q59.1026 642.051 59.1026 638.39 L59.1026 632.375 L64.0042 632.375 L64.0042 638.39 Q64.0042 645.17 61.4897 647.748 Q58.9434 650.326 52.2594 650.326 L32.9077 650.326 L32.9077 654.623 L28.3562 654.623 L28.3562 650.326 L18.2347 650.326 L18.2347 644.438 Z\" fill=\"#000000\" fill-rule=\"evenodd\" fill-opacity=\"1\" /><path clip-path=\"url(#clip950)\" d=\"M49.9359 625.277 L28.3562 625.277 L28.3562 619.42 L49.7131 619.42 Q54.7739 619.42 57.3202 617.447 Q59.8346 615.474 59.8346 611.527 Q59.8346 606.784 56.8109 604.047 Q53.7872 601.278 48.5673 601.278 L28.3562 601.278 L28.3562 595.422 L64.0042 595.422 L64.0042 601.278 L58.5296 601.278 Q61.7762 603.411 63.3676 606.243 Q64.9272 609.044 64.9272 612.768 Q64.9272 618.911 61.1078 622.094 Q57.2883 625.277 49.9359 625.277 M27.4968 610.54 L27.4968 610.54 Z\" fill=\"#000000\" fill-rule=\"evenodd\" fill-opacity=\"1\" /><path clip-path=\"url(#clip950)\" d=\"M33.8307 562.702 Q33.2578 563.689 33.0032 564.866 Q32.7167 566.012 32.7167 567.413 Q32.7167 572.378 35.9632 575.051 Q39.1779 577.693 45.2253 577.693 L64.0042 577.693 L64.0042 583.581 L28.3562 583.581 L28.3562 577.693 L33.8944 577.693 Q30.6479 575.847 29.0883 572.887 Q27.4968 569.927 27.4968 565.694 Q27.4968 565.089 27.5923 564.357 Q27.656 563.625 27.8151 562.734 L33.8307 562.702 Z\" fill=\"#000000\" fill-rule=\"evenodd\" fill-opacity=\"1\" /><path clip-path=\"url(#clip950)\" d=\"M44.7161 527.5 L47.5806 527.5 L47.5806 554.427 Q53.6281 554.045 56.8109 550.798 Q59.9619 547.52 59.9619 541.695 Q59.9619 538.321 59.1344 535.17 Q58.3069 531.987 56.6518 528.868 L62.1899 528.868 Q63.5267 532.019 64.227 535.329 Q64.9272 538.64 64.9272 542.045 Q64.9272 550.575 59.9619 555.572 Q54.9967 560.538 46.5303 560.538 Q37.7774 560.538 32.6531 555.827 Q27.4968 551.085 27.4968 543.064 Q27.4968 535.871 32.1438 531.701 Q36.7589 527.5 44.7161 527.5 M42.9973 533.356 Q38.1912 533.42 35.3266 536.061 Q32.4621 538.671 32.4621 543 Q32.4621 547.902 35.2312 550.862 Q38.0002 553.79 43.0292 554.236 L42.9973 533.356 Z\" fill=\"#000000\" fill-rule=\"evenodd\" fill-opacity=\"1\" /><path clip-path=\"url(#clip950)\" d=\"M14.5426 483.099 Q21.8632 487.364 29.0246 489.433 Q36.186 491.502 43.5384 491.502 Q50.8908 491.502 58.1159 489.433 Q65.3091 487.332 72.5979 483.099 L72.5979 488.191 Q65.1182 492.966 57.8931 495.353 Q50.668 497.708 43.5384 497.708 Q36.4406 497.708 29.2474 495.353 Q22.0542 492.997 14.5426 488.191 L14.5426 483.099 Z\" fill=\"#000000\" fill-rule=\"evenodd\" fill-opacity=\"1\" /><path clip-path=\"url(#clip950)\" d=\"M20.1444 435.897 L26.9239 435.897 Q23.9002 439.144 22.4043 442.836 Q20.9083 446.496 20.9083 450.634 Q20.9083 458.782 25.9054 463.11 Q30.8707 467.439 40.2919 467.439 Q49.6813 467.439 54.6784 463.11 Q59.6436 458.782 59.6436 450.634 Q59.6436 446.496 58.1477 442.836 Q56.6518 439.144 53.6281 435.897 L60.3439 435.897 Q62.6355 439.271 63.7814 443.059 Q64.9272 446.814 64.9272 451.016 Q64.9272 461.806 58.3387 468.012 Q51.7183 474.219 40.2919 474.219 Q28.8336 474.219 22.2451 468.012 Q15.6248 461.806 15.6248 451.016 Q15.6248 446.751 16.7706 442.995 Q17.8846 439.207 20.1444 435.897 Z\" fill=\"#000000\" fill-rule=\"evenodd\" fill-opacity=\"1\" /><path clip-path=\"url(#clip950)\" d=\"M14.5426 427.144 L14.5426 422.052 Q22.0542 417.277 29.2474 414.922 Q36.4406 412.535 43.5384 412.535 Q50.668 412.535 57.8931 414.922 Q65.1182 417.277 72.5979 422.052 L72.5979 427.144 Q65.3091 422.911 58.1159 420.842 Q50.8908 418.742 43.5384 418.742 Q36.186 418.742 29.0246 420.842 Q21.8632 422.911 14.5426 427.144 Z\" fill=\"#000000\" fill-rule=\"evenodd\" fill-opacity=\"1\" /><path clip-path=\"url(#clip950)\" d=\"M287.96 12.096 L296.143 12.096 L296.143 72.576 L287.96 72.576 L287.96 12.096 Z\" fill=\"#000000\" fill-rule=\"evenodd\" fill-opacity=\"1\" /><path clip-path=\"url(#clip950)\" d=\"M349.817 45.1919 L349.817 72.576 L342.364 72.576 L342.364 45.4349 Q342.364 38.994 339.852 35.7938 Q337.34 32.5936 332.317 32.5936 Q326.282 32.5936 322.798 36.4419 Q319.314 40.2903 319.314 46.9338 L319.314 72.576 L311.82 72.576 L311.82 27.2059 L319.314 27.2059 L319.314 34.2544 Q321.988 30.163 325.593 28.1376 Q329.239 26.1121 333.978 26.1121 Q341.796 26.1121 345.807 30.9732 Q349.817 35.7938 349.817 45.1919 Z\" fill=\"#000000\" fill-rule=\"evenodd\" fill-opacity=\"1\" /><path clip-path=\"url(#clip950)\" d=\"M387.653 9.54393 L387.653 15.7418 L380.523 15.7418 Q376.513 15.7418 374.933 17.3622 Q373.394 18.9825 373.394 23.1955 L373.394 27.2059 L385.668 27.2059 L385.668 32.9987 L373.394 32.9987 L373.394 72.576 L365.899 72.576 L365.899 32.9987 L358.77 32.9987 L358.77 27.2059 L365.899 27.2059 L365.899 24.0462 Q365.899 16.471 369.424 13.0277 Q372.948 9.54393 380.604 9.54393 L387.653 9.54393 Z\" fill=\"#000000\" fill-rule=\"evenodd\" fill-opacity=\"1\" /><path clip-path=\"url(#clip950)\" d=\"M393.891 9.54393 L401.345 9.54393 L401.345 72.576 L393.891 72.576 L393.891 9.54393 Z\" fill=\"#000000\" fill-rule=\"evenodd\" fill-opacity=\"1\" /><path clip-path=\"url(#clip950)\" d=\"M416.171 54.671 L416.171 27.2059 L423.625 27.2059 L423.625 54.3874 Q423.625 60.8284 426.136 64.0691 Q428.648 67.2693 433.671 67.2693 Q439.707 67.2693 443.191 63.421 Q446.715 59.5726 446.715 52.9291 L446.715 27.2059 L454.169 27.2059 L454.169 72.576 L446.715 72.576 L446.715 65.6084 Q444.001 69.7404 440.395 71.7658 Q436.831 73.7508 432.091 73.7508 Q424.273 73.7508 420.222 68.8897 Q416.171 64.0286 416.171 54.671 M434.927 26.1121 L434.927 26.1121 Z\" fill=\"#000000\" fill-rule=\"evenodd\" fill-opacity=\"1\" /><path clip-path=\"url(#clip950)\" d=\"M508.329 48.0275 L508.329 51.6733 L474.058 51.6733 Q474.545 59.3701 478.677 63.421 Q482.849 67.4314 490.262 67.4314 Q494.556 67.4314 498.566 66.3781 Q502.617 65.3249 506.587 63.2184 L506.587 70.267 Q502.577 71.9684 498.364 72.8596 Q494.151 73.7508 489.817 73.7508 Q478.96 73.7508 472.6 67.4314 Q466.281 61.1119 466.281 50.3365 Q466.281 39.1965 472.276 32.6746 Q478.312 26.1121 488.52 26.1121 Q497.675 26.1121 502.982 32.0264 Q508.329 37.9003 508.329 48.0275 M500.875 45.84 Q500.794 39.7232 497.432 36.0774 Q494.11 32.4315 488.601 32.4315 Q482.363 32.4315 478.596 35.9558 Q474.869 39.4801 474.302 45.8805 L500.875 45.84 Z\" fill=\"#000000\" fill-rule=\"evenodd\" fill-opacity=\"1\" /><path clip-path=\"url(#clip950)\" d=\"M558.277 45.1919 L558.277 72.576 L550.823 72.576 L550.823 45.4349 Q550.823 38.994 548.312 35.7938 Q545.8 32.5936 540.777 32.5936 Q534.741 32.5936 531.257 36.4419 Q527.773 40.2903 527.773 46.9338 L527.773 72.576 L520.279 72.576 L520.279 27.2059 L527.773 27.2059 L527.773 34.2544 Q530.447 30.163 534.052 28.1376 Q537.698 26.1121 542.438 26.1121 Q550.256 26.1121 554.266 30.9732 Q558.277 35.7938 558.277 45.1919 Z\" fill=\"#000000\" fill-rule=\"evenodd\" fill-opacity=\"1\" /><path clip-path=\"url(#clip950)\" d=\"M605.794 28.9478 L605.794 35.9153 Q602.634 34.1734 599.434 33.3227 Q596.274 32.4315 593.034 32.4315 Q585.782 32.4315 581.772 37.0496 Q577.762 41.6271 577.762 49.9314 Q577.762 58.2358 581.772 62.8538 Q585.782 67.4314 593.034 67.4314 Q596.274 67.4314 599.434 66.5807 Q602.634 65.6895 605.794 63.9476 L605.794 70.8341 Q602.675 72.2924 599.312 73.0216 Q595.991 73.7508 592.223 73.7508 Q581.975 73.7508 575.939 67.3098 Q569.903 60.8689 569.903 49.9314 Q569.903 38.832 575.979 32.472 Q582.096 26.1121 592.709 26.1121 Q596.153 26.1121 599.434 26.8413 Q602.715 27.5299 605.794 28.9478 Z\" fill=\"#000000\" fill-rule=\"evenodd\" fill-opacity=\"1\" /><path clip-path=\"url(#clip950)\" d=\"M657.564 48.0275 L657.564 51.6733 L623.294 51.6733 Q623.78 59.3701 627.912 63.421 Q632.084 67.4314 639.497 67.4314 Q643.791 67.4314 647.802 66.3781 Q651.853 65.3249 655.823 63.2184 L655.823 70.267 Q651.812 71.9684 647.599 72.8596 Q643.386 73.7508 639.052 73.7508 Q628.195 73.7508 621.835 67.4314 Q615.516 61.1119 615.516 50.3365 Q615.516 39.1965 621.511 32.6746 Q627.547 26.1121 637.756 26.1121 Q646.911 26.1121 652.217 32.0264 Q657.564 37.9003 657.564 48.0275 M650.111 45.84 Q650.03 39.7232 646.668 36.0774 Q643.346 32.4315 637.837 32.4315 Q631.598 32.4315 627.831 35.9558 Q624.104 39.4801 623.537 45.8805 L650.111 45.84 Z\" fill=\"#000000\" fill-rule=\"evenodd\" fill-opacity=\"1\" /><path clip-path=\"url(#clip950)\" d=\"M713.75 32.4315 Q707.755 32.4315 704.271 37.1306 Q700.788 41.7891 700.788 49.9314 Q700.788 58.0738 704.231 62.7728 Q707.715 67.4314 713.75 67.4314 Q719.705 67.4314 723.189 62.7323 Q726.673 58.0333 726.673 49.9314 Q726.673 41.8701 723.189 37.1711 Q719.705 32.4315 713.75 32.4315 M713.75 26.1121 Q723.473 26.1121 729.022 32.4315 Q734.572 38.7509 734.572 49.9314 Q734.572 61.0714 729.022 67.4314 Q723.473 73.7508 713.75 73.7508 Q703.988 73.7508 698.438 67.4314 Q692.929 61.0714 692.929 49.9314 Q692.929 38.7509 698.438 32.4315 Q703.988 26.1121 713.75 26.1121 Z\" fill=\"#000000\" fill-rule=\"evenodd\" fill-opacity=\"1\" /><path clip-path=\"url(#clip950)\" d=\"M769.896 9.54393 L769.896 15.7418 L762.766 15.7418 Q758.756 15.7418 757.176 17.3622 Q755.637 18.9825 755.637 23.1955 L755.637 27.2059 L767.911 27.2059 L767.911 32.9987 L755.637 32.9987 L755.637 72.576 L748.143 72.576 L748.143 32.9987 L741.013 32.9987 L741.013 27.2059 L748.143 27.2059 L748.143 24.0462 Q748.143 16.471 751.667 13.0277 Q755.191 9.54393 762.847 9.54393 L769.896 9.54393 Z\" fill=\"#000000\" fill-rule=\"evenodd\" fill-opacity=\"1\" /><path clip-path=\"url(#clip950)\" d=\"M809.716 65.7705 L809.716 89.8329 L802.222 89.8329 L802.222 27.2059 L809.716 27.2059 L809.716 34.0924 Q812.066 30.0415 815.631 28.0971 Q819.236 26.1121 824.219 26.1121 Q832.482 26.1121 837.627 32.6746 Q842.812 39.2371 842.812 49.9314 Q842.812 60.6258 837.627 67.1883 Q832.482 73.7508 824.219 73.7508 Q819.236 73.7508 815.631 71.8063 Q812.066 69.8214 809.716 65.7705 M835.075 49.9314 Q835.075 41.7081 831.672 37.0496 Q828.31 32.3505 822.396 32.3505 Q816.481 32.3505 813.079 37.0496 Q809.716 41.7081 809.716 49.9314 Q809.716 58.1548 813.079 62.8538 Q816.481 67.5124 822.396 67.5124 Q828.31 67.5124 831.672 62.8538 Q835.075 58.1548 835.075 49.9314 Z\" fill=\"#000000\" fill-rule=\"evenodd\" fill-opacity=\"1\" /><path clip-path=\"url(#clip950)\" d=\"M855.168 27.2059 L862.621 27.2059 L862.621 72.576 L855.168 72.576 L855.168 27.2059 M855.168 9.54393 L862.621 9.54393 L862.621 18.9825 L855.168 18.9825 L855.168 9.54393 Z\" fill=\"#000000\" fill-rule=\"evenodd\" fill-opacity=\"1\" /><path clip-path=\"url(#clip950)\" d=\"M904.508 34.1734 Q903.252 33.4443 901.753 33.1202 Q900.295 32.7556 898.512 32.7556 Q892.193 32.7556 888.79 36.8875 Q885.428 40.9789 885.428 48.6757 L885.428 72.576 L877.934 72.576 L877.934 27.2059 L885.428 27.2059 L885.428 34.2544 Q887.777 30.1225 891.545 28.1376 Q895.312 26.1121 900.7 26.1121 Q901.469 26.1121 902.401 26.2337 Q903.333 26.3147 904.467 26.5172 L904.508 34.1734 Z\" fill=\"#000000\" fill-rule=\"evenodd\" fill-opacity=\"1\" /><path clip-path=\"url(#clip950)\" d=\"M932.945 49.7694 Q923.911 49.7694 920.428 51.8354 Q916.944 53.9013 916.944 58.8839 Q916.944 62.8538 919.536 65.2034 Q922.17 67.5124 926.666 67.5124 Q932.864 67.5124 936.591 63.1374 Q940.358 58.7219 940.358 51.4303 L940.358 49.7694 L932.945 49.7694 M947.812 46.6907 L947.812 72.576 L940.358 72.576 L940.358 65.6895 Q937.806 69.8214 933.998 71.8063 Q930.19 73.7508 924.681 73.7508 Q917.714 73.7508 913.582 69.8619 Q909.49 65.9325 909.49 59.3701 Q909.49 51.7138 914.594 47.825 Q919.739 43.9361 929.907 43.9361 L940.358 43.9361 L940.358 43.2069 Q940.358 38.0623 936.955 35.2672 Q933.593 32.4315 927.476 32.4315 Q923.587 32.4315 919.901 33.3632 Q916.215 34.295 912.812 36.1584 L912.812 29.2718 Q916.903 27.692 920.752 26.9223 Q924.6 26.1121 928.246 26.1121 Q938.09 26.1121 942.951 31.2163 Q947.812 36.3204 947.812 46.6907 Z\" fill=\"#000000\" fill-rule=\"evenodd\" fill-opacity=\"1\" /><path clip-path=\"url(#clip950)\" d=\"M970.537 14.324 L970.537 27.2059 L985.89 27.2059 L985.89 32.9987 L970.537 32.9987 L970.537 57.6282 Q970.537 63.1779 972.036 64.7578 Q973.575 66.3376 978.234 66.3376 L985.89 66.3376 L985.89 72.576 L978.234 72.576 Q969.606 72.576 966.324 69.3758 Q963.043 66.1351 963.043 57.6282 L963.043 32.9987 L957.574 32.9987 L957.574 27.2059 L963.043 27.2059 L963.043 14.324 L970.537 14.324 Z\" fill=\"#000000\" fill-rule=\"evenodd\" fill-opacity=\"1\" /><path clip-path=\"url(#clip950)\" d=\"M1034.5 48.0275 L1034.5 51.6733 L1000.23 51.6733 Q1000.72 59.3701 1004.85 63.421 Q1009.02 67.4314 1016.43 67.4314 Q1020.73 67.4314 1024.74 66.3781 Q1028.79 65.3249 1032.76 63.2184 L1032.76 70.267 Q1028.75 71.9684 1024.54 72.8596 Q1020.32 73.7508 1015.99 73.7508 Q1005.13 73.7508 998.772 67.4314 Q992.453 61.1119 992.453 50.3365 Q992.453 39.1965 998.448 32.6746 Q1004.48 26.1121 1014.69 26.1121 Q1023.85 26.1121 1029.15 32.0264 Q1034.5 37.9003 1034.5 48.0275 M1027.05 45.84 Q1026.97 39.7232 1023.6 36.0774 Q1020.28 32.4315 1014.77 32.4315 Q1008.53 32.4315 1004.77 35.9558 Q1001.04 39.4801 1000.47 45.8805 L1027.05 45.84 Z\" fill=\"#000000\" fill-rule=\"evenodd\" fill-opacity=\"1\" /><path clip-path=\"url(#clip950)\" d=\"M1080.32 65.7705 L1080.32 89.8329 L1072.82 89.8329 L1072.82 27.2059 L1080.32 27.2059 L1080.32 34.0924 Q1082.67 30.0415 1086.23 28.0971 Q1089.84 26.1121 1094.82 26.1121 Q1103.08 26.1121 1108.23 32.6746 Q1113.41 39.2371 1113.41 49.9314 Q1113.41 60.6258 1108.23 67.1883 Q1103.08 73.7508 1094.82 73.7508 Q1089.84 73.7508 1086.23 71.8063 Q1082.67 69.8214 1080.32 65.7705 M1105.68 49.9314 Q1105.68 41.7081 1102.27 37.0496 Q1098.91 32.3505 1093 32.3505 Q1087.08 32.3505 1083.68 37.0496 Q1080.32 41.7081 1080.32 49.9314 Q1080.32 58.1548 1083.68 62.8538 Q1087.08 67.5124 1093 67.5124 Q1098.91 67.5124 1102.27 62.8538 Q1105.68 58.1548 1105.68 49.9314 Z\" fill=\"#000000\" fill-rule=\"evenodd\" fill-opacity=\"1\" /><path clip-path=\"url(#clip950)\" d=\"M1143.35 32.4315 Q1137.35 32.4315 1133.87 37.1306 Q1130.39 41.7891 1130.39 49.9314 Q1130.39 58.0738 1133.83 62.7728 Q1137.31 67.4314 1143.35 67.4314 Q1149.3 67.4314 1152.79 62.7323 Q1156.27 58.0333 1156.27 49.9314 Q1156.27 41.8701 1152.79 37.1711 Q1149.3 32.4315 1143.35 32.4315 M1143.35 26.1121 Q1153.07 26.1121 1158.62 32.4315 Q1164.17 38.7509 1164.17 49.9314 Q1164.17 61.0714 1158.62 67.4314 Q1153.07 73.7508 1143.35 73.7508 Q1133.59 73.7508 1128.04 67.4314 Q1122.53 61.0714 1122.53 49.9314 Q1122.53 38.7509 1128.04 32.4315 Q1133.59 26.1121 1143.35 26.1121 Z\" fill=\"#000000\" fill-rule=\"evenodd\" fill-opacity=\"1\" /><path clip-path=\"url(#clip950)\" d=\"M1183.74 65.7705 L1183.74 89.8329 L1176.24 89.8329 L1176.24 27.2059 L1183.74 27.2059 L1183.74 34.0924 Q1186.09 30.0415 1189.65 28.0971 Q1193.26 26.1121 1198.24 26.1121 Q1206.5 26.1121 1211.65 32.6746 Q1216.83 39.2371 1216.83 49.9314 Q1216.83 60.6258 1211.65 67.1883 Q1206.5 73.7508 1198.24 73.7508 Q1193.26 73.7508 1189.65 71.8063 Q1186.09 69.8214 1183.74 65.7705 M1209.1 49.9314 Q1209.1 41.7081 1205.69 37.0496 Q1202.33 32.3505 1196.42 32.3505 Q1190.5 32.3505 1187.1 37.0496 Q1183.74 41.7081 1183.74 49.9314 Q1183.74 58.1548 1187.1 62.8538 Q1190.5 67.5124 1196.42 67.5124 Q1202.33 67.5124 1205.69 62.8538 Q1209.1 58.1548 1209.1 49.9314 Z\" fill=\"#000000\" fill-rule=\"evenodd\" fill-opacity=\"1\" /><path clip-path=\"url(#clip950)\" d=\"M1228.42 54.671 L1228.42 27.2059 L1235.87 27.2059 L1235.87 54.3874 Q1235.87 60.8284 1238.38 64.0691 Q1240.89 67.2693 1245.92 67.2693 Q1251.95 67.2693 1255.44 63.421 Q1258.96 59.5726 1258.96 52.9291 L1258.96 27.2059 L1266.42 27.2059 L1266.42 72.576 L1258.96 72.576 L1258.96 65.6084 Q1256.25 69.7404 1252.64 71.7658 Q1249.08 73.7508 1244.34 73.7508 Q1236.52 73.7508 1232.47 68.8897 Q1228.42 64.0286 1228.42 54.671 M1247.17 26.1121 L1247.17 26.1121 Z\" fill=\"#000000\" fill-rule=\"evenodd\" fill-opacity=\"1\" /><path clip-path=\"url(#clip950)\" d=\"M1281.77 9.54393 L1289.22 9.54393 L1289.22 72.576 L1281.77 72.576 L1281.77 9.54393 Z\" fill=\"#000000\" fill-rule=\"evenodd\" fill-opacity=\"1\" /><path clip-path=\"url(#clip950)\" d=\"M1325.44 49.7694 Q1316.4 49.7694 1312.92 51.8354 Q1309.44 53.9013 1309.44 58.8839 Q1309.44 62.8538 1312.03 65.2034 Q1314.66 67.5124 1319.16 67.5124 Q1325.36 67.5124 1329.08 63.1374 Q1332.85 58.7219 1332.85 51.4303 L1332.85 49.7694 L1325.44 49.7694 M1340.3 46.6907 L1340.3 72.576 L1332.85 72.576 L1332.85 65.6895 Q1330.3 69.8214 1326.49 71.8063 Q1322.68 73.7508 1317.17 73.7508 Q1310.21 73.7508 1306.07 69.8619 Q1301.98 65.9325 1301.98 59.3701 Q1301.98 51.7138 1307.09 47.825 Q1312.23 43.9361 1322.4 43.9361 L1332.85 43.9361 L1332.85 43.2069 Q1332.85 38.0623 1329.45 35.2672 Q1326.09 32.4315 1319.97 32.4315 Q1316.08 32.4315 1312.39 33.3632 Q1308.71 34.295 1305.3 36.1584 L1305.3 29.2718 Q1309.4 27.692 1313.24 26.9223 Q1317.09 26.1121 1320.74 26.1121 Q1330.58 26.1121 1335.44 31.2163 Q1340.3 36.3204 1340.3 46.6907 Z\" fill=\"#000000\" fill-rule=\"evenodd\" fill-opacity=\"1\" /><path clip-path=\"url(#clip950)\" d=\"M1363.03 14.324 L1363.03 27.2059 L1378.38 27.2059 L1378.38 32.9987 L1363.03 32.9987 L1363.03 57.6282 Q1363.03 63.1779 1364.53 64.7578 Q1366.07 66.3376 1370.73 66.3376 L1378.38 66.3376 L1378.38 72.576 L1370.73 72.576 Q1362.1 72.576 1358.82 69.3758 Q1355.54 66.1351 1355.54 57.6282 L1355.54 32.9987 L1350.07 32.9987 L1350.07 27.2059 L1355.54 27.2059 L1355.54 14.324 L1363.03 14.324 Z\" fill=\"#000000\" fill-rule=\"evenodd\" fill-opacity=\"1\" /><path clip-path=\"url(#clip950)\" d=\"M1388.19 27.2059 L1395.64 27.2059 L1395.64 72.576 L1388.19 72.576 L1388.19 27.2059 M1388.19 9.54393 L1395.64 9.54393 L1395.64 18.9825 L1388.19 18.9825 L1388.19 9.54393 Z\" fill=\"#000000\" fill-rule=\"evenodd\" fill-opacity=\"1\" /><path clip-path=\"url(#clip950)\" d=\"M1428.82 32.4315 Q1422.82 32.4315 1419.34 37.1306 Q1415.85 41.7891 1415.85 49.9314 Q1415.85 58.0738 1419.3 62.7728 Q1422.78 67.4314 1428.82 67.4314 Q1434.77 67.4314 1438.25 62.7323 Q1441.74 58.0333 1441.74 49.9314 Q1441.74 41.8701 1438.25 37.1711 Q1434.77 32.4315 1428.82 32.4315 M1428.82 26.1121 Q1438.54 26.1121 1444.09 32.4315 Q1449.64 38.7509 1449.64 49.9314 Q1449.64 61.0714 1444.09 67.4314 Q1438.54 73.7508 1428.82 73.7508 Q1419.05 73.7508 1413.5 67.4314 Q1407.99 61.0714 1407.99 49.9314 Q1407.99 38.7509 1413.5 32.4315 Q1419.05 26.1121 1428.82 26.1121 Z\" fill=\"#000000\" fill-rule=\"evenodd\" fill-opacity=\"1\" /><path clip-path=\"url(#clip950)\" d=\"M1499.71 45.1919 L1499.71 72.576 L1492.25 72.576 L1492.25 45.4349 Q1492.25 38.994 1489.74 35.7938 Q1487.23 32.5936 1482.21 32.5936 Q1476.17 32.5936 1472.69 36.4419 Q1469.2 40.2903 1469.2 46.9338 L1469.2 72.576 L1461.71 72.576 L1461.71 27.2059 L1469.2 27.2059 L1469.2 34.2544 Q1471.88 30.163 1475.48 28.1376 Q1479.13 26.1121 1483.87 26.1121 Q1491.69 26.1121 1495.7 30.9732 Q1499.71 35.7938 1499.71 45.1919 Z\" fill=\"#000000\" fill-rule=\"evenodd\" fill-opacity=\"1\" /><path clip-path=\"url(#clip950)\" d=\"M1558.53 32.4315 Q1552.53 32.4315 1549.05 37.1306 Q1545.56 41.7891 1545.56 49.9314 Q1545.56 58.0738 1549.01 62.7728 Q1552.49 67.4314 1558.53 67.4314 Q1564.48 67.4314 1567.96 62.7323 Q1571.45 58.0333 1571.45 49.9314 Q1571.45 41.8701 1567.96 37.1711 Q1564.48 32.4315 1558.53 32.4315 M1558.53 26.1121 Q1568.25 26.1121 1573.8 32.4315 Q1579.35 38.7509 1579.35 49.9314 Q1579.35 61.0714 1573.8 67.4314 Q1568.25 73.7508 1558.53 73.7508 Q1548.76 73.7508 1543.21 67.4314 Q1537.7 61.0714 1537.7 49.9314 Q1537.7 38.7509 1543.21 32.4315 Q1548.76 26.1121 1558.53 26.1121 Z\" fill=\"#000000\" fill-rule=\"evenodd\" fill-opacity=\"1\" /><path clip-path=\"url(#clip950)\" d=\"M1629.42 45.1919 L1629.42 72.576 L1621.96 72.576 L1621.96 45.4349 Q1621.96 38.994 1619.45 35.7938 Q1616.94 32.5936 1611.92 32.5936 Q1605.88 32.5936 1602.4 36.4419 Q1598.91 40.2903 1598.91 46.9338 L1598.91 72.576 L1591.42 72.576 L1591.42 27.2059 L1598.91 27.2059 L1598.91 34.2544 Q1601.59 30.163 1605.19 28.1376 Q1608.84 26.1121 1613.58 26.1121 Q1621.4 26.1121 1625.41 30.9732 Q1629.42 35.7938 1629.42 45.1919 Z\" fill=\"#000000\" fill-rule=\"evenodd\" fill-opacity=\"1\" /><path clip-path=\"url(#clip950)\" d=\"M1678.03 14.324 L1678.03 27.2059 L1693.38 27.2059 L1693.38 32.9987 L1678.03 32.9987 L1678.03 57.6282 Q1678.03 63.1779 1679.53 64.7578 Q1681.07 66.3376 1685.72 66.3376 L1693.38 66.3376 L1693.38 72.576 L1685.72 72.576 Q1677.1 72.576 1673.81 69.3758 Q1670.53 66.1351 1670.53 57.6282 L1670.53 32.9987 L1665.06 32.9987 L1665.06 27.2059 L1670.53 27.2059 L1670.53 14.324 L1678.03 14.324 Z\" fill=\"#000000\" fill-rule=\"evenodd\" fill-opacity=\"1\" /><path clip-path=\"url(#clip950)\" d=\"M1740.9 45.1919 L1740.9 72.576 L1733.44 72.576 L1733.44 45.4349 Q1733.44 38.994 1730.93 35.7938 Q1728.42 32.5936 1723.4 32.5936 Q1717.36 32.5936 1713.88 36.4419 Q1710.39 40.2903 1710.39 46.9338 L1710.39 72.576 L1702.9 72.576 L1702.9 9.54393 L1710.39 9.54393 L1710.39 34.2544 Q1713.07 30.163 1716.67 28.1376 Q1720.32 26.1121 1725.06 26.1121 Q1732.88 26.1121 1736.89 30.9732 Q1740.9 35.7938 1740.9 45.1919 Z\" fill=\"#000000\" fill-rule=\"evenodd\" fill-opacity=\"1\" /><path clip-path=\"url(#clip950)\" d=\"M1794.57 48.0275 L1794.57 51.6733 L1760.3 51.6733 Q1760.79 59.3701 1764.92 63.421 Q1769.09 67.4314 1776.51 67.4314 Q1780.8 67.4314 1784.81 66.3781 Q1788.86 65.3249 1792.83 63.2184 L1792.83 70.267 Q1788.82 71.9684 1784.61 72.8596 Q1780.39 73.7508 1776.06 73.7508 Q1765.2 73.7508 1758.84 67.4314 Q1752.52 61.1119 1752.52 50.3365 Q1752.52 39.1965 1758.52 32.6746 Q1764.56 26.1121 1774.76 26.1121 Q1783.92 26.1121 1789.23 32.0264 Q1794.57 37.9003 1794.57 48.0275 M1787.12 45.84 Q1787.04 39.7232 1783.68 36.0774 Q1780.35 32.4315 1774.84 32.4315 Q1768.61 32.4315 1764.84 35.9558 Q1761.11 39.4801 1760.54 45.8805 L1787.12 45.84 Z\" fill=\"#000000\" fill-rule=\"evenodd\" fill-opacity=\"1\" /><path clip-path=\"url(#clip950)\" d=\"M1840.55 14.324 L1840.55 27.2059 L1855.9 27.2059 L1855.9 32.9987 L1840.55 32.9987 L1840.55 57.6282 Q1840.55 63.1779 1842.05 64.7578 Q1843.59 66.3376 1848.25 66.3376 L1855.9 66.3376 L1855.9 72.576 L1848.25 72.576 Q1839.62 72.576 1836.34 69.3758 Q1833.06 66.1351 1833.06 57.6282 L1833.06 32.9987 L1827.59 32.9987 L1827.59 27.2059 L1833.06 27.2059 L1833.06 14.324 L1840.55 14.324 Z\" fill=\"#000000\" fill-rule=\"evenodd\" fill-opacity=\"1\" /><path clip-path=\"url(#clip950)\" d=\"M1904.51 48.0275 L1904.51 51.6733 L1870.24 51.6733 Q1870.73 59.3701 1874.86 63.421 Q1879.03 67.4314 1886.45 67.4314 Q1890.74 67.4314 1894.75 66.3781 Q1898.8 65.3249 1902.77 63.2184 L1902.77 70.267 Q1898.76 71.9684 1894.55 72.8596 Q1890.34 73.7508 1886 73.7508 Q1875.14 73.7508 1868.78 67.4314 Q1862.47 61.1119 1862.47 50.3365 Q1862.47 39.1965 1868.46 32.6746 Q1874.5 26.1121 1884.7 26.1121 Q1893.86 26.1121 1899.17 32.0264 Q1904.51 37.9003 1904.51 48.0275 M1897.06 45.84 Q1896.98 39.7232 1893.62 36.0774 Q1890.3 32.4315 1884.79 32.4315 Q1878.55 32.4315 1874.78 35.9558 Q1871.05 39.4801 1870.49 45.8805 L1897.06 45.84 Z\" fill=\"#000000\" fill-rule=\"evenodd\" fill-opacity=\"1\" /><path clip-path=\"url(#clip950)\" d=\"M1952.07 35.9153 Q1954.87 30.8922 1958.76 28.5022 Q1962.64 26.1121 1967.91 26.1121 Q1975 26.1121 1978.85 31.0947 Q1982.7 36.0368 1982.7 45.1919 L1982.7 72.576 L1975.2 72.576 L1975.2 45.4349 Q1975.2 38.913 1972.89 35.7533 Q1970.58 32.5936 1965.84 32.5936 Q1960.05 32.5936 1956.69 36.4419 Q1953.33 40.2903 1953.33 46.9338 L1953.33 72.576 L1945.83 72.576 L1945.83 45.4349 Q1945.83 38.8725 1943.52 35.7533 Q1941.21 32.5936 1936.39 32.5936 Q1930.68 32.5936 1927.32 36.4824 Q1923.96 40.3308 1923.96 46.9338 L1923.96 72.576 L1916.46 72.576 L1916.46 27.2059 L1923.96 27.2059 L1923.96 34.2544 Q1926.51 30.082 1930.07 28.0971 Q1933.64 26.1121 1938.54 26.1121 Q1943.48 26.1121 1946.93 28.6237 Q1950.41 31.1352 1952.07 35.9153 Z\" fill=\"#000000\" fill-rule=\"evenodd\" fill-opacity=\"1\" /><path clip-path=\"url(#clip950)\" d=\"M2004.77 65.7705 L2004.77 89.8329 L1997.28 89.8329 L1997.28 27.2059 L2004.77 27.2059 L2004.77 34.0924 Q2007.12 30.0415 2010.69 28.0971 Q2014.29 26.1121 2019.28 26.1121 Q2027.54 26.1121 2032.68 32.6746 Q2037.87 39.2371 2037.87 49.9314 Q2037.87 60.6258 2032.68 67.1883 Q2027.54 73.7508 2019.28 73.7508 Q2014.29 73.7508 2010.69 71.8063 Q2007.12 69.8214 2004.77 65.7705 M2030.13 49.9314 Q2030.13 41.7081 2026.73 37.0496 Q2023.37 32.3505 2017.45 32.3505 Q2011.54 32.3505 2008.14 37.0496 Q2004.77 41.7081 2004.77 49.9314 Q2004.77 58.1548 2008.14 62.8538 Q2011.54 67.5124 2017.45 67.5124 Q2023.37 67.5124 2026.73 62.8538 Q2030.13 58.1548 2030.13 49.9314 Z\" fill=\"#000000\" fill-rule=\"evenodd\" fill-opacity=\"1\" /><path clip-path=\"url(#clip950)\" d=\"M2089.03 48.0275 L2089.03 51.6733 L2054.76 51.6733 Q2055.25 59.3701 2059.38 63.421 Q2063.55 67.4314 2070.97 67.4314 Q2075.26 67.4314 2079.27 66.3781 Q2083.32 65.3249 2087.29 63.2184 L2087.29 70.267 Q2083.28 71.9684 2079.07 72.8596 Q2074.85 73.7508 2070.52 73.7508 Q2059.66 73.7508 2053.3 67.4314 Q2046.98 61.1119 2046.98 50.3365 Q2046.98 39.1965 2052.98 32.6746 Q2059.02 26.1121 2069.22 26.1121 Q2078.38 26.1121 2083.69 32.0264 Q2089.03 37.9003 2089.03 48.0275 M2081.58 45.84 Q2081.5 39.7232 2078.14 36.0774 Q2074.81 32.4315 2069.3 32.4315 Q2063.07 32.4315 2059.3 35.9558 Q2055.57 39.4801 2055 45.8805 L2081.58 45.84 Z\" fill=\"#000000\" fill-rule=\"evenodd\" fill-opacity=\"1\" /><path clip-path=\"url(#clip950)\" d=\"M2127.56 34.1734 Q2126.3 33.4443 2124.8 33.1202 Q2123.34 32.7556 2121.56 32.7556 Q2115.24 32.7556 2111.84 36.8875 Q2108.48 40.9789 2108.48 48.6757 L2108.48 72.576 L2100.98 72.576 L2100.98 27.2059 L2108.48 27.2059 L2108.48 34.2544 Q2110.83 30.1225 2114.59 28.1376 Q2118.36 26.1121 2123.75 26.1121 Q2124.52 26.1121 2125.45 26.2337 Q2126.38 26.3147 2127.52 26.5172 L2127.56 34.1734 Z\" fill=\"#000000\" fill-rule=\"evenodd\" fill-opacity=\"1\" /><path clip-path=\"url(#clip950)\" d=\"M2155.99 49.7694 Q2146.96 49.7694 2143.48 51.8354 Q2139.99 53.9013 2139.99 58.8839 Q2139.99 62.8538 2142.59 65.2034 Q2145.22 67.5124 2149.72 67.5124 Q2155.91 67.5124 2159.64 63.1374 Q2163.41 58.7219 2163.41 51.4303 L2163.41 49.7694 L2155.99 49.7694 M2170.86 46.6907 L2170.86 72.576 L2163.41 72.576 L2163.41 65.6895 Q2160.86 69.8214 2157.05 71.8063 Q2153.24 73.7508 2147.73 73.7508 Q2140.76 73.7508 2136.63 69.8619 Q2132.54 65.9325 2132.54 59.3701 Q2132.54 51.7138 2137.64 47.825 Q2142.79 43.9361 2152.96 43.9361 L2163.41 43.9361 L2163.41 43.2069 Q2163.41 38.0623 2160 35.2672 Q2156.64 32.4315 2150.53 32.4315 Q2146.64 32.4315 2142.95 33.3632 Q2139.26 34.295 2135.86 36.1584 L2135.86 29.2718 Q2139.95 27.692 2143.8 26.9223 Q2147.65 26.1121 2151.29 26.1121 Q2161.14 26.1121 2166 31.2163 Q2170.86 36.3204 2170.86 46.6907 Z\" fill=\"#000000\" fill-rule=\"evenodd\" fill-opacity=\"1\" /><path clip-path=\"url(#clip950)\" d=\"M2193.59 14.324 L2193.59 27.2059 L2208.94 27.2059 L2208.94 32.9987 L2193.59 32.9987 L2193.59 57.6282 Q2193.59 63.1779 2195.09 64.7578 Q2196.62 66.3376 2201.28 66.3376 L2208.94 66.3376 L2208.94 72.576 L2201.28 72.576 Q2192.65 72.576 2189.37 69.3758 Q2186.09 66.1351 2186.09 57.6282 L2186.09 32.9987 L2180.62 32.9987 L2180.62 27.2059 L2186.09 27.2059 L2186.09 14.324 L2193.59 14.324 Z\" fill=\"#000000\" fill-rule=\"evenodd\" fill-opacity=\"1\" /><path clip-path=\"url(#clip950)\" d=\"M2217.97 54.671 L2217.97 27.2059 L2225.43 27.2059 L2225.43 54.3874 Q2225.43 60.8284 2227.94 64.0691 Q2230.45 67.2693 2235.47 67.2693 Q2241.51 67.2693 2244.99 63.421 Q2248.52 59.5726 2248.52 52.9291 L2248.52 27.2059 L2255.97 27.2059 L2255.97 72.576 L2248.52 72.576 L2248.52 65.6084 Q2245.8 69.7404 2242.2 71.7658 Q2238.63 73.7508 2233.89 73.7508 Q2226.07 73.7508 2222.02 68.8897 Q2217.97 64.0286 2217.97 54.671 M2236.73 26.1121 L2236.73 26.1121 Z\" fill=\"#000000\" fill-rule=\"evenodd\" fill-opacity=\"1\" /><path clip-path=\"url(#clip950)\" d=\"M2297.61 34.1734 Q2296.36 33.4443 2294.86 33.1202 Q2293.4 32.7556 2291.62 32.7556 Q2285.3 32.7556 2281.9 36.8875 Q2278.53 40.9789 2278.53 48.6757 L2278.53 72.576 L2271.04 72.576 L2271.04 27.2059 L2278.53 27.2059 L2278.53 34.2544 Q2280.88 30.1225 2284.65 28.1376 Q2288.42 26.1121 2293.81 26.1121 Q2294.58 26.1121 2295.51 26.2337 Q2296.44 26.3147 2297.57 26.5172 L2297.61 34.1734 Z\" fill=\"#000000\" fill-rule=\"evenodd\" fill-opacity=\"1\" /><path clip-path=\"url(#clip950)\" d=\"M2342.42 48.0275 L2342.42 51.6733 L2308.15 51.6733 Q2308.63 59.3701 2312.76 63.421 Q2316.94 67.4314 2324.35 67.4314 Q2328.64 67.4314 2332.65 66.3781 Q2336.7 65.3249 2340.67 63.2184 L2340.67 70.267 Q2336.66 71.9684 2332.45 72.8596 Q2328.24 73.7508 2323.9 73.7508 Q2313.05 73.7508 2306.69 67.4314 Q2300.37 61.1119 2300.37 50.3365 Q2300.37 39.1965 2306.36 32.6746 Q2312.4 26.1121 2322.61 26.1121 Q2331.76 26.1121 2337.07 32.0264 Q2342.42 37.9003 2342.42 48.0275 M2334.96 45.84 Q2334.88 39.7232 2331.52 36.0774 Q2328.2 32.4315 2322.69 32.4315 Q2316.45 32.4315 2312.68 35.9558 Q2308.96 39.4801 2308.39 45.8805 L2334.96 45.84 Z\" fill=\"#000000\" fill-rule=\"evenodd\" fill-opacity=\"1\" /><polyline clip-path=\"url(#clip952)\" style=\"stroke:#009af9; stroke-linecap:butt; stroke-linejoin:round; stroke-width:4; stroke-opacity:1; fill:none\" points=\"\n  336.351,1374.46 1424.36,1287.71 1641.96,1027.45 2077.16,680.431 2277.36,420.17 2294.03,159.909 \n  \"/>\n<circle clip-path=\"url(#clip952)\" cx=\"336.351\" cy=\"1374.46\" r=\"14\" fill=\"#e26f46\" fill-rule=\"evenodd\" fill-opacity=\"1\" stroke=\"#000000\" stroke-opacity=\"1\" stroke-width=\"3.2\"/>\n<circle clip-path=\"url(#clip952)\" cx=\"1424.36\" cy=\"1287.71\" r=\"14\" fill=\"#e26f46\" fill-rule=\"evenodd\" fill-opacity=\"1\" stroke=\"#000000\" stroke-opacity=\"1\" stroke-width=\"3.2\"/>\n<circle clip-path=\"url(#clip952)\" cx=\"1641.96\" cy=\"1027.45\" r=\"14\" fill=\"#e26f46\" fill-rule=\"evenodd\" fill-opacity=\"1\" stroke=\"#000000\" stroke-opacity=\"1\" stroke-width=\"3.2\"/>\n<circle clip-path=\"url(#clip952)\" cx=\"2077.16\" cy=\"680.431\" r=\"14\" fill=\"#e26f46\" fill-rule=\"evenodd\" fill-opacity=\"1\" stroke=\"#000000\" stroke-opacity=\"1\" stroke-width=\"3.2\"/>\n<circle clip-path=\"url(#clip952)\" cx=\"2277.36\" cy=\"420.17\" r=\"14\" fill=\"#e26f46\" fill-rule=\"evenodd\" fill-opacity=\"1\" stroke=\"#000000\" stroke-opacity=\"1\" stroke-width=\"3.2\"/>\n<circle clip-path=\"url(#clip952)\" cx=\"2294.03\" cy=\"159.909\" r=\"14\" fill=\"#e26f46\" fill-rule=\"evenodd\" fill-opacity=\"1\" stroke=\"#000000\" stroke-opacity=\"1\" stroke-width=\"3.2\"/>\n</svg>\n"
     },
     "execution_count": 65,
     "metadata": {},
     "output_type": "execute_result"
    }
   ],
   "source": [
    "xlabel!(\"Number of Pirates\")\n",
    "ylabel!(\"Global Temprature (C)\")\n",
    "title!(\"Influence of pirate population on the temperature\")"
   ]
  },
  {
   "cell_type": "markdown",
   "metadata": {},
   "source": [
    "We can also create subplots within a single plot, as we can see in the code below:"
   ]
  },
  {
   "cell_type": "code",
   "execution_count": 66,
   "metadata": {},
   "outputs": [
    {
     "data": {
      "image/svg+xml": "<?xml version=\"1.0\" encoding=\"utf-8\"?>\n<svg xmlns=\"http://www.w3.org/2000/svg\" xmlns:xlink=\"http://www.w3.org/1999/xlink\" width=\"600\" height=\"400\" viewBox=\"0 0 2400 1600\">\n<defs>\n  <clipPath id=\"clip990\">\n    <rect x=\"0\" y=\"0\" width=\"2400\" height=\"1600\"/>\n  </clipPath>\n</defs>\n<path clip-path=\"url(#clip990)\" d=\"\nM0 1600 L2400 1600 L2400 0 L0 0  Z\n  \" fill=\"#ffffff\" fill-rule=\"evenodd\" fill-opacity=\"1\"/>\n<defs>\n  <clipPath id=\"clip991\">\n    <rect x=\"480\" y=\"0\" width=\"1681\" height=\"1600\"/>\n  </clipPath>\n</defs>\n<path clip-path=\"url(#clip990)\" d=\"\nM178.867 686.448 L1171.26 686.448 L1171.26 47.2441 L178.867 47.2441  Z\n  \" fill=\"#ffffff\" fill-rule=\"evenodd\" fill-opacity=\"1\"/>\n<defs>\n  <clipPath id=\"clip992\">\n    <rect x=\"178\" y=\"47\" width=\"993\" height=\"640\"/>\n  </clipPath>\n</defs>\n<polyline clip-path=\"url(#clip992)\" style=\"stroke:#000000; stroke-linecap:butt; stroke-linejoin:round; stroke-width:2; stroke-opacity:0.1; fill:none\" points=\"\n  206.953,686.448 206.953,47.2441 \n  \"/>\n<polyline clip-path=\"url(#clip992)\" style=\"stroke:#000000; stroke-linecap:butt; stroke-linejoin:round; stroke-width:2; stroke-opacity:0.1; fill:none\" points=\"\n  362.99,686.448 362.99,47.2441 \n  \"/>\n<polyline clip-path=\"url(#clip992)\" style=\"stroke:#000000; stroke-linecap:butt; stroke-linejoin:round; stroke-width:2; stroke-opacity:0.1; fill:none\" points=\"\n  519.028,686.448 519.028,47.2441 \n  \"/>\n<polyline clip-path=\"url(#clip992)\" style=\"stroke:#000000; stroke-linecap:butt; stroke-linejoin:round; stroke-width:2; stroke-opacity:0.1; fill:none\" points=\"\n  675.065,686.448 675.065,47.2441 \n  \"/>\n<polyline clip-path=\"url(#clip992)\" style=\"stroke:#000000; stroke-linecap:butt; stroke-linejoin:round; stroke-width:2; stroke-opacity:0.1; fill:none\" points=\"\n  831.102,686.448 831.102,47.2441 \n  \"/>\n<polyline clip-path=\"url(#clip992)\" style=\"stroke:#000000; stroke-linecap:butt; stroke-linejoin:round; stroke-width:2; stroke-opacity:0.1; fill:none\" points=\"\n  987.139,686.448 987.139,47.2441 \n  \"/>\n<polyline clip-path=\"url(#clip992)\" style=\"stroke:#000000; stroke-linecap:butt; stroke-linejoin:round; stroke-width:2; stroke-opacity:0.1; fill:none\" points=\"\n  1143.18,686.448 1143.18,47.2441 \n  \"/>\n<polyline clip-path=\"url(#clip990)\" style=\"stroke:#000000; stroke-linecap:butt; stroke-linejoin:round; stroke-width:4; stroke-opacity:1; fill:none\" points=\"\n  178.867,686.448 1171.26,686.448 \n  \"/>\n<polyline clip-path=\"url(#clip990)\" style=\"stroke:#000000; stroke-linecap:butt; stroke-linejoin:round; stroke-width:4; stroke-opacity:1; fill:none\" points=\"\n  206.953,686.448 206.953,667.55 \n  \"/>\n<polyline clip-path=\"url(#clip990)\" style=\"stroke:#000000; stroke-linecap:butt; stroke-linejoin:round; stroke-width:4; stroke-opacity:1; fill:none\" points=\"\n  362.99,686.448 362.99,667.55 \n  \"/>\n<polyline clip-path=\"url(#clip990)\" style=\"stroke:#000000; stroke-linecap:butt; stroke-linejoin:round; stroke-width:4; stroke-opacity:1; fill:none\" points=\"\n  519.028,686.448 519.028,667.55 \n  \"/>\n<polyline clip-path=\"url(#clip990)\" style=\"stroke:#000000; stroke-linecap:butt; stroke-linejoin:round; stroke-width:4; stroke-opacity:1; fill:none\" points=\"\n  675.065,686.448 675.065,667.55 \n  \"/>\n<polyline clip-path=\"url(#clip990)\" style=\"stroke:#000000; stroke-linecap:butt; stroke-linejoin:round; stroke-width:4; stroke-opacity:1; fill:none\" points=\"\n  831.102,686.448 831.102,667.55 \n  \"/>\n<polyline clip-path=\"url(#clip990)\" style=\"stroke:#000000; stroke-linecap:butt; stroke-linejoin:round; stroke-width:4; stroke-opacity:1; fill:none\" points=\"\n  987.139,686.448 987.139,667.55 \n  \"/>\n<polyline clip-path=\"url(#clip990)\" style=\"stroke:#000000; stroke-linecap:butt; stroke-linejoin:round; stroke-width:4; stroke-opacity:1; fill:none\" points=\"\n  1143.18,686.448 1143.18,667.55 \n  \"/>\n<path clip-path=\"url(#clip990)\" d=\"M176.421 732.019 L206.097 732.019 L206.097 735.954 L176.421 735.954 L176.421 732.019 Z\" fill=\"#000000\" fill-rule=\"evenodd\" fill-opacity=\"1\" /><path clip-path=\"url(#clip990)\" d=\"M230.356 730.214 Q233.712 730.931 235.587 733.2 Q237.486 735.468 237.486 738.802 Q237.486 743.917 233.967 746.718 Q230.449 749.519 223.967 749.519 Q221.791 749.519 219.476 749.079 Q217.185 748.663 214.731 747.806 L214.731 743.292 Q216.675 744.427 218.99 745.005 Q221.305 745.584 223.828 745.584 Q228.226 745.584 230.518 743.848 Q232.833 742.112 232.833 738.802 Q232.833 735.746 230.68 734.033 Q228.55 732.297 224.731 732.297 L220.703 732.297 L220.703 728.454 L224.916 728.454 Q228.365 728.454 230.194 727.089 Q232.023 725.7 232.023 723.107 Q232.023 720.445 230.124 719.033 Q228.249 717.598 224.731 717.598 Q222.81 717.598 220.611 718.015 Q218.412 718.431 215.773 719.311 L215.773 715.144 Q218.435 714.404 220.75 714.033 Q223.087 713.663 225.148 713.663 Q230.472 713.663 233.574 716.093 Q236.675 718.501 236.675 722.621 Q236.675 725.492 235.032 727.482 Q233.388 729.45 230.356 730.214 Z\" fill=\"#000000\" fill-rule=\"evenodd\" fill-opacity=\"1\" /><path clip-path=\"url(#clip990)\" d=\"M332.933 732.019 L362.608 732.019 L362.608 735.954 L332.933 735.954 L332.933 732.019 Z\" fill=\"#000000\" fill-rule=\"evenodd\" fill-opacity=\"1\" /><path clip-path=\"url(#clip990)\" d=\"M376.729 744.913 L393.048 744.913 L393.048 748.848 L371.104 748.848 L371.104 744.913 Q373.766 742.158 378.349 737.528 Q382.956 732.876 384.136 731.533 Q386.382 729.01 387.261 727.274 Q388.164 725.515 388.164 723.825 Q388.164 721.07 386.219 719.334 Q384.298 717.598 381.196 717.598 Q378.997 717.598 376.544 718.362 Q374.113 719.126 371.335 720.677 L371.335 715.955 Q374.159 714.82 376.613 714.242 Q379.067 713.663 381.104 713.663 Q386.474 713.663 389.669 716.348 Q392.863 719.033 392.863 723.524 Q392.863 725.654 392.053 727.575 Q391.266 729.473 389.159 732.066 Q388.581 732.737 385.479 735.954 Q382.377 739.149 376.729 744.913 Z\" fill=\"#000000\" fill-rule=\"evenodd\" fill-opacity=\"1\" /><path clip-path=\"url(#clip990)\" d=\"M488.785 732.019 L518.46 732.019 L518.46 735.954 L488.785 735.954 L488.785 732.019 Z\" fill=\"#000000\" fill-rule=\"evenodd\" fill-opacity=\"1\" /><path clip-path=\"url(#clip990)\" d=\"M529.363 744.913 L537.002 744.913 L537.002 718.547 L528.692 720.214 L528.692 715.955 L536.956 714.288 L541.632 714.288 L541.632 744.913 L549.27 744.913 L549.27 748.848 L529.363 748.848 L529.363 744.913 Z\" fill=\"#000000\" fill-rule=\"evenodd\" fill-opacity=\"1\" /><path clip-path=\"url(#clip990)\" d=\"M675.065 717.367 Q671.454 717.367 669.625 720.931 Q667.819 724.473 667.819 731.603 Q667.819 738.709 669.625 742.274 Q671.454 745.815 675.065 745.815 Q678.699 745.815 680.504 742.274 Q682.333 738.709 682.333 731.603 Q682.333 724.473 680.504 720.931 Q678.699 717.367 675.065 717.367 M675.065 713.663 Q680.875 713.663 683.93 718.269 Q687.009 722.853 687.009 731.603 Q687.009 740.329 683.93 744.936 Q680.875 749.519 675.065 749.519 Q669.255 749.519 666.176 744.936 Q663.12 740.329 663.12 731.603 Q663.12 722.853 666.176 718.269 Q669.255 713.663 675.065 713.663 Z\" fill=\"#000000\" fill-rule=\"evenodd\" fill-opacity=\"1\" /><path clip-path=\"url(#clip990)\" d=\"M821.484 744.913 L829.123 744.913 L829.123 718.547 L820.813 720.214 L820.813 715.955 L829.076 714.288 L833.752 714.288 L833.752 744.913 L841.391 744.913 L841.391 748.848 L821.484 748.848 L821.484 744.913 Z\" fill=\"#000000\" fill-rule=\"evenodd\" fill-opacity=\"1\" /><path clip-path=\"url(#clip990)\" d=\"M981.792 744.913 L998.111 744.913 L998.111 748.848 L976.167 748.848 L976.167 744.913 Q978.829 742.158 983.412 737.528 Q988.019 732.876 989.199 731.533 Q991.444 729.01 992.324 727.274 Q993.227 725.515 993.227 723.825 Q993.227 721.07 991.282 719.334 Q989.361 717.598 986.259 717.598 Q984.06 717.598 981.607 718.362 Q979.176 719.126 976.398 720.677 L976.398 715.955 Q979.222 714.82 981.676 714.242 Q984.13 713.663 986.167 713.663 Q991.537 713.663 994.731 716.348 Q997.926 719.033 997.926 723.524 Q997.926 725.654 997.116 727.575 Q996.329 729.473 994.222 732.066 Q993.644 732.737 990.542 735.954 Q987.44 739.149 981.792 744.913 Z\" fill=\"#000000\" fill-rule=\"evenodd\" fill-opacity=\"1\" /><path clip-path=\"url(#clip990)\" d=\"M1147.42 730.214 Q1150.78 730.931 1152.66 733.2 Q1154.55 735.468 1154.55 738.802 Q1154.55 743.917 1151.03 746.718 Q1147.52 749.519 1141.03 749.519 Q1138.86 749.519 1136.54 749.079 Q1134.25 748.663 1131.8 747.806 L1131.8 743.292 Q1133.74 744.427 1136.06 745.005 Q1138.37 745.584 1140.9 745.584 Q1145.29 745.584 1147.59 743.848 Q1149.9 742.112 1149.9 738.802 Q1149.9 735.746 1147.75 734.033 Q1145.62 732.297 1141.8 732.297 L1137.77 732.297 L1137.77 728.454 L1141.98 728.454 Q1145.43 728.454 1147.26 727.089 Q1149.09 725.7 1149.09 723.107 Q1149.09 720.445 1147.19 719.033 Q1145.32 717.598 1141.8 717.598 Q1139.88 717.598 1137.68 718.015 Q1135.48 718.431 1132.84 719.311 L1132.84 715.144 Q1135.5 714.404 1137.82 714.033 Q1140.16 713.663 1142.22 713.663 Q1147.54 713.663 1150.64 716.093 Q1153.74 718.501 1153.74 722.621 Q1153.74 725.492 1152.1 727.482 Q1150.46 729.45 1147.42 730.214 Z\" fill=\"#000000\" fill-rule=\"evenodd\" fill-opacity=\"1\" /><polyline clip-path=\"url(#clip992)\" style=\"stroke:#000000; stroke-linecap:butt; stroke-linejoin:round; stroke-width:2; stroke-opacity:0.1; fill:none\" points=\"\n  178.867,668.357 1171.26,668.357 \n  \"/>\n<polyline clip-path=\"url(#clip992)\" style=\"stroke:#000000; stroke-linecap:butt; stroke-linejoin:round; stroke-width:2; stroke-opacity:0.1; fill:none\" points=\"\n  178.867,567.853 1171.26,567.853 \n  \"/>\n<polyline clip-path=\"url(#clip992)\" style=\"stroke:#000000; stroke-linecap:butt; stroke-linejoin:round; stroke-width:2; stroke-opacity:0.1; fill:none\" points=\"\n  178.867,467.35 1171.26,467.35 \n  \"/>\n<polyline clip-path=\"url(#clip992)\" style=\"stroke:#000000; stroke-linecap:butt; stroke-linejoin:round; stroke-width:2; stroke-opacity:0.1; fill:none\" points=\"\n  178.867,366.846 1171.26,366.846 \n  \"/>\n<polyline clip-path=\"url(#clip992)\" style=\"stroke:#000000; stroke-linecap:butt; stroke-linejoin:round; stroke-width:2; stroke-opacity:0.1; fill:none\" points=\"\n  178.867,266.342 1171.26,266.342 \n  \"/>\n<polyline clip-path=\"url(#clip992)\" style=\"stroke:#000000; stroke-linecap:butt; stroke-linejoin:round; stroke-width:2; stroke-opacity:0.1; fill:none\" points=\"\n  178.867,165.839 1171.26,165.839 \n  \"/>\n<polyline clip-path=\"url(#clip992)\" style=\"stroke:#000000; stroke-linecap:butt; stroke-linejoin:round; stroke-width:2; stroke-opacity:0.1; fill:none\" points=\"\n  178.867,65.3348 1171.26,65.3348 \n  \"/>\n<polyline clip-path=\"url(#clip990)\" style=\"stroke:#000000; stroke-linecap:butt; stroke-linejoin:round; stroke-width:4; stroke-opacity:1; fill:none\" points=\"\n  178.867,686.448 178.867,47.2441 \n  \"/>\n<polyline clip-path=\"url(#clip990)\" style=\"stroke:#000000; stroke-linecap:butt; stroke-linejoin:round; stroke-width:4; stroke-opacity:1; fill:none\" points=\"\n  178.867,668.357 197.764,668.357 \n  \"/>\n<polyline clip-path=\"url(#clip990)\" style=\"stroke:#000000; stroke-linecap:butt; stroke-linejoin:round; stroke-width:4; stroke-opacity:1; fill:none\" points=\"\n  178.867,567.853 197.764,567.853 \n  \"/>\n<polyline clip-path=\"url(#clip990)\" style=\"stroke:#000000; stroke-linecap:butt; stroke-linejoin:round; stroke-width:4; stroke-opacity:1; fill:none\" points=\"\n  178.867,467.35 197.764,467.35 \n  \"/>\n<polyline clip-path=\"url(#clip990)\" style=\"stroke:#000000; stroke-linecap:butt; stroke-linejoin:round; stroke-width:4; stroke-opacity:1; fill:none\" points=\"\n  178.867,366.846 197.764,366.846 \n  \"/>\n<polyline clip-path=\"url(#clip990)\" style=\"stroke:#000000; stroke-linecap:butt; stroke-linejoin:round; stroke-width:4; stroke-opacity:1; fill:none\" points=\"\n  178.867,266.342 197.764,266.342 \n  \"/>\n<polyline clip-path=\"url(#clip990)\" style=\"stroke:#000000; stroke-linecap:butt; stroke-linejoin:round; stroke-width:4; stroke-opacity:1; fill:none\" points=\"\n  178.867,165.839 197.764,165.839 \n  \"/>\n<polyline clip-path=\"url(#clip990)\" style=\"stroke:#000000; stroke-linecap:butt; stroke-linejoin:round; stroke-width:4; stroke-opacity:1; fill:none\" points=\"\n  178.867,65.3348 197.764,65.3348 \n  \"/>\n<path clip-path=\"url(#clip990)\" d=\"M81.8021 668.809 L111.478 668.809 L111.478 672.744 L81.8021 672.744 L81.8021 668.809 Z\" fill=\"#000000\" fill-rule=\"evenodd\" fill-opacity=\"1\" /><path clip-path=\"url(#clip990)\" d=\"M135.737 667.003 Q139.094 667.721 140.968 669.989 Q142.867 672.258 142.867 675.591 Q142.867 680.707 139.348 683.508 Q135.83 686.308 129.348 686.308 Q127.172 686.308 124.857 685.869 Q122.566 685.452 120.112 684.596 L120.112 680.082 Q122.057 681.216 124.371 681.795 Q126.686 682.373 129.209 682.373 Q133.607 682.373 135.899 680.637 Q138.214 678.901 138.214 675.591 Q138.214 672.535 136.061 670.822 Q133.931 669.086 130.112 669.086 L126.084 669.086 L126.084 665.244 L130.297 665.244 Q133.746 665.244 135.575 663.878 Q137.404 662.489 137.404 659.897 Q137.404 657.235 135.506 655.823 Q133.631 654.387 130.112 654.387 Q128.191 654.387 125.992 654.804 Q123.793 655.221 121.154 656.1 L121.154 651.934 Q123.816 651.193 126.131 650.823 Q128.469 650.452 130.529 650.452 Q135.853 650.452 138.955 652.883 Q142.056 655.29 142.056 659.41 Q142.056 662.281 140.413 664.272 Q138.769 666.239 135.737 667.003 Z\" fill=\"#000000\" fill-rule=\"evenodd\" fill-opacity=\"1\" /><path clip-path=\"url(#clip990)\" d=\"M82.7512 568.305 L112.427 568.305 L112.427 572.24 L82.7512 572.24 L82.7512 568.305 Z\" fill=\"#000000\" fill-rule=\"evenodd\" fill-opacity=\"1\" /><path clip-path=\"url(#clip990)\" d=\"M126.547 581.198 L142.867 581.198 L142.867 585.133 L120.922 585.133 L120.922 581.198 Q123.584 578.444 128.168 573.814 Q132.774 569.161 133.955 567.819 Q136.2 565.296 137.08 563.56 Q137.982 561.8 137.982 560.11 Q137.982 557.356 136.038 555.62 Q134.117 553.884 131.015 553.884 Q128.816 553.884 126.362 554.648 Q123.932 555.411 121.154 556.962 L121.154 552.24 Q123.978 551.106 126.432 550.527 Q128.885 549.948 130.922 549.948 Q136.293 549.948 139.487 552.634 Q142.681 555.319 142.681 559.81 Q142.681 561.939 141.871 563.86 Q141.084 565.759 138.978 568.351 Q138.399 569.022 135.297 572.24 Q132.195 575.434 126.547 581.198 Z\" fill=\"#000000\" fill-rule=\"evenodd\" fill-opacity=\"1\" /><path clip-path=\"url(#clip990)\" d=\"M82.3808 467.801 L112.057 467.801 L112.057 471.736 L82.3808 471.736 L82.3808 467.801 Z\" fill=\"#000000\" fill-rule=\"evenodd\" fill-opacity=\"1\" /><path clip-path=\"url(#clip990)\" d=\"M122.959 480.695 L130.598 480.695 L130.598 454.329 L122.288 455.996 L122.288 451.736 L130.552 450.07 L135.228 450.07 L135.228 480.695 L142.867 480.695 L142.867 484.63 L122.959 484.63 L122.959 480.695 Z\" fill=\"#000000\" fill-rule=\"evenodd\" fill-opacity=\"1\" /><path clip-path=\"url(#clip990)\" d=\"M130.922 352.645 Q127.311 352.645 125.482 356.209 Q123.677 359.751 123.677 366.881 Q123.677 373.987 125.482 377.552 Q127.311 381.094 130.922 381.094 Q134.556 381.094 136.362 377.552 Q138.191 373.987 138.191 366.881 Q138.191 359.751 136.362 356.209 Q134.556 352.645 130.922 352.645 M130.922 348.941 Q136.732 348.941 139.788 353.547 Q142.867 358.131 142.867 366.881 Q142.867 375.608 139.788 380.214 Q136.732 384.797 130.922 384.797 Q125.112 384.797 122.033 380.214 Q118.978 375.608 118.978 366.881 Q118.978 358.131 122.033 353.547 Q125.112 348.941 130.922 348.941 Z\" fill=\"#000000\" fill-rule=\"evenodd\" fill-opacity=\"1\" /><path clip-path=\"url(#clip990)\" d=\"M122.959 279.687 L130.598 279.687 L130.598 253.321 L122.288 254.988 L122.288 250.729 L130.552 249.062 L135.228 249.062 L135.228 279.687 L142.867 279.687 L142.867 283.622 L122.959 283.622 L122.959 279.687 Z\" fill=\"#000000\" fill-rule=\"evenodd\" fill-opacity=\"1\" /><path clip-path=\"url(#clip990)\" d=\"M126.547 179.183 L142.867 179.183 L142.867 183.119 L120.922 183.119 L120.922 179.183 Q123.584 176.429 128.168 171.799 Q132.774 167.146 133.955 165.804 Q136.2 163.281 137.08 161.545 Q137.982 159.785 137.982 158.095 Q137.982 155.341 136.038 153.605 Q134.117 151.869 131.015 151.869 Q128.816 151.869 126.362 152.633 Q123.932 153.396 121.154 154.947 L121.154 150.225 Q123.978 149.091 126.432 148.512 Q128.885 147.934 130.922 147.934 Q136.293 147.934 139.487 150.619 Q142.681 153.304 142.681 157.795 Q142.681 159.924 141.871 161.845 Q141.084 163.744 138.978 166.336 Q138.399 167.007 135.297 170.225 Q132.195 173.419 126.547 179.183 Z\" fill=\"#000000\" fill-rule=\"evenodd\" fill-opacity=\"1\" /><path clip-path=\"url(#clip990)\" d=\"M135.737 63.9806 Q139.094 64.6982 140.968 66.9667 Q142.867 69.2352 142.867 72.5685 Q142.867 77.6842 139.348 80.4851 Q135.83 83.2861 129.348 83.2861 Q127.172 83.2861 124.857 82.8462 Q122.566 82.4296 120.112 81.5731 L120.112 77.0592 Q122.057 78.1935 124.371 78.7722 Q126.686 79.3509 129.209 79.3509 Q133.607 79.3509 135.899 77.6148 Q138.214 75.8787 138.214 72.5685 Q138.214 69.513 136.061 67.8 Q133.931 66.0639 130.112 66.0639 L126.084 66.0639 L126.084 62.2214 L130.297 62.2214 Q133.746 62.2214 135.575 60.8556 Q137.404 59.4667 137.404 56.8742 Q137.404 54.2121 135.506 52.8001 Q133.631 51.3649 130.112 51.3649 Q128.191 51.3649 125.992 51.7816 Q123.793 52.1983 121.154 53.0779 L121.154 48.9112 Q123.816 48.1705 126.131 47.8001 Q128.469 47.4298 130.529 47.4298 Q135.853 47.4298 138.955 49.8603 Q142.056 52.2677 142.056 56.3881 Q142.056 59.2584 140.413 61.2491 Q138.769 63.2167 135.737 63.9806 Z\" fill=\"#000000\" fill-rule=\"evenodd\" fill-opacity=\"1\" /><polyline clip-path=\"url(#clip992)\" style=\"stroke:#009af9; stroke-linecap:butt; stroke-linejoin:round; stroke-width:4; stroke-opacity:1; fill:none\" points=\"\n  206.953,668.357 222.557,658.307 238.161,648.256 253.764,638.206 269.368,628.156 284.972,618.105 300.576,608.055 316.179,598.005 331.783,587.954 347.387,577.904 \n  362.99,567.853 378.594,557.803 394.198,547.753 409.802,537.702 425.405,527.652 441.009,517.602 456.613,507.551 472.216,497.501 487.82,487.45 503.424,477.4 \n  519.028,467.35 534.631,457.299 550.235,447.249 565.839,437.199 581.442,427.148 597.046,417.098 612.65,407.047 628.254,396.997 643.857,386.947 659.461,376.896 \n  675.065,366.846 690.668,356.796 706.272,346.745 721.876,336.695 737.48,326.644 753.083,316.594 768.687,306.544 784.291,296.493 799.894,286.443 815.498,276.393 \n  831.102,266.342 846.706,256.292 862.309,246.241 877.913,236.191 893.517,226.141 909.12,216.09 924.724,206.04 940.328,195.99 955.932,185.939 971.535,175.889 \n  987.139,165.839 1002.74,155.788 1018.35,145.738 1033.95,135.687 1049.55,125.637 1065.16,115.587 1080.76,105.536 1096.36,95.4859 1111.97,85.4355 1127.57,75.3851 \n  1143.18,65.3348 \n  \"/>\n<path clip-path=\"url(#clip990)\" d=\"\nM975.486 172.231 L1138.18 172.231 L1138.18 68.5509 L975.486 68.5509  Z\n  \" fill=\"#ffffff\" fill-rule=\"evenodd\" fill-opacity=\"1\"/>\n<polyline clip-path=\"url(#clip990)\" style=\"stroke:#000000; stroke-linecap:butt; stroke-linejoin:round; stroke-width:4; stroke-opacity:1; fill:none\" points=\"\n  975.486,172.231 1138.18,172.231 1138.18,68.5509 975.486,68.5509 975.486,172.231 \n  \"/>\n<polyline clip-path=\"url(#clip990)\" style=\"stroke:#009af9; stroke-linecap:butt; stroke-linejoin:round; stroke-width:4; stroke-opacity:1; fill:none\" points=\"\n  986.513,120.391 1052.67,120.391 \n  \"/>\n<path clip-path=\"url(#clip990)\" d=\"M1077.54 140.078 Q1075.74 144.708 1074.02 146.12 Q1072.31 147.532 1069.44 147.532 L1066.04 147.532 L1066.04 143.967 L1068.54 143.967 Q1070.3 143.967 1071.27 143.134 Q1072.24 142.3 1073.42 139.199 L1074.19 137.254 L1063.7 111.745 L1068.21 111.745 L1076.32 132.023 L1084.42 111.745 L1088.93 111.745 L1077.54 140.078 Z\" fill=\"#000000\" fill-rule=\"evenodd\" fill-opacity=\"1\" /><path clip-path=\"url(#clip990)\" d=\"M1096.22 133.736 L1103.86 133.736 L1103.86 107.37 L1095.55 109.037 L1095.55 104.778 L1103.81 103.111 L1108.49 103.111 L1108.49 133.736 L1116.13 133.736 L1116.13 137.671 L1096.22 137.671 L1096.22 133.736 Z\" fill=\"#000000\" fill-rule=\"evenodd\" fill-opacity=\"1\" /><path clip-path=\"url(#clip990)\" d=\"\nM1360.36 686.448 L2352.76 686.448 L2352.76 47.2441 L1360.36 47.2441  Z\n  \" fill=\"#ffffff\" fill-rule=\"evenodd\" fill-opacity=\"1\"/>\n<defs>\n  <clipPath id=\"clip993\">\n    <rect x=\"1360\" y=\"47\" width=\"993\" height=\"640\"/>\n  </clipPath>\n</defs>\n<polyline clip-path=\"url(#clip993)\" style=\"stroke:#000000; stroke-linecap:butt; stroke-linejoin:round; stroke-width:2; stroke-opacity:0.1; fill:none\" points=\"\n  1388.45,686.448 1388.45,47.2441 \n  \"/>\n<polyline clip-path=\"url(#clip993)\" style=\"stroke:#000000; stroke-linecap:butt; stroke-linejoin:round; stroke-width:2; stroke-opacity:0.1; fill:none\" points=\"\n  1544.48,686.448 1544.48,47.2441 \n  \"/>\n<polyline clip-path=\"url(#clip993)\" style=\"stroke:#000000; stroke-linecap:butt; stroke-linejoin:round; stroke-width:2; stroke-opacity:0.1; fill:none\" points=\"\n  1700.52,686.448 1700.52,47.2441 \n  \"/>\n<polyline clip-path=\"url(#clip993)\" style=\"stroke:#000000; stroke-linecap:butt; stroke-linejoin:round; stroke-width:2; stroke-opacity:0.1; fill:none\" points=\"\n  1856.56,686.448 1856.56,47.2441 \n  \"/>\n<polyline clip-path=\"url(#clip993)\" style=\"stroke:#000000; stroke-linecap:butt; stroke-linejoin:round; stroke-width:2; stroke-opacity:0.1; fill:none\" points=\"\n  2012.59,686.448 2012.59,47.2441 \n  \"/>\n<polyline clip-path=\"url(#clip993)\" style=\"stroke:#000000; stroke-linecap:butt; stroke-linejoin:round; stroke-width:2; stroke-opacity:0.1; fill:none\" points=\"\n  2168.63,686.448 2168.63,47.2441 \n  \"/>\n<polyline clip-path=\"url(#clip993)\" style=\"stroke:#000000; stroke-linecap:butt; stroke-linejoin:round; stroke-width:2; stroke-opacity:0.1; fill:none\" points=\"\n  2324.67,686.448 2324.67,47.2441 \n  \"/>\n<polyline clip-path=\"url(#clip990)\" style=\"stroke:#000000; stroke-linecap:butt; stroke-linejoin:round; stroke-width:4; stroke-opacity:1; fill:none\" points=\"\n  1360.36,686.448 2352.76,686.448 \n  \"/>\n<polyline clip-path=\"url(#clip990)\" style=\"stroke:#000000; stroke-linecap:butt; stroke-linejoin:round; stroke-width:4; stroke-opacity:1; fill:none\" points=\"\n  1388.45,686.448 1388.45,667.55 \n  \"/>\n<polyline clip-path=\"url(#clip990)\" style=\"stroke:#000000; stroke-linecap:butt; stroke-linejoin:round; stroke-width:4; stroke-opacity:1; fill:none\" points=\"\n  1544.48,686.448 1544.48,667.55 \n  \"/>\n<polyline clip-path=\"url(#clip990)\" style=\"stroke:#000000; stroke-linecap:butt; stroke-linejoin:round; stroke-width:4; stroke-opacity:1; fill:none\" points=\"\n  1700.52,686.448 1700.52,667.55 \n  \"/>\n<polyline clip-path=\"url(#clip990)\" style=\"stroke:#000000; stroke-linecap:butt; stroke-linejoin:round; stroke-width:4; stroke-opacity:1; fill:none\" points=\"\n  1856.56,686.448 1856.56,667.55 \n  \"/>\n<polyline clip-path=\"url(#clip990)\" style=\"stroke:#000000; stroke-linecap:butt; stroke-linejoin:round; stroke-width:4; stroke-opacity:1; fill:none\" points=\"\n  2012.59,686.448 2012.59,667.55 \n  \"/>\n<polyline clip-path=\"url(#clip990)\" style=\"stroke:#000000; stroke-linecap:butt; stroke-linejoin:round; stroke-width:4; stroke-opacity:1; fill:none\" points=\"\n  2168.63,686.448 2168.63,667.55 \n  \"/>\n<polyline clip-path=\"url(#clip990)\" style=\"stroke:#000000; stroke-linecap:butt; stroke-linejoin:round; stroke-width:4; stroke-opacity:1; fill:none\" points=\"\n  2324.67,686.448 2324.67,667.55 \n  \"/>\n<path clip-path=\"url(#clip990)\" d=\"M1357.91 732.019 L1387.59 732.019 L1387.59 735.954 L1357.91 735.954 L1357.91 732.019 Z\" fill=\"#000000\" fill-rule=\"evenodd\" fill-opacity=\"1\" /><path clip-path=\"url(#clip990)\" d=\"M1411.85 730.214 Q1415.21 730.931 1417.08 733.2 Q1418.98 735.468 1418.98 738.802 Q1418.98 743.917 1415.46 746.718 Q1411.94 749.519 1405.46 749.519 Q1403.28 749.519 1400.97 749.079 Q1398.68 748.663 1396.22 747.806 L1396.22 743.292 Q1398.17 744.427 1400.48 745.005 Q1402.8 745.584 1405.32 745.584 Q1409.72 745.584 1412.01 743.848 Q1414.33 742.112 1414.33 738.802 Q1414.33 735.746 1412.17 734.033 Q1410.04 732.297 1406.22 732.297 L1402.2 732.297 L1402.2 728.454 L1406.41 728.454 Q1409.86 728.454 1411.69 727.089 Q1413.52 725.7 1413.52 723.107 Q1413.52 720.445 1411.62 719.033 Q1409.74 717.598 1406.22 717.598 Q1404.3 717.598 1402.1 718.015 Q1399.9 718.431 1397.27 719.311 L1397.27 715.144 Q1399.93 714.404 1402.24 714.033 Q1404.58 713.663 1406.64 713.663 Q1411.96 713.663 1415.07 716.093 Q1418.17 718.501 1418.17 722.621 Q1418.17 725.492 1416.53 727.482 Q1414.88 729.45 1411.85 730.214 Z\" fill=\"#000000\" fill-rule=\"evenodd\" fill-opacity=\"1\" /><path clip-path=\"url(#clip990)\" d=\"M1514.43 732.019 L1544.1 732.019 L1544.1 735.954 L1514.43 735.954 L1514.43 732.019 Z\" fill=\"#000000\" fill-rule=\"evenodd\" fill-opacity=\"1\" /><path clip-path=\"url(#clip990)\" d=\"M1558.22 744.913 L1574.54 744.913 L1574.54 748.848 L1552.6 748.848 L1552.6 744.913 Q1555.26 742.158 1559.84 737.528 Q1564.45 732.876 1565.63 731.533 Q1567.87 729.01 1568.75 727.274 Q1569.66 725.515 1569.66 723.825 Q1569.66 721.07 1567.71 719.334 Q1565.79 717.598 1562.69 717.598 Q1560.49 717.598 1558.04 718.362 Q1555.61 719.126 1552.83 720.677 L1552.83 715.955 Q1555.65 714.82 1558.11 714.242 Q1560.56 713.663 1562.6 713.663 Q1567.97 713.663 1571.16 716.348 Q1574.36 719.033 1574.36 723.524 Q1574.36 725.654 1573.55 727.575 Q1572.76 729.473 1570.65 732.066 Q1570.07 732.737 1566.97 735.954 Q1563.87 739.149 1558.22 744.913 Z\" fill=\"#000000\" fill-rule=\"evenodd\" fill-opacity=\"1\" /><path clip-path=\"url(#clip990)\" d=\"M1670.28 732.019 L1699.95 732.019 L1699.95 735.954 L1670.28 735.954 L1670.28 732.019 Z\" fill=\"#000000\" fill-rule=\"evenodd\" fill-opacity=\"1\" /><path clip-path=\"url(#clip990)\" d=\"M1710.86 744.913 L1718.5 744.913 L1718.5 718.547 L1710.19 720.214 L1710.19 715.955 L1718.45 714.288 L1723.12 714.288 L1723.12 744.913 L1730.76 744.913 L1730.76 748.848 L1710.86 748.848 L1710.86 744.913 Z\" fill=\"#000000\" fill-rule=\"evenodd\" fill-opacity=\"1\" /><path clip-path=\"url(#clip990)\" d=\"M1856.56 717.367 Q1852.95 717.367 1851.12 720.931 Q1849.31 724.473 1849.31 731.603 Q1849.31 738.709 1851.12 742.274 Q1852.95 745.815 1856.56 745.815 Q1860.19 745.815 1862 742.274 Q1863.83 738.709 1863.83 731.603 Q1863.83 724.473 1862 720.931 Q1860.19 717.367 1856.56 717.367 M1856.56 713.663 Q1862.37 713.663 1865.42 718.269 Q1868.5 722.853 1868.5 731.603 Q1868.5 740.329 1865.42 744.936 Q1862.37 749.519 1856.56 749.519 Q1850.75 749.519 1847.67 744.936 Q1844.61 740.329 1844.61 731.603 Q1844.61 722.853 1847.67 718.269 Q1850.75 713.663 1856.56 713.663 Z\" fill=\"#000000\" fill-rule=\"evenodd\" fill-opacity=\"1\" /><path clip-path=\"url(#clip990)\" d=\"M2002.98 744.913 L2010.62 744.913 L2010.62 718.547 L2002.31 720.214 L2002.31 715.955 L2010.57 714.288 L2015.25 714.288 L2015.25 744.913 L2022.88 744.913 L2022.88 748.848 L2002.98 748.848 L2002.98 744.913 Z\" fill=\"#000000\" fill-rule=\"evenodd\" fill-opacity=\"1\" /><path clip-path=\"url(#clip990)\" d=\"M2163.28 744.913 L2179.6 744.913 L2179.6 748.848 L2157.66 748.848 L2157.66 744.913 Q2160.32 742.158 2164.91 737.528 Q2169.51 732.876 2170.69 731.533 Q2172.94 729.01 2173.82 727.274 Q2174.72 725.515 2174.72 723.825 Q2174.72 721.07 2172.78 719.334 Q2170.85 717.598 2167.75 717.598 Q2165.55 717.598 2163.1 718.362 Q2160.67 719.126 2157.89 720.677 L2157.89 715.955 Q2160.72 714.82 2163.17 714.242 Q2165.62 713.663 2167.66 713.663 Q2173.03 713.663 2176.22 716.348 Q2179.42 719.033 2179.42 723.524 Q2179.42 725.654 2178.61 727.575 Q2177.82 729.473 2175.72 732.066 Q2175.14 732.737 2172.03 735.954 Q2168.93 739.149 2163.28 744.913 Z\" fill=\"#000000\" fill-rule=\"evenodd\" fill-opacity=\"1\" /><path clip-path=\"url(#clip990)\" d=\"M2328.92 730.214 Q2332.27 730.931 2334.15 733.2 Q2336.05 735.468 2336.05 738.802 Q2336.05 743.917 2332.53 746.718 Q2329.01 749.519 2322.53 749.519 Q2320.35 749.519 2318.04 749.079 Q2315.75 748.663 2313.29 747.806 L2313.29 743.292 Q2315.24 744.427 2317.55 745.005 Q2319.87 745.584 2322.39 745.584 Q2326.79 745.584 2329.08 743.848 Q2331.39 742.112 2331.39 738.802 Q2331.39 735.746 2329.24 734.033 Q2327.11 732.297 2323.29 732.297 L2319.26 732.297 L2319.26 728.454 L2323.48 728.454 Q2326.93 728.454 2328.75 727.089 Q2330.58 725.7 2330.58 723.107 Q2330.58 720.445 2328.69 719.033 Q2326.81 717.598 2323.29 717.598 Q2321.37 717.598 2319.17 718.015 Q2316.97 718.431 2314.33 719.311 L2314.33 715.144 Q2317 714.404 2319.31 714.033 Q2321.65 713.663 2323.71 713.663 Q2329.03 713.663 2332.13 716.093 Q2335.24 718.501 2335.24 722.621 Q2335.24 725.492 2333.59 727.482 Q2331.95 729.45 2328.92 730.214 Z\" fill=\"#000000\" fill-rule=\"evenodd\" fill-opacity=\"1\" /><polyline clip-path=\"url(#clip993)\" style=\"stroke:#000000; stroke-linecap:butt; stroke-linejoin:round; stroke-width:2; stroke-opacity:0.1; fill:none\" points=\"\n  1360.36,668.357 2352.76,668.357 \n  \"/>\n<polyline clip-path=\"url(#clip993)\" style=\"stroke:#000000; stroke-linecap:butt; stroke-linejoin:round; stroke-width:2; stroke-opacity:0.1; fill:none\" points=\"\n  1360.36,534.352 2352.76,534.352 \n  \"/>\n<polyline clip-path=\"url(#clip993)\" style=\"stroke:#000000; stroke-linecap:butt; stroke-linejoin:round; stroke-width:2; stroke-opacity:0.1; fill:none\" points=\"\n  1360.36,400.347 2352.76,400.347 \n  \"/>\n<polyline clip-path=\"url(#clip993)\" style=\"stroke:#000000; stroke-linecap:butt; stroke-linejoin:round; stroke-width:2; stroke-opacity:0.1; fill:none\" points=\"\n  1360.36,266.342 2352.76,266.342 \n  \"/>\n<polyline clip-path=\"url(#clip993)\" style=\"stroke:#000000; stroke-linecap:butt; stroke-linejoin:round; stroke-width:2; stroke-opacity:0.1; fill:none\" points=\"\n  1360.36,132.337 2352.76,132.337 \n  \"/>\n<polyline clip-path=\"url(#clip990)\" style=\"stroke:#000000; stroke-linecap:butt; stroke-linejoin:round; stroke-width:4; stroke-opacity:1; fill:none\" points=\"\n  1360.36,686.448 1360.36,47.2441 \n  \"/>\n<polyline clip-path=\"url(#clip990)\" style=\"stroke:#000000; stroke-linecap:butt; stroke-linejoin:round; stroke-width:4; stroke-opacity:1; fill:none\" points=\"\n  1360.36,668.357 1379.26,668.357 \n  \"/>\n<polyline clip-path=\"url(#clip990)\" style=\"stroke:#000000; stroke-linecap:butt; stroke-linejoin:round; stroke-width:4; stroke-opacity:1; fill:none\" points=\"\n  1360.36,534.352 1379.26,534.352 \n  \"/>\n<polyline clip-path=\"url(#clip990)\" style=\"stroke:#000000; stroke-linecap:butt; stroke-linejoin:round; stroke-width:4; stroke-opacity:1; fill:none\" points=\"\n  1360.36,400.347 1379.26,400.347 \n  \"/>\n<polyline clip-path=\"url(#clip990)\" style=\"stroke:#000000; stroke-linecap:butt; stroke-linejoin:round; stroke-width:4; stroke-opacity:1; fill:none\" points=\"\n  1360.36,266.342 1379.26,266.342 \n  \"/>\n<polyline clip-path=\"url(#clip990)\" style=\"stroke:#000000; stroke-linecap:butt; stroke-linejoin:round; stroke-width:4; stroke-opacity:1; fill:none\" points=\"\n  1360.36,132.337 1379.26,132.337 \n  \"/>\n<path clip-path=\"url(#clip990)\" d=\"M1312.42 654.156 Q1308.8 654.156 1306.98 657.721 Q1305.17 661.262 1305.17 668.392 Q1305.17 675.498 1306.98 679.063 Q1308.8 682.605 1312.42 682.605 Q1316.05 682.605 1317.86 679.063 Q1319.68 675.498 1319.68 668.392 Q1319.68 661.262 1317.86 657.721 Q1316.05 654.156 1312.42 654.156 M1312.42 650.452 Q1318.23 650.452 1321.28 655.059 Q1324.36 659.642 1324.36 668.392 Q1324.36 677.119 1321.28 681.725 Q1318.23 686.308 1312.42 686.308 Q1306.61 686.308 1303.53 681.725 Q1300.47 677.119 1300.47 668.392 Q1300.47 659.642 1303.53 655.059 Q1306.61 650.452 1312.42 650.452 Z\" fill=\"#000000\" fill-rule=\"evenodd\" fill-opacity=\"1\" /><path clip-path=\"url(#clip990)\" d=\"M1308.04 547.697 L1324.36 547.697 L1324.36 551.632 L1302.42 551.632 L1302.42 547.697 Q1305.08 544.942 1309.66 540.313 Q1314.27 535.66 1315.45 534.317 Q1317.69 531.794 1318.57 530.058 Q1319.48 528.299 1319.48 526.609 Q1319.48 523.855 1317.53 522.118 Q1315.61 520.382 1312.51 520.382 Q1310.31 520.382 1307.86 521.146 Q1305.42 521.91 1302.65 523.461 L1302.65 518.739 Q1305.47 517.605 1307.92 517.026 Q1310.38 516.447 1312.42 516.447 Q1317.79 516.447 1320.98 519.132 Q1324.17 521.818 1324.17 526.308 Q1324.17 528.438 1323.36 530.359 Q1322.58 532.257 1320.47 534.85 Q1319.89 535.521 1316.79 538.739 Q1313.69 541.933 1308.04 547.697 Z\" fill=\"#000000\" fill-rule=\"evenodd\" fill-opacity=\"1\" /><path clip-path=\"url(#clip990)\" d=\"M1314.78 387.141 L1302.97 405.59 L1314.78 405.59 L1314.78 387.141 M1313.55 383.067 L1319.43 383.067 L1319.43 405.59 L1324.36 405.59 L1324.36 409.479 L1319.43 409.479 L1319.43 417.627 L1314.78 417.627 L1314.78 409.479 L1299.17 409.479 L1299.17 404.965 L1313.55 383.067 Z\" fill=\"#000000\" fill-rule=\"evenodd\" fill-opacity=\"1\" /><path clip-path=\"url(#clip990)\" d=\"M1312.83 264.479 Q1309.68 264.479 1307.83 266.632 Q1306 268.784 1306 272.534 Q1306 276.261 1307.83 278.437 Q1309.68 280.59 1312.83 280.59 Q1315.98 280.59 1317.81 278.437 Q1319.66 276.261 1319.66 272.534 Q1319.66 268.784 1317.81 266.632 Q1315.98 264.479 1312.83 264.479 M1322.11 249.826 L1322.11 254.085 Q1320.36 253.252 1318.55 252.812 Q1316.77 252.372 1315.01 252.372 Q1310.38 252.372 1307.92 255.497 Q1305.49 258.622 1305.15 264.942 Q1306.51 262.928 1308.57 261.863 Q1310.63 260.775 1313.11 260.775 Q1318.32 260.775 1321.33 263.946 Q1324.36 267.095 1324.36 272.534 Q1324.36 277.858 1321.21 281.076 Q1318.06 284.294 1312.83 284.294 Q1306.84 284.294 1303.67 279.71 Q1300.49 275.104 1300.49 266.377 Q1300.49 258.183 1304.38 253.321 Q1308.27 248.437 1314.82 248.437 Q1316.58 248.437 1318.36 248.784 Q1320.17 249.132 1322.11 249.826 Z\" fill=\"#000000\" fill-rule=\"evenodd\" fill-opacity=\"1\" /><path clip-path=\"url(#clip990)\" d=\"M1312.51 133.205 Q1309.17 133.205 1307.25 134.988 Q1305.36 136.77 1305.36 139.895 Q1305.36 143.02 1307.25 144.802 Q1309.17 146.585 1312.51 146.585 Q1315.84 146.585 1317.76 144.802 Q1319.68 142.997 1319.68 139.895 Q1319.68 136.77 1317.76 134.988 Q1315.86 133.205 1312.51 133.205 M1307.83 131.215 Q1304.82 130.474 1303.13 128.414 Q1301.47 126.353 1301.47 123.391 Q1301.47 119.247 1304.41 116.84 Q1307.37 114.432 1312.51 114.432 Q1317.67 114.432 1320.61 116.84 Q1323.55 119.247 1323.55 123.391 Q1323.55 126.353 1321.86 128.414 Q1320.19 130.474 1317.21 131.215 Q1320.59 132.002 1322.46 134.293 Q1324.36 136.585 1324.36 139.895 Q1324.36 144.918 1321.28 147.603 Q1318.23 150.289 1312.51 150.289 Q1306.79 150.289 1303.71 147.603 Q1300.66 144.918 1300.66 139.895 Q1300.66 136.585 1302.55 134.293 Q1304.45 132.002 1307.83 131.215 M1306.12 123.83 Q1306.12 126.516 1307.79 128.02 Q1309.48 129.525 1312.51 129.525 Q1315.52 129.525 1317.21 128.02 Q1318.92 126.516 1318.92 123.83 Q1318.92 121.145 1317.21 119.641 Q1315.52 118.136 1312.51 118.136 Q1309.48 118.136 1307.79 119.641 Q1306.12 121.145 1306.12 123.83 Z\" fill=\"#000000\" fill-rule=\"evenodd\" fill-opacity=\"1\" /><polyline clip-path=\"url(#clip993)\" style=\"stroke:#009af9; stroke-linecap:butt; stroke-linejoin:round; stroke-width:4; stroke-opacity:1; fill:none\" points=\"\n  1388.45,65.3348 1404.05,104.866 1419.65,143.058 1435.26,179.909 1450.86,215.42 1466.47,249.592 1482.07,282.423 1497.67,313.914 1513.28,344.065 1528.88,372.876 \n  1544.48,400.347 1560.09,426.478 1575.69,451.269 1591.29,474.72 1606.9,496.831 1622.5,517.602 1638.11,537.032 1653.71,555.123 1669.31,571.874 1684.92,587.284 \n  1700.52,601.355 1716.12,614.085 1731.73,625.476 1747.33,635.526 1762.94,644.236 1778.54,651.607 1794.14,657.637 1809.75,662.327 1825.35,665.677 1840.95,667.687 \n  1856.56,668.357 1872.16,667.687 1887.77,665.677 1903.37,662.327 1918.97,657.637 1934.58,651.607 1950.18,644.236 1965.78,635.526 1981.39,625.476 1996.99,614.085 \n  2012.59,601.355 2028.2,587.284 2043.8,571.874 2059.41,555.123 2075.01,537.032 2090.61,517.602 2106.22,496.831 2121.82,474.72 2137.42,451.269 2153.03,426.478 \n  2168.63,400.347 2184.24,372.876 2199.84,344.065 2215.44,313.914 2231.05,282.423 2246.65,249.592 2262.25,215.42 2277.86,179.909 2293.46,143.058 2309.07,104.866 \n  2324.67,65.3348 \n  \"/>\n<path clip-path=\"url(#clip990)\" d=\"\nM2156.98 172.231 L2319.68 172.231 L2319.68 68.5509 L2156.98 68.5509  Z\n  \" fill=\"#ffffff\" fill-rule=\"evenodd\" fill-opacity=\"1\"/>\n<polyline clip-path=\"url(#clip990)\" style=\"stroke:#000000; stroke-linecap:butt; stroke-linejoin:round; stroke-width:4; stroke-opacity:1; fill:none\" points=\"\n  2156.98,172.231 2319.68,172.231 2319.68,68.5509 2156.98,68.5509 2156.98,172.231 \n  \"/>\n<polyline clip-path=\"url(#clip990)\" style=\"stroke:#009af9; stroke-linecap:butt; stroke-linejoin:round; stroke-width:4; stroke-opacity:1; fill:none\" points=\"\n  2168.01,120.391 2234.17,120.391 \n  \"/>\n<path clip-path=\"url(#clip990)\" d=\"M2259.04 140.078 Q2257.23 144.708 2255.52 146.12 Q2253.8 147.532 2250.93 147.532 L2247.53 147.532 L2247.53 143.967 L2250.03 143.967 Q2251.79 143.967 2252.76 143.134 Q2253.73 142.3 2254.91 139.199 L2255.68 137.254 L2245.19 111.745 L2249.71 111.745 L2257.81 132.023 L2265.91 111.745 L2270.42 111.745 L2259.04 140.078 Z\" fill=\"#000000\" fill-rule=\"evenodd\" fill-opacity=\"1\" /><path clip-path=\"url(#clip990)\" d=\"M2277.72 133.736 L2285.35 133.736 L2285.35 107.37 L2277.04 109.037 L2277.04 104.778 L2285.31 103.111 L2289.98 103.111 L2289.98 133.736 L2297.62 133.736 L2297.62 137.671 L2277.72 137.671 L2277.72 133.736 Z\" fill=\"#000000\" fill-rule=\"evenodd\" fill-opacity=\"1\" /><path clip-path=\"url(#clip990)\" d=\"\nM178.867 1486.45 L1171.26 1486.45 L1171.26 847.244 L178.867 847.244  Z\n  \" fill=\"#ffffff\" fill-rule=\"evenodd\" fill-opacity=\"1\"/>\n<defs>\n  <clipPath id=\"clip994\">\n    <rect x=\"178\" y=\"847\" width=\"993\" height=\"640\"/>\n  </clipPath>\n</defs>\n<polyline clip-path=\"url(#clip994)\" style=\"stroke:#000000; stroke-linecap:butt; stroke-linejoin:round; stroke-width:2; stroke-opacity:0.1; fill:none\" points=\"\n  206.953,1486.45 206.953,847.244 \n  \"/>\n<polyline clip-path=\"url(#clip994)\" style=\"stroke:#000000; stroke-linecap:butt; stroke-linejoin:round; stroke-width:2; stroke-opacity:0.1; fill:none\" points=\"\n  362.99,1486.45 362.99,847.244 \n  \"/>\n<polyline clip-path=\"url(#clip994)\" style=\"stroke:#000000; stroke-linecap:butt; stroke-linejoin:round; stroke-width:2; stroke-opacity:0.1; fill:none\" points=\"\n  519.028,1486.45 519.028,847.244 \n  \"/>\n<polyline clip-path=\"url(#clip994)\" style=\"stroke:#000000; stroke-linecap:butt; stroke-linejoin:round; stroke-width:2; stroke-opacity:0.1; fill:none\" points=\"\n  675.065,1486.45 675.065,847.244 \n  \"/>\n<polyline clip-path=\"url(#clip994)\" style=\"stroke:#000000; stroke-linecap:butt; stroke-linejoin:round; stroke-width:2; stroke-opacity:0.1; fill:none\" points=\"\n  831.102,1486.45 831.102,847.244 \n  \"/>\n<polyline clip-path=\"url(#clip994)\" style=\"stroke:#000000; stroke-linecap:butt; stroke-linejoin:round; stroke-width:2; stroke-opacity:0.1; fill:none\" points=\"\n  987.139,1486.45 987.139,847.244 \n  \"/>\n<polyline clip-path=\"url(#clip994)\" style=\"stroke:#000000; stroke-linecap:butt; stroke-linejoin:round; stroke-width:2; stroke-opacity:0.1; fill:none\" points=\"\n  1143.18,1486.45 1143.18,847.244 \n  \"/>\n<polyline clip-path=\"url(#clip990)\" style=\"stroke:#000000; stroke-linecap:butt; stroke-linejoin:round; stroke-width:4; stroke-opacity:1; fill:none\" points=\"\n  178.867,1486.45 1171.26,1486.45 \n  \"/>\n<polyline clip-path=\"url(#clip990)\" style=\"stroke:#000000; stroke-linecap:butt; stroke-linejoin:round; stroke-width:4; stroke-opacity:1; fill:none\" points=\"\n  206.953,1486.45 206.953,1467.55 \n  \"/>\n<polyline clip-path=\"url(#clip990)\" style=\"stroke:#000000; stroke-linecap:butt; stroke-linejoin:round; stroke-width:4; stroke-opacity:1; fill:none\" points=\"\n  362.99,1486.45 362.99,1467.55 \n  \"/>\n<polyline clip-path=\"url(#clip990)\" style=\"stroke:#000000; stroke-linecap:butt; stroke-linejoin:round; stroke-width:4; stroke-opacity:1; fill:none\" points=\"\n  519.028,1486.45 519.028,1467.55 \n  \"/>\n<polyline clip-path=\"url(#clip990)\" style=\"stroke:#000000; stroke-linecap:butt; stroke-linejoin:round; stroke-width:4; stroke-opacity:1; fill:none\" points=\"\n  675.065,1486.45 675.065,1467.55 \n  \"/>\n<polyline clip-path=\"url(#clip990)\" style=\"stroke:#000000; stroke-linecap:butt; stroke-linejoin:round; stroke-width:4; stroke-opacity:1; fill:none\" points=\"\n  831.102,1486.45 831.102,1467.55 \n  \"/>\n<polyline clip-path=\"url(#clip990)\" style=\"stroke:#000000; stroke-linecap:butt; stroke-linejoin:round; stroke-width:4; stroke-opacity:1; fill:none\" points=\"\n  987.139,1486.45 987.139,1467.55 \n  \"/>\n<polyline clip-path=\"url(#clip990)\" style=\"stroke:#000000; stroke-linecap:butt; stroke-linejoin:round; stroke-width:4; stroke-opacity:1; fill:none\" points=\"\n  1143.18,1486.45 1143.18,1467.55 \n  \"/>\n<path clip-path=\"url(#clip990)\" d=\"M176.421 1532.02 L206.097 1532.02 L206.097 1535.95 L176.421 1535.95 L176.421 1532.02 Z\" fill=\"#000000\" fill-rule=\"evenodd\" fill-opacity=\"1\" /><path clip-path=\"url(#clip990)\" d=\"M230.356 1530.21 Q233.712 1530.93 235.587 1533.2 Q237.486 1535.47 237.486 1538.8 Q237.486 1543.92 233.967 1546.72 Q230.449 1549.52 223.967 1549.52 Q221.791 1549.52 219.476 1549.08 Q217.185 1548.66 214.731 1547.81 L214.731 1543.29 Q216.675 1544.43 218.99 1545.01 Q221.305 1545.58 223.828 1545.58 Q228.226 1545.58 230.518 1543.85 Q232.833 1542.11 232.833 1538.8 Q232.833 1535.75 230.68 1534.03 Q228.55 1532.3 224.731 1532.3 L220.703 1532.3 L220.703 1528.45 L224.916 1528.45 Q228.365 1528.45 230.194 1527.09 Q232.023 1525.7 232.023 1523.11 Q232.023 1520.45 230.124 1519.03 Q228.249 1517.6 224.731 1517.6 Q222.81 1517.6 220.611 1518.01 Q218.412 1518.43 215.773 1519.31 L215.773 1515.14 Q218.435 1514.4 220.75 1514.03 Q223.087 1513.66 225.148 1513.66 Q230.472 1513.66 233.574 1516.09 Q236.675 1518.5 236.675 1522.62 Q236.675 1525.49 235.032 1527.48 Q233.388 1529.45 230.356 1530.21 Z\" fill=\"#000000\" fill-rule=\"evenodd\" fill-opacity=\"1\" /><path clip-path=\"url(#clip990)\" d=\"M332.933 1532.02 L362.608 1532.02 L362.608 1535.95 L332.933 1535.95 L332.933 1532.02 Z\" fill=\"#000000\" fill-rule=\"evenodd\" fill-opacity=\"1\" /><path clip-path=\"url(#clip990)\" d=\"M376.729 1544.91 L393.048 1544.91 L393.048 1548.85 L371.104 1548.85 L371.104 1544.91 Q373.766 1542.16 378.349 1537.53 Q382.956 1532.88 384.136 1531.53 Q386.382 1529.01 387.261 1527.27 Q388.164 1525.51 388.164 1523.82 Q388.164 1521.07 386.219 1519.33 Q384.298 1517.6 381.196 1517.6 Q378.997 1517.6 376.544 1518.36 Q374.113 1519.13 371.335 1520.68 L371.335 1515.95 Q374.159 1514.82 376.613 1514.24 Q379.067 1513.66 381.104 1513.66 Q386.474 1513.66 389.669 1516.35 Q392.863 1519.03 392.863 1523.52 Q392.863 1525.65 392.053 1527.57 Q391.266 1529.47 389.159 1532.07 Q388.581 1532.74 385.479 1535.95 Q382.377 1539.15 376.729 1544.91 Z\" fill=\"#000000\" fill-rule=\"evenodd\" fill-opacity=\"1\" /><path clip-path=\"url(#clip990)\" d=\"M488.785 1532.02 L518.46 1532.02 L518.46 1535.95 L488.785 1535.95 L488.785 1532.02 Z\" fill=\"#000000\" fill-rule=\"evenodd\" fill-opacity=\"1\" /><path clip-path=\"url(#clip990)\" d=\"M529.363 1544.91 L537.002 1544.91 L537.002 1518.55 L528.692 1520.21 L528.692 1515.95 L536.956 1514.29 L541.632 1514.29 L541.632 1544.91 L549.27 1544.91 L549.27 1548.85 L529.363 1548.85 L529.363 1544.91 Z\" fill=\"#000000\" fill-rule=\"evenodd\" fill-opacity=\"1\" /><path clip-path=\"url(#clip990)\" d=\"M675.065 1517.37 Q671.454 1517.37 669.625 1520.93 Q667.819 1524.47 667.819 1531.6 Q667.819 1538.71 669.625 1542.27 Q671.454 1545.82 675.065 1545.82 Q678.699 1545.82 680.504 1542.27 Q682.333 1538.71 682.333 1531.6 Q682.333 1524.47 680.504 1520.93 Q678.699 1517.37 675.065 1517.37 M675.065 1513.66 Q680.875 1513.66 683.93 1518.27 Q687.009 1522.85 687.009 1531.6 Q687.009 1540.33 683.93 1544.94 Q680.875 1549.52 675.065 1549.52 Q669.255 1549.52 666.176 1544.94 Q663.12 1540.33 663.12 1531.6 Q663.12 1522.85 666.176 1518.27 Q669.255 1513.66 675.065 1513.66 Z\" fill=\"#000000\" fill-rule=\"evenodd\" fill-opacity=\"1\" /><path clip-path=\"url(#clip990)\" d=\"M821.484 1544.91 L829.123 1544.91 L829.123 1518.55 L820.813 1520.21 L820.813 1515.95 L829.076 1514.29 L833.752 1514.29 L833.752 1544.91 L841.391 1544.91 L841.391 1548.85 L821.484 1548.85 L821.484 1544.91 Z\" fill=\"#000000\" fill-rule=\"evenodd\" fill-opacity=\"1\" /><path clip-path=\"url(#clip990)\" d=\"M981.792 1544.91 L998.111 1544.91 L998.111 1548.85 L976.167 1548.85 L976.167 1544.91 Q978.829 1542.16 983.412 1537.53 Q988.019 1532.88 989.199 1531.53 Q991.444 1529.01 992.324 1527.27 Q993.227 1525.51 993.227 1523.82 Q993.227 1521.07 991.282 1519.33 Q989.361 1517.6 986.259 1517.6 Q984.06 1517.6 981.607 1518.36 Q979.176 1519.13 976.398 1520.68 L976.398 1515.95 Q979.222 1514.82 981.676 1514.24 Q984.13 1513.66 986.167 1513.66 Q991.537 1513.66 994.731 1516.35 Q997.926 1519.03 997.926 1523.52 Q997.926 1525.65 997.116 1527.57 Q996.329 1529.47 994.222 1532.07 Q993.644 1532.74 990.542 1535.95 Q987.44 1539.15 981.792 1544.91 Z\" fill=\"#000000\" fill-rule=\"evenodd\" fill-opacity=\"1\" /><path clip-path=\"url(#clip990)\" d=\"M1147.42 1530.21 Q1150.78 1530.93 1152.66 1533.2 Q1154.55 1535.47 1154.55 1538.8 Q1154.55 1543.92 1151.03 1546.72 Q1147.52 1549.52 1141.03 1549.52 Q1138.86 1549.52 1136.54 1549.08 Q1134.25 1548.66 1131.8 1547.81 L1131.8 1543.29 Q1133.74 1544.43 1136.06 1545.01 Q1138.37 1545.58 1140.9 1545.58 Q1145.29 1545.58 1147.59 1543.85 Q1149.9 1542.11 1149.9 1538.8 Q1149.9 1535.75 1147.75 1534.03 Q1145.62 1532.3 1141.8 1532.3 L1137.77 1532.3 L1137.77 1528.45 L1141.98 1528.45 Q1145.43 1528.45 1147.26 1527.09 Q1149.09 1525.7 1149.09 1523.11 Q1149.09 1520.45 1147.19 1519.03 Q1145.32 1517.6 1141.8 1517.6 Q1139.88 1517.6 1137.68 1518.01 Q1135.48 1518.43 1132.84 1519.31 L1132.84 1515.14 Q1135.5 1514.4 1137.82 1514.03 Q1140.16 1513.66 1142.22 1513.66 Q1147.54 1513.66 1150.64 1516.09 Q1153.74 1518.5 1153.74 1522.62 Q1153.74 1525.49 1152.1 1527.48 Q1150.46 1529.45 1147.42 1530.21 Z\" fill=\"#000000\" fill-rule=\"evenodd\" fill-opacity=\"1\" /><polyline clip-path=\"url(#clip994)\" style=\"stroke:#000000; stroke-linecap:butt; stroke-linejoin:round; stroke-width:2; stroke-opacity:0.1; fill:none\" points=\"\n  178.867,1390.19 1171.26,1390.19 \n  \"/>\n<polyline clip-path=\"url(#clip994)\" style=\"stroke:#000000; stroke-linecap:butt; stroke-linejoin:round; stroke-width:2; stroke-opacity:0.1; fill:none\" points=\"\n  178.867,1278.52 1171.26,1278.52 \n  \"/>\n<polyline clip-path=\"url(#clip994)\" style=\"stroke:#000000; stroke-linecap:butt; stroke-linejoin:round; stroke-width:2; stroke-opacity:0.1; fill:none\" points=\"\n  178.867,1166.85 1171.26,1166.85 \n  \"/>\n<polyline clip-path=\"url(#clip994)\" style=\"stroke:#000000; stroke-linecap:butt; stroke-linejoin:round; stroke-width:2; stroke-opacity:0.1; fill:none\" points=\"\n  178.867,1055.18 1171.26,1055.18 \n  \"/>\n<polyline clip-path=\"url(#clip994)\" style=\"stroke:#000000; stroke-linecap:butt; stroke-linejoin:round; stroke-width:2; stroke-opacity:0.1; fill:none\" points=\"\n  178.867,943.504 1171.26,943.504 \n  \"/>\n<polyline clip-path=\"url(#clip990)\" style=\"stroke:#000000; stroke-linecap:butt; stroke-linejoin:round; stroke-width:4; stroke-opacity:1; fill:none\" points=\"\n  178.867,1486.45 178.867,847.244 \n  \"/>\n<polyline clip-path=\"url(#clip990)\" style=\"stroke:#000000; stroke-linecap:butt; stroke-linejoin:round; stroke-width:4; stroke-opacity:1; fill:none\" points=\"\n  178.867,1390.19 197.764,1390.19 \n  \"/>\n<polyline clip-path=\"url(#clip990)\" style=\"stroke:#000000; stroke-linecap:butt; stroke-linejoin:round; stroke-width:4; stroke-opacity:1; fill:none\" points=\"\n  178.867,1278.52 197.764,1278.52 \n  \"/>\n<polyline clip-path=\"url(#clip990)\" style=\"stroke:#000000; stroke-linecap:butt; stroke-linejoin:round; stroke-width:4; stroke-opacity:1; fill:none\" points=\"\n  178.867,1166.85 197.764,1166.85 \n  \"/>\n<polyline clip-path=\"url(#clip990)\" style=\"stroke:#000000; stroke-linecap:butt; stroke-linejoin:round; stroke-width:4; stroke-opacity:1; fill:none\" points=\"\n  178.867,1055.18 197.764,1055.18 \n  \"/>\n<polyline clip-path=\"url(#clip990)\" style=\"stroke:#000000; stroke-linecap:butt; stroke-linejoin:round; stroke-width:4; stroke-opacity:1; fill:none\" points=\"\n  178.867,943.504 197.764,943.504 \n  \"/>\n<path clip-path=\"url(#clip990)\" d=\"M50.9921 1390.64 L80.6679 1390.64 L80.6679 1394.57 L50.9921 1394.57 L50.9921 1390.64 Z\" fill=\"#000000\" fill-rule=\"evenodd\" fill-opacity=\"1\" /><path clip-path=\"url(#clip990)\" d=\"M94.7882 1403.53 L111.108 1403.53 L111.108 1407.47 L89.1632 1407.47 L89.1632 1403.53 Q91.8252 1400.78 96.4085 1396.15 Q101.015 1391.5 102.196 1390.15 Q104.441 1387.63 105.321 1385.89 Q106.223 1384.13 106.223 1382.44 Q106.223 1379.69 104.279 1377.95 Q102.358 1376.22 99.2558 1376.22 Q97.0567 1376.22 94.603 1376.98 Q92.1725 1377.75 89.3947 1379.3 L89.3947 1374.57 Q92.2188 1373.44 94.6724 1372.86 Q97.1261 1372.28 99.1632 1372.28 Q104.534 1372.28 107.728 1374.97 Q110.922 1377.65 110.922 1382.14 Q110.922 1384.27 110.112 1386.19 Q109.325 1388.09 107.219 1390.69 Q106.64 1391.36 103.538 1394.57 Q100.436 1397.77 94.7882 1403.53 Z\" fill=\"#000000\" fill-rule=\"evenodd\" fill-opacity=\"1\" /><path clip-path=\"url(#clip990)\" d=\"M130.922 1375.99 Q127.311 1375.99 125.482 1379.55 Q123.677 1383.09 123.677 1390.22 Q123.677 1397.33 125.482 1400.89 Q127.311 1404.44 130.922 1404.44 Q134.556 1404.44 136.362 1400.89 Q138.191 1397.33 138.191 1390.22 Q138.191 1383.09 136.362 1379.55 Q134.556 1375.99 130.922 1375.99 M130.922 1372.28 Q136.732 1372.28 139.788 1376.89 Q142.867 1381.47 142.867 1390.22 Q142.867 1398.95 139.788 1403.56 Q136.732 1408.14 130.922 1408.14 Q125.112 1408.14 122.033 1403.56 Q118.978 1398.95 118.978 1390.22 Q118.978 1381.47 122.033 1376.89 Q125.112 1372.28 130.922 1372.28 Z\" fill=\"#000000\" fill-rule=\"evenodd\" fill-opacity=\"1\" /><path clip-path=\"url(#clip990)\" d=\"M50.9921 1278.97 L80.6679 1278.97 L80.6679 1282.9 L50.9921 1282.9 L50.9921 1278.97 Z\" fill=\"#000000\" fill-rule=\"evenodd\" fill-opacity=\"1\" /><path clip-path=\"url(#clip990)\" d=\"M91.5706 1291.86 L99.2095 1291.86 L99.2095 1265.5 L90.8993 1267.16 L90.8993 1262.9 L99.1632 1261.24 L103.839 1261.24 L103.839 1291.86 L111.478 1291.86 L111.478 1295.8 L91.5706 1295.8 L91.5706 1291.86 Z\" fill=\"#000000\" fill-rule=\"evenodd\" fill-opacity=\"1\" /><path clip-path=\"url(#clip990)\" d=\"M130.922 1264.32 Q127.311 1264.32 125.482 1267.88 Q123.677 1271.42 123.677 1278.55 Q123.677 1285.66 125.482 1289.22 Q127.311 1292.76 130.922 1292.76 Q134.556 1292.76 136.362 1289.22 Q138.191 1285.66 138.191 1278.55 Q138.191 1271.42 136.362 1267.88 Q134.556 1264.32 130.922 1264.32 M130.922 1260.61 Q136.732 1260.61 139.788 1265.22 Q142.867 1269.8 142.867 1278.55 Q142.867 1287.28 139.788 1291.88 Q136.732 1296.47 130.922 1296.47 Q125.112 1296.47 122.033 1291.88 Q118.978 1287.28 118.978 1278.55 Q118.978 1269.8 122.033 1265.22 Q125.112 1260.61 130.922 1260.61 Z\" fill=\"#000000\" fill-rule=\"evenodd\" fill-opacity=\"1\" /><path clip-path=\"url(#clip990)\" d=\"M130.922 1152.64 Q127.311 1152.64 125.482 1156.21 Q123.677 1159.75 123.677 1166.88 Q123.677 1173.99 125.482 1177.55 Q127.311 1181.09 130.922 1181.09 Q134.556 1181.09 136.362 1177.55 Q138.191 1173.99 138.191 1166.88 Q138.191 1159.75 136.362 1156.21 Q134.556 1152.64 130.922 1152.64 M130.922 1148.94 Q136.732 1148.94 139.788 1153.55 Q142.867 1158.13 142.867 1166.88 Q142.867 1175.61 139.788 1180.21 Q136.732 1184.8 130.922 1184.8 Q125.112 1184.8 122.033 1180.21 Q118.978 1175.61 118.978 1166.88 Q118.978 1158.13 122.033 1153.55 Q125.112 1148.94 130.922 1148.94 Z\" fill=\"#000000\" fill-rule=\"evenodd\" fill-opacity=\"1\" /><path clip-path=\"url(#clip990)\" d=\"M91.5706 1068.52 L99.2095 1068.52 L99.2095 1042.15 L90.8993 1043.82 L90.8993 1039.56 L99.1632 1037.9 L103.839 1037.9 L103.839 1068.52 L111.478 1068.52 L111.478 1072.46 L91.5706 1072.46 L91.5706 1068.52 Z\" fill=\"#000000\" fill-rule=\"evenodd\" fill-opacity=\"1\" /><path clip-path=\"url(#clip990)\" d=\"M130.922 1040.97 Q127.311 1040.97 125.482 1044.54 Q123.677 1048.08 123.677 1055.21 Q123.677 1062.32 125.482 1065.88 Q127.311 1069.42 130.922 1069.42 Q134.556 1069.42 136.362 1065.88 Q138.191 1062.32 138.191 1055.21 Q138.191 1048.08 136.362 1044.54 Q134.556 1040.97 130.922 1040.97 M130.922 1037.27 Q136.732 1037.27 139.788 1041.88 Q142.867 1046.46 142.867 1055.21 Q142.867 1063.94 139.788 1068.54 Q136.732 1073.13 130.922 1073.13 Q125.112 1073.13 122.033 1068.54 Q118.978 1063.94 118.978 1055.21 Q118.978 1046.46 122.033 1041.88 Q125.112 1037.27 130.922 1037.27 Z\" fill=\"#000000\" fill-rule=\"evenodd\" fill-opacity=\"1\" /><path clip-path=\"url(#clip990)\" d=\"M94.7882 956.849 L111.108 956.849 L111.108 960.784 L89.1632 960.784 L89.1632 956.849 Q91.8252 954.095 96.4085 949.465 Q101.015 944.812 102.196 943.47 Q104.441 940.946 105.321 939.21 Q106.223 937.451 106.223 935.761 Q106.223 933.007 104.279 931.271 Q102.358 929.535 99.2558 929.535 Q97.0567 929.535 94.603 930.298 Q92.1725 931.062 89.3947 932.613 L89.3947 927.891 Q92.2188 926.757 94.6724 926.178 Q97.1261 925.599 99.1632 925.599 Q104.534 925.599 107.728 928.285 Q110.922 930.97 110.922 935.46 Q110.922 937.59 110.112 939.511 Q109.325 941.409 107.219 944.002 Q106.64 944.673 103.538 947.891 Q100.436 951.085 94.7882 956.849 Z\" fill=\"#000000\" fill-rule=\"evenodd\" fill-opacity=\"1\" /><path clip-path=\"url(#clip990)\" d=\"M130.922 929.303 Q127.311 929.303 125.482 932.868 Q123.677 936.409 123.677 943.539 Q123.677 950.646 125.482 954.21 Q127.311 957.752 130.922 957.752 Q134.556 957.752 136.362 954.21 Q138.191 950.646 138.191 943.539 Q138.191 936.409 136.362 932.868 Q134.556 929.303 130.922 929.303 M130.922 925.599 Q136.732 925.599 139.788 930.206 Q142.867 934.789 142.867 943.539 Q142.867 952.266 139.788 956.872 Q136.732 961.456 130.922 961.456 Q125.112 961.456 122.033 956.872 Q118.978 952.266 118.978 943.539 Q118.978 934.789 122.033 930.206 Q125.112 925.599 130.922 925.599 Z\" fill=\"#000000\" fill-rule=\"evenodd\" fill-opacity=\"1\" /><polyline clip-path=\"url(#clip994)\" style=\"stroke:#009af9; stroke-linecap:butt; stroke-linejoin:round; stroke-width:4; stroke-opacity:1; fill:none\" points=\"\n  206.953,1468.36 222.557,1439.2 238.161,1411.99 253.764,1386.65 269.368,1363.12 284.972,1341.33 300.576,1321.22 316.179,1302.72 331.783,1285.75 347.387,1270.26 \n  362.99,1256.18 378.594,1243.44 394.198,1231.97 409.802,1221.71 425.405,1212.59 441.009,1204.53 456.613,1197.49 472.216,1191.38 487.82,1186.14 503.424,1181.71 \n  519.028,1178.01 534.631,1174.99 550.235,1172.56 565.839,1170.68 581.442,1169.26 597.046,1168.24 612.65,1167.56 628.254,1167.15 643.857,1166.94 659.461,1166.86 \n  675.065,1166.85 690.668,1166.83 706.272,1166.76 721.876,1166.54 737.48,1166.13 753.083,1165.45 768.687,1164.43 784.291,1163.02 799.894,1161.13 815.498,1158.71 \n  831.102,1155.68 846.706,1151.98 862.309,1147.55 877.913,1142.31 893.517,1136.2 909.12,1129.16 924.724,1121.11 940.328,1111.98 955.932,1101.72 971.535,1090.25 \n  987.139,1077.51 1002.74,1063.43 1018.35,1047.94 1033.95,1030.98 1049.55,1012.47 1065.16,992.36 1080.76,970.573 1096.36,947.044 1111.97,921.706 1127.57,894.492 \n  1143.18,865.335 \n  \"/>\n<path clip-path=\"url(#clip990)\" d=\"\nM975.486 972.231 L1138.18 972.231 L1138.18 868.551 L975.486 868.551  Z\n  \" fill=\"#ffffff\" fill-rule=\"evenodd\" fill-opacity=\"1\"/>\n<polyline clip-path=\"url(#clip990)\" style=\"stroke:#000000; stroke-linecap:butt; stroke-linejoin:round; stroke-width:4; stroke-opacity:1; fill:none\" points=\"\n  975.486,972.231 1138.18,972.231 1138.18,868.551 975.486,868.551 975.486,972.231 \n  \"/>\n<polyline clip-path=\"url(#clip990)\" style=\"stroke:#009af9; stroke-linecap:butt; stroke-linejoin:round; stroke-width:4; stroke-opacity:1; fill:none\" points=\"\n  986.513,920.391 1052.67,920.391 \n  \"/>\n<path clip-path=\"url(#clip990)\" d=\"M1077.54 940.078 Q1075.74 944.708 1074.02 946.12 Q1072.31 947.532 1069.44 947.532 L1066.04 947.532 L1066.04 943.967 L1068.54 943.967 Q1070.3 943.967 1071.27 943.134 Q1072.24 942.3 1073.42 939.199 L1074.19 937.254 L1063.7 911.745 L1068.21 911.745 L1076.32 932.023 L1084.42 911.745 L1088.93 911.745 L1077.54 940.078 Z\" fill=\"#000000\" fill-rule=\"evenodd\" fill-opacity=\"1\" /><path clip-path=\"url(#clip990)\" d=\"M1096.22 933.736 L1103.86 933.736 L1103.86 907.37 L1095.55 909.037 L1095.55 904.778 L1103.81 903.111 L1108.49 903.111 L1108.49 933.736 L1116.13 933.736 L1116.13 937.671 L1096.22 937.671 L1096.22 933.736 Z\" fill=\"#000000\" fill-rule=\"evenodd\" fill-opacity=\"1\" /><path clip-path=\"url(#clip990)\" d=\"\nM1360.36 1486.45 L2352.76 1486.45 L2352.76 847.244 L1360.36 847.244  Z\n  \" fill=\"#ffffff\" fill-rule=\"evenodd\" fill-opacity=\"1\"/>\n<defs>\n  <clipPath id=\"clip995\">\n    <rect x=\"1360\" y=\"847\" width=\"993\" height=\"640\"/>\n  </clipPath>\n</defs>\n<polyline clip-path=\"url(#clip995)\" style=\"stroke:#000000; stroke-linecap:butt; stroke-linejoin:round; stroke-width:2; stroke-opacity:0.1; fill:none\" points=\"\n  1388.45,1486.45 1388.45,847.244 \n  \"/>\n<polyline clip-path=\"url(#clip995)\" style=\"stroke:#000000; stroke-linecap:butt; stroke-linejoin:round; stroke-width:2; stroke-opacity:0.1; fill:none\" points=\"\n  1544.48,1486.45 1544.48,847.244 \n  \"/>\n<polyline clip-path=\"url(#clip995)\" style=\"stroke:#000000; stroke-linecap:butt; stroke-linejoin:round; stroke-width:2; stroke-opacity:0.1; fill:none\" points=\"\n  1700.52,1486.45 1700.52,847.244 \n  \"/>\n<polyline clip-path=\"url(#clip995)\" style=\"stroke:#000000; stroke-linecap:butt; stroke-linejoin:round; stroke-width:2; stroke-opacity:0.1; fill:none\" points=\"\n  1856.56,1486.45 1856.56,847.244 \n  \"/>\n<polyline clip-path=\"url(#clip995)\" style=\"stroke:#000000; stroke-linecap:butt; stroke-linejoin:round; stroke-width:2; stroke-opacity:0.1; fill:none\" points=\"\n  2012.59,1486.45 2012.59,847.244 \n  \"/>\n<polyline clip-path=\"url(#clip995)\" style=\"stroke:#000000; stroke-linecap:butt; stroke-linejoin:round; stroke-width:2; stroke-opacity:0.1; fill:none\" points=\"\n  2168.63,1486.45 2168.63,847.244 \n  \"/>\n<polyline clip-path=\"url(#clip995)\" style=\"stroke:#000000; stroke-linecap:butt; stroke-linejoin:round; stroke-width:2; stroke-opacity:0.1; fill:none\" points=\"\n  2324.67,1486.45 2324.67,847.244 \n  \"/>\n<polyline clip-path=\"url(#clip990)\" style=\"stroke:#000000; stroke-linecap:butt; stroke-linejoin:round; stroke-width:4; stroke-opacity:1; fill:none\" points=\"\n  1360.36,1486.45 2352.76,1486.45 \n  \"/>\n<polyline clip-path=\"url(#clip990)\" style=\"stroke:#000000; stroke-linecap:butt; stroke-linejoin:round; stroke-width:4; stroke-opacity:1; fill:none\" points=\"\n  1388.45,1486.45 1388.45,1467.55 \n  \"/>\n<polyline clip-path=\"url(#clip990)\" style=\"stroke:#000000; stroke-linecap:butt; stroke-linejoin:round; stroke-width:4; stroke-opacity:1; fill:none\" points=\"\n  1544.48,1486.45 1544.48,1467.55 \n  \"/>\n<polyline clip-path=\"url(#clip990)\" style=\"stroke:#000000; stroke-linecap:butt; stroke-linejoin:round; stroke-width:4; stroke-opacity:1; fill:none\" points=\"\n  1700.52,1486.45 1700.52,1467.55 \n  \"/>\n<polyline clip-path=\"url(#clip990)\" style=\"stroke:#000000; stroke-linecap:butt; stroke-linejoin:round; stroke-width:4; stroke-opacity:1; fill:none\" points=\"\n  1856.56,1486.45 1856.56,1467.55 \n  \"/>\n<polyline clip-path=\"url(#clip990)\" style=\"stroke:#000000; stroke-linecap:butt; stroke-linejoin:round; stroke-width:4; stroke-opacity:1; fill:none\" points=\"\n  2012.59,1486.45 2012.59,1467.55 \n  \"/>\n<polyline clip-path=\"url(#clip990)\" style=\"stroke:#000000; stroke-linecap:butt; stroke-linejoin:round; stroke-width:4; stroke-opacity:1; fill:none\" points=\"\n  2168.63,1486.45 2168.63,1467.55 \n  \"/>\n<polyline clip-path=\"url(#clip990)\" style=\"stroke:#000000; stroke-linecap:butt; stroke-linejoin:round; stroke-width:4; stroke-opacity:1; fill:none\" points=\"\n  2324.67,1486.45 2324.67,1467.55 \n  \"/>\n<path clip-path=\"url(#clip990)\" d=\"M1357.91 1532.02 L1387.59 1532.02 L1387.59 1535.95 L1357.91 1535.95 L1357.91 1532.02 Z\" fill=\"#000000\" fill-rule=\"evenodd\" fill-opacity=\"1\" /><path clip-path=\"url(#clip990)\" d=\"M1411.85 1530.21 Q1415.21 1530.93 1417.08 1533.2 Q1418.98 1535.47 1418.98 1538.8 Q1418.98 1543.92 1415.46 1546.72 Q1411.94 1549.52 1405.46 1549.52 Q1403.28 1549.52 1400.97 1549.08 Q1398.68 1548.66 1396.22 1547.81 L1396.22 1543.29 Q1398.17 1544.43 1400.48 1545.01 Q1402.8 1545.58 1405.32 1545.58 Q1409.72 1545.58 1412.01 1543.85 Q1414.33 1542.11 1414.33 1538.8 Q1414.33 1535.75 1412.17 1534.03 Q1410.04 1532.3 1406.22 1532.3 L1402.2 1532.3 L1402.2 1528.45 L1406.41 1528.45 Q1409.86 1528.45 1411.69 1527.09 Q1413.52 1525.7 1413.52 1523.11 Q1413.52 1520.45 1411.62 1519.03 Q1409.74 1517.6 1406.22 1517.6 Q1404.3 1517.6 1402.1 1518.01 Q1399.9 1518.43 1397.27 1519.31 L1397.27 1515.14 Q1399.93 1514.4 1402.24 1514.03 Q1404.58 1513.66 1406.64 1513.66 Q1411.96 1513.66 1415.07 1516.09 Q1418.17 1518.5 1418.17 1522.62 Q1418.17 1525.49 1416.53 1527.48 Q1414.88 1529.45 1411.85 1530.21 Z\" fill=\"#000000\" fill-rule=\"evenodd\" fill-opacity=\"1\" /><path clip-path=\"url(#clip990)\" d=\"M1514.43 1532.02 L1544.1 1532.02 L1544.1 1535.95 L1514.43 1535.95 L1514.43 1532.02 Z\" fill=\"#000000\" fill-rule=\"evenodd\" fill-opacity=\"1\" /><path clip-path=\"url(#clip990)\" d=\"M1558.22 1544.91 L1574.54 1544.91 L1574.54 1548.85 L1552.6 1548.85 L1552.6 1544.91 Q1555.26 1542.16 1559.84 1537.53 Q1564.45 1532.88 1565.63 1531.53 Q1567.87 1529.01 1568.75 1527.27 Q1569.66 1525.51 1569.66 1523.82 Q1569.66 1521.07 1567.71 1519.33 Q1565.79 1517.6 1562.69 1517.6 Q1560.49 1517.6 1558.04 1518.36 Q1555.61 1519.13 1552.83 1520.68 L1552.83 1515.95 Q1555.65 1514.82 1558.11 1514.24 Q1560.56 1513.66 1562.6 1513.66 Q1567.97 1513.66 1571.16 1516.35 Q1574.36 1519.03 1574.36 1523.52 Q1574.36 1525.65 1573.55 1527.57 Q1572.76 1529.47 1570.65 1532.07 Q1570.07 1532.74 1566.97 1535.95 Q1563.87 1539.15 1558.22 1544.91 Z\" fill=\"#000000\" fill-rule=\"evenodd\" fill-opacity=\"1\" /><path clip-path=\"url(#clip990)\" d=\"M1670.28 1532.02 L1699.95 1532.02 L1699.95 1535.95 L1670.28 1535.95 L1670.28 1532.02 Z\" fill=\"#000000\" fill-rule=\"evenodd\" fill-opacity=\"1\" /><path clip-path=\"url(#clip990)\" d=\"M1710.86 1544.91 L1718.5 1544.91 L1718.5 1518.55 L1710.19 1520.21 L1710.19 1515.95 L1718.45 1514.29 L1723.12 1514.29 L1723.12 1544.91 L1730.76 1544.91 L1730.76 1548.85 L1710.86 1548.85 L1710.86 1544.91 Z\" fill=\"#000000\" fill-rule=\"evenodd\" fill-opacity=\"1\" /><path clip-path=\"url(#clip990)\" d=\"M1856.56 1517.37 Q1852.95 1517.37 1851.12 1520.93 Q1849.31 1524.47 1849.31 1531.6 Q1849.31 1538.71 1851.12 1542.27 Q1852.95 1545.82 1856.56 1545.82 Q1860.19 1545.82 1862 1542.27 Q1863.83 1538.71 1863.83 1531.6 Q1863.83 1524.47 1862 1520.93 Q1860.19 1517.37 1856.56 1517.37 M1856.56 1513.66 Q1862.37 1513.66 1865.42 1518.27 Q1868.5 1522.85 1868.5 1531.6 Q1868.5 1540.33 1865.42 1544.94 Q1862.37 1549.52 1856.56 1549.52 Q1850.75 1549.52 1847.67 1544.94 Q1844.61 1540.33 1844.61 1531.6 Q1844.61 1522.85 1847.67 1518.27 Q1850.75 1513.66 1856.56 1513.66 Z\" fill=\"#000000\" fill-rule=\"evenodd\" fill-opacity=\"1\" /><path clip-path=\"url(#clip990)\" d=\"M2002.98 1544.91 L2010.62 1544.91 L2010.62 1518.55 L2002.31 1520.21 L2002.31 1515.95 L2010.57 1514.29 L2015.25 1514.29 L2015.25 1544.91 L2022.88 1544.91 L2022.88 1548.85 L2002.98 1548.85 L2002.98 1544.91 Z\" fill=\"#000000\" fill-rule=\"evenodd\" fill-opacity=\"1\" /><path clip-path=\"url(#clip990)\" d=\"M2163.28 1544.91 L2179.6 1544.91 L2179.6 1548.85 L2157.66 1548.85 L2157.66 1544.91 Q2160.32 1542.16 2164.91 1537.53 Q2169.51 1532.88 2170.69 1531.53 Q2172.94 1529.01 2173.82 1527.27 Q2174.72 1525.51 2174.72 1523.82 Q2174.72 1521.07 2172.78 1519.33 Q2170.85 1517.6 2167.75 1517.6 Q2165.55 1517.6 2163.1 1518.36 Q2160.67 1519.13 2157.89 1520.68 L2157.89 1515.95 Q2160.72 1514.82 2163.17 1514.24 Q2165.62 1513.66 2167.66 1513.66 Q2173.03 1513.66 2176.22 1516.35 Q2179.42 1519.03 2179.42 1523.52 Q2179.42 1525.65 2178.61 1527.57 Q2177.82 1529.47 2175.72 1532.07 Q2175.14 1532.74 2172.03 1535.95 Q2168.93 1539.15 2163.28 1544.91 Z\" fill=\"#000000\" fill-rule=\"evenodd\" fill-opacity=\"1\" /><path clip-path=\"url(#clip990)\" d=\"M2328.92 1530.21 Q2332.27 1530.93 2334.15 1533.2 Q2336.05 1535.47 2336.05 1538.8 Q2336.05 1543.92 2332.53 1546.72 Q2329.01 1549.52 2322.53 1549.52 Q2320.35 1549.52 2318.04 1549.08 Q2315.75 1548.66 2313.29 1547.81 L2313.29 1543.29 Q2315.24 1544.43 2317.55 1545.01 Q2319.87 1545.58 2322.39 1545.58 Q2326.79 1545.58 2329.08 1543.85 Q2331.39 1542.11 2331.39 1538.8 Q2331.39 1535.75 2329.24 1534.03 Q2327.11 1532.3 2323.29 1532.3 L2319.26 1532.3 L2319.26 1528.45 L2323.48 1528.45 Q2326.93 1528.45 2328.75 1527.09 Q2330.58 1525.7 2330.58 1523.11 Q2330.58 1520.45 2328.69 1519.03 Q2326.81 1517.6 2323.29 1517.6 Q2321.37 1517.6 2319.17 1518.01 Q2316.97 1518.43 2314.33 1519.31 L2314.33 1515.14 Q2317 1514.4 2319.31 1514.03 Q2321.65 1513.66 2323.71 1513.66 Q2329.03 1513.66 2332.13 1516.09 Q2335.24 1518.5 2335.24 1522.62 Q2335.24 1525.49 2333.59 1527.48 Q2331.95 1529.45 2328.92 1530.21 Z\" fill=\"#000000\" fill-rule=\"evenodd\" fill-opacity=\"1\" /><polyline clip-path=\"url(#clip995)\" style=\"stroke:#000000; stroke-linecap:butt; stroke-linejoin:round; stroke-width:2; stroke-opacity:0.1; fill:none\" points=\"\n  1360.36,1468.36 2352.76,1468.36 \n  \"/>\n<polyline clip-path=\"url(#clip995)\" style=\"stroke:#000000; stroke-linecap:butt; stroke-linejoin:round; stroke-width:2; stroke-opacity:0.1; fill:none\" points=\"\n  1360.36,1319.46 2352.76,1319.46 \n  \"/>\n<polyline clip-path=\"url(#clip995)\" style=\"stroke:#000000; stroke-linecap:butt; stroke-linejoin:round; stroke-width:2; stroke-opacity:0.1; fill:none\" points=\"\n  1360.36,1170.57 2352.76,1170.57 \n  \"/>\n<polyline clip-path=\"url(#clip995)\" style=\"stroke:#000000; stroke-linecap:butt; stroke-linejoin:round; stroke-width:2; stroke-opacity:0.1; fill:none\" points=\"\n  1360.36,1021.67 2352.76,1021.67 \n  \"/>\n<polyline clip-path=\"url(#clip995)\" style=\"stroke:#000000; stroke-linecap:butt; stroke-linejoin:round; stroke-width:2; stroke-opacity:0.1; fill:none\" points=\"\n  1360.36,872.779 2352.76,872.779 \n  \"/>\n<polyline clip-path=\"url(#clip990)\" style=\"stroke:#000000; stroke-linecap:butt; stroke-linejoin:round; stroke-width:4; stroke-opacity:1; fill:none\" points=\"\n  1360.36,1486.45 1360.36,847.244 \n  \"/>\n<polyline clip-path=\"url(#clip990)\" style=\"stroke:#000000; stroke-linecap:butt; stroke-linejoin:round; stroke-width:4; stroke-opacity:1; fill:none\" points=\"\n  1360.36,1468.36 1379.26,1468.36 \n  \"/>\n<polyline clip-path=\"url(#clip990)\" style=\"stroke:#000000; stroke-linecap:butt; stroke-linejoin:round; stroke-width:4; stroke-opacity:1; fill:none\" points=\"\n  1360.36,1319.46 1379.26,1319.46 \n  \"/>\n<polyline clip-path=\"url(#clip990)\" style=\"stroke:#000000; stroke-linecap:butt; stroke-linejoin:round; stroke-width:4; stroke-opacity:1; fill:none\" points=\"\n  1360.36,1170.57 1379.26,1170.57 \n  \"/>\n<polyline clip-path=\"url(#clip990)\" style=\"stroke:#000000; stroke-linecap:butt; stroke-linejoin:round; stroke-width:4; stroke-opacity:1; fill:none\" points=\"\n  1360.36,1021.67 1379.26,1021.67 \n  \"/>\n<polyline clip-path=\"url(#clip990)\" style=\"stroke:#000000; stroke-linecap:butt; stroke-linejoin:round; stroke-width:4; stroke-opacity:1; fill:none\" points=\"\n  1360.36,872.779 1379.26,872.779 \n  \"/>\n<path clip-path=\"url(#clip990)\" d=\"M1312.42 1454.16 Q1308.8 1454.16 1306.98 1457.72 Q1305.17 1461.26 1305.17 1468.39 Q1305.17 1475.5 1306.98 1479.06 Q1308.8 1482.6 1312.42 1482.6 Q1316.05 1482.6 1317.86 1479.06 Q1319.68 1475.5 1319.68 1468.39 Q1319.68 1461.26 1317.86 1457.72 Q1316.05 1454.16 1312.42 1454.16 M1312.42 1450.45 Q1318.23 1450.45 1321.28 1455.06 Q1324.36 1459.64 1324.36 1468.39 Q1324.36 1477.12 1321.28 1481.73 Q1318.23 1486.31 1312.42 1486.31 Q1306.61 1486.31 1303.53 1481.73 Q1300.47 1477.12 1300.47 1468.39 Q1300.47 1459.64 1303.53 1455.06 Q1306.61 1450.45 1312.42 1450.45 Z\" fill=\"#000000\" fill-rule=\"evenodd\" fill-opacity=\"1\" /><path clip-path=\"url(#clip990)\" d=\"M1276.28 1332.81 L1292.6 1332.81 L1292.6 1336.74 L1270.66 1336.74 L1270.66 1332.81 Q1273.32 1330.05 1277.9 1325.42 Q1282.51 1320.77 1283.69 1319.43 Q1285.93 1316.9 1286.81 1315.17 Q1287.72 1313.41 1287.72 1311.72 Q1287.72 1308.97 1285.77 1307.23 Q1283.85 1305.49 1280.75 1305.49 Q1278.55 1305.49 1276.1 1306.26 Q1273.67 1307.02 1270.89 1308.57 L1270.89 1303.85 Q1273.71 1302.72 1276.17 1302.14 Q1278.62 1301.56 1280.66 1301.56 Q1286.03 1301.56 1289.22 1304.24 Q1292.42 1306.93 1292.42 1311.42 Q1292.42 1313.55 1291.61 1315.47 Q1290.82 1317.37 1288.71 1319.96 Q1288.13 1320.63 1285.03 1323.85 Q1281.93 1327.04 1276.28 1332.81 Z\" fill=\"#000000\" fill-rule=\"evenodd\" fill-opacity=\"1\" /><path clip-path=\"url(#clip990)\" d=\"M1312.42 1305.26 Q1308.8 1305.26 1306.98 1308.83 Q1305.17 1312.37 1305.17 1319.5 Q1305.17 1326.6 1306.98 1330.17 Q1308.8 1333.71 1312.42 1333.71 Q1316.05 1333.71 1317.86 1330.17 Q1319.68 1326.6 1319.68 1319.5 Q1319.68 1312.37 1317.86 1308.83 Q1316.05 1305.26 1312.42 1305.26 M1312.42 1301.56 Q1318.23 1301.56 1321.28 1306.16 Q1324.36 1310.75 1324.36 1319.5 Q1324.36 1328.22 1321.28 1332.83 Q1318.23 1337.41 1312.42 1337.41 Q1306.61 1337.41 1303.53 1332.83 Q1300.47 1328.22 1300.47 1319.5 Q1300.47 1310.75 1303.53 1306.16 Q1306.61 1301.56 1312.42 1301.56 Z\" fill=\"#000000\" fill-rule=\"evenodd\" fill-opacity=\"1\" /><path clip-path=\"url(#clip990)\" d=\"M1285.1 1157.36 L1273.3 1175.81 L1285.1 1175.81 L1285.1 1157.36 M1283.87 1153.29 L1289.75 1153.29 L1289.75 1175.81 L1294.68 1175.81 L1294.68 1179.7 L1289.75 1179.7 L1289.75 1187.85 L1285.1 1187.85 L1285.1 1179.7 L1269.5 1179.7 L1269.5 1175.19 L1283.87 1153.29 Z\" fill=\"#000000\" fill-rule=\"evenodd\" fill-opacity=\"1\" /><path clip-path=\"url(#clip990)\" d=\"M1312.42 1156.37 Q1308.8 1156.37 1306.98 1159.93 Q1305.17 1163.47 1305.17 1170.6 Q1305.17 1177.71 1306.98 1181.27 Q1308.8 1184.82 1312.42 1184.82 Q1316.05 1184.82 1317.86 1181.27 Q1319.68 1177.71 1319.68 1170.6 Q1319.68 1163.47 1317.86 1159.93 Q1316.05 1156.37 1312.42 1156.37 M1312.42 1152.66 Q1318.23 1152.66 1321.28 1157.27 Q1324.36 1161.85 1324.36 1170.6 Q1324.36 1179.33 1321.28 1183.94 Q1318.23 1188.52 1312.42 1188.52 Q1306.61 1188.52 1303.53 1183.94 Q1300.47 1179.33 1300.47 1170.6 Q1300.47 1161.85 1303.53 1157.27 Q1306.61 1152.66 1312.42 1152.66 Z\" fill=\"#000000\" fill-rule=\"evenodd\" fill-opacity=\"1\" /><path clip-path=\"url(#clip990)\" d=\"M1282.83 1019.81 Q1279.68 1019.81 1277.83 1021.96 Q1276 1024.12 1276 1027.87 Q1276 1031.59 1277.83 1033.77 Q1279.68 1035.92 1282.83 1035.92 Q1285.98 1035.92 1287.81 1033.77 Q1289.66 1031.59 1289.66 1027.87 Q1289.66 1024.12 1287.81 1021.96 Q1285.98 1019.81 1282.83 1019.81 M1292.11 1005.16 L1292.11 1009.42 Q1290.36 1008.58 1288.55 1008.14 Q1286.77 1007.7 1285.01 1007.7 Q1280.38 1007.7 1277.92 1010.83 Q1275.49 1013.95 1275.15 1020.27 Q1276.51 1018.26 1278.57 1017.19 Q1280.63 1016.11 1283.11 1016.11 Q1288.32 1016.11 1291.33 1019.28 Q1294.36 1022.43 1294.36 1027.87 Q1294.36 1033.19 1291.21 1036.41 Q1288.06 1039.63 1282.83 1039.63 Q1276.84 1039.63 1273.67 1035.04 Q1270.49 1030.44 1270.49 1021.71 Q1270.49 1013.51 1274.38 1008.65 Q1278.27 1003.77 1284.82 1003.77 Q1286.58 1003.77 1288.36 1004.12 Q1290.17 1004.46 1292.11 1005.16 Z\" fill=\"#000000\" fill-rule=\"evenodd\" fill-opacity=\"1\" /><path clip-path=\"url(#clip990)\" d=\"M1312.42 1007.47 Q1308.8 1007.47 1306.98 1011.04 Q1305.17 1014.58 1305.17 1021.71 Q1305.17 1028.82 1306.98 1032.38 Q1308.8 1035.92 1312.42 1035.92 Q1316.05 1035.92 1317.86 1032.38 Q1319.68 1028.82 1319.68 1021.71 Q1319.68 1014.58 1317.86 1011.04 Q1316.05 1007.47 1312.42 1007.47 M1312.42 1003.77 Q1318.23 1003.77 1321.28 1008.38 Q1324.36 1012.96 1324.36 1021.71 Q1324.36 1030.44 1321.28 1035.04 Q1318.23 1039.63 1312.42 1039.63 Q1306.61 1039.63 1303.53 1035.04 Q1300.47 1030.44 1300.47 1021.71 Q1300.47 1012.96 1303.53 1008.38 Q1306.61 1003.77 1312.42 1003.77 Z\" fill=\"#000000\" fill-rule=\"evenodd\" fill-opacity=\"1\" /><path clip-path=\"url(#clip990)\" d=\"M1282.25 873.648 Q1278.92 873.648 1277 875.43 Q1275.1 877.212 1275.1 880.337 Q1275.1 883.462 1277 885.245 Q1278.92 887.027 1282.25 887.027 Q1285.59 887.027 1287.51 885.245 Q1289.43 883.439 1289.43 880.337 Q1289.43 877.212 1287.51 875.43 Q1285.61 873.648 1282.25 873.648 M1277.58 871.657 Q1274.57 870.916 1272.88 868.856 Q1271.21 866.796 1271.21 863.833 Q1271.21 859.689 1274.15 857.282 Q1277.11 854.874 1282.25 854.874 Q1287.42 854.874 1290.36 857.282 Q1293.3 859.689 1293.3 863.833 Q1293.3 866.796 1291.61 868.856 Q1289.94 870.916 1286.95 871.657 Q1290.33 872.444 1292.21 874.735 Q1294.11 877.027 1294.11 880.337 Q1294.11 885.36 1291.03 888.046 Q1287.97 890.731 1282.25 890.731 Q1276.54 890.731 1273.46 888.046 Q1270.4 885.36 1270.4 880.337 Q1270.4 877.027 1272.3 874.735 Q1274.2 872.444 1277.58 871.657 M1275.86 864.273 Q1275.86 866.958 1277.53 868.462 Q1279.22 869.967 1282.25 869.967 Q1285.26 869.967 1286.95 868.462 Q1288.67 866.958 1288.67 864.273 Q1288.67 861.587 1286.95 860.083 Q1285.26 858.578 1282.25 858.578 Q1279.22 858.578 1277.53 860.083 Q1275.86 861.587 1275.86 864.273 Z\" fill=\"#000000\" fill-rule=\"evenodd\" fill-opacity=\"1\" /><path clip-path=\"url(#clip990)\" d=\"M1312.42 858.578 Q1308.8 858.578 1306.98 862.143 Q1305.17 865.685 1305.17 872.814 Q1305.17 879.921 1306.98 883.485 Q1308.8 887.027 1312.42 887.027 Q1316.05 887.027 1317.86 883.485 Q1319.68 879.921 1319.68 872.814 Q1319.68 865.685 1317.86 862.143 Q1316.05 858.578 1312.42 858.578 M1312.42 854.874 Q1318.23 854.874 1321.28 859.481 Q1324.36 864.064 1324.36 872.814 Q1324.36 881.541 1321.28 886.147 Q1318.23 890.731 1312.42 890.731 Q1306.61 890.731 1303.53 886.147 Q1300.47 881.541 1300.47 872.814 Q1300.47 864.064 1303.53 859.481 Q1306.61 854.874 1312.42 854.874 Z\" fill=\"#000000\" fill-rule=\"evenodd\" fill-opacity=\"1\" /><polyline clip-path=\"url(#clip995)\" style=\"stroke:#009af9; stroke-linecap:butt; stroke-linejoin:round; stroke-width:4; stroke-opacity:1; fill:none\" points=\"\n  1388.45,865.335 1404.05,941.806 1419.65,1010.76 1435.26,1072.71 1450.86,1128.15 1466.47,1177.55 1482.07,1221.36 1497.67,1260.02 1513.28,1293.96 1528.88,1323.57 \n  1544.48,1349.24 1560.09,1371.34 1575.69,1390.21 1591.29,1406.18 1606.9,1419.57 1622.5,1430.67 1638.11,1439.76 1653.71,1447.09 1669.31,1452.92 1684.92,1457.46 \n  1700.52,1460.91 1716.12,1463.47 1731.73,1465.31 1747.33,1466.57 1762.94,1467.39 1778.54,1467.89 1794.14,1468.17 1809.75,1468.3 1825.35,1468.35 1840.95,1468.36 \n  1856.56,1468.36 1872.16,1468.36 1887.77,1468.35 1903.37,1468.3 1918.97,1468.17 1934.58,1467.89 1950.18,1467.39 1965.78,1466.57 1981.39,1465.31 1996.99,1463.47 \n  2012.59,1460.91 2028.2,1457.46 2043.8,1452.92 2059.41,1447.09 2075.01,1439.76 2090.61,1430.67 2106.22,1419.57 2121.82,1406.18 2137.42,1390.21 2153.03,1371.34 \n  2168.63,1349.24 2184.24,1323.57 2199.84,1293.96 2215.44,1260.02 2231.05,1221.36 2246.65,1177.55 2262.25,1128.15 2277.86,1072.71 2293.46,1010.76 2309.07,941.806 \n  2324.67,865.335 \n  \"/>\n<path clip-path=\"url(#clip990)\" d=\"\nM2156.98 972.231 L2319.68 972.231 L2319.68 868.551 L2156.98 868.551  Z\n  \" fill=\"#ffffff\" fill-rule=\"evenodd\" fill-opacity=\"1\"/>\n<polyline clip-path=\"url(#clip990)\" style=\"stroke:#000000; stroke-linecap:butt; stroke-linejoin:round; stroke-width:4; stroke-opacity:1; fill:none\" points=\"\n  2156.98,972.231 2319.68,972.231 2319.68,868.551 2156.98,868.551 2156.98,972.231 \n  \"/>\n<polyline clip-path=\"url(#clip990)\" style=\"stroke:#009af9; stroke-linecap:butt; stroke-linejoin:round; stroke-width:4; stroke-opacity:1; fill:none\" points=\"\n  2168.01,920.391 2234.17,920.391 \n  \"/>\n<path clip-path=\"url(#clip990)\" d=\"M2259.04 940.078 Q2257.23 944.708 2255.52 946.12 Q2253.8 947.532 2250.93 947.532 L2247.53 947.532 L2247.53 943.967 L2250.03 943.967 Q2251.79 943.967 2252.76 943.134 Q2253.73 942.3 2254.91 939.199 L2255.68 937.254 L2245.19 911.745 L2249.71 911.745 L2257.81 932.023 L2265.91 911.745 L2270.42 911.745 L2259.04 940.078 Z\" fill=\"#000000\" fill-rule=\"evenodd\" fill-opacity=\"1\" /><path clip-path=\"url(#clip990)\" d=\"M2277.72 933.736 L2285.35 933.736 L2285.35 907.37 L2277.04 909.037 L2277.04 904.778 L2285.31 903.111 L2289.98 903.111 L2289.98 933.736 L2297.62 933.736 L2297.62 937.671 L2277.72 937.671 L2277.72 933.736 Z\" fill=\"#000000\" fill-rule=\"evenodd\" fill-opacity=\"1\" /></svg>\n"
     },
     "execution_count": 66,
     "metadata": {},
     "output_type": "execute_result"
    }
   ],
   "source": [
    "p1 = plot(x, x)\n",
    "p2 = plot(x, x.^2)\n",
    "p3 = plot(x, x.^3)\n",
    "p4 = plot(x, x.^4)\n",
    "plot(p1, p2, p3, p4, layout=(2,2), lengend=false)"
   ]
  },
  {
   "cell_type": "markdown",
   "metadata": {},
   "source": [
    "## Structs\n",
    "\n",
    "You can have structs in Julia by using the `struct` keyword, put your different field names inside the body, and then close it off with an `end` keyword."
   ]
  },
  {
   "cell_type": "code",
   "execution_count": 67,
   "metadata": {},
   "outputs": [],
   "source": [
    "struct MyObj\n",
    "    field1\n",
    "    field2\n",
    "end"
   ]
  },
  {
   "cell_type": "code",
   "execution_count": 68,
   "metadata": {},
   "outputs": [
    {
     "data": {
      "text/plain": [
       "MyObj(\"Hello\", \"World\")"
      ]
     },
     "execution_count": 68,
     "metadata": {},
     "output_type": "execute_result"
    }
   ],
   "source": [
    "myobj1 = MyObj(\"Hello\", \"World\")"
   ]
  },
  {
   "cell_type": "code",
   "execution_count": 69,
   "metadata": {},
   "outputs": [
    {
     "name": "stdout",
     "output_type": "stream",
     "text": [
      "Hello\n",
      "World\n"
     ]
    }
   ],
   "source": [
    "println(myobj1.field1)\n",
    "println(myobj1.field2)"
   ]
  },
  {
   "cell_type": "markdown",
   "metadata": {},
   "source": [
    "If you want your struct to be mutable, you need to use the `mutable` keyword:"
   ]
  },
  {
   "cell_type": "code",
   "execution_count": 70,
   "metadata": {},
   "outputs": [],
   "source": [
    "mutable struct Person\n",
    "    name\n",
    "    age\n",
    "end"
   ]
  },
  {
   "cell_type": "code",
   "execution_count": 73,
   "metadata": {},
   "outputs": [
    {
     "name": "stdout",
     "output_type": "stream",
     "text": [
      "20\n",
      "21\n"
     ]
    }
   ],
   "source": [
    "myobj2 = Person(\"Trevor\", 20)\n",
    "println(myobj2.age)\n",
    "myobj2.age += 1\n",
    "println(myobj2.age)"
   ]
  },
  {
   "cell_type": "markdown",
   "metadata": {},
   "source": [
    "> **NOTE:** You can manually set types using the `::` followed by the type that you want to force\n",
    "\n",
    "## Basic Linear Algebra\n",
    "\n",
    "When it comes to performing linear algebra operations in Julia, the syntax is very similar to MATLAB. For example, here's create a matrix:"
   ]
  },
  {
   "cell_type": "code",
   "execution_count": 74,
   "metadata": {},
   "outputs": [
    {
     "data": {
      "text/plain": [
       "3×3 Matrix{Int64}:\n",
       " 4  4  3\n",
       " 2  1  4\n",
       " 1  1  3"
      ]
     },
     "execution_count": 74,
     "metadata": {},
     "output_type": "execute_result"
    }
   ],
   "source": [
    "Q = rand(1:4, 3, 3)"
   ]
  },
  {
   "cell_type": "code",
   "execution_count": 76,
   "metadata": {},
   "outputs": [
    {
     "data": {
      "text/plain": [
       "3×6 Matrix{Int64}:\n",
       " 4  4  3  4  4  3\n",
       " 2  1  4  2  1  4\n",
       " 1  1  3  1  1  3"
      ]
     },
     "execution_count": 76,
     "metadata": {},
     "output_type": "execute_result"
    }
   ],
   "source": [
    "R = Q # alias\n",
    "S = copy(Q) # this is actually a new matrix\n",
    "[R S]"
   ]
  },
  {
   "cell_type": "code",
   "execution_count": 77,
   "metadata": {},
   "outputs": [
    {
     "data": {
      "text/plain": [
       "3-element Vector{Float64}:\n",
       " 1.0\n",
       " 1.0\n",
       " 1.0"
      ]
     },
     "execution_count": 77,
     "metadata": {},
     "output_type": "execute_result"
    }
   ],
   "source": [
    "x = ones(3)"
   ]
  },
  {
   "cell_type": "code",
   "execution_count": 79,
   "metadata": {},
   "outputs": [
    {
     "data": {
      "text/plain": [
       "3-element Vector{Float64}:\n",
       " 11.0\n",
       "  7.0\n",
       "  5.0"
      ]
     },
     "execution_count": 79,
     "metadata": {},
     "output_type": "execute_result"
    }
   ],
   "source": [
    "b = Q * x # matrix multiplication"
   ]
  },
  {
   "cell_type": "markdown",
   "metadata": {},
   "source": [
    "There are two different transposes. The regular transpose uses the broadcasting notation `.'` whereas the conjugate transpose uses simply `'`:"
   ]
  },
  {
   "cell_type": "code",
   "execution_count": 80,
   "metadata": {},
   "outputs": [
    {
     "data": {
      "text/plain": [
       "3×3 Matrix{Int64}:\n",
       " 8  6  4\n",
       " 6  2  5\n",
       " 4  5  6"
      ]
     },
     "execution_count": 80,
     "metadata": {},
     "output_type": "execute_result"
    }
   ],
   "source": [
    "Asym = Q + Q'"
   ]
  },
  {
   "cell_type": "markdown",
   "metadata": {},
   "source": [
    "We don't actually have to use the `*` operator when doing transpose multiplication!"
   ]
  },
  {
   "cell_type": "code",
   "execution_count": 81,
   "metadata": {},
   "outputs": [
    {
     "data": {
      "text/plain": [
       "3×3 Matrix{Int64}:\n",
       " 21  19  23\n",
       " 19  18  19\n",
       " 23  19  34"
      ]
     },
     "execution_count": 81,
     "metadata": {},
     "output_type": "execute_result"
    }
   ],
   "source": [
    "W = Q'Q"
   ]
  },
  {
   "cell_type": "markdown",
   "metadata": {},
   "source": [
    "We can solve linear systems using the `\\` operator:"
   ]
  },
  {
   "cell_type": "code",
   "execution_count": 82,
   "metadata": {},
   "outputs": [
    {
     "data": {
      "text/plain": [
       "3-element Vector{Float64}:\n",
       " 1.0\n",
       " 1.0\n",
       " 1.0"
      ]
     },
     "execution_count": 82,
     "metadata": {},
     "output_type": "execute_result"
    }
   ],
   "source": [
    "Q\\b"
   ]
  },
  {
   "cell_type": "markdown",
   "metadata": {},
   "source": [
    "If there is no solution to your system, Julia will return the least-squares solution. `\\` also works for rank deficient least squares problems. But in this case, the least squares solution is not unique and Julia will return the solution with the smallest norm. If the system is underdetermined, the `\\` operator will return the minimum norm solution."
   ]
  }
 ],
 "metadata": {
  "kernelspec": {
   "display_name": "Julia 1.7.0",
   "language": "julia",
   "name": "julia-1.7"
  },
  "language_info": {
   "file_extension": ".jl",
   "mimetype": "application/julia",
   "name": "julia",
   "version": "1.7.0"
  },
  "orig_nbformat": 4
 },
 "nbformat": 4,
 "nbformat_minor": 2
}
